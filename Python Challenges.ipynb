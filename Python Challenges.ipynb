{
 "cells": [
  {
   "cell_type": "markdown",
   "metadata": {},
   "source": [
    "<b>Son güncelleme:10.03.2020</b>"
   ]
  },
  {
   "cell_type": "markdown",
   "metadata": {
    "toc": true
   },
   "source": [
    "<h1>Table of Contents<span class=\"tocSkip\"></span></h1>\n",
    "<div class=\"toc\"><ul class=\"toc-item\"><li><span><a href=\"#Giriş\" data-toc-modified-id=\"Giriş-1\"><span class=\"toc-item-num\">1&nbsp;&nbsp;</span>Giriş</a></span></li><li><span><a href=\"#Temel-Python-Soruları\" data-toc-modified-id=\"Temel-Python-Soruları-2\"><span class=\"toc-item-num\">2&nbsp;&nbsp;</span>Temel Python Soruları</a></span><ul class=\"toc-item\"><li><span><a href=\"#En-uzun-kelime\" data-toc-modified-id=\"En-uzun-kelime-2.1\"><span class=\"toc-item-num\">2.1&nbsp;&nbsp;</span>En uzun kelime</a></span></li><li><span><a href=\"#Karakter-frekansı\" data-toc-modified-id=\"Karakter-frekansı-2.2\"><span class=\"toc-item-num\">2.2&nbsp;&nbsp;</span>Karakter frekansı</a></span></li><li><span><a href=\"#Sadece-nümerik-elemanların-tespiti\" data-toc-modified-id=\"Sadece-nümerik-elemanların-tespiti-2.3\"><span class=\"toc-item-num\">2.3&nbsp;&nbsp;</span>Sadece nümerik elemanların tespiti</a></span></li><li><span><a href=\"#Faktöriyel\" data-toc-modified-id=\"Faktöriyel-2.4\"><span class=\"toc-item-num\">2.4&nbsp;&nbsp;</span>Faktöriyel</a></span></li><li><span><a href=\"#Metni-terse-çevir\" data-toc-modified-id=\"Metni-terse-çevir-2.5\"><span class=\"toc-item-num\">2.5&nbsp;&nbsp;</span>Metni terse çevir</a></span></li><li><span><a href=\"#Cümledeki-kelimeleri-ters-sırada-yazdırma\" data-toc-modified-id=\"Cümledeki-kelimeleri-ters-sırada-yazdırma-2.6\"><span class=\"toc-item-num\">2.6&nbsp;&nbsp;</span>Cümledeki kelimeleri ters sırada yazdırma</a></span></li><li><span><a href=\"#Basit-bir-şifreleme-algoritması\" data-toc-modified-id=\"Basit-bir-şifreleme-algoritması-2.7\"><span class=\"toc-item-num\">2.7&nbsp;&nbsp;</span>Basit bir şifreleme algoritması</a></span></li><li><span><a href=\"#Kümülatif-toplama\" data-toc-modified-id=\"Kümülatif-toplama-2.8\"><span class=\"toc-item-num\">2.8&nbsp;&nbsp;</span>Kümülatif toplama</a></span></li><li><span><a href=\"#Merge-Sort\" data-toc-modified-id=\"Merge-Sort-2.9\"><span class=\"toc-item-num\">2.9&nbsp;&nbsp;</span>Merge Sort</a></span></li><li><span><a href=\"#Mükemmel-sayı\" data-toc-modified-id=\"Mükemmel-sayı-2.10\"><span class=\"toc-item-num\">2.10&nbsp;&nbsp;</span>Mükemmel sayı</a></span></li><li><span><a href=\"#EBOB-fonksiyonu\" data-toc-modified-id=\"EBOB-fonksiyonu-2.11\"><span class=\"toc-item-num\">2.11&nbsp;&nbsp;</span>EBOB fonksiyonu</a></span></li><li><span><a href=\"#EKOK-bulma\" data-toc-modified-id=\"EKOK-bulma-2.12\"><span class=\"toc-item-num\">2.12&nbsp;&nbsp;</span>EKOK bulma</a></span></li><li><span><a href=\"#Asal-sayı-bulma\" data-toc-modified-id=\"Asal-sayı-bulma-2.13\"><span class=\"toc-item-num\">2.13&nbsp;&nbsp;</span>Asal sayı bulma</a></span></li><li><span><a href=\"#Sayı-okunuşu\" data-toc-modified-id=\"Sayı-okunuşu-2.14\"><span class=\"toc-item-num\">2.14&nbsp;&nbsp;</span>Sayı okunuşu</a></span></li><li><span><a href=\"#Pisagor-sayıları\" data-toc-modified-id=\"Pisagor-sayıları-2.15\"><span class=\"toc-item-num\">2.15&nbsp;&nbsp;</span>Pisagor sayıları</a></span></li><li><span><a href=\"#Dizi-birleştirme\" data-toc-modified-id=\"Dizi-birleştirme-2.16\"><span class=\"toc-item-num\">2.16&nbsp;&nbsp;</span>Dizi birleştirme</a></span></li><li><span><a href=\"#Karakter-frekansı-bulma\" data-toc-modified-id=\"Karakter-frekansı-bulma-2.17\"><span class=\"toc-item-num\">2.17&nbsp;&nbsp;</span>Karakter frekansı bulma</a></span></li><li><span><a href=\"#Kelime-frekansı-bulma\" data-toc-modified-id=\"Kelime-frekansı-bulma-2.18\"><span class=\"toc-item-num\">2.18&nbsp;&nbsp;</span>Kelime frekansı bulma</a></span></li><li><span><a href=\"#İki-listenin-ortak-elemanları\" data-toc-modified-id=\"İki-listenin-ortak-elemanları-2.19\"><span class=\"toc-item-num\">2.19&nbsp;&nbsp;</span>İki listenin ortak elemanları</a></span></li><li><span><a href=\"#Palindrome-tespiti\" data-toc-modified-id=\"Palindrome-tespiti-2.20\"><span class=\"toc-item-num\">2.20&nbsp;&nbsp;</span>Palindrome tespiti</a></span></li><li><span><a href=\"#Dizi-elemanları-farklı-mı\" data-toc-modified-id=\"Dizi-elemanları-farklı-mı-2.21\"><span class=\"toc-item-num\">2.21&nbsp;&nbsp;</span>Dizi elemanları farklı mı</a></span></li><li><span><a href=\"#Kelime-sırası\" data-toc-modified-id=\"Kelime-sırası-2.22\"><span class=\"toc-item-num\">2.22&nbsp;&nbsp;</span>Kelime sırası</a></span></li><li><span><a href=\"#Liste-tarama\" data-toc-modified-id=\"Liste-tarama-2.23\"><span class=\"toc-item-num\">2.23&nbsp;&nbsp;</span>Liste tarama</a></span></li><li><span><a href=\"#Çift-sayıların-karesi\" data-toc-modified-id=\"Çift-sayıların-karesi-2.24\"><span class=\"toc-item-num\">2.24&nbsp;&nbsp;</span>Çift sayıların karesi</a></span></li><li><span><a href=\"#Mailden-ad-soyad-bulma\" data-toc-modified-id=\"Mailden-ad-soyad-bulma-2.25\"><span class=\"toc-item-num\">2.25&nbsp;&nbsp;</span>Mailden ad-soyad bulma</a></span></li></ul></li><li><span><a href=\"#Diğer-modüller\" data-toc-modified-id=\"Diğer-modüller-3\"><span class=\"toc-item-num\">3&nbsp;&nbsp;</span>Diğer modüller</a></span><ul class=\"toc-item\"><li><span><a href=\"#Tüm-alfanumerik-karakterler\" data-toc-modified-id=\"Tüm-alfanumerik-karakterler-3.1\"><span class=\"toc-item-num\">3.1&nbsp;&nbsp;</span>Tüm alfanumerik karakterler</a></span></li><li><span><a href=\"#Bir-stringdeki-alafanumerikler\" data-toc-modified-id=\"Bir-stringdeki-alafanumerikler-3.2\"><span class=\"toc-item-num\">3.2&nbsp;&nbsp;</span>Bir stringdeki alafanumerikler</a></span></li><li><span><a href=\"#Dosyaları-listeleme\" data-toc-modified-id=\"Dosyaları-listeleme-3.3\"><span class=\"toc-item-num\">3.3&nbsp;&nbsp;</span>Dosyaları listeleme</a></span></li><li><span><a href=\"#Kısmi-permütasyon\" data-toc-modified-id=\"Kısmi-permütasyon-3.4\"><span class=\"toc-item-num\">3.4&nbsp;&nbsp;</span>Kısmi permütasyon</a></span></li><li><span><a href=\"#File-browserda-klasör-açma\" data-toc-modified-id=\"File-browserda-klasör-açma-3.5\"><span class=\"toc-item-num\">3.5&nbsp;&nbsp;</span>File browserda klasör açma</a></span></li><li><span><a href=\"#website-açma\" data-toc-modified-id=\"website-açma-3.6\"><span class=\"toc-item-num\">3.6&nbsp;&nbsp;</span>website açma</a></span></li><li><span><a href=\"#Olası-tüm-dizilimler\" data-toc-modified-id=\"Olası-tüm-dizilimler-3.7\"><span class=\"toc-item-num\">3.7&nbsp;&nbsp;</span>Olası tüm dizilimler</a></span></li><li><span><a href=\"#Farklı-dizilerin-elemanları-arasında-permütasyon\" data-toc-modified-id=\"Farklı-dizilerin-elemanları-arasında-permütasyon-3.8\"><span class=\"toc-item-num\">3.8&nbsp;&nbsp;</span>Farklı dizilerin elemanları arasında permütasyon</a></span></li></ul></li></ul></div>"
   ]
  },
  {
   "cell_type": "markdown",
   "metadata": {},
   "source": [
    "# Giriş "
   ]
  },
  {
   "cell_type": "markdown",
   "metadata": {},
   "source": [
    "Soruları mümkün olduğunca kategorilere ayırmaya çalıştım. Şimdilik sadece Genel Python soruları var ancak zaman içinde artacağını da söyleyebilirim. (Bunların bi kısmını aldığım eğitimlerin practice bölümünden bazısını da internette farklı sitelerden aldım, kimisini de kendim uydurdum)\n",
    "\n",
    "Soru hücrelerine tıklarken dikkatli olun. <b>Ayrıntılar</b> yazan satıra tıklamayın, aksi halde sorunun cevabı görünecektir. Kendinizi biraz zorlayın, hemen cevabı görmeye çalışmayın. Hala yapamazsanız cevabı görmek için ilgili hücredeki Ayrıntılar satırına tıklayın. Burada gördüğünüz cevaplar benim bulduğum cevaplar olup, sizlerin daha performanslı kodlar yazması muhtemeldir."
   ]
  },
  {
   "cell_type": "markdown",
   "metadata": {},
   "source": [
    "# Temel Python Soruları"
   ]
  },
  {
   "cell_type": "markdown",
   "metadata": {},
   "source": [
    "<h2>En uzun kelime</h2>\n",
    "<br>\n",
    "<summary>\n",
    "    <p>Parametre olarak aldığı kelimelerden en uzunu bulan bir fonksiyon yazın. Örnek input:\"volki tolki torino\"</p>\n",
    "</summary>\n",
    "<br>\n",
    "\n",
    "<details>\n",
    "<pre>\n",
    "#1.yöntem\n",
    "def LongestWord(sen):\n",
    "    splitted=str(sen).split(\" \")\n",
    "    z=[len(s) for s in splitted]\n",
    "    m=z.index(max(z))\n",
    "    return splitted[m]\n",
    "\n",
    "print(LongestWord(\"volki tolki torino\"))\n",
    "\n",
    "#2.yöntem: dict yöntemi ile\n",
    "def LongestWord(sen):\n",
    "    splitted=str(sen).split(\" \")\n",
    "    z=[len(s) for s in splitted]\n",
    "    dict_=dict(zip(z,splitted))\n",
    "    return dict_[max(z)]\n",
    "#keep this function call here  \n",
    "\n",
    "print(LongestWord(\"volki tolki torino\"))\n",
    "</pre>\n",
    "</details>\n",
    "\n"
   ]
  },
  {
   "cell_type": "code",
   "execution_count": 1,
   "metadata": {},
   "outputs": [
    {
     "name": "stdout",
     "output_type": "stream",
     "text": [
      "torino\n"
     ]
    }
   ],
   "source": [
    "#çözümünüzü burada geliştirin\n"
   ]
  },
  {
   "cell_type": "markdown",
   "metadata": {},
   "source": [
    "<h2>Karakter frekansı</h2>\n",
    "<br>\n",
    "<summary>\n",
    "    <p>Bir kelimedeki karakterlerden kaç tane olduğunu veren bir kod yazın. Örnek input:\"abcdraabasarfer\"</p>\n",
    "</summary>\n",
    "<br>\n",
    "\n",
    "<details>\n",
    "<pre>\n",
    "def getCountofChar(metin):\n",
    "    dict_={}\n",
    "    #uniqler=''.join(set(metin)) #burası olmadan da oluyor, ama set olursa daha şık\n",
    "    for i in metin: #uniqler\n",
    "        dict_[i]=metin.count(i)\n",
    "    return dict_\n",
    "    \n",
    "a=getCountofChar(\"abcdraabasarfer\")\n",
    "for k,v in a.items():\n",
    "    print(k,v)\n",
    "</pre>\n",
    "</details>"
   ]
  },
  {
   "cell_type": "code",
   "execution_count": 2,
   "metadata": {},
   "outputs": [
    {
     "name": "stdout",
     "output_type": "stream",
     "text": [
      "a 5\n",
      "b 2\n",
      "c 1\n",
      "d 1\n",
      "r 3\n",
      "s 1\n",
      "f 1\n",
      "e 1\n"
     ]
    }
   ],
   "source": [
    "#çözümünüzü burada geliştirin. Çıktı, aşağıdaki gibi olmalı\n"
   ]
  },
  {
   "cell_type": "markdown",
   "metadata": {},
   "source": [
    "<h2>Sadece nümerik elemanların tespiti</h2>\n",
    "<br>\n",
    "<summary>\n",
    "    <p>Bir listedeki sadece sayılardan oluşan elemanları bulun. Örnek input:[\"345\",\"sadas\",\"324a\",\"14\",\"kemal\",\"123\"]</p>\n",
    "</summary>\n",
    "<br>\n",
    "\n",
    "<details>\n",
    "<pre>\n",
    "#1.yöntem:hata bloğu\n",
    "liste = [\"345\",\"sadas\",\"324a\",\"14\",\"kemal\",\"123\"]\n",
    "\n",
    "for i in liste:\n",
    "    try:        \n",
    "        print(int(i))\n",
    "    except:\n",
    "        pass\n",
    "\n",
    "#2.yöntem:regex\n",
    "import re\n",
    "\n",
    "for i in liste:\n",
    "    try:        \n",
    "        pattern = re.compile(\"^[0-9]+$\") \n",
    "        if (pattern.match(i)):\n",
    "            print(i)\n",
    "    except:\n",
    "        pass\n",
    "</pre>\n",
    "</details>"
   ]
  },
  {
   "cell_type": "code",
   "execution_count": 3,
   "metadata": {},
   "outputs": [
    {
     "name": "stdout",
     "output_type": "stream",
     "text": [
      "345\n",
      "14\n",
      "123\n"
     ]
    }
   ],
   "source": [
    "#çözümünüzü burada geliştirin. Çıktı, aşağıdaki gibi olmalı\n"
   ]
  },
  {
   "cell_type": "markdown",
   "metadata": {},
   "source": [
    "<h2>Faktöriyel</h2>\n",
    "<br>\n",
    "<summary>\n",
    "    <p>Faktöriyel hesabı yapan bi fonksiyon yazın. Örnek input:5</p>\n",
    "</summary>\n",
    "<br>\n",
    "\n",
    "<details>\n",
    "<pre>\n",
    "\n",
    "def Faktoriyel(num):\n",
    "\n",
    "    if num==1:\n",
    "        return 1\n",
    "    else:\n",
    "        fac=num*Faktoriyel(num-1)\n",
    "        return fac\n",
    "    \n",
    "print(Faktoriyel(5))\n",
    "\n",
    "</pre>\n",
    "</details>"
   ]
  },
  {
   "cell_type": "code",
   "execution_count": 4,
   "metadata": {},
   "outputs": [
    {
     "name": "stdout",
     "output_type": "stream",
     "text": [
      "120\n"
     ]
    }
   ],
   "source": [
    "#çözümünüzü burada geliştirin. Çıktı, aşağıdaki gibi olmalı\n"
   ]
  },
  {
   "cell_type": "markdown",
   "metadata": {},
   "source": [
    "<h2>Metni terse çevir</h2>\n",
    "<br>\n",
    "<summary>\n",
    "    <p>Verilen metni terse çeviren bir fonksiyon yazın. Örnek input:Merhaba dünya</p>\n",
    "</summary>\n",
    "<br>\n",
    "\n",
    "<details>\n",
    "<pre>\n",
    "def Tersinial(str):     \n",
    "    return str[::-1]\n",
    "\n",
    "print(Tersinial(\"Merhaba dünya\"))\n",
    "</pre>\n",
    "</details>"
   ]
  },
  {
   "cell_type": "code",
   "execution_count": 5,
   "metadata": {},
   "outputs": [
    {
     "name": "stdout",
     "output_type": "stream",
     "text": [
      "aynüd abahreM\n"
     ]
    }
   ],
   "source": [
    "#çözümünüzü burada geliştirin. Çıktı, aşağıdaki gibi olmalı\n"
   ]
  },
  {
   "cell_type": "markdown",
   "metadata": {},
   "source": [
    "<h2>Cümledeki kelimeleri ters sırada yazdırma</h2>\n",
    "<br>\n",
    "<summary>\n",
    "    <p>Verilen bir cümledeki keliemeleri ters sırada yazdıran bir fonksiyon yazın. Örnek input:volkan yurtseven naber</p>\n",
    "</summary>\n",
    "<br>\n",
    "\n",
    "<details>\n",
    "<pre>\n",
    "def reverseWord(word):\n",
    "    list_=word.split(\" \")\n",
    "    ters=list_[::-1]\n",
    "    print(\" \".join(ters))\n",
    "\n",
    "reverseWord(\"volkan yurtseven naber\")\n",
    "</pre>\n",
    "</details>"
   ]
  },
  {
   "cell_type": "code",
   "execution_count": 6,
   "metadata": {},
   "outputs": [
    {
     "name": "stdout",
     "output_type": "stream",
     "text": [
      "naber yurtseven volkan\n"
     ]
    }
   ],
   "source": [
    "#çözümünüzü burada geliştirin. Çıktı, aşağıdaki gibi olmalı\n"
   ]
  },
  {
   "cell_type": "markdown",
   "metadata": {},
   "source": [
    "<h2>Basit bir şifreleme algoritması</h2>\n",
    "<br>\n",
    "<summary>\n",
    "    <p>Verilen metindeki harflerin alfabedeki bir sonraki harfle değişmesini ve bunlardan sesli olanları büyüten bir fonksiyon yazın. Örnek input:Ramazan, parola safak degil mi</p>\n",
    "</summary>\n",
    "<br>\n",
    "\n",
    "<details>\n",
    "<pre>\n",
    "def LetterChanges(sen):        \n",
    "    changed=[(chr(ord(x)+1) if any([x.isalpha(), x.isspace()]) else x) for x in sen]\n",
    "    ups=[x.upper() if x.upper() in 'AEIOU' else x for x in changed ]\n",
    "    combined=''.join(ups)\n",
    "    withspace=combined.replace('!',' ') #bunu demezsek boşluklar ünlem kalır\n",
    "    return withspace\n",
    "\n",
    "print(LetterChanges(\"Ramazan, parola safak degil mi\"))\n",
    "</pre>\n",
    "</details>"
   ]
  },
  {
   "cell_type": "code",
   "execution_count": 35,
   "metadata": {},
   "outputs": [
    {
     "name": "stdout",
     "output_type": "stream",
     "text": [
      "Sbnb{bO, qbspmb tbgbl Efhjm nj\n"
     ]
    }
   ],
   "source": [
    "#çözümünüzü burada geliştirin. Çıktı, aşağıdaki gibi olmalı\n"
   ]
  },
  {
   "cell_type": "markdown",
   "metadata": {},
   "source": [
    "<h2>Kümülatif toplama</h2>\n",
    "<br>\n",
    "<summary>\n",
    "    <p>Verilen sayının kendisine kadar olan sayıların toplamı. (Okulda gördüğümüz Gauss yöntemi ile değil de daha algoritmik bir şekilde yapın).Örnek input:10</p>\n",
    "</summary>\n",
    "<br>\n",
    "\n",
    "<details>\n",
    "<pre>\n",
    "\n",
    "def KumuleToplam(num): \n",
    "    Toplam=0\n",
    "    while num>1:\n",
    "        Toplam=Toplam+num\n",
    "        num=num-1\n",
    "    return Toplam+1\n",
    "    \n",
    "\n",
    "print(KumuleToplam(10))\n",
    "\n",
    "</pre>\n",
    "</details>"
   ]
  },
  {
   "cell_type": "code",
   "execution_count": 36,
   "metadata": {},
   "outputs": [
    {
     "name": "stdout",
     "output_type": "stream",
     "text": [
      "55\n"
     ]
    }
   ],
   "source": [
    "#çözümünüzü burada geliştirin. Çıktı, aşağıdaki gibi olmalı\n"
   ]
  },
  {
   "cell_type": "markdown",
   "metadata": {},
   "source": [
    "<h2>Merge Sort</h2>\n",
    "<br>\n",
    "<summary>\n",
    "    <p>İnternetten merge sort algoritmasını araştırın ve Python ile kodlamasını yapın. Input olarak 1-10 milyon arası 10bin rasgele sayı verin. İşlemin ne kadar sürdüğünü de gösterin.</p>\n",
    "</summary>\n",
    "<br>\n",
    "\n",
    "<details>\n",
    "<pre>\n",
    "\n",
    "#1.yöntem\n",
    "import time\n",
    "import random\n",
    "\n",
    "baş=time.process_time()\n",
    "\n",
    "def sirala(dizi):\n",
    "    if len(dizi) <= 1:\n",
    "        return dizi\n",
    "    referans = dizi[len(dizi) // 2]\n",
    "    sol = [x for x in dizi if x < referans]\n",
    "    orta = [x for x in dizi if x == referans]\n",
    "    sag = [x for x in dizi if x > referans]\n",
    "    return sirala(sol) + orta + sirala(sag)\n",
    "\n",
    "\n",
    "a=random.sample(range(10000000), 10000)\n",
    "print(sirala(a)[:10]) #ilk 10u yeterli\n",
    "bit=time.process_time()\n",
    "print(bit-baş,\"sn sürdü\")\n",
    "\n",
    "#2.yöntem\n",
    "\n",
    "import time\n",
    "import random\n",
    "\n",
    "baş=time.perf_counter ()\n",
    "def mergeSort(alist):\n",
    "    #print(\"Splitting \",alist)\n",
    "    if len(alist)>1:\n",
    "        mid = len(alist)//2\n",
    "        lefthalf = alist[:mid]\n",
    "        righthalf = alist[mid:]\n",
    "\n",
    "        mergeSort(lefthalf)\n",
    "        mergeSort(righthalf)\n",
    "\n",
    "        i=0\n",
    "        j=0\n",
    "        k=0\n",
    "        while i < len(lefthalf) and j < len(righthalf):\n",
    "            if lefthalf[i] < righthalf[j]:\n",
    "                alist[k]=lefthalf[i]\n",
    "                i=i+1\n",
    "            else:\n",
    "                alist[k]=righthalf[j]\n",
    "                j=j+1\n",
    "            k=k+1\n",
    "\n",
    "        while i < len(lefthalf):\n",
    "            alist[k]=lefthalf[i]\n",
    "            i=i+1\n",
    "            k=k+1\n",
    "\n",
    "        while j < len(righthalf):\n",
    "            alist[k]=righthalf[j]\n",
    "            j=j+1\n",
    "            k=k+1\n",
    "    #print(\"Merging \",alist)\n",
    "random.seed(1)\n",
    "alist = random.sample(range(10000000), 10000)\n",
    "mergeSort(alist) #üzerinde yapıyoruz\n",
    "bit=time.perf_counter()\n",
    "print(bit-baş,\"sn sürdü\")\n",
    "print(alist[:10])\n",
    "</pre>\n",
    "</details>"
   ]
  },
  {
   "cell_type": "code",
   "execution_count": 37,
   "metadata": {
    "scrolled": true
   },
   "outputs": [
    {
     "name": "stdout",
     "output_type": "stream",
     "text": [
      "[1160, 1791, 3732, 4672, 6347, 8168, 8636, 9221, 10535, 10723]\n",
      "0.046875 sn sürdü\n"
     ]
    }
   ],
   "source": [
    "#çözümünüzü burada geliştirin. Çıktı, aşağıdaki gibi olmalı\n"
   ]
  },
  {
   "cell_type": "markdown",
   "metadata": {},
   "source": [
    "<h2>Mükemmel sayı</h2>\n",
    "<br>\n",
    "<summary>\n",
    "    <p>1'den 1000'e kadar olan sayılardan mükemmel sayı olanları ekrana yazdırın. Bunun için bir sayının mükemmel olup olmadığını dönen bir tane fonksiyon yazın.\n",
    "\n",
    "Bir sayının bölenlerinin toplamı kendine eşitse bu sayı mükemmel bir sayıdır. Örnek olarak 6 mükemmel bir sayıdır (1 + 2 + 3 = 6)</p>\n",
    "</summary>\n",
    "<br>\n",
    "<details>\n",
    "<pre>\n",
    "def mükemmelmi(sayı): \n",
    "    i=1\n",
    "    toplam=0\n",
    "    while (i<sayı):\n",
    "        if (sayı%i==0):\n",
    "            toplam+=i\n",
    "        i+=1\n",
    "    if (toplam==sayı):\n",
    "        print(\"{} sayısı mükemmel bir sayıdır\".format(sayı))    \n",
    "\n",
    "for i in range(1,1000):\n",
    "    mükemmelmi(i)\n",
    "</pre>\n",
    "</details>"
   ]
  },
  {
   "cell_type": "code",
   "execution_count": 10,
   "metadata": {},
   "outputs": [
    {
     "name": "stdout",
     "output_type": "stream",
     "text": [
      "6 sayısı mükemmel bir sayıdır\n",
      "28 sayısı mükemmel bir sayıdır\n",
      "496 sayısı mükemmel bir sayıdır\n"
     ]
    }
   ],
   "source": [
    "#çözümünüzü burada geliştirin. Çıktı, aşağıdaki gibi olmalı\n"
   ]
  },
  {
   "cell_type": "markdown",
   "metadata": {},
   "source": [
    "<h2>EBOB fonksiyonu</h2>\n",
    "<br>\n",
    "<summary>\n",
    "    <p>80cm ve 120cm uzunluğunda iki demir çubuk, boyları birbirine eşit parçalara ayrılacaktır.Bir parçanın uzunluğu en fazla kaç cm olur?</p>\n",
    "</summary>\n",
    "<br>\n",
    "\n",
    "<details>\n",
    "<pre>\n",
    "\n",
    "def ebob_bulma(sayı1,sayı2):\n",
    "    \n",
    "    i = 1\n",
    "    ebob = 1\n",
    "    while (i <= sayı1 and i <= sayı2 ):\n",
    "\n",
    "        if ( not (sayı1 % i) and not (sayı2 % i)):\n",
    "            ebob = i\n",
    "        i += 1\n",
    "    return ebob\n",
    "\n",
    "print(\"Ebob:\",ebob_bulma(80,120))\n",
    "\n",
    "</pre>\n",
    "</details>"
   ]
  },
  {
   "cell_type": "code",
   "execution_count": 11,
   "metadata": {},
   "outputs": [
    {
     "name": "stdout",
     "output_type": "stream",
     "text": [
      "Ebob: 40\n"
     ]
    }
   ],
   "source": [
    "#çözümünüzü burada geliştirin. Çıktı, aşağıdaki gibi olmalı\n"
   ]
  },
  {
   "cell_type": "markdown",
   "metadata": {},
   "source": [
    "<h2>EKOK bulma</h2>\n",
    "<br>\n",
    "<summary>\n",
    "    <p>Tarık bilyelerini 4’er ve 6’şar saydığında her defasında 1 bilyesi artıyor.Buna göre, Tarık’ın en az kaç tane bilyesi vardır?</p>\n",
    "</summary>\n",
    "<br>\n",
    "\n",
    "<details>\n",
    "<pre>\n",
    "\n",
    "def ekok_bulma(sayı1,sayı2):\n",
    "    \n",
    "    i = 2\n",
    "    ekok = 1\n",
    "    while True:\n",
    "        if (sayı1 % i == 0 and sayı2 % i == 0):\n",
    "            ekok *= i\n",
    "\n",
    "            sayı1 //= i\n",
    "            sayı2 //= i\n",
    "\n",
    "\n",
    "        elif (sayı1 % i ==  0 and sayı2 % i != 0):\n",
    "            ekok *= i\n",
    "\n",
    "            sayı1 //= i\n",
    "\n",
    "\n",
    "        elif (sayı1 % i != 0 and sayı2 % i == 0):\n",
    "            ekok *= i\n",
    "\n",
    "            sayı2 //= i\n",
    "        else:\n",
    "            i += 1\n",
    "        if (sayı1 == 1 and sayı2 == 1):\n",
    "            break\n",
    "    return ekok\n",
    "\n",
    "print(\"Ekok:\",ekok_bulma(4,6))\n",
    "\n",
    "</pre>\n",
    "</details>"
   ]
  },
  {
   "cell_type": "code",
   "execution_count": 12,
   "metadata": {},
   "outputs": [
    {
     "name": "stdout",
     "output_type": "stream",
     "text": [
      "Ekok: 12\n"
     ]
    }
   ],
   "source": [
    "#çözümünüzü burada geliştirin. Çıktı, aşağıdaki gibi olmalı\n"
   ]
  },
  {
   "cell_type": "markdown",
   "metadata": {},
   "source": [
    "<h2>Asal sayı bulma</h2>\n",
    "<br>\n",
    "<summary>\n",
    "    <p>1-100 arası asal sayıları gösterin</p>\n",
    "</summary>\n",
    "<br>\n",
    "\n",
    "<details>\n",
    "<pre>\n",
    "def asalmı(sayı): \n",
    "    liste=[]\n",
    "    for k in range(3,sayı+1):\n",
    "        sonuc=True\n",
    "        for i in range(2,k): \n",
    "            if (k%i==0):\n",
    "                sonuc=False\n",
    "                break   \n",
    "        if (sonuc==True):\n",
    "            liste.append(k)\n",
    "    print(liste)\n",
    "    \n",
    "asalmı(100)\n",
    "</pre>\n",
    "</details>"
   ]
  },
  {
   "cell_type": "code",
   "execution_count": 13,
   "metadata": {},
   "outputs": [
    {
     "name": "stdout",
     "output_type": "stream",
     "text": [
      "[3, 5, 7, 11, 13, 17, 19, 23, 29, 31, 37, 41, 43, 47, 53, 59, 61, 67, 71, 73, 79, 83, 89, 97]\n"
     ]
    }
   ],
   "source": [
    "#çözümünüzü burada geliştirin. Çıktı, aşağıdaki gibi olmalı\n"
   ]
  },
  {
   "cell_type": "markdown",
   "metadata": {},
   "source": [
    "<h2>Sayı okunuşu</h2>\n",
    "<br>\n",
    "<summary>\n",
    "    <p>Kullanıcıdan 2 basamaklı bir sayı alın ve bu sayının okunuşunu bulan bir fonksiyon yazın.</p>\n",
    "</summary>\n",
    "<br>\n",
    "\n",
    "<details>\n",
    "<pre>\n",
    "birler =  [\"\",\"Bir\",\"İki\",\"Üç\",\"Dört\",\"Beş\",\"Altı\",\"Yedi\",\"Sekiz\",\"Dokuz\"]\n",
    "onlar = [\"\",\"On\",\"Yirmi\",\"Otuz\",\"Kırk\",\"Elli\",\"Altmış\",\"Yetmiş\",\"Seksen\",\"Doksan\"]\n",
    "\n",
    "def okunus(sayı):\n",
    "    birinci = sayı % 10\n",
    "    ikinci = sayı // 10\n",
    "    \n",
    "    return onlar[ikinci] + \" \" + birler[birinci]\n",
    "\n",
    "    \n",
    "print(okunus(34))\n",
    "</pre>\n",
    "</details>"
   ]
  },
  {
   "cell_type": "code",
   "execution_count": 14,
   "metadata": {},
   "outputs": [
    {
     "name": "stdout",
     "output_type": "stream",
     "text": [
      "Otuz Dört\n"
     ]
    }
   ],
   "source": [
    "#çözümünüzü burada geliştirin. Çıktı, aşağıdaki gibi olmalı\n"
   ]
  },
  {
   "cell_type": "markdown",
   "metadata": {},
   "source": [
    "<h2>Pisagor sayıları</h2>\n",
    "<br>\n",
    "<summary>\n",
    "    <p>1-20 arası hangi sayılar pisagor oluşturur. İkisinin karesinin toplamı üçüncünün karesiyle aynı olan sayılar.<p>\n",
    "</summary>\n",
    "<br>\n",
    "\n",
    "<details>\n",
    "<pre>\n",
    "def pisagor(a):\n",
    "    psg=[]\n",
    "    for i in range(1,a):\n",
    "        for j in range(1,a):\n",
    "            k = (i**2+j**2)**0.5\n",
    "            \n",
    "            if k in range(1,a):\n",
    "                psg.append((i,j,int(k)))\n",
    "    \n",
    "    for i in psg:\n",
    "        print(i)\n",
    "\n",
    "pisagor(20)               \n",
    "</pre>\n",
    "</details>"
   ]
  },
  {
   "cell_type": "code",
   "execution_count": 15,
   "metadata": {},
   "outputs": [
    {
     "name": "stdout",
     "output_type": "stream",
     "text": [
      "(3, 4, 5)\n",
      "(4, 3, 5)\n",
      "(5, 12, 13)\n",
      "(6, 8, 10)\n",
      "(8, 6, 10)\n",
      "(8, 15, 17)\n",
      "(9, 12, 15)\n",
      "(12, 5, 13)\n",
      "(12, 9, 15)\n",
      "(15, 8, 17)\n"
     ]
    }
   ],
   "source": [
    "#çözümünüzü burada geliştirin. Çıktı, aşağıdaki gibi olmalı\n"
   ]
  },
  {
   "cell_type": "markdown",
   "metadata": {},
   "source": [
    "<h2>Dizi birleştirme</h2>\n",
    "<br>\n",
    "<summary>\n",
    "    <p>İki dizinin elemanlarını yanyanaya yazdıran bir fonkisyon yazın. Örnek inputlar:dizi1 = [34,6,1,58,59], \n",
    "dizi2 = [\"İstanbul\",\"Ankara\",\"Adana\",\"Sivas\",\"Tekirdağ\"] </p>\n",
    "</summary>\n",
    "<br>\n",
    "\n",
    "<details>\n",
    "<pre>\n",
    "def diziCombine(dizi1,dizi2):\n",
    "    for i,j in zip(dizi1,dizi2):\n",
    "        print(i,j)\n",
    "\n",
    "dizi1 = [34,6,1,58,59]\n",
    "dizi2 = [\"İstanbul\",\"Ankara\",\"Adana\",\"Sivas\",\"Tekirdağ\"]\n",
    "diziCombine(dizi1,dizi2)\n",
    "</pre>\n",
    "</details>"
   ]
  },
  {
   "cell_type": "code",
   "execution_count": 16,
   "metadata": {},
   "outputs": [
    {
     "name": "stdout",
     "output_type": "stream",
     "text": [
      "34 İstanbul\n",
      "6 Ankara\n",
      "1 Adana\n",
      "58 Sivas\n",
      "59 Tekirdağ\n"
     ]
    }
   ],
   "source": [
    "#çözümünüzü burada geliştirin. Çıktı, aşağıdaki gibi olmalı\n"
   ]
  },
  {
   "cell_type": "markdown",
   "metadata": {},
   "source": [
    "<h2>Karakter frekansı bulma</h2>\n",
    "<br>\n",
    "<summary>\n",
    "    <p>Elinizdeki metindeki harflerin kaç kez geçtiğini gösteren bir fonksiyon yazın. Counter fonksiyonu dışında da bir çözüm geliştirin.Örnek input:\"Türkiye Büyük Millet Meclisi\"</p>\n",
    "</summary>\n",
    "<br>\n",
    "\n",
    "<details>\n",
    "<pre>\n",
    "def frekansBul(metin):\n",
    "    sözlük=dict()\n",
    "    for i in metin:\n",
    "        if (i in sözlük):\n",
    "            sözlük[i]+=1\n",
    "        else:\n",
    "            sözlük[i]=1\n",
    "\n",
    "    for k,v in sözlük.items():\n",
    "        print(k,\"-\",v)\n",
    "\n",
    "frekansBul(\"Türkiye Büyük Millet Meclisi\")\n",
    "</pre>\n",
    "</details>"
   ]
  },
  {
   "cell_type": "code",
   "execution_count": 17,
   "metadata": {},
   "outputs": [
    {
     "name": "stdout",
     "output_type": "stream",
     "text": [
      "T - 1\n",
      "ü - 3\n",
      "r - 1\n",
      "k - 2\n",
      "i - 4\n",
      "y - 2\n",
      "e - 3\n",
      "  - 3\n",
      "B - 1\n",
      "M - 2\n",
      "l - 3\n",
      "t - 1\n",
      "c - 1\n",
      "s - 1\n"
     ]
    }
   ],
   "source": [
    "#çözümünüzü burada geliştirin. Çıktı, aşağıdaki gibi olmalı\n"
   ]
  },
  {
   "cell_type": "markdown",
   "metadata": {},
   "source": [
    "<h2>Kelime frekansı bulma</h2>\n",
    "<br>\n",
    "<summary>\n",
    "    <p>Elinizdeki cümledeki kelimelerin kaç kez geçtiğini gösteren bir fonksiyon yazın. Kelimeler alfabetik olarak dizilsin. Büyük harfle başlyan kelimelerin küçük harfle başlayanlara göre önce geleceği aşikardır, ayrıca türkçe karakterlerle başlayanlar da en sona gidecektir. Bir kelime başka bir kelimeyi içeriyorsa o kelime her ikisinde de ayrıca sayılacaktır. Counter fonksiyonu dışında da bir çözüm geliştirin. Örnek input:Müdür müdür müdür espirisini yapanlara şöyle derim: sen seni bil sen seni yoksa üzerim seni\"</p>\n",
    "</summary>\n",
    "<br>\n",
    "\n",
    "<details>\n",
    "<pre>\n",
    "cumle=\"Müdür müdür müdür espirisini yapanlara şöyle derim: sen seni bil sen seni yoksa üzerim seni\"\n",
    "#1.çözüm\n",
    "def freqCount(cumle):\n",
    "    temp=set(cumle.split(\" \"))\n",
    "    dict_={}\n",
    "    for i in temp:\n",
    "        dict_[i]=cumle.count(i)\n",
    "    return dict_\n",
    "\n",
    "x=freqCount(cumle)\n",
    "sorted_x = sorted(x.items(), key=lambda kv: kv[0]) #kv[1] olursa valuelara göre\n",
    "sorted_x\n",
    "\n",
    "#2.çözüm\n",
    "def getCountofWords(cumle):\n",
    "    dict_={}\n",
    "    uniqler=set(cumle.split(\" \"))\n",
    "    for i in uniqler:\n",
    "        #print(\"hey\")\n",
    "        dict_[i]=cumle.count(i)\n",
    "    return dict_\n",
    "    \n",
    "a=getCountofWords(cumle)\n",
    "for k,v in a.items():\n",
    "    print(k,v)\n",
    "    \n",
    "#3.çözüm: Bir kelime başka bir kelime içinde geçiyorsa bunları ayrı kelime gibi sayar\n",
    "from collections import Counter\n",
    "def GetCounts(cumle):\n",
    "    dict_=Counter(cumle.split(\" \"))\n",
    "    return dict(dict_)\n",
    "\n",
    "for k,v in GetCounts(cumle).items():\n",
    "    print(k,v)\n",
    "</pre>\n",
    "</details>"
   ]
  },
  {
   "cell_type": "code",
   "execution_count": 18,
   "metadata": {
    "scrolled": true
   },
   "outputs": [
    {
     "data": {
      "text/plain": [
       "[('Müdür', 1),\n",
       " ('bil', 1),\n",
       " ('derim:', 1),\n",
       " ('espirisini', 1),\n",
       " ('müdür', 2),\n",
       " ('sen', 5),\n",
       " ('seni', 3),\n",
       " ('yapanlara', 1),\n",
       " ('yoksa', 1),\n",
       " ('üzerim', 1),\n",
       " ('şöyle', 1)]"
      ]
     },
     "execution_count": 18,
     "metadata": {},
     "output_type": "execute_result"
    }
   ],
   "source": [
    "#çözümünüzü burada geliştirin. Çıktı, aşağıdaki gibi olmalı\n"
   ]
  },
  {
   "cell_type": "markdown",
   "metadata": {},
   "source": [
    "<h2>İki listenin ortak elemanları</h2>\n",
    "<br>\n",
    "<summary>\n",
    "    <p>İki dizinin ortak elemanlarını getiren bir fonksiyon yazın. Fonksiyonunuz farklı boyutlardaki dizilerde de çalışabilsin ve mükerrerleri sadece bir kez alsın. Örnek inputlar: a = [1, 1, 2, 3, 5, 8, 13, 21, 34, 55, 89], b = [1, 2, 3, 4, 5, 6, 7, 8, 9, 10, 11, 12, 13] </p>\n",
    "</summary>\n",
    "<br>\n",
    "\n",
    "<details>\n",
    "<pre>\n",
    "def ortakElemanBul(a,b):\n",
    "    c=[]\n",
    "    for i in a:\n",
    "        for j in b:\n",
    "            if i==j and i not in c:\n",
    "                c.append(i)\n",
    "    print(c)\n",
    "\n",
    "a = [1, 1, 2, 3, 5, 8, 13, 21, 34, 55, 89]\n",
    "b = [1, 2, 3, 4, 5, 6, 7, 8, 9, 10, 11, 12, 13,3,3,3,5]\n",
    "ortakElemanBul(a,b)\n",
    "\n",
    "#2.yöntem: & operatörü interseciton operatörüdür\n",
    "def intersect(a, b):\n",
    "    return list(set(a) & set(b)) # the & is for intersection, which will take the common between the two\n",
    "\n",
    "print(intersect(a,b))\n",
    "\n",
    "#3.yöntem setlerin intersection metodu\n",
    "print(set(a).intersection(set(b)))\n",
    "\n",
    "#4.yöntem: set comprehension\n",
    "d={i for i in a if i in b}\n",
    "print(d)\n",
    "</pre>\n",
    "</details>"
   ]
  },
  {
   "cell_type": "code",
   "execution_count": 38,
   "metadata": {},
   "outputs": [
    {
     "name": "stdout",
     "output_type": "stream",
     "text": [
      "[1, 2, 3, 5, 8, 13]\n"
     ]
    }
   ],
   "source": [
    "#çözümünüzü burada geliştirin. Çıktı, aşağıdaki gibi olmalı\n"
   ]
  },
  {
   "cell_type": "markdown",
   "metadata": {},
   "source": [
    "<h2>Palindrome tespiti</h2>\n",
    "<br>\n",
    "<summary>\n",
    "    <p>Girilen kelimenin bir palindrom(tersten yazılışı aynı olan) kelime olup olmadığını bulan bi fonrksiyon yazın. Örnek input:sos </p>\n",
    "</summary>\n",
    "<br>\n",
    "\n",
    "<details>\n",
    "<pre>\n",
    "def isPalindrom(kelime):\n",
    "    tersi=kelime[::-1]\n",
    "    print(kelime==tersi)\n",
    "\n",
    "isPalindrom(\"sos\")\n",
    "</pre>\n",
    "</details>"
   ]
  },
  {
   "cell_type": "code",
   "execution_count": 20,
   "metadata": {},
   "outputs": [
    {
     "name": "stdout",
     "output_type": "stream",
     "text": [
      "True\n"
     ]
    }
   ],
   "source": [
    "#çözümünüzü burada geliştirin. Çıktı, aşağıdaki gibi olmalı\n"
   ]
  },
  {
   "cell_type": "markdown",
   "metadata": {},
   "source": [
    "<h2>Dizi elemanları farklı mı</h2>\n",
    "<br>\n",
    "<summary>\n",
    "    <p>Bir dizinin elemanlarının birbirinin aynı olup olmadığını bulan bi fonksiyon yazın. Örnek input:[1,2,10,3,4,2]</p>\n",
    "</summary>\n",
    "<br>\n",
    "\n",
    "<details>\n",
    "<pre>\n",
    "#1.çözüm\n",
    "dizi=[1,2,10,3,4,2]\n",
    "def isAllDifferent(liste):\n",
    "    for i in range(0,len(liste)):\n",
    "        for j in range(0,len(liste)):\n",
    "            if liste[i]==liste[j] and i!=j:\n",
    "                print(\"False\")\n",
    "                return\n",
    "            else:\n",
    "                pass\n",
    "    print(\"True\")\n",
    "\n",
    "isAllDifferent(dizi)\n",
    "\n",
    "#2.çözüm: set'in uniquleştirme özelliğinden faydalanarak\n",
    "def isAllDiff(liste):\n",
    "    print(len(liste)==len(set(liste)))\n",
    "\n",
    "isAllDiff(dizi)\n",
    "</pre>\n",
    "</details>"
   ]
  },
  {
   "cell_type": "code",
   "execution_count": 21,
   "metadata": {},
   "outputs": [
    {
     "name": "stdout",
     "output_type": "stream",
     "text": [
      "False\n"
     ]
    }
   ],
   "source": [
    "#çözümünüzü burada geliştirin. Çıktı, aşağıdaki gibi olmalı\n"
   ]
  },
  {
   "cell_type": "markdown",
   "metadata": {},
   "source": [
    "<h2>Kelime sırası</h2>\n",
    "<br>\n",
    "<summary>\n",
    "    <p>Verilen metindeki kelimeleri mükerrerleri arındırdıktan sonra sıraya dizen bir fonksiyon. Örnek input:sen seni bil sen seni, yoksa severim seni</p>\n",
    "</summary>\n",
    "<br>\n",
    "\n",
    "<details>\n",
    "<pre>\n",
    "def KelimeSay(metin):\n",
    "    kelimeler = [m for m in metin.replace(\",\",\"\").split(\" \")]\n",
    "    print(\" \".join(sorted(list(set(kelimeler)))))\n",
    "    \n",
    "KelimeSay(\"sen seni bil sen seni, yoksa severim seni\")\n",
    "</pre>\n",
    "</details>"
   ]
  },
  {
   "cell_type": "code",
   "execution_count": 24,
   "metadata": {},
   "outputs": [
    {
     "name": "stdout",
     "output_type": "stream",
     "text": [
      "bil sen seni severim yoksa\n"
     ]
    }
   ],
   "source": [
    "#çözümünüzü burada geliştirin. Çıktı, aşağıdaki gibi olmalı\n"
   ]
  },
  {
   "cell_type": "markdown",
   "metadata": {},
   "source": [
    "<h2>Liste tarama</h2>\n",
    "<br>\n",
    "<summary>\n",
    "    <p>Verilen bir listedeki rakamları 3erli gruplar halinde toplayan bir fonksiyon yazın. Örnek input:[8,10,9,12,14,3,5,1,0,0,2,4]</p>\n",
    "</summary>\n",
    "<br>\n",
    "\n",
    "<details>\n",
    "<pre>\n",
    "def UcluTara(dizi):\n",
    "    n=0\n",
    "    for n in range(len(dizi)-2):\n",
    "        print(\"{}.tarama toplamı:{}\".format(n+1,sum(dizi[n:n+3])))     \n",
    "\n",
    "d=[8,10,9,12,14,3,5,1,0,0,2,4]\n",
    "UcluTara(d)\n",
    "</pre>\n",
    "</details>"
   ]
  },
  {
   "cell_type": "code",
   "execution_count": 25,
   "metadata": {},
   "outputs": [
    {
     "name": "stdout",
     "output_type": "stream",
     "text": [
      "1.tarama toplamı:27\n",
      "2.tarama toplamı:31\n",
      "3.tarama toplamı:35\n",
      "4.tarama toplamı:29\n",
      "5.tarama toplamı:22\n",
      "6.tarama toplamı:9\n",
      "7.tarama toplamı:6\n",
      "8.tarama toplamı:1\n",
      "9.tarama toplamı:2\n",
      "10.tarama toplamı:6\n"
     ]
    }
   ],
   "source": [
    "#çözümünüzü burada geliştirin. Çıktı, aşağıdaki gibi olmalı\n"
   ]
  },
  {
   "cell_type": "markdown",
   "metadata": {},
   "source": [
    "<h2>Çift sayıların karesi</h2>\n",
    "<br>\n",
    "<summary>\n",
    "    <p>Bir listedeki elemanlardan çift olanların karesini alan bir kod yazın:map and filter.Örnek input:[1,2,3,4,5,6,7,8,9,10].</p>\n",
    "</summary>\n",
    "<br>\n",
    "\n",
    "<details>\n",
    "<pre>\n",
    "li = [1,2,3,4,5,6,7,8,9,10]\n",
    "evenNumbers = map(lambda x: x**2, filter(lambda x: x%2==0, li))\n",
    "print(list(evenNumbers))\n",
    "\n",
    "#veya\n",
    "li = [1,2,3,4,5,6,7,8,9,10]\n",
    "[x**2 for x in li if x%2==0]\n",
    "</pre>\n",
    "</details>"
   ]
  },
  {
   "cell_type": "code",
   "execution_count": 26,
   "metadata": {},
   "outputs": [
    {
     "name": "stdout",
     "output_type": "stream",
     "text": [
      "[4, 16, 36, 64, 100]\n"
     ]
    }
   ],
   "source": [
    "#çözümünüzü burada geliştirin. Çıktı, aşağıdaki gibi olmalı\n"
   ]
  },
  {
   "cell_type": "markdown",
   "metadata": {},
   "source": [
    "<h2>Mailden ad-soyad bulma</h2>\n",
    "<br>\n",
    "<summary>\n",
    "    <p>Mail adreslerinden kişilerin ad soyadlarını bulan bi fonksiyon yazın. Örnek inputlar: mailler=[\"volkan.yurtseven@hotmail.com\",\"serkan.uzun@hotmail.com\"]</p>\n",
    "</summary>\n",
    "<br>\n",
    "\n",
    "<details>\n",
    "<pre>\n",
    "def MaildenAdSoyadBul(mailler):\n",
    "    liste=[]\n",
    "    for m in mailler:\n",
    "        i=m.find(\".\")\n",
    "        j=m.find(\"@\")\n",
    "        liste.append((m[:i] + \" \" + m[i+1:j]))\n",
    "    return liste\n",
    "\n",
    "mailler=[\"volkan.yurtseven@hotmail.com\",\"serkan.uzun@hotmail.com\"]\n",
    "adsoyad=MaildenAdSoyadBul(mailler)\n",
    "adsoyad\n",
    "</pre>\n",
    "</details>"
   ]
  },
  {
   "cell_type": "code",
   "execution_count": 27,
   "metadata": {},
   "outputs": [
    {
     "data": {
      "text/plain": [
       "['volkan yurtseven', 'serkan uzun']"
      ]
     },
     "execution_count": 27,
     "metadata": {},
     "output_type": "execute_result"
    }
   ],
   "source": [
    "#çözümünüzü burada geliştirin. Çıktı, aşağıdaki gibi olmalı\n"
   ]
  },
  {
   "cell_type": "markdown",
   "metadata": {},
   "source": [
    "# Diğer modüller"
   ]
  },
  {
   "cell_type": "markdown",
   "metadata": {},
   "source": [
    "<h2>Tüm alfanumerik karakterler</h2>\n",
    "<br>\n",
    "<summary>\n",
    "    <p>Tüm alfanumerik karakterleri yazdırın.</p>\n",
    "</summary>\n",
    "<br>\n",
    "\n",
    "<details>\n",
    "<pre>\n",
    "#1.çözüm\n",
    "import string\n",
    "print(''.join(ch for ch in string.printable if ch.isalnum()))\n",
    "\n",
    "#2.çözüm\n",
    "import re\n",
    "print(re.sub('[\\W_]', '', string.printable))\n",
    "</pre>\n",
    "</details>\n"
   ]
  },
  {
   "cell_type": "code",
   "execution_count": 29,
   "metadata": {},
   "outputs": [
    {
     "name": "stdout",
     "output_type": "stream",
     "text": [
      "0123456789abcdefghijklmnopqrstuvwxyzABCDEFGHIJKLMNOPQRSTUVWXYZ\n"
     ]
    }
   ],
   "source": [
    "#çözümünüzü burada geliştirin. Çıktı, aşağıdaki gibi olmalı\n"
   ]
  },
  {
   "cell_type": "markdown",
   "metadata": {},
   "source": [
    "<h2>Bir stringdeki alafanumerikler</h2>\n",
    "<br>\n",
    "<summary>\n",
    "    <p>Her türden karakteri içeren bir string ifadeden(Ör:\"volka2%4^1dn\") sadece alfanumerikleri yazdırın.</p>\n",
    "</summary>\n",
    "<br>\n",
    "\n",
    "<details>\n",
    "<pre>\n",
    "#1.çözüm\n",
    "import string\n",
    "\n",
    "kelime=\"volka2%4^1dn\"\n",
    "print(''.join(ch for ch in kelime if ch.isalnum()))\n",
    "\n",
    "#2.çözüm\n",
    "filtreli=filter(str.isalnum, kelime)\n",
    "\"\".join(filtreli)\n",
    "\n",
    "#3.çözüm\n",
    "import re\n",
    "print(re.sub('[\\W_]', '', kelime))\n",
    "\n",
    "#4.çözüm\n",
    "for char in kelime:\n",
    "    if not char.isalnum():\n",
    "        kelime = kelime.replace(char,\"\")\n",
    "print(kelime)\n",
    "</pre>\n",
    "</details>"
   ]
  },
  {
   "cell_type": "code",
   "execution_count": 30,
   "metadata": {},
   "outputs": [
    {
     "name": "stdout",
     "output_type": "stream",
     "text": [
      "volka241dn\n"
     ]
    }
   ],
   "source": [
    "#çözümünüzü burada geliştirin. Çıktı, aşağıdaki gibi olmalı\n"
   ]
  },
  {
   "cell_type": "markdown",
   "metadata": {},
   "source": [
    "<h2>Dosyaları listeleme</h2>\n",
    "<br>\n",
    "<summary>\n",
    "    <p>Bulunduğunuz/Geçerli klasördeki dosyaları yazdırın</p>\n",
    "</summary>\n",
    "<br>\n",
    "\n",
    "<details>\n",
    "<pre>\n",
    "import os\n",
    "os.listdir(os.getcwd())\n",
    "#veya\n",
    "os.listdir('.')\n",
    "</pre>\n",
    "</details>"
   ]
  },
  {
   "cell_type": "code",
   "execution_count": 41,
   "metadata": {
    "scrolled": true
   },
   "outputs": [],
   "source": [
    "#çözümünüzü burada geliştirin. \n"
   ]
  },
  {
   "cell_type": "markdown",
   "metadata": {},
   "source": [
    "<h2>Kısmi permütasyon</h2>\n",
    "<br>\n",
    "<summary>\n",
    "    <p>0-9 arası rakamların olası 3lü dizilimleri nelerdir. Sadece ilk 10unu yazdırın</p>\n",
    "</summary>\n",
    "<br>\n",
    "\n",
    "<details>\n",
    "<pre>\n",
    "import itertools\n",
    "numbers = '1234567890'\n",
    "p=itertools.permutations(list(numbers),3)\n",
    "list(p)[:10]\n",
    "</pre>\n",
    "</details>"
   ]
  },
  {
   "cell_type": "code",
   "execution_count": 32,
   "metadata": {},
   "outputs": [
    {
     "data": {
      "text/plain": [
       "[('1', '2', '3'),\n",
       " ('1', '2', '4'),\n",
       " ('1', '2', '5'),\n",
       " ('1', '2', '6'),\n",
       " ('1', '2', '7'),\n",
       " ('1', '2', '8'),\n",
       " ('1', '2', '9'),\n",
       " ('1', '2', '0'),\n",
       " ('1', '3', '2'),\n",
       " ('1', '3', '4')]"
      ]
     },
     "execution_count": 32,
     "metadata": {},
     "output_type": "execute_result"
    }
   ],
   "source": [
    "#çözümünüzü burada geliştirin. Çıktı, aşağıdaki gibi olmalı\n"
   ]
  },
  {
   "cell_type": "markdown",
   "metadata": {},
   "source": [
    "<h2>File browserda klasör açma</h2>\n",
    "<br>\n",
    "<summary>\n",
    "    <p>Bulunduğunuz/Geçerli klasörü açın</p>\n",
    "</summary>\n",
    "<br>\n",
    "\n",
    "<details>\n",
    "<pre>\n",
    "os.startfile(os.curdir)\n",
    "</pre>\n",
    "</details>"
   ]
  },
  {
   "cell_type": "code",
   "execution_count": 33,
   "metadata": {},
   "outputs": [],
   "source": [
    "#çözümünüzü burada geliştirin. Çıktı, aşağıdaki gibi olmalı\n"
   ]
  },
  {
   "cell_type": "markdown",
   "metadata": {},
   "source": [
    "<h2>website açma</h2>\n",
    "<br>\n",
    "<summary>\n",
    "    <p>www.volkanyurtseven.com sitesini açın</p>\n",
    "</summary>\n",
    "<br>\n",
    "\n",
    "<details>\n",
    "<pre>\n",
    "os.startfile('www.volkanyurtseven.com')\n",
    "</pre>\n",
    "</details>"
   ]
  },
  {
   "cell_type": "code",
   "execution_count": 34,
   "metadata": {},
   "outputs": [],
   "source": [
    "#çözümünüzü burada geliştirin. Çıktı, aşağıdaki gibi olmalı\n"
   ]
  },
  {
   "cell_type": "markdown",
   "metadata": {},
   "source": [
    "<h2>Olası tüm dizilimler</h2>\n",
    "<br>\n",
    "<summary>\n",
    "    <p>Dizi elemanlarını olası tüm dizilimlerini yazdırın. Örnek input:  ['a','b','c']</p>\n",
    "</summary>\n",
    "<br>\n",
    "\n",
    "<details>\n",
    "<pre>\n",
    "#1.çözüm\n",
    "char_list = ['a','b','c']\n",
    "import itertools\n",
    "list(itertools.permutations(char_list))\n",
    "\n",
    "#2.çözüm\n",
    "string =\"abc\"\n",
    "l =list(string)\n",
    "for a in l:\n",
    "    for i in range(0,len(string)):\n",
    "        m=l[:]\n",
    "        k=l.index(a)\n",
    "        m.pop(k)\n",
    "        if i != k:\n",
    "            m.insert(i,a)\n",
    "            print(','.join(m))\n",
    "</pre>\n",
    "</details>"
   ]
  },
  {
   "cell_type": "code",
   "execution_count": 22,
   "metadata": {},
   "outputs": [
    {
     "name": "stdout",
     "output_type": "stream",
     "text": [
      "b,a,c\n",
      "b,c,a\n",
      "b,a,c\n",
      "a,c,b\n",
      "c,a,b\n",
      "a,c,b\n"
     ]
    }
   ],
   "source": [
    "#çözümünüzü burada geliştirin. Çıktı, aşağıdaki gibi olmalı\n"
   ]
  },
  {
   "cell_type": "markdown",
   "metadata": {},
   "source": [
    "<h2>Farklı dizilerin elemanları arasında permütasyon</h2>\n",
    "<br>\n",
    "<summary>\n",
    "    <p>Elinizdeki 3 dizinin hangi elemanlarını toplarsanız belirlenmiş bir sayıya eşit olur. Ör:Dizilerx= [10, 25, 30, 55],\n",
    "y = [25, 45, 15, 5],\n",
    "z = [10, 30, 40, 20] ve bu dizilerden alınacak birer elemanın toplamları 70 mi diye kontrol edilsin.</p>\n",
    "</summary>\n",
    "<br>\n",
    "\n",
    "<details>\n",
    "<pre>\n",
    "#1.çözüm\n",
    "x= [10, 20, 20, 20]\n",
    "y = [10, 20, 30, 40]\n",
    "z = [10, 30, 40, 20]\n",
    "target = 70\n",
    "for i in x:\n",
    "    for a in y:\n",
    "        for b in z :\n",
    "            if (i + a + b) == target :\n",
    "                print (i,a,b)\n",
    "#2.çözüm\n",
    "print(list(filter(lambda x: sum(x) == 70, itertools.product(x, y, z))))\n",
    "</pre>\n",
    "</details>"
   ]
  },
  {
   "cell_type": "code",
   "execution_count": 23,
   "metadata": {},
   "outputs": [
    {
     "name": "stdout",
     "output_type": "stream",
     "text": [
      "25 25 20\n",
      "25 15 30\n",
      "25 5 40\n",
      "55 5 10\n"
     ]
    }
   ],
   "source": [
    "#çözümünüzü burada geliştirin. Çıktı, aşağıdaki gibi olmalı\n"
   ]
  }
 ],
 "metadata": {
  "kernelspec": {
   "display_name": "Python 3",
   "language": "python",
   "name": "python3"
  },
  "language_info": {
   "codemirror_mode": {
    "name": "ipython",
    "version": 3
   },
   "file_extension": ".py",
   "mimetype": "text/x-python",
   "name": "python",
   "nbconvert_exporter": "python",
   "pygments_lexer": "ipython3",
   "version": "3.7.3"
  },
  "toc": {
   "base_numbering": 1,
   "nav_menu": {},
   "number_sections": true,
   "sideBar": true,
   "skip_h1_title": false,
   "title_cell": "Table of Contents",
   "title_sidebar": "Contents",
   "toc_cell": true,
   "toc_position": {
    "height": "calc(100% - 180px)",
    "left": "10px",
    "top": "150px",
    "width": "341.325px"
   },
   "toc_section_display": true,
   "toc_window_display": true
  }
 },
 "nbformat": 4,
 "nbformat_minor": 2
}
