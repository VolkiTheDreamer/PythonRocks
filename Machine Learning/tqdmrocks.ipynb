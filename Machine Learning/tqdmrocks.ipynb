{
 "cells": [
  {
   "cell_type": "markdown",
   "metadata": {},
   "source": [
    "# single thread"
   ]
  },
  {
   "cell_type": "code",
   "execution_count": 3,
   "metadata": {
    "ExecuteTime": {
     "end_time": "2022-07-30T12:43:30.370399Z",
     "start_time": "2022-07-30T12:43:30.346420Z"
    }
   },
   "outputs": [],
   "source": [
    "from IPython.core.interactiveshell import InteractiveShell\n",
    "InteractiveShell.ast_node_interactivity = 'last'"
   ]
  },
  {
   "cell_type": "code",
   "execution_count": 3,
   "metadata": {
    "ExecuteTime": {
     "end_time": "2022-07-30T12:59:25.932221Z",
     "start_time": "2022-07-30T12:59:25.872746Z"
    }
   },
   "outputs": [],
   "source": [
    "from time import sleep\n",
    "import sys\n",
    "# from tqdm import tqdm #no need to use this in notebooks, may be used in vs code\n",
    "#tqdm.tqdm_notebook is depreceated, use tqdm.notebook.tqdm_notebook or tqdm.notebook.tqdm\n",
    "from tqdm.notebook import tqdm, tqdm_notebook "
   ]
  },
  {
   "cell_type": "code",
   "execution_count": 5,
   "metadata": {
    "ExecuteTime": {
     "end_time": "2022-07-30T12:43:36.752242Z",
     "start_time": "2022-07-30T12:43:31.526789Z"
    }
   },
   "outputs": [
    {
     "data": {
      "application/vnd.jupyter.widget-view+json": {
       "model_id": "da975f3761fa4d2397cc454b7f58c966",
       "version_major": 2,
       "version_minor": 0
      },
      "text/plain": [
       "HBox(children=(HTML(value=''), FloatProgress(value=0.0, max=5.0), HTML(value='')))"
      ]
     },
     "metadata": {},
     "output_type": "display_data"
    },
    {
     "name": "stdout",
     "output_type": "stream",
     "text": [
      "1\n",
      "2\n",
      "3\n",
      "4\n",
      "5\n",
      "\n"
     ]
    }
   ],
   "source": [
    "list_=[1,2,3,4,5]\n",
    "for i in tqdm(list_):\n",
    "    print(i)\n",
    "    sleep(1)"
   ]
  },
  {
   "cell_type": "code",
   "execution_count": null,
   "metadata": {
    "ExecuteTime": {
     "end_time": "2022-07-30T12:00:37.275528Z",
     "start_time": "2022-07-30T12:00:34.036418Z"
    }
   },
   "outputs": [],
   "source": [
    "values = range(3)\n",
    "with tqdm(total=len(values)) as pbar:\n",
    "    for i in values:\n",
    "        pbar.write('processed: %d' %i)\n",
    "        pbar.update(1)\n",
    "        sleep(1)"
   ]
  },
  {
   "cell_type": "code",
   "execution_count": null,
   "metadata": {
    "ExecuteTime": {
     "end_time": "2022-07-30T12:01:18.208228Z",
     "start_time": "2022-07-30T12:01:14.970217Z"
    }
   },
   "outputs": [],
   "source": [
    "values = range(3)\n",
    "with tqdm(total=len(values), file=sys.stdout) as pbar:\n",
    "    for i in values:\n",
    "        pbar.write('processed: %d' % (1 + i))\n",
    "        pbar.update(1)\n",
    "        sleep(1)"
   ]
  },
  {
   "cell_type": "code",
   "execution_count": null,
   "metadata": {
    "ExecuteTime": {
     "end_time": "2022-07-30T12:02:32.511734Z",
     "start_time": "2022-07-30T12:02:29.294037Z"
    }
   },
   "outputs": [],
   "source": [
    "values = range(3)\n",
    "with tqdm(total=len(values), file=sys.stdout) as pbar:\n",
    "    for i in values:\n",
    "        pbar.set_description('processed: %d' % (1 + i))\n",
    "        pbar.update(1)\n",
    "        sleep(1)"
   ]
  },
  {
   "cell_type": "markdown",
   "metadata": {},
   "source": [
    "## Serial loops"
   ]
  },
  {
   "cell_type": "code",
   "execution_count": null,
   "metadata": {
    "ExecuteTime": {
     "end_time": "2022-07-30T12:02:55.866085Z",
     "start_time": "2022-07-30T12:02:51.023185Z"
    }
   },
   "outputs": [],
   "source": [
    "for i in tqdm_notebook(range(20), desc=\"Loop1\"):\n",
    "    sleep(0.1)    \n",
    "\n",
    "for i in tqdm(range(20), desc=\"Loop2\"):\n",
    "    sleep(0.1)        "
   ]
  },
  {
   "cell_type": "markdown",
   "metadata": {},
   "source": [
    "## Nested(inner) loops"
   ]
  },
  {
   "cell_type": "code",
   "execution_count": null,
   "metadata": {
    "ExecuteTime": {
     "end_time": "2022-07-30T12:03:35.102413Z",
     "start_time": "2022-07-30T12:03:19.346748Z"
    }
   },
   "outputs": [],
   "source": [
    "for i in tqdm_notebook(range(3), desc = 'Outer loop'):    \n",
    "    for j in tqdm_notebook(range(5), desc = 'InnerLoop'):        \n",
    "        time.sleep(1)"
   ]
  },
  {
   "cell_type": "code",
   "execution_count": null,
   "metadata": {
    "ExecuteTime": {
     "end_time": "2022-07-30T12:04:00.073209Z",
     "start_time": "2022-07-30T12:03:57.612366Z"
    }
   },
   "outputs": [],
   "source": [
    "#trange(i) is a special optimised instance of tqdm(range(i))\n",
    "from tqdm.notebook import trange\n",
    "for i in trange(20, desc = 'Loop 1'):\n",
    "    sleep(0.1)    "
   ]
  },
  {
   "cell_type": "markdown",
   "metadata": {},
   "source": [
    "# Multiprocessing"
   ]
  },
  {
   "cell_type": "code",
   "execution_count": 4,
   "metadata": {
    "ExecuteTime": {
     "end_time": "2022-07-30T12:59:31.783129Z",
     "start_time": "2022-07-30T12:59:31.757290Z"
    }
   },
   "outputs": [],
   "source": [
    "from multiprocessing import Pool"
   ]
  },
  {
   "cell_type": "code",
   "execution_count": 7,
   "metadata": {
    "ExecuteTime": {
     "end_time": "2022-07-30T12:43:38.422610Z",
     "start_time": "2022-07-30T12:43:38.404661Z"
    }
   },
   "outputs": [],
   "source": [
    "liste=[1,2,3,4,5,6,7,8]"
   ]
  },
  {
   "cell_type": "markdown",
   "metadata": {},
   "source": [
    "We'll try to get square of the items."
   ]
  },
  {
   "cell_type": "raw",
   "metadata": {},
   "source": [
    "def getsquare(x):\n",
    "    time.sleep(5)    \n",
    "    return x*x\n",
    "\n",
    "def get_power(x,power):\n",
    "    time.sleep(5)    \n",
    "    return x**power\n",
    "\n",
    "def get_power_tpl(x):\n",
    "    x,power=x\n",
    "    time.sleep(5)    \n",
    "    return x**power"
   ]
  },
  {
   "cell_type": "markdown",
   "metadata": {},
   "source": [
    "## Single parameter"
   ]
  },
  {
   "cell_type": "markdown",
   "metadata": {},
   "source": [
    "https://stackoverflow.com/questions/41920124/multiprocessing-use-tqdm-to-display-a-progress-bar"
   ]
  },
  {
   "cell_type": "markdown",
   "metadata": {},
   "source": [
    "### imap suggestion:Won't work as expected!"
   ]
  },
  {
   "cell_type": "markdown",
   "metadata": {},
   "source": [
    "5 seconds pass, no gradual progress and all of a sudden it fills the bar, which we don't want."
   ]
  },
  {
   "cell_type": "code",
   "execution_count": null,
   "metadata": {
    "ExecuteTime": {
     "end_time": "2022-07-30T12:33:13.806431Z",
     "start_time": "2022-07-30T12:33:07.298136Z"
    }
   },
   "outputs": [],
   "source": [
    "from parallels import getsquare\n",
    "\n",
    "if __name__ == '__main__':\n",
    "    with Pool() as p:\n",
    "        r = list(tqdm(p.imap(getsquare, liste), total=len(liste)))\n",
    "        \n",
    "print(r)"
   ]
  },
  {
   "cell_type": "markdown",
   "metadata": {},
   "source": [
    "### tqdm.contrib.concurrent: not worked as expected!"
   ]
  },
  {
   "cell_type": "code",
   "execution_count": null,
   "metadata": {
    "ExecuteTime": {
     "end_time": "2022-07-30T12:33:05.452950Z",
     "start_time": "2022-07-30T12:32:57.514040Z"
    }
   },
   "outputs": [],
   "source": [
    "from tqdm.contrib.concurrent import process_map  # or thread_map\n",
    "\n",
    "if __name__ == '__main__':\n",
    "    r = process_map(getsquare, liste)"
   ]
  },
  {
   "cell_type": "markdown",
   "metadata": {},
   "source": [
    "same as above"
   ]
  },
  {
   "cell_type": "markdown",
   "metadata": {},
   "source": [
    "### context manager: not worked as expected!"
   ]
  },
  {
   "cell_type": "code",
   "execution_count": null,
   "metadata": {
    "ExecuteTime": {
     "end_time": "2022-07-30T12:34:36.673462Z",
     "start_time": "2022-07-30T12:34:30.243999Z"
    }
   },
   "outputs": [],
   "source": [
    "if __name__ == '__main__':\n",
    "    with Pool() as p:\n",
    "        with tqdm(total=len(liste)) as pbar:\n",
    "            for _ in p.imap_unordered(getsquare, liste):\n",
    "                pbar.update()"
   ]
  },
  {
   "cell_type": "markdown",
   "metadata": {},
   "source": [
    "## Multiparameter"
   ]
  },
  {
   "cell_type": "markdown",
   "metadata": {},
   "source": [
    "- https://stackoverflow.com/questions/41920124/multiprocessing-use-tqdm-to-display-a-progress-bar\n",
    "- https://superfastpython.com/multiprocessing-pool-starmap/\n",
    "- https://betterprogramming.pub/exploring-map-vs-starmap-in-python-6bcf32f5fa4a\n",
    "- https://stackoverflow.com/questions/5442910/how-to-use-multiprocessing-pool-map-with-multiple-arguments\n",
    "- https://stackoverflow.com/questions/57354700/starmap-combined-with-tqdm/57364423#57364423"
   ]
  },
  {
   "cell_type": "markdown",
   "metadata": {},
   "source": [
    "### starmap with sepearete parameters:Won't work!"
   ]
  },
  {
   "cell_type": "markdown",
   "metadata": {},
   "source": [
    "First progressbar qucikly fills, and then comes code execution, which we don't want."
   ]
  },
  {
   "cell_type": "code",
   "execution_count": 16,
   "metadata": {
    "ExecuteTime": {
     "end_time": "2022-07-30T12:54:35.961330Z",
     "start_time": "2022-07-30T12:54:29.179096Z"
    }
   },
   "outputs": [
    {
     "data": {
      "application/vnd.jupyter.widget-view+json": {
       "model_id": "2bb986a5f92e40cfbc3f1e812d271e32",
       "version_major": 2,
       "version_minor": 0
      },
      "text/plain": [
       "HBox(children=(HTML(value=''), FloatProgress(value=0.0, max=8.0), HTML(value='')))"
      ]
     },
     "metadata": {},
     "output_type": "display_data"
    },
    {
     "name": "stdout",
     "output_type": "stream",
     "text": [
      "\n",
      "[1, 4, 9, 16, 25, 36, 49, 64]\n"
     ]
    }
   ],
   "source": [
    "from parallels import get_power\n",
    "\n",
    "power=[2]*len(liste)\n",
    "inputs = zip(liste, power)\n",
    "if __name__ == '__main__':\n",
    "    with Pool() as p:\n",
    "        r = p.starmap(get_power, tqdm(inputs, total=len(liste)))        \n",
    "        \n",
    "print(r)        "
   ]
  },
  {
   "cell_type": "markdown",
   "metadata": {},
   "source": [
    "### soluiton: imap+to-be-unpacked-tuple"
   ]
  },
  {
   "cell_type": "code",
   "execution_count": 18,
   "metadata": {
    "ExecuteTime": {
     "end_time": "2022-07-30T12:55:29.842865Z",
     "start_time": "2022-07-30T12:55:02.959046Z"
    }
   },
   "outputs": [
    {
     "data": {
      "application/vnd.jupyter.widget-view+json": {
       "model_id": "24682a27c39d4bdda5ba2e7bbfa56b25",
       "version_major": 2,
       "version_minor": 0
      },
      "text/plain": [
       "HBox(children=(HTML(value=''), FloatProgress(value=0.0, max=8.0), HTML(value='')))"
      ]
     },
     "metadata": {},
     "output_type": "display_data"
    },
    {
     "name": "stdout",
     "output_type": "stream",
     "text": [
      "\n",
      "[1, 4, 9, 16, 25, 36, 49, 64]\n"
     ]
    }
   ],
   "source": [
    "from parallels import get_power_tpl\n",
    "\n",
    "power=[2]*len(liste)\n",
    "inputs = zip(liste, power)\n",
    "if __name__ == '__main__':\n",
    "    with Pool() as p:\n",
    "        r = list(tqdm(p.imap(get_power_tpl, inputs), total=len(liste)))\n",
    "        \n",
    "print(r)                "
   ]
  },
  {
   "cell_type": "code",
   "execution_count": 5,
   "metadata": {
    "ExecuteTime": {
     "end_time": "2022-07-30T12:59:32.837512Z",
     "start_time": "2022-07-30T12:59:32.112098Z"
    }
   },
   "outputs": [
    {
     "name": "stdout",
     "output_type": "stream",
     "text": [
      "['Brown & Brown', 'Brown & Wilson', 'Brown & Bartlett', 'Brown & Rivera', 'Brown & Molloy', 'Brown & Opie', 'Wilson & Brown', 'Wilson & Wilson', 'Wilson & Bartlett', 'Wilson & Rivera', 'Wilson & Molloy', 'Wilson & Opie', 'Bartlett & Brown', 'Bartlett & Wilson', 'Bartlett & Bartlett', 'Bartlett & Rivera', 'Bartlett & Molloy', 'Bartlett & Opie', 'Rivera & Brown', 'Rivera & Wilson', 'Rivera & Bartlett', 'Rivera & Rivera', 'Rivera & Molloy', 'Rivera & Opie', 'Molloy & Brown', 'Molloy & Wilson', 'Molloy & Bartlett', 'Molloy & Rivera', 'Molloy & Molloy', 'Molloy & Opie', 'Opie & Brown', 'Opie & Wilson', 'Opie & Bartlett', 'Opie & Rivera', 'Opie & Molloy', 'Opie & Opie']\n"
     ]
    }
   ],
   "source": [
    "from itertools import product\n",
    "from parallels import merge_names\n",
    "\n",
    "if __name__ == '__main__':\n",
    "    names = ['Brown', 'Wilson', 'Bartlett', 'Rivera', 'Molloy', 'Opie']\n",
    "    with Pool(processes=3) as pool:\n",
    "        results = pool.starmap(merge_names, product(names, repeat=2))\n",
    "    print(results)"
   ]
  },
  {
   "cell_type": "code",
   "execution_count": null,
   "metadata": {},
   "outputs": [],
   "source": []
  }
 ],
 "metadata": {
  "hide_input": false,
  "kernelspec": {
   "display_name": "Python 3 (ipykernel)",
   "language": "python",
   "name": "python3"
  },
  "language_info": {
   "codemirror_mode": {
    "name": "ipython",
    "version": 3
   },
   "file_extension": ".py",
   "mimetype": "text/x-python",
   "name": "python",
   "nbconvert_exporter": "python",
   "pygments_lexer": "ipython3",
   "version": "3.8.6"
  },
  "toc": {
   "base_numbering": 1,
   "nav_menu": {},
   "number_sections": true,
   "sideBar": true,
   "skip_h1_title": false,
   "title_cell": "Table of Contents",
   "title_sidebar": "Contents",
   "toc_cell": false,
   "toc_position": {
    "height": "732px",
    "left": "300px",
    "top": "111.125px",
    "width": "384px"
   },
   "toc_section_display": true,
   "toc_window_display": true
  },
  "varInspector": {
   "cols": {
    "lenName": 16,
    "lenType": 16,
    "lenVar": 40
   },
   "kernels_config": {
    "python": {
     "delete_cmd_postfix": "",
     "delete_cmd_prefix": "del ",
     "library": "var_list.py",
     "varRefreshCmd": "print(var_dic_list())"
    },
    "r": {
     "delete_cmd_postfix": ") ",
     "delete_cmd_prefix": "rm(",
     "library": "var_list.r",
     "varRefreshCmd": "cat(var_dic_list()) "
    }
   },
   "types_to_exclude": [
    "module",
    "function",
    "builtin_function_or_method",
    "instance",
    "_Feature"
   ],
   "window_display": false
  }
 },
 "nbformat": 4,
 "nbformat_minor": 4
}
