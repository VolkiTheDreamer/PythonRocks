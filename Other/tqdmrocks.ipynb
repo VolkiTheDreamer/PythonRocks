{
  "cells": [
    {
      "cell_type": "markdown",
      "metadata": {
        "id": "view-in-github",
        "colab_type": "text"
      },
      "source": [
        "<a href=\"https://colab.research.google.com/github/VolkiTheDreamer/PythonRocks/blob/master/Other/tqdmrocks.ipynb\" target=\"_parent\"><img src=\"https://colab.research.google.com/assets/colab-badge.svg\" alt=\"Open In Colab\"/></a>"
      ]
    },
    {
      "cell_type": "markdown",
      "metadata": {
        "id": "ohdQZHYP0cmz"
      },
      "source": [
        "# single thread"
      ]
    },
    {
      "cell_type": "code",
      "execution_count": null,
      "metadata": {
        "ExecuteTime": {
          "end_time": "2022-08-01T21:09:00.172413Z",
          "start_time": "2022-08-01T21:09:00.148478Z"
        },
        "id": "Ml7T3uaA0cm3"
      },
      "outputs": [],
      "source": [
        "from IPython.core.interactiveshell import InteractiveShell\n",
        "InteractiveShell.ast_node_interactivity = 'last'"
      ]
    },
    {
      "cell_type": "code",
      "execution_count": null,
      "metadata": {
        "ExecuteTime": {
          "end_time": "2022-08-01T21:09:00.265167Z",
          "start_time": "2022-08-01T21:09:00.186377Z"
        },
        "id": "vjrzqGIB0cm6"
      },
      "outputs": [],
      "source": [
        "from time import sleep\n",
        "import sys\n",
        "# from tqdm import tqdm #no need to use this in notebooks, may be used in vs code\n",
        "#tqdm.tqdm_notebook is depreceated, use tqdm.notebook.tqdm_notebook or tqdm.notebook.tqdm\n",
        "from tqdm.notebook import tqdm, tqdm_notebook"
      ]
    },
    {
      "cell_type": "code",
      "execution_count": null,
      "metadata": {
        "ExecuteTime": {
          "end_time": "2022-08-01T21:09:05.543225Z",
          "start_time": "2022-08-01T21:09:00.277137Z"
        },
        "colab": {
          "referenced_widgets": [
            "2919c2333ee545a986f5e57f92654a29"
          ]
        },
        "id": "6VfGt6MF0cm8",
        "outputId": "a4975e48-f894-47d2-d2af-0728dbe159fe"
      },
      "outputs": [
        {
          "data": {
            "application/vnd.jupyter.widget-view+json": {
              "model_id": "2919c2333ee545a986f5e57f92654a29",
              "version_major": 2,
              "version_minor": 0
            },
            "text/plain": [
              "HBox(children=(HTML(value=''), FloatProgress(value=0.0, max=5.0), HTML(value='')))"
            ]
          },
          "metadata": {},
          "output_type": "display_data"
        },
        {
          "name": "stdout",
          "output_type": "stream",
          "text": [
            "1\n",
            "2\n",
            "3\n",
            "4\n",
            "5\n",
            "\n"
          ]
        }
      ],
      "source": [
        "list_=[1,2,3,4,5]\n",
        "for i in tqdm(list_):\n",
        "    print(i)\n",
        "    sleep(1)"
      ]
    },
    {
      "cell_type": "code",
      "execution_count": null,
      "metadata": {
        "ExecuteTime": {
          "end_time": "2022-08-01T21:09:08.840604Z",
          "start_time": "2022-08-01T21:09:05.556191Z"
        },
        "colab": {
          "referenced_widgets": [
            "0ea05cba003649d7a087f9ea05821a7f"
          ]
        },
        "id": "UTpW61rp0cm_",
        "outputId": "dda8bec8-11ed-4c23-cd64-fa351e402553"
      },
      "outputs": [
        {
          "data": {
            "application/vnd.jupyter.widget-view+json": {
              "model_id": "0ea05cba003649d7a087f9ea05821a7f",
              "version_major": 2,
              "version_minor": 0
            },
            "text/plain": [
              "HBox(children=(HTML(value=''), FloatProgress(value=0.0, max=3.0), HTML(value='')))"
            ]
          },
          "metadata": {},
          "output_type": "display_data"
        },
        {
          "name": "stdout",
          "output_type": "stream",
          "text": [
            "\r",
            "processed: 0\n"
          ]
        },
        {
          "data": {
            "text/plain": [
              "True"
            ]
          },
          "execution_count": 4,
          "metadata": {},
          "output_type": "execute_result"
        },
        {
          "name": "stdout",
          "output_type": "stream",
          "text": [
            "\r",
            "processed: 1\n"
          ]
        },
        {
          "data": {
            "text/plain": [
              "True"
            ]
          },
          "execution_count": 4,
          "metadata": {},
          "output_type": "execute_result"
        },
        {
          "name": "stdout",
          "output_type": "stream",
          "text": [
            "\r",
            "processed: 2\n"
          ]
        },
        {
          "data": {
            "text/plain": [
              "True"
            ]
          },
          "execution_count": 4,
          "metadata": {},
          "output_type": "execute_result"
        },
        {
          "name": "stdout",
          "output_type": "stream",
          "text": [
            "\n"
          ]
        }
      ],
      "source": [
        "values = range(3)\n",
        "with tqdm(total=len(values)) as pbar:\n",
        "    for i in values:\n",
        "        pbar.write('processed: %d' %i)\n",
        "        pbar.update(1)\n",
        "        sleep(1)"
      ]
    },
    {
      "cell_type": "code",
      "execution_count": null,
      "metadata": {
        "ExecuteTime": {
          "end_time": "2022-08-01T21:09:12.037886Z",
          "start_time": "2022-08-01T21:09:08.840604Z"
        },
        "colab": {
          "referenced_widgets": [
            "0a71015cacb14dc4bd72f715647a6a05"
          ]
        },
        "id": "MchfJKu40cnB",
        "outputId": "4268643e-7f8d-4067-8e93-976ac5a16b8c"
      },
      "outputs": [
        {
          "data": {
            "application/vnd.jupyter.widget-view+json": {
              "model_id": "0a71015cacb14dc4bd72f715647a6a05",
              "version_major": 2,
              "version_minor": 0
            },
            "text/plain": [
              "HBox(children=(HTML(value=''), FloatProgress(value=0.0, max=3.0), HTML(value='')))"
            ]
          },
          "metadata": {},
          "output_type": "display_data"
        },
        {
          "name": "stdout",
          "output_type": "stream",
          "text": [
            "\r",
            "processed: 1\n"
          ]
        },
        {
          "data": {
            "text/plain": [
              "True"
            ]
          },
          "execution_count": 5,
          "metadata": {},
          "output_type": "execute_result"
        },
        {
          "name": "stdout",
          "output_type": "stream",
          "text": [
            "\r",
            "processed: 2\n"
          ]
        },
        {
          "data": {
            "text/plain": [
              "True"
            ]
          },
          "execution_count": 5,
          "metadata": {},
          "output_type": "execute_result"
        },
        {
          "name": "stdout",
          "output_type": "stream",
          "text": [
            "\r",
            "processed: 3\n"
          ]
        },
        {
          "data": {
            "text/plain": [
              "True"
            ]
          },
          "execution_count": 5,
          "metadata": {},
          "output_type": "execute_result"
        },
        {
          "name": "stdout",
          "output_type": "stream",
          "text": [
            "\n"
          ]
        }
      ],
      "source": [
        "values = range(3)\n",
        "with tqdm(total=len(values), file=sys.stdout) as pbar:\n",
        "    for i in values:\n",
        "        pbar.write('processed: %d' % (1 + i))\n",
        "        pbar.update(1)\n",
        "        sleep(1)"
      ]
    },
    {
      "cell_type": "code",
      "execution_count": null,
      "metadata": {
        "ExecuteTime": {
          "end_time": "2022-08-01T21:09:15.227692Z",
          "start_time": "2022-08-01T21:09:12.047860Z"
        },
        "colab": {
          "referenced_widgets": [
            "9aecbcdc2daa4e3f829a79acb9e7b9ca"
          ]
        },
        "id": "HRKgC-Xn0cnC",
        "outputId": "7523164e-8324-499e-eda9-574ad34aebf0"
      },
      "outputs": [
        {
          "data": {
            "application/vnd.jupyter.widget-view+json": {
              "model_id": "9aecbcdc2daa4e3f829a79acb9e7b9ca",
              "version_major": 2,
              "version_minor": 0
            },
            "text/plain": [
              "HBox(children=(HTML(value=''), FloatProgress(value=0.0, max=3.0), HTML(value='')))"
            ]
          },
          "metadata": {},
          "output_type": "display_data"
        },
        {
          "data": {
            "text/plain": [
              "True"
            ]
          },
          "execution_count": 6,
          "metadata": {},
          "output_type": "execute_result"
        },
        {
          "data": {
            "text/plain": [
              "True"
            ]
          },
          "execution_count": 6,
          "metadata": {},
          "output_type": "execute_result"
        },
        {
          "data": {
            "text/plain": [
              "True"
            ]
          },
          "execution_count": 6,
          "metadata": {},
          "output_type": "execute_result"
        },
        {
          "name": "stdout",
          "output_type": "stream",
          "text": [
            "\n"
          ]
        }
      ],
      "source": [
        "values = range(3)\n",
        "with tqdm(total=len(values), file=sys.stdout) as pbar:\n",
        "    for i in values:\n",
        "        pbar.set_description('processed: %d' % (1 + i))\n",
        "        pbar.update(1)\n",
        "        sleep(1)"
      ]
    },
    {
      "cell_type": "markdown",
      "metadata": {
        "id": "eA2hKAXP0cnD"
      },
      "source": [
        "## Serial loops"
      ]
    },
    {
      "cell_type": "code",
      "execution_count": null,
      "metadata": {
        "ExecuteTime": {
          "end_time": "2022-08-01T21:09:20.025094Z",
          "start_time": "2022-08-01T21:09:15.227692Z"
        },
        "colab": {
          "referenced_widgets": [
            "5ef59f96b80b454a965f1104366a09af",
            "d80fb92823f544b1855c4383365a42f1"
          ]
        },
        "id": "Z1uZ3pWh0cnG",
        "outputId": "95855028-fb8a-4a8a-ae5e-205e27e8073a"
      },
      "outputs": [
        {
          "data": {
            "application/vnd.jupyter.widget-view+json": {
              "model_id": "5ef59f96b80b454a965f1104366a09af",
              "version_major": 2,
              "version_minor": 0
            },
            "text/plain": [
              "HBox(children=(HTML(value='Loop1'), FloatProgress(value=0.0, max=20.0), HTML(value='')))"
            ]
          },
          "metadata": {},
          "output_type": "display_data"
        },
        {
          "name": "stdout",
          "output_type": "stream",
          "text": [
            "\n"
          ]
        },
        {
          "data": {
            "application/vnd.jupyter.widget-view+json": {
              "model_id": "d80fb92823f544b1855c4383365a42f1",
              "version_major": 2,
              "version_minor": 0
            },
            "text/plain": [
              "HBox(children=(HTML(value='Loop2'), FloatProgress(value=0.0, max=20.0), HTML(value='')))"
            ]
          },
          "metadata": {},
          "output_type": "display_data"
        },
        {
          "name": "stdout",
          "output_type": "stream",
          "text": [
            "\n"
          ]
        }
      ],
      "source": [
        "for i in tqdm_notebook(range(20), desc=\"Loop1\"):\n",
        "    sleep(0.1)\n",
        "\n",
        "for i in tqdm(range(20), desc=\"Loop2\"):\n",
        "    sleep(0.1)"
      ]
    },
    {
      "cell_type": "markdown",
      "metadata": {
        "id": "eJBZ3Wx60cnH"
      },
      "source": [
        "## Nested(inner) loops"
      ]
    },
    {
      "cell_type": "code",
      "execution_count": null,
      "metadata": {
        "ExecuteTime": {
          "end_time": "2022-08-01T21:09:35.854856Z",
          "start_time": "2022-08-01T21:09:20.035070Z"
        },
        "colab": {
          "referenced_widgets": [
            "bdf2a75d2ea044bd8d4a466e786ee6cc",
            "e21054cf25ad4a088fb4c9842418723f",
            "d87a542363784e2e9d8876a0e6a90027",
            "d9dc118d704843e79794b9601b406a69"
          ]
        },
        "id": "ooGtZ-1T0cnI",
        "outputId": "d96698d2-2963-44e5-e7f7-359aac903a9e"
      },
      "outputs": [
        {
          "data": {
            "application/vnd.jupyter.widget-view+json": {
              "model_id": "bdf2a75d2ea044bd8d4a466e786ee6cc",
              "version_major": 2,
              "version_minor": 0
            },
            "text/plain": [
              "HBox(children=(HTML(value='Outer loop'), FloatProgress(value=0.0, max=3.0), HTML(value='')))"
            ]
          },
          "metadata": {},
          "output_type": "display_data"
        },
        {
          "data": {
            "application/vnd.jupyter.widget-view+json": {
              "model_id": "e21054cf25ad4a088fb4c9842418723f",
              "version_major": 2,
              "version_minor": 0
            },
            "text/plain": [
              "HBox(children=(HTML(value='InnerLoop'), FloatProgress(value=0.0, max=5.0), HTML(value='')))"
            ]
          },
          "metadata": {},
          "output_type": "display_data"
        },
        {
          "name": "stdout",
          "output_type": "stream",
          "text": [
            "\n"
          ]
        },
        {
          "data": {
            "application/vnd.jupyter.widget-view+json": {
              "model_id": "d87a542363784e2e9d8876a0e6a90027",
              "version_major": 2,
              "version_minor": 0
            },
            "text/plain": [
              "HBox(children=(HTML(value='InnerLoop'), FloatProgress(value=0.0, max=5.0), HTML(value='')))"
            ]
          },
          "metadata": {},
          "output_type": "display_data"
        },
        {
          "name": "stdout",
          "output_type": "stream",
          "text": [
            "\n"
          ]
        },
        {
          "data": {
            "application/vnd.jupyter.widget-view+json": {
              "model_id": "d9dc118d704843e79794b9601b406a69",
              "version_major": 2,
              "version_minor": 0
            },
            "text/plain": [
              "HBox(children=(HTML(value='InnerLoop'), FloatProgress(value=0.0, max=5.0), HTML(value='')))"
            ]
          },
          "metadata": {},
          "output_type": "display_data"
        },
        {
          "name": "stdout",
          "output_type": "stream",
          "text": [
            "\n",
            "\n"
          ]
        }
      ],
      "source": [
        "for i in tqdm_notebook(range(3), desc = 'Outer loop'):\n",
        "    for j in tqdm_notebook(range(5), desc = 'InnerLoop'):\n",
        "        time.sleep(1)"
      ]
    },
    {
      "cell_type": "code",
      "execution_count": null,
      "metadata": {
        "ExecuteTime": {
          "end_time": "2022-08-01T21:09:38.276567Z",
          "start_time": "2022-08-01T21:09:35.868816Z"
        },
        "colab": {
          "referenced_widgets": [
            "5d55b51a117c437e957f683ad82a287e"
          ]
        },
        "id": "632hFxWK0cnM",
        "outputId": "4bfa61c7-ae8a-40ef-f820-dc109cf2a1cd"
      },
      "outputs": [
        {
          "data": {
            "application/vnd.jupyter.widget-view+json": {
              "model_id": "5d55b51a117c437e957f683ad82a287e",
              "version_major": 2,
              "version_minor": 0
            },
            "text/plain": [
              "HBox(children=(HTML(value='Loop 1'), FloatProgress(value=0.0, max=20.0), HTML(value='')))"
            ]
          },
          "metadata": {},
          "output_type": "display_data"
        },
        {
          "name": "stdout",
          "output_type": "stream",
          "text": [
            "\n"
          ]
        }
      ],
      "source": [
        "#trange(i) is a special optimised instance of tqdm(range(i))\n",
        "from tqdm.notebook import trange\n",
        "for i in trange(20, desc = 'Loop 1'):\n",
        "    sleep(0.1)"
      ]
    },
    {
      "cell_type": "markdown",
      "metadata": {
        "id": "2cUHRFj40cnN"
      },
      "source": [
        "# Multiprocessing"
      ]
    },
    {
      "cell_type": "code",
      "execution_count": null,
      "metadata": {
        "ExecuteTime": {
          "end_time": "2022-08-01T21:09:38.368079Z",
          "start_time": "2022-08-01T21:09:38.290289Z"
        },
        "id": "-etpIcfT0cnP"
      },
      "outputs": [],
      "source": [
        "from multiprocessing import Pool\n",
        "from parallels import getsquare, get_power,get_power_tpl,get_power_star"
      ]
    },
    {
      "cell_type": "code",
      "execution_count": null,
      "metadata": {
        "ExecuteTime": {
          "end_time": "2022-08-01T21:09:38.399005Z",
          "start_time": "2022-08-01T21:09:38.377056Z"
        },
        "id": "QgQHT5r00cnP"
      },
      "outputs": [],
      "source": [
        "liste=list(range(40))"
      ]
    },
    {
      "cell_type": "markdown",
      "metadata": {
        "id": "Fw6Ru1px0cnR"
      },
      "source": [
        "We'll try to get square of the items."
      ]
    },
    {
      "cell_type": "raw",
      "metadata": {
        "id": "Y2yjFRTM0cnR"
      },
      "source": [
        "# content of parallels\n",
        "def getsquare(x):\n",
        "    time.sleep(3)\n",
        "    return x*x\n",
        "\n",
        "def get_power(x,power):\n",
        "    time.sleep(3)\n",
        "    return x**power\n",
        "\n",
        "def get_power_tpl(x):\n",
        "    x,power=x\n",
        "    time.sleep(3)\n",
        "    return x**power\n",
        "\n",
        "def get_power_star(args):\n",
        "    return get_power(*args)"
      ]
    },
    {
      "cell_type": "markdown",
      "metadata": {
        "id": "msxaDuwW0cnT"
      },
      "source": [
        "## Single parameter"
      ]
    },
    {
      "cell_type": "markdown",
      "metadata": {
        "id": "YEwseG850cnT"
      },
      "source": [
        "https://stackoverflow.com/questions/41920124/multiprocessing-use-tqdm-to-display-a-progress-bar"
      ]
    },
    {
      "cell_type": "markdown",
      "metadata": {
        "id": "npR_XGAw0cnU"
      },
      "source": [
        "### if it was run serially (Time killer!!!)"
      ]
    },
    {
      "cell_type": "code",
      "execution_count": null,
      "metadata": {
        "ExecuteTime": {
          "end_time": "2022-08-01T21:09:48.823632Z",
          "start_time": "2022-08-01T21:09:38.409968Z"
        },
        "colab": {
          "referenced_widgets": [
            "a765c8e9231e42ba9806f2c2dd4179f0"
          ]
        },
        "id": "75cUklKC0cnV",
        "outputId": "7fa3ebfc-5432-485c-ddfb-c0123dbd97b0"
      },
      "outputs": [
        {
          "data": {
            "application/vnd.jupyter.widget-view+json": {
              "model_id": "a765c8e9231e42ba9806f2c2dd4179f0",
              "version_major": 2,
              "version_minor": 0
            },
            "text/plain": [
              "HBox(children=(HTML(value=''), FloatProgress(value=0.0, max=40.0), HTML(value='')))"
            ]
          },
          "metadata": {},
          "output_type": "display_data"
        },
        {
          "name": "stdout",
          "output_type": "stream",
          "text": [
            "\n"
          ]
        },
        {
          "name": "stderr",
          "output_type": "stream",
          "text": [
            "2022-08-02 00:09:47,998 [2312] ERROR    root:152: [JupyterRequire] Internal Python error in the inspect module.\n",
            "Below is the traceback from this internal error.\n",
            "\n"
          ]
        },
        {
          "name": "stdout",
          "output_type": "stream",
          "text": [
            "Traceback (most recent call last):\n",
            "  File \"c:\\users\\volka\\appdata\\local\\programs\\python\\python38\\lib\\site-packages\\IPython\\core\\interactiveshell.py\", line 3444, in run_code\n",
            "    exec(code_obj, self.user_global_ns, self.user_ns)\n",
            "  File \"C:\\Users\\volka\\AppData\\Local\\Temp/ipykernel_2312/3831432461.py\", line 5, in <module>\n",
            "    temp.append(getsquare(r))\n",
            "  File \"E:\\OneDrive\\Dökümanlar\\GitHub\\PythonRocks\\Machine Learning\\parallels.py\", line 4, in getsquare\n",
            "    time.sleep(3)\n",
            "KeyboardInterrupt\n",
            "\n",
            "During handling of the above exception, another exception occurred:\n",
            "\n",
            "Traceback (most recent call last):\n",
            "  File \"c:\\users\\volka\\appdata\\local\\programs\\python\\python38\\lib\\site-packages\\IPython\\core\\interactiveshell.py\", line 2064, in showtraceback\n",
            "    stb = value._render_traceback_()\n",
            "AttributeError: 'KeyboardInterrupt' object has no attribute '_render_traceback_'\n",
            "\n",
            "During handling of the above exception, another exception occurred:\n",
            "\n",
            "Traceback (most recent call last):\n",
            "  File \"c:\\users\\volka\\appdata\\local\\programs\\python\\python38\\lib\\site-packages\\IPython\\core\\ultratb.py\", line 1101, in get_records\n",
            "    return _fixed_getinnerframes(etb, number_of_lines_of_context, tb_offset)\n",
            "  File \"c:\\users\\volka\\appdata\\local\\programs\\python\\python38\\lib\\site-packages\\IPython\\core\\ultratb.py\", line 248, in wrapped\n",
            "    return f(*args, **kwargs)\n",
            "  File \"c:\\users\\volka\\appdata\\local\\programs\\python\\python38\\lib\\site-packages\\IPython\\core\\ultratb.py\", line 281, in _fixed_getinnerframes\n",
            "    records = fix_frame_records_filenames(inspect.getinnerframes(etb, context))\n",
            "  File \"c:\\users\\volka\\appdata\\local\\programs\\python\\python38\\lib\\inspect.py\", line 1503, in getinnerframes\n",
            "    frameinfo = (tb.tb_frame,) + getframeinfo(tb, context)\n",
            "  File \"c:\\users\\volka\\appdata\\local\\programs\\python\\python38\\lib\\inspect.py\", line 1461, in getframeinfo\n",
            "    filename = getsourcefile(frame) or getfile(frame)\n",
            "  File \"c:\\users\\volka\\appdata\\local\\programs\\python\\python38\\lib\\inspect.py\", line 708, in getsourcefile\n",
            "    if getattr(getmodule(object, filename), '__loader__', None) is not None:\n",
            "  File \"c:\\users\\volka\\appdata\\local\\programs\\python\\python38\\lib\\inspect.py\", line 751, in getmodule\n",
            "    f = getabsfile(module)\n",
            "  File \"c:\\users\\volka\\appdata\\local\\programs\\python\\python38\\lib\\inspect.py\", line 720, in getabsfile\n",
            "    _filename = getsourcefile(object) or getfile(object)\n",
            "  File \"c:\\users\\volka\\appdata\\local\\programs\\python\\python38\\lib\\inspect.py\", line 705, in getsourcefile\n",
            "    if os.path.exists(filename):\n",
            "  File \"c:\\users\\volka\\appdata\\local\\programs\\python\\python38\\lib\\genericpath.py\", line 19, in exists\n",
            "    os.stat(path)\n",
            "KeyboardInterrupt\n"
          ]
        },
        {
          "ename": "TypeError",
          "evalue": "object of type 'NoneType' has no len()",
          "output_type": "error",
          "traceback": [
            "\u001b[1;31m---------------------------------------------------------------------------\u001b[0m",
            "\u001b[1;31mKeyboardInterrupt\u001b[0m                         Traceback (most recent call last)",
            "    \u001b[1;31m[... skipping hidden 1 frame]\u001b[0m\n",
            "\u001b[1;32m~\\AppData\\Local\\Temp/ipykernel_2312/3831432461.py\u001b[0m in \u001b[0;36m<module>\u001b[1;34m\u001b[0m\n\u001b[0;32m      4\u001b[0m \u001b[1;32mfor\u001b[0m \u001b[0mr\u001b[0m \u001b[1;32min\u001b[0m \u001b[0mtqdm\u001b[0m\u001b[1;33m(\u001b[0m\u001b[0mliste\u001b[0m\u001b[1;33m)\u001b[0m\u001b[1;33m:\u001b[0m\u001b[1;33m\u001b[0m\u001b[1;33m\u001b[0m\u001b[0m\n\u001b[1;32m----> 5\u001b[1;33m     \u001b[0mtemp\u001b[0m\u001b[1;33m.\u001b[0m\u001b[0mappend\u001b[0m\u001b[1;33m(\u001b[0m\u001b[0mgetsquare\u001b[0m\u001b[1;33m(\u001b[0m\u001b[0mr\u001b[0m\u001b[1;33m)\u001b[0m\u001b[1;33m)\u001b[0m\u001b[1;33m\u001b[0m\u001b[1;33m\u001b[0m\u001b[0m\n\u001b[0m\u001b[0;32m      6\u001b[0m \u001b[1;33m\u001b[0m\u001b[0m\n",
            "\u001b[1;32mE:\\OneDrive\\Dökümanlar\\GitHub\\PythonRocks\\Machine Learning\\parallels.py\u001b[0m in \u001b[0;36mgetsquare\u001b[1;34m(x)\u001b[0m\n\u001b[0;32m      3\u001b[0m \u001b[1;32mdef\u001b[0m \u001b[0mgetsquare\u001b[0m\u001b[1;33m(\u001b[0m\u001b[0mx\u001b[0m\u001b[1;33m)\u001b[0m\u001b[1;33m:\u001b[0m\u001b[1;33m\u001b[0m\u001b[1;33m\u001b[0m\u001b[0m\n\u001b[1;32m----> 4\u001b[1;33m     \u001b[0mtime\u001b[0m\u001b[1;33m.\u001b[0m\u001b[0msleep\u001b[0m\u001b[1;33m(\u001b[0m\u001b[1;36m3\u001b[0m\u001b[1;33m)\u001b[0m\u001b[1;33m\u001b[0m\u001b[1;33m\u001b[0m\u001b[0m\n\u001b[0m\u001b[0;32m      5\u001b[0m     \u001b[1;32mreturn\u001b[0m \u001b[0mx\u001b[0m\u001b[1;33m*\u001b[0m\u001b[0mx\u001b[0m\u001b[1;33m\u001b[0m\u001b[1;33m\u001b[0m\u001b[0m\n",
            "\u001b[1;31mKeyboardInterrupt\u001b[0m: ",
            "\nDuring handling of the above exception, another exception occurred:\n",
            "\u001b[1;31mAttributeError\u001b[0m                            Traceback (most recent call last)",
            "\u001b[1;32mc:\\users\\volka\\appdata\\local\\programs\\python\\python38\\lib\\site-packages\\IPython\\core\\interactiveshell.py\u001b[0m in \u001b[0;36mshowtraceback\u001b[1;34m(self, exc_tuple, filename, tb_offset, exception_only, running_compiled_code)\u001b[0m\n\u001b[0;32m   2063\u001b[0m                         \u001b[1;31m# in the engines. This should return a list of strings.\u001b[0m\u001b[1;33m\u001b[0m\u001b[1;33m\u001b[0m\u001b[1;33m\u001b[0m\u001b[0m\n\u001b[1;32m-> 2064\u001b[1;33m                         \u001b[0mstb\u001b[0m \u001b[1;33m=\u001b[0m \u001b[0mvalue\u001b[0m\u001b[1;33m.\u001b[0m\u001b[0m_render_traceback_\u001b[0m\u001b[1;33m(\u001b[0m\u001b[1;33m)\u001b[0m\u001b[1;33m\u001b[0m\u001b[1;33m\u001b[0m\u001b[0m\n\u001b[0m\u001b[0;32m   2065\u001b[0m                     \u001b[1;32mexcept\u001b[0m \u001b[0mException\u001b[0m\u001b[1;33m:\u001b[0m\u001b[1;33m\u001b[0m\u001b[1;33m\u001b[0m\u001b[0m\n",
            "\u001b[1;31mAttributeError\u001b[0m: 'KeyboardInterrupt' object has no attribute '_render_traceback_'",
            "\nDuring handling of the above exception, another exception occurred:\n",
            "\u001b[1;31mTypeError\u001b[0m                                 Traceback (most recent call last)",
            "    \u001b[1;31m[... skipping hidden 1 frame]\u001b[0m\n",
            "\u001b[1;32mc:\\users\\volka\\appdata\\local\\programs\\python\\python38\\lib\\site-packages\\IPython\\core\\interactiveshell.py\u001b[0m in \u001b[0;36mshowtraceback\u001b[1;34m(self, exc_tuple, filename, tb_offset, exception_only, running_compiled_code)\u001b[0m\n\u001b[0;32m   2064\u001b[0m                         \u001b[0mstb\u001b[0m \u001b[1;33m=\u001b[0m \u001b[0mvalue\u001b[0m\u001b[1;33m.\u001b[0m\u001b[0m_render_traceback_\u001b[0m\u001b[1;33m(\u001b[0m\u001b[1;33m)\u001b[0m\u001b[1;33m\u001b[0m\u001b[1;33m\u001b[0m\u001b[0m\n\u001b[0;32m   2065\u001b[0m                     \u001b[1;32mexcept\u001b[0m \u001b[0mException\u001b[0m\u001b[1;33m:\u001b[0m\u001b[1;33m\u001b[0m\u001b[1;33m\u001b[0m\u001b[0m\n\u001b[1;32m-> 2066\u001b[1;33m                         stb = self.InteractiveTB.structured_traceback(etype,\n\u001b[0m\u001b[0;32m   2067\u001b[0m                                             value, tb, tb_offset=tb_offset)\n\u001b[0;32m   2068\u001b[0m \u001b[1;33m\u001b[0m\u001b[0m\n",
            "\u001b[1;32mc:\\users\\volka\\appdata\\local\\programs\\python\\python38\\lib\\site-packages\\IPython\\core\\ultratb.py\u001b[0m in \u001b[0;36mstructured_traceback\u001b[1;34m(self, etype, value, tb, tb_offset, number_of_lines_of_context)\u001b[0m\n\u001b[0;32m   1365\u001b[0m         \u001b[1;32melse\u001b[0m\u001b[1;33m:\u001b[0m\u001b[1;33m\u001b[0m\u001b[1;33m\u001b[0m\u001b[0m\n\u001b[0;32m   1366\u001b[0m             \u001b[0mself\u001b[0m\u001b[1;33m.\u001b[0m\u001b[0mtb\u001b[0m \u001b[1;33m=\u001b[0m \u001b[0mtb\u001b[0m\u001b[1;33m\u001b[0m\u001b[1;33m\u001b[0m\u001b[0m\n\u001b[1;32m-> 1367\u001b[1;33m         return FormattedTB.structured_traceback(\n\u001b[0m\u001b[0;32m   1368\u001b[0m             self, etype, value, tb, tb_offset, number_of_lines_of_context)\n\u001b[0;32m   1369\u001b[0m \u001b[1;33m\u001b[0m\u001b[0m\n",
            "\u001b[1;32mc:\\users\\volka\\appdata\\local\\programs\\python\\python38\\lib\\site-packages\\IPython\\core\\ultratb.py\u001b[0m in \u001b[0;36mstructured_traceback\u001b[1;34m(self, etype, value, tb, tb_offset, number_of_lines_of_context)\u001b[0m\n\u001b[0;32m   1265\u001b[0m         \u001b[1;32mif\u001b[0m \u001b[0mmode\u001b[0m \u001b[1;32min\u001b[0m \u001b[0mself\u001b[0m\u001b[1;33m.\u001b[0m\u001b[0mverbose_modes\u001b[0m\u001b[1;33m:\u001b[0m\u001b[1;33m\u001b[0m\u001b[1;33m\u001b[0m\u001b[0m\n\u001b[0;32m   1266\u001b[0m             \u001b[1;31m# Verbose modes need a full traceback\u001b[0m\u001b[1;33m\u001b[0m\u001b[1;33m\u001b[0m\u001b[1;33m\u001b[0m\u001b[0m\n\u001b[1;32m-> 1267\u001b[1;33m             return VerboseTB.structured_traceback(\n\u001b[0m\u001b[0;32m   1268\u001b[0m                 \u001b[0mself\u001b[0m\u001b[1;33m,\u001b[0m \u001b[0metype\u001b[0m\u001b[1;33m,\u001b[0m \u001b[0mvalue\u001b[0m\u001b[1;33m,\u001b[0m \u001b[0mtb\u001b[0m\u001b[1;33m,\u001b[0m \u001b[0mtb_offset\u001b[0m\u001b[1;33m,\u001b[0m \u001b[0mnumber_of_lines_of_context\u001b[0m\u001b[1;33m\u001b[0m\u001b[1;33m\u001b[0m\u001b[0m\n\u001b[0;32m   1269\u001b[0m             )\n",
            "\u001b[1;32mc:\\users\\volka\\appdata\\local\\programs\\python\\python38\\lib\\site-packages\\IPython\\core\\ultratb.py\u001b[0m in \u001b[0;36mstructured_traceback\u001b[1;34m(self, etype, evalue, etb, tb_offset, number_of_lines_of_context)\u001b[0m\n\u001b[0;32m   1122\u001b[0m         \u001b[1;34m\"\"\"Return a nice text document describing the traceback.\"\"\"\u001b[0m\u001b[1;33m\u001b[0m\u001b[1;33m\u001b[0m\u001b[0m\n\u001b[0;32m   1123\u001b[0m \u001b[1;33m\u001b[0m\u001b[0m\n\u001b[1;32m-> 1124\u001b[1;33m         formatted_exception = self.format_exception_as_a_whole(etype, evalue, etb, number_of_lines_of_context,\n\u001b[0m\u001b[0;32m   1125\u001b[0m                                                                tb_offset)\n\u001b[0;32m   1126\u001b[0m \u001b[1;33m\u001b[0m\u001b[0m\n",
            "\u001b[1;32mc:\\users\\volka\\appdata\\local\\programs\\python\\python38\\lib\\site-packages\\IPython\\core\\ultratb.py\u001b[0m in \u001b[0;36mformat_exception_as_a_whole\u001b[1;34m(self, etype, evalue, etb, number_of_lines_of_context, tb_offset)\u001b[0m\n\u001b[0;32m   1080\u001b[0m \u001b[1;33m\u001b[0m\u001b[0m\n\u001b[0;32m   1081\u001b[0m \u001b[1;33m\u001b[0m\u001b[0m\n\u001b[1;32m-> 1082\u001b[1;33m         \u001b[0mlast_unique\u001b[0m\u001b[1;33m,\u001b[0m \u001b[0mrecursion_repeat\u001b[0m \u001b[1;33m=\u001b[0m \u001b[0mfind_recursion\u001b[0m\u001b[1;33m(\u001b[0m\u001b[0morig_etype\u001b[0m\u001b[1;33m,\u001b[0m \u001b[0mevalue\u001b[0m\u001b[1;33m,\u001b[0m \u001b[0mrecords\u001b[0m\u001b[1;33m)\u001b[0m\u001b[1;33m\u001b[0m\u001b[1;33m\u001b[0m\u001b[0m\n\u001b[0m\u001b[0;32m   1083\u001b[0m \u001b[1;33m\u001b[0m\u001b[0m\n\u001b[0;32m   1084\u001b[0m         \u001b[0mframes\u001b[0m \u001b[1;33m=\u001b[0m \u001b[0mself\u001b[0m\u001b[1;33m.\u001b[0m\u001b[0mformat_records\u001b[0m\u001b[1;33m(\u001b[0m\u001b[0mrecords\u001b[0m\u001b[1;33m,\u001b[0m \u001b[0mlast_unique\u001b[0m\u001b[1;33m,\u001b[0m \u001b[0mrecursion_repeat\u001b[0m\u001b[1;33m)\u001b[0m\u001b[1;33m\u001b[0m\u001b[1;33m\u001b[0m\u001b[0m\n",
            "\u001b[1;32mc:\\users\\volka\\appdata\\local\\programs\\python\\python38\\lib\\site-packages\\IPython\\core\\ultratb.py\u001b[0m in \u001b[0;36mfind_recursion\u001b[1;34m(etype, value, records)\u001b[0m\n\u001b[0;32m    380\u001b[0m     \u001b[1;31m# first frame (from in to out) that looks different.\u001b[0m\u001b[1;33m\u001b[0m\u001b[1;33m\u001b[0m\u001b[1;33m\u001b[0m\u001b[0m\n\u001b[0;32m    381\u001b[0m     \u001b[1;32mif\u001b[0m \u001b[1;32mnot\u001b[0m \u001b[0mis_recursion_error\u001b[0m\u001b[1;33m(\u001b[0m\u001b[0metype\u001b[0m\u001b[1;33m,\u001b[0m \u001b[0mvalue\u001b[0m\u001b[1;33m,\u001b[0m \u001b[0mrecords\u001b[0m\u001b[1;33m)\u001b[0m\u001b[1;33m:\u001b[0m\u001b[1;33m\u001b[0m\u001b[1;33m\u001b[0m\u001b[0m\n\u001b[1;32m--> 382\u001b[1;33m         \u001b[1;32mreturn\u001b[0m \u001b[0mlen\u001b[0m\u001b[1;33m(\u001b[0m\u001b[0mrecords\u001b[0m\u001b[1;33m)\u001b[0m\u001b[1;33m,\u001b[0m \u001b[1;36m0\u001b[0m\u001b[1;33m\u001b[0m\u001b[1;33m\u001b[0m\u001b[0m\n\u001b[0m\u001b[0;32m    383\u001b[0m \u001b[1;33m\u001b[0m\u001b[0m\n\u001b[0;32m    384\u001b[0m     \u001b[1;31m# Select filename, lineno, func_name to track frames with\u001b[0m\u001b[1;33m\u001b[0m\u001b[1;33m\u001b[0m\u001b[1;33m\u001b[0m\u001b[0m\n",
            "\u001b[1;31mTypeError\u001b[0m: object of type 'NoneType' has no len()"
          ]
        }
      ],
      "source": [
        "from parallels import getsquare\n",
        "\n",
        "temp=[]\n",
        "for r in tqdm(liste):\n",
        "    temp.append(getsquare(r))\n",
        "\n",
        "temp"
      ]
    },
    {
      "cell_type": "markdown",
      "metadata": {
        "id": "e_QZk75d0cnV"
      },
      "source": [
        "### imap method"
      ]
    },
    {
      "cell_type": "code",
      "execution_count": null,
      "metadata": {
        "ExecuteTime": {
          "end_time": "2022-08-01T21:10:09.664527Z",
          "start_time": "2022-08-01T21:09:52.992914Z"
        },
        "colab": {
          "referenced_widgets": [
            "94e4fbbfe5e14155832eb0c2ca8872ac"
          ]
        },
        "id": "pAtUCiF_0cnX",
        "outputId": "ceaa245b-8852-4acd-be16-f547ddad2f87"
      },
      "outputs": [
        {
          "data": {
            "application/vnd.jupyter.widget-view+json": {
              "model_id": "94e4fbbfe5e14155832eb0c2ca8872ac",
              "version_major": 2,
              "version_minor": 0
            },
            "text/plain": [
              "HBox(children=(HTML(value=''), FloatProgress(value=0.0, max=40.0), HTML(value='')))"
            ]
          },
          "metadata": {},
          "output_type": "display_data"
        },
        {
          "name": "stdout",
          "output_type": "stream",
          "text": [
            "\n",
            "[0, 1, 4, 9, 16, 25, 36, 49, 64, 81, 100, 121, 144, 169, 196, 225, 256, 289, 324, 361, 400, 441, 484, 529, 576, 625, 676, 729, 784, 841, 900, 961, 1024, 1089, 1156, 1225, 1296, 1369, 1444, 1521]\n"
          ]
        }
      ],
      "source": [
        "if __name__ == '__main__':\n",
        "    with Pool() as p:\n",
        "        r = list(tqdm(p.imap(getsquare, liste), total=len(liste)))\n",
        "\n",
        "print(r)"
      ]
    },
    {
      "cell_type": "markdown",
      "metadata": {
        "id": "SNRfWVQQ0cnZ"
      },
      "source": [
        "### tqdm.contrib.concurrent method"
      ]
    },
    {
      "cell_type": "code",
      "execution_count": null,
      "metadata": {
        "ExecuteTime": {
          "end_time": "2022-08-01T21:10:24.250194Z",
          "start_time": "2022-08-01T21:10:09.676497Z"
        },
        "colab": {
          "referenced_widgets": [
            "a3467d80dc4e468fbdbf9a2d74b9e796"
          ]
        },
        "id": "JuLbyE0E0cnZ",
        "outputId": "bfb82ed6-f8d2-472a-b89f-94ce25dad72a"
      },
      "outputs": [
        {
          "data": {
            "application/vnd.jupyter.widget-view+json": {
              "model_id": "a3467d80dc4e468fbdbf9a2d74b9e796",
              "version_major": 2,
              "version_minor": 0
            },
            "text/plain": [
              "HBox(children=(HTML(value=''), FloatProgress(value=0.0, max=40.0), HTML(value='')))"
            ]
          },
          "metadata": {},
          "output_type": "display_data"
        },
        {
          "name": "stdout",
          "output_type": "stream",
          "text": [
            "\n"
          ]
        }
      ],
      "source": [
        "from tqdm.contrib.concurrent import process_map  # or thread_map if multithread instead of multiprocess\n",
        "\n",
        "if __name__ == '__main__':\n",
        "    r = process_map(getsquare, liste)"
      ]
    },
    {
      "cell_type": "markdown",
      "metadata": {
        "id": "pE1QG5da0cna"
      },
      "source": [
        "### context manager method"
      ]
    },
    {
      "cell_type": "code",
      "execution_count": null,
      "metadata": {
        "ExecuteTime": {
          "end_time": "2022-08-01T21:10:40.784540Z",
          "start_time": "2022-08-01T21:10:24.258185Z"
        },
        "colab": {
          "referenced_widgets": [
            "3f5013781f1e4c1cbcbc77f2dff313cd"
          ]
        },
        "id": "0DmKQXsG0cnb",
        "outputId": "6fabbed9-aa76-4dc1-9b54-ec77aa913cc2"
      },
      "outputs": [
        {
          "data": {
            "application/vnd.jupyter.widget-view+json": {
              "model_id": "3f5013781f1e4c1cbcbc77f2dff313cd",
              "version_major": 2,
              "version_minor": 0
            },
            "text/plain": [
              "HBox(children=(HTML(value=''), FloatProgress(value=0.0, max=40.0), HTML(value='')))"
            ]
          },
          "metadata": {},
          "output_type": "display_data"
        },
        {
          "data": {
            "text/plain": [
              "True"
            ]
          },
          "execution_count": 15,
          "metadata": {},
          "output_type": "execute_result"
        },
        {
          "data": {
            "text/plain": [
              "True"
            ]
          },
          "execution_count": 15,
          "metadata": {},
          "output_type": "execute_result"
        },
        {
          "data": {
            "text/plain": [
              "True"
            ]
          },
          "execution_count": 15,
          "metadata": {},
          "output_type": "execute_result"
        },
        {
          "data": {
            "text/plain": [
              "True"
            ]
          },
          "execution_count": 15,
          "metadata": {},
          "output_type": "execute_result"
        },
        {
          "data": {
            "text/plain": [
              "True"
            ]
          },
          "execution_count": 15,
          "metadata": {},
          "output_type": "execute_result"
        },
        {
          "data": {
            "text/plain": [
              "True"
            ]
          },
          "execution_count": 15,
          "metadata": {},
          "output_type": "execute_result"
        },
        {
          "data": {
            "text/plain": [
              "True"
            ]
          },
          "execution_count": 15,
          "metadata": {},
          "output_type": "execute_result"
        },
        {
          "data": {
            "text/plain": [
              "True"
            ]
          },
          "execution_count": 15,
          "metadata": {},
          "output_type": "execute_result"
        },
        {
          "data": {
            "text/plain": [
              "True"
            ]
          },
          "execution_count": 15,
          "metadata": {},
          "output_type": "execute_result"
        },
        {
          "data": {
            "text/plain": [
              "True"
            ]
          },
          "execution_count": 15,
          "metadata": {},
          "output_type": "execute_result"
        },
        {
          "data": {
            "text/plain": [
              "True"
            ]
          },
          "execution_count": 15,
          "metadata": {},
          "output_type": "execute_result"
        },
        {
          "data": {
            "text/plain": [
              "True"
            ]
          },
          "execution_count": 15,
          "metadata": {},
          "output_type": "execute_result"
        },
        {
          "data": {
            "text/plain": [
              "True"
            ]
          },
          "execution_count": 15,
          "metadata": {},
          "output_type": "execute_result"
        },
        {
          "data": {
            "text/plain": [
              "True"
            ]
          },
          "execution_count": 15,
          "metadata": {},
          "output_type": "execute_result"
        },
        {
          "data": {
            "text/plain": [
              "True"
            ]
          },
          "execution_count": 15,
          "metadata": {},
          "output_type": "execute_result"
        },
        {
          "data": {
            "text/plain": [
              "True"
            ]
          },
          "execution_count": 15,
          "metadata": {},
          "output_type": "execute_result"
        },
        {
          "data": {
            "text/plain": [
              "True"
            ]
          },
          "execution_count": 15,
          "metadata": {},
          "output_type": "execute_result"
        },
        {
          "data": {
            "text/plain": [
              "True"
            ]
          },
          "execution_count": 15,
          "metadata": {},
          "output_type": "execute_result"
        },
        {
          "data": {
            "text/plain": [
              "True"
            ]
          },
          "execution_count": 15,
          "metadata": {},
          "output_type": "execute_result"
        },
        {
          "data": {
            "text/plain": [
              "True"
            ]
          },
          "execution_count": 15,
          "metadata": {},
          "output_type": "execute_result"
        },
        {
          "name": "stdout",
          "output_type": "stream",
          "text": [
            "\n"
          ]
        }
      ],
      "source": [
        "if __name__ == '__main__':\n",
        "    with Pool() as p:\n",
        "        with tqdm(total=len(liste)) as pbar:\n",
        "            for _ in p.imap_unordered(getsquare, liste):\n",
        "                pbar.update()"
      ]
    },
    {
      "cell_type": "markdown",
      "metadata": {
        "id": "QHck74bC0cnc"
      },
      "source": [
        "## Multiparameter"
      ]
    },
    {
      "cell_type": "markdown",
      "metadata": {
        "id": "xe6CHANb0cnc"
      },
      "source": [
        "- https://stackoverflow.com/questions/41920124/multiprocessing-use-tqdm-to-display-a-progress-bar\n",
        "- https://superfastpython.com/multiprocessing-pool-starmap/\n",
        "- https://betterprogramming.pub/exploring-map-vs-starmap-in-python-6bcf32f5fa4a\n",
        "- https://stackoverflow.com/questions/5442910/how-to-use-multiprocessing-pool-map-with-multiple-arguments\n",
        "- https://stackoverflow.com/questions/57354700/starmap-combined-with-tqdm/57364423#57364423"
      ]
    },
    {
      "cell_type": "markdown",
      "metadata": {
        "id": "L0pfGJWt0cnd"
      },
      "source": [
        "### starmap method"
      ]
    },
    {
      "cell_type": "code",
      "execution_count": null,
      "metadata": {
        "ExecuteTime": {
          "end_time": "2022-08-01T21:22:49.076270Z",
          "start_time": "2022-08-01T21:22:29.481957Z"
        },
        "id": "g9XykX7q0cne",
        "outputId": "04476cec-c7dd-498b-a445-fa7254484c43"
      },
      "outputs": [
        {
          "name": "stdout",
          "output_type": "stream",
          "text": [
            "[0, 1, 4, 9, 16, 25, 36, 49, 64, 81, 100, 121, 144, 169, 196, 225, 256, 289, 324, 361, 400, 441, 484, 529, 576, 625, 676, 729, 784, 841, 900, 961, 1024, 1089, 1156, 1225, 1296, 1369, 1444, 1521]\n"
          ]
        }
      ],
      "source": [
        "#tqdmsiz starmap paralel olarak hızlı çalışyor\n",
        "power=[2]*len(liste)\n",
        "inputs = zip(liste, power)\n",
        "if __name__ == '__main__':\n",
        "    with Pool() as p:\n",
        "        r = p.starmap(get_power, inputs)\n",
        "\n",
        "print(r)"
      ]
    },
    {
      "cell_type": "code",
      "execution_count": null,
      "metadata": {
        "ExecuteTime": {
          "end_time": "2022-08-01T21:24:53.358920Z",
          "start_time": "2022-08-01T21:24:34.125862Z"
        },
        "colab": {
          "referenced_widgets": [
            "f88ea84ad3bc4d92ad796646c506d187"
          ]
        },
        "id": "9a9YkFKk0cnf",
        "outputId": "6c399a50-85f2-4ce1-95e5-d2f3cab23b7e"
      },
      "outputs": [
        {
          "data": {
            "application/vnd.jupyter.widget-view+json": {
              "model_id": "f88ea84ad3bc4d92ad796646c506d187",
              "version_major": 2,
              "version_minor": 0
            },
            "text/plain": [
              "HBox(children=(HTML(value=''), FloatProgress(value=0.0, max=40.0), HTML(value='')))"
            ]
          },
          "metadata": {},
          "output_type": "display_data"
        },
        {
          "name": "stdout",
          "output_type": "stream",
          "text": [
            "\n",
            "[0, 1, 4, 9, 16, 25, 36, 49, 64, 81, 100, 121, 144, 169, 196, 225, 256, 289, 324, 361, 400, 441, 484, 529, 576, 625, 676, 729, 784, 841, 900, 961, 1024, 1089, 1156, 1225, 1296, 1369, 1444, 1521]\n"
          ]
        }
      ],
      "source": [
        "#this doesnt work as expected, First progressbar qucikly fills, and then comes code execution, which we don't want.\n",
        "power=[2]*len(liste)\n",
        "inputs = zip(liste, power)\n",
        "if __name__ == '__main__':\n",
        "    with Pool() as p:\n",
        "        r = p.starmap(get_power, tqdm(inputs, total=len(liste)))\n",
        "\n",
        "print(r)"
      ]
    },
    {
      "cell_type": "code",
      "execution_count": null,
      "metadata": {
        "ExecuteTime": {
          "end_time": "2022-08-01T21:25:14.713509Z",
          "start_time": "2022-08-01T21:24:55.117176Z"
        },
        "colab": {
          "referenced_widgets": [
            "f1befd4dd88c4838878db94d5e54b923"
          ]
        },
        "id": "Utv2FEM10cng",
        "outputId": "3480b655-a9a4-484a-a8c9-aba34e92a420"
      },
      "outputs": [
        {
          "data": {
            "application/vnd.jupyter.widget-view+json": {
              "model_id": "f1befd4dd88c4838878db94d5e54b923",
              "version_major": 2,
              "version_minor": 0
            },
            "text/plain": [
              "HBox(children=(HTML(value=''), FloatProgress(value=0.0, max=40.0), HTML(value='')))"
            ]
          },
          "metadata": {},
          "output_type": "display_data"
        },
        {
          "name": "stdout",
          "output_type": "stream",
          "text": [
            "\n",
            "[0, 1, 4, 9, 16, 25, 36, 49, 64, 81, 100, 121, 144, 169, 196, 225, 256, 289, 324, 361, 400, 441, 484, 529, 576, 625, 676, 729, 784, 841, 900, 961, 1024, 1089, 1156, 1225, 1296, 1369, 1444, 1521]\n"
          ]
        }
      ],
      "source": [
        "#yardımcı star fonksiyonu da işe yaramadı, yine hızlıca aktı (starmap değil map bu sefer)\n",
        "if __name__ == '__main__':\n",
        "    with Pool() as p:\n",
        "        r = p.map(get_power_star, tqdm([(x,2) for x in liste], total=len(liste)))\n",
        "\n",
        "print(r)"
      ]
    },
    {
      "cell_type": "markdown",
      "metadata": {
        "id": "SrJ_aqbk0cnh"
      },
      "source": [
        "<a href=\"https://stackoverflow.com/questions/57354700/starmap-combined-with-tqdm/57364423#57364423\">şurdaki</a> patch yöntemini uygulaman lazım, veya onun yerine aşağıdaki imap en güzeli"
      ]
    },
    {
      "cell_type": "code",
      "execution_count": null,
      "metadata": {
        "ExecuteTime": {
          "end_time": "2022-08-01T21:38:39.313040Z",
          "start_time": "2022-08-01T21:38:22.940213Z"
        },
        "colab": {
          "referenced_widgets": [
            "daddc6a9e8a740e49aa77ad723fc81cc"
          ]
        },
        "id": "i-bZOI890cni",
        "outputId": "95ab20fd-47af-4f66-89ee-9676b02acc13"
      },
      "outputs": [
        {
          "data": {
            "application/vnd.jupyter.widget-view+json": {
              "model_id": "daddc6a9e8a740e49aa77ad723fc81cc",
              "version_major": 2,
              "version_minor": 0
            },
            "text/plain": [
              "HBox(children=(HTML(value=''), FloatProgress(value=0.0, max=40.0), HTML(value='')))"
            ]
          },
          "metadata": {},
          "output_type": "display_data"
        },
        {
          "name": "stdout",
          "output_type": "stream",
          "text": [
            "\n"
          ]
        }
      ],
      "source": [
        "import parallels\n",
        "inputs = [(x,2) for x in liste]\n",
        "if __name__ == '__main__':\n",
        "    with Pool() as p:\n",
        "        for _ in tqdm(p.istarmap(get_power, inputs), total=len(inputs))            :\n",
        "            pass"
      ]
    },
    {
      "cell_type": "markdown",
      "metadata": {
        "id": "glv2YW5n0cnj"
      },
      "source": [
        "### imap method: imitating single parameter with list of tuple"
      ]
    },
    {
      "cell_type": "code",
      "execution_count": null,
      "metadata": {
        "ExecuteTime": {
          "end_time": "2022-08-01T20:53:46.591435Z",
          "start_time": "2022-08-01T20:53:30.074237Z"
        },
        "id": "6Krh1GSh0cnk"
      },
      "outputs": [],
      "source": [
        "inputs = [(x,2) for x in liste]\n",
        "#or\n",
        "# power=[2]*len(liste)\n",
        "# inputs = zip(liste, power)\n",
        "if __name__ == '__main__':\n",
        "    with Pool() as p:\n",
        "        r = list(tqdm(p.imap(get_power_tpl, inputs), total=len(inputs)))\n",
        "\n",
        "print(r)"
      ]
    }
  ],
  "metadata": {
    "hide_input": false,
    "kernelspec": {
      "display_name": "Python 3 (ipykernel)",
      "language": "python",
      "name": "python3"
    },
    "language_info": {
      "codemirror_mode": {
        "name": "ipython",
        "version": 3
      },
      "file_extension": ".py",
      "mimetype": "text/x-python",
      "name": "python",
      "nbconvert_exporter": "python",
      "pygments_lexer": "ipython3",
      "version": "3.8.6"
    },
    "toc": {
      "base_numbering": 1,
      "nav_menu": {},
      "number_sections": true,
      "sideBar": true,
      "skip_h1_title": false,
      "title_cell": "Table of Contents",
      "title_sidebar": "Contents",
      "toc_cell": false,
      "toc_position": {
        "height": "732px",
        "left": "300px",
        "top": "111.125px",
        "width": "384px"
      },
      "toc_section_display": true,
      "toc_window_display": true
    },
    "varInspector": {
      "cols": {
        "lenName": 16,
        "lenType": 16,
        "lenVar": 40
      },
      "kernels_config": {
        "python": {
          "delete_cmd_postfix": "",
          "delete_cmd_prefix": "del ",
          "library": "var_list.py",
          "varRefreshCmd": "print(var_dic_list())"
        },
        "r": {
          "delete_cmd_postfix": ") ",
          "delete_cmd_prefix": "rm(",
          "library": "var_list.r",
          "varRefreshCmd": "cat(var_dic_list()) "
        }
      },
      "types_to_exclude": [
        "module",
        "function",
        "builtin_function_or_method",
        "instance",
        "_Feature"
      ],
      "window_display": false
    },
    "colab": {
      "provenance": [],
      "include_colab_link": true
    }
  },
  "nbformat": 4,
  "nbformat_minor": 0
}