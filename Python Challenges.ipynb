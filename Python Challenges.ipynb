{
 "cells": [
  {
   "cell_type": "markdown",
   "metadata": {},
   "source": [
    "<b>Son güncelleme: 06.11.2021</b>"
   ]
  },
  {
   "cell_type": "markdown",
   "metadata": {},
   "source": [
    "NOT:Dokümanda zaman zaman güncellemeler olacağı için arada bir güncel versiyon kontrolü yapmanızı tavsiye ederim.\n",
    "\n",
    "\"nbviewer\" üzerinden görüntülüyorsanız, dosyayı kaydetmek için sayfanın sağ üst köşesindeki download butonuna tıklayın, açılan sayfada herhangi bir yere sağ tıklayın ve farklı kaydet diyerek dosyayı istediğiniz klasöre kaydedin. Dosyayı açabilmek için Jupyter'in kurulması gerekmekte olup, yeni başlayan biriyseniz aşağıda kurulumla ilgili detayları inceleyin."
   ]
  },
  {
   "cell_type": "markdown",
   "metadata": {
    "toc": true
   },
   "source": [
    "<h1>Table of Contents<span class=\"tocSkip\"></span></h1>\n",
    "<div class=\"toc\"><ul class=\"toc-item\"><li><span><a href=\"#Giriş\" data-toc-modified-id=\"Giriş-1\"><span class=\"toc-item-num\">1&nbsp;&nbsp;</span>Giriş</a></span></li><li><span><a href=\"#Temel-Python-Soruları\" data-toc-modified-id=\"Temel-Python-Soruları-2\"><span class=\"toc-item-num\">2&nbsp;&nbsp;</span>Temel Python Soruları</a></span><ul class=\"toc-item\"><li><span><a href=\"#En-uzun-kelime\" data-toc-modified-id=\"En-uzun-kelime-2.1\"><span class=\"toc-item-num\">2.1&nbsp;&nbsp;</span>En uzun kelime</a></span></li><li><span><a href=\"#Karakter-frekansı\" data-toc-modified-id=\"Karakter-frekansı-2.2\"><span class=\"toc-item-num\">2.2&nbsp;&nbsp;</span>Karakter frekansı</a></span></li><li><span><a href=\"#Sadece-nümerik-elemanların-tespiti\" data-toc-modified-id=\"Sadece-nümerik-elemanların-tespiti-2.3\"><span class=\"toc-item-num\">2.3&nbsp;&nbsp;</span>Sadece nümerik elemanların tespiti</a></span></li><li><span><a href=\"#Listeden-negatiflerin-elenmesi\" data-toc-modified-id=\"Listeden-negatiflerin-elenmesi-2.4\"><span class=\"toc-item-num\">2.4&nbsp;&nbsp;</span>Listeden negatiflerin elenmesi</a></span></li><li><span><a href=\"#Faktöriyel\" data-toc-modified-id=\"Faktöriyel-2.5\"><span class=\"toc-item-num\">2.5&nbsp;&nbsp;</span>Faktöriyel</a></span></li><li><span><a href=\"#Metni-terse-çevir\" data-toc-modified-id=\"Metni-terse-çevir-2.6\"><span class=\"toc-item-num\">2.6&nbsp;&nbsp;</span>Metni terse çevir</a></span></li><li><span><a href=\"#Listedeki-elemanların-replacementı\" data-toc-modified-id=\"Listedeki-elemanların-replacementı-2.7\"><span class=\"toc-item-num\">2.7&nbsp;&nbsp;</span>Listedeki elemanların replacementı</a></span></li><li><span><a href=\"#Cümledeki-kelimeleri-ters-sırada-yazdırma\" data-toc-modified-id=\"Cümledeki-kelimeleri-ters-sırada-yazdırma-2.8\"><span class=\"toc-item-num\">2.8&nbsp;&nbsp;</span>Cümledeki kelimeleri ters sırada yazdırma</a></span></li><li><span><a href=\"#Basit-bir-şifreleme-algoritması\" data-toc-modified-id=\"Basit-bir-şifreleme-algoritması-2.9\"><span class=\"toc-item-num\">2.9&nbsp;&nbsp;</span>Basit bir şifreleme algoritması</a></span></li><li><span><a href=\"#Kümülatif-toplama\" data-toc-modified-id=\"Kümülatif-toplama-2.10\"><span class=\"toc-item-num\">2.10&nbsp;&nbsp;</span>Kümülatif toplama</a></span></li><li><span><a href=\"#Merge-Sort\" data-toc-modified-id=\"Merge-Sort-2.11\"><span class=\"toc-item-num\">2.11&nbsp;&nbsp;</span>Merge Sort</a></span></li><li><span><a href=\"#Mükemmel-sayı\" data-toc-modified-id=\"Mükemmel-sayı-2.12\"><span class=\"toc-item-num\">2.12&nbsp;&nbsp;</span>Mükemmel sayı</a></span></li><li><span><a href=\"#EBOB-fonksiyonu\" data-toc-modified-id=\"EBOB-fonksiyonu-2.13\"><span class=\"toc-item-num\">2.13&nbsp;&nbsp;</span>EBOB fonksiyonu</a></span></li><li><span><a href=\"#EKOK-bulma\" data-toc-modified-id=\"EKOK-bulma-2.14\"><span class=\"toc-item-num\">2.14&nbsp;&nbsp;</span>EKOK bulma</a></span></li><li><span><a href=\"#Asal-sayı-bulma\" data-toc-modified-id=\"Asal-sayı-bulma-2.15\"><span class=\"toc-item-num\">2.15&nbsp;&nbsp;</span>Asal sayı bulma</a></span></li><li><span><a href=\"#Sayı-okunuşu\" data-toc-modified-id=\"Sayı-okunuşu-2.16\"><span class=\"toc-item-num\">2.16&nbsp;&nbsp;</span>Sayı okunuşu</a></span></li><li><span><a href=\"#Pisagor-sayıları\" data-toc-modified-id=\"Pisagor-sayıları-2.17\"><span class=\"toc-item-num\">2.17&nbsp;&nbsp;</span>Pisagor sayıları</a></span></li><li><span><a href=\"#Dizi-birleştirme\" data-toc-modified-id=\"Dizi-birleştirme-2.18\"><span class=\"toc-item-num\">2.18&nbsp;&nbsp;</span>Dizi birleştirme</a></span></li><li><span><a href=\"#Kelime-frekansı-bulma\" data-toc-modified-id=\"Kelime-frekansı-bulma-2.19\"><span class=\"toc-item-num\">2.19&nbsp;&nbsp;</span>Kelime frekansı bulma</a></span></li><li><span><a href=\"#İki-listenin-ortak-elemanları\" data-toc-modified-id=\"İki-listenin-ortak-elemanları-2.20\"><span class=\"toc-item-num\">2.20&nbsp;&nbsp;</span>İki listenin ortak elemanları</a></span></li><li><span><a href=\"#Palindrome-tespiti\" data-toc-modified-id=\"Palindrome-tespiti-2.21\"><span class=\"toc-item-num\">2.21&nbsp;&nbsp;</span>Palindrome tespiti</a></span></li><li><span><a href=\"#Dizi-elemanları-farklı-mı\" data-toc-modified-id=\"Dizi-elemanları-farklı-mı-2.22\"><span class=\"toc-item-num\">2.22&nbsp;&nbsp;</span>Dizi elemanları farklı mı</a></span></li><li><span><a href=\"#Kelime-sırası\" data-toc-modified-id=\"Kelime-sırası-2.23\"><span class=\"toc-item-num\">2.23&nbsp;&nbsp;</span>Kelime sırası</a></span></li><li><span><a href=\"#Liste-tarama\" data-toc-modified-id=\"Liste-tarama-2.24\"><span class=\"toc-item-num\">2.24&nbsp;&nbsp;</span>Liste tarama</a></span></li><li><span><a href=\"#Çift-sayıların-karesi\" data-toc-modified-id=\"Çift-sayıların-karesi-2.25\"><span class=\"toc-item-num\">2.25&nbsp;&nbsp;</span>Çift sayıların karesi</a></span></li><li><span><a href=\"#Mailden-ad-soyad-bulma\" data-toc-modified-id=\"Mailden-ad-soyad-bulma-2.26\"><span class=\"toc-item-num\">2.26&nbsp;&nbsp;</span>Mailden ad-soyad bulma</a></span></li><li><span><a href=\"#İkinci-harfe-göre-sıralama\" data-toc-modified-id=\"İkinci-harfe-göre-sıralama-2.27\"><span class=\"toc-item-num\">2.27&nbsp;&nbsp;</span>İkinci harfe göre sıralama</a></span></li><li><span><a href=\"#Bir-cümleden-rasgele-n-adet-kelime-seçin\" data-toc-modified-id=\"Bir-cümleden-rasgele-n-adet-kelime-seçin-2.28\"><span class=\"toc-item-num\">2.28&nbsp;&nbsp;</span>Bir cümleden rasgele n adet kelime seçin</a></span></li><li><span><a href=\"#Şifre-koşul-kontrolü-yapma\" data-toc-modified-id=\"Şifre-koşul-kontrolü-yapma-2.29\"><span class=\"toc-item-num\">2.29&nbsp;&nbsp;</span>Şifre koşul kontrolü yapma</a></span></li><li><span><a href=\"#Belirli-koşulları-sağlayan-şifre-üretimi\" data-toc-modified-id=\"Belirli-koşulları-sağlayan-şifre-üretimi-2.30\"><span class=\"toc-item-num\">2.30&nbsp;&nbsp;</span>Belirli koşulları sağlayan şifre üretimi</a></span></li><li><span><a href=\"#Belirli-koşulları-sağlayan-şifre-üretimi_2\" data-toc-modified-id=\"Belirli-koşulları-sağlayan-şifre-üretimi_2-2.31\"><span class=\"toc-item-num\">2.31&nbsp;&nbsp;</span>Belirli koşulları sağlayan şifre üretimi_2</a></span></li><li><span><a href=\"#Belirli-koşulları-sağlayan-şifre-üretimi_3\" data-toc-modified-id=\"Belirli-koşulları-sağlayan-şifre-üretimi_3-2.32\"><span class=\"toc-item-num\">2.32&nbsp;&nbsp;</span>Belirli koşulları sağlayan şifre üretimi_3</a></span></li><li><span><a href=\"#Bir-listeyi-2-boyutlu-hale-getirmek\" data-toc-modified-id=\"Bir-listeyi-2-boyutlu-hale-getirmek-2.33\"><span class=\"toc-item-num\">2.33&nbsp;&nbsp;</span>Bir listeyi 2 boyutlu hale getirmek</a></span></li><li><span><a href=\"#İki-boyutlu-bir-matristen-belirli-bir-kolondaki-elemanları-almak\" data-toc-modified-id=\"İki-boyutlu-bir-matristen-belirli-bir-kolondaki-elemanları-almak-2.34\"><span class=\"toc-item-num\">2.34&nbsp;&nbsp;</span>İki boyutlu bir matristen belirli bir kolondaki elemanları almak</a></span></li><li><span><a href=\"#Karekök-bulma\" data-toc-modified-id=\"Karekök-bulma-2.35\"><span class=\"toc-item-num\">2.35&nbsp;&nbsp;</span>Karekök bulma</a></span></li><li><span><a href=\"#Merge-Sort\" data-toc-modified-id=\"Merge-Sort-2.36\"><span class=\"toc-item-num\">2.36&nbsp;&nbsp;</span>Merge Sort</a></span></li><li><span><a href=\"#List-of-List-sıralama\" data-toc-modified-id=\"List-of-List-sıralama-2.37\"><span class=\"toc-item-num\">2.37&nbsp;&nbsp;</span>List of List sıralama</a></span></li><li><span><a href=\"#Listedeki-duplike-bir-elemanın-geçtiği-indeksleri-bulma\" data-toc-modified-id=\"Listedeki-duplike-bir-elemanın-geçtiği-indeksleri-bulma-2.38\"><span class=\"toc-item-num\">2.38&nbsp;&nbsp;</span>Listedeki duplike bir elemanın geçtiği indeksleri bulma</a></span></li><li><span><a href=\"#Bir-listeye-birden-fazla-indeks-verme\" data-toc-modified-id=\"Bir-listeye-birden-fazla-indeks-verme-2.39\"><span class=\"toc-item-num\">2.39&nbsp;&nbsp;</span>Bir listeye birden fazla indeks verme</a></span></li><li><span><a href=\"#Dictioanry'nin-Key-ve-Valueları-yer-değiştirme\" data-toc-modified-id=\"Dictioanry'nin-Key-ve-Valueları-yer-değiştirme-2.40\"><span class=\"toc-item-num\">2.40&nbsp;&nbsp;</span>Dictioanry'nin Key ve Valueları yer değiştirme</a></span></li></ul></li><li><span><a href=\"#Diğer-modüller\" data-toc-modified-id=\"Diğer-modüller-3\"><span class=\"toc-item-num\">3&nbsp;&nbsp;</span>Diğer modüller</a></span><ul class=\"toc-item\"><li><span><a href=\"#Tüm-alfanumerik-karakterler\" data-toc-modified-id=\"Tüm-alfanumerik-karakterler-3.1\"><span class=\"toc-item-num\">3.1&nbsp;&nbsp;</span>Tüm alfanumerik karakterler</a></span></li><li><span><a href=\"#Bir-stringdeki-alafanumerikler\" data-toc-modified-id=\"Bir-stringdeki-alafanumerikler-3.2\"><span class=\"toc-item-num\">3.2&nbsp;&nbsp;</span>Bir stringdeki alafanumerikler</a></span></li><li><span><a href=\"#Dosyaları-listeleme\" data-toc-modified-id=\"Dosyaları-listeleme-3.3\"><span class=\"toc-item-num\">3.3&nbsp;&nbsp;</span>Dosyaları listeleme</a></span></li><li><span><a href=\"#Kısmi-permütasyon\" data-toc-modified-id=\"Kısmi-permütasyon-3.4\"><span class=\"toc-item-num\">3.4&nbsp;&nbsp;</span>Kısmi permütasyon</a></span></li><li><span><a href=\"#File-browserda-klasör-açma\" data-toc-modified-id=\"File-browserda-klasör-açma-3.5\"><span class=\"toc-item-num\">3.5&nbsp;&nbsp;</span>File browserda klasör açma</a></span></li><li><span><a href=\"#website-açma\" data-toc-modified-id=\"website-açma-3.6\"><span class=\"toc-item-num\">3.6&nbsp;&nbsp;</span>website açma</a></span></li><li><span><a href=\"#Olası-tüm-dizilimler\" data-toc-modified-id=\"Olası-tüm-dizilimler-3.7\"><span class=\"toc-item-num\">3.7&nbsp;&nbsp;</span>Olası tüm dizilimler</a></span></li><li><span><a href=\"#Farklı-dizilerin-elemanları-arasında-permütasyon\" data-toc-modified-id=\"Farklı-dizilerin-elemanları-arasında-permütasyon-3.8\"><span class=\"toc-item-num\">3.8&nbsp;&nbsp;</span>Farklı dizilerin elemanları arasında permütasyon</a></span></li><li><span><a href=\"#jsondaki-iç-keylere-erişmek\" data-toc-modified-id=\"jsondaki-iç-keylere-erişmek-3.9\"><span class=\"toc-item-num\">3.9&nbsp;&nbsp;</span>jsondaki iç keylere erişmek</a></span></li><li><span><a href=\"#json'da-tüm-name-valueları-alma\" data-toc-modified-id=\"json'da-tüm-name-valueları-alma-3.10\"><span class=\"toc-item-num\">3.10&nbsp;&nbsp;</span>json'da tüm name valueları alma</a></span></li><li><span><a href=\"#Kaggle-utility:Dosyadan-belli-bilgileri-okuma\" data-toc-modified-id=\"Kaggle-utility:Dosyadan-belli-bilgileri-okuma-3.11\"><span class=\"toc-item-num\">3.11&nbsp;&nbsp;</span>Kaggle utility:Dosyadan belli bilgileri okuma</a></span></li></ul></li></ul></div>"
   ]
  },
  {
   "cell_type": "markdown",
   "metadata": {},
   "source": [
    "# Giriş "
   ]
  },
  {
   "cell_type": "markdown",
   "metadata": {},
   "source": [
    "Soruları mümkün olduğunca kategorilere ayırmaya çalıştım. Şimdilik sadece Genel Python soruları var ancak zaman içinde artacağını da söyleyebilirim. (Bunların bi kısmını aldığım eğitimlerin practice bölümünden bazısını da internette farklı sitelerden aldım, kimisini de kendim uydurdum)\n",
    "\n",
    "Soru hücrelerine tıklarken dikkatli olun. <b>Ayrıntılar</b> yazan satıra tıklamayın, aksi halde sorunun cevabı görünecektir. Kendinizi biraz zorlayın, hemen cevabı görmeye çalışmayın. Hala yapamazsanız cevabı görmek için ilgili hücredeki Ayrıntılar satırına tıklayın. Burada gördüğünüz cevaplar benim bulduğum cevaplar olup, sizlerin daha performanslı kodlar yazması muhtemeldir."
   ]
  },
  {
   "cell_type": "markdown",
   "metadata": {},
   "source": [
    "# Temel Python Soruları"
   ]
  },
  {
   "cell_type": "markdown",
   "metadata": {},
   "source": [
    "<h2>En uzun kelime</h2>\n",
    "<br>\n",
    "<summary>\n",
    "    <p>Parametre olarak aldığı kelimelerden en uzunu bulan bir fonksiyon yazın. Örnek input:\"volki tolki torino\"</p>\n",
    "</summary>\n",
    "<br>\n",
    "\n",
    "<details>\n",
    "<pre>\n",
    "#1.yöntem\n",
    "def LongestWord(sen):\n",
    "    splitted=str(sen).split(\" \")\n",
    "    z=[len(s) for s in splitted]\n",
    "    m=z.index(max(z))\n",
    "    return splitted[m]\n",
    "\n",
    "print(LongestWord(\"volki tolki torino\"))\n",
    "\n",
    "#2.yöntem: dict yöntemi ile\n",
    "def LongestWord(sen):\n",
    "    splitted=str(sen).split(\" \")\n",
    "    z=[len(s) for s in splitted]\n",
    "    dict_=dict(zip(z,splitted))\n",
    "    return dict_[max(z)]\n",
    "#keep this function call here  \n",
    "\n",
    "print(LongestWord(\"volki tolki torino\"))\n",
    "</pre>\n",
    "</details>\n",
    "\n"
   ]
  },
  {
   "cell_type": "code",
   "execution_count": 1,
   "metadata": {},
   "outputs": [
    {
     "name": "stdout",
     "output_type": "stream",
     "text": [
      "torino\n"
     ]
    }
   ],
   "source": [
    "#çözümünüzü burada geliştirin\n"
   ]
  },
  {
   "cell_type": "markdown",
   "metadata": {},
   "source": [
    "<h2>Karakter frekansı</h2>\n",
    "<br>\n",
    "<summary>\n",
    "    <p>Bir kelimedeki karakterlerden kaç tane olduğunu veren bir kod yazın. Örnek input:\"abcdraabasarfer\"</p>\n",
    "</summary>\n",
    "<br>\n",
    "\n",
    "<details>\n",
    "<pre>\n",
    "#1.yöntem\n",
    "def getCountofChar(metin):\n",
    "    dict_={}\n",
    "    #uniqler=''.join(set(metin)) #burası olmadan da oluyor, ama set olursa daha şık\n",
    "    for i in metin: #uniqler\n",
    "        dict_[i]=metin.count(i)\n",
    "    return dict_\n",
    "    \n",
    "a=getCountofChar(\"abcdraabasarfer\")\n",
    "for k,v in a.items():\n",
    "    print(k,v)\n",
    "    \n",
    "#2.yöntem\n",
    "def frekansBul(metin):\n",
    "    sözlük=dict()\n",
    "    for i in metin:\n",
    "        if (i in sözlük):\n",
    "            sözlük[i]+=1\n",
    "        else:\n",
    "            sözlük[i]=1\n",
    "    return sözlük\n",
    "\n",
    "a=frekansBul(\"abcdraabasarfer\")\n",
    "for k,v in a.items():\n",
    "    print(k,\"-\",v)\n",
    "</pre>\n",
    "</details>"
   ]
  },
  {
   "cell_type": "code",
   "execution_count": 2,
   "metadata": {},
   "outputs": [
    {
     "name": "stdout",
     "output_type": "stream",
     "text": [
      "a 5\n",
      "b 2\n",
      "c 1\n",
      "d 1\n",
      "r 3\n",
      "s 1\n",
      "f 1\n",
      "e 1\n"
     ]
    }
   ],
   "source": [
    "#çözümünüzü burada geliştirin. Çıktı, aşağıdaki gibi olmalı\n"
   ]
  },
  {
   "cell_type": "markdown",
   "metadata": {},
   "source": [
    "<h2>Sadece nümerik elemanların tespiti</h2>\n",
    "<br>\n",
    "<summary>\n",
    "    <p>Bir listedeki sadece sayılardan oluşan elemanları bulun. Örnek input:[\"345\",\"sadas\",\"324a\",\"14\",\"kemal\",\"123\"]</p>\n",
    "</summary>\n",
    "<br>\n",
    "\n",
    "<details>\n",
    "<pre>\n",
    "#1.yöntem:hata bloğu\n",
    "liste = [\"345\",\"sadas\",\"324a\",\"14\",\"kemal\",\"123\"]\n",
    "\n",
    "for i in liste:\n",
    "    try:        \n",
    "        print(int(i))\n",
    "    except:\n",
    "        pass\n",
    "\n",
    "#2.yöntem:regex\n",
    "import re\n",
    "\n",
    "for i in liste:\n",
    "    try:        \n",
    "        pattern = re.compile(\"^[0-9]+$\") \n",
    "        if (pattern.match(i)):\n",
    "            print(i)\n",
    "    except:\n",
    "        pass\n",
    "</pre>\n",
    "</details>"
   ]
  },
  {
   "cell_type": "code",
   "execution_count": 3,
   "metadata": {},
   "outputs": [
    {
     "name": "stdout",
     "output_type": "stream",
     "text": [
      "345\n",
      "14\n",
      "123\n"
     ]
    }
   ],
   "source": [
    "#çözümünüzü burada geliştirin. Çıktı, aşağıdaki gibi olmalı\n"
   ]
  },
  {
   "cell_type": "markdown",
   "metadata": {},
   "source": [
    "<h2>Listeden negatiflerin elenmesi</h2>\n",
    "<br>\n",
    "<summary>\n",
    "    <p>Bir listedeki negaitfleri sayıları eleyip 0 ve üstünü bırakan bi kod yazın. Örnek input:liste= [1,3,-5,9,0,12,-7]</p>\n",
    "</summary>\n",
    "<br>\n",
    "\n",
    "<details>\n",
    "<pre>\n",
    "#1.yöntem:list comprehension\n",
    "liste= [1,3,-5,9,0,12,-7]\n",
    "\n",
    "[x for x in liste if x>=0]\n",
    "#2.yöntem:filter\n",
    "liste= [1,3,-5,9,0,12,-7]\n",
    "list(filter(lambda x:x>=0, liste))\n",
    "</pre>\n",
    "</details>"
   ]
  },
  {
   "cell_type": "code",
   "execution_count": 1,
   "metadata": {
    "ExecuteTime": {
     "end_time": "2021-05-15T14:31:15.280360Z",
     "start_time": "2021-05-15T14:31:15.265592Z"
    }
   },
   "outputs": [
    {
     "data": {
      "text/plain": [
       "[1, 3, 9, 0, 12]"
      ]
     },
     "execution_count": 1,
     "metadata": {},
     "output_type": "execute_result"
    }
   ],
   "source": []
  },
  {
   "cell_type": "markdown",
   "metadata": {},
   "source": [
    "<h2>Faktöriyel</h2>\n",
    "<br>\n",
    "<summary>\n",
    "    <p>Faktöriyel hesabı yapan bi fonksiyon yazın. Örnek input:5</p>\n",
    "</summary>\n",
    "<br>\n",
    "\n",
    "<details>\n",
    "<pre>\n",
    "\n",
    "def Faktoriyel(num):\n",
    "\n",
    "    if num==1:\n",
    "        return 1\n",
    "    else:\n",
    "        fac=num*Faktoriyel(num-1)\n",
    "        return fac\n",
    "    \n",
    "print(Faktoriyel(5))\n",
    "\n",
    "</pre>\n",
    "</details>"
   ]
  },
  {
   "cell_type": "code",
   "execution_count": 4,
   "metadata": {},
   "outputs": [
    {
     "name": "stdout",
     "output_type": "stream",
     "text": [
      "120\n"
     ]
    }
   ],
   "source": [
    "#çözümünüzü burada geliştirin. Çıktı, aşağıdaki gibi olmalı\n"
   ]
  },
  {
   "cell_type": "markdown",
   "metadata": {},
   "source": [
    "<h2>Metni terse çevir</h2>\n",
    "<br>\n",
    "<summary>\n",
    "    <p>Verilen metni terse çeviren bir fonksiyon yazın. Örnek input:Merhaba dünya</p>\n",
    "</summary>\n",
    "<br>\n",
    "\n",
    "<details>\n",
    "<pre>\n",
    "def Tersinial(str):     \n",
    "    return str[::-1]\n",
    "\n",
    "print(Tersinial(\"Merhaba dünya\"))\n",
    "</pre>\n",
    "</details>"
   ]
  },
  {
   "cell_type": "code",
   "execution_count": 5,
   "metadata": {},
   "outputs": [
    {
     "name": "stdout",
     "output_type": "stream",
     "text": [
      "aynüd abahreM\n"
     ]
    }
   ],
   "source": [
    "#çözümünüzü burada geliştirin. Çıktı, aşağıdaki gibi olmalı\n"
   ]
  },
  {
   "cell_type": "markdown",
   "metadata": {},
   "source": [
    "<h2>Listedeki elemanların replacementı</h2>\n",
    "<br>\n",
    "<summary>\n",
    "    <p>Bir listedeki elemanların birini(ör:999) başka bi değerle(ör:-1) değiştiren bir kod yazın. Örnek input:list1 = [999, 10, 15, 999, 25, 50, 20]</p>\n",
    "</summary>\n",
    "<br>\n",
    "\n",
    "<details>\n",
    "<pre>\n",
    "list1 = [999, 10, 15, 999, 25, 50, 20]\n",
    "[x if x!=999 else -1 for x in list1]\n",
    "</pre>\n",
    "</details>"
   ]
  },
  {
   "cell_type": "code",
   "execution_count": 2,
   "metadata": {
    "ExecuteTime": {
     "end_time": "2021-05-15T14:32:51.467509Z",
     "start_time": "2021-05-15T14:32:51.462522Z"
    }
   },
   "outputs": [
    {
     "data": {
      "text/plain": [
       "[-1, 10, 15, -1, 25, 50, 20]"
      ]
     },
     "execution_count": 2,
     "metadata": {},
     "output_type": "execute_result"
    }
   ],
   "source": []
  },
  {
   "cell_type": "markdown",
   "metadata": {},
   "source": [
    "<h2>Cümledeki kelimeleri ters sırada yazdırma</h2>\n",
    "<br>\n",
    "<summary>\n",
    "    <p>Verilen bir cümledeki keliemeleri ters sırada yazdıran bir fonksiyon yazın. Örnek input:volkan yurtseven naber</p>\n",
    "</summary>\n",
    "<br>\n",
    "\n",
    "<details>\n",
    "<pre>\n",
    "def reverseWord(word):\n",
    "    list_=word.split(\" \")\n",
    "    ters=list_[::-1]\n",
    "    print(\" \".join(ters))\n",
    "\n",
    "reverseWord(\"volkan yurtseven naber\")\n",
    "</pre>\n",
    "</details>"
   ]
  },
  {
   "cell_type": "code",
   "execution_count": 6,
   "metadata": {},
   "outputs": [
    {
     "name": "stdout",
     "output_type": "stream",
     "text": [
      "naber yurtseven volkan\n"
     ]
    }
   ],
   "source": [
    "#çözümünüzü burada geliştirin. Çıktı, aşağıdaki gibi olmalı\n"
   ]
  },
  {
   "cell_type": "markdown",
   "metadata": {},
   "source": [
    "<h2>Basit bir şifreleme algoritması</h2>\n",
    "<br>\n",
    "<summary>\n",
    "    <p>Verilen metindeki harflerin alfabedeki bir sonraki harfle değişmesini ve bunlardan sesli olanları büyüten bir fonksiyon yazın. Örnek input:Ramazan, parola safak degil mi</p>\n",
    "</summary>\n",
    "<br>\n",
    "\n",
    "<details>\n",
    "<pre>\n",
    "def LetterChanges(sen):        \n",
    "    changed=[(chr(ord(x)+1) if any([x.isalpha(), x.isspace()]) else x) for x in sen]\n",
    "    ups=[x.upper() if x.upper() in 'AEIOU' else x for x in changed ]\n",
    "    combined=''.join(ups)\n",
    "    withspace=combined.replace('!',' ') #bunu demezsek boşluklar ünlem kalır\n",
    "    return withspace\n",
    "\n",
    "print(LetterChanges(\"Ramazan, parola safak degil mi\"))\n",
    "</pre>\n",
    "</details>"
   ]
  },
  {
   "cell_type": "code",
   "execution_count": 35,
   "metadata": {},
   "outputs": [
    {
     "name": "stdout",
     "output_type": "stream",
     "text": [
      "Sbnb{bO, qbspmb tbgbl Efhjm nj\n"
     ]
    }
   ],
   "source": [
    "#çözümünüzü burada geliştirin. Çıktı, aşağıdaki gibi olmalı\n"
   ]
  },
  {
   "cell_type": "markdown",
   "metadata": {},
   "source": [
    "<h2>Kümülatif toplama</h2>\n",
    "<br>\n",
    "<summary>\n",
    "    <p>Verilen sayının kendisine kadar olan sayıların toplamı. (Okulda gördüğümüz Gauss yöntemi ile değil de daha algoritmik bir şekilde yapın).Örnek input:10</p>\n",
    "</summary>\n",
    "<br>\n",
    "\n",
    "<details>\n",
    "<pre>\n",
    "\n",
    "def KumuleToplam(num): \n",
    "    Toplam=0\n",
    "    while num>1:\n",
    "        Toplam=Toplam+num\n",
    "        num=num-1\n",
    "    return Toplam+1\n",
    "    \n",
    "\n",
    "print(KumuleToplam(10))\n",
    "\n",
    "</pre>\n",
    "</details>"
   ]
  },
  {
   "cell_type": "code",
   "execution_count": 36,
   "metadata": {},
   "outputs": [
    {
     "name": "stdout",
     "output_type": "stream",
     "text": [
      "55\n"
     ]
    }
   ],
   "source": [
    "#çözümünüzü burada geliştirin. Çıktı, aşağıdaki gibi olmalı\n"
   ]
  },
  {
   "cell_type": "markdown",
   "metadata": {},
   "source": [
    "<h2>Merge Sort</h2>\n",
    "<br>\n",
    "<summary>\n",
    "    <p>İnternetten merge sort algoritmasını araştırın ve Python ile kodlamasını yapın. Input olarak 1-10 milyon arası 10bin rasgele sayı verin. İşlemin ne kadar sürdüğünü de gösterin.</p>\n",
    "</summary>\n",
    "<br>\n",
    "\n",
    "<details>\n",
    "<pre>\n",
    "\n",
    "#1.yöntem\n",
    "import time\n",
    "import random\n",
    "\n",
    "baş=time.process_time()\n",
    "\n",
    "def sirala(dizi):\n",
    "    if len(dizi) <= 1:\n",
    "        return dizi\n",
    "    referans = dizi[len(dizi) // 2]\n",
    "    sol = [x for x in dizi if x < referans]\n",
    "    orta = [x for x in dizi if x == referans]\n",
    "    sag = [x for x in dizi if x > referans]\n",
    "    return sirala(sol) + orta + sirala(sag)\n",
    "\n",
    "\n",
    "a=random.sample(range(10000000), 10000)\n",
    "print(sirala(a)[:10]) #ilk 10u yeterli\n",
    "bit=time.process_time()\n",
    "print(bit-baş,\"sn sürdü\")\n",
    "\n",
    "#2.yöntem\n",
    "\n",
    "import time\n",
    "import random\n",
    "\n",
    "baş=time.perf_counter ()\n",
    "def mergeSort(alist):\n",
    "    #print(\"Splitting \",alist)\n",
    "    if len(alist)>1:\n",
    "        mid = len(alist)//2\n",
    "        lefthalf = alist[:mid]\n",
    "        righthalf = alist[mid:]\n",
    "\n",
    "        mergeSort(lefthalf)\n",
    "        mergeSort(righthalf)\n",
    "\n",
    "        i=0\n",
    "        j=0\n",
    "        k=0\n",
    "        while i < len(lefthalf) and j < len(righthalf):\n",
    "            if lefthalf[i] < righthalf[j]:\n",
    "                alist[k]=lefthalf[i]\n",
    "                i=i+1\n",
    "            else:\n",
    "                alist[k]=righthalf[j]\n",
    "                j=j+1\n",
    "            k=k+1\n",
    "\n",
    "        while i < len(lefthalf):\n",
    "            alist[k]=lefthalf[i]\n",
    "            i=i+1\n",
    "            k=k+1\n",
    "\n",
    "        while j < len(righthalf):\n",
    "            alist[k]=righthalf[j]\n",
    "            j=j+1\n",
    "            k=k+1\n",
    "    #print(\"Merging \",alist)\n",
    "random.seed(1)\n",
    "alist = random.sample(range(10000000), 10000)\n",
    "mergeSort(alist) #üzerinde yapıyoruz\n",
    "bit=time.perf_counter()\n",
    "print(bit-baş,\"sn sürdü\")\n",
    "print(alist[:10])\n",
    "</pre>\n",
    "</details>"
   ]
  },
  {
   "cell_type": "code",
   "execution_count": 37,
   "metadata": {
    "scrolled": true
   },
   "outputs": [
    {
     "name": "stdout",
     "output_type": "stream",
     "text": [
      "[1160, 1791, 3732, 4672, 6347, 8168, 8636, 9221, 10535, 10723]\n",
      "0.046875 sn sürdü\n"
     ]
    }
   ],
   "source": [
    "#çözümünüzü burada geliştirin. Çıktı, aşağıdaki gibi olmalı\n"
   ]
  },
  {
   "cell_type": "markdown",
   "metadata": {},
   "source": [
    "<h2>Mükemmel sayı</h2>\n",
    "<br>\n",
    "<summary>\n",
    "    <p>1'den 1000'e kadar olan sayılardan mükemmel sayı olanları ekrana yazdırın. Bunun için bir sayının mükemmel olup olmadığını dönen bir tane fonksiyon yazın.\n",
    "\n",
    "Bir sayının bölenlerinin toplamı kendine eşitse bu sayı mükemmel bir sayıdır. Örnek olarak 6 mükemmel bir sayıdır (1 + 2 + 3 = 6)</p>\n",
    "</summary>\n",
    "<br>\n",
    "<details>\n",
    "<pre>\n",
    "def mükemmelmi(sayı): \n",
    "    i=1\n",
    "    toplam=0\n",
    "    while (i &lt;sayı):\n",
    "        if (sayı%i==0):\n",
    "            toplam+=i\n",
    "        i+=1\n",
    "    if (toplam==sayı):\n",
    "        print(\"{} sayısı mükemmel bir sayıdır\".format(sayı))    \n",
    "\n",
    "for i in range(1,1000):\n",
    "    mükemmelmi(i)\n",
    "</pre>\n",
    "</details>"
   ]
  },
  {
   "cell_type": "code",
   "execution_count": 10,
   "metadata": {},
   "outputs": [
    {
     "name": "stdout",
     "output_type": "stream",
     "text": [
      "6 sayısı mükemmel bir sayıdır\n",
      "28 sayısı mükemmel bir sayıdır\n",
      "496 sayısı mükemmel bir sayıdır\n"
     ]
    }
   ],
   "source": [
    "#çözümünüzü burada geliştirin. Çıktı, aşağıdaki gibi olmalı\n"
   ]
  },
  {
   "cell_type": "markdown",
   "metadata": {},
   "source": [
    "<h2>EBOB fonksiyonu</h2>\n",
    "<br>\n",
    "<summary>\n",
    "    <p>80cm ve 120cm uzunluğunda iki demir çubuk, boyları birbirine eşit parçalara ayrılacaktır.Bir parçanın uzunluğu en fazla kaç cm olur?</p>\n",
    "</summary>\n",
    "<br>\n",
    "\n",
    "<details>\n",
    "<pre>\n",
    "\n",
    "def ebob_bulma(sayı1,sayı2):\n",
    "    \n",
    "    i = 1\n",
    "    ebob = 1\n",
    "    while (i <= sayı1 and i <= sayı2 ):\n",
    "\n",
    "        if ( not (sayı1 % i) and not (sayı2 % i)):\n",
    "            ebob = i\n",
    "        i += 1\n",
    "    return ebob\n",
    "\n",
    "print(\"Ebob:\",ebob_bulma(80,120))\n",
    "\n",
    "</pre>\n",
    "</details>"
   ]
  },
  {
   "cell_type": "code",
   "execution_count": 4,
   "metadata": {
    "ExecuteTime": {
     "end_time": "2020-11-23T12:51:09.676904Z",
     "start_time": "2020-11-23T12:51:09.667000Z"
    }
   },
   "outputs": [
    {
     "name": "stdout",
     "output_type": "stream",
     "text": [
      "Ebob: 40\n"
     ]
    }
   ],
   "source": [
    "#çözümünüzü burada geliştirin. Çıktı, aşağıdaki gibi olmalı\n"
   ]
  },
  {
   "cell_type": "markdown",
   "metadata": {},
   "source": [
    "<h2>EKOK bulma</h2>\n",
    "<br>\n",
    "<summary>\n",
    "    <p>Tarık bilyelerini 4’er ve 6’şar saydığında her defasında 1 bilyesi artıyor.Buna göre, Tarık’ın en az kaç tane bilyesi vardır?</p>\n",
    "</summary>\n",
    "<br>\n",
    "\n",
    "<details>\n",
    "<pre>\n",
    "\n",
    "def ekok_bulma(sayı1,sayı2):\n",
    "    \n",
    "    i = 2\n",
    "    ekok = 1\n",
    "    while True:\n",
    "        if (sayı1 % i == 0 and sayı2 % i == 0):\n",
    "            ekok *= i\n",
    "\n",
    "            sayı1 //= i\n",
    "            sayı2 //= i\n",
    "\n",
    "\n",
    "        elif (sayı1 % i ==  0 and sayı2 % i != 0):\n",
    "            ekok *= i\n",
    "\n",
    "            sayı1 //= i\n",
    "\n",
    "\n",
    "        elif (sayı1 % i != 0 and sayı2 % i == 0):\n",
    "            ekok *= i\n",
    "\n",
    "            sayı2 //= i\n",
    "        else:\n",
    "            i += 1\n",
    "        if (sayı1 == 1 and sayı2 == 1):\n",
    "            break\n",
    "    return ekok\n",
    "\n",
    "print(\"Ekok:\",ekok_bulma(4,6))\n",
    "\n",
    "</pre>\n",
    "</details>"
   ]
  },
  {
   "cell_type": "code",
   "execution_count": 12,
   "metadata": {},
   "outputs": [
    {
     "name": "stdout",
     "output_type": "stream",
     "text": [
      "Ekok: 12\n"
     ]
    }
   ],
   "source": [
    "#çözümünüzü burada geliştirin. Çıktı, aşağıdaki gibi olmalı\n"
   ]
  },
  {
   "cell_type": "markdown",
   "metadata": {},
   "source": [
    "<h2>Asal sayı bulma</h2>\n",
    "<br>\n",
    "<summary>\n",
    "    <p>1-100 arası asal sayıları gösterin</p>\n",
    "</summary>\n",
    "<br>\n",
    "\n",
    "<details>\n",
    "<pre>\n",
    "def asalmı(sayı): \n",
    "    liste=[]\n",
    "    for k in range(3,sayı+1):\n",
    "        sonuc=True\n",
    "        for i in range(2,k): \n",
    "            if (k%i==0):\n",
    "                sonuc=False\n",
    "                break   \n",
    "        if (sonuc==True):\n",
    "            liste.append(k)\n",
    "    print(liste)\n",
    "    \n",
    "asalmı(100)\n",
    "</pre>\n",
    "</details>"
   ]
  },
  {
   "cell_type": "code",
   "execution_count": 13,
   "metadata": {},
   "outputs": [
    {
     "name": "stdout",
     "output_type": "stream",
     "text": [
      "[3, 5, 7, 11, 13, 17, 19, 23, 29, 31, 37, 41, 43, 47, 53, 59, 61, 67, 71, 73, 79, 83, 89, 97]\n"
     ]
    }
   ],
   "source": [
    "#çözümünüzü burada geliştirin. Çıktı, aşağıdaki gibi olmalı\n"
   ]
  },
  {
   "cell_type": "markdown",
   "metadata": {},
   "source": [
    "<h2>Sayı okunuşu</h2>\n",
    "<br>\n",
    "<summary>\n",
    "    <p>Kullanıcıdan 2 basamaklı bir sayı alın ve bu sayının okunuşunu bulan bir fonksiyon yazın.</p>\n",
    "</summary>\n",
    "<br>\n",
    "\n",
    "<details>\n",
    "<pre>\n",
    "birler =  [\"\",\"Bir\",\"İki\",\"Üç\",\"Dört\",\"Beş\",\"Altı\",\"Yedi\",\"Sekiz\",\"Dokuz\"]\n",
    "onlar = [\"\",\"On\",\"Yirmi\",\"Otuz\",\"Kırk\",\"Elli\",\"Altmış\",\"Yetmiş\",\"Seksen\",\"Doksan\"]\n",
    "\n",
    "def okunus(sayı):\n",
    "    birinci = sayı % 10\n",
    "    ikinci = sayı // 10\n",
    "    \n",
    "    return onlar[ikinci] + \" \" + birler[birinci]\n",
    "\n",
    "    \n",
    "print(okunus(34))\n",
    "</pre>\n",
    "</details>"
   ]
  },
  {
   "cell_type": "code",
   "execution_count": 14,
   "metadata": {},
   "outputs": [
    {
     "name": "stdout",
     "output_type": "stream",
     "text": [
      "Otuz Dört\n"
     ]
    }
   ],
   "source": [
    "#çözümünüzü burada geliştirin. Çıktı, aşağıdaki gibi olmalı\n"
   ]
  },
  {
   "cell_type": "markdown",
   "metadata": {},
   "source": [
    "<h2>Pisagor sayıları</h2>\n",
    "<br>\n",
    "<summary>\n",
    "    <p>1-20 arası hangi sayılar pisagor oluşturur. İkisinin karesinin toplamı üçüncünün karesiyle aynı olan sayılar.<p>\n",
    "</summary>\n",
    "<br>\n",
    "\n",
    "<details>\n",
    "<pre>\n",
    "def pisagor(a):\n",
    "    psg=[]\n",
    "    for i in range(1,a):\n",
    "        for j in range(1,a):\n",
    "            k = (i**2+j**2)**0.5\n",
    "            \n",
    "            if k in range(1,a):\n",
    "                psg.append((i,j,int(k)))\n",
    "    \n",
    "    for i in psg:\n",
    "        print(i)\n",
    "\n",
    "pisagor(20)               \n",
    "</pre>\n",
    "</details>"
   ]
  },
  {
   "cell_type": "code",
   "execution_count": 15,
   "metadata": {},
   "outputs": [
    {
     "name": "stdout",
     "output_type": "stream",
     "text": [
      "(3, 4, 5)\n",
      "(4, 3, 5)\n",
      "(5, 12, 13)\n",
      "(6, 8, 10)\n",
      "(8, 6, 10)\n",
      "(8, 15, 17)\n",
      "(9, 12, 15)\n",
      "(12, 5, 13)\n",
      "(12, 9, 15)\n",
      "(15, 8, 17)\n"
     ]
    }
   ],
   "source": [
    "#çözümünüzü burada geliştirin. Çıktı, aşağıdaki gibi olmalı\n"
   ]
  },
  {
   "cell_type": "markdown",
   "metadata": {},
   "source": [
    "<h2>Dizi birleştirme</h2>\n",
    "<br>\n",
    "<summary>\n",
    "    <p>İki dizinin elemanlarını yanyanaya yazdıran bir fonkisyon yazın. (Tuple şeklinde yazılmayacak). Örnek inputlar:dizi1 = [34,6,1,58,59], \n",
    "dizi2 = [\"İstanbul\",\"Ankara\",\"Adana\",\"Sivas\",\"Tekirdağ\"] </p>\n",
    "</summary>\n",
    "<br>\n",
    "\n",
    "<details>\n",
    "<pre>\n",
    "def diziCombine(dizi1,dizi2):\n",
    "    for i,j in zip(dizi1,dizi2):\n",
    "        print(i,j)\n",
    "\n",
    "dizi1 = [34,6,1,58,59]\n",
    "dizi2 = [\"İstanbul\",\"Ankara\",\"Adana\",\"Sivas\",\"Tekirdağ\"]\n",
    "diziCombine(dizi1,dizi2)\n",
    "\n",
    "\n",
    "#2.yöntem\n",
    "[str(x[0])+\"-\"+x[1] for x in zip(dizi1,dizi2)]\n",
    "</pre>\n",
    "</details>"
   ]
  },
  {
   "cell_type": "code",
   "execution_count": 16,
   "metadata": {},
   "outputs": [
    {
     "name": "stdout",
     "output_type": "stream",
     "text": [
      "34 İstanbul\n",
      "6 Ankara\n",
      "1 Adana\n",
      "58 Sivas\n",
      "59 Tekirdağ\n"
     ]
    }
   ],
   "source": [
    "#çözümünüzü burada geliştirin. Çıktı, aşağıdaki gibi olmalı\n"
   ]
  },
  {
   "cell_type": "code",
   "execution_count": 7,
   "metadata": {
    "ExecuteTime": {
     "end_time": "2021-05-15T14:26:33.166945Z",
     "start_time": "2021-05-15T14:26:33.143225Z"
    }
   },
   "outputs": [
    {
     "data": {
      "text/plain": [
       "['34-İstanbul', '6-Ankara', '1-Adana', '58-Sivas', '59-Tekirdağ']"
      ]
     },
     "execution_count": 7,
     "metadata": {},
     "output_type": "execute_result"
    }
   ],
   "source": [
    "#bir de bu şekilde yapın\n"
   ]
  },
  {
   "cell_type": "markdown",
   "metadata": {},
   "source": [
    "<h2>Kelime frekansı bulma</h2>\n",
    "<br>\n",
    "<summary>\n",
    "    <p>Elinizdeki cümledeki kelimelerin kaç kez geçtiğini gösteren bir fonksiyon yazın. Kelimeler alfabetik olarak dizilsin. Büyük harfle başlyan kelimelerin küçük harfle başlayanlara göre önce geleceği aşikardır, ayrıca türkçe karakterlerle başlayanlar da en sona gidecektir. Bir kelime başka bir kelimeyi içeriyorsa o kelime her ikisinde de ayrıca sayılacaktır. Counter fonksiyonu dışında da bir çözüm geliştirin. Örnek input:Müdür müdür müdür espirisini yapanlara şöyle derim: sen seni bil sen seni yoksa üzerim seni\"</p>\n",
    "</summary>\n",
    "<br>\n",
    "\n",
    "<details>\n",
    "<pre>\n",
    "cumle=\"Müdür müdür müdür espirisini yapanlara şöyle derim: sen seni bil sen seni yoksa üzerim seni\"\n",
    "#1.çözüm\n",
    "def freqCount(cumle):\n",
    "    temp=set(cumle.split(\" \"))\n",
    "    dict_={}\n",
    "    for i in temp:\n",
    "        dict_[i]=cumle.count(i)\n",
    "    return dict_\n",
    "\n",
    "x=freqCount(cumle)\n",
    "sorted_x = sorted(x.items(), key=lambda kv: kv[0]) #kv[1] olursa valuelara göre\n",
    "sorted_x\n",
    "\n",
    "#2.çözüm\n",
    "def getCountofWords(cumle):\n",
    "    dict_={}\n",
    "    uniqler=set(cumle.split(\" \"))\n",
    "    for i in uniqler:\n",
    "        #print(\"hey\")\n",
    "        dict_[i]=cumle.count(i)\n",
    "    return dict_\n",
    "    \n",
    "a=getCountofWords(cumle)\n",
    "for k,v in a.items():\n",
    "    print(k,v)\n",
    "    \n",
    "#3.çözüm: Bir kelime başka bir kelime içinde geçiyorsa bunları ayrı kelime gibi sayar\n",
    "from collections import Counter\n",
    "def GetCounts(cumle):\n",
    "    dict_=Counter(cumle.split(\" \"))\n",
    "    return dict(dict_)\n",
    "\n",
    "for k,v in GetCounts(cumle).items():\n",
    "    print(k,v)\n",
    "</pre>\n",
    "</details>"
   ]
  },
  {
   "cell_type": "code",
   "execution_count": 18,
   "metadata": {
    "scrolled": true
   },
   "outputs": [
    {
     "data": {
      "text/plain": [
       "[('Müdür', 1),\n",
       " ('bil', 1),\n",
       " ('derim:', 1),\n",
       " ('espirisini', 1),\n",
       " ('müdür', 2),\n",
       " ('sen', 5),\n",
       " ('seni', 3),\n",
       " ('yapanlara', 1),\n",
       " ('yoksa', 1),\n",
       " ('üzerim', 1),\n",
       " ('şöyle', 1)]"
      ]
     },
     "execution_count": 18,
     "metadata": {},
     "output_type": "execute_result"
    }
   ],
   "source": [
    "#çözümünüzü burada geliştirin. Çıktı, aşağıdaki gibi olmalı\n"
   ]
  },
  {
   "cell_type": "markdown",
   "metadata": {},
   "source": [
    "<h2>İki listenin ortak elemanları</h2>\n",
    "<br>\n",
    "<summary>\n",
    "    <p>İki dizinin ortak elemanlarını getiren bir fonksiyon yazın. Fonksiyonunuz farklı boyutlardaki dizilerde de çalışabilsin ve mükerrerleri sadece bir kez alsın. Örnek inputlar: a = [1, 1, 2, 3, 5, 8, 13, 21, 34, 55, 89], b = [1, 2, 3, 4, 5, 6, 7, 8, 9, 10, 11, 12, 13] </p>\n",
    "</summary>\n",
    "<br>\n",
    "\n",
    "<details>\n",
    "<pre>\n",
    "def ortakElemanBul(a,b):\n",
    "    c=[]\n",
    "    for i in a:\n",
    "        for j in b:\n",
    "            if i==j and i not in c:\n",
    "                c.append(i)\n",
    "    print(c)\n",
    "\n",
    "a = [1, 1, 2, 3, 5, 8, 13, 21, 34, 55, 89]\n",
    "b = [1, 2, 3, 4, 5, 6, 7, 8, 9, 10, 11, 12, 13,3,3,3,5]\n",
    "ortakElemanBul(a,b)\n",
    "\n",
    "#2.yöntem: & operatörü interseciton operatörüdür\n",
    "def intersect(a, b):\n",
    "    return list(set(a) & set(b)) # the & is for intersection, which will take the common between the two\n",
    "\n",
    "print(intersect(a,b))\n",
    "\n",
    "#3.yöntem setlerin intersection metodu\n",
    "print(set(a).intersection(set(b)))\n",
    "\n",
    "#4.yöntem: set comprehension\n",
    "d={i for i in a if i in b}\n",
    "print(d)\n",
    "</pre>\n",
    "</details>"
   ]
  },
  {
   "cell_type": "code",
   "execution_count": 38,
   "metadata": {},
   "outputs": [
    {
     "name": "stdout",
     "output_type": "stream",
     "text": [
      "[1, 2, 3, 5, 8, 13]\n"
     ]
    }
   ],
   "source": [
    "#çözümünüzü burada geliştirin. Çıktı, aşağıdaki gibi olmalı\n"
   ]
  },
  {
   "cell_type": "markdown",
   "metadata": {},
   "source": [
    "<h2>Palindrome tespiti</h2>\n",
    "<br>\n",
    "<summary>\n",
    "    <p>Girilen kelimenin bir palindrom(tersten yazılışı aynı olan) kelime olup olmadığını bulan bi fonrksiyon yazın. Örnek input:sos </p>\n",
    "</summary>\n",
    "<br>\n",
    "\n",
    "<details>\n",
    "<pre>\n",
    "def isPalindrom(kelime):\n",
    "    tersi=kelime[::-1]\n",
    "    print(kelime==tersi)\n",
    "\n",
    "isPalindrom(\"sos\")\n",
    "</pre>\n",
    "</details>"
   ]
  },
  {
   "cell_type": "code",
   "execution_count": 20,
   "metadata": {},
   "outputs": [
    {
     "name": "stdout",
     "output_type": "stream",
     "text": [
      "True\n"
     ]
    }
   ],
   "source": [
    "#çözümünüzü burada geliştirin. Çıktı, aşağıdaki gibi olmalı\n"
   ]
  },
  {
   "cell_type": "markdown",
   "metadata": {},
   "source": [
    "<h2>Dizi elemanları farklı mı</h2>\n",
    "<br>\n",
    "<summary>\n",
    "    <p>Bir dizinin elemanlarının birbirinin aynı olup olmadığını bulan bi fonksiyon yazın. Örnek input:[1,2,10,3,4,2]</p>\n",
    "</summary>\n",
    "<br>\n",
    "\n",
    "<details>\n",
    "<pre>\n",
    "#1.çözüm\n",
    "dizi=[1,2,10,3,4,2]\n",
    "def isAllDifferent(liste):\n",
    "    for i in range(0,len(liste)):\n",
    "        for j in range(0,len(liste)):\n",
    "            if liste[i]==liste[j] and i!=j:\n",
    "                print(\"False\")\n",
    "                return\n",
    "            else:\n",
    "                pass\n",
    "    print(\"True\")\n",
    "\n",
    "isAllDifferent(dizi)\n",
    "\n",
    "#2.çözüm: set'in uniquleştirme özelliğinden faydalanarak\n",
    "def isAllDiff(liste):\n",
    "    print(len(liste)==len(set(liste)))\n",
    "\n",
    "isAllDiff(dizi)\n",
    "</pre>\n",
    "</details>"
   ]
  },
  {
   "cell_type": "code",
   "execution_count": 21,
   "metadata": {},
   "outputs": [
    {
     "name": "stdout",
     "output_type": "stream",
     "text": [
      "False\n"
     ]
    }
   ],
   "source": [
    "#çözümünüzü burada geliştirin. Çıktı, aşağıdaki gibi olmalı\n"
   ]
  },
  {
   "cell_type": "markdown",
   "metadata": {},
   "source": [
    "<h2>Kelime sırası</h2>\n",
    "<br>\n",
    "<summary>\n",
    "    <p>Verilen metindeki kelimeleri mükerrerleri arındırdıktan sonra sıraya dizen bir fonksiyon. Örnek input:sen seni bil sen seni, yoksa severim seni</p>\n",
    "</summary>\n",
    "<br>\n",
    "\n",
    "<details>\n",
    "<pre>\n",
    "def KelimeSay(metin):\n",
    "    kelimeler = [m for m in metin.replace(\",\",\"\").split(\" \")]\n",
    "    print(\" \".join(sorted(list(set(kelimeler)))))\n",
    "    \n",
    "KelimeSay(\"sen seni bil sen seni, yoksa severim seni\")\n",
    "</pre>\n",
    "</details>"
   ]
  },
  {
   "cell_type": "code",
   "execution_count": 24,
   "metadata": {},
   "outputs": [
    {
     "name": "stdout",
     "output_type": "stream",
     "text": [
      "bil sen seni severim yoksa\n"
     ]
    }
   ],
   "source": [
    "#çözümünüzü burada geliştirin. Çıktı, aşağıdaki gibi olmalı\n"
   ]
  },
  {
   "cell_type": "markdown",
   "metadata": {},
   "source": [
    "<h2>Liste tarama</h2>\n",
    "<br>\n",
    "<summary>\n",
    "    <p>Verilen bir listedeki rakamları 3erli gruplar halinde toplayan bir fonksiyon yazın. Örnek input:[8,10,9,12,14,3,5,1,0,0,2,4]</p>\n",
    "</summary>\n",
    "<br>\n",
    "\n",
    "<details>\n",
    "<pre>\n",
    "def UcluTara(dizi):\n",
    "    n=0\n",
    "    for n in range(len(dizi)-2):\n",
    "        print(\"{}.tarama toplamı:{}\".format(n+1,sum(dizi[n:n+3])))     \n",
    "\n",
    "d=[8,10,9,12,14,3,5,1,0,0,2,4]\n",
    "UcluTara(d)\n",
    "</pre>\n",
    "</details>"
   ]
  },
  {
   "cell_type": "code",
   "execution_count": 25,
   "metadata": {},
   "outputs": [
    {
     "name": "stdout",
     "output_type": "stream",
     "text": [
      "1.tarama toplamı:27\n",
      "2.tarama toplamı:31\n",
      "3.tarama toplamı:35\n",
      "4.tarama toplamı:29\n",
      "5.tarama toplamı:22\n",
      "6.tarama toplamı:9\n",
      "7.tarama toplamı:6\n",
      "8.tarama toplamı:1\n",
      "9.tarama toplamı:2\n",
      "10.tarama toplamı:6\n"
     ]
    }
   ],
   "source": [
    "#çözümünüzü burada geliştirin. Çıktı, aşağıdaki gibi olmalı\n"
   ]
  },
  {
   "cell_type": "markdown",
   "metadata": {},
   "source": [
    "<h2>Çift sayıların karesi</h2>\n",
    "<br>\n",
    "<summary>\n",
    "    <p>Bir listedeki elemanlardan çift olanların karesini alan bir kod yazın:map and filter.Örnek input:[1,2,3,4,5,6,7,8,9,10].</p>\n",
    "</summary>\n",
    "<br>\n",
    "\n",
    "<details>\n",
    "<pre>\n",
    "li = [1,2,3,4,5,6,7,8,9,10]\n",
    "evenNumbers = map(lambda x: x**2, filter(lambda x: x%2==0, li))\n",
    "print(list(evenNumbers))\n",
    "\n",
    "#veya\n",
    "li = [1,2,3,4,5,6,7,8,9,10]\n",
    "[x**2 for x in li if x%2==0]\n",
    "</pre>\n",
    "</details>"
   ]
  },
  {
   "cell_type": "code",
   "execution_count": 26,
   "metadata": {},
   "outputs": [
    {
     "name": "stdout",
     "output_type": "stream",
     "text": [
      "[4, 16, 36, 64, 100]\n"
     ]
    }
   ],
   "source": [
    "#çözümünüzü burada geliştirin. Çıktı, aşağıdaki gibi olmalı\n"
   ]
  },
  {
   "cell_type": "markdown",
   "metadata": {},
   "source": [
    "<h2>Mailden ad-soyad bulma</h2>\n",
    "<br>\n",
    "<summary>\n",
    "    <p>Mail adreslerinden kişilerin ad soyadlarını bulan bi fonksiyon yazın. Örnek inputlar: mailler=[\"volkan.yurtseven@hotmail.com\",\"serkan.uzun@hotmail.com\"]</p>\n",
    "</summary>\n",
    "<br>\n",
    "\n",
    "<details>\n",
    "<pre>\n",
    "def MaildenAdSoyadBul(mailler):\n",
    "    liste=[]\n",
    "    for m in mailler:\n",
    "        i=m.find(\".\")\n",
    "        j=m.find(\"@\")\n",
    "        liste.append((m[:i] + \" \" + m[i+1:j]))\n",
    "    return liste\n",
    "\n",
    "mailler=[\"volkan.yurtseven@hotmail.com\",\"serkan.uzun@hotmail.com\"]\n",
    "adsoyad=MaildenAdSoyadBul(mailler)\n",
    "adsoyad\n",
    "</pre>\n",
    "</details>"
   ]
  },
  {
   "cell_type": "code",
   "execution_count": 27,
   "metadata": {},
   "outputs": [
    {
     "data": {
      "text/plain": [
       "['volkan yurtseven', 'serkan uzun']"
      ]
     },
     "execution_count": 27,
     "metadata": {},
     "output_type": "execute_result"
    }
   ],
   "source": [
    "#çözümünüzü burada geliştirin. Çıktı, aşağıdaki gibi olmalı\n"
   ]
  },
  {
   "cell_type": "markdown",
   "metadata": {},
   "source": [
    "<h2>İkinci harfe göre sıralama</h2>\n",
    "<br>\n",
    "<summary>\n",
    "    <p>Parametre olarak aldığı list içindeki isimleri 2.harfine göre sıralamak. Örnek input:[\"volkan\",\"meltem\",\"tarık\"]</p>\n",
    "</summary>\n",
    "<br>\n",
    "\n",
    "<details>\n",
    "<pre>\n",
    "isimler=[\"volkan\",\"meltem\",\"tarık\"]\n",
    "\n",
    "isimler.sort(key=lambda x:x[1])\n",
    "print(isimler)\n",
    "</pre>\n",
    "</details>"
   ]
  },
  {
   "cell_type": "code",
   "execution_count": 1,
   "metadata": {
    "ExecuteTime": {
     "end_time": "2020-11-23T10:11:12.141653Z",
     "start_time": "2020-11-23T10:11:12.109738Z"
    }
   },
   "outputs": [
    {
     "name": "stdout",
     "output_type": "stream",
     "text": [
      "['tarık', 'meltem', 'volkan']\n"
     ]
    }
   ],
   "source": [
    "#çözümünüzü burada geliştirin. Çıktı, aşağıdaki gibi olmalı\n"
   ]
  },
  {
   "cell_type": "markdown",
   "metadata": {},
   "source": [
    "<h2>Bir cümleden rasgele n adet kelime seçin</h2>\n",
    "<br>\n",
    "<summary>\n",
    "    <p>Örnek input:metin = \"Evren, düşündüğünüzden değil düşünebildiğinizden bile daha karmaşık bir yer\"</p>\n",
    "</summary>\n",
    "<br>\n",
    "\n",
    "<details>\n",
    "<pre>\n",
    "import random\n",
    "\n",
    "metin = \"Evren, düşündüğünüzden değil düşünebildiğinizden bile daha karmaşık bir yer\"\n",
    "liste=metin.split()\n",
    "random.choices(liste,k=2)</pre>\n",
    "</details>"
   ]
  },
  {
   "cell_type": "code",
   "execution_count": 4,
   "metadata": {
    "ExecuteTime": {
     "end_time": "2021-05-15T14:22:59.514313Z",
     "start_time": "2021-05-15T14:22:59.510359Z"
    }
   },
   "outputs": [
    {
     "data": {
      "text/plain": [
       "['değil', 'daha']"
      ]
     },
     "execution_count": 4,
     "metadata": {},
     "output_type": "execute_result"
    }
   ],
   "source": []
  },
  {
   "cell_type": "markdown",
   "metadata": {},
   "source": [
    "<h2>Şifre koşul kontrolü yapma</h2>\n",
    "<br>\n",
    "<summary>\n",
    "    <p>Bir şifre metninin belirli koşullaı sağlayıp sağlamadığını kontrol eden bir kod yazın. Önreğin rakam, harf ve özel karakterler eşit sayıda mı diye kontrol edelim. Örnek şifreler:\"abcd\\$1234\", \"ab\\$c123#%\"</p>\n",
    "</summary>\n",
    "<br>\n",
    "\n",
    "<details>\n",
    "<pre>\n",
    "def passkontrol(pass_):\n",
    "    charCount=0\n",
    "    digitCount=0\n",
    "    ozelCount=0\n",
    "    for char in pass_:\n",
    "        if char.isalpha():\n",
    "            charCount+=1\n",
    "        elif char.isnumeric():\n",
    "            digitCount+=1\n",
    "        else:\n",
    "            ozelCount+=1\n",
    "    print(charCount==digitCount==ozelCount)\n",
    "    \n",
    "password1=\"abcd$1234\" \n",
    "password2=\"ab$c123#%\"    \n",
    "passkontrol(password1)    \n",
    "passkontrol(password2)    \n",
    "</pre>\n",
    "</details>"
   ]
  },
  {
   "cell_type": "code",
   "execution_count": 3,
   "metadata": {
    "ExecuteTime": {
     "end_time": "2021-05-15T14:36:00.088438Z",
     "start_time": "2021-05-15T14:36:00.082454Z"
    }
   },
   "outputs": [
    {
     "name": "stdout",
     "output_type": "stream",
     "text": [
      "False\n",
      "True\n"
     ]
    }
   ],
   "source": []
  },
  {
   "cell_type": "markdown",
   "metadata": {},
   "source": [
    "<h2>Belirli koşulları sağlayan şifre üretimi</h2>\n",
    "<br>\n",
    "<summary>\n",
    "    <p>İlk 5 karakteri rakam, son 5 karakteri küçük harf olan bir metin üretimi. Ör:12345qwert</p>\n",
    "</summary>\n",
    "<br>\n",
    "\n",
    "<details>\n",
    "<pre>\n",
    "import random\n",
    "import string\n",
    "\n",
    "ilk5=random.randint(10000,99999)\n",
    "son5=random.choices(string.ascii_lowercase,k=5)\n",
    "str(ilk5)+\"\".join(son5)\n",
    "</pre>\n",
    "</details>"
   ]
  },
  {
   "cell_type": "code",
   "execution_count": 4,
   "metadata": {
    "ExecuteTime": {
     "end_time": "2021-05-15T14:37:40.136306Z",
     "start_time": "2021-05-15T14:37:40.131320Z"
    }
   },
   "outputs": [
    {
     "data": {
      "text/plain": [
       "'83064usxdh'"
      ]
     },
     "execution_count": 4,
     "metadata": {},
     "output_type": "execute_result"
    }
   ],
   "source": []
  },
  {
   "cell_type": "markdown",
   "metadata": {},
   "source": [
    "<h2>Belirli koşulları sağlayan şifre üretimi_2</h2>\n",
    "<br>\n",
    "<summary>\n",
    "    <p>Bir rakam bir küçük harf olacak şekilde 10 haneli. Ör:1l5n7u6n3k</p>\n",
    "</summary>\n",
    "<br>\n",
    "\n",
    "<details>\n",
    "<pre>\n",
    "i=random.choices(range(10),k=5)\n",
    "j=random.choices(string.ascii_lowercase,k=5)\n",
    "z=zip(i,j)\n",
    "b=[str(x)+y for x,y in z]\n",
    "\"\".join(b)\n",
    "</pre>\n",
    "</details>"
   ]
  },
  {
   "cell_type": "code",
   "execution_count": 5,
   "metadata": {
    "ExecuteTime": {
     "end_time": "2021-05-15T14:39:03.271688Z",
     "start_time": "2021-05-15T14:39:03.266733Z"
    }
   },
   "outputs": [
    {
     "data": {
      "text/plain": [
       "'3c6t3j0z7l'"
      ]
     },
     "execution_count": 5,
     "metadata": {},
     "output_type": "execute_result"
    }
   ],
   "source": []
  },
  {
   "cell_type": "markdown",
   "metadata": {},
   "source": [
    "<h2>Belirli koşulları sağlayan şifre üretimi_3</h2>\n",
    "<br>\n",
    "<summary>\n",
    "    <p>En az 2 büyük harf, 1 rakam 1 de noktalama karakterinden oluşan şifre üretimi, toplamda 10 hane. Ör:6/dD>wRS2&</p>\n",
    "</summary>\n",
    "<br>\n",
    "\n",
    "<details>\n",
    "<pre>\n",
    "kaynak=string.ascii_letters + string.digits + string.punctuation\n",
    "\n",
    "pass_ = random.sample(kaynak,6)\n",
    "pass_ += random.sample(string.ascii_uppercase,k=2)\n",
    "pass_ += random.choice(string.digits)\n",
    "pass_ += random.choice(string.punctuation)\n",
    "\"\".join(pass_)\n",
    "</pre>\n",
    "</details>"
   ]
  },
  {
   "cell_type": "code",
   "execution_count": 7,
   "metadata": {
    "ExecuteTime": {
     "end_time": "2021-05-15T14:41:57.663202Z",
     "start_time": "2021-05-15T14:41:57.657221Z"
    }
   },
   "outputs": [
    {
     "data": {
      "text/plain": [
       "\"'t9`3sPR1_\""
      ]
     },
     "execution_count": 7,
     "metadata": {},
     "output_type": "execute_result"
    }
   ],
   "source": []
  },
  {
   "cell_type": "markdown",
   "metadata": {},
   "source": [
    "<h2>Bir listeyi 2 boyutlu hale getirmek</h2>\n",
    "<br>\n",
    "<summary>\n",
    "    <p>Rasgele 30 sayıdan oluşanj bir dizi üretin ve bunu 10x3'lük bir matris haline getirin.</p>\n",
    "</summary>\n",
    "<br>\n",
    "\n",
    "<details>\n",
    "<pre>\n",
    "random.seed(42)\n",
    "liste=random.choices(range(100),k=30)\n",
    "print(liste)\n",
    "\n",
    "n3 = list(range(0,len(liste),3))\n",
    "[liste[x:x+3] for x in n3]\n",
    "</pre>\n",
    "</details>"
   ]
  },
  {
   "cell_type": "code",
   "execution_count": 11,
   "metadata": {
    "ExecuteTime": {
     "end_time": "2021-05-15T14:53:41.136257Z",
     "start_time": "2021-05-15T14:53:41.129274Z"
    },
    "scrolled": true
   },
   "outputs": [
    {
     "name": "stdout",
     "output_type": "stream",
     "text": [
      "[63, 2, 27, 22, 73, 67, 89, 8, 42, 2, 21, 50, 2, 19, 64, 54, 22, 58, 80, 0, 80, 69, 34, 15, 95, 33, 9, 9, 84, 60]\n"
     ]
    },
    {
     "data": {
      "text/plain": [
       "[[63, 2, 27],\n",
       " [22, 73, 67],\n",
       " [89, 8, 42],\n",
       " [2, 21, 50],\n",
       " [2, 19, 64],\n",
       " [54, 22, 58],\n",
       " [80, 0, 80],\n",
       " [69, 34, 15],\n",
       " [95, 33, 9],\n",
       " [9, 84, 60]]"
      ]
     },
     "execution_count": 11,
     "metadata": {},
     "output_type": "execute_result"
    }
   ],
   "source": []
  },
  {
   "cell_type": "markdown",
   "metadata": {},
   "source": [
    "<h2>İki boyutlu bir matristen belirli bir kolondaki elemanları almak</h2>\n",
    "<br>\n",
    "<summary>\n",
    "    <p>Bir üstteki matristen son kolonu alın.</p>\n",
    "</summary>\n",
    "<br>\n",
    "\n",
    "<details>\n",
    "<pre>\n",
    "random.seed(42)\n",
    "liste=random.choices(range(100),k=30)\n",
    "n3 = list(range(0,len(liste),3))\n",
    "yeni=[liste[x:x+3] for x in n3]\n",
    "[y[2] for y in yeni]\n",
    "</pre>\n",
    "</details>"
   ]
  },
  {
   "cell_type": "code",
   "execution_count": 13,
   "metadata": {
    "ExecuteTime": {
     "end_time": "2021-05-15T14:55:54.915130Z",
     "start_time": "2021-05-15T14:55:54.909144Z"
    }
   },
   "outputs": [
    {
     "data": {
      "text/plain": [
       "[27, 67, 42, 50, 64, 58, 80, 15, 9, 60]"
      ]
     },
     "execution_count": 13,
     "metadata": {},
     "output_type": "execute_result"
    }
   ],
   "source": []
  },
  {
   "cell_type": "markdown",
   "metadata": {},
   "source": [
    "<h2>Karekök bulma</h2>\n",
    "<br>\n",
    "<summary>\n",
    "    <p>Newton yöntemi ile Karekök bulduran bir fonksiyon yazın. 10 iterasyon yeterlidir. Ör: 65 sayısının kökü</p>\n",
    "</summary>\n",
    "<br>\n",
    "\n",
    "<details>\n",
    "<pre>\n",
    "def karekok(n):\n",
    "    lo=0;hi=n;mid=0;itr=0;\n",
    "    for i in range(10):\n",
    "        mid=(lo+hi)/2\n",
    "        print(f\"{itr} nolu iterasyon, lo={lo}, hi={hi}\")\n",
    "        if mid**2==n:\n",
    "            return mid\n",
    "        if mid**2>n:\n",
    "            hi=mid\n",
    "        else:\n",
    "            lo=mid\n",
    "        itr+=1\n",
    "    return mid\n",
    "\n",
    "karekok(65)\n",
    "</pre>\n",
    "</details>"
   ]
  },
  {
   "cell_type": "code",
   "execution_count": 16,
   "metadata": {
    "ExecuteTime": {
     "end_time": "2021-05-15T15:07:39.056323Z",
     "start_time": "2021-05-15T15:07:39.049340Z"
    },
    "scrolled": true
   },
   "outputs": [
    {
     "name": "stdout",
     "output_type": "stream",
     "text": [
      "0 nolu iterasyon, lo=0, hi=65\n",
      "1 nolu iterasyon, lo=0, hi=32.5\n",
      "2 nolu iterasyon, lo=0, hi=16.25\n",
      "3 nolu iterasyon, lo=0, hi=8.125\n",
      "4 nolu iterasyon, lo=4.0625, hi=8.125\n",
      "5 nolu iterasyon, lo=6.09375, hi=8.125\n",
      "6 nolu iterasyon, lo=7.109375, hi=8.125\n",
      "7 nolu iterasyon, lo=7.6171875, hi=8.125\n",
      "8 nolu iterasyon, lo=7.87109375, hi=8.125\n",
      "9 nolu iterasyon, lo=7.998046875, hi=8.125\n"
     ]
    },
    {
     "data": {
      "text/plain": [
       "8.0615234375"
      ]
     },
     "execution_count": 16,
     "metadata": {},
     "output_type": "execute_result"
    }
   ],
   "source": []
  },
  {
   "cell_type": "markdown",
   "metadata": {},
   "source": [
    "<h2>Merge Sort</h2>\n",
    "<br>\n",
    "<summary>\n",
    "    <p>En hızlı sıralama algoritmalarından Merge sort'u araştrın ve python implementasyonunu yazın. Rasgele 20 sayılık bir liste üzerinde çalıştırın </p>\n",
    "</summary>\n",
    "<br>\n",
    "\n",
    "<details>\n",
    "<pre>\n",
    "def sirala(dizi):\n",
    "    if len(dizi)<=1:\n",
    "        return dizi\n",
    "    referans=dizi[len(dizi)//2]\n",
    "    print(f\"referans:{referans}\")\n",
    "    sol=[x for x in dizi if x<referans]\n",
    "    ort=[x for x in dizi if x==referans]\n",
    "    sag=[x for x in dizi if x>referans]\n",
    "    print(sol,\"-\",ort,\"-\",sag)\n",
    "    return sirala(sol)+ort+sirala(sag)\n",
    "\n",
    "random.seed(42)\n",
    "a=random.choices(range(100),k=20)\n",
    "print(sirala(a))\n",
    "</pre>\n",
    "</details>"
   ]
  },
  {
   "cell_type": "code",
   "execution_count": 17,
   "metadata": {
    "ExecuteTime": {
     "end_time": "2021-05-15T15:08:26.739588Z",
     "start_time": "2021-05-15T15:08:26.731650Z"
    }
   },
   "outputs": [
    {
     "name": "stdout",
     "output_type": "stream",
     "text": [
      "referans:21\n",
      "[2, 8, 2, 2, 19, 0] - [21] - [63, 27, 22, 73, 67, 89, 42, 50, 64, 54, 22, 58, 80]\n",
      "referans:2\n",
      "[0] - [2, 2, 2] - [8, 19]\n",
      "referans:19\n",
      "[8] - [19] - []\n",
      "referans:42\n",
      "[27, 22, 22] - [42] - [63, 73, 67, 89, 50, 64, 54, 58, 80]\n",
      "referans:22\n",
      "[] - [22, 22] - [27]\n",
      "referans:50\n",
      "[] - [50] - [63, 73, 67, 89, 64, 54, 58, 80]\n",
      "referans:64\n",
      "[63, 54, 58] - [64] - [73, 67, 89, 80]\n",
      "referans:54\n",
      "[] - [54] - [63, 58]\n",
      "referans:58\n",
      "[] - [58] - [63]\n",
      "referans:89\n",
      "[73, 67, 80] - [89] - []\n",
      "referans:67\n",
      "[] - [67] - [73, 80]\n",
      "referans:80\n",
      "[73] - [80] - []\n",
      "[0, 2, 2, 2, 8, 19, 21, 22, 22, 27, 42, 50, 54, 58, 63, 64, 67, 73, 80, 89]\n"
     ]
    }
   ],
   "source": []
  },
  {
   "cell_type": "markdown",
   "metadata": {},
   "source": [
    "<h2>List of List sıralama</h2>\n",
    "<br>\n",
    "<summary>\n",
    "    <p>İçiçe listelerden oluşan bir list düşnünü. her iç listeyi kendi içinde sıralayın. İç listeler eşit uzunlukta olmak zorudna değil. Ör:[[1,5,2],[8,95,23,15],[22,0]]</p>\n",
    "</summary>\n",
    "<br>\n",
    "\n",
    "<details>\n",
    "<pre>\n",
    "liste=[[1,5,2],[8,95,23,15],[22,0]]\n",
    "list(map(sorted,liste))\n",
    "</pre>\n",
    "</details>"
   ]
  },
  {
   "cell_type": "code",
   "execution_count": 1,
   "metadata": {
    "ExecuteTime": {
     "end_time": "2021-05-23T10:20:58.161781Z",
     "start_time": "2021-05-23T10:20:58.148815Z"
    }
   },
   "outputs": [
    {
     "data": {
      "text/plain": [
       "[[1, 2, 5], [8, 15, 23, 95], [0, 22]]"
      ]
     },
     "execution_count": 1,
     "metadata": {},
     "output_type": "execute_result"
    }
   ],
   "source": [
    "#çözümünüzü burada geliştirin. Çıktı, aşağıdaki gibi olmalı\n"
   ]
  },
  {
   "cell_type": "markdown",
   "metadata": {},
   "source": [
    "<h2>Listedeki duplike bir elemanın geçtiği indeksleri bulma</h2>\n",
    "<br>\n",
    "<summary>\n",
    "Bir listede birden fazla bulunan bir elemanın geçtiği bütün indeksleri bulun. Ör:[10,20,30,20,40,50,60,20] listesi içinde 20'nin indekslerini bulun</summary>\n",
    "<br>\n",
    "\n",
    "<details>\n",
    "<pre>\n",
    "liste=[10,20,30,20,40,50,60,20]\n",
    "indexler=[e for e,n in enumerate(liste) if n==20]\n",
    "indexler\n",
    "</pre>\n",
    "</details>"
   ]
  },
  {
   "cell_type": "code",
   "execution_count": 4,
   "metadata": {
    "ExecuteTime": {
     "end_time": "2021-11-06T18:16:40.065763Z",
     "start_time": "2021-11-06T18:16:40.048189Z"
    }
   },
   "outputs": [
    {
     "data": {
      "text/plain": [
       "[1, 3, 7]"
      ]
     },
     "execution_count": 4,
     "metadata": {},
     "output_type": "execute_result"
    }
   ],
   "source": [
    "#çözümünüzü burada geliştirin. Çıktı, aşağıdaki gibi olmalı\n"
   ]
  },
  {
   "cell_type": "markdown",
   "metadata": {},
   "source": [
    "<h2>Bir listeye birden fazla indeks verme</h2>\n",
    "<br>\n",
    "<summary>Bir üstteki örnekte bulduğunuz indeksleri başka bir listede kullanın. Ör: [\"a\",\"b\",\"c\",\"d\",\"e\",\"f\",\"g\",\"h\"]</summary>\n",
    "<br>\n",
    "\n",
    "<details>\n",
    "<pre>\n",
    "liste=[10,20,30,20,40,50,60,20]\n",
    "indexler=[e for e,n in enumerate(liste) if n==20]\n",
    "\n",
    "liste2=[\"a\",\"b\",\"c\",\"d\",\"e\",\"f\",\"g\",\"h\"]\n",
    "sonuc=[liste2[i] for i in indexler]\n",
    "sonuc\n",
    "</pre>\n",
    "</details>"
   ]
  },
  {
   "cell_type": "code",
   "execution_count": 5,
   "metadata": {
    "ExecuteTime": {
     "end_time": "2021-11-06T18:20:27.813587Z",
     "start_time": "2021-11-06T18:20:27.789188Z"
    }
   },
   "outputs": [
    {
     "data": {
      "text/plain": [
       "['b', 'd', 'h']"
      ]
     },
     "execution_count": 5,
     "metadata": {},
     "output_type": "execute_result"
    }
   ],
   "source": [
    "#çözümünüzü burada geliştirin. Çıktı, aşağıdaki gibi olmalı\n"
   ]
  },
  {
   "cell_type": "markdown",
   "metadata": {},
   "source": [
    "<h2>Dictioanry'nin Key ve Valueları yer değiştirme</h2>\n",
    "<br>\n",
    "<summary>\n",
    "Dictionary formatına uygun ama henüz dictioanry olmayan bir yapıyı valueları yeni dictionary'nin key'i, key'leri de yeni dictionary'nin list of values'u olacak şekilde düzenleyin. \n",
    "\n",
    "Ör: Aşağıdaki formattaki veriyi,<br>\n",
    "Oyuncu1, Film1, Film2, Film3<br>\n",
    "Oyuncu2, Film2, Film5     <br>\n",
    "Oyuncu3, Film1, Film3, Film4, Film5<br>\n",
    "\n",
    "şu hale çevirin:<br>\n",
    "Film1, [Oyuncu1, Oyuncu3]<br>\n",
    "Film2, [Oyuncu1, Oyuncu2]<br>\n",
    "Film3, [Oyuncu1, Oyuncu3]<br>\n",
    "Film4, [Oyuncu3]<br>\n",
    "Film5, [Oyuncu2, Oyuncu3]<br>\n",
    "</summary>\n",
    "<br>\n",
    "\n",
    "<details>\n",
    "<pre>\n",
    "def filmveoyuncular(filmlist):\n",
    "    dict_={}\n",
    "    liste=filmlist.split(\"\\n\")[1:-1]\n",
    "\n",
    "    oyuncular=[x.split(\", \")[0] for x in liste]\n",
    "    filmler_list=[x.split(\", \")[1:] for x in liste]\n",
    "    filmler=set([f2 for f in filmler_list for f2 in f])\n",
    "\n",
    "    for f in filmler:\n",
    "        for e,o in enumerate(oyuncular): \n",
    "            oyunculiste=[]   \n",
    "            if f not in dict_ and f in filmler_list[e]:\n",
    "                if f in filmler_list[e]:\n",
    "                    dict_[f]=[o]\n",
    "            else:    \n",
    "                if f in filmler_list[e]:\n",
    "                    oyunculiste=dict_[f]\n",
    "                    oyunculiste.append(o)\n",
    "                    dict_[f]=oyunculiste\n",
    "    return dict_\n",
    "\n",
    "sonuc=filmveoyuncular(filmlerstr)\n",
    "for k,v in sonuc.items():\n",
    "    print(k,v)\n",
    "</pre>\n",
    "</details>"
   ]
  },
  {
   "cell_type": "code",
   "execution_count": 1,
   "metadata": {
    "ExecuteTime": {
     "end_time": "2021-11-06T18:09:55.875471Z",
     "start_time": "2021-11-06T18:09:55.858882Z"
    }
   },
   "outputs": [],
   "source": [
    "filmlerstr=\"\"\"\n",
    "Brad Pitt, Sleepers, Troy, Meet Joe Black, Oceans Eleven, Seven, Mr and Mrs Smith\n",
    "Tom Hanks, You have got mail, Apollo 13, Sleepless in Seattle, Catch Me If You Can\n",
    "Meg Ryan, You have got mail, Sleepless in Seattle\n",
    "Diane Kruger, Troy, National Treasure\n",
    "Dustin Hoffman, Sleepers, The Lost City\n",
    "Anthony Hopkins, Hannibal, The Edge, Meet Joe Black, Proof\n",
    "Alec Baldwin, The Edge, Pearl Harbor\n",
    "Angelina Jolie, Bone Collector, Lara Croft Tomb Raider, Mr and Mrs Smith\n",
    "Denzel Washington, Bone Collector, The Siege, American Gangster\n",
    "Julia Roberts, Pretty Woman, Oceans Eleven, Runaway Bride\n",
    "Gwyneth Paltrow, Shakespeare in Love, Bounce, Proof\n",
    "Russell Crowe, Gladiator, A Beautiful Mind, Cinderella Man, American Gangster\n",
    "Sylvester Stallone, Rocky, Rambo, Assassins\n",
    "Johnny Depp, Edward Scissorhands, The Pirates of Caribbean, Finding Neverland\n",
    "Leonardo Di Caprio, Titanic, Blood Diamond, The Departed, Catch Me If You Can\n",
    "Antonio Banderas, The Mask of Zorro, Desperado\n",
    "Tom Cruise, Top Gun, Mission Impossible, Jerry Maguire, A Few Good Men\n",
    "Kate Winslet, Titanic, Finding Neverland\n",
    "George Clooney, Oceans Eleven, Intolerable Cruelty\n",
    "Matt Damon, Good Will Hunting, Bourne Identity, Bourne Ultimatum, The Departed\n",
    "Ben Affleck, Bounce, Good Will Hunting, Pearl Harbor\n",
    "Catherine Zeta Jones, The Mask of Zorro, Intolerable Cruelty\n",
    "Morgan Freeman, Bone Collector, Seven, Million Dollar Baby, Bruce Almighty\n",
    "Bruce Willis, Die Hard, The Sixth Sense, Pulp Fiction, The Siege\n",
    "Julianne Moore, Assassins, Hannibal\n",
    "Salma Hayek, Desperado, Wild Wild West\n",
    "Will Smith, Wild Wild West, Pursuit of Happyness, Hitch, Men in Black\n",
    "Kevin Bacon, A Few Good Men, Sleepers\n",
    "Jim Carrey, The Mask, Bruce Almighty, Ace Ventura, Me-Myself and Irene\n",
    "Renee Zellweger, Me-Myself and Irene, Jerry Maguire, Cinderella Man\n",
    "\"\"\""
   ]
  },
  {
   "cell_type": "code",
   "execution_count": 2,
   "metadata": {
    "ExecuteTime": {
     "end_time": "2021-11-06T18:09:57.393152Z",
     "start_time": "2021-11-06T18:09:57.340447Z"
    }
   },
   "outputs": [
    {
     "name": "stdout",
     "output_type": "stream",
     "text": [
      "Bone Collector ['Angelina Jolie', 'Denzel Washington', 'Morgan Freeman']\n",
      "Pearl Harbor ['Alec Baldwin', 'Ben Affleck']\n",
      "The Siege ['Denzel Washington', 'Bruce Willis']\n",
      "Pursuit of Happyness ['Will Smith']\n",
      "Pretty Woman ['Julia Roberts']\n",
      "Die Hard ['Bruce Willis']\n",
      "Oceans Eleven ['Brad Pitt', 'Julia Roberts', 'George Clooney']\n",
      "Finding Neverland ['Johnny Depp', 'Kate Winslet']\n",
      "Cinderella Man ['Russell Crowe', 'Renee Zellweger']\n",
      "A Beautiful Mind ['Russell Crowe']\n",
      "Edward Scissorhands ['Johnny Depp']\n",
      "The Mask of Zorro ['Antonio Banderas', 'Catherine Zeta Jones']\n",
      "Ace Ventura ['Jim Carrey']\n",
      "Bourne Ultimatum ['Matt Damon']\n",
      "Desperado ['Antonio Banderas', 'Salma Hayek']\n",
      "American Gangster ['Denzel Washington', 'Russell Crowe']\n",
      "Proof ['Anthony Hopkins', 'Gwyneth Paltrow']\n",
      "Hannibal ['Anthony Hopkins', 'Julianne Moore']\n",
      "Assassins ['Sylvester Stallone', 'Julianne Moore']\n",
      "Rocky ['Sylvester Stallone']\n",
      "Hitch ['Will Smith']\n",
      "Mr and Mrs Smith ['Brad Pitt', 'Angelina Jolie']\n",
      "A Few Good Men ['Tom Cruise', 'Kevin Bacon']\n",
      "Titanic ['Leonardo Di Caprio', 'Kate Winslet']\n",
      "Pulp Fiction ['Bruce Willis']\n",
      "Apollo 13 ['Tom Hanks']\n",
      "Catch Me If You Can ['Tom Hanks', 'Leonardo Di Caprio']\n",
      "Bruce Almighty ['Morgan Freeman', 'Jim Carrey']\n",
      "The Sixth Sense ['Bruce Willis']\n",
      "Gladiator ['Russell Crowe']\n",
      "Bourne Identity ['Matt Damon']\n",
      "The Mask ['Jim Carrey']\n",
      "The Pirates of Caribbean ['Johnny Depp']\n",
      "Sleepers ['Brad Pitt', 'Dustin Hoffman', 'Kevin Bacon']\n",
      "Sleepless in Seattle ['Tom Hanks', 'Meg Ryan']\n",
      "Runaway Bride ['Julia Roberts']\n",
      "Me-Myself and Irene ['Jim Carrey', 'Renee Zellweger']\n",
      "Jerry Maguire ['Tom Cruise', 'Renee Zellweger']\n",
      "Meet Joe Black ['Brad Pitt', 'Anthony Hopkins']\n",
      "Lara Croft Tomb Raider ['Angelina Jolie']\n",
      "Troy ['Brad Pitt', 'Diane Kruger']\n",
      "Mission Impossible ['Tom Cruise']\n",
      "Blood Diamond ['Leonardo Di Caprio']\n",
      "Rambo ['Sylvester Stallone']\n",
      "Seven ['Brad Pitt', 'Morgan Freeman']\n",
      "Shakespeare in Love ['Gwyneth Paltrow']\n",
      "The Departed ['Leonardo Di Caprio', 'Matt Damon']\n",
      "Men in Black ['Will Smith']\n",
      "Intolerable Cruelty ['George Clooney', 'Catherine Zeta Jones']\n",
      "National Treasure ['Diane Kruger']\n",
      "The Edge ['Anthony Hopkins', 'Alec Baldwin']\n",
      "The Lost City ['Dustin Hoffman']\n",
      "Good Will Hunting ['Matt Damon', 'Ben Affleck']\n",
      "You have got mail ['Tom Hanks', 'Meg Ryan']\n",
      "Bounce ['Gwyneth Paltrow', 'Ben Affleck']\n",
      "Million Dollar Baby ['Morgan Freeman']\n",
      "Top Gun ['Tom Cruise']\n",
      "Wild Wild West ['Salma Hayek', 'Will Smith']\n"
     ]
    }
   ],
   "source": [
    "#çözümünüzü burada geliştirin. Çıktı, aşağıdaki gibi olmalı\n"
   ]
  },
  {
   "cell_type": "code",
   "execution_count": null,
   "metadata": {},
   "outputs": [],
   "source": []
  },
  {
   "cell_type": "markdown",
   "metadata": {},
   "source": [
    "# Diğer modüller"
   ]
  },
  {
   "cell_type": "markdown",
   "metadata": {},
   "source": [
    "<h2>Tüm alfanumerik karakterler</h2>\n",
    "<br>\n",
    "<summary>\n",
    "    <p>Tüm alfanumerik karakterleri yazdırın.</p>\n",
    "</summary>\n",
    "<br>\n",
    "\n",
    "<details>\n",
    "<pre>\n",
    "#1.çözüm\n",
    "import string\n",
    "print(''.join(ch for ch in string.printable if ch.isalnum()))\n",
    "\n",
    "#2.çözüm\n",
    "import re\n",
    "print(re.sub('[\\W_]', '', string.printable))\n",
    "</pre>\n",
    "</details>\n"
   ]
  },
  {
   "cell_type": "code",
   "execution_count": 29,
   "metadata": {},
   "outputs": [
    {
     "name": "stdout",
     "output_type": "stream",
     "text": [
      "0123456789abcdefghijklmnopqrstuvwxyzABCDEFGHIJKLMNOPQRSTUVWXYZ\n"
     ]
    }
   ],
   "source": [
    "#çözümünüzü burada geliştirin. Çıktı, aşağıdaki gibi olmalı\n"
   ]
  },
  {
   "cell_type": "markdown",
   "metadata": {},
   "source": [
    "<h2>Bir stringdeki alafanumerikler</h2>\n",
    "<br>\n",
    "<summary>\n",
    "    <p>Her türden karakteri içeren bir string ifadeden(Ör:\"volka2%4^1dn\") sadece alfanumerikleri yazdırın.</p>\n",
    "</summary>\n",
    "<br>\n",
    "\n",
    "<details>\n",
    "<pre>\n",
    "#1.çözüm\n",
    "import string\n",
    "\n",
    "kelime=\"volka2%4^1dn\"\n",
    "print(''.join(ch for ch in kelime if ch.isalnum()))\n",
    "\n",
    "#2.çözüm\n",
    "filtreli=filter(str.isalnum, kelime)\n",
    "\"\".join(filtreli)\n",
    "\n",
    "#3.çözüm\n",
    "import re\n",
    "print(re.sub('[\\W_]', '', kelime))\n",
    "\n",
    "#4.çözüm\n",
    "for char in kelime:\n",
    "    if not char.isalnum():\n",
    "        kelime = kelime.replace(char,\"\")\n",
    "print(kelime)\n",
    "</pre>\n",
    "</details>"
   ]
  },
  {
   "cell_type": "code",
   "execution_count": 30,
   "metadata": {},
   "outputs": [
    {
     "name": "stdout",
     "output_type": "stream",
     "text": [
      "volka241dn\n"
     ]
    }
   ],
   "source": [
    "#çözümünüzü burada geliştirin. Çıktı, aşağıdaki gibi olmalı\n"
   ]
  },
  {
   "cell_type": "markdown",
   "metadata": {},
   "source": [
    "<h2>Dosyaları listeleme</h2>\n",
    "<br>\n",
    "<summary>\n",
    "    <p>Bulunduğunuz/Geçerli klasördeki dosyaları yazdırın</p>\n",
    "</summary>\n",
    "<br>\n",
    "\n",
    "<details>\n",
    "<pre>\n",
    "import os\n",
    "os.listdir(os.getcwd())\n",
    "#veya\n",
    "os.listdir('.')\n",
    "</pre>\n",
    "</details>"
   ]
  },
  {
   "cell_type": "code",
   "execution_count": 41,
   "metadata": {
    "scrolled": true
   },
   "outputs": [],
   "source": [
    "#çözümünüzü burada geliştirin. \n"
   ]
  },
  {
   "cell_type": "markdown",
   "metadata": {},
   "source": [
    "<h2>Kısmi permütasyon</h2>\n",
    "<br>\n",
    "<summary>\n",
    "    <p>0-9 arası rakamların olası 3lü dizilimleri nelerdir. Sadece ilk 10unu yazdırın</p>\n",
    "</summary>\n",
    "<br>\n",
    "\n",
    "<details>\n",
    "<pre>\n",
    "import itertools\n",
    "numbers = '1234567890'\n",
    "p=itertools.permutations(list(numbers),3)\n",
    "list(p)[:10]\n",
    "</pre>\n",
    "</details>"
   ]
  },
  {
   "cell_type": "code",
   "execution_count": 32,
   "metadata": {},
   "outputs": [
    {
     "data": {
      "text/plain": [
       "[('1', '2', '3'),\n",
       " ('1', '2', '4'),\n",
       " ('1', '2', '5'),\n",
       " ('1', '2', '6'),\n",
       " ('1', '2', '7'),\n",
       " ('1', '2', '8'),\n",
       " ('1', '2', '9'),\n",
       " ('1', '2', '0'),\n",
       " ('1', '3', '2'),\n",
       " ('1', '3', '4')]"
      ]
     },
     "execution_count": 32,
     "metadata": {},
     "output_type": "execute_result"
    }
   ],
   "source": [
    "#çözümünüzü burada geliştirin. Çıktı, aşağıdaki gibi olmalı\n"
   ]
  },
  {
   "cell_type": "markdown",
   "metadata": {},
   "source": [
    "<h2>File browserda klasör açma</h2>\n",
    "<br>\n",
    "<summary>\n",
    "    <p>Bulunduğunuz/Geçerli klasörü açın</p>\n",
    "</summary>\n",
    "<br>\n",
    "\n",
    "<details>\n",
    "<pre>\n",
    "os.startfile(os.curdir)\n",
    "</pre>\n",
    "</details>"
   ]
  },
  {
   "cell_type": "code",
   "execution_count": 33,
   "metadata": {},
   "outputs": [],
   "source": [
    "#çözümünüzü burada geliştirin. Çıktı, aşağıdaki gibi olmalı\n"
   ]
  },
  {
   "cell_type": "markdown",
   "metadata": {},
   "source": [
    "<h2>website açma</h2>\n",
    "<br>\n",
    "<summary>\n",
    "    <p>www.volkanyurtseven.com sitesini açın</p>\n",
    "</summary>\n",
    "<br>\n",
    "\n",
    "<details>\n",
    "<pre>\n",
    "os.startfile('www.volkanyurtseven.com')\n",
    "</pre>\n",
    "</details>"
   ]
  },
  {
   "cell_type": "code",
   "execution_count": 34,
   "metadata": {},
   "outputs": [],
   "source": [
    "#çözümünüzü burada geliştirin. Çıktı, aşağıdaki gibi olmalı\n"
   ]
  },
  {
   "cell_type": "markdown",
   "metadata": {},
   "source": [
    "<h2>Olası tüm dizilimler</h2>\n",
    "<br>\n",
    "<summary>\n",
    "    <p>Dizi elemanlarını olası tüm dizilimlerini yazdırın. Örnek input:  ['a','b','c']</p>\n",
    "</summary>\n",
    "<br>\n",
    "\n",
    "<details>\n",
    "<pre>\n",
    "#1.çözüm\n",
    "char_list = ['a','b','c']\n",
    "import itertools\n",
    "list(itertools.permutations(char_list))\n",
    "\n",
    "#2.çözüm\n",
    "string =\"abc\"\n",
    "l =list(string)\n",
    "for a in l:\n",
    "    for i in range(0,len(string)):\n",
    "        m=l[:]\n",
    "        k=l.index(a)\n",
    "        m.pop(k)\n",
    "        if i != k:\n",
    "            m.insert(i,a)\n",
    "            print(','.join(m))\n",
    "</pre>\n",
    "</details>"
   ]
  },
  {
   "cell_type": "code",
   "execution_count": 22,
   "metadata": {},
   "outputs": [
    {
     "name": "stdout",
     "output_type": "stream",
     "text": [
      "b,a,c\n",
      "b,c,a\n",
      "b,a,c\n",
      "a,c,b\n",
      "c,a,b\n",
      "a,c,b\n"
     ]
    }
   ],
   "source": [
    "#çözümünüzü burada geliştirin. Çıktı, aşağıdaki gibi olmalı\n"
   ]
  },
  {
   "cell_type": "markdown",
   "metadata": {},
   "source": [
    "<h2>Farklı dizilerin elemanları arasında permütasyon</h2>\n",
    "<br>\n",
    "<summary>\n",
    "    <p>Elinizdeki 3 dizinin hangi elemanlarını toplarsanız belirlenmiş bir sayıya eşit olur. Ör:Dizilerx= [10, 25, 30, 55],\n",
    "y = [25, 45, 15, 5],\n",
    "z = [10, 30, 40, 20] ve bu dizilerden alınacak birer elemanın toplamları 70 mi diye kontrol edilsin.</p>\n",
    "</summary>\n",
    "<br>\n",
    "\n",
    "<details>\n",
    "<pre>\n",
    "#1.çözüm\n",
    "x= [10, 20, 20, 20]\n",
    "y = [10, 20, 30, 40]\n",
    "z = [10, 30, 40, 20]\n",
    "target = 70\n",
    "for i in x:\n",
    "    for a in y:\n",
    "        for b in z :\n",
    "            if (i + a + b) == target :\n",
    "                print (i,a,b)\n",
    "#2.çözüm\n",
    "print(list(filter(lambda x: sum(x) == 70, itertools.product(x, y, z))))\n",
    "</pre>\n",
    "</details>"
   ]
  },
  {
   "cell_type": "code",
   "execution_count": 23,
   "metadata": {},
   "outputs": [
    {
     "name": "stdout",
     "output_type": "stream",
     "text": [
      "25 25 20\n",
      "25 15 30\n",
      "25 5 40\n",
      "55 5 10\n"
     ]
    }
   ],
   "source": [
    "#çözümünüzü burada geliştirin. Çıktı, aşağıdaki gibi olmalı\n"
   ]
  },
  {
   "cell_type": "markdown",
   "metadata": {},
   "source": [
    "<h2>jsondaki iç keylere erişmek</h2>\n",
    "<br>\n",
    "<summary>\n",
    "    <p>Aşağıdaki json metinden maaşı elde edin.</p>\n",
    "    <pre>\n",
    "sampleJson = \"\"\"{ \n",
    "   \"company\":{ \n",
    "      \"employee\":{ \n",
    "         \"name\":\"emma\",\n",
    "         \"payble\":{ \n",
    "            \"salary\":7000,\n",
    "            \"bonus\":800\n",
    "         }\n",
    "      }\n",
    "   }\n",
    "}\"\"\"\n",
    "    </pre>\n",
    "</summary>\n",
    "<br>\n",
    "\n",
    "<details>\n",
    "<pre>\n",
    "import json\n",
    "\n",
    "data=json.loads(sampleJson)\n",
    "data[\"company\"][\"employee\"][\"payble\"][\"salary\"]\n",
    "</pre>\n",
    "</details>"
   ]
  },
  {
   "cell_type": "code",
   "execution_count": 9,
   "metadata": {
    "ExecuteTime": {
     "end_time": "2021-05-15T14:43:57.730534Z",
     "start_time": "2021-05-15T14:43:57.725548Z"
    }
   },
   "outputs": [
    {
     "data": {
      "text/plain": [
       "7000"
      ]
     },
     "execution_count": 9,
     "metadata": {},
     "output_type": "execute_result"
    }
   ],
   "source": []
  },
  {
   "cell_type": "markdown",
   "metadata": {},
   "source": [
    "<h2>json'da tüm name valueları alma</h2>\n",
    "<br>\n",
    "<summary>    \n",
    "    <pre>\n",
    "sampleJson = \"\"\"[ \n",
    "   { \n",
    "      \"id\":1,\n",
    "      \"name\":\"name1\",\n",
    "      \"color\":[ \n",
    "         \"red\",\n",
    "         \"green\"\n",
    "      ]\n",
    "   },\n",
    "   { \n",
    "      \"id\":2,\n",
    "      \"name\":\"name2\",\n",
    "      \"color\":[ \n",
    "         \"pink\",\n",
    "         \"yellow\"\n",
    "      ]\n",
    "   }\n",
    "]\"\"\"\n",
    "    </pre>\n",
    "</summary>\n",
    "<br>\n",
    "\n",
    "<details>\n",
    "<pre>\n",
    "import json\n",
    "\n",
    "data=json.loads(sampleJson)\n",
    "[x[\"name\"] for x in data]\n",
    "</pre>\n",
    "</details>"
   ]
  },
  {
   "cell_type": "code",
   "execution_count": 10,
   "metadata": {
    "ExecuteTime": {
     "end_time": "2021-05-15T14:45:44.611256Z",
     "start_time": "2021-05-15T14:45:44.606307Z"
    }
   },
   "outputs": [
    {
     "data": {
      "text/plain": [
       "['name1', 'name2']"
      ]
     },
     "execution_count": 10,
     "metadata": {},
     "output_type": "execute_result"
    }
   ],
   "source": []
  },
  {
   "cell_type": "markdown",
   "metadata": {},
   "source": [
    "<h2>Kaggle utility:Dosyadan belli bilgileri okuma</h2>\n",
    "<br>\n",
    "<summary> \n",
    "    <p>Kaggle ortamına kendi modüllerinizi yüklemek için bazı adımları uygulamak laızm. Buna göre modülünüzdeki tüm fonksiyonları \"write_function_to_file\" isimli bir fonksiyonla modül dosyanıza yazdırmanız lazım. Modülünüzdeki her bir fonksiyonu write_function_to_file(doInitialSettings, \"mlextension.py\") şeklinde sırayla yazdırabilirsiniz. Bunun için bu dosyanızdaki tüm fonksiyon isimlerini tespit edip altalta yazdıracak bir kod yazın. Örnek dosya içeriği aşağıdaki gibidir. (NOT: Normalde bunu dosya okuma ve yazma işlemiyle yapmanız gerekiyor. Kendi PC'nizde bulunan modül dosyanızdan bunları tek tek okuyup başka bi dosyaya yazmanız lazım ama biz burda basit olsun diye bir metinden okuyup ekrana yazdıracağız)\n",
    "    </p>\n",
    "    <pre>\n",
    "dosya=\"\"\"\n",
    "import numpy as np\n",
    "import pandas as pd\n",
    "from sklearn.metrics import filan\n",
    "\n",
    "def doInitialSettings(figsize=(5,3)):\n",
    "    warnings.simplefilter(\"always\")\n",
    "    plt.rcParams[\"figure.figsize\"] = figsize  \n",
    "    plt.rc('axes', labelsize=14)\n",
    "    pd.set_option('display.max_rows',20)  \n",
    "\n",
    "\n",
    "def multioutput(type=\"all\"):\n",
    "    from IPython.core.interactiveshell import InteractiveShell\n",
    "    InteractiveShell.ast_node_interactivity = type\n",
    "\"\"\"\n",
    "    </pre>\n",
    "</summary>\n",
    "<br>\n",
    "\n",
    "<details>\n",
    "<pre>\n",
    "file=dosya\n",
    "lines=dosya.split(\"\\n\")\n",
    "val=\"\"\n",
    "for line in lines:\n",
    "    if \"def\" in line:\n",
    "        val=line.split()[1].split(\"(\")[0]\n",
    "        if val !=\"\":\n",
    "            print(\"write_function_to_file(\"+val+\", \\\"mlextension.py\\\")\")\n",
    "\n",
    "</pre>\n",
    "</details>"
   ]
  },
  {
   "cell_type": "code",
   "execution_count": 14,
   "metadata": {
    "ExecuteTime": {
     "end_time": "2021-05-15T15:03:36.555906Z",
     "start_time": "2021-05-15T15:03:36.550921Z"
    }
   },
   "outputs": [
    {
     "name": "stdout",
     "output_type": "stream",
     "text": [
      "write_function_to_file(doInitialSettings, \"mlextension.py\")\n",
      "write_function_to_file(multioutput, \"mlextension.py\")\n"
     ]
    }
   ],
   "source": []
  }
 ],
 "metadata": {
  "kernelspec": {
   "display_name": "Python 3",
   "language": "python",
   "name": "python3"
  },
  "language_info": {
   "codemirror_mode": {
    "name": "ipython",
    "version": 3
   },
   "file_extension": ".py",
   "mimetype": "text/x-python",
   "name": "python",
   "nbconvert_exporter": "python",
   "pygments_lexer": "ipython3",
   "version": "3.8.6"
  },
  "toc": {
   "base_numbering": 1,
   "nav_menu": {},
   "number_sections": true,
   "sideBar": true,
   "skip_h1_title": false,
   "title_cell": "Table of Contents",
   "title_sidebar": "Contents",
   "toc_cell": true,
   "toc_position": {
    "height": "calc(100% - 180px)",
    "left": "10px",
    "top": "150px",
    "width": "341.3px"
   },
   "toc_section_display": true,
   "toc_window_display": true
  },
  "varInspector": {
   "cols": {
    "lenName": 16,
    "lenType": 16,
    "lenVar": 40
   },
   "kernels_config": {
    "python": {
     "delete_cmd_postfix": "",
     "delete_cmd_prefix": "del ",
     "library": "var_list.py",
     "varRefreshCmd": "print(var_dic_list())"
    },
    "r": {
     "delete_cmd_postfix": ") ",
     "delete_cmd_prefix": "rm(",
     "library": "var_list.r",
     "varRefreshCmd": "cat(var_dic_list()) "
    }
   },
   "types_to_exclude": [
    "module",
    "function",
    "builtin_function_or_method",
    "instance",
    "_Feature"
   ],
   "window_display": false
  }
 },
 "nbformat": 4,
 "nbformat_minor": 2
}
