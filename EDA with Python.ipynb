{
 "cells": [
  {
   "cell_type": "markdown",
   "metadata": {
    "toc": true
   },
   "source": [
    "<h1>Table of Contents<span class=\"tocSkip\"></span></h1>\n",
    "<div class=\"toc\"><ul class=\"toc-item\"><li><span><a href=\"#Konu-anlatımı\" data-toc-modified-id=\"Konu-anlatımı-1\"><span class=\"toc-item-num\">1&nbsp;&nbsp;</span>Konu anlatımı</a></span></li><li><span><a href=\"#Data-temini\" data-toc-modified-id=\"Data-temini-2\"><span class=\"toc-item-num\">2&nbsp;&nbsp;</span>Data temini</a></span></li><li><span><a href=\"#Hazır-EDA-paketleri\" data-toc-modified-id=\"Hazır-EDA-paketleri-3\"><span class=\"toc-item-num\">3&nbsp;&nbsp;</span>Hazır EDA paketleri</a></span><ul class=\"toc-item\"><li><span><a href=\"#PandasProfiling\" data-toc-modified-id=\"PandasProfiling-3.1\"><span class=\"toc-item-num\">3.1&nbsp;&nbsp;</span>PandasProfiling</a></span></li><li><span><a href=\"#DataPrep\" data-toc-modified-id=\"DataPrep-3.2\"><span class=\"toc-item-num\">3.2&nbsp;&nbsp;</span>DataPrep</a></span><ul class=\"toc-item\"><li><span><a href=\"#Plot\" data-toc-modified-id=\"Plot-3.2.1\"><span class=\"toc-item-num\">3.2.1&nbsp;&nbsp;</span>Plot</a></span></li><li><span><a href=\"#Corr\" data-toc-modified-id=\"Corr-3.2.2\"><span class=\"toc-item-num\">3.2.2&nbsp;&nbsp;</span>Corr</a></span></li><li><span><a href=\"#Missing\" data-toc-modified-id=\"Missing-3.2.3\"><span class=\"toc-item-num\">3.2.3&nbsp;&nbsp;</span>Missing</a></span></li><li><span><a href=\"#Report\" data-toc-modified-id=\"Report-3.2.4\"><span class=\"toc-item-num\">3.2.4&nbsp;&nbsp;</span>Report</a></span></li></ul></li><li><span><a href=\"#Sweetviz\" data-toc-modified-id=\"Sweetviz-3.3\"><span class=\"toc-item-num\">3.3&nbsp;&nbsp;</span>Sweetviz</a></span></li><li><span><a href=\"#Autoviz\" data-toc-modified-id=\"Autoviz-3.4\"><span class=\"toc-item-num\">3.4&nbsp;&nbsp;</span>Autoviz</a></span></li><li><span><a href=\"#autoplotter\" data-toc-modified-id=\"autoplotter-3.5\"><span class=\"toc-item-num\">3.5&nbsp;&nbsp;</span>autoplotter</a></span></li></ul></li><li><span><a href=\"#Kendi-EDA-kodlarım\" data-toc-modified-id=\"Kendi-EDA-kodlarım-4\"><span class=\"toc-item-num\">4&nbsp;&nbsp;</span>Kendi EDA kodlarım</a></span><ul class=\"toc-item\"><li><span><a href=\"#Genel-resmi-çıkarma\" data-toc-modified-id=\"Genel-resmi-çıkarma-4.1\"><span class=\"toc-item-num\">4.1&nbsp;&nbsp;</span>Genel resmi çıkarma</a></span><ul class=\"toc-item\"><li><span><a href=\"#Özet-istatistikler\" data-toc-modified-id=\"Özet-istatistikler-4.1.1\"><span class=\"toc-item-num\">4.1.1&nbsp;&nbsp;</span>Özet istatistikler</a></span></li><li><span><a href=\"#Veri-tipi-kontrolü-ve-değiştirme\" data-toc-modified-id=\"Veri-tipi-kontrolü-ve-değiştirme-4.1.2\"><span class=\"toc-item-num\">4.1.2&nbsp;&nbsp;</span>Veri tipi kontrolü ve değiştirme</a></span></li><li><span><a href=\"#Mükerrerlik-kontrolü\" data-toc-modified-id=\"Mükerrerlik-kontrolü-4.1.3\"><span class=\"toc-item-num\">4.1.3&nbsp;&nbsp;</span>Mükerrerlik kontrolü</a></span></li><li><span><a href=\"#Uniqe-değer-incelemesi\" data-toc-modified-id=\"Uniqe-değer-incelemesi-4.1.4\"><span class=\"toc-item-num\">4.1.4&nbsp;&nbsp;</span>Uniqe değer incelemesi</a></span><ul class=\"toc-item\"><li><span><a href=\"#Binning(Baremleme)\" data-toc-modified-id=\"Binning(Baremleme)-4.1.4.1\"><span class=\"toc-item-num\">4.1.4.1&nbsp;&nbsp;</span>Binning(Baremleme)</a></span></li></ul></li><li><span><a href=\"#Null/missing-value-handling\" data-toc-modified-id=\"Null/missing-value-handling-4.1.5\"><span class=\"toc-item-num\">4.1.5&nbsp;&nbsp;</span>Null/missing value handling</a></span><ul class=\"toc-item\"><li><span><a href=\"#Missing-value-handling\" data-toc-modified-id=\"Missing-value-handling-4.1.5.1\"><span class=\"toc-item-num\">4.1.5.1&nbsp;&nbsp;</span>Missing value handling</a></span></li></ul></li></ul></li><li><span><a href=\"#Doğru-sorularla-detaylara-dalma\" data-toc-modified-id=\"Doğru-sorularla-detaylara-dalma-4.2\"><span class=\"toc-item-num\">4.2&nbsp;&nbsp;</span>Doğru sorularla detaylara dalma</a></span><ul class=\"toc-item\"><li><span><a href=\"#Univariate-Analizler\" data-toc-modified-id=\"Univariate-Analizler-4.2.1\"><span class=\"toc-item-num\">4.2.1&nbsp;&nbsp;</span>Univariate Analizler</a></span><ul class=\"toc-item\"><li><span><a href=\"#Genel-sorular\" data-toc-modified-id=\"Genel-sorular-4.2.1.1\"><span class=\"toc-item-num\">4.2.1.1&nbsp;&nbsp;</span>Genel sorular</a></span></li><li><span><a href=\"#Dağılım-analizleri\" data-toc-modified-id=\"Dağılım-analizleri-4.2.1.2\"><span class=\"toc-item-num\">4.2.1.2&nbsp;&nbsp;</span>Dağılım analizleri</a></span></li><li><span><a href=\"#Programatik-outlier-tespiti\" data-toc-modified-id=\"Programatik-outlier-tespiti-4.2.1.3\"><span class=\"toc-item-num\">4.2.1.3&nbsp;&nbsp;</span>Programatik outlier tespiti</a></span></li></ul></li><li><span><a href=\"#bivariate(iki-featuerelu)-analizler\" data-toc-modified-id=\"bivariate(iki-featuerelu)-analizler-4.2.2\"><span class=\"toc-item-num\">4.2.2&nbsp;&nbsp;</span>bivariate(iki featuerelu) analizler</a></span><ul class=\"toc-item\"><li><span><a href=\"#Feature-Benzerliği\" data-toc-modified-id=\"Feature-Benzerliği-4.2.2.1\"><span class=\"toc-item-num\">4.2.2.1&nbsp;&nbsp;</span>Feature Benzerliği</a></span><ul class=\"toc-item\"><li><span><a href=\"#Manhattan/cityblock\" data-toc-modified-id=\"Manhattan/cityblock-4.2.2.1.1\"><span class=\"toc-item-num\">4.2.2.1.1&nbsp;&nbsp;</span>Manhattan/cityblock</a></span></li><li><span><a href=\"#cosine\" data-toc-modified-id=\"cosine-4.2.2.1.2\"><span class=\"toc-item-num\">4.2.2.1.2&nbsp;&nbsp;</span>cosine</a></span></li></ul></li><li><span><a href=\"#Scatter-grafikler\" data-toc-modified-id=\"Scatter-grafikler-4.2.2.2\"><span class=\"toc-item-num\">4.2.2.2&nbsp;&nbsp;</span>Scatter grafikler</a></span></li><li><span><a href=\"#Korelasyonlar\" data-toc-modified-id=\"Korelasyonlar-4.2.2.3\"><span class=\"toc-item-num\">4.2.2.3&nbsp;&nbsp;</span>Korelasyonlar</a></span><ul class=\"toc-item\"><li><span><a href=\"#Nümerikler-arasında\" data-toc-modified-id=\"Nümerikler-arasında-4.2.2.3.1\"><span class=\"toc-item-num\">4.2.2.3.1&nbsp;&nbsp;</span>Nümerikler arasında</a></span></li><li><span><a href=\"#Kategorikler-arasında\" data-toc-modified-id=\"Kategorikler-arasında-4.2.2.3.2\"><span class=\"toc-item-num\">4.2.2.3.2&nbsp;&nbsp;</span>Kategorikler arasında</a></span></li><li><span><a href=\"#Numerik-Kategorikler-arasında\" data-toc-modified-id=\"Numerik-Kategorikler-arasında-4.2.2.3.3\"><span class=\"toc-item-num\">4.2.2.3.3&nbsp;&nbsp;</span>Numerik-Kategorikler arasında</a></span></li></ul></li></ul></li><li><span><a href=\"#Multivariate(çok-featurelu)-analizler\" data-toc-modified-id=\"Multivariate(çok-featurelu)-analizler-4.2.3\"><span class=\"toc-item-num\">4.2.3&nbsp;&nbsp;</span>Multivariate(çok featurelu) analizler</a></span></li></ul></li></ul></li><li><span><a href=\"#Ek-bilgiler\" data-toc-modified-id=\"Ek-bilgiler-5\"><span class=\"toc-item-num\">5&nbsp;&nbsp;</span>Ek bilgiler</a></span></li></ul></div>"
   ]
  },
  {
   "cell_type": "markdown",
   "metadata": {},
   "source": [
    "# Konu anlatımı"
   ]
  },
  {
   "cell_type": "markdown",
   "metadata": {},
   "source": [
    "Burdaki kodların teorik açıklamasını <a href=\"https://mvolkanyurtseven.medium.com/makine-%C3%B6%C4%9Frenimi-felsefesi-5-78cd290b46f2\">şurdaki medium postumda</a> bulabilirsiniz."
   ]
  },
  {
   "cell_type": "markdown",
   "metadata": {},
   "source": [
    "# Data temini"
   ]
  },
  {
   "cell_type": "code",
   "execution_count": 1,
   "metadata": {
    "ExecuteTime": {
     "end_time": "2021-10-03T17:58:05.718100Z",
     "start_time": "2021-10-03T17:58:01.606010Z"
    }
   },
   "outputs": [],
   "source": [
    "import pandas as pd\n",
    "import numpy as np\n",
    "import matplotlib.pyplot as plt\n",
    "import seaborn as sns\n",
    "import warnings\n",
    "import mlextension as ml\n",
    "from mlextension import General\n",
    "warnings.filterwarnings('ignore')\n",
    "\n",
    "%matplotlib inline"
   ]
  },
  {
   "cell_type": "code",
   "execution_count": 2,
   "metadata": {
    "ExecuteTime": {
     "end_time": "2021-10-03T17:58:05.764939Z",
     "start_time": "2021-10-03T17:58:05.753968Z"
    }
   },
   "outputs": [],
   "source": [
    "General().multioutput()"
   ]
  },
  {
   "cell_type": "code",
   "execution_count": 3,
   "metadata": {
    "ExecuteTime": {
     "end_time": "2021-10-03T17:58:05.936990Z",
     "start_time": "2021-10-03T17:58:05.797848Z"
    }
   },
   "outputs": [],
   "source": [
    "%load_ext autoreload\n",
    "%autoreload 2"
   ]
  },
  {
   "cell_type": "code",
   "execution_count": 4,
   "metadata": {
    "ExecuteTime": {
     "end_time": "2021-10-03T17:58:16.027967Z",
     "start_time": "2021-10-03T17:58:06.803556Z"
    }
   },
   "outputs": [],
   "source": [
    "df=pd.read_csv(\"https://raw.githubusercontent.com/VolkiTheDreamer/dataset/master/Regression/AB_NYC_2019.csv\")                  \n",
    "# df=pd.read_csv(r\"E:\\OneDrive\\Dökümanlar\\GitHub\\dataset\\Regression\\AB_NYC_2019.csv\")"
   ]
  },
  {
   "cell_type": "code",
   "execution_count": 5,
   "metadata": {
    "ExecuteTime": {
     "end_time": "2021-10-03T17:58:19.586584Z",
     "start_time": "2021-10-03T17:58:19.269432Z"
    }
   },
   "outputs": [
    {
     "data": {
      "text/html": [
       "<div>\n",
       "<style scoped>\n",
       "    .dataframe tbody tr th:only-of-type {\n",
       "        vertical-align: middle;\n",
       "    }\n",
       "\n",
       "    .dataframe tbody tr th {\n",
       "        vertical-align: top;\n",
       "    }\n",
       "\n",
       "    .dataframe thead th {\n",
       "        text-align: right;\n",
       "    }\n",
       "</style>\n",
       "<table border=\"1\" class=\"dataframe\">\n",
       "  <thead>\n",
       "    <tr style=\"text-align: right;\">\n",
       "      <th></th>\n",
       "      <th>id</th>\n",
       "      <th>name</th>\n",
       "      <th>host_id</th>\n",
       "      <th>host_name</th>\n",
       "      <th>neighbourhood_group</th>\n",
       "      <th>neighbourhood</th>\n",
       "      <th>latitude</th>\n",
       "      <th>longitude</th>\n",
       "      <th>room_type</th>\n",
       "      <th>price</th>\n",
       "      <th>minimum_nights</th>\n",
       "      <th>number_of_reviews</th>\n",
       "      <th>last_review</th>\n",
       "      <th>reviews_per_month</th>\n",
       "      <th>calculated_host_listings_count</th>\n",
       "      <th>availability_365</th>\n",
       "    </tr>\n",
       "  </thead>\n",
       "  <tbody>\n",
       "    <tr>\n",
       "      <th>0</th>\n",
       "      <td>2539</td>\n",
       "      <td>Clean &amp; quiet apt home by the park</td>\n",
       "      <td>2787</td>\n",
       "      <td>John</td>\n",
       "      <td>Brooklyn</td>\n",
       "      <td>Kensington</td>\n",
       "      <td>40.64749</td>\n",
       "      <td>-73.97237</td>\n",
       "      <td>Private room</td>\n",
       "      <td>149</td>\n",
       "      <td>1</td>\n",
       "      <td>9</td>\n",
       "      <td>2018-10-19</td>\n",
       "      <td>0.21</td>\n",
       "      <td>6</td>\n",
       "      <td>365</td>\n",
       "    </tr>\n",
       "    <tr>\n",
       "      <th>1</th>\n",
       "      <td>2595</td>\n",
       "      <td>Skylit Midtown Castle</td>\n",
       "      <td>2845</td>\n",
       "      <td>Jennifer</td>\n",
       "      <td>Manhattan</td>\n",
       "      <td>Midtown</td>\n",
       "      <td>40.75362</td>\n",
       "      <td>-73.98377</td>\n",
       "      <td>Entire home/apt</td>\n",
       "      <td>225</td>\n",
       "      <td>1</td>\n",
       "      <td>45</td>\n",
       "      <td>2019-05-21</td>\n",
       "      <td>0.38</td>\n",
       "      <td>2</td>\n",
       "      <td>355</td>\n",
       "    </tr>\n",
       "    <tr>\n",
       "      <th>2</th>\n",
       "      <td>3647</td>\n",
       "      <td>THE VILLAGE OF HARLEM....NEW YORK !</td>\n",
       "      <td>4632</td>\n",
       "      <td>Elisabeth</td>\n",
       "      <td>Manhattan</td>\n",
       "      <td>Harlem</td>\n",
       "      <td>40.80902</td>\n",
       "      <td>-73.94190</td>\n",
       "      <td>Private room</td>\n",
       "      <td>150</td>\n",
       "      <td>3</td>\n",
       "      <td>0</td>\n",
       "      <td>NaN</td>\n",
       "      <td>NaN</td>\n",
       "      <td>1</td>\n",
       "      <td>365</td>\n",
       "    </tr>\n",
       "    <tr>\n",
       "      <th>3</th>\n",
       "      <td>3831</td>\n",
       "      <td>Cozy Entire Floor of Brownstone</td>\n",
       "      <td>4869</td>\n",
       "      <td>LisaRoxanne</td>\n",
       "      <td>Brooklyn</td>\n",
       "      <td>Clinton Hill</td>\n",
       "      <td>40.68514</td>\n",
       "      <td>-73.95976</td>\n",
       "      <td>Entire home/apt</td>\n",
       "      <td>89</td>\n",
       "      <td>1</td>\n",
       "      <td>270</td>\n",
       "      <td>2019-07-05</td>\n",
       "      <td>4.64</td>\n",
       "      <td>1</td>\n",
       "      <td>194</td>\n",
       "    </tr>\n",
       "    <tr>\n",
       "      <th>4</th>\n",
       "      <td>5022</td>\n",
       "      <td>Entire Apt: Spacious Studio/Loft by central park</td>\n",
       "      <td>7192</td>\n",
       "      <td>Laura</td>\n",
       "      <td>Manhattan</td>\n",
       "      <td>East Harlem</td>\n",
       "      <td>40.79851</td>\n",
       "      <td>-73.94399</td>\n",
       "      <td>Entire home/apt</td>\n",
       "      <td>80</td>\n",
       "      <td>10</td>\n",
       "      <td>9</td>\n",
       "      <td>2018-11-19</td>\n",
       "      <td>0.10</td>\n",
       "      <td>1</td>\n",
       "      <td>0</td>\n",
       "    </tr>\n",
       "  </tbody>\n",
       "</table>\n",
       "</div>"
      ],
      "text/plain": [
       "     id                                              name  host_id  \\\n",
       "0  2539                Clean & quiet apt home by the park     2787   \n",
       "1  2595                             Skylit Midtown Castle     2845   \n",
       "2  3647               THE VILLAGE OF HARLEM....NEW YORK !     4632   \n",
       "3  3831                   Cozy Entire Floor of Brownstone     4869   \n",
       "4  5022  Entire Apt: Spacious Studio/Loft by central park     7192   \n",
       "\n",
       "     host_name neighbourhood_group neighbourhood  latitude  longitude  \\\n",
       "0         John            Brooklyn    Kensington  40.64749  -73.97237   \n",
       "1     Jennifer           Manhattan       Midtown  40.75362  -73.98377   \n",
       "2    Elisabeth           Manhattan        Harlem  40.80902  -73.94190   \n",
       "3  LisaRoxanne            Brooklyn  Clinton Hill  40.68514  -73.95976   \n",
       "4        Laura           Manhattan   East Harlem  40.79851  -73.94399   \n",
       "\n",
       "         room_type  price  minimum_nights  number_of_reviews last_review  \\\n",
       "0     Private room    149               1                  9  2018-10-19   \n",
       "1  Entire home/apt    225               1                 45  2019-05-21   \n",
       "2     Private room    150               3                  0         NaN   \n",
       "3  Entire home/apt     89               1                270  2019-07-05   \n",
       "4  Entire home/apt     80              10                  9  2018-11-19   \n",
       "\n",
       "   reviews_per_month  calculated_host_listings_count  availability_365  \n",
       "0               0.21                               6               365  \n",
       "1               0.38                               2               355  \n",
       "2                NaN                               1               365  \n",
       "3               4.64                               1               194  \n",
       "4               0.10                               1                 0  "
      ]
     },
     "execution_count": 5,
     "metadata": {},
     "output_type": "execute_result"
    }
   ],
   "source": [
    "df.head()"
   ]
  },
  {
   "cell_type": "markdown",
   "metadata": {},
   "source": [
    "# Hazır EDA paketleri"
   ]
  },
  {
   "cell_type": "markdown",
   "metadata": {},
   "source": [
    "Sonuçların çıkmış hali dosya boyutunu aşırı büyüttüğü için çalıştırmadan bıraktım. Siz çalıştırabilirsiniz."
   ]
  },
  {
   "cell_type": "markdown",
   "metadata": {},
   "source": [
    "## PandasProfiling"
   ]
  },
  {
   "cell_type": "code",
   "execution_count": null,
   "metadata": {
    "ExecuteTime": {
     "end_time": "2021-07-22T16:08:08.021978Z",
     "start_time": "2021-07-22T16:08:04.263459Z"
    }
   },
   "outputs": [],
   "source": [
    "from pandas_profiling import ProfileReport"
   ]
  },
  {
   "cell_type": "code",
   "execution_count": null,
   "metadata": {
    "ExecuteTime": {
     "end_time": "2021-07-22T16:11:34.382712Z",
     "start_time": "2021-07-22T16:08:13.725084Z"
    }
   },
   "outputs": [],
   "source": [
    "ProfileReport(df)"
   ]
  },
  {
   "cell_type": "markdown",
   "metadata": {},
   "source": [
    "## DataPrep"
   ]
  },
  {
   "cell_type": "code",
   "execution_count": null,
   "metadata": {
    "ExecuteTime": {
     "end_time": "2021-06-16T18:27:40.885646Z",
     "start_time": "2021-06-16T18:27:35.137483Z"
    }
   },
   "outputs": [],
   "source": [
    "#eda dışında başka modülleri de var, mesela clean ile temizlik\n",
    "from dataprep.eda import plot, plot_correlation, plot_missing, create_report"
   ]
  },
  {
   "cell_type": "markdown",
   "metadata": {},
   "source": [
    "### Plot"
   ]
  },
  {
   "cell_type": "markdown",
   "metadata": {},
   "source": [
    "`Plot`:If no columns are specified, the distribution of\n",
    "each coloumn is plotted. A histogram is plotted if the\n",
    "column contains numerical values, a bar chart is plotted\n",
    "if the column contains categorical values, a line chart is\n",
    "plotted if the column is of type datetime."
   ]
  },
  {
   "cell_type": "code",
   "execution_count": null,
   "metadata": {
    "ExecuteTime": {
     "end_time": "2021-06-01T13:30:05.514008Z",
     "start_time": "2021-06-01T13:30:00.683924Z"
    },
    "scrolled": true
   },
   "outputs": [],
   "source": [
    "plot(df)"
   ]
  },
  {
   "cell_type": "code",
   "execution_count": null,
   "metadata": {
    "ExecuteTime": {
     "end_time": "2021-06-16T18:28:05.480211Z",
     "start_time": "2021-06-16T18:28:02.296016Z"
    }
   },
   "outputs": [],
   "source": [
    "#tek kolon categotik\n",
    "plot(df,\"room_type\")"
   ]
  },
  {
   "cell_type": "code",
   "execution_count": null,
   "metadata": {
    "ExecuteTime": {
     "end_time": "2021-06-16T18:28:07.804910Z",
     "start_time": "2021-06-16T18:28:05.573833Z"
    }
   },
   "outputs": [],
   "source": [
    "#tek kolon numerik\n",
    "plot(df,\"price\")"
   ]
  },
  {
   "cell_type": "code",
   "execution_count": null,
   "metadata": {
    "ExecuteTime": {
     "end_time": "2021-06-16T18:28:08.979022Z",
     "start_time": "2021-06-16T18:28:07.884850Z"
    }
   },
   "outputs": [],
   "source": [
    "#çift kolon categorik\n",
    "plot(df,\"room_type\",\"neighbourhood_group\")"
   ]
  },
  {
   "cell_type": "code",
   "execution_count": null,
   "metadata": {
    "ExecuteTime": {
     "end_time": "2021-06-16T18:28:10.789436Z",
     "start_time": "2021-06-16T18:28:09.063851Z"
    }
   },
   "outputs": [],
   "source": [
    "#çift kolon 1-categorik, 2-numerik\n",
    "plot(df,\"room_type\",\"price\")"
   ]
  },
  {
   "cell_type": "code",
   "execution_count": null,
   "metadata": {
    "ExecuteTime": {
     "end_time": "2021-06-16T18:28:13.314861Z",
     "start_time": "2021-06-16T18:28:10.891735Z"
    }
   },
   "outputs": [],
   "source": [
    "#çift kolon numerik\n",
    "plot(df,\"number_of_reviews\",\"price\")"
   ]
  },
  {
   "cell_type": "markdown",
   "metadata": {},
   "source": [
    "### Corr"
   ]
  },
  {
   "cell_type": "code",
   "execution_count": null,
   "metadata": {
    "ExecuteTime": {
     "end_time": "2021-06-16T18:28:16.969193Z",
     "start_time": "2021-06-16T18:28:13.412280Z"
    }
   },
   "outputs": [],
   "source": [
    "plot_correlation(df)"
   ]
  },
  {
   "cell_type": "code",
   "execution_count": null,
   "metadata": {
    "ExecuteTime": {
     "end_time": "2021-06-16T18:28:20.538071Z",
     "start_time": "2021-06-16T18:28:16.977184Z"
    }
   },
   "outputs": [],
   "source": [
    "plot_correlation(df,k=2)"
   ]
  },
  {
   "cell_type": "code",
   "execution_count": null,
   "metadata": {
    "ExecuteTime": {
     "end_time": "2021-06-16T18:28:23.410148Z",
     "start_time": "2021-06-16T18:28:20.726946Z"
    }
   },
   "outputs": [],
   "source": [
    "plot_correlation(df,\"price\")"
   ]
  },
  {
   "cell_type": "markdown",
   "metadata": {},
   "source": [
    "### Missing"
   ]
  },
  {
   "cell_type": "code",
   "execution_count": null,
   "metadata": {
    "ExecuteTime": {
     "end_time": "2021-06-16T18:28:25.650543Z",
     "start_time": "2021-06-16T18:28:23.495791Z"
    }
   },
   "outputs": [],
   "source": [
    "plot_missing(df)"
   ]
  },
  {
   "cell_type": "code",
   "execution_count": null,
   "metadata": {
    "ExecuteTime": {
     "end_time": "2021-06-16T18:28:27.587008Z",
     "start_time": "2021-06-16T18:28:25.751288Z"
    }
   },
   "outputs": [],
   "source": [
    "plot_missing(df,\"last_review\",\"price\")"
   ]
  },
  {
   "cell_type": "code",
   "execution_count": null,
   "metadata": {
    "ExecuteTime": {
     "end_time": "2021-06-16T18:28:33.935892Z",
     "start_time": "2021-06-16T18:28:27.596488Z"
    },
    "scrolled": false
   },
   "outputs": [],
   "source": [
    "plot_missing(df,\"last_review\")"
   ]
  },
  {
   "cell_type": "markdown",
   "metadata": {},
   "source": [
    "### Report"
   ]
  },
  {
   "cell_type": "code",
   "execution_count": null,
   "metadata": {
    "ExecuteTime": {
     "end_time": "2021-06-16T18:29:13.868989Z",
     "start_time": "2021-06-16T18:28:34.151783Z"
    },
    "scrolled": true
   },
   "outputs": [],
   "source": [
    "create_report(df)"
   ]
  },
  {
   "cell_type": "markdown",
   "metadata": {},
   "source": [
    "## Sweetviz"
   ]
  },
  {
   "cell_type": "code",
   "execution_count": null,
   "metadata": {
    "ExecuteTime": {
     "end_time": "2021-07-22T16:13:53.635476Z",
     "start_time": "2021-07-22T16:13:00.810937Z"
    }
   },
   "outputs": [],
   "source": [
    "import sweetviz as sv\n",
    "\n",
    "my_report = sv.analyze(df)\n",
    "my_report.show_html() #ayrı html açar, hover yaptıkça yanda detay\n",
    "my_report.show_notebook() #burda ise tıkla, aşağıya toggle"
   ]
  },
  {
   "cell_type": "markdown",
   "metadata": {},
   "source": [
    "## Autoviz"
   ]
  },
  {
   "cell_type": "code",
   "execution_count": null,
   "metadata": {
    "ExecuteTime": {
     "end_time": "2021-06-16T18:37:37.151284Z",
     "start_time": "2021-06-16T18:36:24.482328Z"
    },
    "scrolled": true
   },
   "outputs": [],
   "source": [
    "from autoviz.AutoViz_Class import AutoViz_Class\n",
    "AV = AutoViz_Class()\n",
    "df_av = AV.AutoViz(\"\",dfte=df)"
   ]
  },
  {
   "cell_type": "markdown",
   "metadata": {},
   "source": [
    "## autoplotter"
   ]
  },
  {
   "cell_type": "code",
   "execution_count": null,
   "metadata": {
    "ExecuteTime": {
     "end_time": "2021-06-16T18:41:51.808378Z",
     "start_time": "2021-06-16T18:41:51.792389Z"
    }
   },
   "outputs": [],
   "source": [
    "from autoplotter import run_app "
   ]
  },
  {
   "cell_type": "code",
   "execution_count": null,
   "metadata": {
    "ExecuteTime": {
     "end_time": "2021-06-16T18:42:37.581890Z",
     "start_time": "2021-06-16T18:42:34.518965Z"
    }
   },
   "outputs": [],
   "source": [
    "run_app(df,mode = \"external\", host=\"127.0.0.1\", port=5000)"
   ]
  },
  {
   "cell_type": "markdown",
   "metadata": {},
   "source": [
    "# Kendi EDA kodlarım"
   ]
  },
  {
   "cell_type": "markdown",
   "metadata": {},
   "source": [
    "## Genel resmi çıkarma"
   ]
  },
  {
   "cell_type": "markdown",
   "metadata": {},
   "source": [
    "### Özet istatistikler"
   ]
  },
  {
   "cell_type": "code",
   "execution_count": 6,
   "metadata": {
    "ExecuteTime": {
     "end_time": "2021-10-03T17:58:31.032072Z",
     "start_time": "2021-10-03T17:58:30.644111Z"
    }
   },
   "outputs": [
    {
     "data": {
      "text/html": [
       "<div>\n",
       "<style scoped>\n",
       "    .dataframe tbody tr th:only-of-type {\n",
       "        vertical-align: middle;\n",
       "    }\n",
       "\n",
       "    .dataframe tbody tr th {\n",
       "        vertical-align: top;\n",
       "    }\n",
       "\n",
       "    .dataframe thead th {\n",
       "        text-align: right;\n",
       "    }\n",
       "</style>\n",
       "<table border=\"1\" class=\"dataframe\">\n",
       "  <thead>\n",
       "    <tr style=\"text-align: right;\">\n",
       "      <th></th>\n",
       "      <th>id</th>\n",
       "      <th>host_id</th>\n",
       "      <th>latitude</th>\n",
       "      <th>longitude</th>\n",
       "      <th>price</th>\n",
       "      <th>minimum_nights</th>\n",
       "      <th>number_of_reviews</th>\n",
       "      <th>reviews_per_month</th>\n",
       "      <th>calculated_host_listings_count</th>\n",
       "      <th>availability_365</th>\n",
       "    </tr>\n",
       "  </thead>\n",
       "  <tbody>\n",
       "    <tr>\n",
       "      <th>count</th>\n",
       "      <td>4.889500e+04</td>\n",
       "      <td>4.889500e+04</td>\n",
       "      <td>48895.000000</td>\n",
       "      <td>48895.000000</td>\n",
       "      <td>48895.000000</td>\n",
       "      <td>48895.000000</td>\n",
       "      <td>48895.000000</td>\n",
       "      <td>38843.000000</td>\n",
       "      <td>48895.000000</td>\n",
       "      <td>48895.000000</td>\n",
       "    </tr>\n",
       "    <tr>\n",
       "      <th>mean</th>\n",
       "      <td>1.901714e+07</td>\n",
       "      <td>6.762001e+07</td>\n",
       "      <td>40.728949</td>\n",
       "      <td>-73.952170</td>\n",
       "      <td>152.720687</td>\n",
       "      <td>7.029962</td>\n",
       "      <td>23.274466</td>\n",
       "      <td>1.373221</td>\n",
       "      <td>7.143982</td>\n",
       "      <td>112.781327</td>\n",
       "    </tr>\n",
       "    <tr>\n",
       "      <th>std</th>\n",
       "      <td>1.098311e+07</td>\n",
       "      <td>7.861097e+07</td>\n",
       "      <td>0.054530</td>\n",
       "      <td>0.046157</td>\n",
       "      <td>240.154170</td>\n",
       "      <td>20.510550</td>\n",
       "      <td>44.550582</td>\n",
       "      <td>1.680442</td>\n",
       "      <td>32.952519</td>\n",
       "      <td>131.622289</td>\n",
       "    </tr>\n",
       "    <tr>\n",
       "      <th>min</th>\n",
       "      <td>2.539000e+03</td>\n",
       "      <td>2.438000e+03</td>\n",
       "      <td>40.499790</td>\n",
       "      <td>-74.244420</td>\n",
       "      <td>0.000000</td>\n",
       "      <td>1.000000</td>\n",
       "      <td>0.000000</td>\n",
       "      <td>0.010000</td>\n",
       "      <td>1.000000</td>\n",
       "      <td>0.000000</td>\n",
       "    </tr>\n",
       "    <tr>\n",
       "      <th>25%</th>\n",
       "      <td>9.471945e+06</td>\n",
       "      <td>7.822033e+06</td>\n",
       "      <td>40.690100</td>\n",
       "      <td>-73.983070</td>\n",
       "      <td>69.000000</td>\n",
       "      <td>1.000000</td>\n",
       "      <td>1.000000</td>\n",
       "      <td>0.190000</td>\n",
       "      <td>1.000000</td>\n",
       "      <td>0.000000</td>\n",
       "    </tr>\n",
       "    <tr>\n",
       "      <th>50%</th>\n",
       "      <td>1.967728e+07</td>\n",
       "      <td>3.079382e+07</td>\n",
       "      <td>40.723070</td>\n",
       "      <td>-73.955680</td>\n",
       "      <td>106.000000</td>\n",
       "      <td>3.000000</td>\n",
       "      <td>5.000000</td>\n",
       "      <td>0.720000</td>\n",
       "      <td>1.000000</td>\n",
       "      <td>45.000000</td>\n",
       "    </tr>\n",
       "    <tr>\n",
       "      <th>75%</th>\n",
       "      <td>2.915218e+07</td>\n",
       "      <td>1.074344e+08</td>\n",
       "      <td>40.763115</td>\n",
       "      <td>-73.936275</td>\n",
       "      <td>175.000000</td>\n",
       "      <td>5.000000</td>\n",
       "      <td>24.000000</td>\n",
       "      <td>2.020000</td>\n",
       "      <td>2.000000</td>\n",
       "      <td>227.000000</td>\n",
       "    </tr>\n",
       "    <tr>\n",
       "      <th>max</th>\n",
       "      <td>3.648724e+07</td>\n",
       "      <td>2.743213e+08</td>\n",
       "      <td>40.913060</td>\n",
       "      <td>-73.712990</td>\n",
       "      <td>10000.000000</td>\n",
       "      <td>1250.000000</td>\n",
       "      <td>629.000000</td>\n",
       "      <td>58.500000</td>\n",
       "      <td>327.000000</td>\n",
       "      <td>365.000000</td>\n",
       "    </tr>\n",
       "  </tbody>\n",
       "</table>\n",
       "</div>"
      ],
      "text/plain": [
       "                 id       host_id      latitude     longitude         price  \\\n",
       "count  4.889500e+04  4.889500e+04  48895.000000  48895.000000  48895.000000   \n",
       "mean   1.901714e+07  6.762001e+07     40.728949    -73.952170    152.720687   \n",
       "std    1.098311e+07  7.861097e+07      0.054530      0.046157    240.154170   \n",
       "min    2.539000e+03  2.438000e+03     40.499790    -74.244420      0.000000   \n",
       "25%    9.471945e+06  7.822033e+06     40.690100    -73.983070     69.000000   \n",
       "50%    1.967728e+07  3.079382e+07     40.723070    -73.955680    106.000000   \n",
       "75%    2.915218e+07  1.074344e+08     40.763115    -73.936275    175.000000   \n",
       "max    3.648724e+07  2.743213e+08     40.913060    -73.712990  10000.000000   \n",
       "\n",
       "       minimum_nights  number_of_reviews  reviews_per_month  \\\n",
       "count    48895.000000       48895.000000       38843.000000   \n",
       "mean         7.029962          23.274466           1.373221   \n",
       "std         20.510550          44.550582           1.680442   \n",
       "min          1.000000           0.000000           0.010000   \n",
       "25%          1.000000           1.000000           0.190000   \n",
       "50%          3.000000           5.000000           0.720000   \n",
       "75%          5.000000          24.000000           2.020000   \n",
       "max       1250.000000         629.000000          58.500000   \n",
       "\n",
       "       calculated_host_listings_count  availability_365  \n",
       "count                    48895.000000      48895.000000  \n",
       "mean                         7.143982        112.781327  \n",
       "std                         32.952519        131.622289  \n",
       "min                          1.000000          0.000000  \n",
       "25%                          1.000000          0.000000  \n",
       "50%                          1.000000         45.000000  \n",
       "75%                          2.000000        227.000000  \n",
       "max                        327.000000        365.000000  "
      ]
     },
     "execution_count": 6,
     "metadata": {},
     "output_type": "execute_result"
    }
   ],
   "source": [
    "df.describe()"
   ]
  },
  {
   "cell_type": "code",
   "execution_count": 7,
   "metadata": {
    "ExecuteTime": {
     "end_time": "2021-10-03T17:58:32.888113Z",
     "start_time": "2021-10-03T17:58:32.537050Z"
    }
   },
   "outputs": [
    {
     "data": {
      "text/html": [
       "<div>\n",
       "<style scoped>\n",
       "    .dataframe tbody tr th:only-of-type {\n",
       "        vertical-align: middle;\n",
       "    }\n",
       "\n",
       "    .dataframe tbody tr th {\n",
       "        vertical-align: top;\n",
       "    }\n",
       "\n",
       "    .dataframe thead th {\n",
       "        text-align: right;\n",
       "    }\n",
       "</style>\n",
       "<table border=\"1\" class=\"dataframe\">\n",
       "  <thead>\n",
       "    <tr style=\"text-align: right;\">\n",
       "      <th></th>\n",
       "      <th>Type</th>\n",
       "      <th>Nunique</th>\n",
       "      <th>#of Missing</th>\n",
       "      <th>MostFreqItem</th>\n",
       "      <th>MostFreqCount</th>\n",
       "      <th>First</th>\n",
       "    </tr>\n",
       "  </thead>\n",
       "  <tbody>\n",
       "    <tr>\n",
       "      <th>id</th>\n",
       "      <td>int64</td>\n",
       "      <td>48895</td>\n",
       "      <td>0</td>\n",
       "      <td>11667455</td>\n",
       "      <td>1</td>\n",
       "      <td>2539</td>\n",
       "    </tr>\n",
       "    <tr>\n",
       "      <th>name</th>\n",
       "      <td>object</td>\n",
       "      <td>47905</td>\n",
       "      <td>16</td>\n",
       "      <td>Hillside Hotel</td>\n",
       "      <td>18</td>\n",
       "      <td>Clean &amp; quiet apt home by the park</td>\n",
       "    </tr>\n",
       "    <tr>\n",
       "      <th>host_id</th>\n",
       "      <td>int64</td>\n",
       "      <td>37457</td>\n",
       "      <td>0</td>\n",
       "      <td>219517861</td>\n",
       "      <td>327</td>\n",
       "      <td>2787</td>\n",
       "    </tr>\n",
       "    <tr>\n",
       "      <th>host_name</th>\n",
       "      <td>object</td>\n",
       "      <td>11452</td>\n",
       "      <td>21</td>\n",
       "      <td>Michael</td>\n",
       "      <td>417</td>\n",
       "      <td>John</td>\n",
       "    </tr>\n",
       "    <tr>\n",
       "      <th>neighbourhood_group</th>\n",
       "      <td>object</td>\n",
       "      <td>5</td>\n",
       "      <td>0</td>\n",
       "      <td>Manhattan</td>\n",
       "      <td>21661</td>\n",
       "      <td>Brooklyn</td>\n",
       "    </tr>\n",
       "    <tr>\n",
       "      <th>neighbourhood</th>\n",
       "      <td>object</td>\n",
       "      <td>221</td>\n",
       "      <td>0</td>\n",
       "      <td>Williamsburg</td>\n",
       "      <td>3920</td>\n",
       "      <td>Kensington</td>\n",
       "    </tr>\n",
       "    <tr>\n",
       "      <th>latitude</th>\n",
       "      <td>float64</td>\n",
       "      <td>19048</td>\n",
       "      <td>0</td>\n",
       "      <td>40.7181</td>\n",
       "      <td>18</td>\n",
       "      <td>40.6475</td>\n",
       "    </tr>\n",
       "    <tr>\n",
       "      <th>longitude</th>\n",
       "      <td>float64</td>\n",
       "      <td>14718</td>\n",
       "      <td>0</td>\n",
       "      <td>-73.9568</td>\n",
       "      <td>18</td>\n",
       "      <td>-73.9724</td>\n",
       "    </tr>\n",
       "    <tr>\n",
       "      <th>room_type</th>\n",
       "      <td>object</td>\n",
       "      <td>3</td>\n",
       "      <td>0</td>\n",
       "      <td>Entire home/apt</td>\n",
       "      <td>25409</td>\n",
       "      <td>Private room</td>\n",
       "    </tr>\n",
       "    <tr>\n",
       "      <th>price</th>\n",
       "      <td>int64</td>\n",
       "      <td>674</td>\n",
       "      <td>0</td>\n",
       "      <td>100</td>\n",
       "      <td>2051</td>\n",
       "      <td>149</td>\n",
       "    </tr>\n",
       "    <tr>\n",
       "      <th>minimum_nights</th>\n",
       "      <td>int64</td>\n",
       "      <td>109</td>\n",
       "      <td>0</td>\n",
       "      <td>1</td>\n",
       "      <td>12720</td>\n",
       "      <td>1</td>\n",
       "    </tr>\n",
       "    <tr>\n",
       "      <th>number_of_reviews</th>\n",
       "      <td>int64</td>\n",
       "      <td>394</td>\n",
       "      <td>0</td>\n",
       "      <td>0</td>\n",
       "      <td>10052</td>\n",
       "      <td>9</td>\n",
       "    </tr>\n",
       "    <tr>\n",
       "      <th>last_review</th>\n",
       "      <td>object</td>\n",
       "      <td>1764</td>\n",
       "      <td>10052</td>\n",
       "      <td>2019-06-23</td>\n",
       "      <td>1413</td>\n",
       "      <td>2018-10-19</td>\n",
       "    </tr>\n",
       "    <tr>\n",
       "      <th>reviews_per_month</th>\n",
       "      <td>float64</td>\n",
       "      <td>937</td>\n",
       "      <td>10052</td>\n",
       "      <td>0.02</td>\n",
       "      <td>919</td>\n",
       "      <td>0.21</td>\n",
       "    </tr>\n",
       "    <tr>\n",
       "      <th>calculated_host_listings_count</th>\n",
       "      <td>int64</td>\n",
       "      <td>47</td>\n",
       "      <td>0</td>\n",
       "      <td>1</td>\n",
       "      <td>32303</td>\n",
       "      <td>6</td>\n",
       "    </tr>\n",
       "    <tr>\n",
       "      <th>availability_365</th>\n",
       "      <td>int64</td>\n",
       "      <td>366</td>\n",
       "      <td>0</td>\n",
       "      <td>0</td>\n",
       "      <td>17533</td>\n",
       "      <td>365</td>\n",
       "    </tr>\n",
       "  </tbody>\n",
       "</table>\n",
       "</div>"
      ],
      "text/plain": [
       "                                   Type  Nunique  #of Missing  \\\n",
       "id                                int64    48895            0   \n",
       "name                             object    47905           16   \n",
       "host_id                           int64    37457            0   \n",
       "host_name                        object    11452           21   \n",
       "neighbourhood_group              object        5            0   \n",
       "neighbourhood                    object      221            0   \n",
       "latitude                        float64    19048            0   \n",
       "longitude                       float64    14718            0   \n",
       "room_type                        object        3            0   \n",
       "price                             int64      674            0   \n",
       "minimum_nights                    int64      109            0   \n",
       "number_of_reviews                 int64      394            0   \n",
       "last_review                      object     1764        10052   \n",
       "reviews_per_month               float64      937        10052   \n",
       "calculated_host_listings_count    int64       47            0   \n",
       "availability_365                  int64      366            0   \n",
       "\n",
       "                                   MostFreqItem  MostFreqCount  \\\n",
       "id                                     11667455              1   \n",
       "name                             Hillside Hotel             18   \n",
       "host_id                               219517861            327   \n",
       "host_name                               Michael            417   \n",
       "neighbourhood_group                   Manhattan          21661   \n",
       "neighbourhood                      Williamsburg           3920   \n",
       "latitude                                40.7181             18   \n",
       "longitude                              -73.9568             18   \n",
       "room_type                       Entire home/apt          25409   \n",
       "price                                       100           2051   \n",
       "minimum_nights                                1          12720   \n",
       "number_of_reviews                             0          10052   \n",
       "last_review                          2019-06-23           1413   \n",
       "reviews_per_month                          0.02            919   \n",
       "calculated_host_listings_count                1          32303   \n",
       "availability_365                              0          17533   \n",
       "\n",
       "                                                             First  \n",
       "id                                                            2539  \n",
       "name                            Clean & quiet apt home by the park  \n",
       "host_id                                                       2787  \n",
       "host_name                                                     John  \n",
       "neighbourhood_group                                       Brooklyn  \n",
       "neighbourhood                                           Kensington  \n",
       "latitude                                                   40.6475  \n",
       "longitude                                                 -73.9724  \n",
       "room_type                                             Private room  \n",
       "price                                                          149  \n",
       "minimum_nights                                                   1  \n",
       "number_of_reviews                                                9  \n",
       "last_review                                             2018-10-19  \n",
       "reviews_per_month                                             0.21  \n",
       "calculated_host_listings_count                                   6  \n",
       "availability_365                                               365  "
      ]
     },
     "execution_count": 7,
     "metadata": {},
     "output_type": "execute_result"
    }
   ],
   "source": [
    "ml.SuperInfo(df)"
   ]
  },
  {
   "cell_type": "code",
   "execution_count": 8,
   "metadata": {
    "ExecuteTime": {
     "end_time": "2021-10-03T17:58:37.674376Z",
     "start_time": "2021-10-03T17:58:37.536746Z"
    }
   },
   "outputs": [],
   "source": [
    "#çeşitli işlemlerde kullanılacak nümerik kolonlar\n",
    "nums=['price', 'minimum_nights', 'number_of_reviews', 'reviews_per_month','availability_365']"
   ]
  },
  {
   "cell_type": "markdown",
   "metadata": {},
   "source": [
    "### Veri tipi kontrolü ve değiştirme"
   ]
  },
  {
   "cell_type": "code",
   "execution_count": 9,
   "metadata": {
    "ExecuteTime": {
     "end_time": "2021-10-03T17:58:38.338635Z",
     "start_time": "2021-10-03T17:58:38.208950Z"
    }
   },
   "outputs": [],
   "source": [
    "coltobechanged=[\"price\",\"minimum_nights\",\"number_of_reviews\",\"calculated_host_listings_count\",\"availability_365\"]\n",
    "datetobe=\"last_review\"\n",
    "catstobe=[\"neighbourhood_group\",\"neighbourhood\",\"room_type\"]"
   ]
  },
  {
   "cell_type": "code",
   "execution_count": 10,
   "metadata": {
    "ExecuteTime": {
     "end_time": "2021-10-03T17:58:38.893590Z",
     "start_time": "2021-10-03T17:58:38.636279Z"
    }
   },
   "outputs": [
    {
     "data": {
      "text/plain": [
       "price                             391160\n",
       "minimum_nights                    391160\n",
       "number_of_reviews                 391160\n",
       "calculated_host_listings_count    391160\n",
       "availability_365                  391160\n",
       "dtype: int64"
      ]
     },
     "execution_count": 10,
     "metadata": {},
     "output_type": "execute_result"
    },
    {
     "data": {
      "text/plain": [
       "1955800"
      ]
     },
     "execution_count": 10,
     "metadata": {},
     "output_type": "execute_result"
    },
    {
     "data": {
      "text/plain": [
       "2924145"
      ]
     },
     "execution_count": 10,
     "metadata": {},
     "output_type": "execute_result"
    },
    {
     "data": {
      "text/plain": [
       "neighbourhood_group    3187096\n",
       "neighbourhood          3368611\n",
       "room_type              3448822\n",
       "dtype: int64"
      ]
     },
     "execution_count": 10,
     "metadata": {},
     "output_type": "execute_result"
    },
    {
     "data": {
      "text/plain": [
       "10004529"
      ]
     },
     "execution_count": 10,
     "metadata": {},
     "output_type": "execute_result"
    },
    {
     "data": {
      "text/plain": [
       "24592000"
      ]
     },
     "execution_count": 10,
     "metadata": {},
     "output_type": "execute_result"
    }
   ],
   "source": [
    "#değişiklik öncesi memory kullanımı\n",
    "df[coltobechanged].memory_usage(index=False, deep=True)\n",
    "df[coltobechanged].memory_usage(index=False, deep=True).sum()\n",
    "df[datetobe].memory_usage(index=False, deep=True)\n",
    "df[catstobe].memory_usage(index=False, deep=True)\n",
    "df[catstobe].memory_usage(index=False, deep=True).sum()\n",
    "df.memory_usage(index=False, deep=True).sum()"
   ]
  },
  {
   "cell_type": "code",
   "execution_count": 11,
   "metadata": {
    "ExecuteTime": {
     "end_time": "2021-10-03T17:58:40.298167Z",
     "start_time": "2021-10-03T17:58:39.935172Z"
    }
   },
   "outputs": [],
   "source": [
    "df[coltobechanged]=df[coltobechanged].apply(lambda x: x.astype('int16'))\n",
    "# veya df[coltobechanged]=df[coltobechanged].apply(lambda x: pd.to_numeric(x,downcast=\"signed\"))\n",
    "df[datetobe]=pd.to_datetime(df[datetobe])\n",
    "df[catstobe]=df[catstobe].apply(lambda x: x.astype('category'))"
   ]
  },
  {
   "cell_type": "code",
   "execution_count": 12,
   "metadata": {
    "ExecuteTime": {
     "end_time": "2021-10-03T17:58:41.333708Z",
     "start_time": "2021-10-03T17:58:40.984639Z"
    }
   },
   "outputs": [
    {
     "data": {
      "text/plain": [
       "price                             97790\n",
       "minimum_nights                    97790\n",
       "number_of_reviews                 97790\n",
       "calculated_host_listings_count    97790\n",
       "availability_365                  97790\n",
       "dtype: int64"
      ]
     },
     "execution_count": 12,
     "metadata": {},
     "output_type": "execute_result"
    },
    {
     "data": {
      "text/plain": [
       "488950"
      ]
     },
     "execution_count": 12,
     "metadata": {},
     "output_type": "execute_result"
    },
    {
     "data": {
      "text/plain": [
       "391160"
      ]
     },
     "execution_count": 12,
     "metadata": {},
     "output_type": "execute_result"
    },
    {
     "data": {
      "text/plain": [
       "neighbourhood_group     49381\n",
       "neighbourhood          123117\n",
       "room_type               49184\n",
       "dtype: int64"
      ]
     },
     "execution_count": 12,
     "metadata": {},
     "output_type": "execute_result"
    },
    {
     "data": {
      "text/plain": [
       "221682"
      ]
     },
     "execution_count": 12,
     "metadata": {},
     "output_type": "execute_result"
    },
    {
     "data": {
      "text/plain": [
       "10809318"
      ]
     },
     "execution_count": 12,
     "metadata": {},
     "output_type": "execute_result"
    }
   ],
   "source": [
    "#değişiklik sonrası memory kullanımı\n",
    "df[coltobechanged].memory_usage(index=False, deep=True)\n",
    "df[coltobechanged].memory_usage(index=False, deep=True).sum()\n",
    "df[datetobe].memory_usage(index=False, deep=True)\n",
    "df[catstobe].memory_usage(index=False, deep=True)\n",
    "df[catstobe].memory_usage(index=False, deep=True).sum()\n",
    "df.memory_usage(index=False, deep=True).sum()"
   ]
  },
  {
   "cell_type": "markdown",
   "metadata": {},
   "source": [
    "### Mükerrerlik kontrolü"
   ]
  },
  {
   "cell_type": "markdown",
   "metadata": {},
   "source": [
    "Satırlar için"
   ]
  },
  {
   "cell_type": "code",
   "execution_count": 13,
   "metadata": {
    "ExecuteTime": {
     "end_time": "2021-10-03T17:58:42.424792Z",
     "start_time": "2021-10-03T17:58:42.025857Z"
    }
   },
   "outputs": [
    {
     "data": {
      "text/plain": [
       "0"
      ]
     },
     "execution_count": 13,
     "metadata": {},
     "output_type": "execute_result"
    }
   ],
   "source": [
    "# önce birbrinin aynı olan bir satır var mı diye kontrol edelim\n",
    "len(df)-len(df.duplicated(keep=False))"
   ]
  },
  {
   "cell_type": "code",
   "execution_count": 14,
   "metadata": {
    "ExecuteTime": {
     "end_time": "2021-10-03T17:58:42.749931Z",
     "start_time": "2021-10-03T17:58:42.429778Z"
    }
   },
   "outputs": [
    {
     "data": {
      "text/plain": [
       "0"
      ]
     },
     "execution_count": 14,
     "metadata": {},
     "output_type": "execute_result"
    }
   ],
   "source": [
    "# Sonra sadece id'si aynı olan var mı diye kontrol edelim(bazı durumlarda bu kabul edilebilir)\n",
    "len(df[df[\"id\"].duplicated(keep=False)])"
   ]
  },
  {
   "cell_type": "code",
   "execution_count": 15,
   "metadata": {
    "ExecuteTime": {
     "end_time": "2021-10-03T17:58:43.057384Z",
     "start_time": "2021-10-03T17:58:42.754965Z"
    }
   },
   "outputs": [],
   "source": [
    "# duplikeleri silme: Bizde olmadığı için bu satırı çalıştırmaya gerek yok\n",
    "# df.drop_duplicates(inplace=True)"
   ]
  },
  {
   "cell_type": "markdown",
   "metadata": {},
   "source": [
    "Kolonlar için"
   ]
  },
  {
   "cell_type": "code",
   "execution_count": 16,
   "metadata": {
    "ExecuteTime": {
     "end_time": "2021-10-03T17:58:44.186403Z",
     "start_time": "2021-10-03T17:58:44.048734Z"
    }
   },
   "outputs": [
    {
     "data": {
      "text/plain": [
       "True"
      ]
     },
     "execution_count": 16,
     "metadata": {},
     "output_type": "execute_result"
    }
   ],
   "source": [
    "#isimler aynıysa bunları yakalayalım, False dönerse mükerrer var demek\n",
    "len(set(df.columns))==len(df.columns)"
   ]
  },
  {
   "cell_type": "code",
   "execution_count": 17,
   "metadata": {
    "ExecuteTime": {
     "end_time": "2021-10-03T17:58:44.619227Z",
     "start_time": "2021-10-03T17:58:44.481590Z"
    }
   },
   "outputs": [],
   "source": [
    "#df.columns.value_counts()"
   ]
  },
  {
   "cell_type": "code",
   "execution_count": 18,
   "metadata": {
    "ExecuteTime": {
     "end_time": "2021-10-03T17:58:45.084021Z",
     "start_time": "2021-10-03T17:58:44.931390Z"
    }
   },
   "outputs": [],
   "source": [
    "#isimler farklı içerik aynı mı kontrolü.\n",
    "for col1 in df.select_dtypes('O').columns:\n",
    "    for col2 in df.select_dtypes('O').columns:\n",
    "        if col1 != col2:\n",
    "            if np.all(np.where(df[col1] == df[col2], True, False)):\n",
    "                print(f\"{col1} ve {col2} kolonları aynıdır\")"
   ]
  },
  {
   "cell_type": "code",
   "execution_count": 19,
   "metadata": {
    "ExecuteTime": {
     "end_time": "2021-10-03T17:58:45.550740Z",
     "start_time": "2021-10-03T17:58:45.364234Z"
    }
   },
   "outputs": [],
   "source": [
    "#veya yukarıdakini mlextension içinde daha farklı(combinations kullanarak) ele alan bi fonksiyon yazabiliriz\n",
    "ml.areContentsOfFeaturesSame(df,df.select_dtypes('O').columns)"
   ]
  },
  {
   "cell_type": "markdown",
   "metadata": {},
   "source": [
    "### Uniqe değer incelemesi"
   ]
  },
  {
   "cell_type": "code",
   "execution_count": 20,
   "metadata": {
    "ExecuteTime": {
     "end_time": "2021-10-03T17:58:46.604921Z",
     "start_time": "2021-10-03T17:58:46.209973Z"
    }
   },
   "outputs": [
    {
     "data": {
      "text/plain": [
       "['neighbourhood_group', 'room_type']"
      ]
     },
     "execution_count": 20,
     "metadata": {},
     "output_type": "execute_result"
    }
   ],
   "source": [
    "ml.getColumnsInLowCardinality(df)"
   ]
  },
  {
   "cell_type": "code",
   "execution_count": 21,
   "metadata": {
    "ExecuteTime": {
     "end_time": "2021-10-03T17:58:47.594292Z",
     "start_time": "2021-10-03T17:58:47.242229Z"
    }
   },
   "outputs": [
    {
     "name": "stdout",
     "output_type": "stream",
     "text": [
      "Unique items in column neighbourhood_group\n",
      "['Brooklyn', 'Manhattan', 'Queens', 'Staten Island', 'Bronx']\n",
      "Categories (5, object): ['Brooklyn', 'Manhattan', 'Queens', 'Staten Island', 'Bronx']\n",
      "\n",
      "Unique items in column room_type\n",
      "['Private room', 'Entire home/apt', 'Shared room']\n",
      "Categories (3, object): ['Private room', 'Entire home/apt', 'Shared room']\n",
      "\n",
      "You may want to convert the numerics with low cardinality to categorical\n"
     ]
    }
   ],
   "source": [
    "ml.printUniques(df)"
   ]
  },
  {
   "cell_type": "code",
   "execution_count": 22,
   "metadata": {
    "ExecuteTime": {
     "end_time": "2021-10-03T17:58:48.954651Z",
     "start_time": "2021-10-03T17:58:48.324337Z"
    }
   },
   "outputs": [
    {
     "data": {
      "text/plain": [
       "<AxesSubplot:title={'center':'Semte göre dağılım'}>"
      ]
     },
     "execution_count": 22,
     "metadata": {},
     "output_type": "execute_result"
    },
    {
     "data": {
      "image/png": "[encoded data removed]",
      "text/plain": [
       "<Figure size 432x288 with 1 Axes>"
      ]
     },
     "metadata": {
      "needs_background": "light"
     },
     "output_type": "display_data"
    }
   ],
   "source": [
    "df['neighbourhood_group'].value_counts().plot.bar(title=\"Semte göre dağılım\")"
   ]
  },
  {
   "cell_type": "code",
   "execution_count": 23,
   "metadata": {
    "ExecuteTime": {
     "end_time": "2021-10-03T17:58:49.482241Z",
     "start_time": "2021-10-03T17:58:49.298731Z"
    }
   },
   "outputs": [
    {
     "name": "stdout",
     "output_type": "stream",
     "text": [
      "Unique items in column neighbourhood_group\n",
      "Manhattan        21661\n",
      "Brooklyn         20104\n",
      "Queens            5666\n",
      "Bronx             1091\n",
      "Staten Island      373\n",
      "Name: neighbourhood_group, dtype: int64\n",
      "\n",
      "Unique items in column room_type\n",
      "Entire home/apt    25409\n",
      "Private room       22326\n",
      "Shared room         1160\n",
      "Name: room_type, dtype: int64\n",
      "\n"
     ]
    }
   ],
   "source": [
    "ml.printValueCount(df)"
   ]
  },
  {
   "cell_type": "code",
   "execution_count": 24,
   "metadata": {
    "ExecuteTime": {
     "end_time": "2021-10-03T17:58:49.960963Z",
     "start_time": "2021-10-03T17:58:49.797416Z"
    }
   },
   "outputs": [
    {
     "name": "stdout",
     "output_type": "stream",
     "text": [
      "plot manually due to <=2 target feature\n"
     ]
    }
   ],
   "source": [
    "ml.multicountplot(df)"
   ]
  },
  {
   "cell_type": "markdown",
   "metadata": {},
   "source": [
    "#### Binning(Baremleme)"
   ]
  },
  {
   "cell_type": "code",
   "execution_count": 25,
   "metadata": {
    "ExecuteTime": {
     "end_time": "2021-10-03T17:58:50.656104Z",
     "start_time": "2021-10-03T17:58:50.272130Z"
    }
   },
   "outputs": [
    {
     "data": {
      "image/png": "[encoded data removed]",
      "text/plain": [
       "<Figure size 432x288 with 1 Axes>"
      ]
     },
     "metadata": {
      "needs_background": "light"
     },
     "output_type": "display_data"
    }
   ],
   "source": [
    "df.price.hist(bins=100);"
   ]
  },
  {
   "cell_type": "code",
   "execution_count": 26,
   "metadata": {
    "ExecuteTime": {
     "end_time": "2021-10-03T17:58:51.658430Z",
     "start_time": "2021-10-03T17:58:50.964280Z"
    }
   },
   "outputs": [
    {
     "data": {
      "image/png": "[encoded data removed]",
      "text/plain": [
       "<Figure size 432x288 with 1 Axes>"
      ]
     },
     "metadata": {
      "needs_background": "light"
     },
     "output_type": "display_data"
    }
   ],
   "source": [
    "ml.topNValExcluded(df.price,100).hist(bins=100);"
   ]
  },
  {
   "cell_type": "code",
   "execution_count": 27,
   "metadata": {
    "ExecuteTime": {
     "end_time": "2021-10-03T17:58:51.987546Z",
     "start_time": "2021-10-03T17:58:51.663413Z"
    }
   },
   "outputs": [
    {
     "data": {
      "text/plain": [
       "Çok ucuz      48809\n",
       "Ucuz             54\n",
       "Orta             16\n",
       "Pahalı            9\n",
       "Çok pahalı        7\n",
       "Name: FiyatBarem, dtype: int64"
      ]
     },
     "execution_count": 27,
     "metadata": {},
     "output_type": "execute_result"
    }
   ],
   "source": [
    "df[\"FiyatBarem\"]=pd.cut(df[\"price\"], 5,labels=[\"Çok ucuz\", \"Ucuz\", \"Orta\",\"Pahalı\",\"Çok pahalı\"])\n",
    "df[\"FiyatBarem\"].value_counts()"
   ]
  },
  {
   "cell_type": "markdown",
   "metadata": {},
   "source": [
    "### Null/missing value handling"
   ]
  },
  {
   "cell_type": "code",
   "execution_count": 28,
   "metadata": {
    "ExecuteTime": {
     "end_time": "2021-10-03T17:58:53.587274Z",
     "start_time": "2021-10-03T17:58:53.297051Z"
    }
   },
   "outputs": [
    {
     "data": {
      "text/plain": [
       "True"
      ]
     },
     "execution_count": 28,
     "metadata": {},
     "output_type": "execute_result"
    }
   ],
   "source": [
    "#hiç null değer içeren kolon var mı\n",
    "df.isnull().values.any()"
   ]
  },
  {
   "cell_type": "code",
   "execution_count": 29,
   "metadata": {
    "ExecuteTime": {
     "end_time": "2021-10-03T17:58:53.926365Z",
     "start_time": "2021-10-03T17:58:53.592260Z"
    }
   },
   "outputs": [
    {
     "data": {
      "text/plain": [
       "4"
      ]
     },
     "execution_count": 29,
     "metadata": {},
     "output_type": "execute_result"
    }
   ],
   "source": [
    "#kaç kolonda null var\n",
    "df.isnull().any().sum()"
   ]
  },
  {
   "cell_type": "code",
   "execution_count": 30,
   "metadata": {
    "ExecuteTime": {
     "end_time": "2021-10-03T17:58:55.037395Z",
     "start_time": "2021-10-03T17:58:54.886797Z"
    }
   },
   "outputs": [
    {
     "data": {
      "text/plain": [
       "name                    16\n",
       "host_name               21\n",
       "last_review          10052\n",
       "reviews_per_month    10052\n",
       "dtype: int64"
      ]
     },
     "execution_count": 30,
     "metadata": {},
     "output_type": "execute_result"
    }
   ],
   "source": [
    "#hangisinde ne kadar\n",
    "s=df.isnull().sum()\n",
    "s[s.values>0]"
   ]
  },
  {
   "cell_type": "code",
   "execution_count": 31,
   "metadata": {
    "ExecuteTime": {
     "end_time": "2021-10-03T17:58:55.192978Z",
     "start_time": "2021-10-03T17:58:55.039391Z"
    },
    "scrolled": true
   },
   "outputs": [
    {
     "data": {
      "text/plain": [
       "0"
      ]
     },
     "execution_count": 31,
     "metadata": {},
     "output_type": "execute_result"
    }
   ],
   "source": [
    "#tamamı mükerrer olan var mı\n",
    "df.isnull().all().sum()"
   ]
  },
  {
   "cell_type": "code",
   "execution_count": 32,
   "metadata": {
    "ExecuteTime": {
     "end_time": "2021-10-03T17:58:56.733862Z",
     "start_time": "2021-10-03T17:58:55.945968Z"
    }
   },
   "outputs": [
    {
     "name": "stdout",
     "output_type": "stream",
     "text": [
      "2 null-like values in host_name\n"
     ]
    }
   ],
   "source": [
    "ml.findNullLikeValues(df)\n",
    "#bu iki değerin \"na\" olduğunu gördüm ma bu yanlış alarm, kişilerin adı na :)"
   ]
  },
  {
   "cell_type": "code",
   "execution_count": 33,
   "metadata": {
    "ExecuteTime": {
     "end_time": "2021-10-03T17:58:59.413699Z",
     "start_time": "2021-10-03T17:58:57.344230Z"
    }
   },
   "outputs": [
    {
     "data": {
      "image/png": "[encoded data removed]",
      "text/plain": [
       "<Figure size 432x288 with 1 Axes>"
      ]
     },
     "metadata": {
      "needs_background": "light"
     },
     "output_type": "display_data"
    }
   ],
   "source": [
    "ml.nullPlot(df)"
   ]
  },
  {
   "cell_type": "markdown",
   "metadata": {},
   "source": [
    "#### Missing value handling"
   ]
  },
  {
   "cell_type": "code",
   "execution_count": 34,
   "metadata": {
    "ExecuteTime": {
     "end_time": "2021-10-03T17:58:59.875464Z",
     "start_time": "2021-10-03T17:58:59.738829Z"
    }
   },
   "outputs": [],
   "source": [
    "df2=df.copy()\n",
    "df2.reviews_per_month.fillna(0,inplace=True)"
   ]
  },
  {
   "cell_type": "code",
   "execution_count": 35,
   "metadata": {
    "ExecuteTime": {
     "end_time": "2021-10-03T17:59:01.032370Z",
     "start_time": "2021-10-03T17:59:00.183640Z"
    }
   },
   "outputs": [
    {
     "data": {
      "image/png": "[encoded data removed]",
      "text/plain": [
       "<Figure size 360x360 with 1 Axes>"
      ]
     },
     "metadata": {
      "needs_background": "light"
     },
     "output_type": "display_data"
    }
   ],
   "source": [
    "g=sns.catplot(x=\"room_type\",y=\"reviews_per_month\",data=df,kind=\"bar\")\n",
    "g.set_ylabels(\"Oda tipi bazında fiyatlar\")\n",
    "plt.xticks(rotation= 90)\n",
    "plt.show();"
   ]
  },
  {
   "cell_type": "code",
   "execution_count": 36,
   "metadata": {
    "ExecuteTime": {
     "end_time": "2021-10-03T17:59:01.576923Z",
     "start_time": "2021-10-03T17:59:01.377457Z"
    }
   },
   "outputs": [],
   "source": [
    "df[\"reviews_per_month\"].fillna(df.groupby(\"room_type\")[\"reviews_per_month\"].transform(\"mean\"),inplace=True)"
   ]
  },
  {
   "cell_type": "markdown",
   "metadata": {},
   "source": [
    "## Doğru sorularla detaylara dalma"
   ]
  },
  {
   "cell_type": "markdown",
   "metadata": {},
   "source": [
    "### Univariate Analizler"
   ]
  },
  {
   "cell_type": "markdown",
   "metadata": {},
   "source": [
    "#### Genel sorular"
   ]
  },
  {
   "cell_type": "code",
   "execution_count": 37,
   "metadata": {
    "ExecuteTime": {
     "end_time": "2021-10-03T17:59:02.884430Z",
     "start_time": "2021-10-03T17:59:02.333905Z"
    }
   },
   "outputs": [
    {
     "data": {
      "image/png": "[encoded data removed]",
      "text/plain": [
       "<Figure size 432x288 with 1 Axes>"
      ]
     },
     "metadata": {
      "needs_background": "light"
     },
     "output_type": "display_data"
    }
   ],
   "source": [
    "df['neighbourhood_group'].value_counts().plot.bar(title=\"Semte göre dağılım\");"
   ]
  },
  {
   "cell_type": "code",
   "execution_count": 38,
   "metadata": {
    "ExecuteTime": {
     "end_time": "2021-10-03T17:59:04.179649Z",
     "start_time": "2021-10-03T17:59:03.597209Z"
    }
   },
   "outputs": [
    {
     "data": {
      "image/png": "[encoded data removed]",
      "text/plain": [
       "<Figure size 432x288 with 1 Axes>"
      ]
     },
     "metadata": {
      "needs_background": "light"
     },
     "output_type": "display_data"
    }
   ],
   "source": [
    "#room type için sns ile yapalım\n",
    "y=df[\"room_type\"]\n",
    "ax = sns.countplot(y,label=\"Count\")"
   ]
  },
  {
   "cell_type": "code",
   "execution_count": 39,
   "metadata": {
    "ExecuteTime": {
     "end_time": "2021-10-03T17:59:04.966583Z",
     "start_time": "2021-10-03T17:59:04.183638Z"
    }
   },
   "outputs": [
    {
     "data": {
      "image/png": "[encoded data removed]",
      "text/plain": [
       "<Figure size 1080x360 with 2 Axes>"
      ]
     },
     "metadata": {
      "needs_background": "light"
     },
     "output_type": "display_data"
    }
   ],
   "source": [
    "# İkisini tek seferde görebilrdik.\n",
    "f, axes = plt.subplots(1, 2,figsize=(15,5))\n",
    "sns.countplot(df.neighbourhood_group,ax=axes[0])\n",
    "sns.countplot(df.room_type,ax=axes[1])\n",
    "plt.show();"
   ]
  },
  {
   "cell_type": "code",
   "execution_count": 40,
   "metadata": {
    "ExecuteTime": {
     "end_time": "2021-10-03T17:59:05.136143Z",
     "start_time": "2021-10-03T17:59:04.968579Z"
    }
   },
   "outputs": [
    {
     "data": {
      "text/plain": [
       "12720"
      ]
     },
     "execution_count": 40,
     "metadata": {},
     "output_type": "execute_result"
    }
   ],
   "source": [
    "len(df[df[\"minimum_nights\"]==1])"
   ]
  },
  {
   "cell_type": "code",
   "execution_count": 41,
   "metadata": {
    "ExecuteTime": {
     "end_time": "2021-10-03T17:59:06.813982Z",
     "start_time": "2021-10-03T17:59:06.503849Z"
    },
    "scrolled": true
   },
   "outputs": [
    {
     "name": "stdout",
     "output_type": "stream",
     "text": [
      "Top 5 in price:\n",
      "29238    10000\n",
      "9151     10000\n",
      "17692    10000\n",
      "12342     9999\n",
      "40433     9999\n",
      "Name: price, dtype: int16\n",
      "---------------------------\n",
      "Top 5 in minimum_nights:\n",
      "5767     1250\n",
      "2854     1000\n",
      "38664     999\n",
      "26341     999\n",
      "13404     999\n",
      "Name: minimum_nights, dtype: int16\n",
      "---------------------------\n",
      "Top 5 in number_of_reviews:\n",
      "11759    629\n",
      "2031     607\n",
      "2030     597\n",
      "2015     594\n",
      "13495    576\n",
      "Name: number_of_reviews, dtype: int16\n",
      "---------------------------\n",
      "Top 5 in reviews_per_month:\n",
      "42075    58.50\n",
      "42076    27.95\n",
      "38870    20.94\n",
      "27287    19.75\n",
      "28651    17.82\n",
      "Name: reviews_per_month, dtype: float64\n",
      "---------------------------\n",
      "Top 5 in availability_365:\n",
      "0        365\n",
      "5083     365\n",
      "37060    365\n",
      "37059    365\n",
      "20889    365\n",
      "Name: availability_365, dtype: int16\n",
      "---------------------------\n"
     ]
    }
   ],
   "source": [
    "ml.ShowTopN(df[nums])"
   ]
  },
  {
   "cell_type": "code",
   "execution_count": 42,
   "metadata": {
    "ExecuteTime": {
     "end_time": "2021-10-03T17:59:07.930025Z",
     "start_time": "2021-10-03T17:59:07.577945Z"
    }
   },
   "outputs": [
    {
     "data": {
      "text/plain": [
       "0    219517861\n",
       "dtype: int64"
      ]
     },
     "execution_count": 42,
     "metadata": {},
     "output_type": "execute_result"
    }
   ],
   "source": [
    "#en popüler host\n",
    "df[\"host_id\"].mode()"
   ]
  },
  {
   "cell_type": "code",
   "execution_count": 43,
   "metadata": {
    "ExecuteTime": {
     "end_time": "2021-10-03T17:59:09.103934Z",
     "start_time": "2021-10-03T17:59:08.784790Z"
    }
   },
   "outputs": [
    {
     "data": {
      "text/html": [
       "<div>\n",
       "<style scoped>\n",
       "    .dataframe tbody tr th:only-of-type {\n",
       "        vertical-align: middle;\n",
       "    }\n",
       "\n",
       "    .dataframe tbody tr th {\n",
       "        vertical-align: top;\n",
       "    }\n",
       "\n",
       "    .dataframe thead th {\n",
       "        text-align: right;\n",
       "    }\n",
       "</style>\n",
       "<table border=\"1\" class=\"dataframe\">\n",
       "  <thead>\n",
       "    <tr style=\"text-align: right;\">\n",
       "      <th>host_id</th>\n",
       "      <th>219517861</th>\n",
       "    </tr>\n",
       "  </thead>\n",
       "  <tbody>\n",
       "    <tr>\n",
       "      <th>price</th>\n",
       "      <td>253.195719</td>\n",
       "    </tr>\n",
       "    <tr>\n",
       "      <th>minimum_nights</th>\n",
       "      <td>13.311927</td>\n",
       "    </tr>\n",
       "    <tr>\n",
       "      <th>number_of_reviews</th>\n",
       "      <td>3.917431</td>\n",
       "    </tr>\n",
       "    <tr>\n",
       "      <th>reviews_per_month</th>\n",
       "      <td>1.695258</td>\n",
       "    </tr>\n",
       "    <tr>\n",
       "      <th>availability_365</th>\n",
       "      <td>301.492355</td>\n",
       "    </tr>\n",
       "  </tbody>\n",
       "</table>\n",
       "</div>"
      ],
      "text/plain": [
       "host_id             219517861\n",
       "price              253.195719\n",
       "minimum_nights      13.311927\n",
       "number_of_reviews    3.917431\n",
       "reviews_per_month    1.695258\n",
       "availability_365   301.492355"
      ]
     },
     "execution_count": 43,
     "metadata": {},
     "output_type": "execute_result"
    }
   ],
   "source": [
    "df[df[\"host_id\"]==219517861].groupby(\"host_id\")[nums].mean().T"
   ]
  },
  {
   "cell_type": "code",
   "execution_count": 44,
   "metadata": {
    "ExecuteTime": {
     "end_time": "2021-10-03T17:59:09.894830Z",
     "start_time": "2021-10-03T17:59:09.694368Z"
    }
   },
   "outputs": [
    {
     "data": {
      "text/html": [
       "<div>\n",
       "<style scoped>\n",
       "    .dataframe tbody tr th:only-of-type {\n",
       "        vertical-align: middle;\n",
       "    }\n",
       "\n",
       "    .dataframe tbody tr th {\n",
       "        vertical-align: top;\n",
       "    }\n",
       "\n",
       "    .dataframe thead th {\n",
       "        text-align: right;\n",
       "    }\n",
       "</style>\n",
       "<table border=\"1\" class=\"dataframe\">\n",
       "  <thead>\n",
       "    <tr style=\"text-align: right;\">\n",
       "      <th></th>\n",
       "      <th>0</th>\n",
       "    </tr>\n",
       "  </thead>\n",
       "  <tbody>\n",
       "    <tr>\n",
       "      <th>price</th>\n",
       "      <td>154.422268</td>\n",
       "    </tr>\n",
       "    <tr>\n",
       "      <th>minimum_nights</th>\n",
       "      <td>5.931957</td>\n",
       "    </tr>\n",
       "    <tr>\n",
       "      <th>number_of_reviews</th>\n",
       "      <td>22.305842</td>\n",
       "    </tr>\n",
       "    <tr>\n",
       "      <th>reviews_per_month</th>\n",
       "      <td>1.311077</td>\n",
       "    </tr>\n",
       "    <tr>\n",
       "      <th>availability_365</th>\n",
       "      <td>88.287627</td>\n",
       "    </tr>\n",
       "  </tbody>\n",
       "</table>\n",
       "</div>"
      ],
      "text/plain": [
       "                            0\n",
       "price              154.422268\n",
       "minimum_nights       5.931957\n",
       "number_of_reviews   22.305842\n",
       "reviews_per_month    1.311077\n",
       "availability_365    88.287627"
      ]
     },
     "execution_count": 44,
     "metadata": {},
     "output_type": "execute_result"
    }
   ],
   "source": [
    "df[df[\"host_id\"]!=219517861].groupby(\"host_id\")[nums].mean().mean().to_frame()"
   ]
  },
  {
   "cell_type": "code",
   "execution_count": 45,
   "metadata": {
    "ExecuteTime": {
     "end_time": "2021-10-03T17:59:10.474303Z",
     "start_time": "2021-10-03T17:59:10.287800Z"
    }
   },
   "outputs": [
    {
     "data": {
      "text/plain": [
       "219517861    327\n",
       "107434423    232\n",
       "30283594     121\n",
       "137358866    103\n",
       "12243051      96\n",
       "Name: host_id, dtype: int64"
      ]
     },
     "execution_count": 45,
     "metadata": {},
     "output_type": "execute_result"
    }
   ],
   "source": [
    "#en popüler 5 hostu adediyle birlikte\n",
    "top5=df[\"host_id\"].value_counts().head()\n",
    "top5"
   ]
  },
  {
   "cell_type": "code",
   "execution_count": 46,
   "metadata": {
    "ExecuteTime": {
     "end_time": "2021-10-03T17:59:11.812723Z",
     "start_time": "2021-10-03T17:59:11.170442Z"
    }
   },
   "outputs": [
    {
     "data": {
      "image/png": "[encoded data removed]",
      "text/plain": [
       "<Figure size 432x288 with 1 Axes>"
      ]
     },
     "metadata": {
      "needs_background": "light"
     },
     "output_type": "display_data"
    }
   ],
   "source": [
    "chrt=top5.plot(kind='bar')\n",
    "chrt.set_title(\"Ev sahibi popülerlik listesi\")\n",
    "chrt.set_ylabel('Ev sahibi listing adedi')\n",
    "chrt.set_xlabel('Host ID')\n",
    "chrt.set_xticklabels(chrt.get_xticklabels(), rotation=45);"
   ]
  },
  {
   "cell_type": "code",
   "execution_count": 47,
   "metadata": {
    "ExecuteTime": {
     "end_time": "2021-10-03T17:59:12.959086Z",
     "start_time": "2021-10-03T17:59:12.602041Z"
    }
   },
   "outputs": [
    {
     "data": {
      "text/html": [
       "<div>\n",
       "<style scoped>\n",
       "    .dataframe tbody tr th:only-of-type {\n",
       "        vertical-align: middle;\n",
       "    }\n",
       "\n",
       "    .dataframe tbody tr th {\n",
       "        vertical-align: top;\n",
       "    }\n",
       "\n",
       "    .dataframe thead th {\n",
       "        text-align: right;\n",
       "    }\n",
       "</style>\n",
       "<table border=\"1\" class=\"dataframe\">\n",
       "  <thead>\n",
       "    <tr style=\"text-align: right;\">\n",
       "      <th></th>\n",
       "      <th>count</th>\n",
       "      <th>mean</th>\n",
       "      <th>std</th>\n",
       "      <th>min</th>\n",
       "      <th>25%</th>\n",
       "      <th>50%</th>\n",
       "      <th>75%</th>\n",
       "      <th>max</th>\n",
       "    </tr>\n",
       "    <tr>\n",
       "      <th>neighbourhood_group</th>\n",
       "      <th></th>\n",
       "      <th></th>\n",
       "      <th></th>\n",
       "      <th></th>\n",
       "      <th></th>\n",
       "      <th></th>\n",
       "      <th></th>\n",
       "      <th></th>\n",
       "    </tr>\n",
       "  </thead>\n",
       "  <tbody>\n",
       "    <tr>\n",
       "      <th>Bronx</th>\n",
       "      <td>1091</td>\n",
       "      <td>87</td>\n",
       "      <td>106</td>\n",
       "      <td>0</td>\n",
       "      <td>45</td>\n",
       "      <td>65</td>\n",
       "      <td>99</td>\n",
       "      <td>2500</td>\n",
       "    </tr>\n",
       "    <tr>\n",
       "      <th>Brooklyn</th>\n",
       "      <td>20104</td>\n",
       "      <td>124</td>\n",
       "      <td>186</td>\n",
       "      <td>0</td>\n",
       "      <td>60</td>\n",
       "      <td>90</td>\n",
       "      <td>150</td>\n",
       "      <td>10000</td>\n",
       "    </tr>\n",
       "    <tr>\n",
       "      <th>Manhattan</th>\n",
       "      <td>21661</td>\n",
       "      <td>196</td>\n",
       "      <td>291</td>\n",
       "      <td>0</td>\n",
       "      <td>95</td>\n",
       "      <td>150</td>\n",
       "      <td>220</td>\n",
       "      <td>10000</td>\n",
       "    </tr>\n",
       "    <tr>\n",
       "      <th>Queens</th>\n",
       "      <td>5666</td>\n",
       "      <td>99</td>\n",
       "      <td>167</td>\n",
       "      <td>10</td>\n",
       "      <td>50</td>\n",
       "      <td>75</td>\n",
       "      <td>110</td>\n",
       "      <td>10000</td>\n",
       "    </tr>\n",
       "    <tr>\n",
       "      <th>Staten Island</th>\n",
       "      <td>373</td>\n",
       "      <td>114</td>\n",
       "      <td>277</td>\n",
       "      <td>13</td>\n",
       "      <td>50</td>\n",
       "      <td>75</td>\n",
       "      <td>110</td>\n",
       "      <td>5000</td>\n",
       "    </tr>\n",
       "  </tbody>\n",
       "</table>\n",
       "</div>"
      ],
      "text/plain": [
       "                     count  mean  std  min  25%  50%  75%    max\n",
       "neighbourhood_group                                             \n",
       "Bronx                 1091    87  106    0   45   65   99   2500\n",
       "Brooklyn             20104   124  186    0   60   90  150  10000\n",
       "Manhattan            21661   196  291    0   95  150  220  10000\n",
       "Queens                5666    99  167   10   50   75  110  10000\n",
       "Staten Island          373   114  277   13   50   75  110   5000"
      ]
     },
     "execution_count": 47,
     "metadata": {},
     "output_type": "execute_result"
    }
   ],
   "source": [
    "d=df.groupby(\"neighbourhood_group\")[\"price\"].describe()\n",
    "d.applymap(int)"
   ]
  },
  {
   "cell_type": "code",
   "execution_count": 48,
   "metadata": {
    "ExecuteTime": {
     "end_time": "2021-10-03T17:59:14.084081Z",
     "start_time": "2021-10-03T17:59:13.840731Z"
    },
    "scrolled": true
   },
   "outputs": [
    {
     "data": {
      "text/html": [
       "<div>\n",
       "<style scoped>\n",
       "    .dataframe tbody tr th:only-of-type {\n",
       "        vertical-align: middle;\n",
       "    }\n",
       "\n",
       "    .dataframe tbody tr th {\n",
       "        vertical-align: top;\n",
       "    }\n",
       "\n",
       "    .dataframe thead th {\n",
       "        text-align: right;\n",
       "    }\n",
       "</style>\n",
       "<table border=\"1\" class=\"dataframe\">\n",
       "  <thead>\n",
       "    <tr style=\"text-align: right;\">\n",
       "      <th></th>\n",
       "      <th>count</th>\n",
       "      <th>mean</th>\n",
       "      <th>std</th>\n",
       "      <th>min</th>\n",
       "      <th>25%</th>\n",
       "      <th>50%</th>\n",
       "      <th>75%</th>\n",
       "      <th>max</th>\n",
       "      <th>mean/median</th>\n",
       "      <th>std/mean</th>\n",
       "    </tr>\n",
       "    <tr>\n",
       "      <th>neighbourhood_group</th>\n",
       "      <th></th>\n",
       "      <th></th>\n",
       "      <th></th>\n",
       "      <th></th>\n",
       "      <th></th>\n",
       "      <th></th>\n",
       "      <th></th>\n",
       "      <th></th>\n",
       "      <th></th>\n",
       "      <th></th>\n",
       "    </tr>\n",
       "  </thead>\n",
       "  <tbody>\n",
       "    <tr>\n",
       "      <th>Bronx</th>\n",
       "      <td>1091.0</td>\n",
       "      <td>87.496792</td>\n",
       "      <td>106.709349</td>\n",
       "      <td>0.0</td>\n",
       "      <td>45.0</td>\n",
       "      <td>65.0</td>\n",
       "      <td>99.0</td>\n",
       "      <td>2500.0</td>\n",
       "      <td>1.346104</td>\n",
       "      <td>1.219580</td>\n",
       "    </tr>\n",
       "    <tr>\n",
       "      <th>Brooklyn</th>\n",
       "      <td>20104.0</td>\n",
       "      <td>124.383207</td>\n",
       "      <td>186.873538</td>\n",
       "      <td>0.0</td>\n",
       "      <td>60.0</td>\n",
       "      <td>90.0</td>\n",
       "      <td>150.0</td>\n",
       "      <td>10000.0</td>\n",
       "      <td>1.382036</td>\n",
       "      <td>1.502402</td>\n",
       "    </tr>\n",
       "    <tr>\n",
       "      <th>Manhattan</th>\n",
       "      <td>21661.0</td>\n",
       "      <td>196.875814</td>\n",
       "      <td>291.383183</td>\n",
       "      <td>0.0</td>\n",
       "      <td>95.0</td>\n",
       "      <td>150.0</td>\n",
       "      <td>220.0</td>\n",
       "      <td>10000.0</td>\n",
       "      <td>1.312505</td>\n",
       "      <td>1.480035</td>\n",
       "    </tr>\n",
       "    <tr>\n",
       "      <th>Queens</th>\n",
       "      <td>5666.0</td>\n",
       "      <td>99.517649</td>\n",
       "      <td>167.102155</td>\n",
       "      <td>10.0</td>\n",
       "      <td>50.0</td>\n",
       "      <td>75.0</td>\n",
       "      <td>110.0</td>\n",
       "      <td>10000.0</td>\n",
       "      <td>1.326902</td>\n",
       "      <td>1.679121</td>\n",
       "    </tr>\n",
       "    <tr>\n",
       "      <th>Staten Island</th>\n",
       "      <td>373.0</td>\n",
       "      <td>114.812332</td>\n",
       "      <td>277.620403</td>\n",
       "      <td>13.0</td>\n",
       "      <td>50.0</td>\n",
       "      <td>75.0</td>\n",
       "      <td>110.0</td>\n",
       "      <td>5000.0</td>\n",
       "      <td>1.530831</td>\n",
       "      <td>2.418036</td>\n",
       "    </tr>\n",
       "  </tbody>\n",
       "</table>\n",
       "</div>"
      ],
      "text/plain": [
       "                       count        mean         std   min   25%    50%  \\\n",
       "neighbourhood_group                                                       \n",
       "Bronx                 1091.0   87.496792  106.709349   0.0  45.0   65.0   \n",
       "Brooklyn             20104.0  124.383207  186.873538   0.0  60.0   90.0   \n",
       "Manhattan            21661.0  196.875814  291.383183   0.0  95.0  150.0   \n",
       "Queens                5666.0   99.517649  167.102155  10.0  50.0   75.0   \n",
       "Staten Island          373.0  114.812332  277.620403  13.0  50.0   75.0   \n",
       "\n",
       "                       75%      max  mean/median  std/mean  \n",
       "neighbourhood_group                                         \n",
       "Bronx                 99.0   2500.0     1.346104  1.219580  \n",
       "Brooklyn             150.0  10000.0     1.382036  1.502402  \n",
       "Manhattan            220.0  10000.0     1.312505  1.480035  \n",
       "Queens               110.0  10000.0     1.326902  1.679121  \n",
       "Staten Island        110.0   5000.0     1.530831  2.418036  "
      ]
     },
     "execution_count": 48,
     "metadata": {},
     "output_type": "execute_result"
    }
   ],
   "source": [
    "d[\"mean/median\"]=d[\"mean\"]/d[\"50%\"]\n",
    "d[\"std/mean\"]=d[\"std\"]/d[\"mean\"]\n",
    "d"
   ]
  },
  {
   "cell_type": "code",
   "execution_count": 49,
   "metadata": {
    "ExecuteTime": {
     "end_time": "2021-10-03T17:59:20.303541Z",
     "start_time": "2021-10-03T17:59:20.160924Z"
    }
   },
   "outputs": [],
   "source": [
    "# df.groupby(\"neighbourhood_group\")[\"price\"].describe().transpose().applymap(int)"
   ]
  },
  {
   "cell_type": "code",
   "execution_count": 50,
   "metadata": {
    "ExecuteTime": {
     "end_time": "2021-10-03T17:59:21.975085Z",
     "start_time": "2021-10-03T17:59:20.896967Z"
    }
   },
   "outputs": [
    {
     "data": {
      "image/png": "[encoded data removed]",
      "text/plain": [
       "<Figure size 360x432 with 2 Axes>"
      ]
     },
     "metadata": {
      "needs_background": "light"
     },
     "output_type": "display_data"
    }
   ],
   "source": [
    "d.iloc[:,-2:].plot.bar(subplots=True,figsize=(5,6))\n",
    "plt.tight_layout()\n",
    "plt.show();"
   ]
  },
  {
   "cell_type": "markdown",
   "metadata": {},
   "source": [
    "#### Dağılım analizleri"
   ]
  },
  {
   "cell_type": "code",
   "execution_count": 51,
   "metadata": {
    "ExecuteTime": {
     "end_time": "2021-10-03T17:59:26.633657Z",
     "start_time": "2021-10-03T17:59:26.256665Z"
    }
   },
   "outputs": [
    {
     "data": {
      "image/png": "[encoded data removed]",
      "text/plain": [
       "<Figure size 432x288 with 1 Axes>"
      ]
     },
     "metadata": {
      "needs_background": "light"
     },
     "output_type": "display_data"
    }
   ],
   "source": [
    "df[nums].boxplot();"
   ]
  },
  {
   "cell_type": "code",
   "execution_count": 52,
   "metadata": {
    "ExecuteTime": {
     "end_time": "2021-10-03T17:59:29.924858Z",
     "start_time": "2021-10-03T17:59:28.430857Z"
    }
   },
   "outputs": [
    {
     "data": {
      "text/plain": [
       "<Figure size 432x288 with 0 Axes>"
      ]
     },
     "metadata": {},
     "output_type": "display_data"
    },
    {
     "data": {
      "image/png": "[encoded data removed]",
      "text/plain": [
       "<Figure size 720x432 with 5 Axes>"
      ]
     },
     "metadata": {
      "needs_background": "light"
     },
     "output_type": "display_data"
    }
   ],
   "source": [
    "#ölçekler farklı olduğu için ayrı ayrı chartlarda görelim\n",
    "plt.figure()\n",
    "df[nums].plot(kind=\"box\", subplots = True,figsize=(10,6),rot=45)\n",
    "plt.tight_layout()\n",
    "plt.show();"
   ]
  },
  {
   "cell_type": "code",
   "execution_count": 53,
   "metadata": {
    "ExecuteTime": {
     "end_time": "2021-10-03T17:59:30.639150Z",
     "start_time": "2021-10-03T17:59:30.268141Z"
    }
   },
   "outputs": [
    {
     "data": {
      "image/png": "[encoded data removed]",
      "text/plain": [
       "<Figure size 864x432 with 1 Axes>"
      ]
     },
     "metadata": {
      "needs_background": "light"
     },
     "output_type": "display_data"
    }
   ],
   "source": [
    "#Sadece price için gruplama yaparak bakalım\n",
    "plt.figure(figsize=(12,6))\n",
    "chart=sns.boxplot(x=\"neighbourhood_group\", y=\"price\", data=df)\n",
    "chart.set_xticklabels(chart.get_xticklabels(),rotation=45)\n",
    "plt.show();"
   ]
  },
  {
   "cell_type": "markdown",
   "metadata": {},
   "source": [
    "Buna bir de violinplot ile bakalım"
   ]
  },
  {
   "cell_type": "code",
   "execution_count": 54,
   "metadata": {
    "ExecuteTime": {
     "end_time": "2021-10-03T17:59:33.486799Z",
     "start_time": "2021-10-03T17:59:32.374714Z"
    }
   },
   "outputs": [
    {
     "data": {
      "image/png": "[encoded data removed]",
      "text/plain": [
       "<Figure size 864x432 with 1 Axes>"
      ]
     },
     "metadata": {
      "needs_background": "light"
     },
     "output_type": "display_data"
    }
   ],
   "source": [
    "plt.figure(figsize=(12,6))\n",
    "chart=sns.violinplot(x=\"neighbourhood_group\", y=\"price\", data=df[df[\"price\"]<1000])\n",
    "chart.set_xticklabels(chart.get_xticklabels(),rotation=45)\n",
    "plt.show();"
   ]
  },
  {
   "cell_type": "code",
   "execution_count": 55,
   "metadata": {
    "ExecuteTime": {
     "end_time": "2021-10-03T17:59:34.787323Z",
     "start_time": "2021-10-03T17:59:34.204881Z"
    },
    "scrolled": true
   },
   "outputs": [
    {
     "data": {
      "image/png": "[encoded data removed]",
      "text/plain": [
       "<Figure size 576x360 with 1 Axes>"
      ]
     },
     "metadata": {
      "needs_background": "light"
     },
     "output_type": "display_data"
    }
   ],
   "source": [
    "df[\"price\"].plot(kind=\"hist\",bins=10,figsize=(8,5))\n",
    "plt.show();"
   ]
  },
  {
   "cell_type": "code",
   "execution_count": 56,
   "metadata": {
    "ExecuteTime": {
     "end_time": "2021-10-03T17:59:35.418637Z",
     "start_time": "2021-10-03T17:59:34.790318Z"
    }
   },
   "outputs": [
    {
     "data": {
      "image/png": "[encoded data removed]",
      "text/plain": [
       "<Figure size 576x360 with 1 Axes>"
      ]
     },
     "metadata": {
      "needs_background": "light"
     },
     "output_type": "display_data"
    }
   ],
   "source": [
    "df[df[\"price\"]<1000].price.plot(kind=\"hist\",bins=10,figsize=(8,5))\n",
    "plt.show();"
   ]
  },
  {
   "cell_type": "code",
   "execution_count": 57,
   "metadata": {
    "ExecuteTime": {
     "end_time": "2021-10-03T17:59:36.751074Z",
     "start_time": "2021-10-03T17:59:35.422631Z"
    },
    "scrolled": true
   },
   "outputs": [
    {
     "data": {
      "image/png": "[encoded data removed]",
      "text/plain": [
       "<Figure size 1088x216 with 5 Axes>"
      ]
     },
     "metadata": {
      "needs_background": "light"
     },
     "output_type": "display_data"
    }
   ],
   "source": [
    "g=sns.FacetGrid(df[df.price<250],col=\"neighbourhood_group\")\n",
    "g.map(plt.hist, \"price\",bins=10)\n",
    "g.add_legend()\n",
    "plt.show();"
   ]
  },
  {
   "cell_type": "code",
   "execution_count": 58,
   "metadata": {
    "ExecuteTime": {
     "end_time": "2021-10-03T17:59:40.064265Z",
     "start_time": "2021-10-03T17:59:37.703531Z"
    }
   },
   "outputs": [
    {
     "data": {
      "image/png": "[encoded data removed]",
      "text/plain": [
       "<Figure size 1080x216 with 5 Axes>"
      ]
     },
     "metadata": {
      "needs_background": "light"
     },
     "output_type": "display_data"
    }
   ],
   "source": [
    "g=sns.FacetGrid(df[df.price<250],col=\"neighbourhood_group\")\n",
    "g.map(sns.distplot, \"price\",bins=10)\n",
    "plt.show();"
   ]
  },
  {
   "cell_type": "code",
   "execution_count": 59,
   "metadata": {
    "ExecuteTime": {
     "end_time": "2021-10-03T17:59:42.002526Z",
     "start_time": "2021-10-03T17:59:40.829662Z"
    }
   },
   "outputs": [
    {
     "data": {
      "image/png": "[encoded data removed]",
      "text/plain": [
       "<Figure size 656x216 with 3 Axes>"
      ]
     },
     "metadata": {
      "needs_background": "light"
     },
     "output_type": "display_data"
    }
   ],
   "source": [
    "g=sns.FacetGrid(df[df.price<250],col=\"room_type\")\n",
    "g.map(plt.hist, \"price\",bins=10)\n",
    "g.add_legend()\n",
    "plt.show();"
   ]
  },
  {
   "cell_type": "code",
   "execution_count": 60,
   "metadata": {
    "ExecuteTime": {
     "end_time": "2021-10-03T17:59:43.790464Z",
     "start_time": "2021-10-03T17:59:42.003523Z"
    }
   },
   "outputs": [
    {
     "data": {
      "image/png": "[encoded data removed]",
      "text/plain": [
       "<Figure size 648x216 with 3 Axes>"
      ]
     },
     "metadata": {
      "needs_background": "light"
     },
     "output_type": "display_data"
    }
   ],
   "source": [
    "g=sns.FacetGrid(df[df.price<250],col=\"room_type\")\n",
    "g.map(sns.distplot, \"price\",bins=10)\n",
    "plt.show();"
   ]
  },
  {
   "cell_type": "code",
   "execution_count": 61,
   "metadata": {
    "ExecuteTime": {
     "end_time": "2021-10-03T17:59:46.105468Z",
     "start_time": "2021-10-03T17:59:44.550434Z"
    }
   },
   "outputs": [
    {
     "data": {
      "image/png": "[encoded data removed]",
      "text/plain": [
       "<Figure size 576x360 with 6 Axes>"
      ]
     },
     "metadata": {
      "needs_background": "light"
     },
     "output_type": "display_data"
    }
   ],
   "source": [
    "#toplu histogram\n",
    "df[nums].hist(figsize=(8,5))\n",
    "plt.tight_layout();"
   ]
  },
  {
   "cell_type": "markdown",
   "metadata": {},
   "source": [
    "#### Programatik outlier tespiti"
   ]
  },
  {
   "cell_type": "code",
   "execution_count": 62,
   "metadata": {
    "ExecuteTime": {
     "end_time": "2021-10-03T17:59:46.985427Z",
     "start_time": "2021-10-03T17:59:46.847794Z"
    }
   },
   "outputs": [
    {
     "name": "stdout",
     "output_type": "stream",
     "text": [
      "387 outliers exists in feature 'price'\n"
     ]
    }
   ],
   "source": [
    "ml.outliers_zs(df,[\"price\"])"
   ]
  },
  {
   "cell_type": "code",
   "execution_count": 63,
   "metadata": {
    "ExecuteTime": {
     "end_time": "2021-10-03T17:59:47.971794Z",
     "start_time": "2021-10-03T17:59:47.683602Z"
    }
   },
   "outputs": [
    {
     "name": "stdout",
     "output_type": "stream",
     "text": [
      "854 outliers exists in feature 'reviews_per_month'\n"
     ]
    }
   ],
   "source": [
    "ml.outliers_zs(df,[\"reviews_per_month\"],imputestrategy=\"median\")"
   ]
  },
  {
   "cell_type": "code",
   "execution_count": 64,
   "metadata": {
    "ExecuteTime": {
     "end_time": "2021-10-03T17:59:49.053899Z",
     "start_time": "2021-10-03T17:59:48.749712Z"
    }
   },
   "outputs": [
    {
     "name": "stdout",
     "output_type": "stream",
     "text": [
      "875\n"
     ]
    }
   ],
   "source": [
    "#Peki diyelim ki bi cap(üst limit) uygulayacağpız, bu kaç olmalı. bunu bulalaım. yani outlierların el altındakini\n",
    "from scipy import stats\n",
    "import numpy as np\n",
    "z = np.abs(stats.zscore(df.price))\n",
    "print(df.iloc[np.where(z>3)][\"price\"].min())"
   ]
  },
  {
   "cell_type": "code",
   "execution_count": 65,
   "metadata": {
    "ExecuteTime": {
     "end_time": "2021-10-03T17:59:50.134012Z",
     "start_time": "2021-10-03T17:59:49.828827Z"
    }
   },
   "outputs": [
    {
     "name": "stdout",
     "output_type": "stream",
     "text": [
      "2972 outliers exists in feature 'price'\n"
     ]
    }
   ],
   "source": [
    "ml.outliers_IQR(df,[\"price\"])"
   ]
  },
  {
   "cell_type": "code",
   "execution_count": 66,
   "metadata": {
    "ExecuteTime": {
     "end_time": "2021-10-03T17:59:50.752359Z",
     "start_time": "2021-10-03T17:59:50.630683Z"
    }
   },
   "outputs": [
    {
     "name": "stdout",
     "output_type": "stream",
     "text": [
      "388 outliers exists in feature 'price'\n"
     ]
    }
   ],
   "source": [
    "ml.outliers_std(df,[\"price\"])"
   ]
  },
  {
   "cell_type": "markdown",
   "metadata": {},
   "source": [
    "### bivariate(iki featuerelu) analizler"
   ]
  },
  {
   "cell_type": "markdown",
   "metadata": {},
   "source": [
    "#### Feature Benzerliği"
   ]
  },
  {
   "cell_type": "markdown",
   "metadata": {},
   "source": [
    "##### Manhattan/cityblock"
   ]
  },
  {
   "cell_type": "code",
   "execution_count": 79,
   "metadata": {
    "ExecuteTime": {
     "end_time": "2021-10-03T18:36:40.073944Z",
     "start_time": "2021-10-03T18:36:39.886060Z"
    }
   },
   "outputs": [],
   "source": [
    "ml.calculateManhattanSimilarity(df,nums) #default eşik %1"
   ]
  },
  {
   "cell_type": "markdown",
   "metadata": {},
   "source": [
    "##### cosine"
   ]
  },
  {
   "cell_type": "code",
   "execution_count": 83,
   "metadata": {
    "ExecuteTime": {
     "end_time": "2021-10-03T18:38:09.862233Z",
     "start_time": "2021-10-03T18:38:09.706560Z"
    }
   },
   "outputs": [
    {
     "name": "stdout",
     "output_type": "stream",
     "text": [
      "('reviews_per_month', 'availability_365') [[0.53058407]]\n",
      "('number_of_reviews', 'reviews_per_month') [[0.65903249]]\n"
     ]
    }
   ],
   "source": [
    "ml.calculateCosineSimilarity(df,nums,threshold=0.5)"
   ]
  },
  {
   "cell_type": "markdown",
   "metadata": {},
   "source": [
    "#### Scatter grafikler"
   ]
  },
  {
   "cell_type": "code",
   "execution_count": 70,
   "metadata": {
    "ExecuteTime": {
     "end_time": "2021-09-11T17:35:58.738440Z",
     "start_time": "2021-09-11T17:35:38.443218Z"
    }
   },
   "outputs": [
    {
     "data": {
      "image/png": "[encoded data removed]",
      "text/plain": [
       "<Figure size 720x720 with 25 Axes>"
      ]
     },
     "metadata": {
      "needs_background": "light"
     },
     "output_type": "display_data"
    }
   ],
   "source": [
    "from pandas.plotting import scatter_matrix\n",
    "scatter_matrix(df[nums], alpha=0.2, figsize=(10, 10), diagonal='kde')\n",
    "plt.show();"
   ]
  },
  {
   "cell_type": "markdown",
   "metadata": {},
   "source": [
    "#### Korelasyonlar"
   ]
  },
  {
   "cell_type": "markdown",
   "metadata": {},
   "source": [
    "##### Nümerikler arasında"
   ]
  },
  {
   "cell_type": "code",
   "execution_count": 71,
   "metadata": {
    "ExecuteTime": {
     "end_time": "2021-09-11T17:36:00.458234Z",
     "start_time": "2021-09-11T17:35:58.742350Z"
    }
   },
   "outputs": [
    {
     "data": {
      "image/png": "[encoded data removed]",
      "text/plain": [
       "<Figure size 1152x360 with 4 Axes>"
      ]
     },
     "metadata": {
      "needs_background": "light"
     },
     "output_type": "display_data"
    }
   ],
   "source": [
    "fig,axes = plt.subplots(nrows=1,ncols=2,figsize=(16,5))\n",
    "lw=.5,\n",
    "fmt=\".2f\"\n",
    "sns.heatmap(df[nums].corr(),annot=True,ax=axes[0],linewidths=lw,fmt=fmt)\n",
    "sns.heatmap(df.groupby(\"room_type\")[nums].mean().corr(),annot=True,ax=axes[1],linewidths=lw,fmt=fmt)\n",
    "axes[0].set_title(\"Tüm data korelasyonu\")\n",
    "axes[1].set_title(\"Oda tipi bazında ortalamaların korelasyonu\")\n",
    "plt.subplots_adjust(wspace=0.5)\n",
    "plt.show();"
   ]
  },
  {
   "cell_type": "markdown",
   "metadata": {},
   "source": [
    "##### Kategorikler arasında"
   ]
  },
  {
   "cell_type": "code",
   "execution_count": 72,
   "metadata": {
    "ExecuteTime": {
     "end_time": "2021-09-11T17:36:01.035607Z",
     "start_time": "2021-09-11T17:36:00.459468Z"
    }
   },
   "outputs": [],
   "source": [
    "import phik"
   ]
  },
  {
   "cell_type": "code",
   "execution_count": 73,
   "metadata": {
    "ExecuteTime": {
     "end_time": "2021-09-11T17:36:05.498848Z",
     "start_time": "2021-09-11T17:36:01.043555Z"
    }
   },
   "outputs": [
    {
     "data": {
      "text/html": [
       "<div>\n",
       "<style scoped>\n",
       "    .dataframe tbody tr th:only-of-type {\n",
       "        vertical-align: middle;\n",
       "    }\n",
       "\n",
       "    .dataframe tbody tr th {\n",
       "        vertical-align: top;\n",
       "    }\n",
       "\n",
       "    .dataframe thead th {\n",
       "        text-align: right;\n",
       "    }\n",
       "</style>\n",
       "<table border=\"1\" class=\"dataframe\">\n",
       "  <thead>\n",
       "    <tr style=\"text-align: right;\">\n",
       "      <th></th>\n",
       "      <th>neighbourhood_group</th>\n",
       "      <th>neighbourhood</th>\n",
       "      <th>room_type</th>\n",
       "    </tr>\n",
       "  </thead>\n",
       "  <tbody>\n",
       "    <tr>\n",
       "      <th>neighbourhood_group</th>\n",
       "      <td>1.000000</td>\n",
       "      <td>1.000000</td>\n",
       "      <td>0.166014</td>\n",
       "    </tr>\n",
       "    <tr>\n",
       "      <th>neighbourhood</th>\n",
       "      <td>1.000000</td>\n",
       "      <td>1.000000</td>\n",
       "      <td>0.461288</td>\n",
       "    </tr>\n",
       "    <tr>\n",
       "      <th>room_type</th>\n",
       "      <td>0.166014</td>\n",
       "      <td>0.461288</td>\n",
       "      <td>1.000000</td>\n",
       "    </tr>\n",
       "  </tbody>\n",
       "</table>\n",
       "</div>"
      ],
      "text/plain": [
       "                     neighbourhood_group  neighbourhood  room_type\n",
       "neighbourhood_group             1.000000       1.000000   0.166014\n",
       "neighbourhood                   1.000000       1.000000   0.461288\n",
       "room_type                       0.166014       0.461288   1.000000"
      ]
     },
     "execution_count": 73,
     "metadata": {},
     "output_type": "execute_result"
    }
   ],
   "source": [
    "dfphik=df[catstobe].phik_matrix()\n",
    "dfphik"
   ]
  },
  {
   "cell_type": "markdown",
   "metadata": {},
   "source": [
    "##### Numerik-Kategorikler arasında"
   ]
  },
  {
   "cell_type": "markdown",
   "metadata": {},
   "source": [
    "Aslında burda hem numerikler arası hem categorikler arası hem de bu iki tür arası korelasyonları tek seferde görmüş olacağız"
   ]
  },
  {
   "cell_type": "code",
   "execution_count": 74,
   "metadata": {
    "ExecuteTime": {
     "end_time": "2021-09-11T17:36:07.764734Z",
     "start_time": "2021-09-11T17:36:05.500965Z"
    }
   },
   "outputs": [
    {
     "data": {
      "text/html": [
       "<div>\n",
       "<style scoped>\n",
       "    .dataframe tbody tr th:only-of-type {\n",
       "        vertical-align: middle;\n",
       "    }\n",
       "\n",
       "    .dataframe tbody tr th {\n",
       "        vertical-align: top;\n",
       "    }\n",
       "\n",
       "    .dataframe thead th {\n",
       "        text-align: right;\n",
       "    }\n",
       "</style>\n",
       "<table border=\"1\" class=\"dataframe\">\n",
       "  <thead>\n",
       "    <tr style=\"text-align: right;\">\n",
       "      <th></th>\n",
       "      <th>neighbourhood_group</th>\n",
       "      <th>neighbourhood</th>\n",
       "      <th>room_type</th>\n",
       "      <th>price</th>\n",
       "      <th>minimum_nights</th>\n",
       "      <th>number_of_reviews</th>\n",
       "      <th>reviews_per_month</th>\n",
       "      <th>availability_365</th>\n",
       "    </tr>\n",
       "  </thead>\n",
       "  <tbody>\n",
       "    <tr>\n",
       "      <th>neighbourhood_group</th>\n",
       "      <td>1.000000</td>\n",
       "      <td>1.000000</td>\n",
       "      <td>0.166014</td>\n",
       "      <td>0.044008</td>\n",
       "      <td>0.004405</td>\n",
       "      <td>0.065891</td>\n",
       "      <td>0.063568</td>\n",
       "      <td>0.195865</td>\n",
       "    </tr>\n",
       "    <tr>\n",
       "      <th>neighbourhood</th>\n",
       "      <td>1.000000</td>\n",
       "      <td>1.000000</td>\n",
       "      <td>0.461288</td>\n",
       "      <td>0.048470</td>\n",
       "      <td>0.000000</td>\n",
       "      <td>0.159635</td>\n",
       "      <td>0.291064</td>\n",
       "      <td>0.338809</td>\n",
       "    </tr>\n",
       "    <tr>\n",
       "      <th>room_type</th>\n",
       "      <td>0.166014</td>\n",
       "      <td>0.461288</td>\n",
       "      <td>1.000000</td>\n",
       "      <td>0.041901</td>\n",
       "      <td>0.028539</td>\n",
       "      <td>0.036313</td>\n",
       "      <td>0.060829</td>\n",
       "      <td>0.146327</td>\n",
       "    </tr>\n",
       "    <tr>\n",
       "      <th>price</th>\n",
       "      <td>0.044008</td>\n",
       "      <td>0.048470</td>\n",
       "      <td>0.041901</td>\n",
       "      <td>1.000000</td>\n",
       "      <td>0.043947</td>\n",
       "      <td>0.000000</td>\n",
       "      <td>0.000000</td>\n",
       "      <td>0.057034</td>\n",
       "    </tr>\n",
       "    <tr>\n",
       "      <th>minimum_nights</th>\n",
       "      <td>0.004405</td>\n",
       "      <td>0.000000</td>\n",
       "      <td>0.028539</td>\n",
       "      <td>0.043947</td>\n",
       "      <td>1.000000</td>\n",
       "      <td>0.000000</td>\n",
       "      <td>0.000000</td>\n",
       "      <td>0.049070</td>\n",
       "    </tr>\n",
       "    <tr>\n",
       "      <th>number_of_reviews</th>\n",
       "      <td>0.065891</td>\n",
       "      <td>0.159635</td>\n",
       "      <td>0.036313</td>\n",
       "      <td>0.000000</td>\n",
       "      <td>0.000000</td>\n",
       "      <td>1.000000</td>\n",
       "      <td>0.289935</td>\n",
       "      <td>0.278681</td>\n",
       "    </tr>\n",
       "    <tr>\n",
       "      <th>reviews_per_month</th>\n",
       "      <td>0.063568</td>\n",
       "      <td>0.291064</td>\n",
       "      <td>0.060829</td>\n",
       "      <td>0.000000</td>\n",
       "      <td>0.000000</td>\n",
       "      <td>0.289935</td>\n",
       "      <td>1.000000</td>\n",
       "      <td>0.072354</td>\n",
       "    </tr>\n",
       "    <tr>\n",
       "      <th>availability_365</th>\n",
       "      <td>0.195865</td>\n",
       "      <td>0.338809</td>\n",
       "      <td>0.146327</td>\n",
       "      <td>0.057034</td>\n",
       "      <td>0.049070</td>\n",
       "      <td>0.278681</td>\n",
       "      <td>0.072354</td>\n",
       "      <td>1.000000</td>\n",
       "    </tr>\n",
       "  </tbody>\n",
       "</table>\n",
       "</div>"
      ],
      "text/plain": [
       "                     neighbourhood_group  neighbourhood  room_type     price  \\\n",
       "neighbourhood_group             1.000000       1.000000   0.166014  0.044008   \n",
       "neighbourhood                   1.000000       1.000000   0.461288  0.048470   \n",
       "room_type                       0.166014       0.461288   1.000000  0.041901   \n",
       "price                           0.044008       0.048470   0.041901  1.000000   \n",
       "minimum_nights                  0.004405       0.000000   0.028539  0.043947   \n",
       "number_of_reviews               0.065891       0.159635   0.036313  0.000000   \n",
       "reviews_per_month               0.063568       0.291064   0.060829  0.000000   \n",
       "availability_365                0.195865       0.338809   0.146327  0.057034   \n",
       "\n",
       "                     minimum_nights  number_of_reviews  reviews_per_month  \\\n",
       "neighbourhood_group        0.004405           0.065891           0.063568   \n",
       "neighbourhood              0.000000           0.159635           0.291064   \n",
       "room_type                  0.028539           0.036313           0.060829   \n",
       "price                      0.043947           0.000000           0.000000   \n",
       "minimum_nights             1.000000           0.000000           0.000000   \n",
       "number_of_reviews          0.000000           1.000000           0.289935   \n",
       "reviews_per_month          0.000000           0.289935           1.000000   \n",
       "availability_365           0.049070           0.278681           0.072354   \n",
       "\n",
       "                     availability_365  \n",
       "neighbourhood_group          0.195865  \n",
       "neighbourhood                0.338809  \n",
       "room_type                    0.146327  \n",
       "price                        0.057034  \n",
       "minimum_nights               0.049070  \n",
       "number_of_reviews            0.278681  \n",
       "reviews_per_month            0.072354  \n",
       "availability_365             1.000000  "
      ]
     },
     "execution_count": 74,
     "metadata": {},
     "output_type": "execute_result"
    }
   ],
   "source": [
    "dffullcorr=df[catstobe+nums].phik_matrix(interval_cols=nums)\n",
    "dffullcorr"
   ]
  },
  {
   "cell_type": "code",
   "execution_count": 75,
   "metadata": {
    "ExecuteTime": {
     "end_time": "2021-09-11T17:36:09.902276Z",
     "start_time": "2021-09-11T17:36:07.768025Z"
    }
   },
   "outputs": [
    {
     "data": {
      "image/png": "[encoded data removed]",
      "text/plain": [
       "<Figure size 432x288 with 2 Axes>"
      ]
     },
     "metadata": {
      "needs_background": "light"
     },
     "output_type": "display_data"
    }
   ],
   "source": [
    "sns.heatmap(dffullcorr,annot=True,linewidths=lw,fmt=fmt);"
   ]
  },
  {
   "cell_type": "code",
   "execution_count": 76,
   "metadata": {
    "ExecuteTime": {
     "end_time": "2021-09-11T17:36:10.202105Z",
     "start_time": "2021-09-11T17:36:09.906943Z"
    }
   },
   "outputs": [
    {
     "data": {
      "text/plain": [
       "room_type          neighbourhood        0.461288\n",
       "availability_365   neighbourhood        0.338809\n",
       "reviews_per_month  neighbourhood        0.291064\n",
       "number_of_reviews  reviews_per_month    0.289935\n",
       "availability_365   number_of_reviews    0.278681\n",
       "dtype: float64"
      ]
     },
     "execution_count": 76,
     "metadata": {},
     "output_type": "execute_result"
    }
   ],
   "source": [
    "#programatik olarak en yüksek koreaslyonlu kolonları alalım\n",
    "ml.getHighestPairsOfCorrelation(dffullcorr)"
   ]
  },
  {
   "cell_type": "markdown",
   "metadata": {},
   "source": [
    "### Multivariate(çok featurelu) analizler"
   ]
  },
  {
   "cell_type": "markdown",
   "metadata": {},
   "source": [
    "Fırsat bulursam daha ileride..."
   ]
  },
  {
   "cell_type": "markdown",
   "metadata": {},
   "source": [
    "# Ek bilgiler"
   ]
  },
  {
   "cell_type": "markdown",
   "metadata": {},
   "source": [
    "EDA çalışmalarınızı daha  pratik hale getirecek başka kütüphaneler var. pandarallel, swifter gibi. Özellikle büyük veri setlerinde çalışıyorsanız ve bazı işlemleriniz uzun sürüyorsa bunları incelemek isteyebilirsiniz."
   ]
  }
 ],
 "metadata": {
  "hide_input": false,
  "kernelspec": {
   "display_name": "Python 3",
   "language": "python",
   "name": "python3"
  },
  "language_info": {
   "codemirror_mode": {
    "name": "ipython",
    "version": 3
   },
   "file_extension": ".py",
   "mimetype": "text/x-python",
   "name": "python",
   "nbconvert_exporter": "python",
   "pygments_lexer": "ipython3",
   "version": "3.8.6"
  },
  "toc": {
   "base_numbering": 1,
   "nav_menu": {},
   "number_sections": true,
   "sideBar": true,
   "skip_h1_title": false,
   "title_cell": "Table of Contents",
   "title_sidebar": "Contents",
   "toc_cell": true,
   "toc_position": {
    "height": "calc(100% - 180px)",
    "left": "10px",
    "top": "150px",
    "width": "307.188px"
   },
   "toc_section_display": true,
   "toc_window_display": true
  },
  "varInspector": {
   "cols": {
    "lenName": 16,
    "lenType": 16,
    "lenVar": 40
   },
   "kernels_config": {
    "python": {
     "delete_cmd_postfix": "",
     "delete_cmd_prefix": "del ",
     "library": "var_list.py",
     "varRefreshCmd": "print(var_dic_list())"
    },
    "r": {
     "delete_cmd_postfix": ") ",
     "delete_cmd_prefix": "rm(",
     "library": "var_list.r",
     "varRefreshCmd": "cat(var_dic_list()) "
    }
   },
   "types_to_exclude": [
    "module",
    "function",
    "builtin_function_or_method",
    "instance",
    "_Feature"
   ],
   "window_display": false
  }
 },
 "nbformat": 4,
 "nbformat_minor": 4
}
