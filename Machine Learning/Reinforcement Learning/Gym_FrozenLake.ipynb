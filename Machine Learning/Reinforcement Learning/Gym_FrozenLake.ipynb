{
  "nbformat": 4,
  "nbformat_minor": 0,
  "metadata": {
    "colab": {
      "provenance": [],
      "toc_visible": true,
      "authorship_tag": "ABX9TyO01SJ+C1iJqdabBf3uinnT",
      "include_colab_link": true
    },
    "kernelspec": {
      "name": "python3",
      "display_name": "Python 3"
    },
    "language_info": {
      "name": "python"
    }
  },
  "cells": [
    {
      "cell_type": "markdown",
      "metadata": {
        "id": "view-in-github",
        "colab_type": "text"
      },
      "source": [
        "<a href=\"https://colab.research.google.com/github/VolkiTheDreamer/PythonRocks/blob/master/Machine%20Learning/Reinforcement%20Learning/Gym_FrozenLake.ipynb\" target=\"_parent\"><img src=\"https://colab.research.google.com/assets/colab-badge.svg\" alt=\"Open In Colab\"/></a>"
      ]
    },
    {
      "cell_type": "markdown",
      "source": [
        "**Son güncelleme tarihi:27.03.2025**\n",
        "\n",
        "**UYARI:** Öncelikle https://gymnasium.farama.org/introduction/basic_usage/ ve https://gymnasium.farama.org/environments/toy_text/frozen_lake/ sayfalarından environment'ı ve genel gym kullanımını inceleyin, ama mutlaka inceleyin. Bunu bir tavsiye olarak değil zorunluluk görün lütfen. Oradaki bilgileri burada aynen tekrar etmek istemediğim için buraya almadım, ve bunları okumazsanız burada anlatacaklarımı anlayacağınızı sanmıyorum."
      ],
      "metadata": {
        "id": "oETsL7uO-yAr"
      }
    },
    {
      "cell_type": "markdown",
      "source": [
        "# Imports"
      ],
      "metadata": {
        "id": "J_s0qxMsolmX"
      }
    },
    {
      "cell_type": "code",
      "source": [
        "%load_ext autoreload\n",
        "%autoreload 2"
      ],
      "metadata": {
        "id": "wu6gwldRRgrX"
      },
      "execution_count": null,
      "outputs": []
    },
    {
      "cell_type": "code",
      "source": [
        "from IPython.core.interactiveshell import InteractiveShell\n",
        "InteractiveShell.ast_node_interactivity = \"all\""
      ],
      "metadata": {
        "id": "Hx48jQIyRgrl"
      },
      "execution_count": null,
      "outputs": []
    },
    {
      "cell_type": "code",
      "source": [
        "!pip -q install ipython-autotime\n",
        "%load_ext autotime"
      ],
      "metadata": {
        "colab": {
          "base_uri": "https://localhost:8080/"
        },
        "id": "H90104KBRgrd",
        "outputId": "79e7c3c2-793d-421a-87c9-f39b43a9afb7"
      },
      "execution_count": null,
      "outputs": [
        {
          "output_type": "stream",
          "name": "stdout",
          "text": [
            "\u001b[?25l   \u001b[90m━━━━━━━━━━━━━━━━━━━━━━━━━━━━━━━━━━━━━━━━\u001b[0m \u001b[32m0.0/1.6 MB\u001b[0m \u001b[31m?\u001b[0m eta \u001b[36m-:--:--\u001b[0m\r\u001b[2K   \u001b[91m━━━━━━━━━━━━━━━━━━━━━━━━━━━━━━━━━━━━━━━\u001b[0m\u001b[91m╸\u001b[0m \u001b[32m1.6/1.6 MB\u001b[0m \u001b[31m52.6 MB/s\u001b[0m eta \u001b[36m0:00:01\u001b[0m\r\u001b[2K   \u001b[90m━━━━━━━━━━━━━━━━━━━━━━━━━━━━━━━━━━━━━━━━\u001b[0m \u001b[32m1.6/1.6 MB\u001b[0m \u001b[31m32.0 MB/s\u001b[0m eta \u001b[36m0:00:00\u001b[0m\n",
            "\u001b[?25htime: 832 µs (started: 2025-04-06 11:12:09 +00:00)\n"
          ]
        }
      ]
    },
    {
      "cell_type": "code",
      "source": [
        "import warnings\n",
        "warnings.filterwarnings(\"ignore\", category=DeprecationWarning)\n",
        "warnings.filterwarnings(\"ignore\", category=ImportWarning)"
      ],
      "metadata": {
        "colab": {
          "base_uri": "https://localhost:8080/"
        },
        "id": "iWJCp8cvRgrq",
        "outputId": "e6ac8979-ec10-486d-bfd1-7960e00c0ec0"
      },
      "execution_count": null,
      "outputs": [
        {
          "output_type": "stream",
          "name": "stdout",
          "text": [
            "time: 1.29 ms (started: 2025-04-06 11:12:09 +00:00)\n"
          ]
        }
      ]
    },
    {
      "cell_type": "code",
      "source": [
        "import numpy as np\n",
        "import random\n",
        "import matplotlib.pyplot as plt\n",
        "import time"
      ],
      "metadata": {
        "colab": {
          "base_uri": "https://localhost:8080/"
        },
        "id": "WYk0d88wZhi-",
        "outputId": "cf0aea0e-3488-444f-f19c-e95cdf99ad3a"
      },
      "execution_count": null,
      "outputs": [
        {
          "output_type": "stream",
          "name": "stdout",
          "text": [
            "time: 1.1 ms (started: 2025-04-06 11:12:09 +00:00)\n"
          ]
        }
      ]
    },
    {
      "cell_type": "markdown",
      "source": [
        "gymnasium'u kuralım (sadece frozen-lake environemnt'ı yeterli)"
      ],
      "metadata": {
        "id": "MY3ueaTv-Oas"
      }
    },
    {
      "cell_type": "code",
      "execution_count": null,
      "metadata": {
        "colab": {
          "base_uri": "https://localhost:8080/"
        },
        "id": "_GPlAH8mQ6wA",
        "outputId": "f1732868-7370-4c76-896a-942eafeee166"
      },
      "outputs": [
        {
          "output_type": "stream",
          "name": "stdout",
          "text": [
            "\u001b[33mWARNING: gymnasium 1.1.1 does not provide the extra 'frozen-lake'\u001b[0m\u001b[33m\n",
            "\u001b[0mtime: 6.84 s (started: 2025-04-06 11:12:09 +00:00)\n"
          ]
        }
      ],
      "source": [
        "!pip -q install \"gymnasium[frozen-lake]\""
      ]
    },
    {
      "cell_type": "code",
      "source": [
        "import gymnasium as gym\n",
        "env = gym.make('FrozenLake-v1', render_mode='rgb_array', is_slippery=False) #Önce basit başlıyoruz, göl kaygan olmasın. Yani stokastik bir yapıyla başlamıyoruz, onu sonra ele alacğaız"
      ],
      "metadata": {
        "colab": {
          "base_uri": "https://localhost:8080/"
        },
        "id": "h0jVKBIRJ8ti",
        "outputId": "790b7fc3-9b91-4e1a-ed8b-a55c04cfb397"
      },
      "execution_count": null,
      "outputs": [
        {
          "output_type": "stream",
          "name": "stdout",
          "text": [
            "time: 559 ms (started: 2025-04-06 11:12:16 +00:00)\n"
          ]
        }
      ]
    },
    {
      "cell_type": "markdown",
      "source": [
        "# Modelleme"
      ],
      "metadata": {
        "id": "c7H1PtaJpGTW"
      }
    },
    {
      "cell_type": "markdown",
      "source": [
        "## Intro"
      ],
      "metadata": {
        "id": "k1Wthhe5aBxe"
      }
    },
    {
      "cell_type": "markdown",
      "source": [
        "Bir environment'ın en önemli özellikleri action ve state space idi, bunlara bakalım"
      ],
      "metadata": {
        "id": "TofQNuOb-a6r"
      }
    },
    {
      "cell_type": "code",
      "source": [
        "env.action_space # 4 yön"
      ],
      "metadata": {
        "colab": {
          "base_uri": "https://localhost:8080/"
        },
        "id": "p5S-qzK4OAk0",
        "outputId": "1b15c810-c53a-4ce8-b0f1-5d8c4cfda1e4"
      },
      "execution_count": null,
      "outputs": [
        {
          "output_type": "execute_result",
          "data": {
            "text/plain": [
              "Discrete(4)"
            ]
          },
          "metadata": {},
          "execution_count": 8
        },
        {
          "output_type": "stream",
          "name": "stdout",
          "text": [
            "time: 4.05 ms (started: 2025-04-06 11:12:17 +00:00)\n"
          ]
        }
      ]
    },
    {
      "cell_type": "code",
      "source": [
        "env.observation_space #state space , 16 hücre"
      ],
      "metadata": {
        "colab": {
          "base_uri": "https://localhost:8080/"
        },
        "id": "pH0V52L6OESY",
        "outputId": "d0767f73-eeb1-40c8-a62a-926b54f54b47"
      },
      "execution_count": null,
      "outputs": [
        {
          "output_type": "execute_result",
          "data": {
            "text/plain": [
              "Discrete(16)"
            ]
          },
          "metadata": {},
          "execution_count": 9
        },
        {
          "output_type": "stream",
          "name": "stdout",
          "text": [
            "time: 3.12 ms (started: 2025-04-06 11:12:17 +00:00)\n"
          ]
        }
      ]
    },
    {
      "cell_type": "markdown",
      "source": [
        "Başka birkaç özelliğe daha bakalım"
      ],
      "metadata": {
        "id": "LOBpc12a-mK_"
      }
    },
    {
      "cell_type": "code",
      "source": [
        "env.metadata"
      ],
      "metadata": {
        "colab": {
          "base_uri": "https://localhost:8080/"
        },
        "id": "jkGpYBZbOF-p",
        "outputId": "bf2bac7b-c7eb-4951-affd-8d18cfce6179"
      },
      "execution_count": null,
      "outputs": [
        {
          "output_type": "execute_result",
          "data": {
            "text/plain": [
              "{'render_modes': ['human', 'ansi', 'rgb_array'], 'render_fps': 4}"
            ]
          },
          "metadata": {},
          "execution_count": 10
        },
        {
          "output_type": "stream",
          "name": "stdout",
          "text": [
            "time: 2.96 ms (started: 2025-04-06 11:12:17 +00:00)\n"
          ]
        }
      ]
    },
    {
      "cell_type": "code",
      "source": [
        "env._max_episode_steps # bu kadar hamle sonunda sonuçlanmazsa ilgili tur/episode yarıda kesilecek"
      ],
      "metadata": {
        "colab": {
          "base_uri": "https://localhost:8080/"
        },
        "id": "FrMeiv-fOqi5",
        "outputId": "a153492a-dc55-431e-88df-4617227a18f2"
      },
      "execution_count": null,
      "outputs": [
        {
          "output_type": "execute_result",
          "data": {
            "text/plain": [
              "100"
            ]
          },
          "metadata": {},
          "execution_count": 11
        },
        {
          "output_type": "stream",
          "name": "stdout",
          "text": [
            "time: 5.69 ms (started: 2025-04-06 11:12:17 +00:00)\n"
          ]
        }
      ]
    },
    {
      "cell_type": "code",
      "source": [
        "env.render_mode"
      ],
      "metadata": {
        "colab": {
          "base_uri": "https://localhost:8080/",
          "height": 53
        },
        "id": "DGoGsJhmPAsf",
        "outputId": "3735eef6-1c58-4664-9311-d753ab5c6490"
      },
      "execution_count": null,
      "outputs": [
        {
          "output_type": "execute_result",
          "data": {
            "text/plain": [
              "'rgb_array'"
            ],
            "application/vnd.google.colaboratory.intrinsic+json": {
              "type": "string"
            }
          },
          "metadata": {},
          "execution_count": 12
        },
        {
          "output_type": "stream",
          "name": "stdout",
          "text": [
            "time: 2.78 ms (started: 2025-04-06 11:12:17 +00:00)\n"
          ]
        }
      ]
    },
    {
      "cell_type": "markdown",
      "source": [
        "Environemnt'ta iki önemli metod vardır. ilki, oyuna başlama metodu olan **reset**. ikincisi action space'ten bir action icra eden **step**'tir."
      ],
      "metadata": {
        "id": "M_ZPy46E-t8Q"
      }
    },
    {
      "cell_type": "code",
      "source": [
        "env.reset()"
      ],
      "metadata": {
        "colab": {
          "base_uri": "https://localhost:8080/"
        },
        "id": "-rqu1IgAOKMy",
        "outputId": "a49ada6d-872e-4a27-e276-e820113ef368"
      },
      "execution_count": null,
      "outputs": [
        {
          "output_type": "execute_result",
          "data": {
            "text/plain": [
              "(0, {'prob': 1})"
            ]
          },
          "metadata": {},
          "execution_count": 13
        },
        {
          "output_type": "stream",
          "name": "stdout",
          "text": [
            "time: 8.01 ms (started: 2025-04-06 11:12:17 +00:00)\n"
          ]
        }
      ]
    },
    {
      "cell_type": "markdown",
      "source": [
        "Bu metod, eski versiyonlarda sadece observation bilgisi döndürürken şimdi iki değerli bir tuple döndürüyor. Bu arada bu tür kütüphane versiyon değişimlerini sıklıkla gözlemleyeceksiniz, eminim bu durum diğer kütüphanelerden de bildiğiniz bir durumdur. O yüzden internette bulduğunuz ve hatta Chatgpt gibi LLM araçlarına ürettirdiğiniz kodları kullanırken dikkatli olmanızda fayda var.\n",
        "\n",
        "Şimdi bu tuple'ın ilk elemanı observation(state bilgisi oluyor) iken ikincisi bir info nesnesidir. Observation: 16 hücreden kaçıncı hücrede olduğumuz bilgisi, info ise bir sonraki hücreye geçme olasılığımızdır, ki slippery(stokastik) modda olmadığımız için bu hep 1(%100) olacaktır."
      ],
      "metadata": {
        "id": "MoQQM9AWf5gR"
      }
    },
    {
      "cell_type": "code",
      "source": [
        "#şimbi bunları bi dğeişkene atayalım\n",
        "observation, info = env.reset()"
      ],
      "metadata": {
        "colab": {
          "base_uri": "https://localhost:8080/"
        },
        "id": "kh1Dxi6ERiVk",
        "outputId": "1f2b3595-cf26-4d37-9284-a76f8910cdc0"
      },
      "execution_count": null,
      "outputs": [
        {
          "output_type": "stream",
          "name": "stdout",
          "text": [
            "time: 1.14 ms (started: 2025-04-06 11:12:17 +00:00)\n"
          ]
        }
      ]
    },
    {
      "cell_type": "markdown",
      "source": [
        "Bir diğer önemli metod da oyunun o anki durumunu görsel olarak bize gösteren **render** metodudur."
      ],
      "metadata": {
        "id": "6K0YfZXK_0EA"
      }
    },
    {
      "cell_type": "code",
      "source": [
        "env.render() #oyun haritasını gösterir, sağ üstteki show data/hide date ile toggle yapabilrsiniz"
      ],
      "metadata": {
        "colab": {
          "base_uri": "https://localhost:8080/",
          "height": 313
        },
        "id": "t-PdayCVPN9D",
        "outputId": "bc8717ea-0768-48ad-f7ab-c728af1f940d"
      },
      "execution_count": null,
      "outputs": [
        {
          "output_type": "execute_result",
          "data": {
            "text/plain": [
              "array([[[180, 200, 230],\n",
              "        [180, 200, 230],\n",
              "        [180, 200, 230],\n",
              "        ...,\n",
              "        [180, 200, 230],\n",
              "        [180, 200, 230],\n",
              "        [180, 200, 230]],\n",
              "\n",
              "       [[180, 200, 230],\n",
              "        [204, 230, 255],\n",
              "        [204, 230, 255],\n",
              "        ...,\n",
              "        [204, 230, 255],\n",
              "        [204, 230, 255],\n",
              "        [180, 200, 230]],\n",
              "\n",
              "       [[180, 200, 230],\n",
              "        [235, 245, 249],\n",
              "        [204, 230, 255],\n",
              "        ...,\n",
              "        [204, 230, 255],\n",
              "        [204, 230, 255],\n",
              "        [180, 200, 230]],\n",
              "\n",
              "       ...,\n",
              "\n",
              "       [[180, 200, 230],\n",
              "        [235, 245, 249],\n",
              "        [235, 245, 249],\n",
              "        ...,\n",
              "        [204, 230, 255],\n",
              "        [235, 245, 249],\n",
              "        [180, 200, 230]],\n",
              "\n",
              "       [[180, 200, 230],\n",
              "        [235, 245, 249],\n",
              "        [235, 245, 249],\n",
              "        ...,\n",
              "        [204, 230, 255],\n",
              "        [204, 230, 255],\n",
              "        [180, 200, 230]],\n",
              "\n",
              "       [[180, 200, 230],\n",
              "        [180, 200, 230],\n",
              "        [180, 200, 230],\n",
              "        ...,\n",
              "        [180, 200, 230],\n",
              "        [180, 200, 230],\n",
              "        [180, 200, 230]]], dtype=uint8)"
            ],
            "text/html": [
              "<style>\n",
              "      .ndarray_repr .ndarray_raw_data {\n",
              "        display: none;\n",
              "      }\n",
              "      .ndarray_repr.show_array .ndarray_raw_data {\n",
              "        display: block;\n",
              "      }\n",
              "      .ndarray_repr.show_array .ndarray_image_preview {\n",
              "        display: none;\n",
              "      }\n",
              "      </style>\n",
              "      <div id=\"id-30109905-603e-4af8-abb7-cd3398a15bc2\" class=\"ndarray_repr\"><pre>ndarray (256, 256, 3) <button style=\"padding: 0 2px;\">show data</button></pre><img src=\"data:image/png;base64,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\" class=\"ndarray_image_preview\" /><pre class=\"ndarray_raw_data\">array([[[180, 200, 230],\n",
              "        [180, 200, 230],\n",
              "        [180, 200, 230],\n",
              "        ...,\n",
              "        [180, 200, 230],\n",
              "        [180, 200, 230],\n",
              "        [180, 200, 230]],\n",
              "\n",
              "       [[180, 200, 230],\n",
              "        [204, 230, 255],\n",
              "        [204, 230, 255],\n",
              "        ...,\n",
              "        [204, 230, 255],\n",
              "        [204, 230, 255],\n",
              "        [180, 200, 230]],\n",
              "\n",
              "       [[180, 200, 230],\n",
              "        [235, 245, 249],\n",
              "        [204, 230, 255],\n",
              "        ...,\n",
              "        [204, 230, 255],\n",
              "        [204, 230, 255],\n",
              "        [180, 200, 230]],\n",
              "\n",
              "       ...,\n",
              "\n",
              "       [[180, 200, 230],\n",
              "        [235, 245, 249],\n",
              "        [235, 245, 249],\n",
              "        ...,\n",
              "        [204, 230, 255],\n",
              "        [235, 245, 249],\n",
              "        [180, 200, 230]],\n",
              "\n",
              "       [[180, 200, 230],\n",
              "        [235, 245, 249],\n",
              "        [235, 245, 249],\n",
              "        ...,\n",
              "        [204, 230, 255],\n",
              "        [204, 230, 255],\n",
              "        [180, 200, 230]],\n",
              "\n",
              "       [[180, 200, 230],\n",
              "        [180, 200, 230],\n",
              "        [180, 200, 230],\n",
              "        ...,\n",
              "        [180, 200, 230],\n",
              "        [180, 200, 230],\n",
              "        [180, 200, 230]]], dtype=uint8)</pre></div><script>\n",
              "      (() => {\n",
              "      const titles = ['show data', 'hide data'];\n",
              "      let index = 0\n",
              "      document.querySelector('#id-30109905-603e-4af8-abb7-cd3398a15bc2 button').onclick = (e) => {\n",
              "        document.querySelector('#id-30109905-603e-4af8-abb7-cd3398a15bc2').classList.toggle('show_array');\n",
              "        index = (++index) % 2;\n",
              "        document.querySelector('#id-30109905-603e-4af8-abb7-cd3398a15bc2 button').textContent = titles[index];\n",
              "        e.preventDefault();\n",
              "        e.stopPropagation();\n",
              "      }\n",
              "      })();\n",
              "    </script>"
            ]
          },
          "metadata": {},
          "execution_count": 15
        },
        {
          "output_type": "stream",
          "name": "stdout",
          "text": [
            "time: 907 ms (started: 2025-04-06 11:12:17 +00:00)\n"
          ]
        }
      ]
    },
    {
      "cell_type": "markdown",
      "source": [
        "Şimdi oyunumuzu oynamaya başlayalım. Öncelikle, hiçbir öğrenme olmadan bu oyun alanında nasıl hareket ediyoruz, onu bi içselleştirelim yani gym'e ısınalım istiyorum."
      ],
      "metadata": {
        "id": "85eYX2oq_-7O"
      }
    },
    {
      "cell_type": "markdown",
      "source": [
        "### Alternatif konfigürasyonlar"
      ],
      "metadata": {
        "id": "PXjkNZK4ZzpD"
      }
    },
    {
      "cell_type": "markdown",
      "source": [
        "Öncesinde, environment'ın farklı konfigürasyonları olabileceğinden bahsetmek isterim. Mesela **is_slippery=True** deyince stokastik bir yapıya sahip olur, siz ileri gitmek istersiniz ama zemin kaygan ya, yana gidebilirsiniz; bunun da olasılığı 1/3'tür. Bu modda doğal olarak öğrenim süresi de artacaktır (detayları aşağıda göreceğiz)\n",
        "\n",
        "Ayrıca, harita büyüklüğünü 4x4 yerine 8x8 de yapabiliyoruz."
      ],
      "metadata": {
        "id": "IQVLyGioWQPL"
      }
    },
    {
      "cell_type": "code",
      "source": [
        "env8 = gym.make('FrozenLake-v1', desc=None, map_name=\"8x8\", is_slippery=True, render_mode=\"rgb_array\")"
      ],
      "metadata": {
        "colab": {
          "base_uri": "https://localhost:8080/"
        },
        "id": "SokUVmuPWPEJ",
        "outputId": "fe814cc0-8a73-44d8-d2fa-52ab8851719e"
      },
      "execution_count": null,
      "outputs": [
        {
          "output_type": "stream",
          "name": "stdout",
          "text": [
            "time: 2.88 ms (started: 2025-04-06 11:12:18 +00:00)\n"
          ]
        }
      ]
    },
    {
      "cell_type": "code",
      "source": [
        "env8.reset()\n",
        "env8.render()"
      ],
      "metadata": {
        "colab": {
          "base_uri": "https://localhost:8080/",
          "height": 587
        },
        "id": "ZIvdu-HFawDB",
        "outputId": "315c02b3-7bcd-4ccd-d78d-c791e8d62b28"
      },
      "execution_count": null,
      "outputs": [
        {
          "output_type": "execute_result",
          "data": {
            "text/plain": [
              "(0, {'prob': 1})"
            ]
          },
          "metadata": {},
          "execution_count": 17
        },
        {
          "output_type": "execute_result",
          "data": {
            "text/plain": [
              "array([[[180, 200, 230],\n",
              "        [180, 200, 230],\n",
              "        [180, 200, 230],\n",
              "        ...,\n",
              "        [180, 200, 230],\n",
              "        [180, 200, 230],\n",
              "        [180, 200, 230]],\n",
              "\n",
              "       [[180, 200, 230],\n",
              "        [204, 230, 255],\n",
              "        [204, 230, 255],\n",
              "        ...,\n",
              "        [204, 230, 255],\n",
              "        [204, 230, 255],\n",
              "        [180, 200, 230]],\n",
              "\n",
              "       [[180, 200, 230],\n",
              "        [235, 245, 249],\n",
              "        [204, 230, 255],\n",
              "        ...,\n",
              "        [204, 230, 255],\n",
              "        [204, 230, 255],\n",
              "        [180, 200, 230]],\n",
              "\n",
              "       ...,\n",
              "\n",
              "       [[180, 200, 230],\n",
              "        [235, 245, 249],\n",
              "        [235, 245, 249],\n",
              "        ...,\n",
              "        [204, 230, 255],\n",
              "        [235, 245, 249],\n",
              "        [180, 200, 230]],\n",
              "\n",
              "       [[180, 200, 230],\n",
              "        [235, 245, 249],\n",
              "        [235, 245, 249],\n",
              "        ...,\n",
              "        [204, 230, 255],\n",
              "        [204, 230, 255],\n",
              "        [180, 200, 230]],\n",
              "\n",
              "       [[180, 200, 230],\n",
              "        [180, 200, 230],\n",
              "        [180, 200, 230],\n",
              "        ...,\n",
              "        [180, 200, 230],\n",
              "        [180, 200, 230],\n",
              "        [180, 200, 230]]], dtype=uint8)"
            ],
            "text/html": [
              "<style>\n",
              "      .ndarray_repr .ndarray_raw_data {\n",
              "        display: none;\n",
              "      }\n",
              "      .ndarray_repr.show_array .ndarray_raw_data {\n",
              "        display: block;\n",
              "      }\n",
              "      .ndarray_repr.show_array .ndarray_image_preview {\n",
              "        display: none;\n",
              "      }\n",
              "      </style>\n",
              "      <div id=\"id-dc10f528-3cb0-40b5-9bb2-472d7d9f47b4\" class=\"ndarray_repr\"><pre>ndarray (512, 512, 3) <button style=\"padding: 0 2px;\">show data</button></pre><img src=\"data:image/png;base64,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\" class=\"ndarray_image_preview\" /><pre class=\"ndarray_raw_data\">array([[[180, 200, 230],\n",
              "        [180, 200, 230],\n",
              "        [180, 200, 230],\n",
              "        ...,\n",
              "        [180, 200, 230],\n",
              "        [180, 200, 230],\n",
              "        [180, 200, 230]],\n",
              "\n",
              "       [[180, 200, 230],\n",
              "        [204, 230, 255],\n",
              "        [204, 230, 255],\n",
              "        ...,\n",
              "        [204, 230, 255],\n",
              "        [204, 230, 255],\n",
              "        [180, 200, 230]],\n",
              "\n",
              "       [[180, 200, 230],\n",
              "        [235, 245, 249],\n",
              "        [204, 230, 255],\n",
              "        ...,\n",
              "        [204, 230, 255],\n",
              "        [204, 230, 255],\n",
              "        [180, 200, 230]],\n",
              "\n",
              "       ...,\n",
              "\n",
              "       [[180, 200, 230],\n",
              "        [235, 245, 249],\n",
              "        [235, 245, 249],\n",
              "        ...,\n",
              "        [204, 230, 255],\n",
              "        [235, 245, 249],\n",
              "        [180, 200, 230]],\n",
              "\n",
              "       [[180, 200, 230],\n",
              "        [235, 245, 249],\n",
              "        [235, 245, 249],\n",
              "        ...,\n",
              "        [204, 230, 255],\n",
              "        [204, 230, 255],\n",
              "        [180, 200, 230]],\n",
              "\n",
              "       [[180, 200, 230],\n",
              "        [180, 200, 230],\n",
              "        [180, 200, 230],\n",
              "        ...,\n",
              "        [180, 200, 230],\n",
              "        [180, 200, 230],\n",
              "        [180, 200, 230]]], dtype=uint8)</pre></div><script>\n",
              "      (() => {\n",
              "      const titles = ['show data', 'hide data'];\n",
              "      let index = 0\n",
              "      document.querySelector('#id-dc10f528-3cb0-40b5-9bb2-472d7d9f47b4 button').onclick = (e) => {\n",
              "        document.querySelector('#id-dc10f528-3cb0-40b5-9bb2-472d7d9f47b4').classList.toggle('show_array');\n",
              "        index = (++index) % 2;\n",
              "        document.querySelector('#id-dc10f528-3cb0-40b5-9bb2-472d7d9f47b4 button').textContent = titles[index];\n",
              "        e.preventDefault();\n",
              "        e.stopPropagation();\n",
              "      }\n",
              "      })();\n",
              "    </script>"
            ]
          },
          "metadata": {},
          "execution_count": 17
        },
        {
          "output_type": "stream",
          "name": "stdout",
          "text": [
            "time: 31.9 ms (started: 2025-04-06 11:12:18 +00:00)\n"
          ]
        }
      ]
    },
    {
      "cell_type": "code",
      "source": [
        "env8.observation_space"
      ],
      "metadata": {
        "colab": {
          "base_uri": "https://localhost:8080/"
        },
        "id": "OSip-KB4eyGK",
        "outputId": "6fef95ec-fbe4-42ee-a68b-989b74daf071"
      },
      "execution_count": null,
      "outputs": [
        {
          "output_type": "execute_result",
          "data": {
            "text/plain": [
              "Discrete(64)"
            ]
          },
          "metadata": {},
          "execution_count": 18
        },
        {
          "output_type": "stream",
          "name": "stdout",
          "text": [
            "time: 2.22 ms (started: 2025-04-06 11:12:18 +00:00)\n"
          ]
        }
      ]
    },
    {
      "cell_type": "markdown",
      "source": [
        "### Fizik kuralları(Geçiş dinamikleri)"
      ],
      "metadata": {
        "id": "0_ZqIjJIh3ap"
      }
    },
    {
      "cell_type": "markdown",
      "source": [
        "Şimdi de ortamın geçiş dinamiklerini(transition dynamics) temsil eden P property'sine bakalım. Bu yapı, ortamın [Markov Karar Süreci](https://en.wikipedia.org/wiki/Markov_decision_process) (MDP) modelini tanımlar ve her state ve action için olası sonuçları, olasılıkları, ödülleri ve bitiş durumlarını içerir. Bir nevi environment'ın fizik kurallarını içerir diyebilriiz. Mesela birçok environment'ta olduğu gibi burada da sınırları delmek otomatik engellenmiş durumdadır. Yani en soldayken daha sola gidemiyorsunuz, hamleniz bu yönde olsa bile, onun yerine oduğunuz yerde kalıyorsunuz."
      ],
      "metadata": {
        "id": "2g5oOo18Ge2A"
      }
    },
    {
      "cell_type": "code",
      "source": [
        "env = gym.make('FrozenLake-v1', is_slippery=True, render_mode=\"rgb_array\")\n",
        "env.reset()\n",
        "env.render()"
      ],
      "metadata": {
        "colab": {
          "base_uri": "https://localhost:8080/",
          "height": 331
        },
        "id": "rWEiUdW2Gbb7",
        "outputId": "2902e0d0-e296-4dd1-fbdb-bb7845307677"
      },
      "execution_count": null,
      "outputs": [
        {
          "output_type": "execute_result",
          "data": {
            "text/plain": [
              "(0, {'prob': 1})"
            ]
          },
          "metadata": {},
          "execution_count": 19
        },
        {
          "output_type": "execute_result",
          "data": {
            "text/plain": [
              "array([[[180, 200, 230],\n",
              "        [180, 200, 230],\n",
              "        [180, 200, 230],\n",
              "        ...,\n",
              "        [180, 200, 230],\n",
              "        [180, 200, 230],\n",
              "        [180, 200, 230]],\n",
              "\n",
              "       [[180, 200, 230],\n",
              "        [204, 230, 255],\n",
              "        [204, 230, 255],\n",
              "        ...,\n",
              "        [204, 230, 255],\n",
              "        [204, 230, 255],\n",
              "        [180, 200, 230]],\n",
              "\n",
              "       [[180, 200, 230],\n",
              "        [235, 245, 249],\n",
              "        [204, 230, 255],\n",
              "        ...,\n",
              "        [204, 230, 255],\n",
              "        [204, 230, 255],\n",
              "        [180, 200, 230]],\n",
              "\n",
              "       ...,\n",
              "\n",
              "       [[180, 200, 230],\n",
              "        [235, 245, 249],\n",
              "        [235, 245, 249],\n",
              "        ...,\n",
              "        [204, 230, 255],\n",
              "        [235, 245, 249],\n",
              "        [180, 200, 230]],\n",
              "\n",
              "       [[180, 200, 230],\n",
              "        [235, 245, 249],\n",
              "        [235, 245, 249],\n",
              "        ...,\n",
              "        [204, 230, 255],\n",
              "        [204, 230, 255],\n",
              "        [180, 200, 230]],\n",
              "\n",
              "       [[180, 200, 230],\n",
              "        [180, 200, 230],\n",
              "        [180, 200, 230],\n",
              "        ...,\n",
              "        [180, 200, 230],\n",
              "        [180, 200, 230],\n",
              "        [180, 200, 230]]], dtype=uint8)"
            ],
            "text/html": [
              "<style>\n",
              "      .ndarray_repr .ndarray_raw_data {\n",
              "        display: none;\n",
              "      }\n",
              "      .ndarray_repr.show_array .ndarray_raw_data {\n",
              "        display: block;\n",
              "      }\n",
              "      .ndarray_repr.show_array .ndarray_image_preview {\n",
              "        display: none;\n",
              "      }\n",
              "      </style>\n",
              "      <div id=\"id-2232c93a-809e-46c3-bfb9-2020d29915c3\" class=\"ndarray_repr\"><pre>ndarray (256, 256, 3) <button style=\"padding: 0 2px;\">show data</button></pre><img src=\"data:image/png;base64,iVBORw0KGgoAAAANSUhEUgAAAQAAAAEACAIAAADTED8xAAAeXklEQVR4nO2df4xd1XHHv0bPD7Nm8drYGFeVwdRKKMVuiymoBtEFFP9BhJAMUdUWlSpt3UaRatIIGlUCoSJFTfIHOFVp66BKliBV1YBEMFaBVFmB6xpau6kNrhOtYoEq7wYbsDFdvOut6R/z7ntz79yZO/e9t7985vOHtXvuOefOXvnMzJkz55xFu/cfRxCkSgPAlWvX2JWuWjbV/nnlQLPvQpycmCqUvHPa9Zbxd8cQ8vdMyvI3AFy1bMpukH86Bd+fwcWy6/On1Ip/sso/JuQvJeQve3uRiyrlCIILmEbdBtl4Kh+dNP6oRI5aaao08m3VVuPO7hghv4d05A8LECRNywLU8vnadaiVHJcHxop9EjQu+SgnZA+a/6fpgJA/5O9O/rAAQdI0wIaInEET2pjm5byVDHvZM3rb25N+YWEch/whf9fyhwUIkiYXBSod3ygb03Z9Xi7HIq+jYY9pz3tD/pDfI39YgCBpStYBtLFlz7XtcjnWtToaHs/PLg/5Q35ZEhYgSJoG2GCqO4Zs7r1xuP3zc/8xAt3nI/weXqH+DMmvSRXyF+ovaPnDAgRJ01oHoNEgV+C0KKxcjSOo/I9u2wJg+dc65WQN/u61VwqtqH5ZnLh6NLfL+y4/L9cyVUL+C0P+sABB0rSiQNk6Gf1WHoXlaKNK6n6CSugpzQfy/XTeQqO5bgZ5v+TvNhIS8i9U+cMCBEnTsgB+30uLv5KX/7O7hgAsx6nSl9FTbT6gITPIJb3LXxfNi5WE/PNZ/rAAQdIs2r3/eHtT8yZzc7McuzS2vn73MDLt7mf1nlPI5gNaz5UUNmV3Jz9FLbrTQ3bPlYT8mGv5wwIESZPLBeJxXG3Grc3r//T7EwB+/YqPK1/5b+9dCuBZ9mbZM8ngHMdtupM/ixsAVTpMI+QnFqL8YQGCpCnJBvWPSPL+f2e6G++NWlFEiGcKETSau9NDvWgU0mGExzflsYiQn1hY8ocFCJJm0e79x2/ecDn9oo0VORZ5pifp8ju/Pg3g2Mh7AH7l7odL+/nRi98EsG74CgD/8ucNAM82On6blinEKXh7bxx+H0AX8vOe62o4bX8Tl1C+hT8N+eeP/GEBgqTJzQHssSXH06NfugfAL3/mcmTafeTo9QBGju4B8OBDd7VrPvmtPQCA6wEAbwHY+lcPA/iFn7wP4C/+5gXkV+y4V2fvA+pFft7Ko4e0mvnykL+c+Sl/WIAgaXLZoBJt1JK/TtmdxKNf+n0AD959OYB7v/L3AB5k9V8/Pg7guSe+COC/fnJzuw7vjecScjxrhHXll/hPs9FaZRGPkL/D/Jc/LECQNBWnQ9ujhzQ3QdaAZgWk6TmZ7u94/LxtL3kgNp4osobm0WpnVs4EIb+nvBf5wwIESdOyAHwFzr96J0feD194A8APu2pbd/cQp1/ye3zWuv5uyO+XZPblDwsQJE3J/QAHxpqoM45pVZh2/b6FcQCP75xClvVJUJboI9uaAJazVmX7gzvIfaXaaO5Ffk4v3mTITyws+cMCBEmTiwLxyCt5ddo4ljsyn179RQC3vvo8gEe2nQLAd2HuQRPA0UNDAPZ+biuAe9FZB5A9a9ijuRf5PXhahfzEQpE/LECQNLmT4STaOJajkLJ97sMSAL+5fwrAwINL2k8nnjwL4B+XLAHw5I/2tMu7281ZuFuqL/J78EQtQn7O/Jc/LECQNIt27z/++ZvXePKz7Vw/Wgnmu8N4rr8s5/EfQtMihjyUj94X+T3w7EJ/DDvkb9evL3KOmZA/LECQNLlsUHsGrY2kkVdfArD5Tx4C8Oy3v9Uup5IVl0wDePYbT7TLf+uRhwB874WXANx3z+fb5dpeHk++eC/yc+R9t/7Mk5B/IcofFiBImtYcgBfR6Km7U/PQ3hfaP3/wSQOZ7h9sliecct3vodTLpJPJ+iK/pnv6lSkZ8tvMlfxhAYKkMW6JrJ7Xczbeeg90j016h3VPCeb9tN8yrtesKz/XOvKv6CVLkT8N+TXmSv6wAEHSqDvC5IjxzPR5W4mtCegsMXnDlNazLUnIXyZhyF+UPyxAkDSte4Lt2KrMq5ZPeYnWj8cv9N/u1C4P+UP+ruUPCxAkTW4OoGVZeObXEtlb6Uwc1aO5WkNob/S0CvlTlj8sQJA06i2Rds6dZ33On7NhZ2tIr04S8ttyauUhf1iAIGlK5gCEZ/z5W/ULPprt9cKQfya48OQPCxAkjboS7Fmxs/F4e3Je788itGuG/CG/DdVctHv/8R4FDYKFS7hAQdI0wK6617ATjHqnu8MtkG3ICPl7JGX5GwCuWjZVlWfnza/QxPKvBfrX+dp0Lb8dvZ7/8tvMf/nnw/cPFyhImoobYiR2fgUfwXbE1ybfVm1VuiOJsGMC2Xn2TWR55Bm8pNM2X6f4Fknv8mvE95dvkfjlDwsQJE3J/QB1d3BKvULj294fLPUWR/P/NB0m5fdlhvSKdmdt7/J73hvfv/fvHxYgSJrW6dD0i5xBE57RzFvJsJc9o7e9VenXFsaxIb9H32zdMVJZR/L89uHS8rI3Vnje8f0r60j69f3DAgRJk4sClY5vVM217b2eUpfwOhqenEHtvbK+RGqdgRs2G/Ub09MAJiYAYHr0zdIeCKmZ7AxKTnx/jZn7/mEBgqQxToYrYscK7HKpM2z94ZHKri99wbpap1VniPppIotLTw3cVKizeHoKwOmpZuEtmjayT72M75+rM8PfPyxAkDStc4Hol+5279t4fEetprPngvz81nKCawWP1uFMnCpKO7ByQNQaADAEINNP5K3a2kiTXyO+f6uHvn7/sABB0uRuiZQriFoU2b/n3z4pgErs2G2lr1yQn+PXPRs3nwcwNnbOqJMxCeDEsYvLHzYaAIbWNpFpo48OdaIWXA9p8sf3r6Kf3z8sQJA0uTvCMueqPIrMqRvB0J5mJXYmiRUz4f3wnEFb96xaN1koGWPaa82axQC2rFwC4JWTZ1GmmWQP1OrQvovQ9lwbDQCXbSzXQ9yVje8/V98/LECQNOrJcJ59OrKmH8+ef0JmwEu49+nXPaQzNDTdI1tRHfp31bpOHdJG041GW5KJg/varbR8GyK+/+x8/7AAQdI00Bq+3Actoukerhvq6iGtvraTqG4eOdc9MsLwwIbBQn1N32g1yUPddfhM4Sn3X7H5LDI9JGn/RfH9MXffPyxAkDS5XCAeh9YiBpoeogjApooDMsqRPdc95YuQ2SaZx9nxGqVGIbjuyWkRBal7eM/8KXmlatyaEd+fmM3vHxYgSJqSbNBeNAqPBnhu+tZOMejutEeCvE8ebVhxZgmALRuKGoXrCR5bkLrHE5HQ/NEsOjEJ4J2D1fLH95/N7x8WIEia1slw9Isc69Ir5f6i52YOeaKL51x5+Rb+tF1/vNPc0lI3riuWSN2jeZxUk+rwmlRO2oXrIf4z11j/+2HR971q2dR49gOVxPeXzPT3DwsQJE1uDmDvWLXPhPF4ilrNfHm5trNl4MgsEcLvcWo15dNcD0ruCvVw5AQAPPrYMAB8WC55fH+7pnya66Gr7x8WIEiaXDaoxH+apP80G61VFvHQMha7p67HKWtKveKJZ1Odp14DgGYDAO6cBIBLRXwmvr9dc+a+f1iAIGkqTof2RJE1NI9WO7OyX0jNwfF7nHa2idaDLJ+aHgTw4i0AcPUyADg5AZTtn5LE95/p7x8WIEialgXg2si/+mifH+ZvZbf166eVdwwDAM5C1ys8rkxIb5Lq7HJkp2i6h6DYM3mf7090/iU/e9MavPRuq2Z8f85sfv+wAEHSlNwPcGCsNT66oBdvUtNndc+rGX17CYClK84h0y7cE/VHoAkt2iC9W8n6684CGD1SfIv8tvH9idn//mEBgqTJRYF45Ji8Uk0P+XeU1m1le7GaNiINunNDE8C2w5360uPkcC0i1w61mho891BCUu3c0Pkr5HeI70/M5vcPCxAkTe5kOImmh7rzNT1RC//6JT+SUvYj9YEWmdZ0hlZftpIxDd5K80Rt+Yn4/jP9/cMCBElTkg1qZ6X3gjzXUtuFxNFOKNDkuWQxUHXKpLa3iMclPLpKi1HYaPLH95/97x8WIEiaXDaoHQGom12o6QnPuZZ1TyjgZ1PuuBYAth0eROb/kebYpegk7kF6tI62KumPaWjyx/ef/e8fFiBImpJbImlPUN2zADTd0694hXGC8cmJKVmfPFGa+y9dXq17JPZJNXaeo6btOPILx/fnzM73DwsQJI1xS2RxxNtwrWOfO6DhOYG+EKkYzzekeDnFTMgT3X4UyLICly4v5ploUQV7B1OF7hFrn6QFaQ2SKMhf+pfG9ydm+vuHBQiSRt0RJke8J1LB20psTUYxBHkKjdazdkuhXw9JfVNX98j4htQ9Z9gZBHzfrf0l4/vPzvcPCxAkTeueYDs2rN1XJXVSVYy52q/1306lZbZwPUTsAJDpofMfDwL45Bzg22/KT6MntDVOqXsoErLzNhTkKWRlxvdvM/vfPyxAkDS5OYCWL+6JD0i0e69kzkmVNqq3I4nffUtv2bSmiUwPEdwrJcg31bSLJ64s8w3JA85yJys7iO8/B98/LECQNOotkf67yDX8OSeeU44zqrNlZCyc3kJ6iH7ee3sTWaSC9grlTg/+VHS9yHhtCx5pJrJ4SPHvKuTTI77/3H3/sABB0pTMAYi6c3+7Vb/g2kjLp9eQupM0xMtm5NuG/+1aHr9Ey9OM7z/73z8sQJA06kqw/1xiu4e6GSb+LMi6+ZJcKn/NuZI/vv/syL9o9/7jzgZBcOERLlCQNA0AV66tOIbPTpDqne4O5wAw/u4YQv6eSVn+1i2RVXmC3vwQTSz/WqZ/nbJNyF/K/JffXv2YHfnDBQqSpuKGGImdH6KdOcOfesi3VVuV7qiyCfk99C6/HZPJIvRNFG8y5iWdtvK2Y/4WiV/+sABB0pTcD1B3B6rUK9pJZrbnx9H8P02HhfzzTX5fZlGvaHce++UPCxAkTet0aPrFfzqkLOetZNjLntHb3qr0awvjOOSft/J79P3WHSOVdSTPbx8uLS97ozXzCQsQJE3JyXDST7Ln2vZeValLeB0NT86jZ49syD/78sv6Eqn1B27YbNRvTE8DmJgAgOnRN0t7IKRlsDNYwwIESWOcDFfEjhXY5VJn2PrDI5U/Y157Y8jvea/21K4vffG6Wr9VZ4j6aSJbF5gauKlQZ/H0FIDTU83CWzRrwM9ZCgsQJE3rXCD6pbvTB2w8vqNW09lzyO95C2ZLfrkPi2tlj9bnTJwqSjuwckDUGgAwBCCzDzRbsK1B7AkOgvwtkXIFUYsia7t1ZLmWqcJL7Nhtpa8c8s8r+Tl+3b9x83lU3SyWMQngxLGLyx82GgCG1jaRWYOPDnWiRtwOxBwgCPJ3hGXOVXkUmVM3gqE9zUrsTJJybSf7CfnnVn6es2nr/lXrJgslY8x68HOh6WxQaRlkD9Tq0L6L0J45NBoALttYbgfoa4cFCJJGPRlO8x3rxo81NC9WIjPgPb2F/Db9lZ97/37db98Rpul+2Yrq0L+r1nXqkDWYbjTakkwc3NduFVGgIEADreHLfdAimu7huqGuHtLqazuJjLzCkN+QR6OP8pfCdb+M8Mgb3jV9r9WkGYJ2w0DrPoHNZ5HZAUncEhkE+VwgHofWIgaaHqIIwKaKAzLKkT3XPeWLCPnnVn6Z7ZN5/B2vXWp0wr4VWCJ1P++ZP6VZgbZuEBYgSJqSbNBeNAqPBnhuKpe7jXh5d3oo5CfmSn7y/nm0Z8WZJQC2bChqdHknJCF1vycipM0HsujQJIB3DhalDQsQJE3rZDj6RTthnesS7i96bhaRJ7p4zsWXb+FP2/XH8x2G/HMi/8mJKX6Gj+TGdcUS+z5gWZPq8JpUTtqd2wH+M7cYuRtoAPq74lygIHVycwDPDR8Sv6eo1cyXl2s7Wwbej0bIP9PyEzJLh/B7/FpN+TTXg5I7RD0cOQEAjz42DADs7viwAEHS5LJBJZ4RT/hPs9FaZREPLWPRIuSfW/lt6nr8sqbU6571BKrz1GsA0GwAwJ2TAHBp7AkOAqLidGhPFFlD82i1MytngpDfU95f+aXm5vg9fjvbR+tBlk9NDwJ48RYAuHoZANCt8RRhCwsQJE3LAvAVRP/qo7YntW4ru61HP4X8tgweeXqRv1XzjmEAwFnoep3H9QnpzVOdXY7sIE33ExT7J+///YnOvzTP2bQGL70bFiBIm5L7AQ6MtcZHF/TiTWr6zHNeTchv999dW7/8nNG3lwBYuuIcMu3OZwL+FQBCi/bI2YVk/XVnAYweKb6Ff9uwAEHS5KJAPHJMXqmmh/w7Suu2sr1YWxuF/DYzJz9ZsJ0bmgC2He7Ulx4/h2txuXar1dTguZ8Skmrnhs5fEesAQZA/GU6i6aHufE1P1MK/fsmPpAz5Pcym/FIfaysDms7W6stWMqbEW2kzgTgVIgjKskHtrPRe4NmF9i4kjnZCgawZ8s+t/MQli4GqUz61vV08LuSxFVqMyIbLHxYgSJpcNqgdAaibXajpCc1/ldqI92m/PeTn7+L1Z1N+2n2241oA2HZ4EJn/TZp7l2ITuAfv0fraqrA/psQJCxAkTcktkbQnqO5ZAJru6Ve8ouoEY94q5J9V+U9OTMn6NBOg2MvS5dW6X2KfFGTnmWrWhhMnwwWBdUtkccTbcK1jnzugYeuq0nMKxq1+Qv4OMyp/uyGtV1DMimYC248CWVbm0uXFPB8tqmPvIKvQ/WLtmawQrQETXP6wAEHSqDvC5Ij3RCp4W4mtySiGIE+h0Xq2JQn5yyScEfn5kjDq2AGp7+vqfhlfkrr/DDsDgu97jpXgIMjuCbZjw9p9VVInVcWYq/1a/+1U7fKQf27lb8PXmHn+0g4AmR04//EggE/OAb79vvw2AEJbY5a6nyJRO29DQZ7IBg2CFrk5gJYv7okPSGRvpZEEVGujag2nvdHTKuTvl/z8vTwqtWlNE5kdIPisgKC5gabdPXF9me9JM5Asd7W8VViAIGnUWyI1beTfi+TPOfGccpxRHgMJ+W05tfJ+yc9ryrUIegvZAfp57+1NZJEi2quVO735U9H1IuO1LXikn8jiUcW/i+9nCAsQJE3JHICoO/e3W/ULro0859xLQv5esOX3nG7NJSQN/bK58mDD/3ZtH4Uk9gMEQQt1Jdh/LrHdQ90ME38WpF0z5J9b+W2p/DVnWv5Fu/cfdzYIgguPcIGCpGkAuHJtxTF8doJU73R3OAeA8XfHEPL3TMryt26JrMoTLM8PsaPX/uiEFpl2/jFdy28T8pe9vYQFLX+4QEHSqFEge06dRVibKN5Ey0s6beVttfwtkvyIV+MGpTuqbOz8Fu3MHP7UQ8ivMd/kDwsQJE3J/QDamQX8ab/Q7qzV/D9NB9TyWdt15LsI7SQ2e+bDCfkXivxhAYKkaZ0OTb90EQEAsHXHSBcvfn77cGl52RsrPD9Dfr3PYjlvJcN2dkTC9lalX1vQQyH/HMofFiBImtKT4YCqGbfU+gM3bLZeMz0NYGICAKZH3yztgZCWwc5A5JTqJ6OVVl/bidtdZFpr69njG/LPtPxhAYKkUdcBpN9WV+u36gxRP01k6wJTAzcV6iyengJweqpZeItmDexTL+09snaJVi51lVZHw7/TN+SfTfnDAgRJ0zoXiH6hMSH30XCt7NH6nIlTxZE6sHJA1BoAMAQgsw80W7CtQVvsgvwa3aVheXxfraaz52Tl/97WXy2U3Pf8f1ZKxUtG7r+5/fPwM28Y75LEHCAI8rdE9qL7N24+j6qboTImAZw4drEiUQPA0NomMmvw0aFO1IjbgfYoL8jviSJru41kuZapwkvstYtKXzkp+e+56w8BfGXFIQCf+4PlhT7JJjzxwcbSNxLUluA9vHr/ze22L+z5jlP+sABB0uTuCOM5m7buX7VuslAyxqwHP9eXznaUlkH2QK0O7bsI7ZlDowHgso3ldoBPJbJ1PvqtPIrMqRvB0J5mJcW187oZ8CnIb+t+olX+9CEAz9z7l4Wn9z/3NWdbete3/2FXpfxhAYKkaVkA7v37db99x5Om+2UrqkP/rlrXqUPWYLrRaEsycXBfu5WW70Fovm/d+LGG5oVLZAa8p7cLT37JsZH3AIyOdv4/kBanf9ePfLXwdP364v+lV5/+UDwt/u+y5Q8LECSNuhLMdb+M8MgbujV9r9WkGYJ2QnzrPPjNZ5HZAUnbTz0wBvI7SxYYAOi6k+uGunpUq6/tpDPyahORn0O6f93wFQCAjh0gjU66nEpycZ6Wvu/Ulzbh5JkjAIBiHEmTPyxAkDQ5CyCzfTKPv+NXSY1O2Le6SqTu5z3zpzQrUNcNGDwOrUU8ND1KEbBNFQd8lCN7rntKGXFhyy8hO0BwXc79fl6H/h/ypxwq/+ff+z4AfOe7TpnDAgRJUzIHIO+fR3tWnFkCYMuGokaXd/oRUvd7IkLafCCLDk0CeOeg9ccQvWhEHg3zaDLtFAO+N6quHr2w5afoPkX0f/reqKO/9e2fZP2fvgcA11yxHmXrBh75wwIESdPOBrVGyY3riiX2fa6yJtXhNamctDu3A/xnbjFyN4gAAK5aNjWe/UAl2gnxXBdyf9dzM4o80chzrr98C3/arp+U/Byurf9v7wEAD/zsnwp1slkB9xrWF54+cua3Aey7dVPxj2TY8ocFCJKmZA4gs3QIv8ev1ZRPcz0ouUPUw5ETAPDoY8MA8CFK8dxQorXyeLpazXx5uba2ZeD9aCx0+TWeufsHAIDlyK8NZ6sEHUZHO6sE9PQZUNsfAHjgwz8r1PfIHxYgSBp1JZhT1+OXNaVe96wnUJ2nXgOAZgMA7pwEgEtFfMO/D1XDf5qN1iqLeGgZlxZpyr9r+TcKJaT7d63+AoDPtbQ7q7/6CwAeGKXZAl9L7vSm2QGNsABB0pRYAKm5OX6P38720XqQ5VPTgwBevAUArl4GAHTrt3YHIMcTBdfQPFrtzMqZ4MKTn2I+jw9+F8AxVs51v02rzhkAeHykuOL7GL4K4Muw4kKcsABB0uRPhrtjGABwFrpe53F9QnrzVGeXIztI0/0Exf7J+39/ovMv+amb1uCld1s1uTXwr55qe2rrtrLbevRravJT/J4ga0B7eVes7tTJZwFZ/VAPvE/gx/DteQgLECRNyRxg9O0lAJauOIdMu/OZgH8FgNCiPXJ2IVl/3VkAo0eKb5E6hvu1B8aapXU89OINa/rYc95OCvL/68guANdfvwXAspWdx9xf/+C/fwzg9MkxAK8MvVPo4dipkULbfA+dtm+99YpT/rAAQdLkbojZuaEJYNvhzmPp8XO4Fpdrt1pNDZ77KSGpdm4AdN+OR77JK9X0qH9HbN1Wthdua6N05F/xi5813rICnwWwZfB4ofz1M8NGK+L062PQ/wopf1iAIGlyJ8NxpD7WVgY0na3Vl61kTIm30mYC/EhKbcRreqg7X9kTdfGvv6Ys/0xj/xVc/rAAQdKURIEuWQxUnfKp7e3icSGPrdBiRDb8lgCOlu2oZaXXRZ7Lqe2iktKG/Lw+Re41Wrt+xX8N2jMgT4Lg3I+fK7zLlj8sQJA0JWeD7rgWALYdHkTmf5Pm3qXYBO7Be7S+tirsjylJtBMTOHWzIzU95zmXs+4JCynIv+ff/8d4OnPY8ocFCJKmtSdYagWaCVDsZenyat0vsU8KsvNMNWvDkWOan3Vc9ywDTXf2K95SdQIzb3Xhy5/P2xGsBoDHUZwn8DxQnRFk1uZ3f+MaVl4uf1iAIGlyN8VTvJbm7DQT2H4UyLIyly4vDj0tqmPvIKvQ/WLtmawQrQETbW03XvYnaWfe23CtaZ+boOE5Qb8QaQn5Zw1N/rAAQdKU3BLptwNS39fV/TK+JHX/GXYGBN+3ams1OeI9kQreVmJrMoqhyVNotJ5Tk/9tAMDDf/23AL755T822hIU0c8zUtmK+relImIlOAjyK8F8jZDnb+wAkNmB8x8PAvjkHODb78tvAyC0NWap+ykStfM2FOQpZDWWRrEIroe0u1U8+e5+v9Z/u1Zq8t/1az+PLD5j6+ne+aXPXAPx/6RUtrAAQdKU5ALxu2PJe9u0ponMDhB8VkDQ3EDT7p64vsz3pBlIlrtX2YE64j3xDU9v2omZVdq0WkNrb/S0Wljy52PzFlpv/gxWj/xhAYKkyVkALZZMY47sAP289/YmskgR7dXKnd78qXjPompReKSfyOJRxVFbyEdHmbaw9Ucvp51pGZR+r1oS8ttyauW9yx8WIEianAXwnE7Mxx9p6JfNyLEN1+JaHrlEy3OsEw+p16pf8L8x5Pe36hdS/rAAQdK4Tofm+M8r9nh7Mi7hzxuxa/rltHsI+TUuDPkX7d5/vEdBg2Dh8v/LTEi46XMPqgAAAABJRU5ErkJggg==\" class=\"ndarray_image_preview\" /><pre class=\"ndarray_raw_data\">array([[[180, 200, 230],\n",
              "        [180, 200, 230],\n",
              "        [180, 200, 230],\n",
              "        ...,\n",
              "        [180, 200, 230],\n",
              "        [180, 200, 230],\n",
              "        [180, 200, 230]],\n",
              "\n",
              "       [[180, 200, 230],\n",
              "        [204, 230, 255],\n",
              "        [204, 230, 255],\n",
              "        ...,\n",
              "        [204, 230, 255],\n",
              "        [204, 230, 255],\n",
              "        [180, 200, 230]],\n",
              "\n",
              "       [[180, 200, 230],\n",
              "        [235, 245, 249],\n",
              "        [204, 230, 255],\n",
              "        ...,\n",
              "        [204, 230, 255],\n",
              "        [204, 230, 255],\n",
              "        [180, 200, 230]],\n",
              "\n",
              "       ...,\n",
              "\n",
              "       [[180, 200, 230],\n",
              "        [235, 245, 249],\n",
              "        [235, 245, 249],\n",
              "        ...,\n",
              "        [204, 230, 255],\n",
              "        [235, 245, 249],\n",
              "        [180, 200, 230]],\n",
              "\n",
              "       [[180, 200, 230],\n",
              "        [235, 245, 249],\n",
              "        [235, 245, 249],\n",
              "        ...,\n",
              "        [204, 230, 255],\n",
              "        [204, 230, 255],\n",
              "        [180, 200, 230]],\n",
              "\n",
              "       [[180, 200, 230],\n",
              "        [180, 200, 230],\n",
              "        [180, 200, 230],\n",
              "        ...,\n",
              "        [180, 200, 230],\n",
              "        [180, 200, 230],\n",
              "        [180, 200, 230]]], dtype=uint8)</pre></div><script>\n",
              "      (() => {\n",
              "      const titles = ['show data', 'hide data'];\n",
              "      let index = 0\n",
              "      document.querySelector('#id-2232c93a-809e-46c3-bfb9-2020d29915c3 button').onclick = (e) => {\n",
              "        document.querySelector('#id-2232c93a-809e-46c3-bfb9-2020d29915c3').classList.toggle('show_array');\n",
              "        index = (++index) % 2;\n",
              "        document.querySelector('#id-2232c93a-809e-46c3-bfb9-2020d29915c3 button').textContent = titles[index];\n",
              "        e.preventDefault();\n",
              "        e.stopPropagation();\n",
              "      }\n",
              "      })();\n",
              "    </script>"
            ]
          },
          "metadata": {},
          "execution_count": 19
        },
        {
          "output_type": "stream",
          "name": "stdout",
          "text": [
            "time: 20 ms (started: 2025-04-06 11:12:18 +00:00)\n"
          ]
        }
      ]
    },
    {
      "cell_type": "code",
      "source": [
        "env.unwrapped.P #probability, next_state, reward, done  şeklinde değerler döner. Bunu nasıl okuyacağımız alttaki hücrede açıklayacağım"
      ],
      "metadata": {
        "colab": {
          "base_uri": "https://localhost:8080/"
        },
        "id": "Uh0i4YUkGVVT",
        "outputId": "ff9706bd-4e94-493a-8d60-c8a38a31e0f0"
      },
      "execution_count": null,
      "outputs": [
        {
          "output_type": "execute_result",
          "data": {
            "text/plain": [
              "{0: {0: [(0.3333333333333333, 0, 0.0, False),\n",
              "   (0.3333333333333333, 0, 0.0, False),\n",
              "   (0.3333333333333333, 4, 0.0, False)],\n",
              "  1: [(0.3333333333333333, 0, 0.0, False),\n",
              "   (0.3333333333333333, 4, 0.0, False),\n",
              "   (0.3333333333333333, 1, 0.0, False)],\n",
              "  2: [(0.3333333333333333, 4, 0.0, False),\n",
              "   (0.3333333333333333, 1, 0.0, False),\n",
              "   (0.3333333333333333, 0, 0.0, False)],\n",
              "  3: [(0.3333333333333333, 1, 0.0, False),\n",
              "   (0.3333333333333333, 0, 0.0, False),\n",
              "   (0.3333333333333333, 0, 0.0, False)]},\n",
              " 1: {0: [(0.3333333333333333, 1, 0.0, False),\n",
              "   (0.3333333333333333, 0, 0.0, False),\n",
              "   (0.3333333333333333, 5, 0.0, True)],\n",
              "  1: [(0.3333333333333333, 0, 0.0, False),\n",
              "   (0.3333333333333333, 5, 0.0, True),\n",
              "   (0.3333333333333333, 2, 0.0, False)],\n",
              "  2: [(0.3333333333333333, 5, 0.0, True),\n",
              "   (0.3333333333333333, 2, 0.0, False),\n",
              "   (0.3333333333333333, 1, 0.0, False)],\n",
              "  3: [(0.3333333333333333, 2, 0.0, False),\n",
              "   (0.3333333333333333, 1, 0.0, False),\n",
              "   (0.3333333333333333, 0, 0.0, False)]},\n",
              " 2: {0: [(0.3333333333333333, 2, 0.0, False),\n",
              "   (0.3333333333333333, 1, 0.0, False),\n",
              "   (0.3333333333333333, 6, 0.0, False)],\n",
              "  1: [(0.3333333333333333, 1, 0.0, False),\n",
              "   (0.3333333333333333, 6, 0.0, False),\n",
              "   (0.3333333333333333, 3, 0.0, False)],\n",
              "  2: [(0.3333333333333333, 6, 0.0, False),\n",
              "   (0.3333333333333333, 3, 0.0, False),\n",
              "   (0.3333333333333333, 2, 0.0, False)],\n",
              "  3: [(0.3333333333333333, 3, 0.0, False),\n",
              "   (0.3333333333333333, 2, 0.0, False),\n",
              "   (0.3333333333333333, 1, 0.0, False)]},\n",
              " 3: {0: [(0.3333333333333333, 3, 0.0, False),\n",
              "   (0.3333333333333333, 2, 0.0, False),\n",
              "   (0.3333333333333333, 7, 0.0, True)],\n",
              "  1: [(0.3333333333333333, 2, 0.0, False),\n",
              "   (0.3333333333333333, 7, 0.0, True),\n",
              "   (0.3333333333333333, 3, 0.0, False)],\n",
              "  2: [(0.3333333333333333, 7, 0.0, True),\n",
              "   (0.3333333333333333, 3, 0.0, False),\n",
              "   (0.3333333333333333, 3, 0.0, False)],\n",
              "  3: [(0.3333333333333333, 3, 0.0, False),\n",
              "   (0.3333333333333333, 3, 0.0, False),\n",
              "   (0.3333333333333333, 2, 0.0, False)]},\n",
              " 4: {0: [(0.3333333333333333, 0, 0.0, False),\n",
              "   (0.3333333333333333, 4, 0.0, False),\n",
              "   (0.3333333333333333, 8, 0.0, False)],\n",
              "  1: [(0.3333333333333333, 4, 0.0, False),\n",
              "   (0.3333333333333333, 8, 0.0, False),\n",
              "   (0.3333333333333333, 5, 0.0, True)],\n",
              "  2: [(0.3333333333333333, 8, 0.0, False),\n",
              "   (0.3333333333333333, 5, 0.0, True),\n",
              "   (0.3333333333333333, 0, 0.0, False)],\n",
              "  3: [(0.3333333333333333, 5, 0.0, True),\n",
              "   (0.3333333333333333, 0, 0.0, False),\n",
              "   (0.3333333333333333, 4, 0.0, False)]},\n",
              " 5: {0: [(1.0, 5, 0, True)],\n",
              "  1: [(1.0, 5, 0, True)],\n",
              "  2: [(1.0, 5, 0, True)],\n",
              "  3: [(1.0, 5, 0, True)]},\n",
              " 6: {0: [(0.3333333333333333, 2, 0.0, False),\n",
              "   (0.3333333333333333, 5, 0.0, True),\n",
              "   (0.3333333333333333, 10, 0.0, False)],\n",
              "  1: [(0.3333333333333333, 5, 0.0, True),\n",
              "   (0.3333333333333333, 10, 0.0, False),\n",
              "   (0.3333333333333333, 7, 0.0, True)],\n",
              "  2: [(0.3333333333333333, 10, 0.0, False),\n",
              "   (0.3333333333333333, 7, 0.0, True),\n",
              "   (0.3333333333333333, 2, 0.0, False)],\n",
              "  3: [(0.3333333333333333, 7, 0.0, True),\n",
              "   (0.3333333333333333, 2, 0.0, False),\n",
              "   (0.3333333333333333, 5, 0.0, True)]},\n",
              " 7: {0: [(1.0, 7, 0, True)],\n",
              "  1: [(1.0, 7, 0, True)],\n",
              "  2: [(1.0, 7, 0, True)],\n",
              "  3: [(1.0, 7, 0, True)]},\n",
              " 8: {0: [(0.3333333333333333, 4, 0.0, False),\n",
              "   (0.3333333333333333, 8, 0.0, False),\n",
              "   (0.3333333333333333, 12, 0.0, True)],\n",
              "  1: [(0.3333333333333333, 8, 0.0, False),\n",
              "   (0.3333333333333333, 12, 0.0, True),\n",
              "   (0.3333333333333333, 9, 0.0, False)],\n",
              "  2: [(0.3333333333333333, 12, 0.0, True),\n",
              "   (0.3333333333333333, 9, 0.0, False),\n",
              "   (0.3333333333333333, 4, 0.0, False)],\n",
              "  3: [(0.3333333333333333, 9, 0.0, False),\n",
              "   (0.3333333333333333, 4, 0.0, False),\n",
              "   (0.3333333333333333, 8, 0.0, False)]},\n",
              " 9: {0: [(0.3333333333333333, 5, 0.0, True),\n",
              "   (0.3333333333333333, 8, 0.0, False),\n",
              "   (0.3333333333333333, 13, 0.0, False)],\n",
              "  1: [(0.3333333333333333, 8, 0.0, False),\n",
              "   (0.3333333333333333, 13, 0.0, False),\n",
              "   (0.3333333333333333, 10, 0.0, False)],\n",
              "  2: [(0.3333333333333333, 13, 0.0, False),\n",
              "   (0.3333333333333333, 10, 0.0, False),\n",
              "   (0.3333333333333333, 5, 0.0, True)],\n",
              "  3: [(0.3333333333333333, 10, 0.0, False),\n",
              "   (0.3333333333333333, 5, 0.0, True),\n",
              "   (0.3333333333333333, 8, 0.0, False)]},\n",
              " 10: {0: [(0.3333333333333333, 6, 0.0, False),\n",
              "   (0.3333333333333333, 9, 0.0, False),\n",
              "   (0.3333333333333333, 14, 0.0, False)],\n",
              "  1: [(0.3333333333333333, 9, 0.0, False),\n",
              "   (0.3333333333333333, 14, 0.0, False),\n",
              "   (0.3333333333333333, 11, 0.0, True)],\n",
              "  2: [(0.3333333333333333, 14, 0.0, False),\n",
              "   (0.3333333333333333, 11, 0.0, True),\n",
              "   (0.3333333333333333, 6, 0.0, False)],\n",
              "  3: [(0.3333333333333333, 11, 0.0, True),\n",
              "   (0.3333333333333333, 6, 0.0, False),\n",
              "   (0.3333333333333333, 9, 0.0, False)]},\n",
              " 11: {0: [(1.0, 11, 0, True)],\n",
              "  1: [(1.0, 11, 0, True)],\n",
              "  2: [(1.0, 11, 0, True)],\n",
              "  3: [(1.0, 11, 0, True)]},\n",
              " 12: {0: [(1.0, 12, 0, True)],\n",
              "  1: [(1.0, 12, 0, True)],\n",
              "  2: [(1.0, 12, 0, True)],\n",
              "  3: [(1.0, 12, 0, True)]},\n",
              " 13: {0: [(0.3333333333333333, 9, 0.0, False),\n",
              "   (0.3333333333333333, 12, 0.0, True),\n",
              "   (0.3333333333333333, 13, 0.0, False)],\n",
              "  1: [(0.3333333333333333, 12, 0.0, True),\n",
              "   (0.3333333333333333, 13, 0.0, False),\n",
              "   (0.3333333333333333, 14, 0.0, False)],\n",
              "  2: [(0.3333333333333333, 13, 0.0, False),\n",
              "   (0.3333333333333333, 14, 0.0, False),\n",
              "   (0.3333333333333333, 9, 0.0, False)],\n",
              "  3: [(0.3333333333333333, 14, 0.0, False),\n",
              "   (0.3333333333333333, 9, 0.0, False),\n",
              "   (0.3333333333333333, 12, 0.0, True)]},\n",
              " 14: {0: [(0.3333333333333333, 10, 0.0, False),\n",
              "   (0.3333333333333333, 13, 0.0, False),\n",
              "   (0.3333333333333333, 14, 0.0, False)],\n",
              "  1: [(0.3333333333333333, 13, 0.0, False),\n",
              "   (0.3333333333333333, 14, 0.0, False),\n",
              "   (0.3333333333333333, 15, 1.0, True)],\n",
              "  2: [(0.3333333333333333, 14, 0.0, False),\n",
              "   (0.3333333333333333, 15, 1.0, True),\n",
              "   (0.3333333333333333, 10, 0.0, False)],\n",
              "  3: [(0.3333333333333333, 15, 1.0, True),\n",
              "   (0.3333333333333333, 10, 0.0, False),\n",
              "   (0.3333333333333333, 13, 0.0, False)]},\n",
              " 15: {0: [(1.0, 15, 0, True)],\n",
              "  1: [(1.0, 15, 0, True)],\n",
              "  2: [(1.0, 15, 0, True)],\n",
              "  3: [(1.0, 15, 0, True)]}}"
            ]
          },
          "metadata": {},
          "execution_count": 20
        },
        {
          "output_type": "stream",
          "name": "stdout",
          "text": [
            "time: 9.9 ms (started: 2025-04-06 11:12:18 +00:00)\n"
          ]
        }
      ]
    },
    {
      "cell_type": "markdown",
      "source": [
        "P nasıl okunur\n",
        "\n",
        "```\n",
        "P = {\n",
        "    state: {\n",
        "        action: [\n",
        "            (probability, next_state, reward, done),\n",
        "            ...\n",
        "        ],\n",
        "        ...\n",
        "    },\n",
        "    ...\n",
        "}\n",
        "```\n",
        "Bunu öncelikle is_slippery=False iken yorumlayalım, sonra True için:\n",
        "\n",
        "\n",
        "```\n",
        "P[0], yani 0,0 hücresindeyken\n",
        "   {\n",
        "    0: [(1.0, 0, 0.0, False)],  # 0 eylemi, yani sola gitmeye çalışırsa, yerinde kalır, ödül 0dır, oyun bitmemiştir\n",
        "    1: [(1.0, 4, 0.0, False)],  # 1 eylemi, yani aşağı gitmeye çalışırsa, state 4'e geçer, \"\" \"\"\n",
        "    2: [(1.0, 1, 0.0, False)],  # 2 eylemi, yani sağa gitmeye çalışırsa, state 1'e geçer, \"\" \"\"\n",
        "    3: [(1.0, 0, 0.0, False)]   # 3 eylemi, yani yukarı gitmeye çalışırsa, yerinde kalır, \"\" \"\"\n",
        "   }\n",
        "\n",
        "Bütün bunları %100 olaslıkla yapar.\n",
        "```\n",
        "\n",
        "Şimdi de slippery olma durumuna bakalım:\n"
      ],
      "metadata": {
        "id": "K48RZ0O8KcMU"
      }
    },
    {
      "cell_type": "code",
      "source": [
        "#16 statten ilki(0) için bakalım ve nasıl okuyacağımızı görelim\n",
        "env.unwrapped.P[0]"
      ],
      "metadata": {
        "colab": {
          "base_uri": "https://localhost:8080/"
        },
        "id": "N3yHaqSjHxcW",
        "outputId": "8c1fdaef-51ed-467a-ac46-61bb66503e31"
      },
      "execution_count": null,
      "outputs": [
        {
          "output_type": "execute_result",
          "data": {
            "text/plain": [
              "{0: [(0.3333333333333333, 0, 0.0, False),\n",
              "  (0.3333333333333333, 0, 0.0, False),\n",
              "  (0.3333333333333333, 4, 0.0, False)],\n",
              " 1: [(0.3333333333333333, 0, 0.0, False),\n",
              "  (0.3333333333333333, 4, 0.0, False),\n",
              "  (0.3333333333333333, 1, 0.0, False)],\n",
              " 2: [(0.3333333333333333, 4, 0.0, False),\n",
              "  (0.3333333333333333, 1, 0.0, False),\n",
              "  (0.3333333333333333, 0, 0.0, False)],\n",
              " 3: [(0.3333333333333333, 1, 0.0, False),\n",
              "  (0.3333333333333333, 0, 0.0, False),\n",
              "  (0.3333333333333333, 0, 0.0, False)]}"
            ]
          },
          "metadata": {},
          "execution_count": 21
        },
        {
          "output_type": "stream",
          "name": "stdout",
          "text": [
            "time: 2.9 ms (started: 2025-04-06 11:12:18 +00:00)\n"
          ]
        }
      ]
    },
    {
      "cell_type": "markdown",
      "source": [
        "\n",
        "\n",
        "```\n",
        "* 0'dayken 0 eylemini yapmaya çalışırsa 1/3 olasılıkla 0'a gider yani yerinde kalır, ödülü 0, oyun bitmez\n",
        "diğeleri de yanı şekilde\n",
        "```\n",
        "şimdi de başka bi hücredeyken bakalım\n"
      ],
      "metadata": {
        "id": "qUFspisjHxF_"
      }
    },
    {
      "cell_type": "code",
      "source": [
        "env.unwrapped.P[10] #2,1 hücresindeyken"
      ],
      "metadata": {
        "colab": {
          "base_uri": "https://localhost:8080/"
        },
        "id": "gidLiV8nI4nX",
        "outputId": "95a6f25d-81c6-43dc-d8eb-f65a5b0d1102"
      },
      "execution_count": null,
      "outputs": [
        {
          "output_type": "execute_result",
          "data": {
            "text/plain": [
              "{0: [(0.3333333333333333, 6, 0.0, False),\n",
              "  (0.3333333333333333, 9, 0.0, False),\n",
              "  (0.3333333333333333, 14, 0.0, False)],\n",
              " 1: [(0.3333333333333333, 9, 0.0, False),\n",
              "  (0.3333333333333333, 14, 0.0, False),\n",
              "  (0.3333333333333333, 11, 0.0, True)],\n",
              " 2: [(0.3333333333333333, 14, 0.0, False),\n",
              "  (0.3333333333333333, 11, 0.0, True),\n",
              "  (0.3333333333333333, 6, 0.0, False)],\n",
              " 3: [(0.3333333333333333, 11, 0.0, True),\n",
              "  (0.3333333333333333, 6, 0.0, False),\n",
              "  (0.3333333333333333, 9, 0.0, False)]}"
            ]
          },
          "metadata": {},
          "execution_count": 22
        },
        {
          "output_type": "stream",
          "name": "stdout",
          "text": [
            "time: 3.24 ms (started: 2025-04-06 11:12:18 +00:00)\n"
          ]
        }
      ]
    },
    {
      "cell_type": "markdown",
      "source": [
        "Bunu yorumlamayı size bırakıyorum."
      ],
      "metadata": {
        "id": "qCoqzFsNL40V"
      }
    },
    {
      "cell_type": "markdown",
      "source": [
        "## Öğrenmesiz süreç"
      ],
      "metadata": {
        "id": "f1kKuxGGM1Nv"
      }
    },
    {
      "cell_type": "markdown",
      "source": [
        "Oyundaki en önemli metod sanırım **step** metodudur. Oyun içinde eylemlerimizi icra etmemizi sağlayan bu metod bize 5 değer döndürür(*)\n",
        "\n",
        "1. observation ya da state: Bu, oyundaki bir sonraki state'tir(next_state). Belirli bir eylemi gerçekleştirdiğinize, o eylemin sonucunda geçilebilecek sonraki durumun sayısal gösterimidir. Unutmayalım ki her bir state'in integer bir karşılığı var, en azından gym'de böyle.\n",
        "\n",
        "2. Ödül(reward): Belirli bir eylemi gerçekleştirdiğinizde ve belirli bir sonraki duruma geçtiğinizde alınan ödül veya cezadır. Cezalar negatif değerlidr.\n",
        "\n",
        "3. Terminated: Belirli bir eylemi gerçekleştirdiğinizde ve belirli bir sonraki duruma geçtiğinizde, bölümün olumlu/olumsuz tamamlanıp tamamlanmadığını gösteren bir boolean değerdir (True veya False). Hedefe varırsanız da, çukura düşme,canavara yakalanma gibi yenilmenize neden olan bir eylem de olsa oyun bitmiş olur.\n",
        "\n",
        "4. Truncated: Belirlenen maksimum hamle sonunda oyun sonlanmazsa artık devam edilmez ve son hamleden sonra True döner, yeni episode'a geçilir.\n",
        "\n",
        "5. info/probability: Belirli bir eylemi gerçekleştirdiğinizde, o eylemin sonucunda bir sonraki duruma geçme olasılığıdır. frozen-lake oyununda is_slippery False olduğu sürece bu değer %100 yani 1'dir, True iken 1/3.\n",
        "\n",
        "\\* eskiden 4 değer idi. terminated ve truncated tek bir değer olan \"done\" şeklinde temsil ediliyordu."
      ],
      "metadata": {
        "id": "Kt-XkjabeOKJ"
      }
    },
    {
      "cell_type": "markdown",
      "source": [
        "Şimdi en basit haliyle, yani random bir action seçtiğimiz haliyle oyunu başlatalım. Rasgelelik, öğrenme olmama durumunu temsil ediyor. Gerekli açıklamalar comment olarak yanlarına yazılmıştır."
      ],
      "metadata": {
        "id": "04Hg4rcsButK"
      }
    },
    {
      "cell_type": "code",
      "source": [
        "env.reset() #hücreyi tekrar tekrar çalıştırdığımızda baştan başlasın diye. agent 0,0 noktasına konumlanır.(Başka oyunlarda, varsa hareket eden diğer objeler de ilk anlarına getirilir. Gerektiğinde oyunun başlangıç yerleri değişken olabilir)\n",
        "directions = {0:\"sol\", 1:\"aşağı\",2:\"sağ\",3:\"yukarı\"} #print ederken anlamlı bilgi basmak için\n",
        "episode_over = False #oyunun sonlanıp sonlanmadığını gösteren değişken (termination:yani hedefe varır veya çatlağa düşürse)) veya maks hareket limitine ulaşırsa(truncated)\n",
        "total_reward=0 #bu örnekte çok anlamlı değil, çünkü hedefe varmadığı sürece 0, hedefte 1 alacak, o yüzden kümülatif şekilde artan bir değer olmayacak ama RL'de geneleksel olarak kullanılan bir değişkendir, o geleneğe uyalım\n",
        "steps=0 #toplam kaç hamle yapılmış, bunu tutacak\n",
        "while not episode_over:\n",
        "    action = env.action_space.sample()  # action space'den random bi hareket seçiyoruz, hiç öğrenilmiş bir bilgi kullanmıyoruz, davranış politikamız: rasgele bir eylem seçmek\n",
        "    print(f\"Agentımız {action}({directions[action]}) yönüne gidecek\\n\")\n",
        "    observation, reward, terminated, truncated, info = env.step(action) #step metodu ile bu eylemi yerine getiriyoruz. step bize oyunun bitip bitmediğini veya belirlenen episode adımına geip gelmediğinizi de döndürüyor\n",
        "    print(observation, reward, terminated, truncated, info)\n",
        "    env.render()\n",
        "    episode_over = terminated or truncated\n",
        "    steps+=1\n",
        "    total_reward+=reward\n",
        "\n",
        "env.close()\n",
        "print(f\"Agentımız toplam {steps} hamle yaptı ve ödülü:{total_reward}\")"
      ],
      "metadata": {
        "colab": {
          "base_uri": "https://localhost:8080/",
          "height": 1000
        },
        "id": "i9Y-9U3rRm6D",
        "outputId": "523fe4cd-7bc4-4492-caa9-2e6a322c3136"
      },
      "execution_count": null,
      "outputs": [
        {
          "output_type": "execute_result",
          "data": {
            "text/plain": [
              "(0, {'prob': 1})"
            ]
          },
          "metadata": {},
          "execution_count": 23
        },
        {
          "output_type": "stream",
          "name": "stdout",
          "text": [
            "Agentımız 2(sağ) yönüne gidecek\n",
            "\n",
            "0 0.0 False False {'prob': 0.3333333333333333}\n"
          ]
        },
        {
          "output_type": "execute_result",
          "data": {
            "text/plain": [
              "array([[[180, 200, 230],\n",
              "        [180, 200, 230],\n",
              "        [180, 200, 230],\n",
              "        ...,\n",
              "        [180, 200, 230],\n",
              "        [180, 200, 230],\n",
              "        [180, 200, 230]],\n",
              "\n",
              "       [[180, 200, 230],\n",
              "        [204, 230, 255],\n",
              "        [204, 230, 255],\n",
              "        ...,\n",
              "        [204, 230, 255],\n",
              "        [204, 230, 255],\n",
              "        [180, 200, 230]],\n",
              "\n",
              "       [[180, 200, 230],\n",
              "        [235, 245, 249],\n",
              "        [204, 230, 255],\n",
              "        ...,\n",
              "        [204, 230, 255],\n",
              "        [204, 230, 255],\n",
              "        [180, 200, 230]],\n",
              "\n",
              "       ...,\n",
              "\n",
              "       [[180, 200, 230],\n",
              "        [235, 245, 249],\n",
              "        [235, 245, 249],\n",
              "        ...,\n",
              "        [204, 230, 255],\n",
              "        [235, 245, 249],\n",
              "        [180, 200, 230]],\n",
              "\n",
              "       [[180, 200, 230],\n",
              "        [235, 245, 249],\n",
              "        [235, 245, 249],\n",
              "        ...,\n",
              "        [204, 230, 255],\n",
              "        [204, 230, 255],\n",
              "        [180, 200, 230]],\n",
              "\n",
              "       [[180, 200, 230],\n",
              "        [180, 200, 230],\n",
              "        [180, 200, 230],\n",
              "        ...,\n",
              "        [180, 200, 230],\n",
              "        [180, 200, 230],\n",
              "        [180, 200, 230]]], dtype=uint8)"
            ],
            "text/html": [
              "<style>\n",
              "      .ndarray_repr .ndarray_raw_data {\n",
              "        display: none;\n",
              "      }\n",
              "      .ndarray_repr.show_array .ndarray_raw_data {\n",
              "        display: block;\n",
              "      }\n",
              "      .ndarray_repr.show_array .ndarray_image_preview {\n",
              "        display: none;\n",
              "      }\n",
              "      </style>\n",
              "      <div id=\"id-a23a6f36-9264-4c5e-90ad-18e1160ca50c\" class=\"ndarray_repr\"><pre>ndarray (256, 256, 3) <button style=\"padding: 0 2px;\">show data</button></pre><img src=\"data:image/png;base64,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\" class=\"ndarray_image_preview\" /><pre class=\"ndarray_raw_data\">array([[[180, 200, 230],\n",
              "        [180, 200, 230],\n",
              "        [180, 200, 230],\n",
              "        ...,\n",
              "        [180, 200, 230],\n",
              "        [180, 200, 230],\n",
              "        [180, 200, 230]],\n",
              "\n",
              "       [[180, 200, 230],\n",
              "        [204, 230, 255],\n",
              "        [204, 230, 255],\n",
              "        ...,\n",
              "        [204, 230, 255],\n",
              "        [204, 230, 255],\n",
              "        [180, 200, 230]],\n",
              "\n",
              "       [[180, 200, 230],\n",
              "        [235, 245, 249],\n",
              "        [204, 230, 255],\n",
              "        ...,\n",
              "        [204, 230, 255],\n",
              "        [204, 230, 255],\n",
              "        [180, 200, 230]],\n",
              "\n",
              "       ...,\n",
              "\n",
              "       [[180, 200, 230],\n",
              "        [235, 245, 249],\n",
              "        [235, 245, 249],\n",
              "        ...,\n",
              "        [204, 230, 255],\n",
              "        [235, 245, 249],\n",
              "        [180, 200, 230]],\n",
              "\n",
              "       [[180, 200, 230],\n",
              "        [235, 245, 249],\n",
              "        [235, 245, 249],\n",
              "        ...,\n",
              "        [204, 230, 255],\n",
              "        [204, 230, 255],\n",
              "        [180, 200, 230]],\n",
              "\n",
              "       [[180, 200, 230],\n",
              "        [180, 200, 230],\n",
              "        [180, 200, 230],\n",
              "        ...,\n",
              "        [180, 200, 230],\n",
              "        [180, 200, 230],\n",
              "        [180, 200, 230]]], dtype=uint8)</pre></div><script>\n",
              "      (() => {\n",
              "      const titles = ['show data', 'hide data'];\n",
              "      let index = 0\n",
              "      document.querySelector('#id-a23a6f36-9264-4c5e-90ad-18e1160ca50c button').onclick = (e) => {\n",
              "        document.querySelector('#id-a23a6f36-9264-4c5e-90ad-18e1160ca50c').classList.toggle('show_array');\n",
              "        index = (++index) % 2;\n",
              "        document.querySelector('#id-a23a6f36-9264-4c5e-90ad-18e1160ca50c button').textContent = titles[index];\n",
              "        e.preventDefault();\n",
              "        e.stopPropagation();\n",
              "      }\n",
              "      })();\n",
              "    </script>"
            ]
          },
          "metadata": {},
          "execution_count": 23
        },
        {
          "output_type": "stream",
          "name": "stdout",
          "text": [
            "Agentımız 1(aşağı) yönüne gidecek\n",
            "\n",
            "1 0.0 False False {'prob': 0.3333333333333333}\n"
          ]
        },
        {
          "output_type": "execute_result",
          "data": {
            "text/plain": [
              "array([[[180, 200, 230],\n",
              "        [180, 200, 230],\n",
              "        [180, 200, 230],\n",
              "        ...,\n",
              "        [180, 200, 230],\n",
              "        [180, 200, 230],\n",
              "        [180, 200, 230]],\n",
              "\n",
              "       [[180, 200, 230],\n",
              "        [204, 230, 255],\n",
              "        [204, 230, 255],\n",
              "        ...,\n",
              "        [204, 230, 255],\n",
              "        [204, 230, 255],\n",
              "        [180, 200, 230]],\n",
              "\n",
              "       [[180, 200, 230],\n",
              "        [235, 245, 249],\n",
              "        [204, 230, 255],\n",
              "        ...,\n",
              "        [204, 230, 255],\n",
              "        [204, 230, 255],\n",
              "        [180, 200, 230]],\n",
              "\n",
              "       ...,\n",
              "\n",
              "       [[180, 200, 230],\n",
              "        [235, 245, 249],\n",
              "        [235, 245, 249],\n",
              "        ...,\n",
              "        [204, 230, 255],\n",
              "        [235, 245, 249],\n",
              "        [180, 200, 230]],\n",
              "\n",
              "       [[180, 200, 230],\n",
              "        [235, 245, 249],\n",
              "        [235, 245, 249],\n",
              "        ...,\n",
              "        [204, 230, 255],\n",
              "        [204, 230, 255],\n",
              "        [180, 200, 230]],\n",
              "\n",
              "       [[180, 200, 230],\n",
              "        [180, 200, 230],\n",
              "        [180, 200, 230],\n",
              "        ...,\n",
              "        [180, 200, 230],\n",
              "        [180, 200, 230],\n",
              "        [180, 200, 230]]], dtype=uint8)"
            ],
            "text/html": [
              "<style>\n",
              "      .ndarray_repr .ndarray_raw_data {\n",
              "        display: none;\n",
              "      }\n",
              "      .ndarray_repr.show_array .ndarray_raw_data {\n",
              "        display: block;\n",
              "      }\n",
              "      .ndarray_repr.show_array .ndarray_image_preview {\n",
              "        display: none;\n",
              "      }\n",
              "      </style>\n",
              "      <div id=\"id-c3caa53d-4242-4e13-9599-04ee45657455\" class=\"ndarray_repr\"><pre>ndarray (256, 256, 3) <button style=\"padding: 0 2px;\">show data</button></pre><img src=\"data:image/png;base64,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\" class=\"ndarray_image_preview\" /><pre class=\"ndarray_raw_data\">array([[[180, 200, 230],\n",
              "        [180, 200, 230],\n",
              "        [180, 200, 230],\n",
              "        ...,\n",
              "        [180, 200, 230],\n",
              "        [180, 200, 230],\n",
              "        [180, 200, 230]],\n",
              "\n",
              "       [[180, 200, 230],\n",
              "        [204, 230, 255],\n",
              "        [204, 230, 255],\n",
              "        ...,\n",
              "        [204, 230, 255],\n",
              "        [204, 230, 255],\n",
              "        [180, 200, 230]],\n",
              "\n",
              "       [[180, 200, 230],\n",
              "        [235, 245, 249],\n",
              "        [204, 230, 255],\n",
              "        ...,\n",
              "        [204, 230, 255],\n",
              "        [204, 230, 255],\n",
              "        [180, 200, 230]],\n",
              "\n",
              "       ...,\n",
              "\n",
              "       [[180, 200, 230],\n",
              "        [235, 245, 249],\n",
              "        [235, 245, 249],\n",
              "        ...,\n",
              "        [204, 230, 255],\n",
              "        [235, 245, 249],\n",
              "        [180, 200, 230]],\n",
              "\n",
              "       [[180, 200, 230],\n",
              "        [235, 245, 249],\n",
              "        [235, 245, 249],\n",
              "        ...,\n",
              "        [204, 230, 255],\n",
              "        [204, 230, 255],\n",
              "        [180, 200, 230]],\n",
              "\n",
              "       [[180, 200, 230],\n",
              "        [180, 200, 230],\n",
              "        [180, 200, 230],\n",
              "        ...,\n",
              "        [180, 200, 230],\n",
              "        [180, 200, 230],\n",
              "        [180, 200, 230]]], dtype=uint8)</pre></div><script>\n",
              "      (() => {\n",
              "      const titles = ['show data', 'hide data'];\n",
              "      let index = 0\n",
              "      document.querySelector('#id-c3caa53d-4242-4e13-9599-04ee45657455 button').onclick = (e) => {\n",
              "        document.querySelector('#id-c3caa53d-4242-4e13-9599-04ee45657455').classList.toggle('show_array');\n",
              "        index = (++index) % 2;\n",
              "        document.querySelector('#id-c3caa53d-4242-4e13-9599-04ee45657455 button').textContent = titles[index];\n",
              "        e.preventDefault();\n",
              "        e.stopPropagation();\n",
              "      }\n",
              "      })();\n",
              "    </script>"
            ]
          },
          "metadata": {},
          "execution_count": 23
        },
        {
          "output_type": "stream",
          "name": "stdout",
          "text": [
            "Agentımız 3(yukarı) yönüne gidecek\n",
            "\n",
            "2 0.0 False False {'prob': 0.3333333333333333}\n"
          ]
        },
        {
          "output_type": "execute_result",
          "data": {
            "text/plain": [
              "array([[[180, 200, 230],\n",
              "        [180, 200, 230],\n",
              "        [180, 200, 230],\n",
              "        ...,\n",
              "        [180, 200, 230],\n",
              "        [180, 200, 230],\n",
              "        [180, 200, 230]],\n",
              "\n",
              "       [[180, 200, 230],\n",
              "        [204, 230, 255],\n",
              "        [204, 230, 255],\n",
              "        ...,\n",
              "        [204, 230, 255],\n",
              "        [204, 230, 255],\n",
              "        [180, 200, 230]],\n",
              "\n",
              "       [[180, 200, 230],\n",
              "        [235, 245, 249],\n",
              "        [204, 230, 255],\n",
              "        ...,\n",
              "        [204, 230, 255],\n",
              "        [204, 230, 255],\n",
              "        [180, 200, 230]],\n",
              "\n",
              "       ...,\n",
              "\n",
              "       [[180, 200, 230],\n",
              "        [235, 245, 249],\n",
              "        [235, 245, 249],\n",
              "        ...,\n",
              "        [204, 230, 255],\n",
              "        [235, 245, 249],\n",
              "        [180, 200, 230]],\n",
              "\n",
              "       [[180, 200, 230],\n",
              "        [235, 245, 249],\n",
              "        [235, 245, 249],\n",
              "        ...,\n",
              "        [204, 230, 255],\n",
              "        [204, 230, 255],\n",
              "        [180, 200, 230]],\n",
              "\n",
              "       [[180, 200, 230],\n",
              "        [180, 200, 230],\n",
              "        [180, 200, 230],\n",
              "        ...,\n",
              "        [180, 200, 230],\n",
              "        [180, 200, 230],\n",
              "        [180, 200, 230]]], dtype=uint8)"
            ],
            "text/html": [
              "<style>\n",
              "      .ndarray_repr .ndarray_raw_data {\n",
              "        display: none;\n",
              "      }\n",
              "      .ndarray_repr.show_array .ndarray_raw_data {\n",
              "        display: block;\n",
              "      }\n",
              "      .ndarray_repr.show_array .ndarray_image_preview {\n",
              "        display: none;\n",
              "      }\n",
              "      </style>\n",
              "      <div id=\"id-56953ffb-4279-427e-aa7b-f6cf4fdb6f84\" class=\"ndarray_repr\"><pre>ndarray (256, 256, 3) <button style=\"padding: 0 2px;\">show data</button></pre><img src=\"data:image/png;base64,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\" class=\"ndarray_image_preview\" /><pre class=\"ndarray_raw_data\">array([[[180, 200, 230],\n",
              "        [180, 200, 230],\n",
              "        [180, 200, 230],\n",
              "        ...,\n",
              "        [180, 200, 230],\n",
              "        [180, 200, 230],\n",
              "        [180, 200, 230]],\n",
              "\n",
              "       [[180, 200, 230],\n",
              "        [204, 230, 255],\n",
              "        [204, 230, 255],\n",
              "        ...,\n",
              "        [204, 230, 255],\n",
              "        [204, 230, 255],\n",
              "        [180, 200, 230]],\n",
              "\n",
              "       [[180, 200, 230],\n",
              "        [235, 245, 249],\n",
              "        [204, 230, 255],\n",
              "        ...,\n",
              "        [204, 230, 255],\n",
              "        [204, 230, 255],\n",
              "        [180, 200, 230]],\n",
              "\n",
              "       ...,\n",
              "\n",
              "       [[180, 200, 230],\n",
              "        [235, 245, 249],\n",
              "        [235, 245, 249],\n",
              "        ...,\n",
              "        [204, 230, 255],\n",
              "        [235, 245, 249],\n",
              "        [180, 200, 230]],\n",
              "\n",
              "       [[180, 200, 230],\n",
              "        [235, 245, 249],\n",
              "        [235, 245, 249],\n",
              "        ...,\n",
              "        [204, 230, 255],\n",
              "        [204, 230, 255],\n",
              "        [180, 200, 230]],\n",
              "\n",
              "       [[180, 200, 230],\n",
              "        [180, 200, 230],\n",
              "        [180, 200, 230],\n",
              "        ...,\n",
              "        [180, 200, 230],\n",
              "        [180, 200, 230],\n",
              "        [180, 200, 230]]], dtype=uint8)</pre></div><script>\n",
              "      (() => {\n",
              "      const titles = ['show data', 'hide data'];\n",
              "      let index = 0\n",
              "      document.querySelector('#id-56953ffb-4279-427e-aa7b-f6cf4fdb6f84 button').onclick = (e) => {\n",
              "        document.querySelector('#id-56953ffb-4279-427e-aa7b-f6cf4fdb6f84').classList.toggle('show_array');\n",
              "        index = (++index) % 2;\n",
              "        document.querySelector('#id-56953ffb-4279-427e-aa7b-f6cf4fdb6f84 button').textContent = titles[index];\n",
              "        e.preventDefault();\n",
              "        e.stopPropagation();\n",
              "      }\n",
              "      })();\n",
              "    </script>"
            ]
          },
          "metadata": {},
          "execution_count": 23
        },
        {
          "output_type": "stream",
          "name": "stdout",
          "text": [
            "Agentımız 0(sol) yönüne gidecek\n",
            "\n",
            "1 0.0 False False {'prob': 0.3333333333333333}\n"
          ]
        },
        {
          "output_type": "execute_result",
          "data": {
            "text/plain": [
              "array([[[180, 200, 230],\n",
              "        [180, 200, 230],\n",
              "        [180, 200, 230],\n",
              "        ...,\n",
              "        [180, 200, 230],\n",
              "        [180, 200, 230],\n",
              "        [180, 200, 230]],\n",
              "\n",
              "       [[180, 200, 230],\n",
              "        [204, 230, 255],\n",
              "        [204, 230, 255],\n",
              "        ...,\n",
              "        [204, 230, 255],\n",
              "        [204, 230, 255],\n",
              "        [180, 200, 230]],\n",
              "\n",
              "       [[180, 200, 230],\n",
              "        [235, 245, 249],\n",
              "        [204, 230, 255],\n",
              "        ...,\n",
              "        [204, 230, 255],\n",
              "        [204, 230, 255],\n",
              "        [180, 200, 230]],\n",
              "\n",
              "       ...,\n",
              "\n",
              "       [[180, 200, 230],\n",
              "        [235, 245, 249],\n",
              "        [235, 245, 249],\n",
              "        ...,\n",
              "        [204, 230, 255],\n",
              "        [235, 245, 249],\n",
              "        [180, 200, 230]],\n",
              "\n",
              "       [[180, 200, 230],\n",
              "        [235, 245, 249],\n",
              "        [235, 245, 249],\n",
              "        ...,\n",
              "        [204, 230, 255],\n",
              "        [204, 230, 255],\n",
              "        [180, 200, 230]],\n",
              "\n",
              "       [[180, 200, 230],\n",
              "        [180, 200, 230],\n",
              "        [180, 200, 230],\n",
              "        ...,\n",
              "        [180, 200, 230],\n",
              "        [180, 200, 230],\n",
              "        [180, 200, 230]]], dtype=uint8)"
            ],
            "text/html": [
              "<style>\n",
              "      .ndarray_repr .ndarray_raw_data {\n",
              "        display: none;\n",
              "      }\n",
              "      .ndarray_repr.show_array .ndarray_raw_data {\n",
              "        display: block;\n",
              "      }\n",
              "      .ndarray_repr.show_array .ndarray_image_preview {\n",
              "        display: none;\n",
              "      }\n",
              "      </style>\n",
              "      <div id=\"id-4debb237-79e9-4976-b532-0de7503e55c0\" class=\"ndarray_repr\"><pre>ndarray (256, 256, 3) <button style=\"padding: 0 2px;\">show data</button></pre><img src=\"data:image/png;base64,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\" class=\"ndarray_image_preview\" /><pre class=\"ndarray_raw_data\">array([[[180, 200, 230],\n",
              "        [180, 200, 230],\n",
              "        [180, 200, 230],\n",
              "        ...,\n",
              "        [180, 200, 230],\n",
              "        [180, 200, 230],\n",
              "        [180, 200, 230]],\n",
              "\n",
              "       [[180, 200, 230],\n",
              "        [204, 230, 255],\n",
              "        [204, 230, 255],\n",
              "        ...,\n",
              "        [204, 230, 255],\n",
              "        [204, 230, 255],\n",
              "        [180, 200, 230]],\n",
              "\n",
              "       [[180, 200, 230],\n",
              "        [235, 245, 249],\n",
              "        [204, 230, 255],\n",
              "        ...,\n",
              "        [204, 230, 255],\n",
              "        [204, 230, 255],\n",
              "        [180, 200, 230]],\n",
              "\n",
              "       ...,\n",
              "\n",
              "       [[180, 200, 230],\n",
              "        [235, 245, 249],\n",
              "        [235, 245, 249],\n",
              "        ...,\n",
              "        [204, 230, 255],\n",
              "        [235, 245, 249],\n",
              "        [180, 200, 230]],\n",
              "\n",
              "       [[180, 200, 230],\n",
              "        [235, 245, 249],\n",
              "        [235, 245, 249],\n",
              "        ...,\n",
              "        [204, 230, 255],\n",
              "        [204, 230, 255],\n",
              "        [180, 200, 230]],\n",
              "\n",
              "       [[180, 200, 230],\n",
              "        [180, 200, 230],\n",
              "        [180, 200, 230],\n",
              "        ...,\n",
              "        [180, 200, 230],\n",
              "        [180, 200, 230],\n",
              "        [180, 200, 230]]], dtype=uint8)</pre></div><script>\n",
              "      (() => {\n",
              "      const titles = ['show data', 'hide data'];\n",
              "      let index = 0\n",
              "      document.querySelector('#id-4debb237-79e9-4976-b532-0de7503e55c0 button').onclick = (e) => {\n",
              "        document.querySelector('#id-4debb237-79e9-4976-b532-0de7503e55c0').classList.toggle('show_array');\n",
              "        index = (++index) % 2;\n",
              "        document.querySelector('#id-4debb237-79e9-4976-b532-0de7503e55c0 button').textContent = titles[index];\n",
              "        e.preventDefault();\n",
              "        e.stopPropagation();\n",
              "      }\n",
              "      })();\n",
              "    </script>"
            ]
          },
          "metadata": {},
          "execution_count": 23
        },
        {
          "output_type": "stream",
          "name": "stdout",
          "text": [
            "Agentımız 3(yukarı) yönüne gidecek\n",
            "\n",
            "0 0.0 False False {'prob': 0.3333333333333333}\n"
          ]
        },
        {
          "output_type": "execute_result",
          "data": {
            "text/plain": [
              "array([[[180, 200, 230],\n",
              "        [180, 200, 230],\n",
              "        [180, 200, 230],\n",
              "        ...,\n",
              "        [180, 200, 230],\n",
              "        [180, 200, 230],\n",
              "        [180, 200, 230]],\n",
              "\n",
              "       [[180, 200, 230],\n",
              "        [204, 230, 255],\n",
              "        [204, 230, 255],\n",
              "        ...,\n",
              "        [204, 230, 255],\n",
              "        [204, 230, 255],\n",
              "        [180, 200, 230]],\n",
              "\n",
              "       [[180, 200, 230],\n",
              "        [235, 245, 249],\n",
              "        [204, 230, 255],\n",
              "        ...,\n",
              "        [204, 230, 255],\n",
              "        [204, 230, 255],\n",
              "        [180, 200, 230]],\n",
              "\n",
              "       ...,\n",
              "\n",
              "       [[180, 200, 230],\n",
              "        [235, 245, 249],\n",
              "        [235, 245, 249],\n",
              "        ...,\n",
              "        [204, 230, 255],\n",
              "        [235, 245, 249],\n",
              "        [180, 200, 230]],\n",
              "\n",
              "       [[180, 200, 230],\n",
              "        [235, 245, 249],\n",
              "        [235, 245, 249],\n",
              "        ...,\n",
              "        [204, 230, 255],\n",
              "        [204, 230, 255],\n",
              "        [180, 200, 230]],\n",
              "\n",
              "       [[180, 200, 230],\n",
              "        [180, 200, 230],\n",
              "        [180, 200, 230],\n",
              "        ...,\n",
              "        [180, 200, 230],\n",
              "        [180, 200, 230],\n",
              "        [180, 200, 230]]], dtype=uint8)"
            ],
            "text/html": [
              "<style>\n",
              "      .ndarray_repr .ndarray_raw_data {\n",
              "        display: none;\n",
              "      }\n",
              "      .ndarray_repr.show_array .ndarray_raw_data {\n",
              "        display: block;\n",
              "      }\n",
              "      .ndarray_repr.show_array .ndarray_image_preview {\n",
              "        display: none;\n",
              "      }\n",
              "      </style>\n",
              "      <div id=\"id-a6ed5851-d1bd-4225-8a01-72aec18d328a\" class=\"ndarray_repr\"><pre>ndarray (256, 256, 3) <button style=\"padding: 0 2px;\">show data</button></pre><img src=\"data:image/png;base64,iVBORw0KGgoAAAANSUhEUgAAAQAAAAEACAIAAADTED8xAAAeIElEQVR4nO2df4xd1XHHv0bPD7Nm8do1PxxVBiOroRRbLaagGEQXEP4jUYoEyR9tUamqllaKVJREafMPCAmpahKpxJGKWidCsgTpHwUkgrECRNEKXMehtRvZwSXSCgur8m7AgMF0sddb0z/m3ffm3jkzd+57b3/5zOcPa/fcc86dvfKZmTNnzjkr9hw4gSDIlRaAqzZusCtdvWa2+/P6kfbQhTg5M1speftD11umj08h5B+YnOVvAbh6zazdoPx0Fr4/g4tl1+dPqRX/ZLV/TMifJORPvb3KRbVyBMEFTKtpg2I8pUcnjT8qkaNWmiqNclu11bSzO0bI7yEf+cMCBFnTsQCNfL5uHWolx+XBqWqfBI1LPsoJ2YPm/2k6IOQP+fuTPyxAkDUtsCEiZ9CENqZ5OW8lw172jN729qRfWBnHIX/I37f8YQGCrClFgZLjG6kxbdfn5XIs8joa9pj2vDfkD/k98ocFCLImsQ6gjS17rm2Xy7Gu1dHweH52ecgf8suSsABB1rTABlPTMWRz303j3Z+f/c8J6D4f4ffwKvXnSX5NqpC/Un9Zyx8WIMiazjoAjQa5AqdFYeVqHEHlf3X7DgBrv9krJ2vwL6++XGlF9VNx4vrR3C0fuvy8XMtUCfkvDPnDAgRZ04kCFetk9Fs6CsvRRpXU/QSV0FOaD5T76b2FRnPTDPJhyd9vJCTkX67yhwUIsqZjAfy+lxZ/JS//158fA7AWp5Ivo6fafEBDZpBLBpe/KZoXKwn5l7L8YQGCrFmx58CJ7qbmbebmZjl2aWz9/RfHUWh3P1fuPYViPqD1XEtlU3Z/8lPUoj89ZPdcS8iPxZY/LECQNaVcIB7H1Wbc2rz+az+aAfCPfzhS+0qq+TR7s+yZZHCO4y79yV/EDYA6HaYR8hPLUf6wAEHWlOYAEjki+TijuP6fzPXG2eeu+Lj2lT9759Luz0+3ZlFeGZBvMcZx7cFMtvy2hvD4pvaKZu1bQn5DtoWRPyxAkDUr9hw4ccuW36BftLEixyLP9Hz4zpMA3nr5M90SzQ5w3X/tjhMAHvvp+m6JlinEqXh7Pz/yHoA+5PfrIa03jZBfe+PSlD8sQJA1pSiQPbbkeHr28T8H8IsXvo1Co28avwIAsCrZw12YA3Bs4p1KD/d99UmUV+yK3JLq7F6LQfUnP2/l0UNazXJ5yJ9macofFiDImlI2qEQbteSv33f7DmqNYiZA2r2wA1W47u94/z99Ej3vn55oGX8WTeWX+E+z0VoVEY+Qv8fSlz8sQJA1NadD26OHNDdBawLcDmiQ7udtB8kDsfFEkTU0j1Y7s3I+CPk95YPIHxYgyJqOBaAsDsKfjyFH3sSbNzjaTSfbNt09xBmW/B6ftam/G/L7JVl4+cMCBFmTuB/g4FQbTcYx3wv2DM50y6/beqr785uHx3oNfnes2yq1P7iH3FeqjeZB5OcM4k2G/MTykj8sQJA1pSgQj7ySV6eNY5mFt+/uewHc9spzKOt+gkrIDlDN+/Y+afSsYY/mQeT34GkV8hPLRf6wAEHWlE6Gk2jjWI7C735nL4CvHZ8B8LkD6d5+9s4MgO/+Ym+3pL/dnJW7pYYivwdP1CLk5yx9+cMCBFmTyAaVY0i7tY+gNd3O7jC0UeT9024vgu8ae+3ENPRdYJ6cEH6awODy++HZhTzfMORfvvKHBQiyppQNas+gNe9q4pUXAWz/m28AePp73+mWU8m6S+YAPP2tx7vlf/TwNwA88/yLAL50zxe65dpeHk+++CDyc+R9t/7Mk5B/OcofFiDImhV7Dpz4wi2lWTqNnqY7NQ/ve7778/uftFDo/tF2OuGU634PyV2kdCrBUOTXdM+wMiVDfpvFkj8sQJA1xi2RiRFjsPW2e6B7bNI7bHpKMO+n+5ZpvWZT+bnWkX/FIFmK/GnIr7FY8ocFCLJG3REmR4xnps/bSmxNQKdDyhumtJ5tSUL+lIQhf1X+sABB1nTuCbZjqzKvWj7lJVo/Hr/Qf7tTtzzkD/n7lj8sQJA1pTmAlm/tmV9LZG/JmTjqR3O9htDe6GkV8ucsf1iAIGvUWyK10ezfy+PP2bCzNaRXJwn5bTm18pA/LECQNYk5AOEZf/5Ww4KPZnu9MOSfDy48+cMCBFmjrgR7VuxsPN6enNf7swjtmiF/yG9DNVfsOXBiQEGDYPkSLlCQNS2Y11wSdoLR4PR3uAUc13QSIb9NzvK3AFy9ZrYuz86bX6GJ5V8L9K/zdelbfjt6vfTlt1n68i+F7x8uUJA1NTfESOz8Cu3MFv7UQ7mt2iq5I4mwYwLFefZtFHnkBbyk17Zcp/oWyeDya8T3l2+R+OUPCxBkTeJ+gKY7OKVe0U4Csz0/jub/aTpMyu/LDBkU7c7aweX3vDe+/+DfPyxAkDWd06HpFzmDJjyjmbeSYS97Rm97q9KvrYxjQ36Pvrl350RtHclzD40ny1NvrPG84/vX1pEM6/uHBQiyphQFSo5v1M217b2eUpfwOhqenEHtvbK+RGqdkRu3G/Vbc3MAZmYAYG7y9WQPhNRMdgYlJ76/xvx9/7AAQdYYJ8NVsWMFdrnUGbb+8Ehl15e+YFOt06kzRv20UcSlZ0durtRZOTcL4MPZduUtmjayT72M71+qM8/fPyxAkDWdc4Hol/5279t4fEetprPnivz81nKCawWP1uHMnKpKO7J+RNQaATAGoNBP5K3a2kiTXyO+f6eHoX7/sABB1pRuiZQriFoU2b/n3z4pgErs2G2tr1yRn+PXPVu3nwcwNXXOqFNwFsC7xy5OP2y1AIxtbKPQRh8d7kUtuB7S5I/vX8cwv39YgCBrSneEFc5VOorMaRrB0J4WJXYmiRUz4f3wnEFb91y+6WylZIpprw0bVgLYsX4VgJdPnkFKM8keqNXh/Reh67m2WgAu25rWQ9yVje+/WN8/LECQNerJcJ59OrKmH8+ef0JmwEu49+nXPaQzNDTdI1tRHfr38k29OqSN5lqtriQzh/Z3W2n5NkR8/4X5/mEBgqxpoTN8uQ9aRdM9XDc01UNafW0nUdM8cq57ZIThgS2jlfqavtFqkoe6+8jpylPuv2L7GRR6SNL9i+L7Y/G+f1iAIGtKuUA8Dq1FDDQ9RBGAbTUHZKSRPTc95YuQ2SaFx9nzGqVGIbjuKWkRBal7eM/8KXmlatyaEd+fWMjvHxYgyJpENuggGoVHAzw3fWunGPR32iNB3iePNqw7vQrAji1VjcL1BI8tSN3jiUho/mgRnTgL4O1D9fLH91/I7x8WIMiazslw9Isc69Ir5f6i52YOeaKL51x5+Rb+tFt/utfc0lI3baqWSN2jeZxUk+rwmlRO2oXrIf4z11j/+0HV9716zex08QOVxPeXzPf3DwsQZE1pDmDvWLXPhPF4ilrNcnla29kycGSWCOH3OLWa8mmpByV3hXo4+i4APPLoOAB8kJY8vr9dUz4t9dDX9w8LEGRNKRtU4j9N0n+ajdaqiHhoGYv909TjlDWlXvHEs6nOE68CQLsFAHedBYBLRXwmvr9dc/6+f1iAIGtqTof2RJE1NI9WO7NyWEjNwfF7nHa2idaDLJ+dGwXwwq0AcM0aADg5A6T2T0ni+8/39w8LEGRNxwJwbeRffbTPD/O3stv69dP6O8cBAGeg6xUeVyakN0l1djuyUzTdQ1DsmbzP92Z6/5KfvW0DXjzeqRnfn7OQ3z8sQJA1ifsBDk51xkcfDOJNavqs6Xk1k2+sArB63TkU2oV7ov4INKFFG6R3K9l8/RkAk0erb5HfNr4/sfDfPyxAkDWlKBCPHJNXqukh/47Spq1sL1bTRqRBd21pA3jwSK++9Dg5XIvItUOtpgbPPZSQVLu29P4K+R3i+xML+f3DAgRZUzoZTqLpof58TU/Uwr9+yY+klP1IfaBFpjWdodWXrWRMg7fSPFFbfiK+/3x//7AAQdYkskHtrPRBkOdaaruQONoJBZo8l6wE6k6Z1PYW8biER1dpMQobTf74/gv//cMCBFlTyga1IwBNsws1PeE517LpCQX8bMqd1wHAg0dGUfh/pDl2KzqJe5AeraOtSvpjGpr88f0X/vuHBQiyJnFLJO0JanoWgKZ7hhWvME4wPjkzK+uTJ0pz/9Vr63WPxD6pxs5z1LQdR37h+P6chfn+YQGCrDFuiayOeBuudexzBzQ8J9BXIhXT5YYUL6eYCXmiD70JFFmBq9dW80y0qIK9g6lG94i1T9KCtAZJVORP/qXx/Yn5/v5hAYKsUXeEyRHviVTwthJbk1EMQZ5Co/Ws3VLo10NS3zTVPTK+IXXPaXYGAd93a3/J+P4L8/3DAgRZ07kn2I4Na/dVSZ1UF2Ou92v9t1NpmS1cDxE7ARR66PzHowA+OQf49pvy0+gJbY1T6h6KhOy6HRV5KlmZ8f27LPz3DwsQZE1pDqDli3viAxLt3iuZc1KnjZrtSOJ339Jbtm1oo9BDBPdKCfJNNe3iiSvLfEPygIvcydoO4vsvwvcPCxBkjXpLpP8ucg1/zonnlOOC+mwZGQunt5Aeop/33dFGEamgvUKl04M/FV2vMF7bgUeaiSIeUv27Kvn0iO+/eN8/LECQNYk5ANF07m+3GhZcG2n59BpSd5KGeMmMfNvwv13L45doeZrx/Rf++4cFCLJGXQn2n0ts99A0w8SfBdk0X5JL5a+5WPLH918Y+VfsOXDC2SAILjzCBQqypgXgqo01x/DZCVKD09/hHACmj08h5B+YnOXv3BJZlyfozQ/RxPKvZfrXKbuE/EmWvvz26sfCyB8uUJA1NTfESOz8EO3MGf7UQ7mt2iq5o8om5PcwuPx2TKaI0LdRvcmYl/TaytuO+VskfvnDAgRZk7gfoOkOVKlXtJPMbM+Po/l/mg4L+Zea/L7MokHR7jz2yx8WIMiazunQ9Iv/dEhZzlvJsJc9o7e9VenXVsZxyL9k5ffo+3t3TtTWkTz30HiyPPVGa+YTFiDImsTJcNJPsufa9l5VqUt4HQ1PzqNnj2zIv/Dyy/oSqfVHbtxu1G/NzQGYmQGAucnXkz0Q0jLYGaxhAYKsMU6Gq2LHCuxyqTNs/eGRyp8xr70x5Pe8V3tq15e+eFOt36kzRv20UawLzI7cXKmzcm4WwIez7cpbNGvAz1kKCxBkTedcIPqlv9MHbDy+o1bT2XPI73kLFkp+uQ+La2WP1ufMnKpKO7J+RNQaATAGoLAPNFuwrUHsCQ6C8i2RcgVRiyJru3VkuZapwkvs2G2trxzyLyn5OX7dv3X7edTdLFZwFsC7xy5OP2y1AIxtbKOwBh8d7kWNuB2IOUAQlO8IK5yrdBSZ0zSCoT0tSuxMkrS2k/2E/IsrP8/ZtHX/5ZvOVkqmmPXg50LT2aDSMsgeqNXh/RehO3NotQBctjVtB+hrhwUIskY9GU7zHZvGjzU0L1YiM+A9vYX8NsOVn3v/ft1v3xGm6X7ZiurQv5dv6tUhazDXanUlmTm0v9sqokBBgBY6w5f7oFU03cN1Q1M9pNXXdhIZeYUhvyGPxhDlT8J1v4zwyBveNX2v1aQZgnbDQOc+ge1nUNgBSdwSGQTlXCAeh9YiBpoeogjAtpoDMtLInpue8kWE/Isrv8z2KTz+ntcuNTph3woskbqf98yf0qxAWzcICxBkTSIbdBCNwqMBnpvK5W4jXt6fHgr5icWSn7x/Hu1Zd3oVgB1bqhpd3glJSN3viQhp84EiOnQWwNuHqtKGBQiypnMyHP2inbDOdQn3Fz03i8gTXTzn4su38Kfd+tPlDkP+RZH/5MwsP8NHctOmaol9H7CsSXV4TSon7c7tAP+ZW4zSDTQA/V1xLlCQO6U5gOeGD4nfU9RqlsvT2s6WgfejEfLPt/yEzNIh/B6/VlM+LfWg5A5RD0ffBYBHHh0HAHZ3fFiAIGtK2aASz4gn/KfZaK2KiIeWsWgR8i+u/DZNPX5ZU+p1z3oC1XniVQBotwDgrrMAcGnsCQ4CouZ0aE8UWUPzaLUzK+eDkN9TPlz5pebm+D1+O9tH60GWz86NAnjhVgC4Zg0A0K3xFGELCxBkTccC8BVE/+qjtie1aSu7rUc/hfy2DB55BpG/U/POcQDAGeh6ncf1CenNU53djuwgTfcTFPsn7/+9md6/NM/ZtgEvHg8LEORN4n6Ag1Od8dEHg3iTmj7znFcT8tv999fWLz9n8o1VAFavO4dCu/OZgH8FgNCiPXJ2Idl8/RkAk0erb+HfNixAkDWlKBCPHJNXqukh/47Spq1sL9bWRiG/zfzJTxZs15Y2gAeP9OpLj5/Dtbhcu9VqavDcTwlJtWtL76+IdYAgKJ8MJ9H0UH++pidq4V+/5EdShvweFlJ+qY+1lQFNZ2v1ZSsZU+KttJlAnAoRBKlsUDsrfRB4dqG9C4mjnVAga4b8iys/cclKoO6UT21vF48LeWyFFiOy4fKHBQiyppQNakcAmmYXanpC81+lNuJ92m8P+fm7eP2FlJ92n+28DgAePDKKwv8mzb1bsQncg/dofW1V2B9T4oQFCLImcUsk7QlqehaApnuGFa+oO8GYtwr5F1T+kzOzsj7NBCj2snptve6X2CcF2XmmmrXhxMlwQWDdElkd8TZc69jnDmjYuip5TsG01U/I32Ne5e82pPUKilnRTOChN4EiK3P12mqejxbVsXeQ1eh+sfZMVojWgAkuf1iAIGvUHWFyxHsiFbytxNZkFEOQp9BoPduShPwpCedFfr4kjCZ2QOr7prpfxpek7j/NzoDg+55jJTgIinuC7diwdl+V1El1MeZ6v9Z/O1W3PORfXPm78DVmnr+0E0BhB85/PArgk3OAb78vvw2A0NaYpe6nSNSu21GRJ7JBg6BDaQ6g5Yt74gMS2VsykoB6bVSv4bQ3elqF/MOSn7+XR6W2bWijsAMEnxUQNDfQtLsnri/zPWkGUuSupluFBQiyRr0lUtNG/r1I/pwTzynHBekYSMhvy6mVD0t+XlOuRdBbyA7Qz/vuaKOIFNFerdLpzZ+KrlcYr+3AI/1EEY+q/l18P0NYgCBrEnMAounc3241LLg28pxzLwn5B8GW33O6NZeQNPRL5sqDDf/btX0UktgPEAQd1JVg/7nEdg9NM0z8WZB2zZB/ceW3pfLXnG/5V+w5cMLZIAguPMIFCrKmBeCqjTXH8NkJUoPT3+EcAKaPTyHkH5ic5e/cElmXJ5jOD7Gj1/7ohBaZdv4xfctvE/Kn3p5gWcsfLlCQNWoUyJ5TFxHWNqo30fKSXlt5Wy1/i6Q84tW4QXJHlY2d36KdmcOfegj5NZaa/GEBgqxJ3A+gnVnAnw4L7c5azf/TdEAjn7VbR76L0E5is2c+nJB/ucgfFiDIms7p0PRLHxEAAPfunOjjxc89NJ4sT72xxvMz5Nf7rJbzVjJsZ0ckbG9V+rUVPRTyL6L8YQGCrEmeDAfUzbil1h+5cbv1mrk5ADMzADA3+XqyB0JaBjsDkZPUT0Yrrb62E7e/yLTW1rPHN+Sfb/nDAgRZo64DSL+tqdbv1Bmjftoo1gVmR26u1Fk5Nwvgw9l25S2aNbBPvbT3yNolWrnUVVodDf9O35B/IeUPCxBkTedcIPqFxoTcR8O1skfrc2ZOVUfqyPoRUWsEwBiAwj7QbMG2Bl2xK/Jr9JeG5fF9tZrOnrOV/5l7f69S8qXn/qtWKl4ycf8t3Z/Hn/q58S5JzAGCoHxL5CC6f+v286i7GargLIB3j12sSNQCMLaxjcIafHS4FzXidqA7yivye6LI2m4jWa5lqvASe+2i1lfOSv57Pv+XAL667jCAu/9ibaVPsgmPv781+UaC2hK8h1fuv6Xb9vm933fKHxYgyJrSHWE8Z9PW/ZdvOlspmWLWg5/rS2c7Sssge6BWh/dfhO7ModUCcNnWtB3gU4linY9+S0eROU0jGNrToqS6dt40Az4H+W3dT3TKf3AYwFP3/UPl6f3PftPZlt71vX/dXSt/WIAgazoWgHv/ft1v3/Gk6X7ZiurQv5dv6tUhazDXanUlmTm0v9tKy/cgNN+3afxYQ/PCJTID3tPbhSe/5NjEOwAmJ3v/H0iL07+bJ75eebp5c/X/0is/+EA8rf7vsuUPCxBkjboSzHW/jPDIG7o1fa/VpBmCdkJ85zz47WdQ2AFJ1089OAXyOxMLDAB03cl1Q1M9qtXXdtIZebWZyM8h3b9p/AoAQM8OkEYnXU4lpThPR9/36kubcPL0UQBANY6kyR8WIMiakgWQ2T6Fx9/zq6RGJ+xbXSVS9/Oe+VOaFajrBgweh9YiHpoepQjYtpoDPtLInpueUkZc2PJLyA4QXJdzv5/Xof+H/CmHyn/8Zz8CgO//0ClzWIAgaxJzAPL+ebRn3elVAHZsqWp0eacfIXW/JyKkzQeK6NBZAG8fsv4YYhCNyKNhHk2mnWLA90Y11aMXtvwU3aeI/lvvTDr629z9SdZ/6x0AuPaKzUitG3jkDwsQZE03G9QaJTdtqpbY97nKmlSH16Ry0u7cDvCfucUo3SACALh6zex08QOVaCfEc13I/V3PzSjyRCPPuf7yLfxpt35W8nO4tv6/fQcBPPDrf6vUKWYF3GvYXHn68Ok/BrD/tm3VP5Jhyx8WIMiaxBxAZukQfo9fqymflnpQcoeoh6PvAsAjj44DwAdI4rmhRGvl8XS1muXytLa2ZeD9aCx3+TWe+uJPAABrUV4bLlYJekxO9lYJ6OlToLY/AfDAB39Xqe+RPyxAkDXqSjCnqccva0q97llPoDpPvAoA7RYA3HUWAC4V8Q3/PlQN/2k2Wqsi4qFlXFrkKf/utd+qlJDu333llwHc3dHurP6VXwbwwCTNFvhacq83zQ5ohAUIsiZhAaTm5vg9fjvbR+tBls/OjQJ44VYAuGYNANCt39odgBxPFFxD82i1MyvngwtPfor5PDb6QwDHWDnX/TadOqcB4LGJ6orvo/g6gK/AigtxwgIEWVM+Ge7OcQDAGeh6ncf1CenNU53djuwgTfcTFPsn7/+9md6/5Kdu24AXj3dqcmvgXz3V9tQ2bWW39ejX3OSn+D1B1oD28q67slennAVk9UM98D6BX8G35yEsQJA1iTnA5BurAKxedw6FduczAf8KAKFFe+TsQrL5+jMAJo9W3yJ1DPdrD061k3U8DOINa/rYc95ODvL/+8RuADfcsAPAmvW9x9xff/+/fwXgw5NTAF4ee7vSw7FTE5W25R56bX/5y5ed8ocFCLKmdEPMri1tAA8e6T2WHj+Ha3G5dqvV1OC5nxKSatcWQPfteOSbvFJNj/p3xDZtZXvhtjbKR/51v/1Z4y3r8FkAO0ZPVMpfOz1utCI+fG0K+l8h5Q8LEGRN6WQ4jtTH2sqAprO1+rKVjCnxVtpMgB9JqY14TQ/15yt7oi7+9dec5Z9v7L+Cyx8WIMiaRBTokpVA3Smf2t4uHhfy2AotRmTDbwngaNmOWlZ6U+S5nNouKiltyM/rU+Reo7PrV/zXoD0D8iQIzv34TOVdtvxhAYKsSZwNuvM6AHjwyCgK/5s0927FJnAP3qP1tVVhf0xJop2YwGmaHanpOc+5nE1PWMhB/r3/8T/G0/nDlj8sQJA1nT3BUivQTIBiL6vX1ut+iX1SkJ1nqlkbjhzT/KzjpmcZaLpzWPGWuhOYeasLX/5y3o7gSgB4DNV5As8D1ZlAYW3+9A+uZeVp+cMCBFlTuime4rU0Z6eZwENvAkVW5uq11aGnRXXsHWQ1ul+sPZMVojVgoqvtplN/knbmvQ3Xmva5CRqeE/QrkZaQf8HQ5A8LEGRN4pZIvx2Q+r6p7pfxJan7T7MzIPi+VVuryRHviVTwthJbk1EMTZ5Co/Wcm/xvAAD+9p/+GcC3v/LXRluCIvplJmpbUf+2VESsBAdBeSWYrxHy/I2dAAo7cP7jUQCfnAN8+335bQCEtsYsdT9Fonbdjoo8lazGZBSL4HpIu1vFk+/u92v9t2vlJv/nf/83UcRnbD09OL/zW9dC/D9JyhYWIMiaRC4QvzuWvLdtG9oo7ADBZwUEzQ007e6J68t8T5qBFLl7tR2oI94T3/D0pp2YWadN6zW09kZPq+Ulfzk2b6H15s9g9cgfFiDImpIF0GLJNObIDtDP++5oo4gU0V6t0unNn4r3rKgXhUf6iSIeVR21lXx0pLSFrT8GOe1My6D0e9WSkN+WUysfXP6wAEHWlCyA53RiPv5IQ79kRo5tuBbX8sglWp5jk3hIs1bDgv+NIb+/1bCQ8ocFCLLGdTo0x39escfbk3EJf96IXdMvp91DyK9xYci/Ys+BEwMKGgTLl/8HBOpEpFfsR1QAAAAASUVORK5CYII=\" class=\"ndarray_image_preview\" /><pre class=\"ndarray_raw_data\">array([[[180, 200, 230],\n",
              "        [180, 200, 230],\n",
              "        [180, 200, 230],\n",
              "        ...,\n",
              "        [180, 200, 230],\n",
              "        [180, 200, 230],\n",
              "        [180, 200, 230]],\n",
              "\n",
              "       [[180, 200, 230],\n",
              "        [204, 230, 255],\n",
              "        [204, 230, 255],\n",
              "        ...,\n",
              "        [204, 230, 255],\n",
              "        [204, 230, 255],\n",
              "        [180, 200, 230]],\n",
              "\n",
              "       [[180, 200, 230],\n",
              "        [235, 245, 249],\n",
              "        [204, 230, 255],\n",
              "        ...,\n",
              "        [204, 230, 255],\n",
              "        [204, 230, 255],\n",
              "        [180, 200, 230]],\n",
              "\n",
              "       ...,\n",
              "\n",
              "       [[180, 200, 230],\n",
              "        [235, 245, 249],\n",
              "        [235, 245, 249],\n",
              "        ...,\n",
              "        [204, 230, 255],\n",
              "        [235, 245, 249],\n",
              "        [180, 200, 230]],\n",
              "\n",
              "       [[180, 200, 230],\n",
              "        [235, 245, 249],\n",
              "        [235, 245, 249],\n",
              "        ...,\n",
              "        [204, 230, 255],\n",
              "        [204, 230, 255],\n",
              "        [180, 200, 230]],\n",
              "\n",
              "       [[180, 200, 230],\n",
              "        [180, 200, 230],\n",
              "        [180, 200, 230],\n",
              "        ...,\n",
              "        [180, 200, 230],\n",
              "        [180, 200, 230],\n",
              "        [180, 200, 230]]], dtype=uint8)</pre></div><script>\n",
              "      (() => {\n",
              "      const titles = ['show data', 'hide data'];\n",
              "      let index = 0\n",
              "      document.querySelector('#id-a6ed5851-d1bd-4225-8a01-72aec18d328a button').onclick = (e) => {\n",
              "        document.querySelector('#id-a6ed5851-d1bd-4225-8a01-72aec18d328a').classList.toggle('show_array');\n",
              "        index = (++index) % 2;\n",
              "        document.querySelector('#id-a6ed5851-d1bd-4225-8a01-72aec18d328a button').textContent = titles[index];\n",
              "        e.preventDefault();\n",
              "        e.stopPropagation();\n",
              "      }\n",
              "      })();\n",
              "    </script>"
            ]
          },
          "metadata": {},
          "execution_count": 23
        },
        {
          "output_type": "stream",
          "name": "stdout",
          "text": [
            "Agentımız 0(sol) yönüne gidecek\n",
            "\n",
            "0 0.0 False False {'prob': 0.3333333333333333}\n"
          ]
        },
        {
          "output_type": "execute_result",
          "data": {
            "text/plain": [
              "array([[[180, 200, 230],\n",
              "        [180, 200, 230],\n",
              "        [180, 200, 230],\n",
              "        ...,\n",
              "        [180, 200, 230],\n",
              "        [180, 200, 230],\n",
              "        [180, 200, 230]],\n",
              "\n",
              "       [[180, 200, 230],\n",
              "        [204, 230, 255],\n",
              "        [204, 230, 255],\n",
              "        ...,\n",
              "        [204, 230, 255],\n",
              "        [204, 230, 255],\n",
              "        [180, 200, 230]],\n",
              "\n",
              "       [[180, 200, 230],\n",
              "        [235, 245, 249],\n",
              "        [204, 230, 255],\n",
              "        ...,\n",
              "        [204, 230, 255],\n",
              "        [204, 230, 255],\n",
              "        [180, 200, 230]],\n",
              "\n",
              "       ...,\n",
              "\n",
              "       [[180, 200, 230],\n",
              "        [235, 245, 249],\n",
              "        [235, 245, 249],\n",
              "        ...,\n",
              "        [204, 230, 255],\n",
              "        [235, 245, 249],\n",
              "        [180, 200, 230]],\n",
              "\n",
              "       [[180, 200, 230],\n",
              "        [235, 245, 249],\n",
              "        [235, 245, 249],\n",
              "        ...,\n",
              "        [204, 230, 255],\n",
              "        [204, 230, 255],\n",
              "        [180, 200, 230]],\n",
              "\n",
              "       [[180, 200, 230],\n",
              "        [180, 200, 230],\n",
              "        [180, 200, 230],\n",
              "        ...,\n",
              "        [180, 200, 230],\n",
              "        [180, 200, 230],\n",
              "        [180, 200, 230]]], dtype=uint8)"
            ],
            "text/html": [
              "<style>\n",
              "      .ndarray_repr .ndarray_raw_data {\n",
              "        display: none;\n",
              "      }\n",
              "      .ndarray_repr.show_array .ndarray_raw_data {\n",
              "        display: block;\n",
              "      }\n",
              "      .ndarray_repr.show_array .ndarray_image_preview {\n",
              "        display: none;\n",
              "      }\n",
              "      </style>\n",
              "      <div id=\"id-4b594a3c-f122-4578-b117-bd4a3befb2b3\" class=\"ndarray_repr\"><pre>ndarray (256, 256, 3) <button style=\"padding: 0 2px;\">show data</button></pre><img src=\"data:image/png;base64,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\" class=\"ndarray_image_preview\" /><pre class=\"ndarray_raw_data\">array([[[180, 200, 230],\n",
              "        [180, 200, 230],\n",
              "        [180, 200, 230],\n",
              "        ...,\n",
              "        [180, 200, 230],\n",
              "        [180, 200, 230],\n",
              "        [180, 200, 230]],\n",
              "\n",
              "       [[180, 200, 230],\n",
              "        [204, 230, 255],\n",
              "        [204, 230, 255],\n",
              "        ...,\n",
              "        [204, 230, 255],\n",
              "        [204, 230, 255],\n",
              "        [180, 200, 230]],\n",
              "\n",
              "       [[180, 200, 230],\n",
              "        [235, 245, 249],\n",
              "        [204, 230, 255],\n",
              "        ...,\n",
              "        [204, 230, 255],\n",
              "        [204, 230, 255],\n",
              "        [180, 200, 230]],\n",
              "\n",
              "       ...,\n",
              "\n",
              "       [[180, 200, 230],\n",
              "        [235, 245, 249],\n",
              "        [235, 245, 249],\n",
              "        ...,\n",
              "        [204, 230, 255],\n",
              "        [235, 245, 249],\n",
              "        [180, 200, 230]],\n",
              "\n",
              "       [[180, 200, 230],\n",
              "        [235, 245, 249],\n",
              "        [235, 245, 249],\n",
              "        ...,\n",
              "        [204, 230, 255],\n",
              "        [204, 230, 255],\n",
              "        [180, 200, 230]],\n",
              "\n",
              "       [[180, 200, 230],\n",
              "        [180, 200, 230],\n",
              "        [180, 200, 230],\n",
              "        ...,\n",
              "        [180, 200, 230],\n",
              "        [180, 200, 230],\n",
              "        [180, 200, 230]]], dtype=uint8)</pre></div><script>\n",
              "      (() => {\n",
              "      const titles = ['show data', 'hide data'];\n",
              "      let index = 0\n",
              "      document.querySelector('#id-4b594a3c-f122-4578-b117-bd4a3befb2b3 button').onclick = (e) => {\n",
              "        document.querySelector('#id-4b594a3c-f122-4578-b117-bd4a3befb2b3').classList.toggle('show_array');\n",
              "        index = (++index) % 2;\n",
              "        document.querySelector('#id-4b594a3c-f122-4578-b117-bd4a3befb2b3 button').textContent = titles[index];\n",
              "        e.preventDefault();\n",
              "        e.stopPropagation();\n",
              "      }\n",
              "      })();\n",
              "    </script>"
            ]
          },
          "metadata": {},
          "execution_count": 23
        },
        {
          "output_type": "stream",
          "name": "stdout",
          "text": [
            "Agentımız 3(yukarı) yönüne gidecek\n",
            "\n",
            "1 0.0 False False {'prob': 0.3333333333333333}\n"
          ]
        },
        {
          "output_type": "execute_result",
          "data": {
            "text/plain": [
              "array([[[180, 200, 230],\n",
              "        [180, 200, 230],\n",
              "        [180, 200, 230],\n",
              "        ...,\n",
              "        [180, 200, 230],\n",
              "        [180, 200, 230],\n",
              "        [180, 200, 230]],\n",
              "\n",
              "       [[180, 200, 230],\n",
              "        [204, 230, 255],\n",
              "        [204, 230, 255],\n",
              "        ...,\n",
              "        [204, 230, 255],\n",
              "        [204, 230, 255],\n",
              "        [180, 200, 230]],\n",
              "\n",
              "       [[180, 200, 230],\n",
              "        [235, 245, 249],\n",
              "        [204, 230, 255],\n",
              "        ...,\n",
              "        [204, 230, 255],\n",
              "        [204, 230, 255],\n",
              "        [180, 200, 230]],\n",
              "\n",
              "       ...,\n",
              "\n",
              "       [[180, 200, 230],\n",
              "        [235, 245, 249],\n",
              "        [235, 245, 249],\n",
              "        ...,\n",
              "        [204, 230, 255],\n",
              "        [235, 245, 249],\n",
              "        [180, 200, 230]],\n",
              "\n",
              "       [[180, 200, 230],\n",
              "        [235, 245, 249],\n",
              "        [235, 245, 249],\n",
              "        ...,\n",
              "        [204, 230, 255],\n",
              "        [204, 230, 255],\n",
              "        [180, 200, 230]],\n",
              "\n",
              "       [[180, 200, 230],\n",
              "        [180, 200, 230],\n",
              "        [180, 200, 230],\n",
              "        ...,\n",
              "        [180, 200, 230],\n",
              "        [180, 200, 230],\n",
              "        [180, 200, 230]]], dtype=uint8)"
            ],
            "text/html": [
              "<style>\n",
              "      .ndarray_repr .ndarray_raw_data {\n",
              "        display: none;\n",
              "      }\n",
              "      .ndarray_repr.show_array .ndarray_raw_data {\n",
              "        display: block;\n",
              "      }\n",
              "      .ndarray_repr.show_array .ndarray_image_preview {\n",
              "        display: none;\n",
              "      }\n",
              "      </style>\n",
              "      <div id=\"id-2764735e-e187-48c2-89b3-4f63dba73ab4\" class=\"ndarray_repr\"><pre>ndarray (256, 256, 3) <button style=\"padding: 0 2px;\">show data</button></pre><img src=\"data:image/png;base64,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\" class=\"ndarray_image_preview\" /><pre class=\"ndarray_raw_data\">array([[[180, 200, 230],\n",
              "        [180, 200, 230],\n",
              "        [180, 200, 230],\n",
              "        ...,\n",
              "        [180, 200, 230],\n",
              "        [180, 200, 230],\n",
              "        [180, 200, 230]],\n",
              "\n",
              "       [[180, 200, 230],\n",
              "        [204, 230, 255],\n",
              "        [204, 230, 255],\n",
              "        ...,\n",
              "        [204, 230, 255],\n",
              "        [204, 230, 255],\n",
              "        [180, 200, 230]],\n",
              "\n",
              "       [[180, 200, 230],\n",
              "        [235, 245, 249],\n",
              "        [204, 230, 255],\n",
              "        ...,\n",
              "        [204, 230, 255],\n",
              "        [204, 230, 255],\n",
              "        [180, 200, 230]],\n",
              "\n",
              "       ...,\n",
              "\n",
              "       [[180, 200, 230],\n",
              "        [235, 245, 249],\n",
              "        [235, 245, 249],\n",
              "        ...,\n",
              "        [204, 230, 255],\n",
              "        [235, 245, 249],\n",
              "        [180, 200, 230]],\n",
              "\n",
              "       [[180, 200, 230],\n",
              "        [235, 245, 249],\n",
              "        [235, 245, 249],\n",
              "        ...,\n",
              "        [204, 230, 255],\n",
              "        [204, 230, 255],\n",
              "        [180, 200, 230]],\n",
              "\n",
              "       [[180, 200, 230],\n",
              "        [180, 200, 230],\n",
              "        [180, 200, 230],\n",
              "        ...,\n",
              "        [180, 200, 230],\n",
              "        [180, 200, 230],\n",
              "        [180, 200, 230]]], dtype=uint8)</pre></div><script>\n",
              "      (() => {\n",
              "      const titles = ['show data', 'hide data'];\n",
              "      let index = 0\n",
              "      document.querySelector('#id-2764735e-e187-48c2-89b3-4f63dba73ab4 button').onclick = (e) => {\n",
              "        document.querySelector('#id-2764735e-e187-48c2-89b3-4f63dba73ab4').classList.toggle('show_array');\n",
              "        index = (++index) % 2;\n",
              "        document.querySelector('#id-2764735e-e187-48c2-89b3-4f63dba73ab4 button').textContent = titles[index];\n",
              "        e.preventDefault();\n",
              "        e.stopPropagation();\n",
              "      }\n",
              "      })();\n",
              "    </script>"
            ]
          },
          "metadata": {},
          "execution_count": 23
        },
        {
          "output_type": "stream",
          "name": "stdout",
          "text": [
            "Agentımız 1(aşağı) yönüne gidecek\n",
            "\n",
            "0 0.0 False False {'prob': 0.3333333333333333}\n"
          ]
        },
        {
          "output_type": "execute_result",
          "data": {
            "text/plain": [
              "array([[[180, 200, 230],\n",
              "        [180, 200, 230],\n",
              "        [180, 200, 230],\n",
              "        ...,\n",
              "        [180, 200, 230],\n",
              "        [180, 200, 230],\n",
              "        [180, 200, 230]],\n",
              "\n",
              "       [[180, 200, 230],\n",
              "        [204, 230, 255],\n",
              "        [204, 230, 255],\n",
              "        ...,\n",
              "        [204, 230, 255],\n",
              "        [204, 230, 255],\n",
              "        [180, 200, 230]],\n",
              "\n",
              "       [[180, 200, 230],\n",
              "        [235, 245, 249],\n",
              "        [204, 230, 255],\n",
              "        ...,\n",
              "        [204, 230, 255],\n",
              "        [204, 230, 255],\n",
              "        [180, 200, 230]],\n",
              "\n",
              "       ...,\n",
              "\n",
              "       [[180, 200, 230],\n",
              "        [235, 245, 249],\n",
              "        [235, 245, 249],\n",
              "        ...,\n",
              "        [204, 230, 255],\n",
              "        [235, 245, 249],\n",
              "        [180, 200, 230]],\n",
              "\n",
              "       [[180, 200, 230],\n",
              "        [235, 245, 249],\n",
              "        [235, 245, 249],\n",
              "        ...,\n",
              "        [204, 230, 255],\n",
              "        [204, 230, 255],\n",
              "        [180, 200, 230]],\n",
              "\n",
              "       [[180, 200, 230],\n",
              "        [180, 200, 230],\n",
              "        [180, 200, 230],\n",
              "        ...,\n",
              "        [180, 200, 230],\n",
              "        [180, 200, 230],\n",
              "        [180, 200, 230]]], dtype=uint8)"
            ],
            "text/html": [
              "<style>\n",
              "      .ndarray_repr .ndarray_raw_data {\n",
              "        display: none;\n",
              "      }\n",
              "      .ndarray_repr.show_array .ndarray_raw_data {\n",
              "        display: block;\n",
              "      }\n",
              "      .ndarray_repr.show_array .ndarray_image_preview {\n",
              "        display: none;\n",
              "      }\n",
              "      </style>\n",
              "      <div id=\"id-e956d519-cd20-4510-9047-d4169e483422\" class=\"ndarray_repr\"><pre>ndarray (256, 256, 3) <button style=\"padding: 0 2px;\">show data</button></pre><img src=\"data:image/png;base64,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\" class=\"ndarray_image_preview\" /><pre class=\"ndarray_raw_data\">array([[[180, 200, 230],\n",
              "        [180, 200, 230],\n",
              "        [180, 200, 230],\n",
              "        ...,\n",
              "        [180, 200, 230],\n",
              "        [180, 200, 230],\n",
              "        [180, 200, 230]],\n",
              "\n",
              "       [[180, 200, 230],\n",
              "        [204, 230, 255],\n",
              "        [204, 230, 255],\n",
              "        ...,\n",
              "        [204, 230, 255],\n",
              "        [204, 230, 255],\n",
              "        [180, 200, 230]],\n",
              "\n",
              "       [[180, 200, 230],\n",
              "        [235, 245, 249],\n",
              "        [204, 230, 255],\n",
              "        ...,\n",
              "        [204, 230, 255],\n",
              "        [204, 230, 255],\n",
              "        [180, 200, 230]],\n",
              "\n",
              "       ...,\n",
              "\n",
              "       [[180, 200, 230],\n",
              "        [235, 245, 249],\n",
              "        [235, 245, 249],\n",
              "        ...,\n",
              "        [204, 230, 255],\n",
              "        [235, 245, 249],\n",
              "        [180, 200, 230]],\n",
              "\n",
              "       [[180, 200, 230],\n",
              "        [235, 245, 249],\n",
              "        [235, 245, 249],\n",
              "        ...,\n",
              "        [204, 230, 255],\n",
              "        [204, 230, 255],\n",
              "        [180, 200, 230]],\n",
              "\n",
              "       [[180, 200, 230],\n",
              "        [180, 200, 230],\n",
              "        [180, 200, 230],\n",
              "        ...,\n",
              "        [180, 200, 230],\n",
              "        [180, 200, 230],\n",
              "        [180, 200, 230]]], dtype=uint8)</pre></div><script>\n",
              "      (() => {\n",
              "      const titles = ['show data', 'hide data'];\n",
              "      let index = 0\n",
              "      document.querySelector('#id-e956d519-cd20-4510-9047-d4169e483422 button').onclick = (e) => {\n",
              "        document.querySelector('#id-e956d519-cd20-4510-9047-d4169e483422').classList.toggle('show_array');\n",
              "        index = (++index) % 2;\n",
              "        document.querySelector('#id-e956d519-cd20-4510-9047-d4169e483422 button').textContent = titles[index];\n",
              "        e.preventDefault();\n",
              "        e.stopPropagation();\n",
              "      }\n",
              "      })();\n",
              "    </script>"
            ]
          },
          "metadata": {},
          "execution_count": 23
        },
        {
          "output_type": "stream",
          "name": "stdout",
          "text": [
            "Agentımız 0(sol) yönüne gidecek\n",
            "\n",
            "4 0.0 False False {'prob': 0.3333333333333333}\n"
          ]
        },
        {
          "output_type": "execute_result",
          "data": {
            "text/plain": [
              "array([[[180, 200, 230],\n",
              "        [180, 200, 230],\n",
              "        [180, 200, 230],\n",
              "        ...,\n",
              "        [180, 200, 230],\n",
              "        [180, 200, 230],\n",
              "        [180, 200, 230]],\n",
              "\n",
              "       [[180, 200, 230],\n",
              "        [204, 230, 255],\n",
              "        [204, 230, 255],\n",
              "        ...,\n",
              "        [204, 230, 255],\n",
              "        [204, 230, 255],\n",
              "        [180, 200, 230]],\n",
              "\n",
              "       [[180, 200, 230],\n",
              "        [235, 245, 249],\n",
              "        [204, 230, 255],\n",
              "        ...,\n",
              "        [204, 230, 255],\n",
              "        [204, 230, 255],\n",
              "        [180, 200, 230]],\n",
              "\n",
              "       ...,\n",
              "\n",
              "       [[180, 200, 230],\n",
              "        [235, 245, 249],\n",
              "        [235, 245, 249],\n",
              "        ...,\n",
              "        [204, 230, 255],\n",
              "        [235, 245, 249],\n",
              "        [180, 200, 230]],\n",
              "\n",
              "       [[180, 200, 230],\n",
              "        [235, 245, 249],\n",
              "        [235, 245, 249],\n",
              "        ...,\n",
              "        [204, 230, 255],\n",
              "        [204, 230, 255],\n",
              "        [180, 200, 230]],\n",
              "\n",
              "       [[180, 200, 230],\n",
              "        [180, 200, 230],\n",
              "        [180, 200, 230],\n",
              "        ...,\n",
              "        [180, 200, 230],\n",
              "        [180, 200, 230],\n",
              "        [180, 200, 230]]], dtype=uint8)"
            ],
            "text/html": [
              "<style>\n",
              "      .ndarray_repr .ndarray_raw_data {\n",
              "        display: none;\n",
              "      }\n",
              "      .ndarray_repr.show_array .ndarray_raw_data {\n",
              "        display: block;\n",
              "      }\n",
              "      .ndarray_repr.show_array .ndarray_image_preview {\n",
              "        display: none;\n",
              "      }\n",
              "      </style>\n",
              "      <div id=\"id-b9fa8a5b-36f0-483a-892e-4f5b0897ffe9\" class=\"ndarray_repr\"><pre>ndarray (256, 256, 3) <button style=\"padding: 0 2px;\">show data</button></pre><img src=\"data:image/png;base64,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\" class=\"ndarray_image_preview\" /><pre class=\"ndarray_raw_data\">array([[[180, 200, 230],\n",
              "        [180, 200, 230],\n",
              "        [180, 200, 230],\n",
              "        ...,\n",
              "        [180, 200, 230],\n",
              "        [180, 200, 230],\n",
              "        [180, 200, 230]],\n",
              "\n",
              "       [[180, 200, 230],\n",
              "        [204, 230, 255],\n",
              "        [204, 230, 255],\n",
              "        ...,\n",
              "        [204, 230, 255],\n",
              "        [204, 230, 255],\n",
              "        [180, 200, 230]],\n",
              "\n",
              "       [[180, 200, 230],\n",
              "        [235, 245, 249],\n",
              "        [204, 230, 255],\n",
              "        ...,\n",
              "        [204, 230, 255],\n",
              "        [204, 230, 255],\n",
              "        [180, 200, 230]],\n",
              "\n",
              "       ...,\n",
              "\n",
              "       [[180, 200, 230],\n",
              "        [235, 245, 249],\n",
              "        [235, 245, 249],\n",
              "        ...,\n",
              "        [204, 230, 255],\n",
              "        [235, 245, 249],\n",
              "        [180, 200, 230]],\n",
              "\n",
              "       [[180, 200, 230],\n",
              "        [235, 245, 249],\n",
              "        [235, 245, 249],\n",
              "        ...,\n",
              "        [204, 230, 255],\n",
              "        [204, 230, 255],\n",
              "        [180, 200, 230]],\n",
              "\n",
              "       [[180, 200, 230],\n",
              "        [180, 200, 230],\n",
              "        [180, 200, 230],\n",
              "        ...,\n",
              "        [180, 200, 230],\n",
              "        [180, 200, 230],\n",
              "        [180, 200, 230]]], dtype=uint8)</pre></div><script>\n",
              "      (() => {\n",
              "      const titles = ['show data', 'hide data'];\n",
              "      let index = 0\n",
              "      document.querySelector('#id-b9fa8a5b-36f0-483a-892e-4f5b0897ffe9 button').onclick = (e) => {\n",
              "        document.querySelector('#id-b9fa8a5b-36f0-483a-892e-4f5b0897ffe9').classList.toggle('show_array');\n",
              "        index = (++index) % 2;\n",
              "        document.querySelector('#id-b9fa8a5b-36f0-483a-892e-4f5b0897ffe9 button').textContent = titles[index];\n",
              "        e.preventDefault();\n",
              "        e.stopPropagation();\n",
              "      }\n",
              "      })();\n",
              "    </script>"
            ]
          },
          "metadata": {},
          "execution_count": 23
        },
        {
          "output_type": "stream",
          "name": "stdout",
          "text": [
            "Agentımız 3(yukarı) yönüne gidecek\n",
            "\n",
            "0 0.0 False False {'prob': 0.3333333333333333}\n"
          ]
        },
        {
          "output_type": "execute_result",
          "data": {
            "text/plain": [
              "array([[[180, 200, 230],\n",
              "        [180, 200, 230],\n",
              "        [180, 200, 230],\n",
              "        ...,\n",
              "        [180, 200, 230],\n",
              "        [180, 200, 230],\n",
              "        [180, 200, 230]],\n",
              "\n",
              "       [[180, 200, 230],\n",
              "        [204, 230, 255],\n",
              "        [204, 230, 255],\n",
              "        ...,\n",
              "        [204, 230, 255],\n",
              "        [204, 230, 255],\n",
              "        [180, 200, 230]],\n",
              "\n",
              "       [[180, 200, 230],\n",
              "        [235, 245, 249],\n",
              "        [204, 230, 255],\n",
              "        ...,\n",
              "        [204, 230, 255],\n",
              "        [204, 230, 255],\n",
              "        [180, 200, 230]],\n",
              "\n",
              "       ...,\n",
              "\n",
              "       [[180, 200, 230],\n",
              "        [235, 245, 249],\n",
              "        [235, 245, 249],\n",
              "        ...,\n",
              "        [204, 230, 255],\n",
              "        [235, 245, 249],\n",
              "        [180, 200, 230]],\n",
              "\n",
              "       [[180, 200, 230],\n",
              "        [235, 245, 249],\n",
              "        [235, 245, 249],\n",
              "        ...,\n",
              "        [204, 230, 255],\n",
              "        [204, 230, 255],\n",
              "        [180, 200, 230]],\n",
              "\n",
              "       [[180, 200, 230],\n",
              "        [180, 200, 230],\n",
              "        [180, 200, 230],\n",
              "        ...,\n",
              "        [180, 200, 230],\n",
              "        [180, 200, 230],\n",
              "        [180, 200, 230]]], dtype=uint8)"
            ],
            "text/html": [
              "<style>\n",
              "      .ndarray_repr .ndarray_raw_data {\n",
              "        display: none;\n",
              "      }\n",
              "      .ndarray_repr.show_array .ndarray_raw_data {\n",
              "        display: block;\n",
              "      }\n",
              "      .ndarray_repr.show_array .ndarray_image_preview {\n",
              "        display: none;\n",
              "      }\n",
              "      </style>\n",
              "      <div id=\"id-2a40d19c-2002-4800-bdba-ea926805ded2\" class=\"ndarray_repr\"><pre>ndarray (256, 256, 3) <button style=\"padding: 0 2px;\">show data</button></pre><img src=\"data:image/png;base64,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\" class=\"ndarray_image_preview\" /><pre class=\"ndarray_raw_data\">array([[[180, 200, 230],\n",
              "        [180, 200, 230],\n",
              "        [180, 200, 230],\n",
              "        ...,\n",
              "        [180, 200, 230],\n",
              "        [180, 200, 230],\n",
              "        [180, 200, 230]],\n",
              "\n",
              "       [[180, 200, 230],\n",
              "        [204, 230, 255],\n",
              "        [204, 230, 255],\n",
              "        ...,\n",
              "        [204, 230, 255],\n",
              "        [204, 230, 255],\n",
              "        [180, 200, 230]],\n",
              "\n",
              "       [[180, 200, 230],\n",
              "        [235, 245, 249],\n",
              "        [204, 230, 255],\n",
              "        ...,\n",
              "        [204, 230, 255],\n",
              "        [204, 230, 255],\n",
              "        [180, 200, 230]],\n",
              "\n",
              "       ...,\n",
              "\n",
              "       [[180, 200, 230],\n",
              "        [235, 245, 249],\n",
              "        [235, 245, 249],\n",
              "        ...,\n",
              "        [204, 230, 255],\n",
              "        [235, 245, 249],\n",
              "        [180, 200, 230]],\n",
              "\n",
              "       [[180, 200, 230],\n",
              "        [235, 245, 249],\n",
              "        [235, 245, 249],\n",
              "        ...,\n",
              "        [204, 230, 255],\n",
              "        [204, 230, 255],\n",
              "        [180, 200, 230]],\n",
              "\n",
              "       [[180, 200, 230],\n",
              "        [180, 200, 230],\n",
              "        [180, 200, 230],\n",
              "        ...,\n",
              "        [180, 200, 230],\n",
              "        [180, 200, 230],\n",
              "        [180, 200, 230]]], dtype=uint8)</pre></div><script>\n",
              "      (() => {\n",
              "      const titles = ['show data', 'hide data'];\n",
              "      let index = 0\n",
              "      document.querySelector('#id-2a40d19c-2002-4800-bdba-ea926805ded2 button').onclick = (e) => {\n",
              "        document.querySelector('#id-2a40d19c-2002-4800-bdba-ea926805ded2').classList.toggle('show_array');\n",
              "        index = (++index) % 2;\n",
              "        document.querySelector('#id-2a40d19c-2002-4800-bdba-ea926805ded2 button').textContent = titles[index];\n",
              "        e.preventDefault();\n",
              "        e.stopPropagation();\n",
              "      }\n",
              "      })();\n",
              "    </script>"
            ]
          },
          "metadata": {},
          "execution_count": 23
        },
        {
          "output_type": "stream",
          "name": "stdout",
          "text": [
            "Agentımız 1(aşağı) yönüne gidecek\n",
            "\n",
            "4 0.0 False False {'prob': 0.3333333333333333}\n"
          ]
        },
        {
          "output_type": "execute_result",
          "data": {
            "text/plain": [
              "array([[[180, 200, 230],\n",
              "        [180, 200, 230],\n",
              "        [180, 200, 230],\n",
              "        ...,\n",
              "        [180, 200, 230],\n",
              "        [180, 200, 230],\n",
              "        [180, 200, 230]],\n",
              "\n",
              "       [[180, 200, 230],\n",
              "        [204, 230, 255],\n",
              "        [204, 230, 255],\n",
              "        ...,\n",
              "        [204, 230, 255],\n",
              "        [204, 230, 255],\n",
              "        [180, 200, 230]],\n",
              "\n",
              "       [[180, 200, 230],\n",
              "        [235, 245, 249],\n",
              "        [204, 230, 255],\n",
              "        ...,\n",
              "        [204, 230, 255],\n",
              "        [204, 230, 255],\n",
              "        [180, 200, 230]],\n",
              "\n",
              "       ...,\n",
              "\n",
              "       [[180, 200, 230],\n",
              "        [235, 245, 249],\n",
              "        [235, 245, 249],\n",
              "        ...,\n",
              "        [204, 230, 255],\n",
              "        [235, 245, 249],\n",
              "        [180, 200, 230]],\n",
              "\n",
              "       [[180, 200, 230],\n",
              "        [235, 245, 249],\n",
              "        [235, 245, 249],\n",
              "        ...,\n",
              "        [204, 230, 255],\n",
              "        [204, 230, 255],\n",
              "        [180, 200, 230]],\n",
              "\n",
              "       [[180, 200, 230],\n",
              "        [180, 200, 230],\n",
              "        [180, 200, 230],\n",
              "        ...,\n",
              "        [180, 200, 230],\n",
              "        [180, 200, 230],\n",
              "        [180, 200, 230]]], dtype=uint8)"
            ],
            "text/html": [
              "<style>\n",
              "      .ndarray_repr .ndarray_raw_data {\n",
              "        display: none;\n",
              "      }\n",
              "      .ndarray_repr.show_array .ndarray_raw_data {\n",
              "        display: block;\n",
              "      }\n",
              "      .ndarray_repr.show_array .ndarray_image_preview {\n",
              "        display: none;\n",
              "      }\n",
              "      </style>\n",
              "      <div id=\"id-24ffd3c2-c851-4013-8c14-9cb6ce39c871\" class=\"ndarray_repr\"><pre>ndarray (256, 256, 3) <button style=\"padding: 0 2px;\">show data</button></pre><img src=\"data:image/png;base64,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\" class=\"ndarray_image_preview\" /><pre class=\"ndarray_raw_data\">array([[[180, 200, 230],\n",
              "        [180, 200, 230],\n",
              "        [180, 200, 230],\n",
              "        ...,\n",
              "        [180, 200, 230],\n",
              "        [180, 200, 230],\n",
              "        [180, 200, 230]],\n",
              "\n",
              "       [[180, 200, 230],\n",
              "        [204, 230, 255],\n",
              "        [204, 230, 255],\n",
              "        ...,\n",
              "        [204, 230, 255],\n",
              "        [204, 230, 255],\n",
              "        [180, 200, 230]],\n",
              "\n",
              "       [[180, 200, 230],\n",
              "        [235, 245, 249],\n",
              "        [204, 230, 255],\n",
              "        ...,\n",
              "        [204, 230, 255],\n",
              "        [204, 230, 255],\n",
              "        [180, 200, 230]],\n",
              "\n",
              "       ...,\n",
              "\n",
              "       [[180, 200, 230],\n",
              "        [235, 245, 249],\n",
              "        [235, 245, 249],\n",
              "        ...,\n",
              "        [204, 230, 255],\n",
              "        [235, 245, 249],\n",
              "        [180, 200, 230]],\n",
              "\n",
              "       [[180, 200, 230],\n",
              "        [235, 245, 249],\n",
              "        [235, 245, 249],\n",
              "        ...,\n",
              "        [204, 230, 255],\n",
              "        [204, 230, 255],\n",
              "        [180, 200, 230]],\n",
              "\n",
              "       [[180, 200, 230],\n",
              "        [180, 200, 230],\n",
              "        [180, 200, 230],\n",
              "        ...,\n",
              "        [180, 200, 230],\n",
              "        [180, 200, 230],\n",
              "        [180, 200, 230]]], dtype=uint8)</pre></div><script>\n",
              "      (() => {\n",
              "      const titles = ['show data', 'hide data'];\n",
              "      let index = 0\n",
              "      document.querySelector('#id-24ffd3c2-c851-4013-8c14-9cb6ce39c871 button').onclick = (e) => {\n",
              "        document.querySelector('#id-24ffd3c2-c851-4013-8c14-9cb6ce39c871').classList.toggle('show_array');\n",
              "        index = (++index) % 2;\n",
              "        document.querySelector('#id-24ffd3c2-c851-4013-8c14-9cb6ce39c871 button').textContent = titles[index];\n",
              "        e.preventDefault();\n",
              "        e.stopPropagation();\n",
              "      }\n",
              "      })();\n",
              "    </script>"
            ]
          },
          "metadata": {},
          "execution_count": 23
        },
        {
          "output_type": "stream",
          "name": "stdout",
          "text": [
            "Agentımız 3(yukarı) yönüne gidecek\n",
            "\n",
            "0 0.0 False False {'prob': 0.3333333333333333}\n"
          ]
        },
        {
          "output_type": "execute_result",
          "data": {
            "text/plain": [
              "array([[[180, 200, 230],\n",
              "        [180, 200, 230],\n",
              "        [180, 200, 230],\n",
              "        ...,\n",
              "        [180, 200, 230],\n",
              "        [180, 200, 230],\n",
              "        [180, 200, 230]],\n",
              "\n",
              "       [[180, 200, 230],\n",
              "        [204, 230, 255],\n",
              "        [204, 230, 255],\n",
              "        ...,\n",
              "        [204, 230, 255],\n",
              "        [204, 230, 255],\n",
              "        [180, 200, 230]],\n",
              "\n",
              "       [[180, 200, 230],\n",
              "        [235, 245, 249],\n",
              "        [204, 230, 255],\n",
              "        ...,\n",
              "        [204, 230, 255],\n",
              "        [204, 230, 255],\n",
              "        [180, 200, 230]],\n",
              "\n",
              "       ...,\n",
              "\n",
              "       [[180, 200, 230],\n",
              "        [235, 245, 249],\n",
              "        [235, 245, 249],\n",
              "        ...,\n",
              "        [204, 230, 255],\n",
              "        [235, 245, 249],\n",
              "        [180, 200, 230]],\n",
              "\n",
              "       [[180, 200, 230],\n",
              "        [235, 245, 249],\n",
              "        [235, 245, 249],\n",
              "        ...,\n",
              "        [204, 230, 255],\n",
              "        [204, 230, 255],\n",
              "        [180, 200, 230]],\n",
              "\n",
              "       [[180, 200, 230],\n",
              "        [180, 200, 230],\n",
              "        [180, 200, 230],\n",
              "        ...,\n",
              "        [180, 200, 230],\n",
              "        [180, 200, 230],\n",
              "        [180, 200, 230]]], dtype=uint8)"
            ],
            "text/html": [
              "<style>\n",
              "      .ndarray_repr .ndarray_raw_data {\n",
              "        display: none;\n",
              "      }\n",
              "      .ndarray_repr.show_array .ndarray_raw_data {\n",
              "        display: block;\n",
              "      }\n",
              "      .ndarray_repr.show_array .ndarray_image_preview {\n",
              "        display: none;\n",
              "      }\n",
              "      </style>\n",
              "      <div id=\"id-c946b350-dca5-4f2d-9c3b-3af9a319a889\" class=\"ndarray_repr\"><pre>ndarray (256, 256, 3) <button style=\"padding: 0 2px;\">show data</button></pre><img src=\"data:image/png;base64,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\" class=\"ndarray_image_preview\" /><pre class=\"ndarray_raw_data\">array([[[180, 200, 230],\n",
              "        [180, 200, 230],\n",
              "        [180, 200, 230],\n",
              "        ...,\n",
              "        [180, 200, 230],\n",
              "        [180, 200, 230],\n",
              "        [180, 200, 230]],\n",
              "\n",
              "       [[180, 200, 230],\n",
              "        [204, 230, 255],\n",
              "        [204, 230, 255],\n",
              "        ...,\n",
              "        [204, 230, 255],\n",
              "        [204, 230, 255],\n",
              "        [180, 200, 230]],\n",
              "\n",
              "       [[180, 200, 230],\n",
              "        [235, 245, 249],\n",
              "        [204, 230, 255],\n",
              "        ...,\n",
              "        [204, 230, 255],\n",
              "        [204, 230, 255],\n",
              "        [180, 200, 230]],\n",
              "\n",
              "       ...,\n",
              "\n",
              "       [[180, 200, 230],\n",
              "        [235, 245, 249],\n",
              "        [235, 245, 249],\n",
              "        ...,\n",
              "        [204, 230, 255],\n",
              "        [235, 245, 249],\n",
              "        [180, 200, 230]],\n",
              "\n",
              "       [[180, 200, 230],\n",
              "        [235, 245, 249],\n",
              "        [235, 245, 249],\n",
              "        ...,\n",
              "        [204, 230, 255],\n",
              "        [204, 230, 255],\n",
              "        [180, 200, 230]],\n",
              "\n",
              "       [[180, 200, 230],\n",
              "        [180, 200, 230],\n",
              "        [180, 200, 230],\n",
              "        ...,\n",
              "        [180, 200, 230],\n",
              "        [180, 200, 230],\n",
              "        [180, 200, 230]]], dtype=uint8)</pre></div><script>\n",
              "      (() => {\n",
              "      const titles = ['show data', 'hide data'];\n",
              "      let index = 0\n",
              "      document.querySelector('#id-c946b350-dca5-4f2d-9c3b-3af9a319a889 button').onclick = (e) => {\n",
              "        document.querySelector('#id-c946b350-dca5-4f2d-9c3b-3af9a319a889').classList.toggle('show_array');\n",
              "        index = (++index) % 2;\n",
              "        document.querySelector('#id-c946b350-dca5-4f2d-9c3b-3af9a319a889 button').textContent = titles[index];\n",
              "        e.preventDefault();\n",
              "        e.stopPropagation();\n",
              "      }\n",
              "      })();\n",
              "    </script>"
            ]
          },
          "metadata": {},
          "execution_count": 23
        },
        {
          "output_type": "stream",
          "name": "stdout",
          "text": [
            "Agentımız 2(sağ) yönüne gidecek\n",
            "\n",
            "1 0.0 False False {'prob': 0.3333333333333333}\n"
          ]
        },
        {
          "output_type": "execute_result",
          "data": {
            "text/plain": [
              "array([[[180, 200, 230],\n",
              "        [180, 200, 230],\n",
              "        [180, 200, 230],\n",
              "        ...,\n",
              "        [180, 200, 230],\n",
              "        [180, 200, 230],\n",
              "        [180, 200, 230]],\n",
              "\n",
              "       [[180, 200, 230],\n",
              "        [204, 230, 255],\n",
              "        [204, 230, 255],\n",
              "        ...,\n",
              "        [204, 230, 255],\n",
              "        [204, 230, 255],\n",
              "        [180, 200, 230]],\n",
              "\n",
              "       [[180, 200, 230],\n",
              "        [235, 245, 249],\n",
              "        [204, 230, 255],\n",
              "        ...,\n",
              "        [204, 230, 255],\n",
              "        [204, 230, 255],\n",
              "        [180, 200, 230]],\n",
              "\n",
              "       ...,\n",
              "\n",
              "       [[180, 200, 230],\n",
              "        [235, 245, 249],\n",
              "        [235, 245, 249],\n",
              "        ...,\n",
              "        [204, 230, 255],\n",
              "        [235, 245, 249],\n",
              "        [180, 200, 230]],\n",
              "\n",
              "       [[180, 200, 230],\n",
              "        [235, 245, 249],\n",
              "        [235, 245, 249],\n",
              "        ...,\n",
              "        [204, 230, 255],\n",
              "        [204, 230, 255],\n",
              "        [180, 200, 230]],\n",
              "\n",
              "       [[180, 200, 230],\n",
              "        [180, 200, 230],\n",
              "        [180, 200, 230],\n",
              "        ...,\n",
              "        [180, 200, 230],\n",
              "        [180, 200, 230],\n",
              "        [180, 200, 230]]], dtype=uint8)"
            ],
            "text/html": [
              "<style>\n",
              "      .ndarray_repr .ndarray_raw_data {\n",
              "        display: none;\n",
              "      }\n",
              "      .ndarray_repr.show_array .ndarray_raw_data {\n",
              "        display: block;\n",
              "      }\n",
              "      .ndarray_repr.show_array .ndarray_image_preview {\n",
              "        display: none;\n",
              "      }\n",
              "      </style>\n",
              "      <div id=\"id-d93219ea-5729-4a13-99d3-7b15d4dee46a\" class=\"ndarray_repr\"><pre>ndarray (256, 256, 3) <button style=\"padding: 0 2px;\">show data</button></pre><img src=\"data:image/png;base64,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\" class=\"ndarray_image_preview\" /><pre class=\"ndarray_raw_data\">array([[[180, 200, 230],\n",
              "        [180, 200, 230],\n",
              "        [180, 200, 230],\n",
              "        ...,\n",
              "        [180, 200, 230],\n",
              "        [180, 200, 230],\n",
              "        [180, 200, 230]],\n",
              "\n",
              "       [[180, 200, 230],\n",
              "        [204, 230, 255],\n",
              "        [204, 230, 255],\n",
              "        ...,\n",
              "        [204, 230, 255],\n",
              "        [204, 230, 255],\n",
              "        [180, 200, 230]],\n",
              "\n",
              "       [[180, 200, 230],\n",
              "        [235, 245, 249],\n",
              "        [204, 230, 255],\n",
              "        ...,\n",
              "        [204, 230, 255],\n",
              "        [204, 230, 255],\n",
              "        [180, 200, 230]],\n",
              "\n",
              "       ...,\n",
              "\n",
              "       [[180, 200, 230],\n",
              "        [235, 245, 249],\n",
              "        [235, 245, 249],\n",
              "        ...,\n",
              "        [204, 230, 255],\n",
              "        [235, 245, 249],\n",
              "        [180, 200, 230]],\n",
              "\n",
              "       [[180, 200, 230],\n",
              "        [235, 245, 249],\n",
              "        [235, 245, 249],\n",
              "        ...,\n",
              "        [204, 230, 255],\n",
              "        [204, 230, 255],\n",
              "        [180, 200, 230]],\n",
              "\n",
              "       [[180, 200, 230],\n",
              "        [180, 200, 230],\n",
              "        [180, 200, 230],\n",
              "        ...,\n",
              "        [180, 200, 230],\n",
              "        [180, 200, 230],\n",
              "        [180, 200, 230]]], dtype=uint8)</pre></div><script>\n",
              "      (() => {\n",
              "      const titles = ['show data', 'hide data'];\n",
              "      let index = 0\n",
              "      document.querySelector('#id-d93219ea-5729-4a13-99d3-7b15d4dee46a button').onclick = (e) => {\n",
              "        document.querySelector('#id-d93219ea-5729-4a13-99d3-7b15d4dee46a').classList.toggle('show_array');\n",
              "        index = (++index) % 2;\n",
              "        document.querySelector('#id-d93219ea-5729-4a13-99d3-7b15d4dee46a button').textContent = titles[index];\n",
              "        e.preventDefault();\n",
              "        e.stopPropagation();\n",
              "      }\n",
              "      })();\n",
              "    </script>"
            ]
          },
          "metadata": {},
          "execution_count": 23
        },
        {
          "output_type": "stream",
          "name": "stdout",
          "text": [
            "Agentımız 3(yukarı) yönüne gidecek\n",
            "\n",
            "2 0.0 False False {'prob': 0.3333333333333333}\n"
          ]
        },
        {
          "output_type": "execute_result",
          "data": {
            "text/plain": [
              "array([[[180, 200, 230],\n",
              "        [180, 200, 230],\n",
              "        [180, 200, 230],\n",
              "        ...,\n",
              "        [180, 200, 230],\n",
              "        [180, 200, 230],\n",
              "        [180, 200, 230]],\n",
              "\n",
              "       [[180, 200, 230],\n",
              "        [204, 230, 255],\n",
              "        [204, 230, 255],\n",
              "        ...,\n",
              "        [204, 230, 255],\n",
              "        [204, 230, 255],\n",
              "        [180, 200, 230]],\n",
              "\n",
              "       [[180, 200, 230],\n",
              "        [235, 245, 249],\n",
              "        [204, 230, 255],\n",
              "        ...,\n",
              "        [204, 230, 255],\n",
              "        [204, 230, 255],\n",
              "        [180, 200, 230]],\n",
              "\n",
              "       ...,\n",
              "\n",
              "       [[180, 200, 230],\n",
              "        [235, 245, 249],\n",
              "        [235, 245, 249],\n",
              "        ...,\n",
              "        [204, 230, 255],\n",
              "        [235, 245, 249],\n",
              "        [180, 200, 230]],\n",
              "\n",
              "       [[180, 200, 230],\n",
              "        [235, 245, 249],\n",
              "        [235, 245, 249],\n",
              "        ...,\n",
              "        [204, 230, 255],\n",
              "        [204, 230, 255],\n",
              "        [180, 200, 230]],\n",
              "\n",
              "       [[180, 200, 230],\n",
              "        [180, 200, 230],\n",
              "        [180, 200, 230],\n",
              "        ...,\n",
              "        [180, 200, 230],\n",
              "        [180, 200, 230],\n",
              "        [180, 200, 230]]], dtype=uint8)"
            ],
            "text/html": [
              "<style>\n",
              "      .ndarray_repr .ndarray_raw_data {\n",
              "        display: none;\n",
              "      }\n",
              "      .ndarray_repr.show_array .ndarray_raw_data {\n",
              "        display: block;\n",
              "      }\n",
              "      .ndarray_repr.show_array .ndarray_image_preview {\n",
              "        display: none;\n",
              "      }\n",
              "      </style>\n",
              "      <div id=\"id-1e4bb4f5-e8d6-4fe3-8ef6-7e006975f90e\" class=\"ndarray_repr\"><pre>ndarray (256, 256, 3) <button style=\"padding: 0 2px;\">show data</button></pre><img src=\"data:image/png;base64,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\" class=\"ndarray_image_preview\" /><pre class=\"ndarray_raw_data\">array([[[180, 200, 230],\n",
              "        [180, 200, 230],\n",
              "        [180, 200, 230],\n",
              "        ...,\n",
              "        [180, 200, 230],\n",
              "        [180, 200, 230],\n",
              "        [180, 200, 230]],\n",
              "\n",
              "       [[180, 200, 230],\n",
              "        [204, 230, 255],\n",
              "        [204, 230, 255],\n",
              "        ...,\n",
              "        [204, 230, 255],\n",
              "        [204, 230, 255],\n",
              "        [180, 200, 230]],\n",
              "\n",
              "       [[180, 200, 230],\n",
              "        [235, 245, 249],\n",
              "        [204, 230, 255],\n",
              "        ...,\n",
              "        [204, 230, 255],\n",
              "        [204, 230, 255],\n",
              "        [180, 200, 230]],\n",
              "\n",
              "       ...,\n",
              "\n",
              "       [[180, 200, 230],\n",
              "        [235, 245, 249],\n",
              "        [235, 245, 249],\n",
              "        ...,\n",
              "        [204, 230, 255],\n",
              "        [235, 245, 249],\n",
              "        [180, 200, 230]],\n",
              "\n",
              "       [[180, 200, 230],\n",
              "        [235, 245, 249],\n",
              "        [235, 245, 249],\n",
              "        ...,\n",
              "        [204, 230, 255],\n",
              "        [204, 230, 255],\n",
              "        [180, 200, 230]],\n",
              "\n",
              "       [[180, 200, 230],\n",
              "        [180, 200, 230],\n",
              "        [180, 200, 230],\n",
              "        ...,\n",
              "        [180, 200, 230],\n",
              "        [180, 200, 230],\n",
              "        [180, 200, 230]]], dtype=uint8)</pre></div><script>\n",
              "      (() => {\n",
              "      const titles = ['show data', 'hide data'];\n",
              "      let index = 0\n",
              "      document.querySelector('#id-1e4bb4f5-e8d6-4fe3-8ef6-7e006975f90e button').onclick = (e) => {\n",
              "        document.querySelector('#id-1e4bb4f5-e8d6-4fe3-8ef6-7e006975f90e').classList.toggle('show_array');\n",
              "        index = (++index) % 2;\n",
              "        document.querySelector('#id-1e4bb4f5-e8d6-4fe3-8ef6-7e006975f90e button').textContent = titles[index];\n",
              "        e.preventDefault();\n",
              "        e.stopPropagation();\n",
              "      }\n",
              "      })();\n",
              "    </script>"
            ]
          },
          "metadata": {},
          "execution_count": 23
        },
        {
          "output_type": "stream",
          "name": "stdout",
          "text": [
            "Agentımız 1(aşağı) yönüne gidecek\n",
            "\n",
            "6 0.0 False False {'prob': 0.3333333333333333}\n"
          ]
        },
        {
          "output_type": "execute_result",
          "data": {
            "text/plain": [
              "array([[[180, 200, 230],\n",
              "        [180, 200, 230],\n",
              "        [180, 200, 230],\n",
              "        ...,\n",
              "        [180, 200, 230],\n",
              "        [180, 200, 230],\n",
              "        [180, 200, 230]],\n",
              "\n",
              "       [[180, 200, 230],\n",
              "        [204, 230, 255],\n",
              "        [204, 230, 255],\n",
              "        ...,\n",
              "        [204, 230, 255],\n",
              "        [204, 230, 255],\n",
              "        [180, 200, 230]],\n",
              "\n",
              "       [[180, 200, 230],\n",
              "        [235, 245, 249],\n",
              "        [204, 230, 255],\n",
              "        ...,\n",
              "        [204, 230, 255],\n",
              "        [204, 230, 255],\n",
              "        [180, 200, 230]],\n",
              "\n",
              "       ...,\n",
              "\n",
              "       [[180, 200, 230],\n",
              "        [235, 245, 249],\n",
              "        [235, 245, 249],\n",
              "        ...,\n",
              "        [204, 230, 255],\n",
              "        [235, 245, 249],\n",
              "        [180, 200, 230]],\n",
              "\n",
              "       [[180, 200, 230],\n",
              "        [235, 245, 249],\n",
              "        [235, 245, 249],\n",
              "        ...,\n",
              "        [204, 230, 255],\n",
              "        [204, 230, 255],\n",
              "        [180, 200, 230]],\n",
              "\n",
              "       [[180, 200, 230],\n",
              "        [180, 200, 230],\n",
              "        [180, 200, 230],\n",
              "        ...,\n",
              "        [180, 200, 230],\n",
              "        [180, 200, 230],\n",
              "        [180, 200, 230]]], dtype=uint8)"
            ],
            "text/html": [
              "<style>\n",
              "      .ndarray_repr .ndarray_raw_data {\n",
              "        display: none;\n",
              "      }\n",
              "      .ndarray_repr.show_array .ndarray_raw_data {\n",
              "        display: block;\n",
              "      }\n",
              "      .ndarray_repr.show_array .ndarray_image_preview {\n",
              "        display: none;\n",
              "      }\n",
              "      </style>\n",
              "      <div id=\"id-3aa2d319-7d97-4922-a3f4-62b3e45b5146\" class=\"ndarray_repr\"><pre>ndarray (256, 256, 3) <button style=\"padding: 0 2px;\">show data</button></pre><img src=\"data:image/png;base64,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\" class=\"ndarray_image_preview\" /><pre class=\"ndarray_raw_data\">array([[[180, 200, 230],\n",
              "        [180, 200, 230],\n",
              "        [180, 200, 230],\n",
              "        ...,\n",
              "        [180, 200, 230],\n",
              "        [180, 200, 230],\n",
              "        [180, 200, 230]],\n",
              "\n",
              "       [[180, 200, 230],\n",
              "        [204, 230, 255],\n",
              "        [204, 230, 255],\n",
              "        ...,\n",
              "        [204, 230, 255],\n",
              "        [204, 230, 255],\n",
              "        [180, 200, 230]],\n",
              "\n",
              "       [[180, 200, 230],\n",
              "        [235, 245, 249],\n",
              "        [204, 230, 255],\n",
              "        ...,\n",
              "        [204, 230, 255],\n",
              "        [204, 230, 255],\n",
              "        [180, 200, 230]],\n",
              "\n",
              "       ...,\n",
              "\n",
              "       [[180, 200, 230],\n",
              "        [235, 245, 249],\n",
              "        [235, 245, 249],\n",
              "        ...,\n",
              "        [204, 230, 255],\n",
              "        [235, 245, 249],\n",
              "        [180, 200, 230]],\n",
              "\n",
              "       [[180, 200, 230],\n",
              "        [235, 245, 249],\n",
              "        [235, 245, 249],\n",
              "        ...,\n",
              "        [204, 230, 255],\n",
              "        [204, 230, 255],\n",
              "        [180, 200, 230]],\n",
              "\n",
              "       [[180, 200, 230],\n",
              "        [180, 200, 230],\n",
              "        [180, 200, 230],\n",
              "        ...,\n",
              "        [180, 200, 230],\n",
              "        [180, 200, 230],\n",
              "        [180, 200, 230]]], dtype=uint8)</pre></div><script>\n",
              "      (() => {\n",
              "      const titles = ['show data', 'hide data'];\n",
              "      let index = 0\n",
              "      document.querySelector('#id-3aa2d319-7d97-4922-a3f4-62b3e45b5146 button').onclick = (e) => {\n",
              "        document.querySelector('#id-3aa2d319-7d97-4922-a3f4-62b3e45b5146').classList.toggle('show_array');\n",
              "        index = (++index) % 2;\n",
              "        document.querySelector('#id-3aa2d319-7d97-4922-a3f4-62b3e45b5146 button').textContent = titles[index];\n",
              "        e.preventDefault();\n",
              "        e.stopPropagation();\n",
              "      }\n",
              "      })();\n",
              "    </script>"
            ]
          },
          "metadata": {},
          "execution_count": 23
        },
        {
          "output_type": "stream",
          "name": "stdout",
          "text": [
            "Agentımız 0(sol) yönüne gidecek\n",
            "\n",
            "2 0.0 False False {'prob': 0.3333333333333333}\n"
          ]
        },
        {
          "output_type": "execute_result",
          "data": {
            "text/plain": [
              "array([[[180, 200, 230],\n",
              "        [180, 200, 230],\n",
              "        [180, 200, 230],\n",
              "        ...,\n",
              "        [180, 200, 230],\n",
              "        [180, 200, 230],\n",
              "        [180, 200, 230]],\n",
              "\n",
              "       [[180, 200, 230],\n",
              "        [204, 230, 255],\n",
              "        [204, 230, 255],\n",
              "        ...,\n",
              "        [204, 230, 255],\n",
              "        [204, 230, 255],\n",
              "        [180, 200, 230]],\n",
              "\n",
              "       [[180, 200, 230],\n",
              "        [235, 245, 249],\n",
              "        [204, 230, 255],\n",
              "        ...,\n",
              "        [204, 230, 255],\n",
              "        [204, 230, 255],\n",
              "        [180, 200, 230]],\n",
              "\n",
              "       ...,\n",
              "\n",
              "       [[180, 200, 230],\n",
              "        [235, 245, 249],\n",
              "        [235, 245, 249],\n",
              "        ...,\n",
              "        [204, 230, 255],\n",
              "        [235, 245, 249],\n",
              "        [180, 200, 230]],\n",
              "\n",
              "       [[180, 200, 230],\n",
              "        [235, 245, 249],\n",
              "        [235, 245, 249],\n",
              "        ...,\n",
              "        [204, 230, 255],\n",
              "        [204, 230, 255],\n",
              "        [180, 200, 230]],\n",
              "\n",
              "       [[180, 200, 230],\n",
              "        [180, 200, 230],\n",
              "        [180, 200, 230],\n",
              "        ...,\n",
              "        [180, 200, 230],\n",
              "        [180, 200, 230],\n",
              "        [180, 200, 230]]], dtype=uint8)"
            ],
            "text/html": [
              "<style>\n",
              "      .ndarray_repr .ndarray_raw_data {\n",
              "        display: none;\n",
              "      }\n",
              "      .ndarray_repr.show_array .ndarray_raw_data {\n",
              "        display: block;\n",
              "      }\n",
              "      .ndarray_repr.show_array .ndarray_image_preview {\n",
              "        display: none;\n",
              "      }\n",
              "      </style>\n",
              "      <div id=\"id-2d0830e5-45ee-4fe1-93ea-f8146b3611d4\" class=\"ndarray_repr\"><pre>ndarray (256, 256, 3) <button style=\"padding: 0 2px;\">show data</button></pre><img src=\"data:image/png;base64,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\" class=\"ndarray_image_preview\" /><pre class=\"ndarray_raw_data\">array([[[180, 200, 230],\n",
              "        [180, 200, 230],\n",
              "        [180, 200, 230],\n",
              "        ...,\n",
              "        [180, 200, 230],\n",
              "        [180, 200, 230],\n",
              "        [180, 200, 230]],\n",
              "\n",
              "       [[180, 200, 230],\n",
              "        [204, 230, 255],\n",
              "        [204, 230, 255],\n",
              "        ...,\n",
              "        [204, 230, 255],\n",
              "        [204, 230, 255],\n",
              "        [180, 200, 230]],\n",
              "\n",
              "       [[180, 200, 230],\n",
              "        [235, 245, 249],\n",
              "        [204, 230, 255],\n",
              "        ...,\n",
              "        [204, 230, 255],\n",
              "        [204, 230, 255],\n",
              "        [180, 200, 230]],\n",
              "\n",
              "       ...,\n",
              "\n",
              "       [[180, 200, 230],\n",
              "        [235, 245, 249],\n",
              "        [235, 245, 249],\n",
              "        ...,\n",
              "        [204, 230, 255],\n",
              "        [235, 245, 249],\n",
              "        [180, 200, 230]],\n",
              "\n",
              "       [[180, 200, 230],\n",
              "        [235, 245, 249],\n",
              "        [235, 245, 249],\n",
              "        ...,\n",
              "        [204, 230, 255],\n",
              "        [204, 230, 255],\n",
              "        [180, 200, 230]],\n",
              "\n",
              "       [[180, 200, 230],\n",
              "        [180, 200, 230],\n",
              "        [180, 200, 230],\n",
              "        ...,\n",
              "        [180, 200, 230],\n",
              "        [180, 200, 230],\n",
              "        [180, 200, 230]]], dtype=uint8)</pre></div><script>\n",
              "      (() => {\n",
              "      const titles = ['show data', 'hide data'];\n",
              "      let index = 0\n",
              "      document.querySelector('#id-2d0830e5-45ee-4fe1-93ea-f8146b3611d4 button').onclick = (e) => {\n",
              "        document.querySelector('#id-2d0830e5-45ee-4fe1-93ea-f8146b3611d4').classList.toggle('show_array');\n",
              "        index = (++index) % 2;\n",
              "        document.querySelector('#id-2d0830e5-45ee-4fe1-93ea-f8146b3611d4 button').textContent = titles[index];\n",
              "        e.preventDefault();\n",
              "        e.stopPropagation();\n",
              "      }\n",
              "      })();\n",
              "    </script>"
            ]
          },
          "metadata": {},
          "execution_count": 23
        },
        {
          "output_type": "stream",
          "name": "stdout",
          "text": [
            "Agentımız 0(sol) yönüne gidecek\n",
            "\n",
            "6 0.0 False False {'prob': 0.3333333333333333}\n"
          ]
        },
        {
          "output_type": "execute_result",
          "data": {
            "text/plain": [
              "array([[[180, 200, 230],\n",
              "        [180, 200, 230],\n",
              "        [180, 200, 230],\n",
              "        ...,\n",
              "        [180, 200, 230],\n",
              "        [180, 200, 230],\n",
              "        [180, 200, 230]],\n",
              "\n",
              "       [[180, 200, 230],\n",
              "        [204, 230, 255],\n",
              "        [204, 230, 255],\n",
              "        ...,\n",
              "        [204, 230, 255],\n",
              "        [204, 230, 255],\n",
              "        [180, 200, 230]],\n",
              "\n",
              "       [[180, 200, 230],\n",
              "        [235, 245, 249],\n",
              "        [204, 230, 255],\n",
              "        ...,\n",
              "        [204, 230, 255],\n",
              "        [204, 230, 255],\n",
              "        [180, 200, 230]],\n",
              "\n",
              "       ...,\n",
              "\n",
              "       [[180, 200, 230],\n",
              "        [235, 245, 249],\n",
              "        [235, 245, 249],\n",
              "        ...,\n",
              "        [204, 230, 255],\n",
              "        [235, 245, 249],\n",
              "        [180, 200, 230]],\n",
              "\n",
              "       [[180, 200, 230],\n",
              "        [235, 245, 249],\n",
              "        [235, 245, 249],\n",
              "        ...,\n",
              "        [204, 230, 255],\n",
              "        [204, 230, 255],\n",
              "        [180, 200, 230]],\n",
              "\n",
              "       [[180, 200, 230],\n",
              "        [180, 200, 230],\n",
              "        [180, 200, 230],\n",
              "        ...,\n",
              "        [180, 200, 230],\n",
              "        [180, 200, 230],\n",
              "        [180, 200, 230]]], dtype=uint8)"
            ],
            "text/html": [
              "<style>\n",
              "      .ndarray_repr .ndarray_raw_data {\n",
              "        display: none;\n",
              "      }\n",
              "      .ndarray_repr.show_array .ndarray_raw_data {\n",
              "        display: block;\n",
              "      }\n",
              "      .ndarray_repr.show_array .ndarray_image_preview {\n",
              "        display: none;\n",
              "      }\n",
              "      </style>\n",
              "      <div id=\"id-9b7be784-a546-41d7-a9fe-796e136a4c70\" class=\"ndarray_repr\"><pre>ndarray (256, 256, 3) <button style=\"padding: 0 2px;\">show data</button></pre><img src=\"data:image/png;base64,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\" class=\"ndarray_image_preview\" /><pre class=\"ndarray_raw_data\">array([[[180, 200, 230],\n",
              "        [180, 200, 230],\n",
              "        [180, 200, 230],\n",
              "        ...,\n",
              "        [180, 200, 230],\n",
              "        [180, 200, 230],\n",
              "        [180, 200, 230]],\n",
              "\n",
              "       [[180, 200, 230],\n",
              "        [204, 230, 255],\n",
              "        [204, 230, 255],\n",
              "        ...,\n",
              "        [204, 230, 255],\n",
              "        [204, 230, 255],\n",
              "        [180, 200, 230]],\n",
              "\n",
              "       [[180, 200, 230],\n",
              "        [235, 245, 249],\n",
              "        [204, 230, 255],\n",
              "        ...,\n",
              "        [204, 230, 255],\n",
              "        [204, 230, 255],\n",
              "        [180, 200, 230]],\n",
              "\n",
              "       ...,\n",
              "\n",
              "       [[180, 200, 230],\n",
              "        [235, 245, 249],\n",
              "        [235, 245, 249],\n",
              "        ...,\n",
              "        [204, 230, 255],\n",
              "        [235, 245, 249],\n",
              "        [180, 200, 230]],\n",
              "\n",
              "       [[180, 200, 230],\n",
              "        [235, 245, 249],\n",
              "        [235, 245, 249],\n",
              "        ...,\n",
              "        [204, 230, 255],\n",
              "        [204, 230, 255],\n",
              "        [180, 200, 230]],\n",
              "\n",
              "       [[180, 200, 230],\n",
              "        [180, 200, 230],\n",
              "        [180, 200, 230],\n",
              "        ...,\n",
              "        [180, 200, 230],\n",
              "        [180, 200, 230],\n",
              "        [180, 200, 230]]], dtype=uint8)</pre></div><script>\n",
              "      (() => {\n",
              "      const titles = ['show data', 'hide data'];\n",
              "      let index = 0\n",
              "      document.querySelector('#id-9b7be784-a546-41d7-a9fe-796e136a4c70 button').onclick = (e) => {\n",
              "        document.querySelector('#id-9b7be784-a546-41d7-a9fe-796e136a4c70').classList.toggle('show_array');\n",
              "        index = (++index) % 2;\n",
              "        document.querySelector('#id-9b7be784-a546-41d7-a9fe-796e136a4c70 button').textContent = titles[index];\n",
              "        e.preventDefault();\n",
              "        e.stopPropagation();\n",
              "      }\n",
              "      })();\n",
              "    </script>"
            ]
          },
          "metadata": {},
          "execution_count": 23
        },
        {
          "output_type": "stream",
          "name": "stdout",
          "text": [
            "Agentımız 2(sağ) yönüne gidecek\n",
            "\n",
            "2 0.0 False False {'prob': 0.3333333333333333}\n"
          ]
        },
        {
          "output_type": "execute_result",
          "data": {
            "text/plain": [
              "array([[[180, 200, 230],\n",
              "        [180, 200, 230],\n",
              "        [180, 200, 230],\n",
              "        ...,\n",
              "        [180, 200, 230],\n",
              "        [180, 200, 230],\n",
              "        [180, 200, 230]],\n",
              "\n",
              "       [[180, 200, 230],\n",
              "        [204, 230, 255],\n",
              "        [204, 230, 255],\n",
              "        ...,\n",
              "        [204, 230, 255],\n",
              "        [204, 230, 255],\n",
              "        [180, 200, 230]],\n",
              "\n",
              "       [[180, 200, 230],\n",
              "        [235, 245, 249],\n",
              "        [204, 230, 255],\n",
              "        ...,\n",
              "        [204, 230, 255],\n",
              "        [204, 230, 255],\n",
              "        [180, 200, 230]],\n",
              "\n",
              "       ...,\n",
              "\n",
              "       [[180, 200, 230],\n",
              "        [235, 245, 249],\n",
              "        [235, 245, 249],\n",
              "        ...,\n",
              "        [204, 230, 255],\n",
              "        [235, 245, 249],\n",
              "        [180, 200, 230]],\n",
              "\n",
              "       [[180, 200, 230],\n",
              "        [235, 245, 249],\n",
              "        [235, 245, 249],\n",
              "        ...,\n",
              "        [204, 230, 255],\n",
              "        [204, 230, 255],\n",
              "        [180, 200, 230]],\n",
              "\n",
              "       [[180, 200, 230],\n",
              "        [180, 200, 230],\n",
              "        [180, 200, 230],\n",
              "        ...,\n",
              "        [180, 200, 230],\n",
              "        [180, 200, 230],\n",
              "        [180, 200, 230]]], dtype=uint8)"
            ],
            "text/html": [
              "<style>\n",
              "      .ndarray_repr .ndarray_raw_data {\n",
              "        display: none;\n",
              "      }\n",
              "      .ndarray_repr.show_array .ndarray_raw_data {\n",
              "        display: block;\n",
              "      }\n",
              "      .ndarray_repr.show_array .ndarray_image_preview {\n",
              "        display: none;\n",
              "      }\n",
              "      </style>\n",
              "      <div id=\"id-bad5c2b9-05b6-4396-a8a0-cd3c46c6e78e\" class=\"ndarray_repr\"><pre>ndarray (256, 256, 3) <button style=\"padding: 0 2px;\">show data</button></pre><img src=\"data:image/png;base64,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\" class=\"ndarray_image_preview\" /><pre class=\"ndarray_raw_data\">array([[[180, 200, 230],\n",
              "        [180, 200, 230],\n",
              "        [180, 200, 230],\n",
              "        ...,\n",
              "        [180, 200, 230],\n",
              "        [180, 200, 230],\n",
              "        [180, 200, 230]],\n",
              "\n",
              "       [[180, 200, 230],\n",
              "        [204, 230, 255],\n",
              "        [204, 230, 255],\n",
              "        ...,\n",
              "        [204, 230, 255],\n",
              "        [204, 230, 255],\n",
              "        [180, 200, 230]],\n",
              "\n",
              "       [[180, 200, 230],\n",
              "        [235, 245, 249],\n",
              "        [204, 230, 255],\n",
              "        ...,\n",
              "        [204, 230, 255],\n",
              "        [204, 230, 255],\n",
              "        [180, 200, 230]],\n",
              "\n",
              "       ...,\n",
              "\n",
              "       [[180, 200, 230],\n",
              "        [235, 245, 249],\n",
              "        [235, 245, 249],\n",
              "        ...,\n",
              "        [204, 230, 255],\n",
              "        [235, 245, 249],\n",
              "        [180, 200, 230]],\n",
              "\n",
              "       [[180, 200, 230],\n",
              "        [235, 245, 249],\n",
              "        [235, 245, 249],\n",
              "        ...,\n",
              "        [204, 230, 255],\n",
              "        [204, 230, 255],\n",
              "        [180, 200, 230]],\n",
              "\n",
              "       [[180, 200, 230],\n",
              "        [180, 200, 230],\n",
              "        [180, 200, 230],\n",
              "        ...,\n",
              "        [180, 200, 230],\n",
              "        [180, 200, 230],\n",
              "        [180, 200, 230]]], dtype=uint8)</pre></div><script>\n",
              "      (() => {\n",
              "      const titles = ['show data', 'hide data'];\n",
              "      let index = 0\n",
              "      document.querySelector('#id-bad5c2b9-05b6-4396-a8a0-cd3c46c6e78e button').onclick = (e) => {\n",
              "        document.querySelector('#id-bad5c2b9-05b6-4396-a8a0-cd3c46c6e78e').classList.toggle('show_array');\n",
              "        index = (++index) % 2;\n",
              "        document.querySelector('#id-bad5c2b9-05b6-4396-a8a0-cd3c46c6e78e button').textContent = titles[index];\n",
              "        e.preventDefault();\n",
              "        e.stopPropagation();\n",
              "      }\n",
              "      })();\n",
              "    </script>"
            ]
          },
          "metadata": {},
          "execution_count": 23
        },
        {
          "output_type": "stream",
          "name": "stdout",
          "text": [
            "Agentımız 2(sağ) yönüne gidecek\n",
            "\n",
            "6 0.0 False False {'prob': 0.3333333333333333}\n"
          ]
        },
        {
          "output_type": "execute_result",
          "data": {
            "text/plain": [
              "array([[[180, 200, 230],\n",
              "        [180, 200, 230],\n",
              "        [180, 200, 230],\n",
              "        ...,\n",
              "        [180, 200, 230],\n",
              "        [180, 200, 230],\n",
              "        [180, 200, 230]],\n",
              "\n",
              "       [[180, 200, 230],\n",
              "        [204, 230, 255],\n",
              "        [204, 230, 255],\n",
              "        ...,\n",
              "        [204, 230, 255],\n",
              "        [204, 230, 255],\n",
              "        [180, 200, 230]],\n",
              "\n",
              "       [[180, 200, 230],\n",
              "        [235, 245, 249],\n",
              "        [204, 230, 255],\n",
              "        ...,\n",
              "        [204, 230, 255],\n",
              "        [204, 230, 255],\n",
              "        [180, 200, 230]],\n",
              "\n",
              "       ...,\n",
              "\n",
              "       [[180, 200, 230],\n",
              "        [235, 245, 249],\n",
              "        [235, 245, 249],\n",
              "        ...,\n",
              "        [204, 230, 255],\n",
              "        [235, 245, 249],\n",
              "        [180, 200, 230]],\n",
              "\n",
              "       [[180, 200, 230],\n",
              "        [235, 245, 249],\n",
              "        [235, 245, 249],\n",
              "        ...,\n",
              "        [204, 230, 255],\n",
              "        [204, 230, 255],\n",
              "        [180, 200, 230]],\n",
              "\n",
              "       [[180, 200, 230],\n",
              "        [180, 200, 230],\n",
              "        [180, 200, 230],\n",
              "        ...,\n",
              "        [180, 200, 230],\n",
              "        [180, 200, 230],\n",
              "        [180, 200, 230]]], dtype=uint8)"
            ],
            "text/html": [
              "<style>\n",
              "      .ndarray_repr .ndarray_raw_data {\n",
              "        display: none;\n",
              "      }\n",
              "      .ndarray_repr.show_array .ndarray_raw_data {\n",
              "        display: block;\n",
              "      }\n",
              "      .ndarray_repr.show_array .ndarray_image_preview {\n",
              "        display: none;\n",
              "      }\n",
              "      </style>\n",
              "      <div id=\"id-cdf0b644-276f-4f68-93f7-0813cb674b11\" class=\"ndarray_repr\"><pre>ndarray (256, 256, 3) <button style=\"padding: 0 2px;\">show data</button></pre><img src=\"data:image/png;base64,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\" class=\"ndarray_image_preview\" /><pre class=\"ndarray_raw_data\">array([[[180, 200, 230],\n",
              "        [180, 200, 230],\n",
              "        [180, 200, 230],\n",
              "        ...,\n",
              "        [180, 200, 230],\n",
              "        [180, 200, 230],\n",
              "        [180, 200, 230]],\n",
              "\n",
              "       [[180, 200, 230],\n",
              "        [204, 230, 255],\n",
              "        [204, 230, 255],\n",
              "        ...,\n",
              "        [204, 230, 255],\n",
              "        [204, 230, 255],\n",
              "        [180, 200, 230]],\n",
              "\n",
              "       [[180, 200, 230],\n",
              "        [235, 245, 249],\n",
              "        [204, 230, 255],\n",
              "        ...,\n",
              "        [204, 230, 255],\n",
              "        [204, 230, 255],\n",
              "        [180, 200, 230]],\n",
              "\n",
              "       ...,\n",
              "\n",
              "       [[180, 200, 230],\n",
              "        [235, 245, 249],\n",
              "        [235, 245, 249],\n",
              "        ...,\n",
              "        [204, 230, 255],\n",
              "        [235, 245, 249],\n",
              "        [180, 200, 230]],\n",
              "\n",
              "       [[180, 200, 230],\n",
              "        [235, 245, 249],\n",
              "        [235, 245, 249],\n",
              "        ...,\n",
              "        [204, 230, 255],\n",
              "        [204, 230, 255],\n",
              "        [180, 200, 230]],\n",
              "\n",
              "       [[180, 200, 230],\n",
              "        [180, 200, 230],\n",
              "        [180, 200, 230],\n",
              "        ...,\n",
              "        [180, 200, 230],\n",
              "        [180, 200, 230],\n",
              "        [180, 200, 230]]], dtype=uint8)</pre></div><script>\n",
              "      (() => {\n",
              "      const titles = ['show data', 'hide data'];\n",
              "      let index = 0\n",
              "      document.querySelector('#id-cdf0b644-276f-4f68-93f7-0813cb674b11 button').onclick = (e) => {\n",
              "        document.querySelector('#id-cdf0b644-276f-4f68-93f7-0813cb674b11').classList.toggle('show_array');\n",
              "        index = (++index) % 2;\n",
              "        document.querySelector('#id-cdf0b644-276f-4f68-93f7-0813cb674b11 button').textContent = titles[index];\n",
              "        e.preventDefault();\n",
              "        e.stopPropagation();\n",
              "      }\n",
              "      })();\n",
              "    </script>"
            ]
          },
          "metadata": {},
          "execution_count": 23
        },
        {
          "output_type": "stream",
          "name": "stdout",
          "text": [
            "Agentımız 3(yukarı) yönüne gidecek\n",
            "\n",
            "7 0.0 True False {'prob': 0.3333333333333333}\n"
          ]
        },
        {
          "output_type": "execute_result",
          "data": {
            "text/plain": [
              "array([[[180, 200, 230],\n",
              "        [180, 200, 230],\n",
              "        [180, 200, 230],\n",
              "        ...,\n",
              "        [180, 200, 230],\n",
              "        [180, 200, 230],\n",
              "        [180, 200, 230]],\n",
              "\n",
              "       [[180, 200, 230],\n",
              "        [204, 230, 255],\n",
              "        [204, 230, 255],\n",
              "        ...,\n",
              "        [204, 230, 255],\n",
              "        [204, 230, 255],\n",
              "        [180, 200, 230]],\n",
              "\n",
              "       [[180, 200, 230],\n",
              "        [235, 245, 249],\n",
              "        [204, 230, 255],\n",
              "        ...,\n",
              "        [204, 230, 255],\n",
              "        [204, 230, 255],\n",
              "        [180, 200, 230]],\n",
              "\n",
              "       ...,\n",
              "\n",
              "       [[180, 200, 230],\n",
              "        [235, 245, 249],\n",
              "        [235, 245, 249],\n",
              "        ...,\n",
              "        [204, 230, 255],\n",
              "        [235, 245, 249],\n",
              "        [180, 200, 230]],\n",
              "\n",
              "       [[180, 200, 230],\n",
              "        [235, 245, 249],\n",
              "        [235, 245, 249],\n",
              "        ...,\n",
              "        [204, 230, 255],\n",
              "        [204, 230, 255],\n",
              "        [180, 200, 230]],\n",
              "\n",
              "       [[180, 200, 230],\n",
              "        [180, 200, 230],\n",
              "        [180, 200, 230],\n",
              "        ...,\n",
              "        [180, 200, 230],\n",
              "        [180, 200, 230],\n",
              "        [180, 200, 230]]], dtype=uint8)"
            ],
            "text/html": [
              "<style>\n",
              "      .ndarray_repr .ndarray_raw_data {\n",
              "        display: none;\n",
              "      }\n",
              "      .ndarray_repr.show_array .ndarray_raw_data {\n",
              "        display: block;\n",
              "      }\n",
              "      .ndarray_repr.show_array .ndarray_image_preview {\n",
              "        display: none;\n",
              "      }\n",
              "      </style>\n",
              "      <div id=\"id-08814147-5b6a-412b-88dd-e3ce3c5f1ded\" class=\"ndarray_repr\"><pre>ndarray (256, 256, 3) <button style=\"padding: 0 2px;\">show data</button></pre><img src=\"data:image/png;base64,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\" class=\"ndarray_image_preview\" /><pre class=\"ndarray_raw_data\">array([[[180, 200, 230],\n",
              "        [180, 200, 230],\n",
              "        [180, 200, 230],\n",
              "        ...,\n",
              "        [180, 200, 230],\n",
              "        [180, 200, 230],\n",
              "        [180, 200, 230]],\n",
              "\n",
              "       [[180, 200, 230],\n",
              "        [204, 230, 255],\n",
              "        [204, 230, 255],\n",
              "        ...,\n",
              "        [204, 230, 255],\n",
              "        [204, 230, 255],\n",
              "        [180, 200, 230]],\n",
              "\n",
              "       [[180, 200, 230],\n",
              "        [235, 245, 249],\n",
              "        [204, 230, 255],\n",
              "        ...,\n",
              "        [204, 230, 255],\n",
              "        [204, 230, 255],\n",
              "        [180, 200, 230]],\n",
              "\n",
              "       ...,\n",
              "\n",
              "       [[180, 200, 230],\n",
              "        [235, 245, 249],\n",
              "        [235, 245, 249],\n",
              "        ...,\n",
              "        [204, 230, 255],\n",
              "        [235, 245, 249],\n",
              "        [180, 200, 230]],\n",
              "\n",
              "       [[180, 200, 230],\n",
              "        [235, 245, 249],\n",
              "        [235, 245, 249],\n",
              "        ...,\n",
              "        [204, 230, 255],\n",
              "        [204, 230, 255],\n",
              "        [180, 200, 230]],\n",
              "\n",
              "       [[180, 200, 230],\n",
              "        [180, 200, 230],\n",
              "        [180, 200, 230],\n",
              "        ...,\n",
              "        [180, 200, 230],\n",
              "        [180, 200, 230],\n",
              "        [180, 200, 230]]], dtype=uint8)</pre></div><script>\n",
              "      (() => {\n",
              "      const titles = ['show data', 'hide data'];\n",
              "      let index = 0\n",
              "      document.querySelector('#id-08814147-5b6a-412b-88dd-e3ce3c5f1ded button').onclick = (e) => {\n",
              "        document.querySelector('#id-08814147-5b6a-412b-88dd-e3ce3c5f1ded').classList.toggle('show_array');\n",
              "        index = (++index) % 2;\n",
              "        document.querySelector('#id-08814147-5b6a-412b-88dd-e3ce3c5f1ded button').textContent = titles[index];\n",
              "        e.preventDefault();\n",
              "        e.stopPropagation();\n",
              "      }\n",
              "      })();\n",
              "    </script>"
            ]
          },
          "metadata": {},
          "execution_count": 23
        },
        {
          "output_type": "stream",
          "name": "stdout",
          "text": [
            "Agentımız toplam 20 hamle yaptı ve ödülü:0.0\n",
            "time: 379 ms (started: 2025-04-06 11:12:18 +00:00)\n"
          ]
        }
      ]
    },
    {
      "cell_type": "markdown",
      "source": [
        "Şimdi 10 kez oyanatalım ve her turun önemli bilgilerini listeleyelim."
      ],
      "metadata": {
        "id": "7y9gqZxuhYvZ"
      }
    },
    {
      "cell_type": "code",
      "source": [
        "total_reward_list = []\n",
        "for j in range(10):\n",
        "    _ = env.reset()\n",
        "    time_step = 0\n",
        "    total_reward = 0\n",
        "\n",
        "    while True:\n",
        "        time_step += 1\n",
        "        action = env.action_space.sample() #random bi action ürettik, 0-5 arasından bi değer üretecek\n",
        "        state, reward, done, truncated, _ =  env.step(action) # state denen şey aslında next state. son paramenter info kullanmayacağı için _ diyebiliriz\n",
        "        total_reward += reward\n",
        "\n",
        "        if done or truncated:\n",
        "            print(f\"Episode: {j}, Timestep: {time_step}, Total Reward: {total_reward}, Sonuç: {'Başarılı' if state==15 else 'Hüsran'}\")\n",
        "            total_reward_list.append(total_reward)\n",
        "            break\n"
      ],
      "metadata": {
        "colab": {
          "base_uri": "https://localhost:8080/"
        },
        "id": "c1P92uSnhc7N",
        "outputId": "f3386f59-c0c8-445d-ca1f-01fbb192f0d3"
      },
      "execution_count": null,
      "outputs": [
        {
          "output_type": "stream",
          "name": "stdout",
          "text": [
            "Episode: 0, Timestep: 4, Total Reward: 0.0, Sonuç: Hüsran\n",
            "Episode: 1, Timestep: 7, Total Reward: 0.0, Sonuç: Hüsran\n",
            "Episode: 2, Timestep: 7, Total Reward: 0.0, Sonuç: Hüsran\n",
            "Episode: 3, Timestep: 3, Total Reward: 0.0, Sonuç: Hüsran\n",
            "Episode: 4, Timestep: 7, Total Reward: 0.0, Sonuç: Hüsran\n",
            "Episode: 5, Timestep: 4, Total Reward: 0.0, Sonuç: Hüsran\n",
            "Episode: 6, Timestep: 5, Total Reward: 0.0, Sonuç: Hüsran\n",
            "Episode: 7, Timestep: 8, Total Reward: 0.0, Sonuç: Hüsran\n",
            "Episode: 8, Timestep: 16, Total Reward: 0.0, Sonuç: Hüsran\n",
            "Episode: 9, Timestep: 8, Total Reward: 0.0, Sonuç: Hüsran\n",
            "time: 5.31 ms (started: 2025-04-06 11:12:18 +00:00)\n"
          ]
        }
      ]
    },
    {
      "cell_type": "markdown",
      "source": [
        "## Q-learning\n"
      ],
      "metadata": {
        "id": "RVw6ukHkaE1i"
      }
    },
    {
      "cell_type": "markdown",
      "source": [
        "Tanımımız neydi, hatırlayalım: Hangi durumda(state) hangi hareketi yapmak uzun vadede en çok ödülü getirir, bunu öğrenmeye çalışırız.\n",
        "\n",
        "Yani bu environment'ta hedefe giden en kısa yolu çatlaklara(deliklere) düşmeden gitmeyi öğrenmemiz gerekiyor. Yani şu 3 alternatif yoldan birini öğrenmeliyiz."
      ],
      "metadata": {
        "id": "FPNH17BJW_38"
      }
    },
    {
      "cell_type": "markdown",
      "source": [
        "![Screenshot from 2025-03-23 12-31-26.png](data:image/png;base64,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)"
      ],
      "metadata": {
        "id": "IKlv-hjiV-1g"
      }
    },
    {
      "cell_type": "markdown",
      "source": [
        "Denir ki, RL'de agentlar oyunu bilmez, kuralları bilmez, delik nedir, canavar nedir, top nedir v.s bilmez. Evet, birçok şeyi bilmediği doğru ama aslında oyunun ne olduğunu hiç bilmediği bence doğru değil, zira, aslında hedefin ne olduğunu değil ama hedef hücreye geldiğinde ne kadar ödül kazanacağını(keza delikler için de ceza) biliyor, bir nevi aslında ona oyunun kuralları verilmiş gibi düşünülebilir."
      ],
      "metadata": {
        "id": "TLrV3XYqZyyp"
      }
    },
    {
      "cell_type": "markdown",
      "source": [
        "### Basit model"
      ],
      "metadata": {
        "id": "gmV1rI2YJ1SX"
      }
    },
    {
      "cell_type": "markdown",
      "source": [
        "İlk yaklaşım, konuyu öğrenmemiz adına basit bir konfigürasyon içerecek. Q_table oluşturutken pure bellman eşitliğinden yararlanarak ilerleyeceğiz.\n",
        "\n",
        "İnşa edeceğimiz Q_table medium yazısında gösterdiğimiz gibi bir numpy matris olacak. Bunu uzun vadede öğrenmek(stratejiyi oluşturmak) için binlerce kez(episode) oynayacağız. Bu, küçük bir environment olduğu için kodumuz hızlı çalışacaktır, o yüzden 50bin kez oynatabiliriz."
      ],
      "metadata": {
        "id": "kauLkIIGXZvt"
      }
    },
    {
      "cell_type": "code",
      "source": [
        "#observation bilgsini 2 koordinatlı hücre bilgisine çevirecek olan bir decoder fonksiyon\n",
        "def decode(state):\n",
        "  row = state // 4\n",
        "  col = state % 4\n",
        "  return (row, col)"
      ],
      "metadata": {
        "colab": {
          "base_uri": "https://localhost:8080/"
        },
        "id": "3IkdHF8oITNT",
        "outputId": "d24117fe-aec6-43ab-ceff-d2ebba58620e"
      },
      "execution_count": null,
      "outputs": [
        {
          "output_type": "stream",
          "name": "stdout",
          "text": [
            "time: 1.15 ms (started: 2025-04-06 11:12:18 +00:00)\n"
          ]
        }
      ]
    },
    {
      "cell_type": "markdown",
      "source": [
        "İlk olarak 5 tur atıp ekrana bazı bilgiler yazdırarak nasıl işlediğini göstereceğiz. Q_table'ın 0'lar dışında da bazı değerlere hızlıca ulaşması için de birkaç oynama yapacağız."
      ],
      "metadata": {
        "id": "95hSe0K_LGx4"
      }
    },
    {
      "cell_type": "code",
      "source": [
        "env = gym.make('FrozenLake-v1', is_slippery=False, render_mode=\"rgb_array\")\n",
        "env._max_episode_steps=30\n",
        "episode_number = 10"
      ],
      "metadata": {
        "colab": {
          "base_uri": "https://localhost:8080/"
        },
        "id": "S_qzIg3dLQVD",
        "outputId": "437eb503-65dc-44ce-a4c1-58acdda01eee"
      },
      "execution_count": null,
      "outputs": [
        {
          "output_type": "stream",
          "name": "stdout",
          "text": [
            "time: 2.21 ms (started: 2025-04-06 11:12:18 +00:00)\n"
          ]
        }
      ]
    },
    {
      "cell_type": "code",
      "source": [
        "q_table = np.zeros([env.observation_space.n,env.action_space.n]) #environment'ın action ve state space'ine göre başlangıç aşamasında 0'lardan oluşan bir Q table oluşturuyoruz\n",
        "alpha = 0.5 # learning rate\n",
        "gamma = 0.9 # discount ratio\n",
        "\n",
        "for i in range(episode_number):\n",
        "    state, info_initial = env.reset() # state=0 olarak başlar\n",
        "    total_steps = 0 # hem deliğe düşme sayısı, hem yanlış(hedef olmayan) yere gelme sayısını tutacağız, her episodda sıfırlayacağız\n",
        "\n",
        "    while True:\n",
        "        # q-tableda o state'deki en büyük olan actionu alarak başlıyoruz, eğer max değer 0'sa(oyunu başlarında böyle olacak), random bir action seçelim\n",
        "        if np.max(q_table[state]) > 0:\n",
        "          action = np.argmax(q_table[state])\n",
        "        else:\n",
        "          action = env.action_space.sample()\n",
        "\n",
        "        next_state, reward, terminated, truncated, _ = env.step(action) # bu aksiyonu icra ediyoruz, slipper olmadığnda info hep 1 olduğu için _\n",
        "\n",
        "        print(f\"{i}. episode'da {total_steps}. adımda '{directions[action]}' aksiyonu ile oluşan durum: next_state:{next_state}, yani {decode(next_state)}, reward: {reward}, terminated: {terminated}, truncated:{truncated}\")\n",
        "\n",
        "        # Q learning fonksiyonu\n",
        "        old_value = q_table[state,action]\n",
        "        next_max = np.max(q_table[next_state])\n",
        "\n",
        "        next_value = (1-alpha)*old_value + alpha*(reward + gamma*next_max) #bellman fonksiyonu, formülü biraz farklı göstererek yazıyoruz, oldvalue iki tarafta da var ya, 1-alfa parantezine alıyoruz\n",
        "        q_table[state,action] = next_value # Q table'ı update ediyoruz\n",
        "        state = next_state # state'i update ediyoruz\n",
        "\n",
        "        # yanlış hamle miktarınının izini sürmek için 1 artıralım\n",
        "        if reward == 0:\n",
        "            total_steps += 1\n",
        "\n",
        "        if terminated and reward == 0:\n",
        "          print(f\"{i}. episodeda {total_steps} sonunda çatlağa düşme nedeniyle sonlandı*************************************\\n\")\n",
        "          break\n",
        "        elif terminated and reward==1:\n",
        "          print(f\"{i}. episodeda hedefe varma nedeniyle sonlandı***************************\\n\")\n",
        "          break\n",
        "        elif truncated:\n",
        "          print(f\"{i}. episodeda max hamle sayısına ulaşıldığı için sonlandı*******************************\\n\")\n",
        "          break\n",
        "        else:\n",
        "          pass"
      ],
      "metadata": {
        "id": "NWhF3wwkZNS3",
        "colab": {
          "base_uri": "https://localhost:8080/"
        },
        "outputId": "42c4ddb6-6ff3-4fec-d30c-d053fa8a0898"
      },
      "execution_count": null,
      "outputs": [
        {
          "output_type": "stream",
          "name": "stdout",
          "text": [
            "0. episode'da 0. adımda 'yukarı' aksiyonu ile oluşan durum: next_state:0, yani (0, 0), reward: 0.0, terminated: False, truncated:False\n",
            "0. episode'da 1. adımda 'aşağı' aksiyonu ile oluşan durum: next_state:4, yani (1, 0), reward: 0.0, terminated: False, truncated:False\n",
            "0. episode'da 2. adımda 'sağ' aksiyonu ile oluşan durum: next_state:5, yani (1, 1), reward: 0.0, terminated: True, truncated:False\n",
            "0. episodeda 3 sonunda çatlağa düşme nedeniyle sonlandı*************************************\n",
            "\n",
            "1. episode'da 0. adımda 'sol' aksiyonu ile oluşan durum: next_state:0, yani (0, 0), reward: 0.0, terminated: False, truncated:False\n",
            "1. episode'da 1. adımda 'sağ' aksiyonu ile oluşan durum: next_state:1, yani (0, 1), reward: 0.0, terminated: False, truncated:False\n",
            "1. episode'da 2. adımda 'yukarı' aksiyonu ile oluşan durum: next_state:1, yani (0, 1), reward: 0.0, terminated: False, truncated:False\n",
            "1. episode'da 3. adımda 'aşağı' aksiyonu ile oluşan durum: next_state:5, yani (1, 1), reward: 0.0, terminated: True, truncated:False\n",
            "1. episodeda 4 sonunda çatlağa düşme nedeniyle sonlandı*************************************\n",
            "\n",
            "2. episode'da 0. adımda 'sol' aksiyonu ile oluşan durum: next_state:0, yani (0, 0), reward: 0.0, terminated: False, truncated:False\n",
            "2. episode'da 1. adımda 'sağ' aksiyonu ile oluşan durum: next_state:1, yani (0, 1), reward: 0.0, terminated: False, truncated:False\n",
            "2. episode'da 2. adımda 'sol' aksiyonu ile oluşan durum: next_state:0, yani (0, 0), reward: 0.0, terminated: False, truncated:False\n",
            "2. episode'da 3. adımda 'yukarı' aksiyonu ile oluşan durum: next_state:0, yani (0, 0), reward: 0.0, terminated: False, truncated:False\n",
            "2. episode'da 4. adımda 'sol' aksiyonu ile oluşan durum: next_state:0, yani (0, 0), reward: 0.0, terminated: False, truncated:False\n",
            "2. episode'da 5. adımda 'yukarı' aksiyonu ile oluşan durum: next_state:0, yani (0, 0), reward: 0.0, terminated: False, truncated:False\n",
            "2. episode'da 6. adımda 'yukarı' aksiyonu ile oluşan durum: next_state:0, yani (0, 0), reward: 0.0, terminated: False, truncated:False\n",
            "2. episode'da 7. adımda 'sağ' aksiyonu ile oluşan durum: next_state:1, yani (0, 1), reward: 0.0, terminated: False, truncated:False\n",
            "2. episode'da 8. adımda 'sağ' aksiyonu ile oluşan durum: next_state:2, yani (0, 2), reward: 0.0, terminated: False, truncated:False\n",
            "2. episode'da 9. adımda 'sol' aksiyonu ile oluşan durum: next_state:1, yani (0, 1), reward: 0.0, terminated: False, truncated:False\n",
            "2. episode'da 10. adımda 'yukarı' aksiyonu ile oluşan durum: next_state:1, yani (0, 1), reward: 0.0, terminated: False, truncated:False\n",
            "2. episode'da 11. adımda 'aşağı' aksiyonu ile oluşan durum: next_state:5, yani (1, 1), reward: 0.0, terminated: True, truncated:False\n",
            "2. episodeda 12 sonunda çatlağa düşme nedeniyle sonlandı*************************************\n",
            "\n",
            "3. episode'da 0. adımda 'aşağı' aksiyonu ile oluşan durum: next_state:4, yani (1, 0), reward: 0.0, terminated: False, truncated:False\n",
            "3. episode'da 1. adımda 'sol' aksiyonu ile oluşan durum: next_state:4, yani (1, 0), reward: 0.0, terminated: False, truncated:False\n",
            "3. episode'da 2. adımda 'yukarı' aksiyonu ile oluşan durum: next_state:0, yani (0, 0), reward: 0.0, terminated: False, truncated:False\n",
            "3. episode'da 3. adımda 'aşağı' aksiyonu ile oluşan durum: next_state:4, yani (1, 0), reward: 0.0, terminated: False, truncated:False\n",
            "3. episode'da 4. adımda 'yukarı' aksiyonu ile oluşan durum: next_state:0, yani (0, 0), reward: 0.0, terminated: False, truncated:False\n",
            "3. episode'da 5. adımda 'yukarı' aksiyonu ile oluşan durum: next_state:0, yani (0, 0), reward: 0.0, terminated: False, truncated:False\n",
            "3. episode'da 6. adımda 'aşağı' aksiyonu ile oluşan durum: next_state:4, yani (1, 0), reward: 0.0, terminated: False, truncated:False\n",
            "3. episode'da 7. adımda 'sağ' aksiyonu ile oluşan durum: next_state:5, yani (1, 1), reward: 0.0, terminated: True, truncated:False\n",
            "3. episodeda 8 sonunda çatlağa düşme nedeniyle sonlandı*************************************\n",
            "\n",
            "4. episode'da 0. adımda 'aşağı' aksiyonu ile oluşan durum: next_state:4, yani (1, 0), reward: 0.0, terminated: False, truncated:False\n",
            "4. episode'da 1. adımda 'aşağı' aksiyonu ile oluşan durum: next_state:8, yani (2, 0), reward: 0.0, terminated: False, truncated:False\n",
            "4. episode'da 2. adımda 'yukarı' aksiyonu ile oluşan durum: next_state:4, yani (1, 0), reward: 0.0, terminated: False, truncated:False\n",
            "4. episode'da 3. adımda 'yukarı' aksiyonu ile oluşan durum: next_state:0, yani (0, 0), reward: 0.0, terminated: False, truncated:False\n",
            "4. episode'da 4. adımda 'sol' aksiyonu ile oluşan durum: next_state:0, yani (0, 0), reward: 0.0, terminated: False, truncated:False\n",
            "4. episode'da 5. adımda 'yukarı' aksiyonu ile oluşan durum: next_state:0, yani (0, 0), reward: 0.0, terminated: False, truncated:False\n",
            "4. episode'da 6. adımda 'aşağı' aksiyonu ile oluşan durum: next_state:4, yani (1, 0), reward: 0.0, terminated: False, truncated:False\n",
            "4. episode'da 7. adımda 'aşağı' aksiyonu ile oluşan durum: next_state:8, yani (2, 0), reward: 0.0, terminated: False, truncated:False\n",
            "4. episode'da 8. adımda 'aşağı' aksiyonu ile oluşan durum: next_state:12, yani (3, 0), reward: 0.0, terminated: True, truncated:False\n",
            "4. episodeda 9 sonunda çatlağa düşme nedeniyle sonlandı*************************************\n",
            "\n",
            "5. episode'da 0. adımda 'sağ' aksiyonu ile oluşan durum: next_state:1, yani (0, 1), reward: 0.0, terminated: False, truncated:False\n",
            "5. episode'da 1. adımda 'sol' aksiyonu ile oluşan durum: next_state:0, yani (0, 0), reward: 0.0, terminated: False, truncated:False\n",
            "5. episode'da 2. adımda 'sol' aksiyonu ile oluşan durum: next_state:0, yani (0, 0), reward: 0.0, terminated: False, truncated:False\n",
            "5. episode'da 3. adımda 'sağ' aksiyonu ile oluşan durum: next_state:1, yani (0, 1), reward: 0.0, terminated: False, truncated:False\n",
            "5. episode'da 4. adımda 'sağ' aksiyonu ile oluşan durum: next_state:2, yani (0, 2), reward: 0.0, terminated: False, truncated:False\n",
            "5. episode'da 5. adımda 'sol' aksiyonu ile oluşan durum: next_state:1, yani (0, 1), reward: 0.0, terminated: False, truncated:False\n",
            "5. episode'da 6. adımda 'sağ' aksiyonu ile oluşan durum: next_state:2, yani (0, 2), reward: 0.0, terminated: False, truncated:False\n",
            "5. episode'da 7. adımda 'yukarı' aksiyonu ile oluşan durum: next_state:2, yani (0, 2), reward: 0.0, terminated: False, truncated:False\n",
            "5. episode'da 8. adımda 'sol' aksiyonu ile oluşan durum: next_state:1, yani (0, 1), reward: 0.0, terminated: False, truncated:False\n",
            "5. episode'da 9. adımda 'aşağı' aksiyonu ile oluşan durum: next_state:5, yani (1, 1), reward: 0.0, terminated: True, truncated:False\n",
            "5. episodeda 10 sonunda çatlağa düşme nedeniyle sonlandı*************************************\n",
            "\n",
            "6. episode'da 0. adımda 'sol' aksiyonu ile oluşan durum: next_state:0, yani (0, 0), reward: 0.0, terminated: False, truncated:False\n",
            "6. episode'da 1. adımda 'sol' aksiyonu ile oluşan durum: next_state:0, yani (0, 0), reward: 0.0, terminated: False, truncated:False\n",
            "6. episode'da 2. adımda 'sol' aksiyonu ile oluşan durum: next_state:0, yani (0, 0), reward: 0.0, terminated: False, truncated:False\n",
            "6. episode'da 3. adımda 'sol' aksiyonu ile oluşan durum: next_state:0, yani (0, 0), reward: 0.0, terminated: False, truncated:False\n",
            "6. episode'da 4. adımda 'sol' aksiyonu ile oluşan durum: next_state:0, yani (0, 0), reward: 0.0, terminated: False, truncated:False\n",
            "6. episode'da 5. adımda 'aşağı' aksiyonu ile oluşan durum: next_state:4, yani (1, 0), reward: 0.0, terminated: False, truncated:False\n",
            "6. episode'da 6. adımda 'yukarı' aksiyonu ile oluşan durum: next_state:0, yani (0, 0), reward: 0.0, terminated: False, truncated:False\n",
            "6. episode'da 7. adımda 'yukarı' aksiyonu ile oluşan durum: next_state:0, yani (0, 0), reward: 0.0, terminated: False, truncated:False\n",
            "6. episode'da 8. adımda 'sol' aksiyonu ile oluşan durum: next_state:0, yani (0, 0), reward: 0.0, terminated: False, truncated:False\n",
            "6. episode'da 9. adımda 'yukarı' aksiyonu ile oluşan durum: next_state:0, yani (0, 0), reward: 0.0, terminated: False, truncated:False\n",
            "6. episode'da 10. adımda 'sağ' aksiyonu ile oluşan durum: next_state:1, yani (0, 1), reward: 0.0, terminated: False, truncated:False\n",
            "6. episode'da 11. adımda 'yukarı' aksiyonu ile oluşan durum: next_state:1, yani (0, 1), reward: 0.0, terminated: False, truncated:False\n",
            "6. episode'da 12. adımda 'sol' aksiyonu ile oluşan durum: next_state:0, yani (0, 0), reward: 0.0, terminated: False, truncated:False\n",
            "6. episode'da 13. adımda 'sağ' aksiyonu ile oluşan durum: next_state:1, yani (0, 1), reward: 0.0, terminated: False, truncated:False\n",
            "6. episode'da 14. adımda 'sol' aksiyonu ile oluşan durum: next_state:0, yani (0, 0), reward: 0.0, terminated: False, truncated:False\n",
            "6. episode'da 15. adımda 'yukarı' aksiyonu ile oluşan durum: next_state:0, yani (0, 0), reward: 0.0, terminated: False, truncated:False\n",
            "6. episode'da 16. adımda 'sol' aksiyonu ile oluşan durum: next_state:0, yani (0, 0), reward: 0.0, terminated: False, truncated:False\n",
            "6. episode'da 17. adımda 'sağ' aksiyonu ile oluşan durum: next_state:1, yani (0, 1), reward: 0.0, terminated: False, truncated:False\n",
            "6. episode'da 18. adımda 'aşağı' aksiyonu ile oluşan durum: next_state:5, yani (1, 1), reward: 0.0, terminated: True, truncated:False\n",
            "6. episodeda 19 sonunda çatlağa düşme nedeniyle sonlandı*************************************\n",
            "\n",
            "7. episode'da 0. adımda 'sol' aksiyonu ile oluşan durum: next_state:0, yani (0, 0), reward: 0.0, terminated: False, truncated:False\n",
            "7. episode'da 1. adımda 'sağ' aksiyonu ile oluşan durum: next_state:1, yani (0, 1), reward: 0.0, terminated: False, truncated:False\n",
            "7. episode'da 2. adımda 'aşağı' aksiyonu ile oluşan durum: next_state:5, yani (1, 1), reward: 0.0, terminated: True, truncated:False\n",
            "7. episodeda 3 sonunda çatlağa düşme nedeniyle sonlandı*************************************\n",
            "\n",
            "8. episode'da 0. adımda 'yukarı' aksiyonu ile oluşan durum: next_state:0, yani (0, 0), reward: 0.0, terminated: False, truncated:False\n",
            "8. episode'da 1. adımda 'sağ' aksiyonu ile oluşan durum: next_state:1, yani (0, 1), reward: 0.0, terminated: False, truncated:False\n",
            "8. episode'da 2. adımda 'aşağı' aksiyonu ile oluşan durum: next_state:5, yani (1, 1), reward: 0.0, terminated: True, truncated:False\n",
            "8. episodeda 3 sonunda çatlağa düşme nedeniyle sonlandı*************************************\n",
            "\n",
            "9. episode'da 0. adımda 'sol' aksiyonu ile oluşan durum: next_state:0, yani (0, 0), reward: 0.0, terminated: False, truncated:False\n",
            "9. episode'da 1. adımda 'sol' aksiyonu ile oluşan durum: next_state:0, yani (0, 0), reward: 0.0, terminated: False, truncated:False\n",
            "9. episode'da 2. adımda 'aşağı' aksiyonu ile oluşan durum: next_state:4, yani (1, 0), reward: 0.0, terminated: False, truncated:False\n",
            "9. episode'da 3. adımda 'aşağı' aksiyonu ile oluşan durum: next_state:8, yani (2, 0), reward: 0.0, terminated: False, truncated:False\n",
            "9. episode'da 4. adımda 'sağ' aksiyonu ile oluşan durum: next_state:9, yani (2, 1), reward: 0.0, terminated: False, truncated:False\n",
            "9. episode'da 5. adımda 'aşağı' aksiyonu ile oluşan durum: next_state:13, yani (3, 1), reward: 0.0, terminated: False, truncated:False\n",
            "9. episode'da 6. adımda 'yukarı' aksiyonu ile oluşan durum: next_state:9, yani (2, 1), reward: 0.0, terminated: False, truncated:False\n",
            "9. episode'da 7. adımda 'yukarı' aksiyonu ile oluşan durum: next_state:5, yani (1, 1), reward: 0.0, terminated: True, truncated:False\n",
            "9. episodeda 8 sonunda çatlağa düşme nedeniyle sonlandı*************************************\n",
            "\n",
            "time: 11.8 ms (started: 2025-04-06 11:12:18 +00:00)\n"
          ]
        }
      ]
    },
    {
      "cell_type": "code",
      "source": [
        "q_table"
      ],
      "metadata": {
        "colab": {
          "base_uri": "https://localhost:8080/"
        },
        "id": "JiFG8ZjeceQ0",
        "outputId": "521352b6-6929-475c-8226-a7dc67229312"
      },
      "execution_count": null,
      "outputs": [
        {
          "output_type": "execute_result",
          "data": {
            "text/plain": [
              "array([[0., 0., 0., 0.],\n",
              "       [0., 0., 0., 0.],\n",
              "       [0., 0., 0., 0.],\n",
              "       [0., 0., 0., 0.],\n",
              "       [0., 0., 0., 0.],\n",
              "       [0., 0., 0., 0.],\n",
              "       [0., 0., 0., 0.],\n",
              "       [0., 0., 0., 0.],\n",
              "       [0., 0., 0., 0.],\n",
              "       [0., 0., 0., 0.],\n",
              "       [0., 0., 0., 0.],\n",
              "       [0., 0., 0., 0.],\n",
              "       [0., 0., 0., 0.],\n",
              "       [0., 0., 0., 0.],\n",
              "       [0., 0., 0., 0.],\n",
              "       [0., 0., 0., 0.]])"
            ]
          },
          "metadata": {},
          "execution_count": 28
        },
        {
          "output_type": "stream",
          "name": "stdout",
          "text": [
            "time: 3.25 ms (started: 2025-04-06 11:12:18 +00:00)\n"
          ]
        }
      ]
    },
    {
      "cell_type": "markdown",
      "source": [
        "### epipsode sayısı artırlmış model"
      ],
      "metadata": {
        "id": "Uoyp7YfwNH8E"
      }
    },
    {
      "cell_type": "code",
      "source": [
        "env = gym.make('FrozenLake-v1', is_slippery=False, render_mode=\"rgb_array\")\n",
        "episode_number = 5000"
      ],
      "metadata": {
        "colab": {
          "base_uri": "https://localhost:8080/"
        },
        "id": "JO-_bQb9NR6i",
        "outputId": "cc126513-9eb2-40f0-8a47-f098426214b3"
      },
      "execution_count": null,
      "outputs": [
        {
          "output_type": "stream",
          "name": "stdout",
          "text": [
            "time: 1.38 ms (started: 2025-04-06 11:12:19 +00:00)\n"
          ]
        }
      ]
    },
    {
      "cell_type": "code",
      "source": [
        "q_table = np.zeros([env.observation_space.n,env.action_space.n])\n",
        "alpha = 0.5\n",
        "gamma = 0.9\n",
        "reward_list = []\n",
        "total_reward=0\n",
        "outcomes=[]\n",
        "\n",
        "for i in range(episode_number):\n",
        "    state, info_initial = env.reset()\n",
        "    outcomes.append(\"Failure\")\n",
        "    total_steps=0\n",
        "\n",
        "    while True:\n",
        "        if np.max(q_table[state]) > 0:\n",
        "          action = np.argmax(q_table[state])\n",
        "        else:\n",
        "          action = env.action_space.sample()\n",
        "\n",
        "        next_state, reward, terminated, truncated, _ = env.step(action)\n",
        "\n",
        "        old_value = q_table[state,action]\n",
        "        next_max = np.max(q_table[next_state])\n",
        "\n",
        "        next_value = (1-alpha)*old_value + alpha*(reward + gamma*next_max)\n",
        "        q_table[state,action] = next_value\n",
        "        state = next_state\n",
        "\n",
        "        total_steps+=1\n",
        "\n",
        "        if reward:\n",
        "          total_reward+=1\n",
        "          outcomes[-1] = \"Success\"\n",
        "\n",
        "        if terminated or truncated:\n",
        "          break\n",
        "\n",
        "    if i % 1000 == 0: #her 1000 turda bir ekrana yazdıralım\n",
        "        reward_list.append(total_reward)\n",
        "        print(f\"{i}.episode sonunuda toplam ödül:{total_reward}, ilgili episodedaki adım sayısı:{total_steps}\")\n",
        "\n",
        "reward_list.append(total_reward)\n",
        "print(f\"Toplam {total_reward} kez oyun kazanıldı\")\n",
        "print(\"Nihai q-table:\\n\")\n",
        "print(q_table)"
      ],
      "metadata": {
        "colab": {
          "base_uri": "https://localhost:8080/"
        },
        "id": "Otd6csaTNNqG",
        "outputId": "4fba285c-e3f0-4267-ac8b-49b87e7de7d9"
      },
      "execution_count": null,
      "outputs": [
        {
          "output_type": "stream",
          "name": "stdout",
          "text": [
            "0.episode sonunuda toplam ödül:0, ilgili episodedaki adım sayısı:10\n",
            "1000.episode sonunuda toplam ödül:937, ilgili episodedaki adım sayısı:6\n",
            "2000.episode sonunuda toplam ödül:1937, ilgili episodedaki adım sayısı:6\n",
            "3000.episode sonunuda toplam ödül:2937, ilgili episodedaki adım sayısı:6\n",
            "4000.episode sonunuda toplam ödül:3937, ilgili episodedaki adım sayısı:6\n",
            "Toplam 4936 kez oyun kazanıldı\n",
            "Nihai q-table:\n",
            "\n",
            "[[0.      0.      0.59049 0.     ]\n",
            " [0.      0.      0.6561  0.     ]\n",
            " [0.      0.729   0.      0.     ]\n",
            " [0.      0.      0.      0.     ]\n",
            " [0.      0.      0.      0.     ]\n",
            " [0.      0.      0.      0.     ]\n",
            " [0.      0.81    0.      0.     ]\n",
            " [0.      0.      0.      0.     ]\n",
            " [0.      0.      0.      0.     ]\n",
            " [0.      0.      0.      0.     ]\n",
            " [0.      0.9     0.      0.     ]\n",
            " [0.      0.      0.      0.     ]\n",
            " [0.      0.      0.      0.     ]\n",
            " [0.      0.      0.39375 0.     ]\n",
            " [0.      0.      1.      0.     ]\n",
            " [0.      0.      0.      0.     ]]\n",
            "time: 1.28 s (started: 2025-04-06 11:12:19 +00:00)\n"
          ]
        }
      ]
    },
    {
      "cell_type": "markdown",
      "source": [
        "Görüldüğü üzere ilk 1000 oyun içinde öğrenme tamamlandı ve sonraki her 1000 oyunun hepsi kazanıldı. Bakalım tam ne zaman öğrenme gerçekleşmiş."
      ],
      "metadata": {
        "id": "yLQIZQahavia"
      }
    },
    {
      "cell_type": "code",
      "source": [
        "plt.figure(figsize=(12, 5))\n",
        "plt.xlabel(\"Run number\")\n",
        "plt.ylabel(\"Outcome\")\n",
        "ax = plt.gca()\n",
        "ax.set_facecolor('#efeeea')\n",
        "plt.bar(range(500), outcomes[:500], color=\"#0A047A\", width=1.0)\n",
        "plt.show()"
      ],
      "metadata": {
        "colab": {
          "base_uri": "https://localhost:8080/",
          "height": 555
        },
        "id": "w76pxDtDPOIF",
        "outputId": "f63ba4d2-e51c-4d02-a489-cf5361c69868"
      },
      "execution_count": null,
      "outputs": [
        {
          "output_type": "execute_result",
          "data": {
            "text/plain": [
              "<Figure size 1200x500 with 0 Axes>"
            ]
          },
          "metadata": {},
          "execution_count": 31
        },
        {
          "output_type": "execute_result",
          "data": {
            "text/plain": [
              "Text(0.5, 0, 'Run number')"
            ]
          },
          "metadata": {},
          "execution_count": 31
        },
        {
          "output_type": "execute_result",
          "data": {
            "text/plain": [
              "Text(0, 0.5, 'Outcome')"
            ]
          },
          "metadata": {},
          "execution_count": 31
        },
        {
          "output_type": "execute_result",
          "data": {
            "text/plain": [
              "<BarContainer object of 500 artists>"
            ]
          },
          "metadata": {},
          "execution_count": 31
        },
        {
          "output_type": "display_data",
          "data": {
            "text/plain": [
              "<Figure size 1200x500 with 1 Axes>"
            ],
            "image/png": "[encoded data removed]"
          },
          "metadata": {}
        },
        {
          "output_type": "stream",
          "name": "stdout",
          "text": [
            "time: 1.36 s (started: 2025-04-06 11:12:20 +00:00)\n"
          ]
        }
      ]
    },
    {
      "cell_type": "markdown",
      "source": [
        "70-80 civarından sonra öğrenme tamamlanmış gibi duruyor."
      ],
      "metadata": {
        "id": "WkqoGa2CfGnn"
      }
    },
    {
      "cell_type": "markdown",
      "source": [
        "FrozenLake ortamını kaygan olmayacak şekilde (is_slippery=False) kurduysanız, hareketler tamamen deterministik olur. Bu durumda agent, her eylemi %100 doğrulukla gerçekleştirir (örneğin, \"aşağı git\" eylemi her zaman başarılı olur)\n",
        "ve exploration (keşif) gerekmez, çünkü ortamda rastgelelik yoktur. Agent, Q-table'ı güncellerken direkt olarak optimal yolu bulabilir."
      ],
      "metadata": {
        "id": "bsVSdeJQoBUz"
      }
    },
    {
      "cell_type": "markdown",
      "source": [
        "### slippery"
      ],
      "metadata": {
        "id": "yVi0rMdwZJsV"
      }
    },
    {
      "cell_type": "markdown",
      "source": [
        "Şimdi ortama biraz belirsizlik(stokastiklik) katalım."
      ],
      "metadata": {
        "id": "EodZrLuEo7kn"
      }
    },
    {
      "cell_type": "markdown",
      "source": [
        "#### Epsilonsuz"
      ],
      "metadata": {
        "id": "8f6w94pfpAMl"
      }
    },
    {
      "cell_type": "markdown",
      "source": [
        "Yukaıdaki kodları aynen alalım sadece isslipery=True yapalım"
      ],
      "metadata": {
        "id": "fqoT7NmVpS_t"
      }
    },
    {
      "cell_type": "code",
      "source": [
        "env = gym.make('FrozenLake-v1', is_slippery=True, render_mode=\"rgb_array\")\n",
        "episode_number = 5000"
      ],
      "metadata": {
        "colab": {
          "base_uri": "https://localhost:8080/"
        },
        "outputId": "e9226f4c-9e61-418b-8cbc-688620ab096e",
        "id": "wZ-qeWcfpQLx"
      },
      "execution_count": null,
      "outputs": [
        {
          "output_type": "stream",
          "name": "stdout",
          "text": [
            "time: 2.45 ms (started: 2025-04-06 11:12:21 +00:00)\n"
          ]
        }
      ]
    },
    {
      "cell_type": "code",
      "source": [
        "q_table = np.zeros([env.observation_space.n,env.action_space.n])\n",
        "alpha = 0.5\n",
        "gamma = 0.9\n",
        "reward_list = []\n",
        "total_reward=0\n",
        "outcomes=[]\n",
        "succesful_step_list=[]\n",
        "\n",
        "for i in range(episode_number):\n",
        "    state, info_initial = env.reset()\n",
        "    outcomes.append(\"Failure\")\n",
        "    total_steps=0\n",
        "\n",
        "    while True:\n",
        "        if np.max(q_table[state]) > 0:\n",
        "          action = np.argmax(q_table[state])\n",
        "        else:\n",
        "          action = env.action_space.sample()\n",
        "\n",
        "        next_state, reward, terminated, truncated, _ = env.step(action)\n",
        "        old_value = q_table[state,action]\n",
        "        next_max = np.max(q_table[next_state])\n",
        "\n",
        "        next_value = (1-alpha)*old_value + alpha*(reward + gamma*next_max)\n",
        "        q_table[state,action] = next_value #\n",
        "        state = next_state\n",
        "        total_steps+=1\n",
        "\n",
        "        if reward:\n",
        "          total_reward+=1\n",
        "          outcomes[-1] = \"Success\"\n",
        "          succesful_step_list.append(total_steps)\n",
        "\n",
        "        if terminated or truncated:\n",
        "          break\n",
        "\n",
        "\n",
        "    if i % 1000 == 0:\n",
        "        reward_list.append(total_reward)\n",
        "        print(f\"{i}.episode sonunuda toplam ödül:{total_reward}\")\n",
        "\n",
        "reward_list.append(total_reward)\n",
        "print(f\"Toplam {total_reward} kez oyun kazanıldı\")\n",
        "#başarılı oyunların çeşitli istatistiklerini de yazdıralım\n",
        "print(f\"Succesful steps mean: {np.mean(succesful_step_list)}\")\n",
        "print(f\"Succesful steps min: {np.min(succesful_step_list)}\")\n",
        "print(f\"Succesful steps max: {np.max(succesful_step_list)}\")\n",
        "\n",
        "print(\"Nihai q-table:\\n\")\n",
        "print(q_table)"
      ],
      "metadata": {
        "colab": {
          "base_uri": "https://localhost:8080/"
        },
        "outputId": "bd44909d-6217-407c-a706-853499313fc6",
        "id": "JgPDLCTvpQL3"
      },
      "execution_count": null,
      "outputs": [
        {
          "output_type": "stream",
          "name": "stdout",
          "text": [
            "0.episode sonunuda toplam ödül:0\n",
            "1000.episode sonunuda toplam ödül:18\n",
            "2000.episode sonunuda toplam ödül:31\n",
            "3000.episode sonunuda toplam ödül:49\n",
            "4000.episode sonunuda toplam ödül:66\n",
            "Toplam 82 kez oyun kazanıldı\n",
            "Succesful steps mean: 12.024390243902438\n",
            "Succesful steps min: 6\n",
            "Succesful steps max: 34\n",
            "Nihai q-table:\n",
            "\n",
            "[[0.00000000e+00 0.00000000e+00 1.06109345e-03 0.00000000e+00]\n",
            " [4.00748871e-04 0.00000000e+00 0.00000000e+00 0.00000000e+00]\n",
            " [1.10213759e-03 0.00000000e+00 0.00000000e+00 0.00000000e+00]\n",
            " [0.00000000e+00 0.00000000e+00 0.00000000e+00 0.00000000e+00]\n",
            " [0.00000000e+00 0.00000000e+00 2.88533620e-03 0.00000000e+00]\n",
            " [0.00000000e+00 0.00000000e+00 0.00000000e+00 0.00000000e+00]\n",
            " [0.00000000e+00 0.00000000e+00 4.89043180e-02 0.00000000e+00]\n",
            " [0.00000000e+00 0.00000000e+00 0.00000000e+00 0.00000000e+00]\n",
            " [0.00000000e+00 0.00000000e+00 0.00000000e+00 1.11395381e-02]\n",
            " [0.00000000e+00 0.00000000e+00 1.23010627e-01 0.00000000e+00]\n",
            " [4.43080199e-01 0.00000000e+00 0.00000000e+00 0.00000000e+00]\n",
            " [0.00000000e+00 0.00000000e+00 0.00000000e+00 0.00000000e+00]\n",
            " [0.00000000e+00 0.00000000e+00 0.00000000e+00 0.00000000e+00]\n",
            " [3.27533469e-03 0.00000000e+00 0.00000000e+00 0.00000000e+00]\n",
            " [0.00000000e+00 4.08419059e-01 0.00000000e+00 0.00000000e+00]\n",
            " [0.00000000e+00 0.00000000e+00 0.00000000e+00 0.00000000e+00]]\n",
            "time: 2.44 s (started: 2025-04-06 11:12:21 +00:00)\n"
          ]
        }
      ]
    },
    {
      "cell_type": "markdown",
      "source": [
        "Görüldüğü üzere oyuna kayganlık katılınca işler değişti ve ortalama adım sayısı artmış oldu."
      ],
      "metadata": {
        "id": "ri3BmRyerQT4"
      }
    },
    {
      "cell_type": "code",
      "source": [
        "plt.figure(figsize=(12, 5))\n",
        "plt.xlabel(\"Run number\")\n",
        "plt.ylabel(\"Outcome\")\n",
        "ax = plt.gca()\n",
        "ax.set_facecolor('#efeeea')\n",
        "plt.bar(range(500), outcomes[:500], color=\"#0A047A\", width=1.0)\n",
        "plt.show()"
      ],
      "metadata": {
        "colab": {
          "base_uri": "https://localhost:8080/",
          "height": 555
        },
        "id": "2JfR2aQdrBq6",
        "outputId": "011bc9c2-fe8f-41a9-96ea-6f0d49e9ce9f"
      },
      "execution_count": null,
      "outputs": [
        {
          "output_type": "execute_result",
          "data": {
            "text/plain": [
              "<Figure size 1200x500 with 0 Axes>"
            ]
          },
          "metadata": {},
          "execution_count": 34
        },
        {
          "output_type": "execute_result",
          "data": {
            "text/plain": [
              "Text(0.5, 0, 'Run number')"
            ]
          },
          "metadata": {},
          "execution_count": 34
        },
        {
          "output_type": "execute_result",
          "data": {
            "text/plain": [
              "Text(0, 0.5, 'Outcome')"
            ]
          },
          "metadata": {},
          "execution_count": 34
        },
        {
          "output_type": "execute_result",
          "data": {
            "text/plain": [
              "<BarContainer object of 500 artists>"
            ]
          },
          "metadata": {},
          "execution_count": 34
        },
        {
          "output_type": "display_data",
          "data": {
            "text/plain": [
              "<Figure size 1200x500 with 1 Axes>"
            ],
            "image/png": "[encoded data removed]"
          },
          "metadata": {}
        },
        {
          "output_type": "stream",
          "name": "stdout",
          "text": [
            "time: 1.74 s (started: 2025-04-06 11:12:24 +00:00)\n"
          ]
        }
      ]
    },
    {
      "cell_type": "markdown",
      "source": [
        "Şimdi bir de keşfetme yeteneği katalım."
      ],
      "metadata": {
        "id": "50uqg2n66Bcb"
      }
    },
    {
      "cell_type": "markdown",
      "source": [
        "#### Epsilon stretejisi"
      ],
      "metadata": {
        "id": "qsn7F6SGbOXG"
      }
    },
    {
      "cell_type": "markdown",
      "source": [
        "Biliyoruz ki üç farklı ideal yol varken stokastiklik sayesinde birçok ihtimal daha ortaya çıkar, mesela kırmızı yoldan öğrenmiş olabilir. O yüzden agent'ın gittiği yola rasgelelik katmak adına epsilon staretejisi uyugularız.\n",
        "\n",
        "Medium yazımda ne dediğimizi hatırlayalım: Q-Learning, off-policy bir algoritmadır demiştik. Bu, veri toplamak için kullanılan davranış politikası (behavior policy) ile öğrenilen politika (target policy) arasında ayrım olduğu anlamına gelir. İşte epislon bizim Davranış Politikamız olacak: Ör: Agent, %90 ihtimalle en yüksek Q-değerine sahip eylemi seçsin (exploit), %10 rastgele eylem seçsin (explore) isteyebiliriz.\n",
        "Hedef Politikamız ise Q-table'dan en yüksek değeri seçmek."
      ],
      "metadata": {
        "id": "ta9JpTT1a3dS"
      }
    },
    {
      "cell_type": "markdown",
      "source": [
        "![Screenshot from 2025-03-23 17-41-01.png](data:image/png;base64,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)"
      ],
      "metadata": {
        "id": "uqQGGTYdc6VO"
      }
    },
    {
      "cell_type": "code",
      "source": [
        "env = gym.make('FrozenLake-v1', is_slippery=False, render_mode=\"rgb_array\")\n",
        "episode_number = 5000\n",
        "epsilon = 0.1"
      ],
      "metadata": {
        "colab": {
          "base_uri": "https://localhost:8080/"
        },
        "id": "2MGhg0fTbr07",
        "outputId": "d7806206-9392-475b-d321-aca7e53461ff"
      },
      "execution_count": null,
      "outputs": [
        {
          "output_type": "stream",
          "name": "stdout",
          "text": [
            "time: 1.73 ms (started: 2025-04-06 11:12:26 +00:00)\n"
          ]
        }
      ]
    },
    {
      "cell_type": "code",
      "source": [
        "q_table = np.zeros([env.observation_space.n,env.action_space.n])\n",
        "alpha = 0.5\n",
        "gamma = 0.9\n",
        "reward_list = []\n",
        "total_reward=0\n",
        "outcomes=[]\n",
        "succesful_step_list=[]\n",
        "\n",
        "for i in range(episode_number):\n",
        "    state, info_initial = env.reset()\n",
        "    outcomes.append(\"Failure\")\n",
        "    total_steps=0\n",
        "\n",
        "    while True:\n",
        "        if np.max(q_table[state]) > 0:\n",
        "          if np.random.rand() < epsilon: # %10 olasılıkla random action seçelim\n",
        "              action = env.action_space.sample()\n",
        "          else:\n",
        "              action = np.argmax(q_table[state])\n",
        "        else:\n",
        "          action = env.action_space.sample()\n",
        "\n",
        "        next_state, reward, terminated, truncated, _ = env.step(action)\n",
        "        old_value = q_table[state,action]\n",
        "        next_max = np.max(q_table[next_state])\n",
        "\n",
        "        next_value = (1-alpha)*old_value + alpha*(reward + gamma*next_max)\n",
        "        q_table[state,action] = next_value\n",
        "        state = next_state\n",
        "        total_steps+=1\n",
        "\n",
        "        if reward:\n",
        "          total_reward+=1\n",
        "          outcomes[-1] = \"Success\"\n",
        "          succesful_step_list.append(total_steps)\n",
        "\n",
        "        if terminated or truncated:\n",
        "          break\n",
        "\n",
        "\n",
        "    if i % 1000 == 0:\n",
        "        reward_list.append(total_reward)\n",
        "        print(f\"{i}.episode sonunuda toplam ödül:{total_reward}\")\n",
        "\n",
        "reward_list.append(total_reward)\n",
        "print(f\"Toplam {total_reward} kez oyun kazanıldı\")\n",
        "print(f\"Succesful steps mean: {np.mean(succesful_step_list)}\")\n",
        "print(f\"Succesful steps min: {np.min(succesful_step_list)}\")\n",
        "print(f\"Succesful steps max: {np.max(succesful_step_list)}\")\n",
        "\n",
        "print(\"Nihai q-table:\\n\")\n",
        "print(q_table)"
      ],
      "metadata": {
        "colab": {
          "base_uri": "https://localhost:8080/"
        },
        "id": "C0r983s4U5HP",
        "outputId": "31b5702e-19a1-4de1-f449-4b67364ee124"
      },
      "execution_count": null,
      "outputs": [
        {
          "output_type": "stream",
          "name": "stdout",
          "text": [
            "0.episode sonunuda toplam ödül:0\n",
            "1000.episode sonunuda toplam ödül:663\n",
            "2000.episode sonunuda toplam ödül:1556\n",
            "3000.episode sonunuda toplam ödül:2447\n",
            "4000.episode sonunuda toplam ödül:3344\n",
            "Toplam 4235 kez oyun kazanıldı\n",
            "Succesful steps mean: 6.622668240850059\n",
            "Succesful steps min: 6\n",
            "Succesful steps max: 41\n",
            "Nihai q-table:\n",
            "\n",
            "[[0.531441   0.4782969  0.59049    0.531441  ]\n",
            " [0.531441   0.         0.6561     0.59049   ]\n",
            " [0.59049    0.729      0.59049    0.6561    ]\n",
            " [0.6561     0.         0.55354833 0.58126331]\n",
            " [0.41850979 0.24213768 0.         0.531441  ]\n",
            " [0.         0.         0.         0.        ]\n",
            " [0.         0.81       0.         0.6561    ]\n",
            " [0.         0.         0.         0.        ]\n",
            " [0.         0.         0.         0.46335008]\n",
            " [0.28249399 0.81       0.6075     0.        ]\n",
            " [0.729      0.9        0.         0.729     ]\n",
            " [0.         0.         0.         0.        ]\n",
            " [0.         0.         0.         0.        ]\n",
            " [0.         0.80367187 0.9        0.54675   ]\n",
            " [0.81       0.9        1.         0.81      ]\n",
            " [0.         0.         0.         0.        ]]\n",
            "time: 2.7 s (started: 2025-04-06 11:12:26 +00:00)\n"
          ]
        }
      ]
    },
    {
      "cell_type": "code",
      "source": [
        "plt.figure(figsize=(12, 5))\n",
        "plt.xlabel(\"Run number\")\n",
        "plt.ylabel(\"Outcome\")\n",
        "ax = plt.gca()\n",
        "ax.set_facecolor('#efeeea')\n",
        "plt.bar(range(500), outcomes[:500], color=\"#0A047A\", width=1.0)\n",
        "plt.show()"
      ],
      "metadata": {
        "colab": {
          "base_uri": "https://localhost:8080/",
          "height": 555
        },
        "id": "R640gRLJb8b8",
        "outputId": "2daedd88-1575-4678-fb9d-2b146629a760"
      },
      "execution_count": null,
      "outputs": [
        {
          "output_type": "execute_result",
          "data": {
            "text/plain": [
              "<Figure size 1200x500 with 0 Axes>"
            ]
          },
          "metadata": {},
          "execution_count": 37
        },
        {
          "output_type": "execute_result",
          "data": {
            "text/plain": [
              "Text(0.5, 0, 'Run number')"
            ]
          },
          "metadata": {},
          "execution_count": 37
        },
        {
          "output_type": "execute_result",
          "data": {
            "text/plain": [
              "Text(0, 0.5, 'Outcome')"
            ]
          },
          "metadata": {},
          "execution_count": 37
        },
        {
          "output_type": "execute_result",
          "data": {
            "text/plain": [
              "<BarContainer object of 500 artists>"
            ]
          },
          "metadata": {},
          "execution_count": 37
        },
        {
          "output_type": "display_data",
          "data": {
            "text/plain": [
              "<Figure size 1200x500 with 1 Axes>"
            ],
            "image/png": "[encoded data removed]"
          },
          "metadata": {}
        },
        {
          "output_type": "stream",
          "name": "stdout",
          "text": [
            "time: 3.37 s (started: 2025-04-06 11:12:28 +00:00)\n"
          ]
        }
      ]
    },
    {
      "cell_type": "markdown",
      "source": [
        "Görüldüğü üzere epsilon katınca çok daha iyi oldu, hatta nerdeyse slippery olmayan duruma epey yaklaştı.\n",
        "\n",
        "Bu noktada, epsilon, alpha, gamma değerleriyle oynayarak(grid search yaparak) hyperparametre-tuning ediliebilir. Ayrıca episode sayısı da artırılarak ilave iyileşmeler de sağlanabilir. Bu işi size bırakıyorum."
      ],
      "metadata": {
        "id": "MZ1ehUbZb3Qy"
      }
    },
    {
      "cell_type": "markdown",
      "source": [
        "#### Ödül programını değiştirme"
      ],
      "metadata": {
        "id": "cv-1ia0ZsDEw"
      }
    },
    {
      "cell_type": "markdown",
      "source": [
        "Mevcut environment için hedef varmak 1, diğer durumlarda hep 0 alıyoruz. Biz bunu farklılaştırabiliriz, medium yazımda da böyle bir örnek vermiştim. Diyelim ki, deliklere düşersek -10, hedefe gelirsek +10, diğer hücrelere adım atarsak -1 olsun, yani gölde boş boş dolanmayı da cezalandıralım. Bunun için mevcut step metodundan dönen ödül bilgisini ezecek bir fonksiyon hazırlayalım."
      ],
      "metadata": {
        "id": "kIfprWPV7bnQ"
      }
    },
    {
      "cell_type": "code",
      "source": [
        "delikler=[5,7,11,12]\n",
        "def recalculate_reward(reward, state):\n",
        "    if reward == 0:\n",
        "        if state in delikler:\n",
        "          return -10\n",
        "        else:\n",
        "          return -1\n",
        "    else:\n",
        "        return 10"
      ],
      "metadata": {
        "colab": {
          "base_uri": "https://localhost:8080/"
        },
        "id": "5AKJD8hkuBGv",
        "outputId": "8699bdc1-98ea-495f-bb9e-6668dedadddb"
      },
      "execution_count": null,
      "outputs": [
        {
          "output_type": "stream",
          "name": "stdout",
          "text": [
            "time: 1.49 ms (started: 2025-04-06 11:13:10 +00:00)\n"
          ]
        }
      ]
    },
    {
      "cell_type": "code",
      "source": [
        "env = gym.make('FrozenLake-v1', is_slippery=False, render_mode=\"rgb_array\")\n",
        "episode_number = 5000\n",
        "epsilon = 0.1"
      ],
      "metadata": {
        "colab": {
          "base_uri": "https://localhost:8080/"
        },
        "outputId": "76a39a3d-9692-41c3-bef4-3ced04283faf",
        "id": "g1PEuoAzt9dL"
      },
      "execution_count": null,
      "outputs": [
        {
          "output_type": "stream",
          "name": "stdout",
          "text": [
            "time: 2 ms (started: 2025-04-06 11:13:10 +00:00)\n"
          ]
        }
      ]
    },
    {
      "cell_type": "code",
      "source": [
        "q_table = np.zeros([env.observation_space.n,env.action_space.n])\n",
        "alpha = 0.5\n",
        "gamma = 0.9\n",
        "reward_list = []\n",
        "total_reward=0\n",
        "outcomes=[]\n",
        "succesful_step_list=[]\n",
        "\n",
        "for i in range(episode_number):\n",
        "    state, info_initial = env.reset()\n",
        "    outcomes.append(\"Failure\")\n",
        "    total_steps=0\n",
        "\n",
        "    while True:\n",
        "        if np.max(q_table[state]) > 0:\n",
        "          if np.random.rand() < epsilon:\n",
        "              action = env.action_space.sample()\n",
        "          else:\n",
        "              action = np.argmax(q_table[state])\n",
        "        else:\n",
        "          action = env.action_space.sample()\n",
        "\n",
        "        next_state, reward, terminated, truncated, _ = env.step(action)\n",
        "        reward = recalculate_reward(reward, state) #override ediyoruz\n",
        "\n",
        "        old_value = q_table[state,action]\n",
        "        next_max = np.max(q_table[next_state])\n",
        "\n",
        "        next_value = (1-alpha)*old_value + alpha*(reward + gamma*next_max)\n",
        "        q_table[state,action] = next_value\n",
        "        state = next_state\n",
        "        total_steps+=1\n",
        "\n",
        "        if reward==10:\n",
        "          total_reward+=10\n",
        "          outcomes[-1] = \"Success\"\n",
        "          succesful_step_list.append(total_steps)\n",
        "\n",
        "        if terminated or truncated:\n",
        "          break\n",
        "\n",
        "\n",
        "    if i % 1000 == 0:\n",
        "        reward_list.append(total_reward)\n",
        "        print(f\"{i}.episode sonunuda toplam ödül:{total_reward}\")\n",
        "\n",
        "reward_list.append(total_reward)\n",
        "print(f\"Toplam {int(total_reward/10)} kez oyun kazanıldı\")\n",
        "print(f\"Succesful steps mean: {np.mean(succesful_step_list)}\")\n",
        "print(f\"Succesful steps min: {np.min(succesful_step_list)}\")\n",
        "print(f\"Succesful steps max: {np.max(succesful_step_list)}\")\n",
        "\n",
        "print(\"Nihai q-table:\\n\")\n",
        "print(q_table)"
      ],
      "metadata": {
        "colab": {
          "base_uri": "https://localhost:8080/"
        },
        "outputId": "995803f7-ed9b-409c-cd8d-fee52275b076",
        "id": "Y6yz9wOrt9dV"
      },
      "execution_count": null,
      "outputs": [
        {
          "output_type": "stream",
          "name": "stdout",
          "text": [
            "0.episode sonunuda toplam ödül:0\n",
            "1000.episode sonunuda toplam ödül:8270\n",
            "2000.episode sonunuda toplam ödül:17120\n",
            "3000.episode sonunuda toplam ödül:25940\n",
            "4000.episode sonunuda toplam ödül:34820\n",
            "Toplam 4376 kez oyun kazanıldı\n",
            "Succesful steps mean: 6.567870201096892\n",
            "Succesful steps min: 6\n",
            "Succesful steps max: 29\n",
            "Nihai q-table:\n",
            "\n",
            "[[ 0.62882     1.8098     -0.434062    0.62882   ]\n",
            " [ 0.62882    -1.         -1.86309332 -0.44551482]\n",
            " [-0.57256345 -1.66696777 -1.81867065 -1.79662148]\n",
            " [-1.59229355 -0.96875    -1.64765625 -1.85855103]\n",
            " [ 1.8098      3.122      -1.          0.62882   ]\n",
            " [ 0.          0.          0.          0.        ]\n",
            " [-0.99609375 -0.75       -0.875      -1.67901095]\n",
            " [ 0.          0.          0.          0.        ]\n",
            " [ 3.122      -1.          4.58        1.8098    ]\n",
            " [ 3.122       6.2         6.2        -1.        ]\n",
            " [ 4.58        8.         -0.9921875  -1.64882813]\n",
            " [ 0.          0.          0.          0.        ]\n",
            " [ 0.          0.          0.          0.        ]\n",
            " [-1.          6.2         8.          4.58      ]\n",
            " [ 6.2         8.         10.          6.2       ]\n",
            " [ 0.          0.          0.          0.        ]]\n",
            "time: 3.24 s (started: 2025-04-06 11:13:10 +00:00)\n"
          ]
        }
      ]
    },
    {
      "cell_type": "markdown",
      "source": [
        "**Sonuç**: Çok büyük bir kazanım olmadıaam olabilrdi de. Diğer parametrelerle de oynayarak ilave iyileştirmeler sağlaanbilir.\n",
        "\n",
        "**Ek öneriler**\n",
        "\n",
        "- Epsilon Decay: Eğitim ilerledikçe epsilon değerini azaltarak başta keşif (exploration), sonra sömürü (exploitation) ağırlıklı politika uygulanabilir.\n",
        "\n",
        "  `epsilon = max(0.01, epsilon * 0.995)  # Her episode'da epsilon'ı azaltma`\n",
        "\n",
        "- Ödül Mühendisliği: Hedefe ulaşma dışında ara ödüller ekleyerek öğrenmeyi hızlandırabilirsiniz (örneğin, hedefe yaklaştıkça artan ödül uygulanabilir).\n",
        "\n",
        "- Hyperparameter Tuning: alpha ve gamma değerlerini grid search ile optimize edilebilir"
      ],
      "metadata": {
        "id": "viaKEVYufMi_"
      }
    },
    {
      "cell_type": "markdown",
      "source": [
        "### Modeli kaydetme ve sıfırdan oynama"
      ],
      "metadata": {
        "id": "KZPiDDS6uljA"
      }
    },
    {
      "cell_type": "markdown",
      "source": [
        "[Şimdi biz bu modeli yaptık da nerde kullanacağız, nasıl kullanacağız?](https://www.youtube.com/watch?v=0aNu1_ZmXu8)\n",
        "\n",
        "Bu tür RL modellerini kaydederek istediğimzi zaman oynatabilir. Mesela hayali bir frozen lake yarışması düşünelim, o yauışmaya bu modelimizi sokabiliriz. Böylece en kısa sürede hedefe ulaşan model yarışmayı kazanacaktır. (Ya da başak bir yarışamda en çok puan alan model)\n",
        "\n",
        "Bunun için modelimizi joblib / pickle modüllerini kullanarak diske kaydederiz. Veya elimizdeki mpdel bir q-table matrisi olduğu için doğrudan numpy'ın save metodunu da kullanabiliriz."
      ],
      "metadata": {
        "id": "dr3bi4ahwQLR"
      }
    },
    {
      "cell_type": "code",
      "source": [
        "np.save('q_table.npy', q_table)"
      ],
      "metadata": {
        "id": "0xCZxn9QY9VS",
        "colab": {
          "base_uri": "https://localhost:8080/"
        },
        "outputId": "eb5f6898-1d4f-4bbd-c118-0e80ee62f72d"
      },
      "execution_count": null,
      "outputs": [
        {
          "output_type": "stream",
          "name": "stdout",
          "text": [
            "time: 1.95 ms (started: 2025-04-06 11:13:13 +00:00)\n"
          ]
        }
      ]
    },
    {
      "cell_type": "markdown",
      "source": [
        "Sonra bu modeli istediğimiz yerde istediğimiz zaman diskten okuyup kullanaibliriz."
      ],
      "metadata": {
        "id": "AIVNQZgb3O5J"
      }
    },
    {
      "cell_type": "code",
      "source": [
        "state, _ = env.reset()\n",
        "directions = {0:\"sol\", 1:\"aşağı\",2:\"sağ\",3:\"yukarı\"}\n",
        "episode_over = False\n",
        "total_reward=0\n",
        "steps=0\n",
        "q_table = np.load('q_table.npy')\n",
        "while not episode_over:\n",
        "    action = np.argmax(q_table[state])\n",
        "    print(f\"Agentımız {action}({directions[action]}) yönüne gidecek\\n\")\n",
        "    state, reward, terminated, truncated, info = env.step(action)\n",
        "    print(state, reward, terminated, truncated, info)\n",
        "    env.render()\n",
        "    episode_over = terminated or truncated\n",
        "    steps+=1\n",
        "    total_reward+=reward\n",
        "\n",
        "print(f\"Agentımız toplam {steps} hamle yaptı ve ödülü:{total_reward}\")\n",
        "env.close()"
      ],
      "metadata": {
        "id": "HvC-avc04H3E",
        "colab": {
          "base_uri": "https://localhost:8080/",
          "height": 1000
        },
        "outputId": "9451e5e2-d472-41ec-d3fd-0b54897c6a35"
      },
      "execution_count": null,
      "outputs": [
        {
          "output_type": "stream",
          "name": "stdout",
          "text": [
            "Agentımız 1(aşağı) yönüne gidecek\n",
            "\n",
            "4 0.0 False False {'prob': 1.0}\n"
          ]
        },
        {
          "output_type": "execute_result",
          "data": {
            "text/plain": [
              "array([[[180, 200, 230],\n",
              "        [180, 200, 230],\n",
              "        [180, 200, 230],\n",
              "        ...,\n",
              "        [180, 200, 230],\n",
              "        [180, 200, 230],\n",
              "        [180, 200, 230]],\n",
              "\n",
              "       [[180, 200, 230],\n",
              "        [204, 230, 255],\n",
              "        [204, 230, 255],\n",
              "        ...,\n",
              "        [204, 230, 255],\n",
              "        [204, 230, 255],\n",
              "        [180, 200, 230]],\n",
              "\n",
              "       [[180, 200, 230],\n",
              "        [235, 245, 249],\n",
              "        [204, 230, 255],\n",
              "        ...,\n",
              "        [204, 230, 255],\n",
              "        [204, 230, 255],\n",
              "        [180, 200, 230]],\n",
              "\n",
              "       ...,\n",
              "\n",
              "       [[180, 200, 230],\n",
              "        [235, 245, 249],\n",
              "        [235, 245, 249],\n",
              "        ...,\n",
              "        [204, 230, 255],\n",
              "        [235, 245, 249],\n",
              "        [180, 200, 230]],\n",
              "\n",
              "       [[180, 200, 230],\n",
              "        [235, 245, 249],\n",
              "        [235, 245, 249],\n",
              "        ...,\n",
              "        [204, 230, 255],\n",
              "        [204, 230, 255],\n",
              "        [180, 200, 230]],\n",
              "\n",
              "       [[180, 200, 230],\n",
              "        [180, 200, 230],\n",
              "        [180, 200, 230],\n",
              "        ...,\n",
              "        [180, 200, 230],\n",
              "        [180, 200, 230],\n",
              "        [180, 200, 230]]], dtype=uint8)"
            ],
            "text/html": [
              "<style>\n",
              "      .ndarray_repr .ndarray_raw_data {\n",
              "        display: none;\n",
              "      }\n",
              "      .ndarray_repr.show_array .ndarray_raw_data {\n",
              "        display: block;\n",
              "      }\n",
              "      .ndarray_repr.show_array .ndarray_image_preview {\n",
              "        display: none;\n",
              "      }\n",
              "      </style>\n",
              "      <div id=\"id-07f21cd0-aa67-4522-b069-65888f6f175b\" class=\"ndarray_repr\"><pre>ndarray (256, 256, 3) <button style=\"padding: 0 2px;\">show data</button></pre><img src=\"data:image/png;base64,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\" class=\"ndarray_image_preview\" /><pre class=\"ndarray_raw_data\">array([[[180, 200, 230],\n",
              "        [180, 200, 230],\n",
              "        [180, 200, 230],\n",
              "        ...,\n",
              "        [180, 200, 230],\n",
              "        [180, 200, 230],\n",
              "        [180, 200, 230]],\n",
              "\n",
              "       [[180, 200, 230],\n",
              "        [204, 230, 255],\n",
              "        [204, 230, 255],\n",
              "        ...,\n",
              "        [204, 230, 255],\n",
              "        [204, 230, 255],\n",
              "        [180, 200, 230]],\n",
              "\n",
              "       [[180, 200, 230],\n",
              "        [235, 245, 249],\n",
              "        [204, 230, 255],\n",
              "        ...,\n",
              "        [204, 230, 255],\n",
              "        [204, 230, 255],\n",
              "        [180, 200, 230]],\n",
              "\n",
              "       ...,\n",
              "\n",
              "       [[180, 200, 230],\n",
              "        [235, 245, 249],\n",
              "        [235, 245, 249],\n",
              "        ...,\n",
              "        [204, 230, 255],\n",
              "        [235, 245, 249],\n",
              "        [180, 200, 230]],\n",
              "\n",
              "       [[180, 200, 230],\n",
              "        [235, 245, 249],\n",
              "        [235, 245, 249],\n",
              "        ...,\n",
              "        [204, 230, 255],\n",
              "        [204, 230, 255],\n",
              "        [180, 200, 230]],\n",
              "\n",
              "       [[180, 200, 230],\n",
              "        [180, 200, 230],\n",
              "        [180, 200, 230],\n",
              "        ...,\n",
              "        [180, 200, 230],\n",
              "        [180, 200, 230],\n",
              "        [180, 200, 230]]], dtype=uint8)</pre></div><script>\n",
              "      (() => {\n",
              "      const titles = ['show data', 'hide data'];\n",
              "      let index = 0\n",
              "      document.querySelector('#id-07f21cd0-aa67-4522-b069-65888f6f175b button').onclick = (e) => {\n",
              "        document.querySelector('#id-07f21cd0-aa67-4522-b069-65888f6f175b').classList.toggle('show_array');\n",
              "        index = (++index) % 2;\n",
              "        document.querySelector('#id-07f21cd0-aa67-4522-b069-65888f6f175b button').textContent = titles[index];\n",
              "        e.preventDefault();\n",
              "        e.stopPropagation();\n",
              "      }\n",
              "      })();\n",
              "    </script>"
            ]
          },
          "metadata": {},
          "execution_count": 57
        },
        {
          "output_type": "stream",
          "name": "stdout",
          "text": [
            "Agentımız 1(aşağı) yönüne gidecek\n",
            "\n",
            "8 0.0 False False {'prob': 1.0}\n"
          ]
        },
        {
          "output_type": "execute_result",
          "data": {
            "text/plain": [
              "array([[[180, 200, 230],\n",
              "        [180, 200, 230],\n",
              "        [180, 200, 230],\n",
              "        ...,\n",
              "        [180, 200, 230],\n",
              "        [180, 200, 230],\n",
              "        [180, 200, 230]],\n",
              "\n",
              "       [[180, 200, 230],\n",
              "        [204, 230, 255],\n",
              "        [204, 230, 255],\n",
              "        ...,\n",
              "        [204, 230, 255],\n",
              "        [204, 230, 255],\n",
              "        [180, 200, 230]],\n",
              "\n",
              "       [[180, 200, 230],\n",
              "        [235, 245, 249],\n",
              "        [204, 230, 255],\n",
              "        ...,\n",
              "        [204, 230, 255],\n",
              "        [204, 230, 255],\n",
              "        [180, 200, 230]],\n",
              "\n",
              "       ...,\n",
              "\n",
              "       [[180, 200, 230],\n",
              "        [235, 245, 249],\n",
              "        [235, 245, 249],\n",
              "        ...,\n",
              "        [204, 230, 255],\n",
              "        [235, 245, 249],\n",
              "        [180, 200, 230]],\n",
              "\n",
              "       [[180, 200, 230],\n",
              "        [235, 245, 249],\n",
              "        [235, 245, 249],\n",
              "        ...,\n",
              "        [204, 230, 255],\n",
              "        [204, 230, 255],\n",
              "        [180, 200, 230]],\n",
              "\n",
              "       [[180, 200, 230],\n",
              "        [180, 200, 230],\n",
              "        [180, 200, 230],\n",
              "        ...,\n",
              "        [180, 200, 230],\n",
              "        [180, 200, 230],\n",
              "        [180, 200, 230]]], dtype=uint8)"
            ],
            "text/html": [
              "<style>\n",
              "      .ndarray_repr .ndarray_raw_data {\n",
              "        display: none;\n",
              "      }\n",
              "      .ndarray_repr.show_array .ndarray_raw_data {\n",
              "        display: block;\n",
              "      }\n",
              "      .ndarray_repr.show_array .ndarray_image_preview {\n",
              "        display: none;\n",
              "      }\n",
              "      </style>\n",
              "      <div id=\"id-09cb9ab1-18cd-420f-9436-592e7f89c927\" class=\"ndarray_repr\"><pre>ndarray (256, 256, 3) <button style=\"padding: 0 2px;\">show data</button></pre><img src=\"data:image/png;base64,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\" class=\"ndarray_image_preview\" /><pre class=\"ndarray_raw_data\">array([[[180, 200, 230],\n",
              "        [180, 200, 230],\n",
              "        [180, 200, 230],\n",
              "        ...,\n",
              "        [180, 200, 230],\n",
              "        [180, 200, 230],\n",
              "        [180, 200, 230]],\n",
              "\n",
              "       [[180, 200, 230],\n",
              "        [204, 230, 255],\n",
              "        [204, 230, 255],\n",
              "        ...,\n",
              "        [204, 230, 255],\n",
              "        [204, 230, 255],\n",
              "        [180, 200, 230]],\n",
              "\n",
              "       [[180, 200, 230],\n",
              "        [235, 245, 249],\n",
              "        [204, 230, 255],\n",
              "        ...,\n",
              "        [204, 230, 255],\n",
              "        [204, 230, 255],\n",
              "        [180, 200, 230]],\n",
              "\n",
              "       ...,\n",
              "\n",
              "       [[180, 200, 230],\n",
              "        [235, 245, 249],\n",
              "        [235, 245, 249],\n",
              "        ...,\n",
              "        [204, 230, 255],\n",
              "        [235, 245, 249],\n",
              "        [180, 200, 230]],\n",
              "\n",
              "       [[180, 200, 230],\n",
              "        [235, 245, 249],\n",
              "        [235, 245, 249],\n",
              "        ...,\n",
              "        [204, 230, 255],\n",
              "        [204, 230, 255],\n",
              "        [180, 200, 230]],\n",
              "\n",
              "       [[180, 200, 230],\n",
              "        [180, 200, 230],\n",
              "        [180, 200, 230],\n",
              "        ...,\n",
              "        [180, 200, 230],\n",
              "        [180, 200, 230],\n",
              "        [180, 200, 230]]], dtype=uint8)</pre></div><script>\n",
              "      (() => {\n",
              "      const titles = ['show data', 'hide data'];\n",
              "      let index = 0\n",
              "      document.querySelector('#id-09cb9ab1-18cd-420f-9436-592e7f89c927 button').onclick = (e) => {\n",
              "        document.querySelector('#id-09cb9ab1-18cd-420f-9436-592e7f89c927').classList.toggle('show_array');\n",
              "        index = (++index) % 2;\n",
              "        document.querySelector('#id-09cb9ab1-18cd-420f-9436-592e7f89c927 button').textContent = titles[index];\n",
              "        e.preventDefault();\n",
              "        e.stopPropagation();\n",
              "      }\n",
              "      })();\n",
              "    </script>"
            ]
          },
          "metadata": {},
          "execution_count": 57
        },
        {
          "output_type": "stream",
          "name": "stdout",
          "text": [
            "Agentımız 2(sağ) yönüne gidecek\n",
            "\n",
            "9 0.0 False False {'prob': 1.0}\n"
          ]
        },
        {
          "output_type": "execute_result",
          "data": {
            "text/plain": [
              "array([[[180, 200, 230],\n",
              "        [180, 200, 230],\n",
              "        [180, 200, 230],\n",
              "        ...,\n",
              "        [180, 200, 230],\n",
              "        [180, 200, 230],\n",
              "        [180, 200, 230]],\n",
              "\n",
              "       [[180, 200, 230],\n",
              "        [204, 230, 255],\n",
              "        [204, 230, 255],\n",
              "        ...,\n",
              "        [204, 230, 255],\n",
              "        [204, 230, 255],\n",
              "        [180, 200, 230]],\n",
              "\n",
              "       [[180, 200, 230],\n",
              "        [235, 245, 249],\n",
              "        [204, 230, 255],\n",
              "        ...,\n",
              "        [204, 230, 255],\n",
              "        [204, 230, 255],\n",
              "        [180, 200, 230]],\n",
              "\n",
              "       ...,\n",
              "\n",
              "       [[180, 200, 230],\n",
              "        [235, 245, 249],\n",
              "        [235, 245, 249],\n",
              "        ...,\n",
              "        [204, 230, 255],\n",
              "        [235, 245, 249],\n",
              "        [180, 200, 230]],\n",
              "\n",
              "       [[180, 200, 230],\n",
              "        [235, 245, 249],\n",
              "        [235, 245, 249],\n",
              "        ...,\n",
              "        [204, 230, 255],\n",
              "        [204, 230, 255],\n",
              "        [180, 200, 230]],\n",
              "\n",
              "       [[180, 200, 230],\n",
              "        [180, 200, 230],\n",
              "        [180, 200, 230],\n",
              "        ...,\n",
              "        [180, 200, 230],\n",
              "        [180, 200, 230],\n",
              "        [180, 200, 230]]], dtype=uint8)"
            ],
            "text/html": [
              "<style>\n",
              "      .ndarray_repr .ndarray_raw_data {\n",
              "        display: none;\n",
              "      }\n",
              "      .ndarray_repr.show_array .ndarray_raw_data {\n",
              "        display: block;\n",
              "      }\n",
              "      .ndarray_repr.show_array .ndarray_image_preview {\n",
              "        display: none;\n",
              "      }\n",
              "      </style>\n",
              "      <div id=\"id-e2b887ef-4240-41a3-8b4a-065ff318877a\" class=\"ndarray_repr\"><pre>ndarray (256, 256, 3) <button style=\"padding: 0 2px;\">show data</button></pre><img src=\"data:image/png;base64,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\" class=\"ndarray_image_preview\" /><pre class=\"ndarray_raw_data\">array([[[180, 200, 230],\n",
              "        [180, 200, 230],\n",
              "        [180, 200, 230],\n",
              "        ...,\n",
              "        [180, 200, 230],\n",
              "        [180, 200, 230],\n",
              "        [180, 200, 230]],\n",
              "\n",
              "       [[180, 200, 230],\n",
              "        [204, 230, 255],\n",
              "        [204, 230, 255],\n",
              "        ...,\n",
              "        [204, 230, 255],\n",
              "        [204, 230, 255],\n",
              "        [180, 200, 230]],\n",
              "\n",
              "       [[180, 200, 230],\n",
              "        [235, 245, 249],\n",
              "        [204, 230, 255],\n",
              "        ...,\n",
              "        [204, 230, 255],\n",
              "        [204, 230, 255],\n",
              "        [180, 200, 230]],\n",
              "\n",
              "       ...,\n",
              "\n",
              "       [[180, 200, 230],\n",
              "        [235, 245, 249],\n",
              "        [235, 245, 249],\n",
              "        ...,\n",
              "        [204, 230, 255],\n",
              "        [235, 245, 249],\n",
              "        [180, 200, 230]],\n",
              "\n",
              "       [[180, 200, 230],\n",
              "        [235, 245, 249],\n",
              "        [235, 245, 249],\n",
              "        ...,\n",
              "        [204, 230, 255],\n",
              "        [204, 230, 255],\n",
              "        [180, 200, 230]],\n",
              "\n",
              "       [[180, 200, 230],\n",
              "        [180, 200, 230],\n",
              "        [180, 200, 230],\n",
              "        ...,\n",
              "        [180, 200, 230],\n",
              "        [180, 200, 230],\n",
              "        [180, 200, 230]]], dtype=uint8)</pre></div><script>\n",
              "      (() => {\n",
              "      const titles = ['show data', 'hide data'];\n",
              "      let index = 0\n",
              "      document.querySelector('#id-e2b887ef-4240-41a3-8b4a-065ff318877a button').onclick = (e) => {\n",
              "        document.querySelector('#id-e2b887ef-4240-41a3-8b4a-065ff318877a').classList.toggle('show_array');\n",
              "        index = (++index) % 2;\n",
              "        document.querySelector('#id-e2b887ef-4240-41a3-8b4a-065ff318877a button').textContent = titles[index];\n",
              "        e.preventDefault();\n",
              "        e.stopPropagation();\n",
              "      }\n",
              "      })();\n",
              "    </script>"
            ]
          },
          "metadata": {},
          "execution_count": 57
        },
        {
          "output_type": "stream",
          "name": "stdout",
          "text": [
            "Agentımız 1(aşağı) yönüne gidecek\n",
            "\n",
            "13 0.0 False False {'prob': 1.0}\n"
          ]
        },
        {
          "output_type": "execute_result",
          "data": {
            "text/plain": [
              "array([[[180, 200, 230],\n",
              "        [180, 200, 230],\n",
              "        [180, 200, 230],\n",
              "        ...,\n",
              "        [180, 200, 230],\n",
              "        [180, 200, 230],\n",
              "        [180, 200, 230]],\n",
              "\n",
              "       [[180, 200, 230],\n",
              "        [204, 230, 255],\n",
              "        [204, 230, 255],\n",
              "        ...,\n",
              "        [204, 230, 255],\n",
              "        [204, 230, 255],\n",
              "        [180, 200, 230]],\n",
              "\n",
              "       [[180, 200, 230],\n",
              "        [235, 245, 249],\n",
              "        [204, 230, 255],\n",
              "        ...,\n",
              "        [204, 230, 255],\n",
              "        [204, 230, 255],\n",
              "        [180, 200, 230]],\n",
              "\n",
              "       ...,\n",
              "\n",
              "       [[180, 200, 230],\n",
              "        [235, 245, 249],\n",
              "        [235, 245, 249],\n",
              "        ...,\n",
              "        [204, 230, 255],\n",
              "        [235, 245, 249],\n",
              "        [180, 200, 230]],\n",
              "\n",
              "       [[180, 200, 230],\n",
              "        [235, 245, 249],\n",
              "        [235, 245, 249],\n",
              "        ...,\n",
              "        [204, 230, 255],\n",
              "        [204, 230, 255],\n",
              "        [180, 200, 230]],\n",
              "\n",
              "       [[180, 200, 230],\n",
              "        [180, 200, 230],\n",
              "        [180, 200, 230],\n",
              "        ...,\n",
              "        [180, 200, 230],\n",
              "        [180, 200, 230],\n",
              "        [180, 200, 230]]], dtype=uint8)"
            ],
            "text/html": [
              "<style>\n",
              "      .ndarray_repr .ndarray_raw_data {\n",
              "        display: none;\n",
              "      }\n",
              "      .ndarray_repr.show_array .ndarray_raw_data {\n",
              "        display: block;\n",
              "      }\n",
              "      .ndarray_repr.show_array .ndarray_image_preview {\n",
              "        display: none;\n",
              "      }\n",
              "      </style>\n",
              "      <div id=\"id-26ed5cd2-abd9-43d9-8e45-08f834c6e282\" class=\"ndarray_repr\"><pre>ndarray (256, 256, 3) <button style=\"padding: 0 2px;\">show data</button></pre><img src=\"data:image/png;base64,iVBORw0KGgoAAAANSUhEUgAAAQAAAAEACAIAAADTED8xAAAfEklEQVR4nO2da4xd1XXH/46ub8yYiR+YgKPWxImV0BS7bUyD6qR0EoQ/QBESEFVpUKnS1mkUqZBGJFElECpSlMeHxKmSNk5UyRIkqhqQCAY1kCojoI5JY5ra4JJoGgtaeSZgniaDPZ6Sflj33LvOWXuts859zZi9fh+smXP23uc/Rz5rrb32a8W+A8cQBLnSAnD+po12oQvWLHR/3jDRHrqI4/MLlStPveR6ytzTswj9A5Oz/haAC9Ys2BXKdxfg+zO4LLs8v0u1+Cur/WNCf5LQn3p6lTfU6giC1zGtphWK7yn9ddL3R1fkVytdlUa5rlprztkcI/R7yEd/eIAgazoeoFHM1y1DteR3eXC22iZB3yX/ygnZghb/aTYg9If+/vSHBwiypgX2icgeNKF90/w6ryXTXnaP3o72ZFxY+Y5Df+jvW394gCBrSlmg5PeN1Ddtl+fX5bfIy2jY37TnuaE/9Hv0hwcIsiYxDqB9W3Zf274uv3WtjIYn8rOvh/7QL6+EBwiypgX2MTX9hjx4YketpLPl0O95CkJ/qnx4gCBrOuMA9DXIETgtCytH4wh5XZvpwa+k8sT1X3P3eugP/X3rDw8QZE0nC1SMk9Fv6Swsp2kGQLtbXOk9hb7mpjPIQ799Xbsb+sMDBFnT8QD+2Ktp/lVDiwIlcga5p7XQbxP6ifAAQda00Om88xiuivbt8m+r6XeslaccguzXG7PMQ7+hRyP0E+EBgqxZse/Ascq2FvQNeWZ0yK/qs1dN1T7yrh9P17astV8huS3HIPq312zwYRH6iTNLf3iAIGsSs0GLTCrQ5Isk2//7bzkfwLZfX50sc+h/fgng2ounUPgB3peXeQMtnrPpTz9BY5mEbcm4ztDPObP0hwcIsmbFvgPHLtl6Dv2ifSvyW5SRHHmAj1/y9tpHfvXR/wbw9YceSN7VnsLvdq8/evg5AEPR70db38QVyqfwu6F/+egPDxBkTakPYH9b2rwOu5aG3BFAZoVl/ljT4FFi6/fYIa1k6OftaCxP/eEBgqwpzQaV2F/84HCbUWQMtBl/FoPr9+9mo9UK/ZLlrz88QJA1NbtDe7KwHMr02+MAxKgPTfC03F9Eq+1ZOQpCv+f6IPrDAwRZ0/EAfATOP3onv7yHj80BePhYP3Wbrh7iDEu/J2ZtGu+Gfr+S8esPDxBkTeJ8gIOzbfQ7L4/mApEf+NAtN3evf/v2L1buSjR74NnvZVj6B4kmQz9xZukPDxBkTSkLxDOvFNVp37FckUn2niy9hvQMWsueu/JrHkS/B0+t0E+cKfrDAwRZU9oZTqJ9x/IrvO7qK43HcKvPS/axigfibKmh6PfgyVqEfs7y1x8eIMiaxGxQ+Q1pp/ZJpi6/3LjLZ+fZq3g42gp/WXJw/Tah//WnPzxAkDWl2aB2D7rp7DzNTmjxn7aWxzNfPPTzZ/Hyod/WHx4gyJrEKZG0pmaQlZr82x1Wf79uB2BeK/SHfq/+8ABB1hinRFa/GBv+1cq4bZBZfvxupaefnFQU+kO/dlfqDw8QZI26Ikx+MZ6ePq8rsS0B7SVmrxSzd32RJUN/WWHor+oPDxBkTeecYDu3KudVy7v8itaOJy70n+7UvR76Q3/f+sMDBFlT6gNo8609/WuJbC3ZE0f911xvIbQnemqF/pz1hwcIskY9JVL7mv1refxzNuzZGjKqk4R+W6d2PfSHBwiyJtEHIDzfn7/WsJB7SjdVEvoH4fWnPzxAkDXqSLBnxM7GE+3Jfr1/FqFdMvSHfhsquWLfgWMDCg2CM5cIgYKsaUEcdCwZ9Vbm/W1uAeWgZknot8lZfwvABWsW6ubZeedXaLL8Y4H+cb4ufeu3s9fLX7/N8te/HN5/hEBB1tScECOx51doe7bwux7KddVa6W2mAdTlBIr97Nso5pEX8Cu9uuUy1adIBtevEe9fPkXi1x8eIMiaxPkATVdwSrui7QRmR34cLf7TbJjU75sZMijambWD6/c8N97/4O8/PECQNZ3doekX/+6K8jqvJdNedo/ejlZlXFv5jg39Hntzze7p2jKSu2+cSl5PPbEm8o73X1tGMqz3Hx4gyJrEznAyTrL72vZaT2lLeBkNz5xB7bmyvERanYl37zDKtxYXAczPA8DizI+SLRDSMtkzKDnx/jVG9/7DAwRZY+wMV8XOFdjXpc2w7YdHlV1exoJNrU6nzFpqp40iL70w8Z5KmZWLCwBeWmhXnqJZI3vXy3j/pTIjfv/hAYKs6ewLRL/0t3rfxhM7aiWdLVf081PLCW4VPFaHM/9iVe3EhglRagLAWgCFfaJo1bZGmn6NeP+dFob6/sMDBFlTOiVSjiBqWWT/mn97pwC6Yudua2Plin6O3/Zs2/EagNnZ00aZglMAnj36xvTNVgvA2k1tFNbo5UO9rAW3Q5r+eP91DPP9hwcIsqZ0RlgRXKWzyJymGQztbnHFnkli5Ux4O3zOoG17zt18qnJlllmvjRtXAti5YRWAB46fRMoyyRao1qH9b0A3cm21ALxpW9oO8VA23v9Svf/wAEHWqDvDedbpyJJ+PGv+CTkDXsKjT7/tIZuhodkeWYvK0L/nbu6VIWu02Gp1lcw/tr9bS5tvQ8T7H8/7Dw8QZE0Lnc+Xx6BVNNvDbUNTO6SV11YSNZ1Hzm2PzDDcsHWyUl6zN1pJilD3Hj5RucvjV+w4icIOSbp/Ubx/LN37Dw8QZE1pLhDPQ2sZA80OUQZge80GGWlky013+SLkbJMi4uxFjdKiENz2lKyIgrQ9vGV+l6JSNW/NiPdPjPP9hwcIsiYxG3QQi8KzAZ6TvrVdDPrb7ZGg6JNnG9afWAVg59aqReF2gucWpO3xZCS0eLTITpwC8NRj9frj/Y/z/YcHCLKmszMc/SK/dRmV8njRczKH3NHFs6+8fAq/2y0/16tuWamLN1evSNujRZxUksrwknSdrAu3Q/xnbrF++UI19r1gzcJc8QNdifcvGfX7Dw8QZE2pD2CvWLX3hPFEilrJ8vW0tbM1cOQsEcIfcWol5d1SC8rcFWrhyLMAcOttUwDwQlp5vH+7pLxbaqGv9x8eIMia0mxQiX83Sf9uNlqtIuOhzVjsn6YRpywp7Yonn01lvvYQALRbAHDZKQA4W+Rn4v3bJUf3/sMDBFlTszu0J4usoUW02p6Vw0JaDo4/4rRnm2gtyOsLi5MA7n0vALx1DQAcnwdS66ck8f5H/f7DAwRZ0/EA3Br5Rx/t/cP8tey6fvu04QNTAICT0O0KzysTMpqkMnsds1M020NQ7pmiz+fme/9SnL19I+57ulMy3j9nnO8/PECQNYnzAQ7Odr6PPhgkmtTsWdP9amaeWAVg9frTKKwLj0T9GWhCyzbI6Fay5V0nAcwcqT5Fvtt4/8T43394gCBrSlkgnjmmqFSzQ/4VpU1r2VGsZo3Igu7Z2gaw63CvvIw4OdyKyLFDraQGn3soIVV7tvb+Cvke4v0T43z/4QGCrCntDCfR7FB/saYna+Efv+RbUsp2pD3QMtOazdDKy1oyp8FraZGorZ+I9z/q9x8eIMiaxGxQe1b6IMh9LbVVSBxthwJNz1krgbpdJrW1RTwv4bFVWo7CRtMf73/87z88QJA1pdmgdgag6exCzU549rVsukMB35ty94UAsOvwJIr4jyzHXsUm8QjSY3W0UUl/TkPTH+9//O8/PECQNYlTImlNUNO9ADTbM6x8hbGD8fH5BVmeIlHq+69eV297JPZONfY8R83aceQbjvfPGc/7Dw8QZI1xSmT1i7fhVsfed0DDswN9JVMxV65I+XLKmVAkeuOTQDErcPW66jwTLatgr2CqsT1i7JOsII1BEhX9yb803j8x6vcfHiDIGnVFmPziPZkKXldiWzLKIchdaLSWtVMK/XZI2pumtkfmN6TtOcH2IODrbu03Ge9/PO8/PECQNZ1zgu3csHZelbRJdTnm+rjWfzqVNrOF2yFiN4DCDr32yiSAV08DvvWmfDd6QhvjlLaHMiF7LkVFT2VWZrz/LuN//+EBgqwp9QG0+eKe/IBEO/dKzjmps0bNViTxs2/pKds3tlHYIYJHpQTFppp18eSV5XxDioCLuZO1DcT7X4L3Hx4gyBr1lEj/WeQa/jknnl2OC+pny8hcOD2F7BD9/Mj72ygyFbRWqLR78K9E0yuMx3bgmWaiyIdU/67KfHrE+1+69x8eIMiaRB+AaNr3t2sNC26NtPn0GtJ2koX4npn5tuF/uzaPX6LN04z3P/73Hx4gyBp1JNi/L7HdQtMZJv5ZkE3nS3JV/pJLpT/e/3j0r9h34JizQhC8/ogQKMiaFoDzN9Vsw2dPkBqc/jbnADD39CxC/8DkrL9zSmTdPEHv/BBNln8s0z9O2SX0J1n++u3Rj/HojxAoyJqaE2Ik9vwQbc8ZftdDua5aK7miyib0exhcv52TKTL0bVRPMuZXenXlacf8KRK//vAAQdYkzgdougJV2hVtJzM78uNo8Z9mw0L/ctPvm1k0KNqZx3794QGCrOnsDk2/+HeHlNd5LZn2snv0drQq49rKdxz6l61+j72/Zvd0bRnJ3TdOJa+nnmj1fMIDBFmT2BlOxkl2X9teqyptCS+j4Znz6FkjG/rHr1+Wl0irP/HuHUb51uIigPl5AFic+VGyBUJ6BnsGa3iAIGuMneGq2LkC+7q0Gbb98Kjyz5jXnhj6Pc/V7trlZSze1Op3yqyldtooxgUWJt5TKbNycQHASwvtylM0b8D3WQoPEGRNZ18g+qW/3QdsPLGjVtLZcuj3PAXj0i/XYXGr7LH6nPkXq2onNkyIUhMA1gIo/AP1FmxvEGuCg6B8SqQcQdSyyNpqHXldm6nCr9i529pYOfQvK/0cv+3ftuM11J0sVnAKwLNH35i+2WoBWLupjcIbvHyolzXifiD6AEFQPiOsCK7SWWRO0wyGdre4Ys8kSVs72U7oX1r9fM6mbfvP3XyqcmWWeQ++LzTtDSo9g2yBah3a/wZ0ew6tFoA3bUv7AXrb4QGCrFF3htNix6b5Yw0tipXIGfCe1kK/zXD18+jfb/vtM8I02y9rURn699zNvTLkDRZbra6S+cf2d2tFFigI0ELn8+UxaBXN9nDb0NQOaeW1lUTGvMLQb+jRGKL+JNz2ywyPPOFds/daSeohaCcMdM4T2HEShR+QxCmRQVCeC8Tz0FrGQLNDlAHYXrNBRhrZctNdvojQv7T65WyfIuLvRe3SohP2qcASaft5y/wu9Qq0cYPwAEHWJGaDDmJReDbAc1K5XG3Er/dnh0I/sVT6Kfrn2Z71J1YB2Lm1atHlmZCEtP2ejJDWHyiyQ6cAPPVYVW14gCBrOjvD0S/aDuvclvB40XOyiNzRxbMvvnwKv9stP1duMPQvif7j8wt8Dx/JxZurV+zzgGVJKsNL0nWy7twP8J+5xyidQAPQ3xX7AgW5U+oDeE74kPgjRa1k+Xra2tkaeDsaoX/U+gk5S4fwR/xaSXm31IIyd4haOPIsANx62xQAsLPjwwMEWVOaDSrxfPGEfzcbrVaR8dBmLFqE/qXVb9M04pclpV33jCdQma89BADtFgBcdgoAzo41wUFA1OwO7ckia2gRrbZn5SgI/Z7rw9UvLTfHH/Hbs320FuT1hcVJAPe+FwDeugYA6NR4yrCFBwiypuMB+Aiif/RRW5PatJZd12OfQr+twaNnEP2dkh+YAgCchG7XeV6fkNE8ldnrmB2k2X6Ccv8U/T833/uX+jnbN+K+p8MDBHmTOB/g4Gzn++iDQaJJzZ559qsJ/Xb7/dX16+fMPLEKwOr1p1FYd94T8I8AEFq2R/YuJFvedRLAzJHqU/i7DQ8QZE0pC8QzxxSVanbIv6K0aS07irWtUei3GZ1+8mB7trYB7DrcKy8jfg634nLsViupwed+SkjVnq29vyLGAYKgvDOcRLND/cWanqyFf/ySb0kZ+j2MU7+0x9rIgGaztfKylswp8VpaTyB2hQiC1GxQe1b6IPDZhfYqJI62Q4EsGfqXVj9x1kqgbpdPbW0Xzwt5fIWWI7Lh+sMDBFlTmg1qZwCazi7U7IQWv0prxNu0nx76+bN4+XHqp9Vnuy8EgF2HJ1HE32S59yo+gUfwHquvjQr7c0qc8ABB1iROiaQ1QU33AtBsz7DyFXU7GPNaoX+s+o/PL8jy1BOg3MvqdfW2X2LvFGTPM9W8DSd2hgsC65TI6hdvw62Ove+Ahm2rkvsUzFnthP4eI9XfrUjjFZSzop7AjU8CxazM1euq83y0rI69gqzG9ouxZ/JCNAZMcP3hAYKsUVeEyS/ek6ngdSW2JaMcgtyFRmvZVhL6UwpHop8PCaOJH5D2vqntl/klaftPsD0g+LrnGAkOguKcYDs3rJ1XJW1SXY65Pq71n07VvR76l1Z/Fz7GzOcv7QZQ+IHXXpkE8OppwLfel58GQGhjzNL2UyZqz6Wo6InZoEHQodQH0OaLe/IDEtlaMpOAemtUb+G0J3pqhf5h6efP5Vmp7RvbKPwAwXsFBPUNNOvuyevL+Z7UAynmrqZrhQcIskY9JVKzRv61SP45J55djgvSOZDQb+vUrg9LPy8pxyLoKeQH6OdH3t9GkSmitVql3Zt/JZpeYTy2A8/0E0U+qvp38fUM4QGCrEn0AYimfX+71rDg1sizz70k9A+Crd+zuzVXSBb6e+bIgw3/27V1FJJYDxAEHdSRYP++xHYLTWeY+GdB2iVD/9Lqt1X5S45a/4p9B445KwTB648IgYKsaQE4f1PNNnz2BKnB6W9zDgBzT88i9A9Mzvo7p0TWzRNMzw+xs9f+7ISWmXb+MX3rtwn9qacnOKP1RwgUZI2aBbL71EWGtY3qSbT8Sq+uPK2WP0VS/uLVvEFyRZWNPb9F2zOH3/UQ+jWWm/7wAEHWJM4H0PYs4HeHhXZmrRb/aTagUczaLSOfRWg7sdk9H07oP1P0hwcIsqazOzT90kcGAMA1u6f7ePDdN04lr6eeWBP5Gfr1NqvXeS2ZtrMzEna0KuPaih0K/UuoPzxAkDXJneGAuh63tPoT795hPWZxEcD8PAAszvwo2QIhPYM9A5GTtE9GLa28thK3v8y0Vtezxjf0j1p/eIAga9RxABm3NbX6nTJrqZ02inGBhYn3VMqsXFwA8NJCu/IUzRvYu17aa2TtK9p1aau0Mhr+lb6hf5z6wwMEWdPZF4h+oW9CrqPhVtlj9TnzL1a/1IkNE6LUBIC1AAr/QL0F2xt0ZVf0azSdhnXtxb0n3vXjaegxa0WG81mj1q+pWj76v3PN71SuXHf3f9Sq4lemr7+k+/PUHY8az5JEHyAIyqdEDmL7t+14DXUnQxWcAvDs0TcqiloA1m5qo/AGLx/qZY24H+h+5RX9niyyttqIrn/00p0A1n2md528wdcfeqBSi8rbYxe1sfLQ9fPr2kybpdJ/9RV/AeAT6w8BuPzP11XaJJ/wpee3JZ9IUF2Ct/Dg9Zd0695z/zec+sMDBFmzYt+BY1de0lnQwD2AbfvP3XzKaJTv60t7O3o8A9U6tL/6TdIYAvkBgvzA9o2479FZAF39HC3StaNDsvTc9nNe+BxQ9Ae0Z2mzm5LPHbr+/hiPftv2cx785gsA7rj2c5Xr19/1GWdd8gNf+fbeWv3hAYKs6YwD9Gf77TOeNNsva1EZ+vfczb0y5A0WW62ukvnH9ndrafM9CC321fLHZPt/ccVaAOvwYvIvortaf0BDzoCXDK6/KVovQjIs/ZKj088AmJnp/X8g607/bpn+ZOXuli3V/0tk78t3q/+7bP3hAYKsUUeCue2XGR55Qrdm77WS1EPQdojv7Ae/4yRSvQKiG60enAWNMicGGADotpNa+OilUyisO/HkobXQoZKUKZL9AW0lnTGvdkD9/lW2sk3J6PRzyPZvnnozAKDnB8iiky2nK6U8T8fe98pLn3D8xBEAQDWPpOkPDxBkTckDyNk+RcTfi6ukRSfsU10l0vbzlvld6hWo4wYMnofW5n5o8ehff3cewO+9+ZXap/zwmbMB3MnenGy56S5lRH/6ixV8QPkcFD/j0S8hP0BwW87jfl6G/h/yuxy6/i9/+l0A+Ma3nJrDAwRZk+gDUPTPsz3rT6wCsHNr1aLLM/0Iafs9GSGtP1Bkh04BeOox648h/Bbxs1dNAfjwYj9ZFKpFGSE+U4jga6Oa2tFBLDrP5nkssbYLw+j0U3afMvo/f2bG0d6W7k+y/M+fAYC3vXkLUuMGHv3hAYKs6c4Gtb6SizdXr9jnucqSVIaXpOtk3bkf4D9zj1E6QQQAcMGahbniB7qi7RDPbSHP+nMu++wigKPTLwP47as+lfxbfnLvFwBcNrUKwL/+Tc95ypEBHlUbc2P61u+x0NwSczznEoxCP4db6/975CCAG37xz5UyRa+ARw1bKndvOfHHAPa/b3v1j2TY+sMDBFmT6ANo83z8Eb9WUt4ttaDMHaIWjjwLALfeNgUALyCJ54QSzq0fuxrAb73jHBTWffrJiwBMP3k/gJtuvqJb8stfvB8AcBEA4HEA1/zdpwC8/WfPAfjbv78Hqay8Zx3TIPp5LU+krpUsXx+Vfo07rvo+AGAdymPDxShBj5mZ3igB3b0DVPf7AG544dOV8h794QGCrFFHgjlNI35ZUtp1z3gClfnaQwDQbgHAZacA4GyR3/CvQyUoXqfRXOLWj/0ZgJuuOgfAtZ/4RwA3sfIPH5sDcNeXPgLgP392SbcMb60YB03n722a6pf4d+PRahUZm/Hp37vu85UrZPv3nvdBAJd3rDsrf94HAdwwQ70FPpbca03zAxrhAYKsSXgAabk5/ojfnu2jtSCvLyxOArj3vQDw1jUAQKd+a2cAcuyvnyw3Qd6AegVk6TmF7e9F/LzuKOboe1ruLyLX9twcBbJlyvncPvktAEfZdW77bTplTgDA7dPVEd/b8EkAH4eVF+KEBwiyprwz3AemAAAnodt1ntcnZDRPZfY6Zgdptp+g3D9F/8/N9/6lOHX7Rtz3dKck9wb+0VNpn35wz6MAftBX3UHWcA1Lv6fP0DReH4V+yt8T5A1oDdf683plyrOArHaoBd4m8FP41jyEBwiyJtEHmHliFYDV60+jsO68J+AfASC0bI/sXUi2vOskgJkj1adIG8Pj2oOz7WQZDb4O+HHMAbh9zwKKWZ8EzRK9ZVcblK8uzwIiNHvs2W9nEP2cQaL5Uev/t+m9AC66aCeANRt6t3m8/vx//RTAS8dnATyw9qlKC0dfnK7ULbfQq/v44w849YcHCLKmdELMnq1tALsO927LiJ/Drbgcu9VKavC5nxJStWcroMd2PPNNUalmR2UL3zzvIwDe9+DdAG7Z9SIAvor0frRRrBR75PJrAFyL3jiAbFnDtkaD6PfgqTUe/et/453GU9bjnQB2Th6rXH/4xJRRi3jp4Vnof4XUHx4gyJrSznAcaY+1kQHNZmvlZS2ZU+K1tJ4A35JS++I1OyStF832uQ6rAPzRgQUAEzf1njj/5ZMA/mnVKgBf/sn9UkMX//jrcPV78GSNxqN/1Nh/BdcfHiDImkQW6KyVQN1ebtraLp4X8vgKLUdkw08J4GizHbVZ6QSfF0TrvH6IswHceWuv/IcXzwawCc8DuLO1AH1/OM+cnOHq9yP3FdVWgY1aP2XuNTqrfsV/DVozIHeC4FyPt1SeZesPDxBkTccDkCWg1UO7LwSAXYcnUcTfZLn3Kj6BR/Aeq6+NCvtzShJ7xwdCiwunH7wPwI6/uhnAnV/5Yvc6XVl/1iKAOz//pe71D91yM4Dv3HMfgOuuvrKigWi6w8Ig+jnS8vln/oxa//3//r/G3dFh6w8PEGRNZ02wtArUE6Dcy+p19bZfYu8UZM8z1bwNR37TxV/hXSFFTF1+JYBDj9wD4A8//QkAz7/aQmH7J9stFFafw22/JGVlq7Z5WPoJzfYPK180XP3leTuC8wDgdlT7CXweqM40Cm/zJ3/wNnY9rT88QJA1pZPiKV9LfXbqCdz4JFDMyly9rvrpaVkdewVZje0XY8/khWgMmOhau7nUn8TtEOGxptvedzX0iNlzwqFta5P7LAxRP7f69r4PtkL77uj0jxpNf3iAIGsSp0T6/YC0901tv8wvSdt/gu0Bwdet2lZNfvGeTAWvK7EtGeXQ5C40Wsu56X8CAPCpr/4DgC98/C+NugRl9MtM19ai9m1VRIwEB0F5JJiPEfL5G7sBFH7gtVcmAbx6GvCt9+WnARDaGLO0/ZSJ2nMpKnoqsxqTWSyC2yEtavfMd/fHteXrVh4mN/1X/O6vocjP2HZ6cH7zHW+D+H+S1BYeIMiaxFwgfnYsRW/bN7ZR+AGC9woI6hto1t2T15fzPakHUszdq21A/eI9+Q1Pa9qOmXXWtN5Ca0/01Dqz9Jdz8xb2WcgpnVU8+sMDBFlT8gBaLpm+OfID9PMj72+jyBTRWq3S7s2/Es9ZUS+FZ/qJIh9V/Wor89GRsha2/RhktzNtBqU/qpaEflundn1w/eEBgqwpeQDP7sT8+yML/T0zc2zDrbg2j1yizXNskg9pVmtY8L8x9PtrDQupPzxAkDWu3aE5/v2KPdGezEv4543YJf067RZCv8brQ/+KfQeODSg0CM5c/h/ANUADuOBLWgAAAABJRU5ErkJggg==\" class=\"ndarray_image_preview\" /><pre class=\"ndarray_raw_data\">array([[[180, 200, 230],\n",
              "        [180, 200, 230],\n",
              "        [180, 200, 230],\n",
              "        ...,\n",
              "        [180, 200, 230],\n",
              "        [180, 200, 230],\n",
              "        [180, 200, 230]],\n",
              "\n",
              "       [[180, 200, 230],\n",
              "        [204, 230, 255],\n",
              "        [204, 230, 255],\n",
              "        ...,\n",
              "        [204, 230, 255],\n",
              "        [204, 230, 255],\n",
              "        [180, 200, 230]],\n",
              "\n",
              "       [[180, 200, 230],\n",
              "        [235, 245, 249],\n",
              "        [204, 230, 255],\n",
              "        ...,\n",
              "        [204, 230, 255],\n",
              "        [204, 230, 255],\n",
              "        [180, 200, 230]],\n",
              "\n",
              "       ...,\n",
              "\n",
              "       [[180, 200, 230],\n",
              "        [235, 245, 249],\n",
              "        [235, 245, 249],\n",
              "        ...,\n",
              "        [204, 230, 255],\n",
              "        [235, 245, 249],\n",
              "        [180, 200, 230]],\n",
              "\n",
              "       [[180, 200, 230],\n",
              "        [235, 245, 249],\n",
              "        [235, 245, 249],\n",
              "        ...,\n",
              "        [204, 230, 255],\n",
              "        [204, 230, 255],\n",
              "        [180, 200, 230]],\n",
              "\n",
              "       [[180, 200, 230],\n",
              "        [180, 200, 230],\n",
              "        [180, 200, 230],\n",
              "        ...,\n",
              "        [180, 200, 230],\n",
              "        [180, 200, 230],\n",
              "        [180, 200, 230]]], dtype=uint8)</pre></div><script>\n",
              "      (() => {\n",
              "      const titles = ['show data', 'hide data'];\n",
              "      let index = 0\n",
              "      document.querySelector('#id-26ed5cd2-abd9-43d9-8e45-08f834c6e282 button').onclick = (e) => {\n",
              "        document.querySelector('#id-26ed5cd2-abd9-43d9-8e45-08f834c6e282').classList.toggle('show_array');\n",
              "        index = (++index) % 2;\n",
              "        document.querySelector('#id-26ed5cd2-abd9-43d9-8e45-08f834c6e282 button').textContent = titles[index];\n",
              "        e.preventDefault();\n",
              "        e.stopPropagation();\n",
              "      }\n",
              "      })();\n",
              "    </script>"
            ]
          },
          "metadata": {},
          "execution_count": 57
        },
        {
          "output_type": "stream",
          "name": "stdout",
          "text": [
            "Agentımız 2(sağ) yönüne gidecek\n",
            "\n",
            "14 0.0 False False {'prob': 1.0}\n"
          ]
        },
        {
          "output_type": "execute_result",
          "data": {
            "text/plain": [
              "array([[[180, 200, 230],\n",
              "        [180, 200, 230],\n",
              "        [180, 200, 230],\n",
              "        ...,\n",
              "        [180, 200, 230],\n",
              "        [180, 200, 230],\n",
              "        [180, 200, 230]],\n",
              "\n",
              "       [[180, 200, 230],\n",
              "        [204, 230, 255],\n",
              "        [204, 230, 255],\n",
              "        ...,\n",
              "        [204, 230, 255],\n",
              "        [204, 230, 255],\n",
              "        [180, 200, 230]],\n",
              "\n",
              "       [[180, 200, 230],\n",
              "        [235, 245, 249],\n",
              "        [204, 230, 255],\n",
              "        ...,\n",
              "        [204, 230, 255],\n",
              "        [204, 230, 255],\n",
              "        [180, 200, 230]],\n",
              "\n",
              "       ...,\n",
              "\n",
              "       [[180, 200, 230],\n",
              "        [235, 245, 249],\n",
              "        [235, 245, 249],\n",
              "        ...,\n",
              "        [204, 230, 255],\n",
              "        [235, 245, 249],\n",
              "        [180, 200, 230]],\n",
              "\n",
              "       [[180, 200, 230],\n",
              "        [235, 245, 249],\n",
              "        [235, 245, 249],\n",
              "        ...,\n",
              "        [204, 230, 255],\n",
              "        [204, 230, 255],\n",
              "        [180, 200, 230]],\n",
              "\n",
              "       [[180, 200, 230],\n",
              "        [180, 200, 230],\n",
              "        [180, 200, 230],\n",
              "        ...,\n",
              "        [180, 200, 230],\n",
              "        [180, 200, 230],\n",
              "        [180, 200, 230]]], dtype=uint8)"
            ],
            "text/html": [
              "<style>\n",
              "      .ndarray_repr .ndarray_raw_data {\n",
              "        display: none;\n",
              "      }\n",
              "      .ndarray_repr.show_array .ndarray_raw_data {\n",
              "        display: block;\n",
              "      }\n",
              "      .ndarray_repr.show_array .ndarray_image_preview {\n",
              "        display: none;\n",
              "      }\n",
              "      </style>\n",
              "      <div id=\"id-6a15d59f-c35e-43d7-b7e5-bd1b9dce171b\" class=\"ndarray_repr\"><pre>ndarray (256, 256, 3) <button style=\"padding: 0 2px;\">show data</button></pre><img src=\"data:image/png;base64,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\" class=\"ndarray_image_preview\" /><pre class=\"ndarray_raw_data\">array([[[180, 200, 230],\n",
              "        [180, 200, 230],\n",
              "        [180, 200, 230],\n",
              "        ...,\n",
              "        [180, 200, 230],\n",
              "        [180, 200, 230],\n",
              "        [180, 200, 230]],\n",
              "\n",
              "       [[180, 200, 230],\n",
              "        [204, 230, 255],\n",
              "        [204, 230, 255],\n",
              "        ...,\n",
              "        [204, 230, 255],\n",
              "        [204, 230, 255],\n",
              "        [180, 200, 230]],\n",
              "\n",
              "       [[180, 200, 230],\n",
              "        [235, 245, 249],\n",
              "        [204, 230, 255],\n",
              "        ...,\n",
              "        [204, 230, 255],\n",
              "        [204, 230, 255],\n",
              "        [180, 200, 230]],\n",
              "\n",
              "       ...,\n",
              "\n",
              "       [[180, 200, 230],\n",
              "        [235, 245, 249],\n",
              "        [235, 245, 249],\n",
              "        ...,\n",
              "        [204, 230, 255],\n",
              "        [235, 245, 249],\n",
              "        [180, 200, 230]],\n",
              "\n",
              "       [[180, 200, 230],\n",
              "        [235, 245, 249],\n",
              "        [235, 245, 249],\n",
              "        ...,\n",
              "        [204, 230, 255],\n",
              "        [204, 230, 255],\n",
              "        [180, 200, 230]],\n",
              "\n",
              "       [[180, 200, 230],\n",
              "        [180, 200, 230],\n",
              "        [180, 200, 230],\n",
              "        ...,\n",
              "        [180, 200, 230],\n",
              "        [180, 200, 230],\n",
              "        [180, 200, 230]]], dtype=uint8)</pre></div><script>\n",
              "      (() => {\n",
              "      const titles = ['show data', 'hide data'];\n",
              "      let index = 0\n",
              "      document.querySelector('#id-6a15d59f-c35e-43d7-b7e5-bd1b9dce171b button').onclick = (e) => {\n",
              "        document.querySelector('#id-6a15d59f-c35e-43d7-b7e5-bd1b9dce171b').classList.toggle('show_array');\n",
              "        index = (++index) % 2;\n",
              "        document.querySelector('#id-6a15d59f-c35e-43d7-b7e5-bd1b9dce171b button').textContent = titles[index];\n",
              "        e.preventDefault();\n",
              "        e.stopPropagation();\n",
              "      }\n",
              "      })();\n",
              "    </script>"
            ]
          },
          "metadata": {},
          "execution_count": 57
        },
        {
          "output_type": "stream",
          "name": "stdout",
          "text": [
            "Agentımız 2(sağ) yönüne gidecek\n",
            "\n",
            "15 1.0 True False {'prob': 1.0}\n"
          ]
        },
        {
          "output_type": "execute_result",
          "data": {
            "text/plain": [
              "array([[[180, 200, 230],\n",
              "        [180, 200, 230],\n",
              "        [180, 200, 230],\n",
              "        ...,\n",
              "        [180, 200, 230],\n",
              "        [180, 200, 230],\n",
              "        [180, 200, 230]],\n",
              "\n",
              "       [[180, 200, 230],\n",
              "        [204, 230, 255],\n",
              "        [204, 230, 255],\n",
              "        ...,\n",
              "        [204, 230, 255],\n",
              "        [204, 230, 255],\n",
              "        [180, 200, 230]],\n",
              "\n",
              "       [[180, 200, 230],\n",
              "        [235, 245, 249],\n",
              "        [204, 230, 255],\n",
              "        ...,\n",
              "        [204, 230, 255],\n",
              "        [204, 230, 255],\n",
              "        [180, 200, 230]],\n",
              "\n",
              "       ...,\n",
              "\n",
              "       [[180, 200, 230],\n",
              "        [235, 245, 249],\n",
              "        [235, 245, 249],\n",
              "        ...,\n",
              "        [204, 230, 255],\n",
              "        [235, 245, 249],\n",
              "        [180, 200, 230]],\n",
              "\n",
              "       [[180, 200, 230],\n",
              "        [235, 245, 249],\n",
              "        [235, 245, 249],\n",
              "        ...,\n",
              "        [204, 230, 255],\n",
              "        [204, 230, 255],\n",
              "        [180, 200, 230]],\n",
              "\n",
              "       [[180, 200, 230],\n",
              "        [180, 200, 230],\n",
              "        [180, 200, 230],\n",
              "        ...,\n",
              "        [180, 200, 230],\n",
              "        [180, 200, 230],\n",
              "        [180, 200, 230]]], dtype=uint8)"
            ],
            "text/html": [
              "<style>\n",
              "      .ndarray_repr .ndarray_raw_data {\n",
              "        display: none;\n",
              "      }\n",
              "      .ndarray_repr.show_array .ndarray_raw_data {\n",
              "        display: block;\n",
              "      }\n",
              "      .ndarray_repr.show_array .ndarray_image_preview {\n",
              "        display: none;\n",
              "      }\n",
              "      </style>\n",
              "      <div id=\"id-07b81d5e-898e-4d17-b875-353e6bec5b08\" class=\"ndarray_repr\"><pre>ndarray (256, 256, 3) <button style=\"padding: 0 2px;\">show data</button></pre><img src=\"data:image/png;base64,iVBORw0KGgoAAAANSUhEUgAAAQAAAAEACAIAAADTED8xAAAd8ElEQVR4nO2df4wd1XXHv3afH2btxT+wkZ22BlM3JRS7ESZQmZQuRvYfVAgJ8k9a1FS0dVsRyUmr0PQPLARSSts/qNuGNE4ayRJJ/ohAIhhUnAhWQB0DtZXY4LqVW8tu691iUzAmy/p5a/rHefPemTlzzpx57+2u7Xs+f1i7M/fe+e7AnHPmzL3nztm19wSCIFUaAFasWmk3unpRq/PzsqHmwEWcmmgVjhw77brK+PExhP6+SVl/A8DVi1p2h/zZFnx/Bpdlt+dnqRe/ZZV/TOgvJfSXXb3I3EodQXAJ06jbIXueyp9Oev7oiHxqpavSyPdVe407h2OEfg/p6A8PECRN2wPUivk6baiXfC73jRXHJOi55E85IUfQ4j/NBoT+0N+b/vAAQdI0wB4R+QZNaM80P857ybSX/UZvR3syLiw8x6E/9PesPzxAkDS5LFDp842yZ9puz4/LZ5G30bCfac91Q3/o9+gPDxAkTcl3AO3Zst+17ePyWdfaaHgiP/t46A/98kh4gCBpGmAPU91nyIMndtRaOkcO/Z6rIPSXtQ8PECRN+zsAPQ3yC5yWhZVf4wh5XJvpwY+U5Ymrn+bO8dAf+nvWHx4gSJp2Fij7Tka/lWdhOXUzANrZ7Ej3KvQ0151BHvrt49rZ0B8eIEiatgfwx151868aWhQokTPIPaOFfpvQT4QHCJKmgfbLO4/himjPLn+26j7HWnvKIcj3emOWeeg39GiEfiI8QJA0c3btPVEoa0HPkGdGh3yqvnLXSOUln/rn0cqRtfELlJbl6Ef/+ooCHxahn7i49IcHCJKmZDZolkkF6jyRZPt/7WMrAKz7+QWlbQ78508B3HvTCDI/wN/lZd5Ai+dsetNP0LdMwrZkXGfo51xc+sMDBEkzZ9feE7esvZJ+0Z4V+SzKSI48wAO3/ELlJb/62r8D+PrLu0vPalfhZzvHXzv4DoCB6PejrW/iCuVV+NnQf+HoDw8QJE3uHcB+trR5HXYvDVkRQGaFZf5Y0+BRYuv32CGtZejn42hcmPrDAwRJk5sNKrGf+P7hNiPLGGgz/iz61++vZqP1Cv2SC19/eIAgaSqqQ3uysBzK9NvfAYjp3jTBM3JvEa1Ws3I6CP2e4/3oDw8QJE3bA/AvcP6vd/LJe+XEOIBXTvTSt+7qIc6g9Hti1rrxbuj3K5l5/eEBgqQp2R9g31gTvc7Lo7lA5Ac++9CXOse/++hfFc5KNHvgqfcyKP39RJOhn7i49IcHCJImlwXimVeK6rTnWK7IJHtPll5DegZtZM9Z+TT3o9+Dp1foJy4W/eEBgqTJVYaTaM+xfAo/c/dvGJfhVp+37GEVD8TeUgPR78GTtQj9nAtff3iAIGlKZoPKZ0jbtU8ysmmTcZbPzrNX8XC0Ff6yZf/6bUL/pac/PECQNLnZoPYbdN3ZeZqd0OI/bS2PZ7546OfX4u1Dv60/PECQNCW7RNKamn5WavJnd1Dv+1UVgHmv0B/6vfrDAwRJY+wSWXxibPhTK+O2fmb58bOFN/3SSUWhP/RrZ6X+8ABB0qgrwuQT43nT530ltiWgWmL2SjG76otsGfrzCkN/UX94gCBp2vsE27lVOa9anuVHtHE8caF/d6fO8dAf+nvWHx4gSJrcO4A239rzfi2Ro5W+iaP6aa62ENoVPb1Cf8r6wwMESaPuEqk9zf61PP45G/ZsDRnVSUK/rVM7HvrDAwRJU/IOQHieP3+vQSFrStdVEvr74dLTHx4gSBr1S7Dni52NJ9qT7/X+WYR2y9Af+m2o5Zxde0/0KTQILl4iBAqSpgGx0bFkukuZ91bcAspGzZLQb5Oy/gaAqxe1qubZeedXaLL83wL93/k69Kzfzl5f+PptLnz9F8L9jxAoSJqKHWIk9vwKrWYLP+sh31ftVV5mGkBVTiCrZ99ENo88gx/p9s23KV5F0r9+jbj/8ioSv/7wAEHSlOwPUHcFp7QrWiUwO/LjaPGfZsOkft/MkH7R9qztX7/nunH/+7//4QGCpGlXh6Zf/NUV5XHeS6a97Dd6O1qVcW3hOTb0e+zNPdtHK9tInt46Unq87IoVkXfc/8o2kkHd//AAQdKUVIaTcZL9rm2v9ZS2hLfR8MwZ1K4r20uk1Rm6cYPRvjE1BWBiAgCmjrxeOgIhLZM9g5IT919j+u5/eIAgaYzKcEXsXIF9XNoM2354VNntZSxY1+q02yymcZrI8tKtoZsLbeZNtQCcbjULV9GskV31Mu5/rs003//wAEHStOsC0S+9rd638cSOWkvnyAX9fNdyglsFj9XhTLxXVDu0bEi0GgKwGEBmnyhata2Rpl8j7n97hIHe//AAQdLkdomUXxC1LLJ/zb9dKYCO2Lnbyli5oJ/jtz3rNpwHMDZ2zmiTcRbAyaOXlZ9sNAAsXtVEZo3eP9DNWnA7pOmP+1/FIO9/eIAgaXJ7hGXBVXkWmVM3g6GdzY7YM0msnAkfh88ZtG3P8tVnC0fGmPVauXIegM3L5gPYfWoSZZZJjkC9DuyZi07k2mgAuGJduR3ioWzc/9m6/+EBgqRRK8N51unIln48a/4JOQNewqNPv+0hm6Gh2R7Zi9rQv8tXd9uQNZpqNDpKJvbv6fTS5tsQcf9n5v6HBwiSpoH248tj0CKa7eG2oa4d0tprK4nqziPntkdmGD63drjQXrM3WkuKUHcePFM4y+NXbJhEZocknb8o7j9m7/6HBwiSJjcXiOehtYyBZocoA7C+okBGOXLkulW+CDnbJIs4u1GjtCgEtz05K6IgbQ8fmZ+lqFTNWzPi/hMzef/DAwRJUzIbtB+LwrMBnp2+tSoGvVV7JCj65NmGpWfmA9i8tmhRuJ3guQVpezwZCS0ezbITZwEc21+tP+7/TN7/8ABB0rQrw9Ev8lmXUSmPFz07c8iKLp668vIq/Gyn/Xi3u2WlblpdPCJtjxZxUktqw1vScbIu3A7xn7nF+um7xdj36kWt8ewHOhL3XzLd9z88QJA0uXcAe8WqXRPGEylqLfPHy62drYEjZ4kQ/ohTaynP5kZQ5q7QCIdOAsC2h0cA4N1y5XH/7ZbybG6Enu5/eIAgaXKzQSX+apL+ajZaryzjoc1Y7J26EadsKe2KJ59NbZ54GQCaDQC44ywALBT5mbj/dsvpu//hAYKkqagO7ckia2gRrVazclBIy8HxR5z2bBNtBHm8NTUM4NlbAeCaRQBwagIoWz8lifs/3fc/PECQNG0PwK2R/+ujXT/M38vu67dPyzaOAAAmodsVnlcmZDRJbXY6Zqdotoeg3DNFn+9MdP+lOHv9Sjx3vN0y7j9nJu9/eIAgaUr2B9g31n4+eqCfaFKzZ3Xr1Rx5az6ABUvPIbMuPBL1Z6AJLdsgo1vJmusnARw5VLyKvLdx/4mZv//hAYKkyWWBeOaYolLNDvlXlNbtZUexmjUiC7pjbRPAloPd9jLi5HArIr8dai01+NxDCanasbb7V8j7EPefmMn7Hx4gSJpcZTiJZod6izU9WQv/90teklKOI+2BlpnWbIbWXvaSOQ3eS4tEbf1E3P/pvv/hAYKkKZkNas9K7wdZ11JbhcTRKhRoei6fB1RVmdTWFvG8hMdWaTkKG01/3P+Zv//hAYKkyc0GtTMAdWcXanbCU9eyboUCXpty+3UAsOXgMLL4jyzHTsUm8QjSY3W0r5L+nIamP+7/zN//8ABB0pTsEklrgurWAtBsz6DyFUYF41MTLdmeIlF691+wpNr2SOxKNfY8R83aceQdjvvPmZn7Hx4gSBpjl8jiE2/DrY5dd0DDU4G+kKkYz3ekfDnlTCgS3XoYyGYFLlhSnGeiZRXsFUwVtkd8+yQrSN8giYL+0r807j8x3fc/PECQNOqKMPnEezIVvK/EtmSUQ5BVaLSRtV0K/XZI2pu6tkfmN6TtOcNqEPB1t/adjPs/M/c/PECQNO19gu3csLZflbRJVTnm6rjWvzuVNrOF2yFiO4DMDp3/YBjAh+cA33pTXo2e0L5xSttDmZAdt6GgpzArM+5/h5m//+EBgqTJvQNo88U9+QGJtu+VnHNSZY3qrUjie9/SVdavbCKzQwSPSgmKTTXr4skry/mGFAFncycrB4j7Pwv3PzxAkDTqLpH+vcg1/HNOPFWOM6pny8hcOF2F7BD9/OrtTWSZClorlKse/JEYeo5x2TY800xk+ZDi31WYT4+4/7N3/8MDBElT8g5A1H33t3sNCm6NtPn0GtJ2koV4wcx82/C/XZvHL9Hmacb9n/n7Hx4gSBr1S7C/LrE9Qt0ZJv5ZkHXnS3JV/pazpT/u/8zon7Nr7wlnhyC49IgQKEiaBoAVqyrK8NkTpPqnt+IcAMaPjyH0903K+tu7RFbNE/TOD9Fk+b9l+r9Tdgj9pVz4+u2vHzOjP0KgIGkqdoiR2PNDtJoz/KyHfF+1V+mKKpvQ76F//XZOJsvQN1HcyZgf6faVux3zq0j8+sMDBElTsj9A3RWo0q5olczsyI+jxX+aDQv9F5p+38yiftH2PPbrDw8QJE27OjT94q8OKY/zXjLtZb/R29GqjGsLz3Hov2D1e+z9PdtHK9tInt46Unq87IrWm094gCBpSirDyTjJfte216pKW8LbaHjmPHrWyIb+mdcv20uk1R+6cYPRvjE1BWBiAgCmjrxeOgIhPYM9gzU8QJA0RmW4InauwD4ubYZtPzyq/DPmtSuGfs91tbN2exmL17X67TaLaZwmsu8CraGbC23mTbUAnG41C1fRvAGvsxQeIEiadl0g+qW36gM2nthRa+kcOfR7roKZ0i/XYXGr7LH6nIn3imqHlg2JVkMAFgPI/AO9LdjeINYEB0F+l0j5BVHLImurdeRxbaYKP2Lnbitj5dB/Qenn+G3/ug3nUbWzWMZZACePXlZ+stEAsHhVE5k3eP9AN2vE/UC8AwRBfo+wLLgqzyJz6mYwtLPZEXsmSbm1k+OE/tnVz+ds2rZ/+eqzhSNjzHvwutBUG1R6BjkC9TqwZy46bw6NBoAr1pX7Abrb4QGCpFErw2mxY938sYYWxUrkDHjPaKHfZrD6efTvt/32HmGa7Ze9qA39u3x1tw15g6lGo6NkYv+eTq/IAgUBGmg/vjwGLaLZHm4b6tohrb22ksiYVxj6DT0aA9RfCrf9MsMjd3jX7L3Wkt4QtB0G2vsJbJhE5gcksUtkEOTnAvE8tJYx0OwQZQDWVxTIKEeOXLfKFxH6Z1e/nO2TRfzdqF1adMLeFVgibT8fmZ+ltwLtu0F4gCBpSmaD9mNReDbAs1O5XG3Ej/dmh0I/MVv6Kfrn2Z6lZ+YD2Ly2aNHlnpCEtP2ejJD2PpBlh84COLa/qDY8QJA07cpw9ItWYZ3bEh4venYWkRVdPHXx5VX42U778fyAoX9W9J+aaPEaPpKbVheP2PsBy5bUhrek42TduR/gP3OPkduBBqC/K+oCBamTewfw7PAh8UeKWsv88XJrZ2vg42iE/unWT8hZOoQ/4tdayrO5EZS5QzTCoZMAsO3hEQBge8eHBwiSJjcbVOJ54gl/NRutV5bx0GYsWoT+2dVvUzfily2lXfd8T6A2T7wMAM0GANxxFgAWxprgICAqqkN7ssgaWkSr1aycDkK/5/hg9UvLzfFH/PZsH20Eebw1NQzg2VsB4JpFAEC7xlOGLTxAkDRtD8C/IPq/PmprUuv2svt67FPotzV49PSjv91y4wgAYBK6Xed5fUJG89Rmp2N2kGb7Ccr9U/T/zkT3X3rPWb8Szx0PDxCkTcn+APvG2s9HD/QTTWr2zFOvJvTb4/fW16+fc+St+QAWLD2HzLrzNwH/FwBCy/bItwvJmusnARw5VLwKv7fhAYKkyWWBeOaYolLNDvlXlNbtZUextjUK/TbTp5882I61TQBbDnbby4ifw624/HartdTgcz8lpGrH2u5fEd8BgiBfGU6i2aHeYk1P1sL//ZKXpAz9HmZSv7TH2pcBzWZr7WUvmVPivbQ3gagKEQRls0HtWen9wGcX2quQOFqFAtky9M+ufuLyeUBVlU9tbRfPC3l8hZYjsuH6wwMESZObDWpnAOrOLtTshBa/SmvEx7SvHvr5tXj7mdRPq8+2XwcAWw4OI4u/yXLvVHwCj+A9Vl/7KuzPKXHCAwRJU7JLJK0JqlsLQLM9g8pXVFUw5r1C/4zqPzXRku3pTYByLwuWVNt+iV0pyJ5nqnkbTlSGCwJrl8jiE2/DrY5dd0DDtlWldQrGrXFCf5dp1d/pSN8rKGdFbwJbDwPZrMwFS4rzfLSsjr2CrML2i2/P5IXoGzDB9YcHCJJGXREmn3hPpoL3ldiWjHIIsgqNNrKtJPSXKZwW/fyTMOr4AWnv69p+mV+Stv8MqwHB1z3Hl+AgyPYJtnPD2n5V0iZV5Zir41r/7lSd46F/dvV34N+Y+fyl7QAyP3D+g2EAH54DfOt9+W4AhPaNWdp+ykTtuA0FPTEbNAja5N4BtPninvyARI5WmklAtTWqtnDaFT29Qv+g9PPr8qzU+pVNZH6A4G8FBL0baNbdk9eX8z3pDSSbu1reKzxAkDTqLpGaNfKvRfLPOfFUOc4oz4GEflundnxQ+nlL+S2CrkJ+gH5+9fYmskwRrdXKVW/+SAw9x7hsG57pJ7J8VPHv4usZwgMESVPyDkDUffe3ew0Kbo08de4lob8fbP2e6tZcIVnoF8wvDzb8b9fWUUhiPUAQtFG/BPvrEtsj1J1h4p8FabcM/bOr31blbznd+ufs2nvC2SEILj0iBAqSpgFgxaqKMnz2BKn+6a04B4Dx42MI/X2Tsv72LpFV8wTL54fY2Wt/dkLLTDv/mJ7124T+squXcFHrjxAoSBo1C2S/U2cZ1iaKO9HyI92+crdafhVJ/olX8walK6ps7PktWs0cftZD6Ne40PSHBwiSpmR/AK1mAT87KLQ9a7X4T7MBtWLWTht5LUKrxGa/+XBC/8WiPzxAkDTt6tD0Sw8ZAAD3bB/t4cJPbx0pPV52xYrIz9Cvj1k8znvJtJ2dkbCjVRnXFuxQ6J9F/eEBgqQprQwHVL1xS6s/dOMG6zJTUwAmJgBg6sjrpSMQ0jPYMxA5pfbJ6KW111bi9paZ1vp61viG/unWHx4gSBr1O4CM2+pa/XabxTROE9l3gdbQzYU286ZaAE63moWraN7Arnppr5G1j2jHpa3S2mj4V/qG/pnUHx4gSJp2XSD6hZ4JuY6GW2WP1edMvFd8UoeWDYlWQwAWA8j8A70t2N6gI7ugX6O3aVie2Fdr6Rw5Wf333jRSeZWvv7y7MALXOXrfLZ2fR558zbiWJN4BgiC/S2Q/tn/dhvOo2hkq4yyAk0cvUxQ1ACxe1UTmDd4/0M0acT/QecoL+j1ZZG21kTyuzVThR+xvF5WxclL6777z9wF8cekBAMAiAP9z5+LS8a9b9x6AP7htc+fI+MKrWV8A2PR7Szo//+C+WwA8/r/rADzz/Dec+sMDBEmT2yOMz9m0bf/y1WcLR8aY9+B1fam2o/QMcgTqdWDPXHTeHBoNAFesK/cD/FUi+85Hv5VnkTl1Mxja2exI8dt53RnwKejntp8s9yYAwP3b3kPeD5DtJ5Z8mV3msWMANj24BGW0vcE3D3Su9Tff3VmpPzxAkDRtD8Cjf7/tt/d40my/7EVt6N/lq7ttyBtMNRodJRP793R6afM9CC32rZs/1tCicImcAe8Z7dLTLzk6+ja1rdRAkDe4f9t5AN96ZC6AH3yzW/x/zRr6P634f5etPzxAkDTql2Bu+2WGR+7Qrdl7rSW9IWgV4tv14DdMIvMDkk6cum8MFHeWfGAAoNtObhvq2lGtvbaSzphXm4h+Dtn+1SNXAcCL5wtnDx9YjPybAIf7gYc2Fv9/O3XmEABgnVN/eIAgaXIeQM72ySL+blwlLTph7+oqkbafj8zP0luB+t2AwfPQWsZDs6OUAVtfUeCjHDly3SplxKWtX6K9A3xv79sAsNfq+3kUxz9yZB6Af/yd7wPAN77jEYzwAEHilLwDUPTPsz1Lz8wHsHlt0aLLPf0Iafs9GSHtfSDLDp0FcGy/9ccQ/VhEng3zWDKtigFfG1XXjl7a+p+89zEA9z31ZQD/8fYRAOQB/vj7E91GV3mvtXvPMQDXXrWmMzLHoz88QJA0ndmg1lNy0+riEXs/V9mS2vCWdJysO/cD/GfuMXI7iAAArl7UGs9+oCNahXhuC3m869kZRVY08tT1l1fhZzvtk9LP4db6Zx7/88LZH729EMAdX5lC9p7wybse7Jz9yb+9AwBfewbAK2v/DMCeT68v/pEMW394gCBpSt4B5Cwdwh/xay3l2dwIytwhGuHQSQDY9vAIALyLUjw7lGi9PJGu1jJ/vNxa2xr4OBoXu36be/72vs7PZOOPjv4DgNHDNwAYPfw8gC986U4Av/LxKzstn7zrhwCAHwL43Lt/WhjToz88QJA06pdgTt2IX7aUdt3zPYHaPPEyADQbAHDHWQBYKPIb/nWoGv5qNlqvLOOhzbi0SFP/ziV/AQCPzAVw7xe/BWDbH93dOUtx/yfvQufsF0wNNJrmBzTCAwRJU+IBpOXm+CN+e7aPNoI83poaBvDsrQBwzSIAoF2/tT0AOZ4suIYW0Wo1K6eDS0///726D8Cjw98BcJQd/+yqeQAe+dozAB7aeArAT/C7yCL+px6/v9OSvEHrU5sBHB0tfvF9GH8C4AFYeSFOeIAgafKV4TaOAAAmodt1ntcnZDRPbXY6Zgdptp+g3D9F/+9MdP+lOHX9Sjx3vN2SewP/11NtTW3dXnZfj31NTf9DZ36z8zN5A1rLuwLHkGV+cPg1AC+xXq+cGEdm+/k4NAIfE/hX+NY8hAcIkqbkHeDIW/MBLFh6Dpl1528C/i8AhJbtkW8XkjXXTwI4cqh4FWljeFy7b6xZ2sZDP9GwZo899XZS0P9PozsB3HDDZgCLlnVPU7y+4oNjyFYGv7muu/UMrQ2gmUJ/d1ULwOff2I2sQgQfgaz+6VNjAN58c7dTf3iAIGlyO8TsWNsEsOVg97SM+Dncistvt1pLDT73U0KqdqwF9NiOZ74pKtXsqH9FbN1edhRuW6N09C/9xC8VD71xrPMjXxH26qZ7AHwaTwO4bl0LAB5TRgAAnH5lzPgrpP7wAEHS5CrDcaQ91r4MaDZbay97yZwS76W9CfCSlNoTr9mh3mJlT9bF//01Zf0an/kx+6/84xUA/hrPA/je5NsAhn51PoD7UVxDLLH/Cq4/PECQNCVZoMvnAVVVPrW1XTwv5PEVWo7Ihu8SwNFmO2qz0usi63Jqq6ik2tDP21PmPsdGAHj0RQD4raniCD/CQgDf3tZC9p0YECMAAO7DxwrXsvWHBwiSpqQ26PbrAGDLwWFk8TdZ7p2KT+ARvMfqa1+F/TkliVYxgVN3dqRm5zx1OetWWEhB//Nv/Ffp8RfHuv8n3PqJDwB8+18Wlrb8xSs/LLTfuLI6u2jrDw8QJE17TbC0CvQmQLmXBUuqbb/ErhRkzzPVvA1HPtO81nHdWgaa7RxUvqWqAjPvdenrz83bWQgA75/67+6R1QBw9/zX8p3wzOQtAE1VwxXLfhbASyVTyUaReZvf/vVrK/WHBwiSJrdTPOVr6Z2d3gS2HgayWZkLlhQfNy2rY68gq7D94tszeSH6Bkx0rF13yghDq3lvw62mXTdBw1NBv5BpCf0dyKJzNg4X/z956UyxjR9Nf3iAIGlKdon0+wFp7+vafplfkrb/DKsBwdet2lZNPvGeTAXvK7EtGeXQZBUabeTU9L8FAHjwq38P4C8f+EOjL0EZ/Tyjlb1ofFsVEV+CgyD/JZh/I+TzN7YDyPzA+Q+GAXx4DvCt9+W7ARDaN2Zp+ykTteM2FPQUZjWWZrEIboe0vVU88939ca1/d63U9N/5qZ9Dlp+x7XT//PLHr4X4/6RUW3iAIGlK5gLxvWMpelu/sonMDxD8rYCgdwPNunvy+nK+J72BZHP3KgdQn3hPfsMzmlYxs8qaVlto7YqeXheX/nxu3kIbzT+D1aM/PECQNDkPoOWS6ZkjP0A/v3p7E1mmiNZq5ao3fySuM6daCs/0E1k+qvjUFuajo8xa2Pajn2pn2gxKf1QtCf22Tu14//rDAwRJk/MAnurE/PkjC/2CmTm24VZcm0cu0eY51smH1Os1KPjfGPr9vQaF1B8eIEgaV3Vojr9esSfak3kJ/yxIu6Vfpz1C6Ne4NPTP2bX3RJ9Cg+Di5f8B2cr+kVLem0UAAAAASUVORK5CYII=\" class=\"ndarray_image_preview\" /><pre class=\"ndarray_raw_data\">array([[[180, 200, 230],\n",
              "        [180, 200, 230],\n",
              "        [180, 200, 230],\n",
              "        ...,\n",
              "        [180, 200, 230],\n",
              "        [180, 200, 230],\n",
              "        [180, 200, 230]],\n",
              "\n",
              "       [[180, 200, 230],\n",
              "        [204, 230, 255],\n",
              "        [204, 230, 255],\n",
              "        ...,\n",
              "        [204, 230, 255],\n",
              "        [204, 230, 255],\n",
              "        [180, 200, 230]],\n",
              "\n",
              "       [[180, 200, 230],\n",
              "        [235, 245, 249],\n",
              "        [204, 230, 255],\n",
              "        ...,\n",
              "        [204, 230, 255],\n",
              "        [204, 230, 255],\n",
              "        [180, 200, 230]],\n",
              "\n",
              "       ...,\n",
              "\n",
              "       [[180, 200, 230],\n",
              "        [235, 245, 249],\n",
              "        [235, 245, 249],\n",
              "        ...,\n",
              "        [204, 230, 255],\n",
              "        [235, 245, 249],\n",
              "        [180, 200, 230]],\n",
              "\n",
              "       [[180, 200, 230],\n",
              "        [235, 245, 249],\n",
              "        [235, 245, 249],\n",
              "        ...,\n",
              "        [204, 230, 255],\n",
              "        [204, 230, 255],\n",
              "        [180, 200, 230]],\n",
              "\n",
              "       [[180, 200, 230],\n",
              "        [180, 200, 230],\n",
              "        [180, 200, 230],\n",
              "        ...,\n",
              "        [180, 200, 230],\n",
              "        [180, 200, 230],\n",
              "        [180, 200, 230]]], dtype=uint8)</pre></div><script>\n",
              "      (() => {\n",
              "      const titles = ['show data', 'hide data'];\n",
              "      let index = 0\n",
              "      document.querySelector('#id-07b81d5e-898e-4d17-b875-353e6bec5b08 button').onclick = (e) => {\n",
              "        document.querySelector('#id-07b81d5e-898e-4d17-b875-353e6bec5b08').classList.toggle('show_array');\n",
              "        index = (++index) % 2;\n",
              "        document.querySelector('#id-07b81d5e-898e-4d17-b875-353e6bec5b08 button').textContent = titles[index];\n",
              "        e.preventDefault();\n",
              "        e.stopPropagation();\n",
              "      }\n",
              "      })();\n",
              "    </script>"
            ]
          },
          "metadata": {},
          "execution_count": 57
        },
        {
          "output_type": "stream",
          "name": "stdout",
          "text": [
            "Agentımız toplam 6 hamle yaptı ve ödülü:1.0\n",
            "time: 208 ms (started: 2025-04-06 12:08:13 +00:00)\n"
          ]
        }
      ]
    },
    {
      "cell_type": "markdown",
      "source": [
        "Q-table'ın güzellği, sadece başlangıç hücresinde oyuna nasıl başlarız'ın cevabını vermesi değil, herhangi bir hücredeyken bile doğru yolu verebilir olması. Yani agent'mızı üç boyutlu hale getirilmiş bu oyunda, 80*80 yapıldığında dahi, helikopeterle herhangi bir alana bıraksak, oradan nereye gideceğini iyi bilecektir."
      ],
      "metadata": {
        "id": "YTbjAzcGwQ-S"
      }
    },
    {
      "cell_type": "code",
      "source": [
        "# orta noktadan bırakılması durumu: direkt oradan başlayamıyor, biz manuel getirip öyle devam ettireceğiz\n",
        "state, _ = env.reset() #0,0'da\n",
        "env.step(2) #0,1\n",
        "env.step(2) #0,2\n",
        "env.step(1) #1,2\n",
        "\n",
        "#şimdi biz buradan devam edelim\n",
        "directions = {0:\"sol\", 1:\"aşağı\",2:\"sağ\",3:\"yukarı\"}\n",
        "episode_over = False\n",
        "total_reward=0\n",
        "steps=0\n",
        "q_table = np.load('q_table.npy')\n",
        "while not episode_over:\n",
        "    action = np.argmax(q_table[state])\n",
        "    print(f\"Agentımız {action}({directions[action]}) yönüne gidecek\\n\")\n",
        "    state, reward, terminated, truncated, info = env.step(action)\n",
        "    print(state, reward, terminated, truncated, info)\n",
        "    env.render()\n",
        "    episode_over = terminated or truncated\n",
        "    steps+=1\n",
        "    total_reward+=reward\n",
        "\n",
        "print(f\"Agentımız toplam {steps} hamle yaptı ve ödülü:{total_reward}\")\n",
        "env.close()"
      ],
      "metadata": {
        "id": "OrFCy4IasERB",
        "colab": {
          "base_uri": "https://localhost:8080/",
          "height": 1000
        },
        "outputId": "4bf019ac-69a0-4de6-f8ce-7f91d4265995"
      },
      "execution_count": null,
      "outputs": [
        {
          "output_type": "execute_result",
          "data": {
            "text/plain": [
              "(1, 0.0, False, False, {'prob': 1.0})"
            ]
          },
          "metadata": {},
          "execution_count": 61
        },
        {
          "output_type": "execute_result",
          "data": {
            "text/plain": [
              "(2, 0.0, False, False, {'prob': 1.0})"
            ]
          },
          "metadata": {},
          "execution_count": 61
        },
        {
          "output_type": "execute_result",
          "data": {
            "text/plain": [
              "(6, 0.0, False, False, {'prob': 1.0})"
            ]
          },
          "metadata": {},
          "execution_count": 61
        },
        {
          "output_type": "stream",
          "name": "stdout",
          "text": [
            "Agentımız 1(aşağı) yönüne gidecek\n",
            "\n",
            "10 0.0 False False {'prob': 1.0}\n"
          ]
        },
        {
          "output_type": "execute_result",
          "data": {
            "text/plain": [
              "array([[[180, 200, 230],\n",
              "        [180, 200, 230],\n",
              "        [180, 200, 230],\n",
              "        ...,\n",
              "        [180, 200, 230],\n",
              "        [180, 200, 230],\n",
              "        [180, 200, 230]],\n",
              "\n",
              "       [[180, 200, 230],\n",
              "        [204, 230, 255],\n",
              "        [204, 230, 255],\n",
              "        ...,\n",
              "        [204, 230, 255],\n",
              "        [204, 230, 255],\n",
              "        [180, 200, 230]],\n",
              "\n",
              "       [[180, 200, 230],\n",
              "        [235, 245, 249],\n",
              "        [204, 230, 255],\n",
              "        ...,\n",
              "        [204, 230, 255],\n",
              "        [204, 230, 255],\n",
              "        [180, 200, 230]],\n",
              "\n",
              "       ...,\n",
              "\n",
              "       [[180, 200, 230],\n",
              "        [235, 245, 249],\n",
              "        [235, 245, 249],\n",
              "        ...,\n",
              "        [204, 230, 255],\n",
              "        [235, 245, 249],\n",
              "        [180, 200, 230]],\n",
              "\n",
              "       [[180, 200, 230],\n",
              "        [235, 245, 249],\n",
              "        [235, 245, 249],\n",
              "        ...,\n",
              "        [204, 230, 255],\n",
              "        [204, 230, 255],\n",
              "        [180, 200, 230]],\n",
              "\n",
              "       [[180, 200, 230],\n",
              "        [180, 200, 230],\n",
              "        [180, 200, 230],\n",
              "        ...,\n",
              "        [180, 200, 230],\n",
              "        [180, 200, 230],\n",
              "        [180, 200, 230]]], dtype=uint8)"
            ],
            "text/html": [
              "<style>\n",
              "      .ndarray_repr .ndarray_raw_data {\n",
              "        display: none;\n",
              "      }\n",
              "      .ndarray_repr.show_array .ndarray_raw_data {\n",
              "        display: block;\n",
              "      }\n",
              "      .ndarray_repr.show_array .ndarray_image_preview {\n",
              "        display: none;\n",
              "      }\n",
              "      </style>\n",
              "      <div id=\"id-a3e61e37-18b9-4e11-9d7e-80468b7d1b4a\" class=\"ndarray_repr\"><pre>ndarray (256, 256, 3) <button style=\"padding: 0 2px;\">show data</button></pre><img src=\"data:image/png;base64,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\" class=\"ndarray_image_preview\" /><pre class=\"ndarray_raw_data\">array([[[180, 200, 230],\n",
              "        [180, 200, 230],\n",
              "        [180, 200, 230],\n",
              "        ...,\n",
              "        [180, 200, 230],\n",
              "        [180, 200, 230],\n",
              "        [180, 200, 230]],\n",
              "\n",
              "       [[180, 200, 230],\n",
              "        [204, 230, 255],\n",
              "        [204, 230, 255],\n",
              "        ...,\n",
              "        [204, 230, 255],\n",
              "        [204, 230, 255],\n",
              "        [180, 200, 230]],\n",
              "\n",
              "       [[180, 200, 230],\n",
              "        [235, 245, 249],\n",
              "        [204, 230, 255],\n",
              "        ...,\n",
              "        [204, 230, 255],\n",
              "        [204, 230, 255],\n",
              "        [180, 200, 230]],\n",
              "\n",
              "       ...,\n",
              "\n",
              "       [[180, 200, 230],\n",
              "        [235, 245, 249],\n",
              "        [235, 245, 249],\n",
              "        ...,\n",
              "        [204, 230, 255],\n",
              "        [235, 245, 249],\n",
              "        [180, 200, 230]],\n",
              "\n",
              "       [[180, 200, 230],\n",
              "        [235, 245, 249],\n",
              "        [235, 245, 249],\n",
              "        ...,\n",
              "        [204, 230, 255],\n",
              "        [204, 230, 255],\n",
              "        [180, 200, 230]],\n",
              "\n",
              "       [[180, 200, 230],\n",
              "        [180, 200, 230],\n",
              "        [180, 200, 230],\n",
              "        ...,\n",
              "        [180, 200, 230],\n",
              "        [180, 200, 230],\n",
              "        [180, 200, 230]]], dtype=uint8)</pre></div><script>\n",
              "      (() => {\n",
              "      const titles = ['show data', 'hide data'];\n",
              "      let index = 0\n",
              "      document.querySelector('#id-a3e61e37-18b9-4e11-9d7e-80468b7d1b4a button').onclick = (e) => {\n",
              "        document.querySelector('#id-a3e61e37-18b9-4e11-9d7e-80468b7d1b4a').classList.toggle('show_array');\n",
              "        index = (++index) % 2;\n",
              "        document.querySelector('#id-a3e61e37-18b9-4e11-9d7e-80468b7d1b4a button').textContent = titles[index];\n",
              "        e.preventDefault();\n",
              "        e.stopPropagation();\n",
              "      }\n",
              "      })();\n",
              "    </script>"
            ]
          },
          "metadata": {},
          "execution_count": 61
        },
        {
          "output_type": "stream",
          "name": "stdout",
          "text": [
            "Agentımız 1(aşağı) yönüne gidecek\n",
            "\n",
            "14 0.0 False False {'prob': 1.0}\n"
          ]
        },
        {
          "output_type": "execute_result",
          "data": {
            "text/plain": [
              "array([[[180, 200, 230],\n",
              "        [180, 200, 230],\n",
              "        [180, 200, 230],\n",
              "        ...,\n",
              "        [180, 200, 230],\n",
              "        [180, 200, 230],\n",
              "        [180, 200, 230]],\n",
              "\n",
              "       [[180, 200, 230],\n",
              "        [204, 230, 255],\n",
              "        [204, 230, 255],\n",
              "        ...,\n",
              "        [204, 230, 255],\n",
              "        [204, 230, 255],\n",
              "        [180, 200, 230]],\n",
              "\n",
              "       [[180, 200, 230],\n",
              "        [235, 245, 249],\n",
              "        [204, 230, 255],\n",
              "        ...,\n",
              "        [204, 230, 255],\n",
              "        [204, 230, 255],\n",
              "        [180, 200, 230]],\n",
              "\n",
              "       ...,\n",
              "\n",
              "       [[180, 200, 230],\n",
              "        [235, 245, 249],\n",
              "        [235, 245, 249],\n",
              "        ...,\n",
              "        [204, 230, 255],\n",
              "        [235, 245, 249],\n",
              "        [180, 200, 230]],\n",
              "\n",
              "       [[180, 200, 230],\n",
              "        [235, 245, 249],\n",
              "        [235, 245, 249],\n",
              "        ...,\n",
              "        [204, 230, 255],\n",
              "        [204, 230, 255],\n",
              "        [180, 200, 230]],\n",
              "\n",
              "       [[180, 200, 230],\n",
              "        [180, 200, 230],\n",
              "        [180, 200, 230],\n",
              "        ...,\n",
              "        [180, 200, 230],\n",
              "        [180, 200, 230],\n",
              "        [180, 200, 230]]], dtype=uint8)"
            ],
            "text/html": [
              "<style>\n",
              "      .ndarray_repr .ndarray_raw_data {\n",
              "        display: none;\n",
              "      }\n",
              "      .ndarray_repr.show_array .ndarray_raw_data {\n",
              "        display: block;\n",
              "      }\n",
              "      .ndarray_repr.show_array .ndarray_image_preview {\n",
              "        display: none;\n",
              "      }\n",
              "      </style>\n",
              "      <div id=\"id-bccc4771-9152-4e4b-b660-f8513b6d5e51\" class=\"ndarray_repr\"><pre>ndarray (256, 256, 3) <button style=\"padding: 0 2px;\">show data</button></pre><img src=\"data:image/png;base64,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\" class=\"ndarray_image_preview\" /><pre class=\"ndarray_raw_data\">array([[[180, 200, 230],\n",
              "        [180, 200, 230],\n",
              "        [180, 200, 230],\n",
              "        ...,\n",
              "        [180, 200, 230],\n",
              "        [180, 200, 230],\n",
              "        [180, 200, 230]],\n",
              "\n",
              "       [[180, 200, 230],\n",
              "        [204, 230, 255],\n",
              "        [204, 230, 255],\n",
              "        ...,\n",
              "        [204, 230, 255],\n",
              "        [204, 230, 255],\n",
              "        [180, 200, 230]],\n",
              "\n",
              "       [[180, 200, 230],\n",
              "        [235, 245, 249],\n",
              "        [204, 230, 255],\n",
              "        ...,\n",
              "        [204, 230, 255],\n",
              "        [204, 230, 255],\n",
              "        [180, 200, 230]],\n",
              "\n",
              "       ...,\n",
              "\n",
              "       [[180, 200, 230],\n",
              "        [235, 245, 249],\n",
              "        [235, 245, 249],\n",
              "        ...,\n",
              "        [204, 230, 255],\n",
              "        [235, 245, 249],\n",
              "        [180, 200, 230]],\n",
              "\n",
              "       [[180, 200, 230],\n",
              "        [235, 245, 249],\n",
              "        [235, 245, 249],\n",
              "        ...,\n",
              "        [204, 230, 255],\n",
              "        [204, 230, 255],\n",
              "        [180, 200, 230]],\n",
              "\n",
              "       [[180, 200, 230],\n",
              "        [180, 200, 230],\n",
              "        [180, 200, 230],\n",
              "        ...,\n",
              "        [180, 200, 230],\n",
              "        [180, 200, 230],\n",
              "        [180, 200, 230]]], dtype=uint8)</pre></div><script>\n",
              "      (() => {\n",
              "      const titles = ['show data', 'hide data'];\n",
              "      let index = 0\n",
              "      document.querySelector('#id-bccc4771-9152-4e4b-b660-f8513b6d5e51 button').onclick = (e) => {\n",
              "        document.querySelector('#id-bccc4771-9152-4e4b-b660-f8513b6d5e51').classList.toggle('show_array');\n",
              "        index = (++index) % 2;\n",
              "        document.querySelector('#id-bccc4771-9152-4e4b-b660-f8513b6d5e51 button').textContent = titles[index];\n",
              "        e.preventDefault();\n",
              "        e.stopPropagation();\n",
              "      }\n",
              "      })();\n",
              "    </script>"
            ]
          },
          "metadata": {},
          "execution_count": 61
        },
        {
          "output_type": "stream",
          "name": "stdout",
          "text": [
            "Agentımız 2(sağ) yönüne gidecek\n",
            "\n",
            "15 1.0 True False {'prob': 1.0}\n"
          ]
        },
        {
          "output_type": "execute_result",
          "data": {
            "text/plain": [
              "array([[[180, 200, 230],\n",
              "        [180, 200, 230],\n",
              "        [180, 200, 230],\n",
              "        ...,\n",
              "        [180, 200, 230],\n",
              "        [180, 200, 230],\n",
              "        [180, 200, 230]],\n",
              "\n",
              "       [[180, 200, 230],\n",
              "        [204, 230, 255],\n",
              "        [204, 230, 255],\n",
              "        ...,\n",
              "        [204, 230, 255],\n",
              "        [204, 230, 255],\n",
              "        [180, 200, 230]],\n",
              "\n",
              "       [[180, 200, 230],\n",
              "        [235, 245, 249],\n",
              "        [204, 230, 255],\n",
              "        ...,\n",
              "        [204, 230, 255],\n",
              "        [204, 230, 255],\n",
              "        [180, 200, 230]],\n",
              "\n",
              "       ...,\n",
              "\n",
              "       [[180, 200, 230],\n",
              "        [235, 245, 249],\n",
              "        [235, 245, 249],\n",
              "        ...,\n",
              "        [204, 230, 255],\n",
              "        [235, 245, 249],\n",
              "        [180, 200, 230]],\n",
              "\n",
              "       [[180, 200, 230],\n",
              "        [235, 245, 249],\n",
              "        [235, 245, 249],\n",
              "        ...,\n",
              "        [204, 230, 255],\n",
              "        [204, 230, 255],\n",
              "        [180, 200, 230]],\n",
              "\n",
              "       [[180, 200, 230],\n",
              "        [180, 200, 230],\n",
              "        [180, 200, 230],\n",
              "        ...,\n",
              "        [180, 200, 230],\n",
              "        [180, 200, 230],\n",
              "        [180, 200, 230]]], dtype=uint8)"
            ],
            "text/html": [
              "<style>\n",
              "      .ndarray_repr .ndarray_raw_data {\n",
              "        display: none;\n",
              "      }\n",
              "      .ndarray_repr.show_array .ndarray_raw_data {\n",
              "        display: block;\n",
              "      }\n",
              "      .ndarray_repr.show_array .ndarray_image_preview {\n",
              "        display: none;\n",
              "      }\n",
              "      </style>\n",
              "      <div id=\"id-2f417e92-3fcc-4124-8097-bd193097e826\" class=\"ndarray_repr\"><pre>ndarray (256, 256, 3) <button style=\"padding: 0 2px;\">show data</button></pre><img src=\"data:image/png;base64,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\" class=\"ndarray_image_preview\" /><pre class=\"ndarray_raw_data\">array([[[180, 200, 230],\n",
              "        [180, 200, 230],\n",
              "        [180, 200, 230],\n",
              "        ...,\n",
              "        [180, 200, 230],\n",
              "        [180, 200, 230],\n",
              "        [180, 200, 230]],\n",
              "\n",
              "       [[180, 200, 230],\n",
              "        [204, 230, 255],\n",
              "        [204, 230, 255],\n",
              "        ...,\n",
              "        [204, 230, 255],\n",
              "        [204, 230, 255],\n",
              "        [180, 200, 230]],\n",
              "\n",
              "       [[180, 200, 230],\n",
              "        [235, 245, 249],\n",
              "        [204, 230, 255],\n",
              "        ...,\n",
              "        [204, 230, 255],\n",
              "        [204, 230, 255],\n",
              "        [180, 200, 230]],\n",
              "\n",
              "       ...,\n",
              "\n",
              "       [[180, 200, 230],\n",
              "        [235, 245, 249],\n",
              "        [235, 245, 249],\n",
              "        ...,\n",
              "        [204, 230, 255],\n",
              "        [235, 245, 249],\n",
              "        [180, 200, 230]],\n",
              "\n",
              "       [[180, 200, 230],\n",
              "        [235, 245, 249],\n",
              "        [235, 245, 249],\n",
              "        ...,\n",
              "        [204, 230, 255],\n",
              "        [204, 230, 255],\n",
              "        [180, 200, 230]],\n",
              "\n",
              "       [[180, 200, 230],\n",
              "        [180, 200, 230],\n",
              "        [180, 200, 230],\n",
              "        ...,\n",
              "        [180, 200, 230],\n",
              "        [180, 200, 230],\n",
              "        [180, 200, 230]]], dtype=uint8)</pre></div><script>\n",
              "      (() => {\n",
              "      const titles = ['show data', 'hide data'];\n",
              "      let index = 0\n",
              "      document.querySelector('#id-2f417e92-3fcc-4124-8097-bd193097e826 button').onclick = (e) => {\n",
              "        document.querySelector('#id-2f417e92-3fcc-4124-8097-bd193097e826').classList.toggle('show_array');\n",
              "        index = (++index) % 2;\n",
              "        document.querySelector('#id-2f417e92-3fcc-4124-8097-bd193097e826 button').textContent = titles[index];\n",
              "        e.preventDefault();\n",
              "        e.stopPropagation();\n",
              "      }\n",
              "      })();\n",
              "    </script>"
            ]
          },
          "metadata": {},
          "execution_count": 61
        },
        {
          "output_type": "stream",
          "name": "stdout",
          "text": [
            "Agentımız toplam 3 hamle yaptı ve ödülü:1.0\n",
            "time: 62.7 ms (started: 2025-04-06 12:13:21 +00:00)\n"
          ]
        }
      ]
    }
  ]
}