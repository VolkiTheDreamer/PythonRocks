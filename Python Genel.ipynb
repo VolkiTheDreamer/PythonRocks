{
 "cells": [
  {
   "cell_type": "markdown",
   "metadata": {},
   "source": [
    "<b>Son değiştirilme tarihi:16.01.2020</b>"
   ]
  },
  {
   "cell_type": "markdown",
   "metadata": {},
   "source": [
    "<strong style=\"font-size:200%;\">ÖNSÖZ</strong>"
   ]
  },
  {
   "cell_type": "markdown",
   "metadata": {},
   "source": [
    "NOT:Dokümanda zaman zaman güncellemeler olacağı için arada bir güncel versiyon kontrolü yapmanızı tavsiye ederim.\n",
    "<hr>\n",
    "\n",
    "<b>\"nbviewer\"</b> üzerinden görüntülüyorsanız, dosyayı kaydetmek için sayfanın sağ üst köşesindeki <b>download</b> butonuna tıklayın, açılan sayfada herhangi bir yere sağ tıklayın ve farklı kaydet diyerek dosyayı istediğiniz klasöre kaydedin. Dosyayı açabilmek için Jupyter'in kurulması gerekmekte olup, yeni başlayan biriyseniz aşağıda kurulumla ilgili detayları inceleyin.\n",
    "<hr>"
   ]
  },
  {
   "cell_type": "markdown",
   "metadata": {},
   "source": [
    "Python'a ilk kez başlıyorsanız önce \"Anaconda\" kurulumu yapmanız gerekmektedir. Bu işlemi <a href=\"https://medium.com/@kamilkaplnn/python-ve-anaconda-kurulumu-b8931bd80e64\">şu sayfadan </a> öğrenebilir veya hemen alttaki videodan izleyebilirsiniz. \n",
    "\n",
    "Anaconda ile birlikte Python environment'ına ek olarak Jupyter notebook uygulaması ve Spyder gibi IDE'ler de kurulacaktır. Ayrıca birçok önemli kütüphane(numpy, pandas, sklearn gibi) kurulmuş olacak. Ben de bu dokümanı Jupyter üzerinde hazırladım. O yüzden Jupyter ağırlıklı gideceğiz. Spyder'ı, kurcalayarak ve Youtube'da birkaç video izleyerek kendiniz de öğrenebilirsiniz.\n",
    "\n",
    "Bu notebookta detaylı Jupyter kullanımı olmayacak. Her detayı vermekten ziyade bir başucu rehberi hazırlamayı amaçladım. Yani tam bir eğitim dokümanından ziyade büyük bir cheatsheet(hızlı başvuru kaynağı) tadında bir doküman bulacaksınız. Dokümanın en altında süper konsantre bir cheatsheet daha bulacaksınız.\n",
    "\n",
    "Gereksiz açıklamalarla dokümanı şişirmek istemedim. Çoğu durumda kodları çalıştırdığınızda neyin ne olduğunu anlayabileceksiniz. Anlaşılması zor durumlar için ilave açıklamalar olacaktır.\n",
    "\n",
    "Bununla birlikte bir nebze de olsa programcılık dünyasına aşina olmanızda fayda var. Eğer tamamen sıfır noktasındaysanız bu doküman size biraz ağır gelebilir. Önce başka bir kaynaktan temelleri(değişken, fonksiyon, algoritma, nesne v.s) öğrenin, bu dokümanı ise cheatsheet olarak kullanın."
   ]
  },
  {
   "cell_type": "markdown",
   "metadata": {},
   "source": [
    "<b><font face=\"verdana\" color=\"red\">DİKKAT: </font>En altta Verimlilik bölümünde gösterdiğim \"code(input) hücrelerini saklama yöntemi\"nde kullandığım kod, sayfadaki tüm input hücrelerinin gizlenmesine neden olmaktadır. Bunun için aşağıdaki butona tıklamanız gerekebilir. (İçinde yazan kod python kodu olmayıp javascripttir, şimdilik buna takılmayın)</b> "
   ]
  },
  {
   "cell_type": "code",
   "execution_count": 1,
   "metadata": {},
   "outputs": [
    {
     "data": {
      "text/html": [
       "<script>\n",
       "code_show=true; \n",
       "function code_toggle() {\n",
       "if (code_show){\n",
       "$('div.input').hide();\n",
       "} else {\n",
       "$('div.input').show();\n",
       "}\n",
       "code_show = !code_show\n",
       "} \n",
       "$( document ).ready(code_toggle);\n",
       "</script>\n",
       "<form action=\"javascript:code_toggle()\"><input type=\"submit\" value=\"Kodları Göster/Gizle\"></form>"
      ],
      "text/plain": [
       "<IPython.core.display.HTML object>"
      ]
     },
     "execution_count": 1,
     "metadata": {},
     "output_type": "execute_result"
    }
   ],
   "source": [
    "from IPython.display import HTML\n",
    "\n",
    "HTML('''<script>\n",
    "code_show=true; \n",
    "function code_toggle() {\n",
    "if (code_show){\n",
    "$('div.input').hide();\n",
    "} else {\n",
    "$('div.input').show();\n",
    "}\n",
    "code_show = !code_show\n",
    "} \n",
    "$( document ).ready(code_toggle);\n",
    "</script>\n",
    "<form action=\"javascript:code_toggle()\"><input type=\"submit\" value=\"Kodları Göster/Gizle\"></form>''')"
   ]
  },
  {
   "cell_type": "code",
   "execution_count": 2,
   "metadata": {},
   "outputs": [
    {
     "data": {
      "image/jpeg": "[encoded data removed]",
      "text/html": [
       "\n",
       "        <iframe\n",
       "            width=\"400\"\n",
       "            height=\"300\"\n",
       "            src=\"https://www.youtube.com/embed/JEv5oigBUL0\"\n",
       "            frameborder=\"0\"\n",
       "            allowfullscreen\n",
       "        ></iframe>\n",
       "        "
      ],
      "text/plain": [
       "<IPython.lib.display.YouTubeVideo at 0x18a536b4128>"
      ]
     },
     "execution_count": 2,
     "metadata": {},
     "output_type": "execute_result"
    }
   ],
   "source": [
    "from IPython.display import YouTubeVideo\n",
    "YouTubeVideo('JEv5oigBUL0')"
   ]
  },
  {
   "cell_type": "markdown",
   "metadata": {},
   "source": [
    "# Jupyter"
   ]
  },
  {
   "cell_type": "markdown",
   "metadata": {},
   "source": [
    "## Rehber"
   ]
  },
  {
   "cell_type": "markdown",
   "metadata": {},
   "source": [
    "### Jupyter kullanırken neleri bilmenizde fayda var?"
   ]
  },
  {
   "cell_type": "markdown",
   "metadata": {},
   "source": [
    "* Kısayol tuşları(Jupyter'de H tuşuna basınca çıkar)-->bunları mutlaka kullanın, büyük hız kazandırır. Herşeyi yukarıdaki menülerden yapmaya kalkarsanız yavaş ilerlersiniz.\n",
    "* magic functions(Googlelayın)-->Bir süre sonra, şimdi değil\n",
    "* smart suggestions(tab, tab+tab)-->sınıflar ve metodlar hakkında bilgi alırsınız, kod pratiğine başlayınca deneyin. Aşağıda print için örnek ekran görüntüleri var.\n",
    "* nbextensions ve jupyter_helpers-->sol paneldeki içindekiler ve indeksleme dahil birçok güzellik \n",
    "* help, dir ile yardım alınır-->deneyin(aşağıda örnek var)\n",
    "* type fonksiyonu ile sık sık bir değişkenin tipini öğrenmeniz gerekecek -->deneyin\n",
    "* naming convention(pep 0008)-->Kritik değil ama bence önemli, googlelayın\n",
    "* jupyteri ektin kullanma rehberleri(medium v.s)-->Hemen değil ama bir süre sonra googlelayın"
   ]
  },
  {
   "cell_type": "code",
   "execution_count": 3,
   "metadata": {},
   "outputs": [
    {
     "name": "stdout",
     "output_type": "stream",
     "text": [
      "<class 'int'> <class 'list'>\n"
     ]
    }
   ],
   "source": [
    "a=1\n",
    "liste=[]\n",
    "print(type(a),type(liste))"
   ]
  },
  {
   "cell_type": "code",
   "execution_count": 4,
   "metadata": {},
   "outputs": [
    {
     "name": "stdout",
     "output_type": "stream",
     "text": [
      "Help on built-in function print in module builtins:\n",
      "\n",
      "print(...)\n",
      "    print(value, ..., sep=' ', end='\\n', file=sys.stdout, flush=False)\n",
      "    \n",
      "    Prints the values to a stream, or to sys.stdout by default.\n",
      "    Optional keyword arguments:\n",
      "    file:  a file-like object (stream); defaults to the current sys.stdout.\n",
      "    sep:   string inserted between values, default a space.\n",
      "    end:   string appended after the last value, default a newline.\n",
      "    flush: whether to forcibly flush the stream.\n",
      "\n"
     ]
    }
   ],
   "source": [
    "help(print) #print fonksiyonu hakkında yardım"
   ]
  },
  {
   "cell_type": "code",
   "execution_count": 5,
   "metadata": {},
   "outputs": [
    {
     "data": {
      "text/plain": [
       "['clear',\n",
       " 'copy',\n",
       " 'fromkeys',\n",
       " 'get',\n",
       " 'items',\n",
       " 'keys',\n",
       " 'pop',\n",
       " 'popitem',\n",
       " 'setdefault',\n",
       " 'update',\n",
       " 'values']"
      ]
     },
     "execution_count": 5,
     "metadata": {},
     "output_type": "execute_result"
    }
   ],
   "source": [
    "[x for x in dir(dict) if not \"__\" in x] #dictionary nesnesinin property ve metodları. tek başına dir(dict) yapsaydım \n",
    "#çok uzun bi liste çıkardı. aşağıda göreceğimiz comprehension yönteminden faydalanarak listeyi daralttım"
   ]
  },
  {
   "attachments": {
    "image.png": {
     "image/png": "[encoded data removed]"
    }
   },
   "cell_type": "markdown",
   "metadata": {},
   "source": [
    "![image.png](attachment:image.png)"
   ]
  },
  {
   "attachments": {
    "image.png": {
     "image/png": "[encoded data removed]"
    }
   },
   "cell_type": "markdown",
   "metadata": {},
   "source": [
    "![image.png](attachment:image.png)"
   ]
  },
  {
   "cell_type": "markdown",
   "metadata": {},
   "source": [
    "Anacondayı kurduktan sonra yukarda bahsettiğim nbextensionsı kurar ve bu notebooku kendi pcnize indirip jupyter içinden açarsanız aşağıdaki gibi İçindekiler tablolu ve indeksli şekilde görebilirsiniz. Kurulumun nasıl yapılacağını https://jupyter-contrib-nbextensions.readthedocs.io/en/latest/install.html sayfasından görebilirsiniz. Onun öncesinde biraz aşağıdaki Modül, Package, Class bölümüne bakıp kavramlar hakkında kısa bir bilgi edinebilirsiniz. <b>(Bu işlem size karışık gelirse bu aşamayı pas geçebilir ve biraz daha deneyim kazandıktan sonra tekrar denersiniz. Ancak benim tavsiyem, bikaç kez deneyin ve kurmaya çalışın, inanın çok faydasını göreceksiniz)</b>"
   ]
  },
  {
   "attachments": {
    "image.png": {
     "image/png": "[encoded data removed]"
    }
   },
   "cell_type": "markdown",
   "metadata": {},
   "source": [
    "![image.png](attachment:image.png)"
   ]
  },
  {
   "cell_type": "markdown",
   "metadata": {},
   "source": [
    "<b>NOT:</b> Yukarıdaki ekran görüntüsü gibi resimleri kolayca notebookunuz içine ekleyebiliyorsunuz. Sadece bir Markdown tipli hücre açıp içine girin ve clipboarda aldığınız resmi yapıştırın."
   ]
  },
  {
   "cell_type": "markdown",
   "metadata": {},
   "source": [
    "## Çeşitli operatörler"
   ]
  },
  {
   "cell_type": "code",
   "execution_count": 6,
   "metadata": {},
   "outputs": [
    {
     "name": "stdout",
     "output_type": "stream",
     "text": [
      " Volume in drive E is MYHDD\n",
      " Volume Serial Number is 9E4D-C087\n",
      "\n",
      " Directory of E:\\OneDrive\\Uygulama GeliŸtirme\n",
      "\n",
      "09.01.2020  00:23    <DIR>          .\n",
      "09.01.2020  00:23    <DIR>          ..\n",
      "09.09.2019  23:42    <DIR>          java\n",
      "09.01.2020  23:52    <DIR>          PDF dok�mantasyon\n",
      "15.06.2019  16:35    <DIR>          Scratch\n",
      "12.12.2019  15:32    <DIR>          silinecek\n",
      "18.08.2019  13:38    <DIR>          Visual Studio\n",
      "19.08.2019  23:18    <DIR>          web js asp\n",
      "08.01.2020  00:52    <DIR>          web sitelerim\n",
      "               0 File(s)              0 bytes\n",
      "               9 Dir(s)  510.644.449.280 bytes free\n"
     ]
    }
   ],
   "source": [
    "#! işareti ile işletim sistemi komutları kullanılabilir\n",
    "import os #os modülü ayrıca anlatılacak, aşağıdaki kod ile geçerli klasörü değiştiriyoruz\n",
    "os.chdir(r\"E:\\OneDrive\\Uygulama Geliştirme\") \n",
    "# sanki meşhur siyah cmd ekranımızda \"dir\" demişim gibi\n",
    "!dir"
   ]
  },
  {
   "cell_type": "code",
   "execution_count": 7,
   "metadata": {},
   "outputs": [],
   "source": [
    "# \"#\" işareti ile yorum yazarız"
   ]
  },
  {
   "cell_type": "code",
   "execution_count": 8,
   "metadata": {},
   "outputs": [
    {
     "data": {
      "text/html": [
       "Farklı dil seçeneklerin <em>kullanabiliyoruz</em>. Burada HTML kullanmış olduk.\n"
      ],
      "text/plain": [
       "<IPython.core.display.HTML object>"
      ]
     },
     "metadata": {},
     "output_type": "display_data"
    }
   ],
   "source": [
    "%%HTML\n",
    "Farklı dil seçeneklerin <em>kullanabiliyoruz</em>. Burada HTML kullanmış olduk."
   ]
  },
  {
   "cell_type": "markdown",
   "metadata": {},
   "source": [
    "## Matematiksel ifadeler"
   ]
  },
  {
   "cell_type": "code",
   "execution_count": 9,
   "metadata": {
    "scrolled": true
   },
   "outputs": [
    {
     "data": {
      "text/latex": [
       "$$E=mc^2$$\n",
       "$sin(x)/x$\n"
      ],
      "text/plain": [
       "<IPython.core.display.Latex object>"
      ]
     },
     "metadata": {},
     "output_type": "display_data"
    }
   ],
   "source": [
    "%%latex #Latex ile matematiksel formüller girebiliyoruz\n",
    "$$E=mc^2$$\n",
    "$sin(x)/x$"
   ]
  },
  {
   "cell_type": "markdown",
   "metadata": {},
   "source": [
    "<b>Hizalama</b><br>\n",
    "Yukarıdaki code hücresiyidi, bu ise markdown hücresidir<br>\n",
    "$$ ile yazım formülü ortalar<br>\n",
    "\\$ ile yazımda ise sola dayalı ve küçük<br>\n",
    "\n",
    "$$\\Pi p(n)$$\n",
    "\n",
    "$\\frac \\pi 2$"
   ]
  },
  {
   "cell_type": "markdown",
   "metadata": {},
   "source": [
    "<b>Diğer ifadeler</b>\n",
    "\n",
    "\\frac ifadesi ile kesirler<br>\n",
    "_ karakteri ile indis(subscript)<br>\n",
    "\\pi, \\sum, \\bar ve \\hat gibi özel ifadeler<br>\n",
    "\n",
    "$$\\sum p(n)$$\n",
    "\n",
    "$$y_i, \\bar{y}_i, \\hat{y}_i$$\n",
    "\n",
    "$$TSS=\\sum_{i=1}^n(y_i-\\bar{y}_i)^2$$\n",
    "\n",
    "$$P(c|x)=\\frac {P(x|c).P(c)}{P(x)}$$"
   ]
  },
  {
   "cell_type": "code",
   "execution_count": 10,
   "metadata": {},
   "outputs": [
    {
     "data": {
      "text/latex": [
       "$\\displaystyle F(k) = \\int_{-\\infty}^{\\infty} f(x) e^{2\\pi i k} dx$"
      ],
      "text/plain": [
       "<IPython.core.display.Math object>"
      ]
     },
     "execution_count": 10,
     "metadata": {},
     "output_type": "execute_result"
    }
   ],
   "source": [
    "#bu modül ile de daha gösterişli matematiksel formüller girebiliyoruz\n",
    "from IPython.display import Math\n",
    "Math(r'F(k) = \\int_{-\\infty}^{\\infty} f(x) e^{2\\pi i k} dx')"
   ]
  },
  {
   "cell_type": "code",
   "execution_count": 11,
   "metadata": {},
   "outputs": [
    {
     "data": {
      "text/html": [
       "\n",
       "                <audio controls=\"controls\" >\n",
       "                    <source src=\"http://www.nch.com.au/acm/8k16bitpcm.wav\" type=\"audio/wav\" />\n",
       "                    Your browser does not support the audio element.\n",
       "                </audio>\n",
       "              "
      ],
      "text/plain": [
       "<IPython.lib.display.Audio object>"
      ]
     },
     "execution_count": 11,
     "metadata": {},
     "output_type": "execute_result"
    }
   ],
   "source": [
    "#dahası da var, müzik ve video da ekleyebiliyoruz\n",
    "from IPython.display import Audio\n",
    "Audio(url=\"http://www.nch.com.au/acm/8k16bitpcm.wav\")"
   ]
  },
  {
   "cell_type": "code",
   "execution_count": 1,
   "metadata": {},
   "outputs": [
    {
     "data": {
      "image/jpeg": "[encoded data removed]",
      "text/html": [
       "\n",
       "        <iframe\n",
       "            width=\"400\"\n",
       "            height=\"300\"\n",
       "            src=\"https://www.youtube.com/embed/NGrJjLCpKSA\"\n",
       "            frameborder=\"0\"\n",
       "            allowfullscreen\n",
       "        ></iframe>\n",
       "        "
      ],
      "text/plain": [
       "<IPython.lib.display.YouTubeVideo at 0x1f1a17a69e8>"
      ]
     },
     "execution_count": 1,
     "metadata": {},
     "output_type": "execute_result"
    }
   ],
   "source": [
    "from IPython.display import YouTubeVideo\n",
    "YouTubeVideo('NGrJjLCpKSA') # reklamımı da yapayım :)"
   ]
  },
  {
   "cell_type": "markdown",
   "metadata": {},
   "source": [
    "Latex ve Ipython.display hakkında daha fazla bilgi için https://nbviewer.jupyter.org/github/ipython/ipython/blob/2.x/examples/Notebook/Display%20System.ipynb"
   ]
  },
  {
   "cell_type": "code",
   "execution_count": 13,
   "metadata": {},
   "outputs": [
    {
     "data": {
      "application/vnd.jupyter.widget-view+json": {
       "model_id": "588ffdb80cf942df9302eb5c5f8f3c6b",
       "version_major": 2,
       "version_minor": 0
      },
      "text/plain": [
       "Output()"
      ]
     },
     "metadata": {},
     "output_type": "display_data"
    }
   ],
   "source": [
    "#print edilecek liste çok büyükse ekranda çok yer kaplamaması adına bu aşağıdaki modül oldukça kullanışlıdır. \n",
    "#bunun önemini henüz anlamayabilirsiniz, bi köşede dursun\n",
    "#https://towardsdatascience.com/productivity-tips-for-jupyter-python-a3614d70c770\n",
    "from jupyter_helpers.following_tail import FollowingTail\n",
    "\n",
    "max5=FollowingTail(5)\n",
    "max5.activate()\n",
    "liste=range(100)\n",
    "\n",
    "for i in liste:\n",
    "    max5(i)"
   ]
  },
  {
   "cell_type": "markdown",
   "metadata": {},
   "source": [
    "## Genel syntax"
   ]
  },
  {
   "cell_type": "code",
   "execution_count": 14,
   "metadata": {},
   "outputs": [],
   "source": [
    "sayi=1 #değişkenler doğrudan atanır. türkçe karakter kullanmamaya çalışın"
   ]
  },
  {
   "cell_type": "markdown",
   "metadata": {},
   "source": [
    "### Değişkenlerde çoklu satır kullanımı"
   ]
  },
  {
   "cell_type": "code",
   "execution_count": 15,
   "metadata": {},
   "outputs": [
    {
     "name": "stdout",
     "output_type": "stream",
     "text": [
      "merhaba burada line  contination uygulandıama sonuç yine de bitişik yazar\n"
     ]
    }
   ],
   "source": [
    "linecont=\"merhaba burada line \"+ \\\n",
    "\" contination uygulandı\" + \\\n",
    "\"ama sonuç yine de bitişik yazar\"\n",
    "print(linecont)"
   ]
  },
  {
   "cell_type": "code",
   "execution_count": 16,
   "metadata": {},
   "outputs": [
    {
     "name": "stdout",
     "output_type": "stream",
     "text": [
      "\n",
      "bu satırlar\n",
      "ise satırlara\n",
      "yayılmış durum\n",
      "\n"
     ]
    }
   ],
   "source": [
    "satırayaygın=\"\"\"\n",
    "bu satırlar\n",
    "ise satırlara\n",
    "yayılmış durum\n",
    "\"\"\"\n",
    "print(satırayaygın)"
   ]
  },
  {
   "cell_type": "code",
   "execution_count": 17,
   "metadata": {},
   "outputs": [
    {
     "name": "stdout",
     "output_type": "stream",
     "text": [
      "['Pzt', 'salı', 'çar', 'perş']\n"
     ]
    }
   ],
   "source": [
    "#veri yapıları için ise yukarıdaki iki yönteme de gerek olmadan kaydırabiliriz\n",
    "gunler=[\"Pzt\",\"salı\",\n",
    "       \"çar\",\"perş\"]\n",
    "print(gunler)"
   ]
  },
  {
   "cell_type": "markdown",
   "metadata": {},
   "source": [
    "### Başlıklar"
   ]
  },
  {
   "cell_type": "markdown",
   "metadata": {},
   "source": [
    "Başlıklar normalde #, ##, ###,... ifadeleriyle HTML'deki h1,h2,h3...'e denk gelecek şekilde oluşturulur. Bu dokümandaki tüm başlıklar da böyle oluşuturuldu. Dokümanı kendi jupyterinizde açtıysanız, herhangi bir başlık hücresine gelip Enter'a basın. Enter ile hücreyi edit moduna sokmuş oluruz. Böylece başlığın nasıl yazıldığını da görmüş olursunuz. Mesela bu paragrafın başlığı aşağıdaki gibidir"
   ]
  },
  {
   "attachments": {
    "image.png": {
     "image/png": "[encoded data removed]"
    }
   },
   "cell_type": "markdown",
   "metadata": {},
   "source": [
    "![image.png](attachment:image.png)"
   ]
  },
  {
   "cell_type": "markdown",
   "metadata": {},
   "source": [
    "Bu tür başlıklar, eğer nbextension kurduysanız 1.1.2 gibi indeksli şekilde görünür. Eğerki bu dokümana bir notebook gösterici(github veya nbviewer gibi) üzerinden bakıyorsanız 1.1.2 şeklindeki gösterimi görmüyorsunuzdur. Detaylar için en baştaki <b>Rehber</b> kısmına bakınız"
   ]
  },
  {
   "cell_type": "markdown",
   "metadata": {},
   "source": [
    "<strong style=\"font-size:120%;\">Bu ise html(strong tag'i) kullanılarak oluşturulmuş kalın bi başlık. Sol paneldeki \"İçindekiler\" paneline girmesini istemediğiniz başlıkları bu şekilde oluşturabilirsiniz.</strong>"
   ]
  },
  {
   "cell_type": "markdown",
   "metadata": {},
   "source": [
    "<strong style=\"font-size:120%;\">Diğer başlık türleri</strong>\n",
    "\n",
    "***üç yıldız ile bold&italik***<br>\n",
    "**iki yıldız ile bold yapma**<br>\n",
    "*tek yıldız ile italik yapma*"
   ]
  },
  {
   "cell_type": "markdown",
   "metadata": {},
   "source": [
    "### Paragraf, satır geçme ve html kullanımı"
   ]
  },
  {
   "cell_type": "markdown",
   "metadata": {},
   "source": [
    "Üst paragraf\n",
    "\n",
    "İki kere entera basarak paragraf açabilirsiniz(bu satırda olduğu gibi. hücreye çift tıklayın ve görün)<br>\n",
    "veya bi satırın sonunda \"br\" tagi ekleyerek bir alt satıra geçebilrsiniz. (bu satırda olduğu gibi. hücreye çift tıklayın ve görün)\n",
    "\n",
    "NOT:Bu kolaylıkları öğrenene/keşfedene kadar ben bu paragraf ve bi alt satır işlerini Markdown değil de Raw NB Convert hücre tipi ile yapıyordum. Bunu öğrendikten sonra Raw NB Covnert tipli hücrelere pek ihtiyaç duymadım."
   ]
  },
  {
   "cell_type": "markdown",
   "metadata": {},
   "source": [
    "### Naming convention"
   ]
  },
  {
   "cell_type": "markdown",
   "metadata": {},
   "source": [
    "\"Pep 008 python\" araması yapın ve tüm detayları görün. aşağıda sadece \"_\" kullanımını koydum"
   ]
  },
  {
   "cell_type": "code",
   "execution_count": 18,
   "metadata": {},
   "outputs": [
    {
     "name": "stdout",
     "output_type": "stream",
     "text": [
      "ad\n",
      "soyad\n"
     ]
    }
   ],
   "source": [
    "_privatevariable=3\n",
    "list_=[1,2,3] #rezerv keylerin sonuna _ gelir. list diye bir değişken adı kullanamayız, list_ olabilir\n",
    "dict_={\"ad\":\"ali\",\"soyad\":\"yılmaz\"}\n",
    "for x,_ in dict_.items(): #ilgilenmediğimiz değerler için \"_\"\n",
    "    print(x)"
   ]
  },
  {
   "cell_type": "markdown",
   "metadata": {},
   "source": [
    "# Modül, Package, Class"
   ]
  },
  {
   "cell_type": "markdown",
   "metadata": {},
   "source": [
    "Bu 3 kavram hiyerarşik olarak şöyle sıralanır. Package>module>class.\n",
    "\n",
    "Yani her sınıf bir modül içindedir. modüller py uzantılı dosylardır. birkaç modül biraraya gelerek bir paket oluşturur. Ör: DataScience çalışmalarında pandas paketi kullanılır, bu anaconda sürümü ile birlikte gelir.\n",
    "\n",
    "Bir de kütüphane kavramı var. Python'daki kütüphane(library) kavramı C/C# gibi dillerdeki dll dosyalarından farklı bir anlama sahiptir. Burada daha çok belirli modüllerin veya package'ların biraraya gelerek kavramsal bir topluluk oluşturumasından bahsediyoruz. Ör:Makine öğrenme kütüphanesi gibi. Bu arada ille bir fiziksel karşılık aranacaksa package'lar gibi düşünülebilirler."
   ]
  },
  {
   "cell_type": "markdown",
   "metadata": {},
   "source": [
    "Yeni bir paket kurmak istediğinizde;\n",
    "\n",
    "<b>conda install paketadı</b> demeniz yeterlidir. Eğer bu yeterli gelmezse;<br>\n",
    "<b>pip install paketadı</b> diyebilirsiniz. Bunu bazen başında ! olacak şekilde yapmak gerekebiliyor. Tam detayına hakim değilim, merak edenler aşağıdaki linkten okuyabilir. Ben hangisi çalışırsa onu deniyorum.\n",
    "\n",
    "Daha detaylı bilgiyi aşağıdaki linkten edinebilirsiniz:<br>\n",
    "https://jakevdp.github.io/blog/2017/12/05/installing-python-packages-from-jupyter/"
   ]
  },
  {
   "cell_type": "code",
   "execution_count": 19,
   "metadata": {},
   "outputs": [],
   "source": [
    "#örnek olarak şimdi DeepLearning paketi olan kerası kuruyorum\n",
    "#conda install keras"
   ]
  },
  {
   "cell_type": "code",
   "execution_count": 20,
   "metadata": {},
   "outputs": [
    {
     "name": "stdout",
     "output_type": "stream",
     "text": [
      "Package                            Version  \n",
      "---------------------------------- ---------\n",
      "-umpy                              1.16.2   \n",
      "absl-py                            0.8.0    \n",
      "alabaster                          0.7.12   \n",
      "anaconda-client                    1.7.2    \n",
      "anaconda-navigator                 1.9.7    \n",
      "anaconda-project                   0.8.2    \n",
      "asn1crypto                         0.24.0   \n",
      "astor                              0.8.0    \n",
      "astroid                            2.2.5    \n",
      "astropy                            3.1.2    \n",
      "atomicwrites                       1.3.0    \n",
      "attrs                              19.1.0   \n",
      "Babel                              2.6.0    \n",
      "backcall                           0.1.0    \n",
      "backports.os                       0.1.1    \n",
      "backports.shutil-get-terminal-size 1.0.0    \n",
      "beautifulsoup4                     4.7.1    \n",
      "bitarray                           0.8.3    \n",
      "bkcharts                           0.2      \n",
      "bleach                             3.1.0    \n",
      "bokeh                              1.0.4    \n",
      "boto                               2.49.0   \n",
      "Bottleneck                         1.2.1    \n",
      "certifi                            2019.9.11\n",
      "cffi                               1.12.2   \n",
      "chardet                            3.0.4    \n",
      "Click                              7.0      \n",
      "cloudpickle                        0.8.0    \n",
      "clyent                             1.2.2    \n",
      "colorama                           0.4.1    \n",
      "comtypes                           1.1.7    \n",
      "conda                              4.7.12   \n",
      "conda-build                        3.17.8   \n",
      "conda-package-handling             1.3.11   \n",
      "conda-verify                       3.1.1    \n",
      "confuse                            1.0.0    \n",
      "contextlib2                        0.5.5    \n",
      "cryptography                       2.6.1    \n",
      "cycler                             0.10.0   \n",
      "Cython                             0.29.6   \n",
      "cytoolz                            0.9.0.1  \n",
      "dask                               1.1.4    \n",
      "decorator                          4.4.0    \n",
      "defusedxml                         0.5.0    \n",
      "distributed                        1.26.0   \n",
      "docutils                           0.14     \n",
      "entrypoints                        0.3      \n",
      "et-xmlfile                         1.0.1    \n",
      "fastcache                          1.0.2    \n",
      "filelock                           3.0.10   \n",
      "Flask                              1.0.2    \n",
      "future                             0.17.1   \n",
      "gast                               0.3.2    \n",
      "gevent                             1.4.0    \n",
      "glob2                              0.6      \n",
      "google-pasta                       0.1.7    \n",
      "graphviz                           0.10.1   \n",
      "greenlet                           0.4.15   \n",
      "grpcio                             1.24.0   \n",
      "h5py                               2.9.0    \n",
      "heapdict                           1.0.0    \n",
      "html5lib                           1.0.1    \n",
      "htmlmin                            0.1.12   \n",
      "idna                               2.8      \n",
      "imageio                            2.5.0    \n",
      "imagesize                          1.1.0    \n",
      "importlib-metadata                 0.0.0    \n",
      "ipykernel                          5.1.0    \n",
      "ipython                            7.4.0    \n",
      "ipython-genutils                   0.2.0    \n",
      "ipywidgets                         7.4.2    \n",
      "isort                              4.3.16   \n",
      "itsdangerous                       1.1.0    \n",
      "jdcal                              1.4      \n",
      "jedi                               0.13.3   \n",
      "Jinja2                             2.10     \n",
      "jsonschema                         3.0.1    \n",
      "jupyter                            1.0.0    \n",
      "jupyter-client                     5.2.4    \n",
      "jupyter-console                    6.0.0    \n",
      "jupyter-contrib-core               0.3.3    \n",
      "jupyter-contrib-nbextensions       0.5.1    \n",
      "jupyter-core                       4.4.0    \n",
      "jupyter-helpers                    0.1.1    \n",
      "jupyter-highlight-selected-word    0.2.0    \n",
      "jupyter-latex-envs                 1.4.4    \n",
      "jupyter-nbextensions-configurator  0.4.1    \n",
      "jupyterlab                         0.35.4   \n",
      "jupyterlab-server                  0.2.0    \n",
      "Keras                              2.3.0    \n",
      "Keras-Applications                 1.0.8    \n",
      "Keras-Preprocessing                1.1.0    \n",
      "keyring                            18.0.0   \n",
      "kiwisolver                         1.0.1    \n",
      "lazy-object-proxy                  1.3.1    \n",
      "libarchive-c                       2.8      \n",
      "llvmlite                           0.28.0   \n",
      "locket                             0.2.0    \n",
      "lxml                               4.3.2    \n",
      "Markdown                           3.1.1    \n",
      "MarkupSafe                         1.1.1    \n",
      "matplotlib                         3.0.3    \n",
      "mccabe                             0.6.1    \n",
      "menuinst                           1.4.16   \n",
      "missingno                          0.4.2    \n",
      "mistune                            0.8.4    \n",
      "mkl-fft                            1.0.10   \n",
      "mkl-random                         1.0.2    \n",
      "more-itertools                     6.0.0    \n",
      "mpmath                             1.1.0    \n",
      "msgpack                            0.6.1    \n",
      "multipledispatch                   0.6.0    \n",
      "navigator-updater                  0.2.1    \n",
      "nbconvert                          5.4.1    \n",
      "nbformat                           4.4.0    \n",
      "networkx                           2.2      \n",
      "nltk                               3.4      \n",
      "nose                               1.3.7    \n",
      "notebook                           5.7.8    \n",
      "numba                              0.43.1   \n",
      "numexpr                            2.6.9    \n",
      "numpy                              1.18.1   \n",
      "numpydoc                           0.8.0    \n",
      "olefile                            0.46     \n",
      "openpyxl                           2.6.1    \n",
      "packaging                          19.0     \n",
      "pandas                             0.24.2   \n",
      "pandas-profiling                   2.3.0    \n",
      "pandocfilters                      1.4.2    \n",
      "parso                              0.3.4    \n",
      "partd                              0.3.10   \n",
      "path.py                            11.5.0   \n",
      "pathlib2                           2.3.3    \n",
      "patsy                              0.5.1    \n",
      "pep8                               1.7.1    \n",
      "phik                               0.9.8    \n",
      "pickleshare                        0.7.5    \n",
      "Pillow                             5.4.1    \n",
      "pip                                19.0.3   \n",
      "pkginfo                            1.5.0.1  \n",
      "plotly                             4.2.1    \n",
      "pluggy                             0.9.0    \n",
      "ply                                3.11     \n",
      "prometheus-client                  0.6.0    \n",
      "prompt-toolkit                     2.0.9    \n",
      "protobuf                           3.9.2    \n",
      "psutil                             5.6.1    \n",
      "ptvsd                              4.3.2    \n",
      "py                                 1.8.0    \n",
      "pycodestyle                        2.5.0    \n",
      "pycosat                            0.6.3    \n",
      "pycparser                          2.19     \n",
      "pycrypto                           2.6.1    \n",
      "pycurl                             7.43.0.2 \n",
      "pydotplus                          2.0.2    \n",
      "pyflakes                           2.1.1    \n",
      "Pygments                           2.3.1    \n",
      "pylint                             2.3.1    \n",
      "pyodbc                             4.0.26   \n",
      "pyOpenSSL                          19.0.0   \n",
      "pyparsing                          2.3.1    \n",
      "pyreadline                         2.1      \n",
      "pyrsistent                         0.14.11  \n",
      "PySocks                            1.6.8    \n",
      "pytest                             4.3.1    \n",
      "pytest-arraydiff                   0.3      \n",
      "pytest-astropy                     0.5.0    \n",
      "pytest-doctestplus                 0.3.0    \n",
      "pytest-openfiles                   0.3.2    \n",
      "pytest-pylint                      0.14.1   \n",
      "pytest-remotedata                  0.3.1    \n",
      "python-dateutil                    2.8.0    \n",
      "pytz                               2018.9   \n",
      "PyWavelets                         1.0.2    \n",
      "pywin32                            223      \n",
      "pywinpty                           0.5.5    \n",
      "PyYAML                             5.1      \n",
      "pyzmq                              18.0.0   \n",
      "QtAwesome                          0.5.7    \n",
      "qtconsole                          4.4.3    \n",
      "QtPy                               1.7.0    \n",
      "requests                           2.21.0   \n",
      "retrying                           1.3.3    \n",
      "rope                               0.12.0   \n",
      "ruamel-yaml                        0.15.46  \n",
      "scikit-image                       0.14.2   \n",
      "scikit-learn                       0.20.3   \n",
      "scipy                              1.2.1    \n",
      "seaborn                            0.9.0    \n",
      "Send2Trash                         1.5.0    \n",
      "setuptools                         40.8.0   \n",
      "simplegeneric                      0.8.1    \n",
      "singledispatch                     3.4.0.3  \n",
      "six                                1.12.0   \n",
      "snowballstemmer                    1.2.1    \n",
      "sortedcollections                  1.1.2    \n",
      "sortedcontainers                   2.1.0    \n",
      "soupsieve                          1.8      \n",
      "Sphinx                             1.8.5    \n",
      "sphinxcontrib-websupport           1.1.0    \n",
      "spotipy                            2.4.4    \n",
      "spyder                             3.3.3    \n",
      "spyder-kernels                     0.4.2    \n",
      "SQLAlchemy                         1.3.1    \n",
      "statsmodels                        0.9.0    \n",
      "sympy                              1.3      \n",
      "tables                             3.5.1    \n",
      "tblib                              1.3.2    \n",
      "tensorboard                        1.14.0   \n",
      "tensorflow                         1.14.0   \n",
      "tensorflow-estimator               1.14.0   \n",
      "termcolor                          1.1.0    \n",
      "terminado                          0.8.1    \n",
      "testpath                           0.4.2    \n",
      "toolz                              0.9.0    \n",
      "tornado                            6.0.2    \n",
      "tqdm                               4.31.1   \n",
      "traitlets                          4.3.2    \n",
      "typed-ast                          1.4.0    \n",
      "unicodecsv                         0.14.1   \n",
      "urllib3                            1.24.1   \n",
      "wcwidth                            0.1.7    \n",
      "webencodings                       0.5.1    \n",
      "Werkzeug                           0.14.1   \n",
      "wheel                              0.33.1   \n",
      "widgetsnbextension                 3.4.2    \n",
      "win-inet-pton                      1.1.0    \n",
      "win-unicode-console                0.5      \n",
      "wincertstore                       0.2      \n",
      "wordcloud                          1.5.0    \n",
      "wrapt                              1.11.1   \n",
      "xlrd                               1.2.0    \n",
      "XlsxWriter                         1.1.5    \n",
      "xlwings                            0.15.4   \n",
      "xlwt                               1.3.0    \n",
      "zict                               0.1.4    \n",
      "zipp                               0.3.3    \n"
     ]
    }
   ],
   "source": [
    "#mevcut packageların listesi\n",
    "!pip list"
   ]
  },
  {
   "cell_type": "code",
   "execution_count": 21,
   "metadata": {},
   "outputs": [
    {
     "name": "stdout",
     "output_type": "stream",
     "text": [
      "numpy (1.18.1)                          - NumPy is the fundamental package for array computing with Python.\n",
      "  INSTALLED: 1.18.1 (latest)\n",
      "numpy-alignments (0.0.2)                - Numpy Alignments\n",
      "numpy-utils (0.1.6)                     - NumPy utilities.\n",
      "numpy-cloud (0.0.5)                     - Numpy in the cloud\n",
      "numpy-turtle (0.2)                      - Turtle graphics with NumPy\n",
      "numpy-sugar (1.5.0)                     - Missing NumPy functionalities\n",
      "root-numpy (4.8.0)                      - The interface between ROOT and NumPy\n",
      "msgpack-numpy (0.4.4.3)                 - Numpy data serialization using msgpack\n",
      "numpy-quaternion (2019.12.11.22.25.52)  - Add built-in support for quaternions to numpy\n",
      "numpy-partition (1.18.9)                - SQL PARTITION BY and window functions for NumPy\n",
      "mapchete-numpy (0.1)                    - Mapchete NumPy read/write extension\n",
      "numpy-posit (1.15.2.0.0.1.dev2)         - posit (unum type III) integrated NumPy.\n",
      "numpy-aarch64 (1.16.4)                  - NumPy is the fundamental package for array computing with Python.\n",
      "numpy-mips64 (1.17.4)                   - NumPy is the fundamental package for array computing with Python.\n",
      "intel-numpy (1.15.1)                    - NumPy optimized with Intel(R) MKL library\n",
      "numpy-mkl (1.10.2)                      - NumPy: array processing for numbers, strings, records, and objects.\n",
      "numpy-syncer (0.0.1)                    - Manage a Numpy data structure using Peewee-Sync\n",
      "ccv-numpy (0.0.2)                       - Wrapper module for ccv using numpy arrays interface\n",
      "nn-numpy (0.0.1)                        - A package which contains a simple implementation of neural network with numpy\n",
      "django-numpy (1.0.1)                    - Application for Django projects that adds some utilities and integration tools with Numpy.\n",
      "BSON-NumPy (0.1)                        - Module for converting directly from BSON to NumPy ndarrays and vice versa\n",
      "dicom-numpy (0.2.0)                     - Extract image data into a 3D numpy array from a set of DICOM files.\n",
      "dl-with-numpy (0.0.3)                   - Simple deep learning with numpy\n",
      "numpy-html (0.1.3)                      - A simple table renderer for numpy arrays. Provides a rich display hook for use with Jupyter Lab / Notebook.\n",
      "numpy-indexed (0.3.5)                   - This package contains functionality for indexed operations on numpy ndarrays, providing efficient vectorized functionality such as grouping and set operations.\n",
      "circular-buffer-numpy (0.0.8)           - Package for circular buffer numpy array\n",
      "build-requires-numpy (2019.12.2)        - Meta-package to install older versions of Numpy.\n",
      "oldest-supported-numpy (0.2)            - Meta-package that provides the oldest supported version of Numpy\n",
      "image-to-numpy (1.0.0)                  - Load an image into a numpy array with proper Exif orientation handling\n",
      "numpy-image-widget (2019.1.6)           - An easy-to-use Jupyter widget for displaying images from Numpy data arrays\n",
      "django-numpy-json-encoder (0.1.3)       - Django JSON encoder with numpy support.\n",
      "faster-numpy (0.1.2)                    - \n",
      "numpy-stl (2.10.1)                      - Library to make reading, writing and modifying both binary and ascii STL files easy.\n",
      "hypothesis-numpy (2.0.0)                - Adds support for generating datetime to Hypothesis\n",
      "numpy-groupies (0.9.10)                 - Optimised tools for group-indexing operations: aggregated sum and more.\n",
      "deuces-numpy (0.5)                      - \n",
      "numpy-financial (1.0.0)                 - Simple financial functions\n",
      "zen-of-numpy (0.1)                      - \n",
      "npplus (0.9.8)                          - Enhancements to Numpy\n",
      "gumpy (0.1)                             - Genetics with Numpy\n",
      "o243kgmvs924mtvd034mg (0.01)            - NumPy Testing\n",
      "np (1.0.2)                              - np = numpy++: numpy with added convenience functionality\n",
      "jumpy (0.2.4)                           - Numpy and nd4j interop\n",
      "maskedarray (0.1)                       - NumPy Masked Array\n",
      "oldnumeric (1.0.4)                      - The oldnumeric numpy package\n",
      "numpoly (0.1.6)                         - Polynomials as a numpy datatype\n",
      "nptweak (0.1.0)                         - utility functions for numpy\n",
      "nptyping (0.3.1)                        - Type hints for Numpy\n",
      "match-arrays (0.0.1)                    - Matching of Numpy arrays\n",
      "numpyro (0.2.3)                         - Pyro PPL on NumPy\n",
      "vidsrc (2019.1.1)                       - Video Frameserver for Numpy\n",
      "ndarray (0.8)                           - Tools for numpy ndarray\n",
      "wrapnumpy3 (0.0.3)                      - Wrapper of Numpy in Python3.\n",
      "somber (2.0.1)                          - Self-Organizing Maps in Numpy\n",
      "zappy (0.2.0)                           - Distributed processing with NumPy and Zarr.\n",
      "sqlite3ndarray (0.3.2)                  - sqlite3 helpers for numpy ndarrays\n",
      "axarray (0.1.1)                         - numpy array with labeled axes\n",
      "gsn_numpy_util (0.1.0)                  - Toolbox for working with Numpy arrays.\n",
      "homog (0.1.14)                          - Utilities for Homogeneous Coordinates with Numpy\n",
      "autoarray (0.6.0)                       - numpy extension for masked purposes\n",
      "npstreams (1.6.2)                       - Streaming operations on NumPy arrays\n",
      "sym2num (0.1.dev2)                      - Sympy to numpy code generator.\n",
      "blocked-matrix-utils (1.0.1)            - NumPy wrappers for blocked matrices\n",
      "dynarray (0.1.3)                        - Dynamically growable numpy arrays.\n",
      "pstar (0.1.9)                           - pstar: numpy for arbitrary data\n",
      "sompy (0.1.1)                           - Numpy based SOM Library\n",
      "spartan (0.06)                          - Distributed Numpy-like arrays.\n",
      "fastjet (0.0.3)                         - The interface between FastJet and NumPy\n",
      "npdoc (1.0.1)                           - In-notebook NumPy man pages\n",
      "wendelin.core (0.13)                    - Out-of-core NumPy arrays\n",
      "sampyl-mcmc (0.3)                       - MCMC Samplers in Python & Numpy\n",
      "gnuplotlib (0.32)                       - Gnuplot-based plotting for numpy\n",
      "multipolyfit (0.0.1)                    - Multivariate Polynomial fitting with NumPy\n",
      "nppretty (1.0.0)                        - Pretty printer for numpy arrays.\n",
      "numpythia (1.1.0)                       - The interface between PYTHIA and NumPy\n",
      "degas (0.1.4)                           - Fluent interface for numpy arrays.\n",
      "PyUblas (2017.1)                        - Seamless Numpy-UBlas interoperability\n",
      "pygeos (0.5)                            - GEOS wrapped in numpy ufuncs\n",
      "permanent (1.1.1)                       - Calculates the permanent of a Numpy matrix\n",
      "numm (0.3)                              - numpy-based multimedia library\n",
      "pyjet (1.6.0)                           - The interface between FastJet and NumPy\n",
      "snuggs (1.4.7)                          - Snuggs are s-expressions for Numpy\n",
      "bohrium (0.11.0.post54)                 - Bohrium Python/NumPy Backend\n",
      "numpy_ringbuffer (0.2.1)                - Ring buffer implementation for numpy\n",
      "fewerbytes (0.0.1)                      - Compression techniques for numpy arrays\n",
      "ntype (0.0.1)                           - Type Handler using NumPy\n",
      "fastfunc (0.2.2)                        - Fast numpy ufunc operations\n",
      "array_collections (0.1.9)               - A collection of numpy ndarray subclasses.\n",
      "pyache (0.1.0)                          - A simple numpy caching library\n",
      "opt-einsum (3.1.0)                      - Optimizing numpys einsum function\n",
      "displayarray (0.7.2)                    - Tool for displaying numpy arrays.\n",
      "numphy (0.0.2)                          - Physics objects backed by NumPy and/or TensorFlow.\n",
      "zmqnumpy (0.1)                          - numpy array over zmq sockets\n",
      "pynetcdf (0.7)                          - Standalone Scientific.IO.NetCDF (2.4.11) built for NumPy\n",
      "npcb (0.0.1)                            - Copy NumPy arrays via the clipboard\n",
      "ComStats (0.2.0)                        - Do combinatorial statistics on numpy ndarrays\n",
      "afnumpy (1.3)                           - A GPU-ready drop-in replacement for numpy\n",
      "numpy_display (1.2.0)                   - Formats numpy matrices in an IPython Notebook\n",
      "nnlib (0.2)                             - numpy only neural network library\n",
      "xcy-Zscore (0.0.5)                      - A small tool of Zscore based on numpy\n"
     ]
    }
   ],
   "source": [
    "# bir paketi sorgulama, var mı yok mu, hangi versiyonu kurulu v.s\n",
    "!pip search numpy"
   ]
  },
  {
   "cell_type": "code",
   "execution_count": 22,
   "metadata": {},
   "outputs": [
    {
     "name": "stdout",
     "output_type": "stream",
     "text": [
      "Requirement already up-to-date: numpy in c:\\users\\volka\\anaconda3\\lib\\site-packages (1.18.1)\n"
     ]
    }
   ],
   "source": [
    "#eğer, daha üst sürümü varsa ona upgrade etmek için\n",
    "!pip install numpy --upgrade \n",
    "#veya conda update numpy"
   ]
  },
  {
   "cell_type": "code",
   "execution_count": 23,
   "metadata": {},
   "outputs": [],
   "source": [
    "#yeni sürümle çalışıtırma sıkıntısı yaşarsanız eski sürüme dönebilirsiniz\n",
    "#!pip install --upgrade paketadı=versiyonno #(Ör:pip install --upgrade werkzeug==0.12.2)"
   ]
  },
  {
   "cell_type": "code",
   "execution_count": 24,
   "metadata": {},
   "outputs": [],
   "source": [
    "#paketi komple kaldırmak için\n",
    "#!pip uninstall paketadı"
   ]
  },
  {
   "cell_type": "code",
   "execution_count": 25,
   "metadata": {},
   "outputs": [
    {
     "name": "stdout",
     "output_type": "stream",
     "text": [
      "Python 3.7.3\n"
     ]
    }
   ],
   "source": [
    "#python versiyonu öğrenmek\n",
    "!python --version"
   ]
  },
  {
   "cell_type": "code",
   "execution_count": 26,
   "metadata": {},
   "outputs": [],
   "source": [
    "#python'ın versiyonunu yükseltmek\n",
    "#!conda update python"
   ]
  },
  {
   "cell_type": "code",
   "execution_count": 27,
   "metadata": {},
   "outputs": [
    {
     "data": {
      "text/plain": [
       "['C:\\\\Users\\\\volka\\\\Documents\\\\GitHub\\\\PythonRocks',\n",
       " 'C:\\\\Users\\\\volka\\\\Anaconda3\\\\python37.zip',\n",
       " 'C:\\\\Users\\\\volka\\\\Anaconda3\\\\DLLs',\n",
       " 'C:\\\\Users\\\\volka\\\\Anaconda3\\\\lib',\n",
       " 'C:\\\\Users\\\\volka\\\\Anaconda3',\n",
       " '',\n",
       " 'C:\\\\Users\\\\volka\\\\AppData\\\\Roaming\\\\Python\\\\Python37\\\\site-packages',\n",
       " 'C:\\\\Users\\\\volka\\\\Anaconda3\\\\lib\\\\site-packages',\n",
       " 'C:\\\\Users\\\\volka\\\\Anaconda3\\\\lib\\\\site-packages\\\\win32',\n",
       " 'C:\\\\Users\\\\volka\\\\Anaconda3\\\\lib\\\\site-packages\\\\win32\\\\lib',\n",
       " 'C:\\\\Users\\\\volka\\\\Anaconda3\\\\lib\\\\site-packages\\\\Pythonwin',\n",
       " 'C:\\\\Users\\\\volka\\\\Anaconda3\\\\lib\\\\site-packages\\\\IPython\\\\extensions',\n",
       " 'C:\\\\Users\\\\volka\\\\.ipython']"
      ]
     },
     "execution_count": 27,
     "metadata": {},
     "output_type": "execute_result"
    }
   ],
   "source": [
    "#packageler hangi klasörlere kuruluyor\n",
    "import sys\n",
    "sys.path"
   ]
  },
  {
   "cell_type": "code",
   "execution_count": 28,
   "metadata": {},
   "outputs": [
    {
     "name": "stdout",
     "output_type": "stream",
     "text": [
      "['C:\\\\Users\\\\volka\\\\Anaconda3', 'C:\\\\Users\\\\volka\\\\Anaconda3\\\\lib\\\\site-packages']\n"
     ]
    }
   ],
   "source": [
    "import site; \n",
    "print(site.getsitepackages())"
   ]
  },
  {
   "cell_type": "markdown",
   "metadata": {},
   "source": [
    "<b>Özel kurulum şekillleri</b>"
   ]
  },
  {
   "cell_type": "markdown",
   "metadata": {},
   "source": [
    "In IPython (jupyter) 7.3 and later, there is a magic %pip and %conda command that will install into the current kernel (rather than into the instance of Python that launched the notebook).\n",
    "\n",
    "%pip install geocoder\n",
    "\n",
    "! pip install --user <package> (The ! tells the notebook to execute the cell as a shell command.)"
   ]
  },
  {
   "cell_type": "markdown",
   "metadata": {},
   "source": [
    "## Modül ve sınıflar(ve hatta fonksiyonları) kodumuza dahil etme"
   ]
  },
  {
   "cell_type": "markdown",
   "metadata": {},
   "source": [
    "* Modül referansı: import x, kullanımı: x'i takipeden üye şeklinde. x.falanmetod, x.falanproperty, x.falanfalan<br>\n",
    "* Modüldeki herşeyi dahil etme: from x import * , kullanımı: falanca(...) <br>\n",
    "* Tek birşeyi dahil etme: from x import falanca. falanca doğrudan kullanılabilir, x.falanca demeye gerek yok(üsstekinden farkı daha az şey importladık)"
   ]
  },
  {
   "cell_type": "code",
   "execution_count": 29,
   "metadata": {},
   "outputs": [
    {
     "data": {
      "text/plain": [
       "4.0"
      ]
     },
     "execution_count": 29,
     "metadata": {},
     "output_type": "execute_result"
    }
   ],
   "source": [
    "from math import sqrt #math modülünden sqrt fonksiyonu\n",
    "kök=sqrt(16)\n",
    "kök"
   ]
  },
  {
   "cell_type": "code",
   "execution_count": 30,
   "metadata": {
    "scrolled": true
   },
   "outputs": [
    {
     "name": "stdout",
     "output_type": "stream",
     "text": [
      " Volume in drive E is MYHDD\n",
      " Volume Serial Number is 9E4D-C087\n",
      "\n",
      " Directory of E:\\OneDrive\\Uygulama GeliŸtirme\n",
      "\n",
      "16.01.2020  20:42    <DIR>          .\n",
      "16.01.2020  20:42    <DIR>          ..\n",
      "09.09.2019  23:42    <DIR>          java\n",
      "09.01.2020  23:52    <DIR>          PDF dok�mantasyon\n",
      "15.06.2019  16:35    <DIR>          Scratch\n",
      "12.12.2019  15:32    <DIR>          silinecek\n",
      "18.08.2019  13:38    <DIR>          Visual Studio\n",
      "19.08.2019  23:18    <DIR>          web js asp\n",
      "08.01.2020  00:52    <DIR>          web sitelerim\n",
      "               0 File(s)              0 bytes\n",
      "               9 Dir(s)  510.644.449.280 bytes free\n"
     ]
    }
   ],
   "source": [
    "from os import * # os modülündeki herşeyi\n",
    "mkdir(\"test\") #os dememize gerek yok. test diye bi klasör yarattık\n",
    "removedirs(\"test\") #hemen arkadan bu klasörü sildik\n",
    "!dir"
   ]
  },
  {
   "cell_type": "markdown",
   "metadata": {},
   "source": [
    "# Fonksiyonlar "
   ]
  },
  {
   "cell_type": "markdown",
   "metadata": {},
   "source": [
    "## Klasik fonksiyon"
   ]
  },
  {
   "cell_type": "markdown",
   "metadata": {},
   "source": [
    "Genel olarak fonksiyonların ne olduğunu başka bir dokümandan öğrenmiş olmanız beklenimektedir. Başta da belirttiğim gibi bu dokümanın amacı büyük bir cheatsheet sağlamak."
   ]
  },
  {
   "cell_type": "code",
   "execution_count": 31,
   "metadata": {},
   "outputs": [
    {
     "name": "stdout",
     "output_type": "stream",
     "text": [
      "selam\n"
     ]
    }
   ],
   "source": [
    "def islem_yapan_parametresiz_fonksiyon(): #c tabanlı dillerdeki void dönüş tipi\n",
    "    print(\"selam\")\n",
    "    \n",
    "islem_yapan_parametresiz_fonksiyon()"
   ]
  },
  {
   "cell_type": "code",
   "execution_count": 32,
   "metadata": {},
   "outputs": [
    {
     "name": "stdout",
     "output_type": "stream",
     "text": [
      "16\n"
     ]
    }
   ],
   "source": [
    "def sonuc_donduren_ve_parametre_almis_fonksiyon(karesi_alinacak_sayi):\n",
    "    return karesi_alinacak_sayi**2\n",
    "\n",
    "sonuc=sonuc_donduren_ve_parametre_almis_fonksiyon(4) #dönen sonucu bi dğeişkene atıyorum\n",
    "print(sonuc)"
   ]
  },
  {
   "cell_type": "code",
   "execution_count": 33,
   "metadata": {},
   "outputs": [
    {
     "name": "stdout",
     "output_type": "stream",
     "text": [
      "50\n",
      "5\n"
     ]
    }
   ],
   "source": [
    "#fonksiyonlar bazı dillerdeki durumun aksine çok değer döndürülebilir.\n",
    "def cokdegerdondur(sayı):\n",
    "    return sayı,sayı*10,sayı*100\n",
    "\n",
    "kendi,onkat,yuzkat=cokdegerdondur(5)\n",
    "print(onkat)\n",
    "print(kendi)"
   ]
  },
  {
   "cell_type": "markdown",
   "metadata": {},
   "source": [
    "## Paramarray ile esnek sayıda parametre kullanımı ve default değer kavramı"
   ]
  },
  {
   "cell_type": "markdown",
   "metadata": {},
   "source": [
    "Parametreler belirlenmiş sayıda olmak zorunda değil. Esnek sayıda parametre alma imkanı var."
   ]
  },
  {
   "cell_type": "code",
   "execution_count": 34,
   "metadata": {},
   "outputs": [
    {
     "name": "stdout",
     "output_type": "stream",
     "text": [
      "5.5\n",
      "5.5\n"
     ]
    }
   ],
   "source": [
    "def SayılarıToplaXeBöl(arg1,*args): #arg1 olmak zorunda değil, ama olacaksa paramarrayden önce olmalı\n",
    "    Toplam=0\n",
    "    for a in args:\n",
    "        Toplam+=a\n",
    "    return Toplam/arg1\n",
    "\n",
    "x=SayılarıToplaXeBöl(10,1,2,3,4,5,6,7,8,9,10) #parametreler hardcoded yazıldıysa \"*\" yazmıyoruz. ilk parametreden sonrakileri toplayıp 10a böler\n",
    "print(x)  \n",
    "y=SayılarıToplaXeBöl(10,*range(1,11)) #parametreler bir fonksiyon ile dönüyorsa veya bir değişkense \"*\" var\n",
    "print(y)"
   ]
  },
  {
   "cell_type": "code",
   "execution_count": 35,
   "metadata": {},
   "outputs": [
    {
     "name": "stdout",
     "output_type": "stream",
     "text": [
      "ad Volkan\n",
      "soyad Yurtseven\n"
     ]
    }
   ],
   "source": [
    "def dictparametreli(**kwargs): #** olursa parametre olarak dictioanry alır\n",
    "    for k,v in kwargs.items():\n",
    "        print(k,v)\n",
    "\n",
    "dict_={}\n",
    "dict_[\"ad\"]=\"Volkan\"\n",
    "dict_[\"soyad\"]=\"Yurtseven\"\n",
    "dictparametreli(**dict_) #değişken şeklinde olduğu için ** ile "
   ]
  },
  {
   "cell_type": "markdown",
   "metadata": {},
   "source": [
    "Bazı parametreler default değerleriyle yazılırlar. Fonksiyona ilgili değer geçirilimezse bu default değer kullanılır"
   ]
  },
  {
   "cell_type": "code",
   "execution_count": 36,
   "metadata": {},
   "outputs": [
    {
     "name": "stdout",
     "output_type": "stream",
     "text": [
      "100 5 10\n"
     ]
    }
   ],
   "source": [
    "def opsiyonelli(adet,min_=1, max_=10):\n",
    "    print(adet,min_,max_)\n",
    "\n",
    "opsiyonelli(100,5) #son parametre 10 geçer"
   ]
  },
  {
   "cell_type": "markdown",
   "metadata": {},
   "source": [
    "## Lambda ve anonymous function"
   ]
  },
  {
   "cell_type": "markdown",
   "metadata": {},
   "source": [
    "Lambda ifadeler, fonksiyon tanımlamak yerine inline şekilde işlem yapmaya imkan verir"
   ]
  },
  {
   "cell_type": "code",
   "execution_count": 37,
   "metadata": {},
   "outputs": [
    {
     "name": "stdout",
     "output_type": "stream",
     "text": [
      "100\n",
      "100\n"
     ]
    }
   ],
   "source": [
    "def kareal(sayı):\n",
    "    return sayı**2\n",
    "\n",
    "#yukarıdaki fonksiyonu tanımlamak yerine lambda yazabilriz\n",
    "kareal2=lambda x:x**2\n",
    "\n",
    "print(kareal(10))\n",
    "print(kareal2(10))"
   ]
  },
  {
   "cell_type": "markdown",
   "metadata": {},
   "source": [
    "# Stringler"
   ]
  },
  {
   "cell_type": "markdown",
   "metadata": {},
   "source": [
    "## Slicing"
   ]
  },
  {
   "cell_type": "code",
   "execution_count": 38,
   "metadata": {},
   "outputs": [],
   "source": [
    "from utility import * #kendi yazdığım utility modülünü import ediyorum. burada farklı print şekilleri var. \n",
    "#satır numarsını yazdırmak gibi. View menüsünden Toggle Line Numbers yapmış olmanız lazım."
   ]
  },
  {
   "cell_type": "code",
   "execution_count": 39,
   "metadata": {},
   "outputs": [
    {
     "name": "stdout",
     "output_type": "stream",
     "text": [
      "2 ----------\n",
      "v\n",
      " \n",
      "3 ----------\n",
      "vol\n",
      " \n",
      "4 ----------\n",
      "an yurtseven\n",
      " \n",
      "5 ----------\n",
      "lka\n",
      " \n",
      "6 ----------\n",
      "n\n",
      " \n",
      "7 ----------\n",
      "ven\n",
      " \n",
      "8 ----------\n",
      "nevestruy naklov\n",
      " \n"
     ]
    }
   ],
   "source": [
    "metin=\"volkan yurtseven\"\n",
    "printy(metin[0])\n",
    "printy(metin[:3]) #left 3\n",
    "printy(metin[4:]) #substr\n",
    "printy(metin[2:5]) #substr\n",
    "printy(metin[-1]) #son\n",
    "printy(metin[-3:]) #right 3\n",
    "printy(metin[::-1]) #ters"
   ]
  },
  {
   "cell_type": "markdown",
   "metadata": {},
   "source": [
    "## String formatlama "
   ]
  },
  {
   "cell_type": "code",
   "execution_count": 40,
   "metadata": {},
   "outputs": [
    {
     "data": {
      "text/plain": [
       "'İnsanların yaklaşık yarısı kadın olup kalanı erkektir'"
      ]
     },
     "execution_count": 40,
     "metadata": {},
     "output_type": "execute_result"
    }
   ],
   "source": [
    "mesaj=\"İnsanların yaklaşık %s kadın olup %s erkektir\" % (\"yarısı\",\"kalanı\")\n",
    "mesaj\n",
    "#s:string, d:sayı"
   ]
  },
  {
   "cell_type": "code",
   "execution_count": 41,
   "metadata": {},
   "outputs": [
    {
     "data": {
      "text/plain": [
       "'Python güzel bir dildir'"
      ]
     },
     "execution_count": 41,
     "metadata": {},
     "output_type": "execute_result"
    }
   ],
   "source": [
    "#daha çok bu yöntem, {}\n",
    "mesaj=\"Python {} bir dildir\".format(\"güzel\")\n",
    "mesaj"
   ]
  },
  {
   "cell_type": "code",
   "execution_count": 42,
   "metadata": {},
   "outputs": [
    {
     "data": {
      "text/plain": [
       "'python güzel bir dildir'"
      ]
     },
     "execution_count": 42,
     "metadata": {},
     "output_type": "execute_result"
    }
   ],
   "source": [
    "# ya da + ile concat\n",
    "mesaj=\"python\"\n",
    "mesaj=mesaj + \" güzel bir dildir\"\n",
    "mesaj"
   ]
  },
  {
   "cell_type": "markdown",
   "metadata": {},
   "source": [
    "## metinsel fonksiyonlar"
   ]
  },
  {
   "cell_type": "code",
   "execution_count": 43,
   "metadata": {},
   "outputs": [
    {
     "data": {
      "text/plain": [
       "['volkan', 'yurtseven']"
      ]
     },
     "execution_count": 43,
     "metadata": {},
     "output_type": "execute_result"
    }
   ],
   "source": [
    "parçalı=metin.split()\n",
    "parçalı"
   ]
  },
  {
   "cell_type": "code",
   "execution_count": 44,
   "metadata": {},
   "outputs": [
    {
     "name": "stdout",
     "output_type": "stream",
     "text": [
      "volkan yurtsevenvolkan yurtsevenvolkan yurtseven\n"
     ]
    }
   ],
   "source": [
    "print(metin*3)"
   ]
  },
  {
   "cell_type": "code",
   "execution_count": 45,
   "metadata": {},
   "outputs": [
    {
     "data": {
      "text/plain": [
       "'volkan yurtsivin'"
      ]
     },
     "execution_count": 45,
     "metadata": {},
     "output_type": "execute_result"
    }
   ],
   "source": [
    "metin.replace(\"e\",\"i\")"
   ]
  },
  {
   "cell_type": "code",
   "execution_count": 46,
   "metadata": {},
   "outputs": [
    {
     "name": "stdout",
     "output_type": "stream",
     "text": [
      "VOLKAN YURTSEVEN volkan yurtseven Volkan yurtseven Volkan Yurtseven\n"
     ]
    }
   ],
   "source": [
    "print(metin.upper(), metin.lower(), metin.capitalize(), metin.title())"
   ]
  },
  {
   "cell_type": "code",
   "execution_count": 47,
   "metadata": {},
   "outputs": [
    {
     "name": "stdout",
     "output_type": "stream",
     "text": [
      "True False\n"
     ]
    }
   ],
   "source": [
    "print(metin.startswith(\"v\"),metin.endswith(\"d\"))"
   ]
  },
  {
   "cell_type": "code",
   "execution_count": 48,
   "metadata": {},
   "outputs": [
    {
     "name": "stdout",
     "output_type": "stream",
     "text": [
      "yeni:naber   dostum.\n"
     ]
    }
   ],
   "source": [
    "kelime=\"     naber   dostum     \" \n",
    "print(\"yeni:\"+kelime.strip()+\".\") #ortadakini silmez"
   ]
  },
  {
   "cell_type": "markdown",
   "metadata": {},
   "source": [
    "## diğer işlemler"
   ]
  },
  {
   "cell_type": "code",
   "execution_count": 49,
   "metadata": {},
   "outputs": [
    {
     "name": "stdout",
     "output_type": "stream",
     "text": [
      "['v', 'o', 'l', 'k', 'a', 'n', ' ', 'y', 'u', 'r', 't', 's', 'e', 'v', 'e', 'n']\n"
     ]
    }
   ],
   "source": [
    "#liste çevirme\n",
    "liste=list(metin)\n",
    "print(liste)"
   ]
  },
  {
   "cell_type": "code",
   "execution_count": 50,
   "metadata": {},
   "outputs": [
    {
     "name": "stdout",
     "output_type": "stream",
     "text": [
      "True\n",
      "-1\n"
     ]
    },
    {
     "ename": "ValueError",
     "evalue": "substring not found",
     "output_type": "error",
     "traceback": [
      "\u001b[1;31m---------------------------------------------------------------------------\u001b[0m",
      "\u001b[1;31mValueError\u001b[0m                                Traceback (most recent call last)",
      "\u001b[1;32m<ipython-input-50-3046aed2f641>\u001b[0m in \u001b[0;36m<module>\u001b[1;34m\u001b[0m\n\u001b[0;32m      2\u001b[0m \u001b[0mprint\u001b[0m\u001b[1;33m(\u001b[0m\u001b[1;34m\"l\"\u001b[0m \u001b[1;32min\u001b[0m \u001b[0mmetin\u001b[0m\u001b[1;33m)\u001b[0m\u001b[1;33m\u001b[0m\u001b[1;33m\u001b[0m\u001b[0m\n\u001b[0;32m      3\u001b[0m \u001b[0mprint\u001b[0m\u001b[1;33m(\u001b[0m\u001b[0mmetin\u001b[0m\u001b[1;33m.\u001b[0m\u001b[0mfind\u001b[0m\u001b[1;33m(\u001b[0m\u001b[1;34m\"z\"\u001b[0m\u001b[1;33m)\u001b[0m\u001b[1;33m)\u001b[0m \u001b[1;31m#bulamazsa -1\u001b[0m\u001b[1;33m\u001b[0m\u001b[1;33m\u001b[0m\u001b[0m\n\u001b[1;32m----> 4\u001b[1;33m \u001b[0mprint\u001b[0m\u001b[1;33m(\u001b[0m\u001b[0mmetin\u001b[0m\u001b[1;33m.\u001b[0m\u001b[0mindex\u001b[0m\u001b[1;33m(\u001b[0m\u001b[1;34m\"z\"\u001b[0m\u001b[1;33m)\u001b[0m\u001b[1;33m)\u001b[0m \u001b[1;31m#bulamazsa hata alır\u001b[0m\u001b[1;33m\u001b[0m\u001b[1;33m\u001b[0m\u001b[0m\n\u001b[0m",
      "\u001b[1;31mValueError\u001b[0m: substring not found"
     ]
    }
   ],
   "source": [
    "#içinde var mı kontrolü\n",
    "print(\"l\" in metin)\n",
    "print(metin.find(\"z\")) #bulamazsa -1\n",
    "print(metin.index(\"z\")) #bulamazsa hata alır"
   ]
  },
  {
   "cell_type": "code",
   "execution_count": 51,
   "metadata": {},
   "outputs": [
    {
     "name": "stdout",
     "output_type": "stream",
     "text": [
      "v\n",
      "o\n",
      "l\n",
      "k\n",
      "a\n",
      "n\n",
      " \n",
      "y\n",
      "u\n",
      "r\n",
      "t\n",
      "s\n",
      "e\n",
      "v\n",
      "e\n",
      "n\n"
     ]
    }
   ],
   "source": [
    "for m in metin:\n",
    "    print(m,end=\"\\n\")"
   ]
  },
  {
   "cell_type": "code",
   "execution_count": 52,
   "metadata": {},
   "outputs": [],
   "source": [
    "#aralarda boşluk falan varsa \"r\" başta olacak şekilde kullanırız. c#'taki @ gibi\n",
    "path=r\"E:\\falan filan klasörü\\sub klasör\""
   ]
  },
  {
   "cell_type": "code",
   "execution_count": 53,
   "metadata": {},
   "outputs": [
    {
     "data": {
      "text/plain": [
       "2"
      ]
     },
     "execution_count": 53,
     "metadata": {},
     "output_type": "execute_result"
    }
   ],
   "source": [
    "metin.count(\"e\") #metin değişkeninde e harfi kaç kez geçiyor"
   ]
  },
  {
   "cell_type": "markdown",
   "metadata": {},
   "source": [
    "# Koşullu yapılar"
   ]
  },
  {
   "cell_type": "markdown",
   "metadata": {},
   "source": [
    "Koşullu yapılar, döngüler ve veri yapıları tüm programalama dillerinin ortak özellikleri olup iyi kavranması gerekirler. Bu konuda kendinizi test edeceğiniz güzel bir site var. Burada çeştli konularda kolaydan zora kadar farklı seviyelerde sorular var, bunları çözüp gönderiyorsunuz, puan kazanıyorsunuz. bu siteyi kullanmanızı tavsiye ederim.\n",
    "\n",
    "https://www.hackerrank.com"
   ]
  },
  {
   "cell_type": "code",
   "execution_count": 54,
   "metadata": {},
   "outputs": [
    {
     "name": "stdout",
     "output_type": "stream",
     "text": [
      "20den küçük\n"
     ]
    }
   ],
   "source": [
    "i=10 #bunu sırasıyla 10,20 ve 30 yapark çalışıtırın\n",
    "if i<20:\n",
    "    print(\"20den küçük\")\n",
    "elif i==20: #çift =\n",
    "    print(\"tam 20\")\n",
    "else:\n",
    "    print(\"20den büyük\")"
   ]
  },
  {
   "cell_type": "code",
   "execution_count": 55,
   "metadata": {},
   "outputs": [
    {
     "name": "stdout",
     "output_type": "stream",
     "text": [
      "low\n"
     ]
    }
   ],
   "source": [
    "#one-liner -(ternary) if-else\n",
    "x=3\n",
    "sonuc=\"high\" if x>10 else \"low\"\n",
    "print(sonuc)"
   ]
  },
  {
   "cell_type": "markdown",
   "metadata": {},
   "source": [
    "# Döngüler"
   ]
  },
  {
   "cell_type": "markdown",
   "metadata": {},
   "source": [
    "Genelde list, dict gibi veri yapıları içinde dolaşmaya yararlar. Bu veri yapılarını az aşağıda detaylı göreceğiz\n",
    "\n",
    "iki tür döngü yapımız var. <b>while ve for</b>.<br>\n",
    "for, foreach şeklindedir, klasik for yok. onun yerine range fonksiyonundan yararlanılabilir."
   ]
  },
  {
   "cell_type": "code",
   "execution_count": 56,
   "metadata": {},
   "outputs": [
    {
     "name": "stdout",
     "output_type": "stream",
     "text": [
      "apple\n",
      "banana\n",
      "cherry\n"
     ]
    }
   ],
   "source": [
    "fruits = [\"apple\", \"banana\", \"cherry\"]\n",
    "for x in fruits:\n",
    "    print(x)"
   ]
  },
  {
   "cell_type": "code",
   "execution_count": 57,
   "metadata": {},
   "outputs": [
    {
     "name": "stdout",
     "output_type": "stream",
     "text": [
      "apple\n",
      "banana\n",
      "cherry\n"
     ]
    }
   ],
   "source": [
    "#klasik for için range kullanımı.\n",
    "for i in range(len(fruits)):\n",
    "    print(fruits[i])"
   ]
  },
  {
   "cell_type": "code",
   "execution_count": 58,
   "metadata": {},
   "outputs": [
    {
     "name": "stdout",
     "output_type": "stream",
     "text": [
      "v-o-l-k-a-n-"
     ]
    }
   ],
   "source": [
    "#metinler de loop ile dolaşılabilir\n",
    "isim=\"volkan\"\n",
    "for i in isim:\n",
    "    print(i,end=\"-\")"
   ]
  },
  {
   "cell_type": "code",
   "execution_count": 59,
   "metadata": {
    "scrolled": true
   },
   "outputs": [
    {
     "name": "stdout",
     "output_type": "stream",
     "text": [
      "apple\n",
      "banana\n"
     ]
    }
   ],
   "source": [
    "#döngüden çıkış\n",
    "fruits = [\"apple\", \"banana\", \"cherry\"]\n",
    "for x in fruits:\n",
    "    print(x)\n",
    "    if x == \"banana\":\n",
    "        break"
   ]
  },
  {
   "cell_type": "code",
   "execution_count": 60,
   "metadata": {},
   "outputs": [
    {
     "name": "stdout",
     "output_type": "stream",
     "text": [
      "1\n",
      "2\n",
      "3\n",
      "4\n",
      "5\n"
     ]
    }
   ],
   "source": [
    "#while ile bir şart gerçekleş(me)tiği sürece döngüde kalırız\n",
    "i = 1\n",
    "while i < 6:\n",
    "    print(i)\n",
    "    i += 1"
   ]
  },
  {
   "cell_type": "code",
   "execution_count": 61,
   "metadata": {
    "scrolled": true
   },
   "outputs": [
    {
     "name": "stdout",
     "output_type": "stream",
     "text": [
      "1\n",
      "2\n",
      "3\n"
     ]
    }
   ],
   "source": [
    "#belirli bir ara şart gerçekleşirse döngüden çıkabiliriz\n",
    "i = 1\n",
    "while i < 6:\n",
    "    print(i)\n",
    "    if i == 3:\n",
    "        break\n",
    "    i += 1"
   ]
  },
  {
   "cell_type": "code",
   "execution_count": 62,
   "metadata": {},
   "outputs": [
    {
     "name": "stdout",
     "output_type": "stream",
     "text": [
      "     #\n",
      "    ##\n",
      "   ###\n",
      "  ####\n",
      " #####\n",
      "######\n"
     ]
    }
   ],
   "source": [
    "#hackerrank sitesindeki bir ödev\n",
    "def staircase(n):\n",
    "    for i in range(n):\n",
    "        print((n-i-1)*\" \"+\"#\"*(i+1))\n",
    "staircase(6)"
   ]
  },
  {
   "cell_type": "markdown",
   "metadata": {},
   "source": [
    "## Döngü içinde \"else\" kullanımı"
   ]
  },
  {
   "cell_type": "markdown",
   "metadata": {},
   "source": [
    "### for döngülerinde"
   ]
  },
  {
   "cell_type": "markdown",
   "metadata": {},
   "source": [
    "tüm liste bittiğinde son olarak bu kısım yürütülür"
   ]
  },
  {
   "cell_type": "code",
   "execution_count": 63,
   "metadata": {
    "scrolled": true
   },
   "outputs": [
    {
     "name": "stdout",
     "output_type": "stream",
     "text": [
      "0\n",
      "1\n",
      "2\n",
      "3\n",
      "bitti\n"
     ]
    }
   ],
   "source": [
    "for i in range(4):\n",
    "    print(i)\n",
    "else:\n",
    "    print(\"bitti\")"
   ]
  },
  {
   "cell_type": "code",
   "execution_count": 64,
   "metadata": {},
   "outputs": [
    {
     "name": "stdout",
     "output_type": "stream",
     "text": [
      "10 equals 2*5.0\n",
      "11  bir asal sayıdır\n",
      "12 equals 2*6.0\n",
      "13  bir asal sayıdır\n",
      "14 equals 2*7.0\n",
      "15 equals 3*5.0\n",
      "16 equals 2*8.0\n",
      "17  bir asal sayıdır\n",
      "18 equals 2*9.0\n",
      "19  bir asal sayıdır\n"
     ]
    }
   ],
   "source": [
    "for num in range(10,20):\n",
    "    for i in range(2,num):\n",
    "        if num%i==0:\n",
    "            j=num/i\n",
    "            print(\"{} equals {}*{}\".format(num,i,j))\n",
    "            break\n",
    "    else:\n",
    "        print(num,\" bir asal sayıdır\")"
   ]
  },
  {
   "cell_type": "markdown",
   "metadata": {},
   "source": [
    "### while döngülerinde"
   ]
  },
  {
   "cell_type": "markdown",
   "metadata": {},
   "source": [
    "koşul sağlanmadığında yürütülür"
   ]
  },
  {
   "cell_type": "code",
   "execution_count": 65,
   "metadata": {},
   "outputs": [
    {
     "name": "stdout",
     "output_type": "stream",
     "text": [
      "5\n",
      "4\n",
      "3\n",
      "2\n",
      "1\n",
      "artık sağlanmıyor\n"
     ]
    }
   ],
   "source": [
    "n=5\n",
    "while n!=0:\n",
    "    print(n)\n",
    "    n-=1\n",
    "else:\n",
    "    print(\"artık sağlanmıyor\")"
   ]
  },
  {
   "cell_type": "markdown",
   "metadata": {},
   "source": [
    "## içiçe döngülerden çıkış"
   ]
  },
  {
   "cell_type": "markdown",
   "metadata": {},
   "source": [
    "içiçe döngü varsa, break ifadesi en içteki döngüden çıkar ve o bloktan sonraki ilk satırdan devam eder"
   ]
  },
  {
   "cell_type": "markdown",
   "metadata": {},
   "source": [
    "### iç döngüden çıkış, dış döngüye devam"
   ]
  },
  {
   "cell_type": "code",
   "execution_count": 66,
   "metadata": {},
   "outputs": [
    {
     "name": "stdout",
     "output_type": "stream",
     "text": [
      "['ali', 'dade', 'dade']\n"
     ]
    }
   ],
   "source": [
    "liste=[]\n",
    "for x in list(\"bacde\"):\n",
    "    for z in [\"ali\",\"dade\",\"dede\"]:\n",
    "        if x in z:\n",
    "            liste.append(z)\n",
    "            break #bir kez ekledikten sonra çıkıyorum, o yüzden mükerrer ekleme olmuyor\n",
    "print(liste)"
   ]
  },
  {
   "cell_type": "code",
   "execution_count": 67,
   "metadata": {},
   "outputs": [
    {
     "name": "stdout",
     "output_type": "stream",
     "text": [
      "['ali', 'dade', 'dade', 'dede', 'dade', 'dede']\n"
     ]
    }
   ],
   "source": [
    "#döngüden çıkmazsak mükerrer eklemeler olur\n",
    "liste=[]\n",
    "for x in list(\"bacde\"):\n",
    "    for z in [\"ali\",\"dade\",\"dede\"]:\n",
    "        if x in z:\n",
    "            liste.append(z)\n",
    "            #break\n",
    "print(liste)"
   ]
  },
  {
   "cell_type": "markdown",
   "metadata": {},
   "source": [
    "### tüm döngüden çıkış"
   ]
  },
  {
   "cell_type": "code",
   "execution_count": 68,
   "metadata": {},
   "outputs": [
    {
     "name": "stdout",
     "output_type": "stream",
     "text": [
      "['ali']\n"
     ]
    }
   ],
   "source": [
    "#herhangi birinin olması yeterliyse, ilk gördüğümü ekleyip çıkayım\n",
    "liste=[]\n",
    "for x in list(\"bacde\"):\n",
    "    for z in [\"ali\",\"dade\",\"dede\"]:\n",
    "        if x in z:\n",
    "            liste.append(z)\n",
    "            break\n",
    "    else:\n",
    "        continue\n",
    "    break\n",
    "print(liste)\n",
    "#ilk olarak b harfi ikinci for'daki tüm isimlerde aranır, bulunamaz, tüm liste tükendiği için else'e gelir, \n",
    "#orda continue yazdığı için ilk for döngüsüne geri gelir, a harfi Ali'de bulunduğu için listeye eklenir\n",
    "#ve break ile ilk döngüden çıkılır, ikinci döngüye ait break satırına konumlanır. break ile de ikinci döngüden çıkılır"
   ]
  },
  {
   "cell_type": "code",
   "execution_count": 69,
   "metadata": {},
   "outputs": [
    {
     "data": {
      "text/plain": [
       "[(11, 15, 26)]"
      ]
     },
     "execution_count": 69,
     "metadata": {},
     "output_type": "execute_result"
    }
   ],
   "source": [
    "#iki dizidekilerin toplamı 20den büyük olduğunda çık\n",
    "dizi=[[11,21,3],[5,15,6]]\n",
    "records=[]\n",
    "\n",
    "for j in dizi[0]:\n",
    "    for i in dizi[1]:        \n",
    "        if j+i>20:\n",
    "            records.append((j,i,j+i))\n",
    "            break\n",
    "    else:\n",
    "        continue\n",
    "    break\n",
    "\n",
    "records"
   ]
  },
  {
   "cell_type": "code",
   "execution_count": 70,
   "metadata": {},
   "outputs": [
    {
     "name": "stdout",
     "output_type": "stream",
     "text": [
      "[(11, 15, 26)]\n"
     ]
    }
   ],
   "source": [
    "#2.yöntem. bi fonk içinte return kullanmak\n",
    "records=[]\n",
    "def myfonk():\n",
    "    dizi=[[11,21,3],[5,15,6]]    \n",
    "    for j in dizi[0]:\n",
    "        for i in dizi[1]:        \n",
    "            if j+i>20:\n",
    "                records.append((j,i,j+i))\n",
    "                return\n",
    "\n",
    "myfonk()\n",
    "print(records)"
   ]
  },
  {
   "cell_type": "code",
   "execution_count": 71,
   "metadata": {},
   "outputs": [
    {
     "data": {
      "text/plain": [
       "[(11, 15, 26)]"
      ]
     },
     "execution_count": 71,
     "metadata": {},
     "output_type": "execute_result"
    }
   ],
   "source": [
    "#3.yöntem: exception\n",
    "records=[]\n",
    "try:\n",
    "    dizi=[[11,21,3],[5,15,6]]    \n",
    "    for j in dizi[0]:\n",
    "        for i in dizi[1]:        \n",
    "            if j+i>20:\n",
    "                records.append((j,i,j+i))\n",
    "                raise StopIteration\n",
    "except StopIteration: pass\n",
    "records"
   ]
  },
  {
   "cell_type": "markdown",
   "metadata": {},
   "source": [
    "# Data Structures(Veri yapıları)"
   ]
  },
  {
   "cell_type": "markdown",
   "metadata": {},
   "source": [
    "## List"
   ]
  },
  {
   "cell_type": "code",
   "execution_count": 72,
   "metadata": {
    "scrolled": true
   },
   "outputs": [
    {
     "name": "stdout",
     "output_type": "stream",
     "text": [
      "[0, 1]\n",
      "True\n"
     ]
    }
   ],
   "source": [
    "liste=[0,1,2,3,4,5]\n",
    "liste.append(6)\n",
    "print(liste[:2]) #stringler gibi slicing yapılır\n",
    "print(3 in liste) #üyelik kontrolü"
   ]
  },
  {
   "cell_type": "code",
   "execution_count": 73,
   "metadata": {
    "scrolled": false
   },
   "outputs": [
    {
     "name": "stdout",
     "output_type": "stream",
     "text": [
      "6\n",
      "[0, 1, 2, 3, 4, 5]\n"
     ]
    }
   ],
   "source": [
    "son=liste.pop() #son elemanı çıkarıp buna atar\n",
    "print(son)\n",
    "print(liste)"
   ]
  },
  {
   "cell_type": "code",
   "execution_count": 74,
   "metadata": {},
   "outputs": [
    {
     "name": "stdout",
     "output_type": "stream",
     "text": [
      "[0, 3, 6, 9, 12, 15, 18, 21, 24, 27, 30, 33, 36, 39, 42, 45, 48, 51, 54, 57, 60, 63, 66, 69, 72, 75, 78, 81, 84, 87, 90, 93, 96, 99]\n"
     ]
    }
   ],
   "source": [
    "rangelist=list(range(0,100,3))\n",
    "print(rangelist)"
   ]
  },
  {
   "cell_type": "markdown",
   "metadata": {},
   "source": [
    "### Sıralama"
   ]
  },
  {
   "cell_type": "markdown",
   "metadata": {},
   "source": [
    "Sort metodu bir listeyi kendi üstünde sıralar, sonuç olarak birşey döndürmez. yani sıralanmış  listeyi bir değişkene atayamayız. sıralanmış halini başka bir değişkene atamak istersek sorted fonkisyonunu kullanırız."
   ]
  },
  {
   "cell_type": "code",
   "execution_count": 75,
   "metadata": {},
   "outputs": [
    {
     "name": "stdout",
     "output_type": "stream",
     "text": [
      "2 ----------\n",
      "1\n",
      " \n",
      "3 ----------\n",
      "2\n",
      " \n",
      "5 ----------\n",
      "['armut', 'elma', 'muz', 'muz', 'portakal', 'çilek', 'üzüm']\n",
      " \n",
      "7 ----------\n",
      "['üzüm', 'çilek', 'portakal', 'muz', 'muz', 'elma', 'armut']\n",
      " \n"
     ]
    }
   ],
   "source": [
    "meyveler=[\"elma\",\"muz\",\"portakal\",\"çilek\",\"üzüm\",\"armut\",\"muz\"]\n",
    "printy(meyveler.index(\"muz\")) #ilk gördüğün indeksi\n",
    "printy(meyveler.count(\"muz\"))\n",
    "meyveler.sort()\n",
    "printy(meyveler)\n",
    "meyveler.reverse()\n",
    "printy(meyveler)"
   ]
  },
  {
   "cell_type": "code",
   "execution_count": 76,
   "metadata": {},
   "outputs": [
    {
     "name": "stdout",
     "output_type": "stream",
     "text": [
      "['üzüm', 'çilek', 'portakal', 'muz', 'muz', 'elma', 'armut']\n"
     ]
    }
   ],
   "source": [
    "siralimeyveler=sorted(meyveler,reverse=True) #ayrıca tersten sırala demiş olduk. bu parametre normal sort metodunda da var\n",
    "print(siralimeyveler)"
   ]
  },
  {
   "cell_type": "markdown",
   "metadata": {},
   "source": [
    "## Tuple"
   ]
  },
  {
   "cell_type": "markdown",
   "metadata": {},
   "source": [
    "List gibi ama değişmez yapılardır yani eleman eklenip çıkarılamaz. [] yerine () veya parantezsiz"
   ]
  },
  {
   "cell_type": "code",
   "execution_count": 77,
   "metadata": {},
   "outputs": [
    {
     "name": "stdout",
     "output_type": "stream",
     "text": [
      "<class 'tuple'>\n"
     ]
    }
   ],
   "source": [
    "tpl=(1,2,3)\n",
    "tpl2=1,2,3\n",
    "print(type(tpl2))"
   ]
  },
  {
   "cell_type": "markdown",
   "metadata": {},
   "source": [
    "## Comprehension"
   ]
  },
  {
   "cell_type": "markdown",
   "metadata": {},
   "source": [
    "tüm veri yapılarıyla uygulanabilir. uzun döngü yazmaktan kurtarır. c#'taki LINQ işlemlerinin benzer hatta daha güzel alternatifi"
   ]
  },
  {
   "cell_type": "code",
   "execution_count": 78,
   "metadata": {},
   "outputs": [
    {
     "name": "stdout",
     "output_type": "stream",
     "text": [
      "[0, 6, 12, 18, 24, 30, 36, 42, 48, 54, 60, 66, 72, 78, 84, 90, 96, 102, 108, 114, 120, 126, 132, 138, 144, 150, 156, 162, 168, 174, 180, 186, 192, 198]\n"
     ]
    }
   ],
   "source": [
    "rangelistinikikatı=[x*2 for x in rangelist]\n",
    "print(rangelistinikikatı)"
   ]
  },
  {
   "cell_type": "markdown",
   "metadata": {},
   "source": [
    "### koşullu comprehension"
   ]
  },
  {
   "cell_type": "markdown",
   "metadata": {},
   "source": [
    "[x for x in datastruct if x ...]<br>\n",
    "[x if ... else y for x in datastruct]"
   ]
  },
  {
   "cell_type": "code",
   "execution_count": 79,
   "metadata": {},
   "outputs": [
    {
     "data": {
      "text/plain": [
       "['üzüm', 'muz', 'muz', 'elma']"
      ]
     },
     "execution_count": 79,
     "metadata": {},
     "output_type": "execute_result"
    }
   ],
   "source": [
    "kısaisimlimeyveler=[x for x in meyveler if len(x)<5]\n",
    "kısaisimlimeyveler"
   ]
  },
  {
   "cell_type": "code",
   "execution_count": 80,
   "metadata": {
    "scrolled": true
   },
   "outputs": [
    {
     "name": "stdout",
     "output_type": "stream",
     "text": [
      "[1, 3, 5, 7, 9]\n",
      "[1, '', 3, '', 5, '', 7, '', 9]\n"
     ]
    }
   ],
   "source": [
    "liste=range(1,10)\n",
    "sadecetekler=[sayı for sayı in liste if sayı % 2 !=0] #tek if\n",
    "tekler=[sayı if sayı%2!=0 else \"\" for sayı in liste] #if-else\n",
    "print(sadecetekler)\n",
    "print(tekler)"
   ]
  },
  {
   "cell_type": "markdown",
   "metadata": {},
   "source": [
    "### içiçe(nested) list comprehension"
   ]
  },
  {
   "cell_type": "markdown",
   "metadata": {},
   "source": [
    "****syntax:[x for iç in dış for x in iç]****"
   ]
  },
  {
   "cell_type": "markdown",
   "metadata": {},
   "source": [
    "2 boyutlu bir matrisi düzleştirmek istiyorum<br>\n",
    "matrix = [[1, 2, 3], [4, 5, 6], [7, 8, 9]]<br>\n",
    "Beklediğimiz çıktı: flatten_matrix = [1, 2, 3, 4, 5, 6, 7, 8, 9]"
   ]
  },
  {
   "cell_type": "code",
   "execution_count": 81,
   "metadata": {},
   "outputs": [
    {
     "name": "stdout",
     "output_type": "stream",
     "text": [
      "[1, 2, 3, 4, 5, 6, 7, 8, 9]\n"
     ]
    }
   ],
   "source": [
    "# 2-D List \n",
    "matrix = [[1, 2, 3], [4, 5], [6, 7, 8, 9]] \n",
    "\n",
    "flatten_matrix = [] \n",
    "\n",
    "for sublist in matrix: \n",
    "\tfor val in sublist: \n",
    "\t\tflatten_matrix.append(val) \n",
    "\t\t\n",
    "print(flatten_matrix) \n"
   ]
  },
  {
   "cell_type": "code",
   "execution_count": 82,
   "metadata": {},
   "outputs": [
    {
     "name": "stdout",
     "output_type": "stream",
     "text": [
      "[1, 2, 3, 4, 5, 6, 7, 8, 9]\n"
     ]
    }
   ],
   "source": [
    "# 2-D List \n",
    "matrix = [[1, 2, 3], [4, 5], [6, 7, 8, 9]] \n",
    "\n",
    "# Nested List Comprehension to flatten a given 2-D matrix \n",
    "flatten_matrix = [val for sublist in matrix for val in sublist] \n",
    "\n",
    "print(flatten_matrix) "
   ]
  },
  {
   "cell_type": "code",
   "execution_count": 83,
   "metadata": {},
   "outputs": [
    {
     "name": "stdout",
     "output_type": "stream",
     "text": [
      "['Venus', 'Earth', 'Mars', 'Pluto']\n"
     ]
    }
   ],
   "source": [
    "# 2-D List of planets \n",
    "planets = [['Mercury', 'Venus', 'Earth'], ['Mars', 'Jupiter', 'Saturn'], ['Uranus', 'Neptune', 'Pluto']] \n",
    "\n",
    "flatten_planets = [] \n",
    "\n",
    "for sublist in planets: \n",
    "\tfor planet in sublist: \n",
    "\t\t\n",
    "\t\tif len(planet) < 6: \n",
    "\t\t\tflatten_planets.append(planet) \n",
    "\t\t\n",
    "print(flatten_planets) "
   ]
  },
  {
   "cell_type": "code",
   "execution_count": 84,
   "metadata": {},
   "outputs": [
    {
     "name": "stdout",
     "output_type": "stream",
     "text": [
      "['Venus', 'Earth', 'Mars', 'Pluto']\n"
     ]
    }
   ],
   "source": [
    "flatten_planets = [planet for sublist in planets for planet in sublist if len(planet) < 6] \n",
    "print(flatten_planets)"
   ]
  },
  {
   "cell_type": "code",
   "execution_count": 85,
   "metadata": {},
   "outputs": [
    {
     "data": {
      "text/plain": [
       "['Venus', 'Earth', 'Mars', 'Pluto']"
      ]
     },
     "execution_count": 85,
     "metadata": {},
     "output_type": "execute_result"
    }
   ],
   "source": [
    "kısalar=[p for iç in planets for p in iç if len(p)<6]\n",
    "kısalar"
   ]
  },
  {
   "cell_type": "markdown",
   "metadata": {},
   "source": [
    "### Matrisler ve matrislerde comprehension"
   ]
  },
  {
   "cell_type": "code",
   "execution_count": 86,
   "metadata": {},
   "outputs": [
    {
     "name": "stdout",
     "output_type": "stream",
     "text": [
      "3\n",
      "7 ----------\n",
      "[[1, 2, 3], [4, 5, 6], [7, 8, 9]]\n",
      " \n",
      "8 ----------\n",
      "[1, 4, 7]\n",
      " \n",
      "9 ----------\n",
      "[[1, 4, 7], [2, 5, 8], [3, 6, 9]]\n",
      " \n",
      "10 ----------\n",
      "[1, 2, 3, 4, 5, 6, 7, 8, 9]\n",
      " \n"
     ]
    }
   ],
   "source": [
    "matris=[\n",
    "    [1,2,3],\n",
    "    [4,5,6],\n",
    "    [7,8,9]\n",
    "]\n",
    "print(len(matris))\n",
    "printy([satır for satır in matris]) #satır satır\n",
    "printy([satır[0] for satır in matris]) #ilk sütun\n",
    "printy([[satır[i] for satır in matris] for i in range(3)]) #sütun sütun, transpozesi\n",
    "printy([x for iç in matris for x in iç]) #nested"
   ]
  },
  {
   "cell_type": "markdown",
   "metadata": {},
   "source": [
    "amaç aşağıdakini elde etmek olsun\n",
    "<pre>\n",
    "matrix = [[0, 1, 2, 3, 4],\n",
    "          [0, 1, 2, 3, 4],\n",
    "          [0, 1, 2, 3, 4],\n",
    "          [0, 1, 2, 3, 4],\n",
    "          [0, 1, 2, 3, 4]]\n",
    "</pre>        "
   ]
  },
  {
   "cell_type": "code",
   "execution_count": 87,
   "metadata": {},
   "outputs": [
    {
     "name": "stdout",
     "output_type": "stream",
     "text": [
      "[[0, 1, 2, 3, 4], [0, 1, 2, 3, 4], [0, 1, 2, 3, 4], [0, 1, 2, 3, 4], [0, 1, 2, 3, 4]]\n"
     ]
    }
   ],
   "source": [
    "matrix = [] \n",
    "\n",
    "for i in range(5): \n",
    "\t\n",
    "\t# Append an empty sublist inside the list \n",
    "\tmatrix.append([]) \n",
    "\t\n",
    "\tfor j in range(5): \n",
    "\t\tmatrix[i].append(j) \n",
    "\t\t\n",
    "print(matrix) \n"
   ]
  },
  {
   "cell_type": "code",
   "execution_count": 88,
   "metadata": {},
   "outputs": [
    {
     "name": "stdout",
     "output_type": "stream",
     "text": [
      "[[0, 1, 2, 3, 4], [0, 1, 2, 3, 4], [0, 1, 2, 3, 4], [0, 1, 2, 3, 4], [0, 1, 2, 3, 4]]\n"
     ]
    }
   ],
   "source": [
    "# Nested list comprehension \n",
    "matrix = [[j for j in range(5)] for i in range(5)] \n",
    "\n",
    "print(matrix) "
   ]
  },
  {
   "cell_type": "markdown",
   "metadata": {},
   "source": [
    "## Stack"
   ]
  },
  {
   "cell_type": "markdown",
   "metadata": {},
   "source": [
    "Normalde böyle bi sınıf yok. list'i stack gibi kullanırız. append ve pop sayesinde. ilk giren ilk çıkar"
   ]
  },
  {
   "cell_type": "code",
   "execution_count": 89,
   "metadata": {},
   "outputs": [
    {
     "data": {
      "text/plain": [
       "[1, 2, 3]"
      ]
     },
     "execution_count": 89,
     "metadata": {},
     "output_type": "execute_result"
    }
   ],
   "source": [
    "stack=[1,2,3]\n",
    "stack.append(4)\n",
    "stack.pop()\n",
    "stack"
   ]
  },
  {
   "cell_type": "markdown",
   "metadata": {},
   "source": [
    "## Queue"
   ]
  },
  {
   "cell_type": "markdown",
   "metadata": {},
   "source": [
    "Bunu da istersek listten yaparız, ilk giren son çıkar. ama bunun için collections modülünde bi sınıf var"
   ]
  },
  {
   "cell_type": "code",
   "execution_count": 90,
   "metadata": {},
   "outputs": [
    {
     "name": "stdout",
     "output_type": "stream",
     "text": [
      "1\n",
      "deque([2, 3, 4])\n"
     ]
    }
   ],
   "source": [
    "from collections import deque\n",
    "kuyruk=deque([1,2,3])\n",
    "kuyruk.append(4)\n",
    "sıradaki=kuyruk.popleft()\n",
    "print(sıradaki)\n",
    "print(kuyruk)"
   ]
  },
  {
   "cell_type": "markdown",
   "metadata": {},
   "source": [
    "## Dictionary"
   ]
  },
  {
   "cell_type": "markdown",
   "metadata": {},
   "source": [
    "Key-value ikililerini tutarlar. Sırasızdırlar(EDIT:Python 3.7den itibaren girdilen sırayı korur), indeksle ulaşamayız. key'lerle valuelara ulaşırız veya döngü içinde dolanarak ikisine birden tek seferde de ulaşabiliriz."
   ]
  },
  {
   "cell_type": "markdown",
   "metadata": {},
   "source": [
    "### Yaratım"
   ]
  },
  {
   "cell_type": "markdown",
   "metadata": {},
   "source": [
    "#### Klasik"
   ]
  },
  {
   "cell_type": "code",
   "execution_count": 91,
   "metadata": {},
   "outputs": [
    {
     "name": "stdout",
     "output_type": "stream",
     "text": [
      "5 ----------\n",
      "dict_keys(['one', 'two'])\n",
      " \n",
      "6 ----------\n",
      "dict_values(['bir', 'zwei'])\n",
      " \n",
      "7 ----------\n",
      "dict_items([('one', 'bir'), ('two', 'zwei')])\n",
      " \n",
      "bir\n",
      "N/A\n"
     ]
    }
   ],
   "source": [
    "dict_={}\n",
    "dict_[\"one\"]=\"bir\" #add,append, insert gibi bir metodu yok, direkt atanıyor\n",
    "dict_[\"two\"]=\"iki\"\n",
    "dict_[\"two\"]=\"zwei\"\n",
    "printy(dict_.keys())\n",
    "printy(dict_.values())\n",
    "printy(dict_.items())\n",
    "print(dict_[\"one\"])\n",
    "#print(dict_[\"three\"]) # hata alır, almaması için get kullan\n",
    "print(dict_.get(\"three\",\"N/A\"))"
   ]
  },
  {
   "cell_type": "markdown",
   "metadata": {},
   "source": [
    "#### dict metodu ile ikili elemanlardan oluşan bir yapıdan"
   ]
  },
  {
   "cell_type": "markdown",
   "metadata": {},
   "source": [
    "bu ikili yapılar genelde zip veya enumerate olacaktır. bakınız ilgili fonksiyonar."
   ]
  },
  {
   "cell_type": "code",
   "execution_count": 92,
   "metadata": {},
   "outputs": [
    {
     "name": "stdout",
     "output_type": "stream",
     "text": [
      "<class 'dict'>\n"
     ]
    },
    {
     "data": {
      "text/plain": [
       "'bir'"
      ]
     },
     "execution_count": 92,
     "metadata": {},
     "output_type": "execute_result"
    }
   ],
   "source": [
    "tpl=[(\"one\",\"bir\"),(\"two\",\"iki\"),(\"three\",\"üç\")]\n",
    "dict_=dict(tpl)\n",
    "print(type(dict_))\n",
    "dict_[\"one\"]"
   ]
  },
  {
   "cell_type": "markdown",
   "metadata": {},
   "source": [
    "#### comprehension ile"
   ]
  },
  {
   "cell_type": "code",
   "execution_count": 93,
   "metadata": {},
   "outputs": [
    {
     "name": "stdout",
     "output_type": "stream",
     "text": [
      "dict_items([(0, 0), (2, 4), (4, 16), (6, 36), (8, 64)])\n"
     ]
    }
   ],
   "source": [
    "sayılar=list(range(10))\n",
    "ciftlerinkaresi={x: x**2 for x in sayılar if x%2==0}\n",
    "print(ciftlerinkaresi.items())"
   ]
  },
  {
   "cell_type": "markdown",
   "metadata": {},
   "source": [
    "### elemanlarda dolaşma"
   ]
  },
  {
   "cell_type": "code",
   "execution_count": 94,
   "metadata": {},
   "outputs": [
    {
     "name": "stdout",
     "output_type": "stream",
     "text": [
      "0 0\n",
      "2 4\n",
      "4 16\n",
      "6 36\n",
      "8 64\n"
     ]
    }
   ],
   "source": [
    "for k,v in ciftlerinkaresi.items():\n",
    "    print(k,v)"
   ]
  },
  {
   "cell_type": "markdown",
   "metadata": {},
   "source": [
    "### çeşitli metodlar"
   ]
  },
  {
   "cell_type": "code",
   "execution_count": 95,
   "metadata": {},
   "outputs": [
    {
     "ename": "NameError",
     "evalue": "name 'ciftlerinkaresi' is not defined",
     "output_type": "error",
     "traceback": [
      "\u001b[1;31m---------------------------------------------------------------------------\u001b[0m",
      "\u001b[1;31mNameError\u001b[0m                                 Traceback (most recent call last)",
      "\u001b[1;32m<ipython-input-95-5456f308aa21>\u001b[0m in \u001b[0;36m<module>\u001b[1;34m\u001b[0m\n\u001b[0;32m      2\u001b[0m \u001b[0mciftlerinkaresi\u001b[0m\u001b[1;33m.\u001b[0m\u001b[0mitems\u001b[0m\u001b[1;33m(\u001b[0m\u001b[1;33m)\u001b[0m\u001b[1;33m\u001b[0m\u001b[1;33m\u001b[0m\u001b[0m\n\u001b[0;32m      3\u001b[0m \u001b[1;32mdel\u001b[0m \u001b[0mciftlerinkaresi\u001b[0m\u001b[1;33m\u001b[0m\u001b[1;33m\u001b[0m\u001b[0m\n\u001b[1;32m----> 4\u001b[1;33m \u001b[0mciftlerinkaresi\u001b[0m \u001b[1;31m#hata verir, artık bellekten uçtu\u001b[0m\u001b[1;33m\u001b[0m\u001b[1;33m\u001b[0m\u001b[0m\n\u001b[0m",
      "\u001b[1;31mNameError\u001b[0m: name 'ciftlerinkaresi' is not defined"
     ]
    }
   ],
   "source": [
    "ciftlerinkaresi.clear()\n",
    "ciftlerinkaresi.items()\n",
    "del ciftlerinkaresi\n",
    "ciftlerinkaresi #hata verir, artık bellekten uçtu"
   ]
  },
  {
   "cell_type": "markdown",
   "metadata": {},
   "source": [
    "## Set"
   ]
  },
  {
   "cell_type": "markdown",
   "metadata": {},
   "source": [
    "Bunlar da dict gibi sırasızdır. dict gibi {} içinde tanımlanırlar. uniqe değerleri tuatarlar. bir listteki duplikeleri ayırmak ve membership kontrolü için çok kullanılırlar"
   ]
  },
  {
   "cell_type": "code",
   "execution_count": 96,
   "metadata": {},
   "outputs": [
    {
     "data": {
      "text/plain": [
       "{1, 2, 3, 4, 5}"
      ]
     },
     "execution_count": 96,
     "metadata": {},
     "output_type": "execute_result"
    }
   ],
   "source": [
    "liste=[1,1,2,3,4,4,5]\n",
    "set_=set(liste)\n",
    "set_"
   ]
  },
  {
   "cell_type": "code",
   "execution_count": 97,
   "metadata": {
    "scrolled": true
   },
   "outputs": [
    {
     "name": "stdout",
     "output_type": "stream",
     "text": [
      "5 ----------\n",
      "{1, 2, 3, 4, 5} {2, 3, 4} {2, 3, 4, 5, 6}\n",
      " \n",
      "6 ----------\n",
      "----diff\n",
      " \n",
      "7 ----------\n",
      "{1, 5}\n",
      " \n",
      "8 ----------\n",
      "{1}\n",
      " \n",
      "9 ----------\n",
      "set()\n",
      " \n",
      "10 ----------\n",
      "set()\n",
      " \n",
      "11 ----------\n",
      "{6}\n",
      " \n",
      "12 ----------\n",
      "{5, 6}\n",
      " \n",
      "13 ----------\n",
      "- intersection----\n",
      " \n",
      "14 ----------\n",
      "{2, 3, 4}\n",
      " \n",
      "15 ----------\n",
      "{2, 3, 4, 5}\n",
      " \n",
      "16 ----------\n",
      "{2, 3, 4}\n",
      " \n",
      "17 ----------\n",
      "{2, 3, 4}\n",
      " \n",
      "18 ----------\n",
      "{2, 3, 4, 5}\n",
      " \n",
      "19 ----------\n",
      "{2, 3, 4}\n",
      " \n",
      "20 ----------\n",
      "----union---\n",
      " \n",
      "21 ----------\n",
      "{1, 2, 3, 4, 5}\n",
      " \n",
      "22 ----------\n",
      "{1, 2, 3, 4, 5, 6}\n",
      " \n",
      "23 ----------\n",
      "{1, 2, 3, 4, 5}\n",
      " \n",
      "24 ----------\n",
      "{2, 3, 4, 5, 6}\n",
      " \n",
      "25 ----------\n",
      "{1, 2, 3, 4, 5, 6}\n",
      " \n",
      "26 ----------\n",
      "{2, 3, 4, 5, 6}\n",
      " \n"
     ]
    }
   ],
   "source": [
    "set1={1,2,3,4,5}\n",
    "set2={2,3,4}\n",
    "set3={2,3,4,5,6}\n",
    "\n",
    "printy(set1,set2,set3)\n",
    "printy(\"----diff\")\n",
    "printy(set1.difference(set2))\n",
    "printy(set1.difference(set3))\n",
    "printy(set2.difference(set1))\n",
    "printy(set2.difference(set3))\n",
    "printy(set3.difference(set1))\n",
    "printy(set3.difference(set2))\n",
    "printy(\"- intersection----\")\n",
    "printy(set1.intersection(set2))\n",
    "printy(set1.intersection(set3))\n",
    "printy(set2.intersection(set1))\n",
    "printy(set2.intersection(set3))\n",
    "printy(set3.intersection(set1))\n",
    "printy(set3.intersection(set2))\n",
    "printy(\"----union---\")\n",
    "printy(set1.union(set2))\n",
    "printy(set1.union(set3))\n",
    "printy(set2.union(set1))\n",
    "printy(set2.union(set3))\n",
    "printy(set3.union(set1))\n",
    "printy(set3.union(set2))"
   ]
  },
  {
   "cell_type": "markdown",
   "metadata": {},
   "source": [
    "Not: Yukarıdaki altalta aynı hizada olan tüm printy ifadesini tek seferde yapmanın yolu var. ben mesela bunların hepsi print iken printy'yi tek seferde yaptım. Alt tuşuna basarak seçmek. aşağıdaki gibi seçip t tuşuna basarsam tüm ty'ler t olur."
   ]
  },
  {
   "attachments": {
    "image.png": {
     "image/png": "[encoded data removed]"
    }
   },
   "cell_type": "markdown",
   "metadata": {},
   "source": [
    "![image.png](attachment:image.png)"
   ]
  },
  {
   "cell_type": "markdown",
   "metadata": {},
   "source": [
    "## Zip"
   ]
  },
  {
   "cell_type": "code",
   "execution_count": 98,
   "metadata": {},
   "outputs": [],
   "source": [
    "x=[1,2,3]\n",
    "y=[10,20,30]\n",
    "onkatlar=zip(x,y)\n",
    "#print(list(onkatlar)) #yazdırmak için liste çevir. bi kez liste çevirlince artık zip özelliği kalmaz, \n",
    "#o yüzden alttaki blok çalışmaz,o yüzden geçici olarak commentledim. deneyin ve görün"
   ]
  },
  {
   "cell_type": "code",
   "execution_count": 99,
   "metadata": {},
   "outputs": [
    {
     "data": {
      "text/plain": [
       "(1, 2, 3)"
      ]
     },
     "execution_count": 99,
     "metadata": {},
     "output_type": "execute_result"
    }
   ],
   "source": [
    "#tekrar ayırmak için\n",
    "x2, y2 = zip(*onkatlar)\n",
    "x2"
   ]
  },
  {
   "cell_type": "markdown",
   "metadata": {},
   "source": [
    "### Zip vs Dict"
   ]
  },
  {
   "cell_type": "code",
   "execution_count": 100,
   "metadata": {},
   "outputs": [
    {
     "name": "stdout",
     "output_type": "stream",
     "text": [
      "1 10\n",
      "2 20\n",
      "3 30\n"
     ]
    }
   ],
   "source": [
    "a=[1,2,3]\n",
    "b=[10,20,30]\n",
    "c=zip(a,b)\n",
    "for i,j in c:\n",
    "    print(i,j)"
   ]
  },
  {
   "cell_type": "code",
   "execution_count": 101,
   "metadata": {},
   "outputs": [
    {
     "name": "stdout",
     "output_type": "stream",
     "text": [
      "<class 'tuple'>\n"
     ]
    }
   ],
   "source": [
    "a=[1,2,3]\n",
    "b=[10,20,30]\n",
    "c=zip(a,b)\n",
    "print(type(list(c)[0]))\n",
    "dict_=dict(c) #zipten dict üretimi\n",
    "for k,v in dict_.items():\n",
    "    print(k,v)"
   ]
  },
  {
   "cell_type": "markdown",
   "metadata": {},
   "source": [
    "## Listlerle kullanılan önemli fonksiyonlar"
   ]
  },
  {
   "cell_type": "markdown",
   "metadata": {},
   "source": [
    "### Map ve Reduce"
   ]
  },
  {
   "cell_type": "markdown",
   "metadata": {},
   "source": [
    "<b>Map</b>: bir veri yapısındaki elemanları sırayla bir fonksiyona gönderir ve sonuç yine bir veri yapısıdır<br>\n",
    "<b>Reduce</b>: elemanları sırayla gönderir, bir eritme mantığı var, her bir önceki elamnını sonucyla bir sonraki eleman işleme girer"
   ]
  },
  {
   "cell_type": "markdown",
   "metadata": {},
   "source": [
    "#### Map"
   ]
  },
  {
   "cell_type": "code",
   "execution_count": 102,
   "metadata": {},
   "outputs": [
    {
     "data": {
      "text/plain": [
       "[1, 4, 9, 16, 25]"
      ]
     },
     "execution_count": 102,
     "metadata": {},
     "output_type": "execute_result"
    }
   ],
   "source": [
    "items=[1,2,3,4,5]\n",
    "def kareal(sayı):\n",
    "    return sayı**2\n",
    "\n",
    "kareler=map(kareal,items) #lambdalı da olur. map(lambda x: x**2, items)\n",
    "list(kareler) #yazdırmak için liste çevir\n"
   ]
  },
  {
   "cell_type": "code",
   "execution_count": 103,
   "metadata": {},
   "outputs": [
    {
     "name": "stdout",
     "output_type": "stream",
     "text": [
      "1\n",
      "6\n",
      "15\n",
      "28\n",
      "45\n",
      "66\n",
      "91\n",
      "120\n",
      "153\n"
     ]
    }
   ],
   "source": [
    "#birden fazla veri yapısı da girebilir işleme\n",
    "range1=range(1,10)\n",
    "range2=range(1,20,2)\n",
    "\n",
    "mymap=map(lambda x,y:x*y,range1,range2)\n",
    "for i in mymap:\n",
    "    print(i)"
   ]
  },
  {
   "cell_type": "code",
   "execution_count": 104,
   "metadata": {},
   "outputs": [
    {
     "data": {
      "text/plain": [
       "[1, 6, 15, 28, 45, 66, 91, 120, 153]"
      ]
     },
     "execution_count": 104,
     "metadata": {},
     "output_type": "execute_result"
    }
   ],
   "source": [
    "#comprehensionla da yapılabilir.\n",
    "çarpım=[x*y for x,y in zip(range1,range2)]\n",
    "çarpım"
   ]
  },
  {
   "cell_type": "code",
   "execution_count": 105,
   "metadata": {
    "scrolled": true
   },
   "outputs": [
    {
     "data": {
      "text/plain": [
       "['a', 'b', 'c', 'd', 'e', 'f', 'g', 'h', 'i', 'j', 'k', 'l', 'm', 'n', 'o']"
      ]
     },
     "execution_count": 105,
     "metadata": {},
     "output_type": "execute_result"
    }
   ],
   "source": [
    "harfler=map(chr,range(97,112))\n",
    "list(harfler)"
   ]
  },
  {
   "cell_type": "code",
   "execution_count": 106,
   "metadata": {},
   "outputs": [
    {
     "data": {
      "text/plain": [
       "['a', 'b', 'c', 'd', 'e', 'f', 'g', 'h', 'i', 'j', 'k', 'l', 'm', 'n', 'o']"
      ]
     },
     "execution_count": 106,
     "metadata": {},
     "output_type": "execute_result"
    }
   ],
   "source": [
    "harfler2=[chr(x) for x in range(97,112)]\n",
    "harfler2"
   ]
  },
  {
   "cell_type": "markdown",
   "metadata": {},
   "source": [
    "#### Reduce"
   ]
  },
  {
   "cell_type": "code",
   "execution_count": 107,
   "metadata": {},
   "outputs": [
    {
     "data": {
      "text/plain": [
       "362880"
      ]
     },
     "execution_count": 107,
     "metadata": {},
     "output_type": "execute_result"
    }
   ],
   "source": [
    "from functools import reduce\n",
    "def faktoriyel(sayı1,sayı2):\n",
    "    return sayı1*sayı2\n",
    "\n",
    "sayılar=range(1,10)\n",
    "fakt=reduce(faktoriyel,sayılar)\n",
    "fakt"
   ]
  },
  {
   "cell_type": "markdown",
   "metadata": {},
   "source": [
    "### Enumerate"
   ]
  },
  {
   "cell_type": "code",
   "execution_count": 108,
   "metadata": {},
   "outputs": [
    {
     "name": "stdout",
     "output_type": "stream",
     "text": [
      "[(1, 'Ocak'), (2, 'Şubat'), (3, 'Mart')]\n",
      "1 Ocak\n",
      "2 Şubat\n",
      "3 Mart\n"
     ]
    }
   ],
   "source": [
    "aylar=[\"Ocak\",\"Şubat\",\"Mart\"]\n",
    "print(list(enumerate(aylar,start=1)))\n",
    "dict_=dict(enumerate(aylar,start=1))\n",
    "for k,v in dict_.items():\n",
    "    print(k,v)"
   ]
  },
  {
   "cell_type": "markdown",
   "metadata": {},
   "source": [
    "### All ve Any"
   ]
  },
  {
   "cell_type": "code",
   "execution_count": 109,
   "metadata": {},
   "outputs": [
    {
     "name": "stdout",
     "output_type": "stream",
     "text": [
      "False\n",
      "True\n",
      "True\n"
     ]
    }
   ],
   "source": [
    "liste1=[True,True,False]\n",
    "liste2=[True,True,True]\n",
    "print(all(liste1))\n",
    "print(any(liste1))\n",
    "print(all(liste2))"
   ]
  },
  {
   "cell_type": "markdown",
   "metadata": {},
   "source": [
    "# Date Time işlemleri"
   ]
  },
  {
   "cell_type": "markdown",
   "metadata": {},
   "source": [
    "## Modüller ve üyeleri"
   ]
  },
  {
   "cell_type": "code",
   "execution_count": 110,
   "metadata": {},
   "outputs": [],
   "source": [
    "import datetime as dt\n",
    "import time as t\n",
    "import timeit as tit\n",
    "import dateutil as du\n",
    "#import timer as tr #bu threadlerle ilgili kullanma, settimer ve killtimer var"
   ]
  },
  {
   "cell_type": "markdown",
   "metadata": {},
   "source": [
    "### datetime"
   ]
  },
  {
   "cell_type": "code",
   "execution_count": 111,
   "metadata": {},
   "outputs": [
    {
     "name": "stdout",
     "output_type": "stream",
     "text": [
      "['MAXYEAR', 'MINYEAR', 'date', 'datetime', 'datetime_CAPI', 'sys', 'time', 'timedelta', 'timezone', 'tzinfo']\n"
     ]
    }
   ],
   "source": [
    "print([i for i in dir(dt) if not \"__\" in i])"
   ]
  },
  {
   "cell_type": "code",
   "execution_count": 112,
   "metadata": {},
   "outputs": [
    {
     "name": "stdout",
     "output_type": "stream",
     "text": [
      "2020-01-16 20:44:06.031080\n",
      "20\n",
      "2020-01-16\n",
      "2020\n",
      "2019-04-03\n"
     ]
    }
   ],
   "source": [
    "print(dt.datetime.now())\n",
    "print(dt.datetime.now().hour) #saliseden yıla kadar hepsi elde edilebilir\n",
    "print(dt.date.today())\n",
    "print(dt.date.today().year)\n",
    "print(dt.date(2019,4,3))"
   ]
  },
  {
   "cell_type": "markdown",
   "metadata": {},
   "source": [
    "### time (süre ölçümlerinde bunu kullancaz, bundaki time metodunu)"
   ]
  },
  {
   "cell_type": "code",
   "execution_count": 113,
   "metadata": {},
   "outputs": [
    {
     "name": "stdout",
     "output_type": "stream",
     "text": [
      "['_STRUCT_TM_ITEMS', 'altzone', 'asctime', 'clock', 'ctime', 'daylight', 'get_clock_info', 'gmtime', 'localtime', 'mktime', 'monotonic', 'monotonic_ns', 'perf_counter', 'perf_counter_ns', 'process_time', 'process_time_ns', 'sleep', 'strftime', 'strptime', 'struct_time', 'thread_time', 'thread_time_ns', 'time', 'time_ns', 'timezone', 'tzname']\n"
     ]
    }
   ],
   "source": [
    "print([i for i in dir(t) if not \"__\" in i])"
   ]
  },
  {
   "cell_type": "code",
   "execution_count": 114,
   "metadata": {},
   "outputs": [
    {
     "name": "stdout",
     "output_type": "stream",
     "text": [
      "['Timer', '_globals', 'default_number', 'default_repeat', 'default_timer', 'dummy_src_name', 'gc', 'itertools', 'main', 'reindent', 'repeat', 'sys', 'template', 'time', 'timeit']\n"
     ]
    }
   ],
   "source": [
    "print([i for i in dir(tit) if not \"__\" in i])"
   ]
  },
  {
   "cell_type": "markdown",
   "metadata": {},
   "source": [
    "### dateutil"
   ]
  },
  {
   "cell_type": "code",
   "execution_count": 115,
   "metadata": {},
   "outputs": [
    {
     "name": "stdout",
     "output_type": "stream",
     "text": [
      "['_common', '_version', 'parser', 'relativedelta', 'tz']\n"
     ]
    }
   ],
   "source": [
    "print([i for i in dir(du) if not \"__\" in i])"
   ]
  },
  {
   "cell_type": "markdown",
   "metadata": {},
   "source": [
    "## Süre ölçümü"
   ]
  },
  {
   "cell_type": "markdown",
   "metadata": {},
   "source": [
    "### Performans amaçlı süre ölçümü(sonuçtan bağımsız)"
   ]
  },
  {
   "cell_type": "markdown",
   "metadata": {},
   "source": [
    "%'li olanı bir fonksiyon takip eder, %%'li kullanımda ise alt satırdan yazarsın. Time olan tek seferlik run'ın süresini verirken timeit onlarca kez çalıştırıp ortalama süre verir"
   ]
  },
  {
   "cell_type": "code",
   "execution_count": 116,
   "metadata": {},
   "outputs": [
    {
     "name": "stdout",
     "output_type": "stream",
     "text": [
      "78.9 ms ± 3.45 ms per loop (mean ± std. dev. of 7 runs, 10 loops each)\n"
     ]
    }
   ],
   "source": [
    "%%timeit\n",
    "x=sum(range(1000000))"
   ]
  },
  {
   "cell_type": "code",
   "execution_count": 117,
   "metadata": {},
   "outputs": [
    {
     "name": "stdout",
     "output_type": "stream",
     "text": [
      "Wall time: 94.7 ms\n"
     ]
    }
   ],
   "source": [
    "%%time\n",
    "x=sum(range(1000000))"
   ]
  },
  {
   "cell_type": "code",
   "execution_count": 118,
   "metadata": {},
   "outputs": [
    {
     "name": "stdout",
     "output_type": "stream",
     "text": [
      "75.6 ms ± 1.4 ms per loop (mean ± std. dev. of 7 runs, 10 loops each)\n"
     ]
    }
   ],
   "source": [
    "def hesapla():    \n",
    "    y=sum(range(1000000))\n",
    "    \n",
    "%timeit hesapla()"
   ]
  },
  {
   "cell_type": "markdown",
   "metadata": {},
   "source": [
    "### Süreyle birlikte sonuç görme"
   ]
  },
  {
   "cell_type": "code",
   "execution_count": 119,
   "metadata": {},
   "outputs": [],
   "source": [
    "#tit.Timer(hesapla).timeit() uzun sürüyo ve bitmiyo ??"
   ]
  },
  {
   "cell_type": "code",
   "execution_count": 120,
   "metadata": {},
   "outputs": [
    {
     "name": "stdout",
     "output_type": "stream",
     "text": [
      "hey\n",
      "süre:0.07879209518432617\n"
     ]
    }
   ],
   "source": [
    "bas=t.time()\n",
    "print(\"hey\")\n",
    "hesapla()\n",
    "bit=t.time()\n",
    "print(\"süre:{}\".format(bit-bas))"
   ]
  },
  {
   "cell_type": "markdown",
   "metadata": {},
   "source": [
    "# Önemli bazı modüller"
   ]
  },
  {
   "cell_type": "markdown",
   "metadata": {},
   "source": [
    "Aşağıda önemli olduğunu düşündüğükm bazı modülleri bulacaksınız. "
   ]
  },
  {
   "cell_type": "markdown",
   "metadata": {},
   "source": [
    "Şuan bu açıklamayı okuyorsanız demekki bazı şeyler eksiktir. Siz bu eksikliği kendiniz araştırarak telafi edebilirsiniz. Bunları fırsat buldukça tamamlayacağım."
   ]
  },
  {
   "cell_type": "raw",
   "metadata": {},
   "source": [
    "collections, itertools, functools, bisect and io\n",
    "math, random, and sys\n",
    "Beautifulsoup \n",
    "sqlachemy\n",
    "Requests \n",
    "parse\n",
    "re\n",
    "functools\n",
    "Dateutil \n",
    "Ipdb – like the built in debugger pdb, but nicer. Stack traces are also prettier (printed in color), and contains more information, when Ipdb is importet."
   ]
  },
  {
   "cell_type": "markdown",
   "metadata": {},
   "source": [
    "## os "
   ]
  },
  {
   "cell_type": "markdown",
   "metadata": {},
   "source": [
    "İşletim sisteminden bağımsız çalışacak bir koda(dosyalama sistemi v.s ile ilgili) ihtiyacımız olduğunda os modülünü kullanırız."
   ]
  },
  {
   "cell_type": "markdown",
   "metadata": {},
   "source": [
    "### Klasör ve dosya işlemleri "
   ]
  },
  {
   "cell_type": "code",
   "execution_count": 121,
   "metadata": {},
   "outputs": [
    {
     "name": "stdout",
     "output_type": "stream",
     "text": [
      "E:\\OneDrive\\Uygulama Geliştirme\n",
      ".\n"
     ]
    }
   ],
   "source": [
    "import os\n",
    "print(os.getcwd()) #o anki aktif folder\n",
    "print(os.curdir) #mevcut dizini temsil eden karakter, genelde bu . oluyor"
   ]
  },
  {
   "cell_type": "code",
   "execution_count": 122,
   "metadata": {},
   "outputs": [],
   "source": [
    "os.chdir(r\"C:\\Users\\volka\\Documents\\GitHub\\PythonRocks\") #aktif klasörü değiştiriyoruz"
   ]
  },
  {
   "cell_type": "code",
   "execution_count": 123,
   "metadata": {},
   "outputs": [
    {
     "data": {
      "text/plain": [
       "'..'"
      ]
     },
     "execution_count": 123,
     "metadata": {},
     "output_type": "execute_result"
    }
   ],
   "source": [
    "os.pardir #parent klasörü temsil eden karakter"
   ]
  },
  {
   "cell_type": "code",
   "execution_count": 124,
   "metadata": {
    "scrolled": true
   },
   "outputs": [
    {
     "data": {
      "text/plain": [
       "['.git',\n",
       " '.gitattributes',\n",
       " '.gitignore',\n",
       " '.ipynb_checkpoints',\n",
       " 'abc.txt',\n",
       " 'cheatsheet.png',\n",
       " 'LICENSE',\n",
       " 'Python Genel.ipynb',\n",
       " 'Python ile Veri Analizi.ipynb',\n",
       " 'test.txt',\n",
       " 'utility.py',\n",
       " '__pycache__']"
      ]
     },
     "execution_count": 124,
     "metadata": {},
     "output_type": "execute_result"
    }
   ],
   "source": [
    "os.listdir() #o anki aktif folderdaki dosyaları lsiteler"
   ]
  },
  {
   "cell_type": "code",
   "execution_count": 125,
   "metadata": {},
   "outputs": [
    {
     "data": {
      "text/plain": [
       "['.ipynb_checkpoints',\n",
       " '.tmp.drivedownload',\n",
       " '.vscode',\n",
       " 'dataset',\n",
       " 'ileri analitik r',\n",
       " 'MLDL_AlperVolkan',\n",
       " 'MyJupyterNotebooks',\n",
       " 'Python py files',\n",
       " 'PythonRocks',\n",
       " 'Untitled.ipynb']"
      ]
     },
     "execution_count": 125,
     "metadata": {},
     "output_type": "execute_result"
    }
   ],
   "source": [
    "os.listdir(os.pardir)"
   ]
  },
  {
   "cell_type": "code",
   "execution_count": 126,
   "metadata": {},
   "outputs": [
    {
     "data": {
      "text/plain": [
       "True"
      ]
     },
     "execution_count": 126,
     "metadata": {},
     "output_type": "execute_result"
    }
   ],
   "source": [
    "os.path.exists('Python Genel.ipynb') #bir dosya/klasör mevcut mu"
   ]
  },
  {
   "cell_type": "code",
   "execution_count": 127,
   "metadata": {},
   "outputs": [
    {
     "data": {
      "text/plain": [
       "False"
      ]
     },
     "execution_count": 127,
     "metadata": {},
     "output_type": "execute_result"
    }
   ],
   "source": [
    "os.path.isfile('olmayandosya.txt') #parametredeki bir dosya mı? veya bir dosya mevcut mu anlamında da kullanılabilir."
   ]
  },
  {
   "cell_type": "code",
   "execution_count": 128,
   "metadata": {},
   "outputs": [
    {
     "data": {
      "text/plain": [
       "False"
      ]
     },
     "execution_count": 128,
     "metadata": {},
     "output_type": "execute_result"
    }
   ],
   "source": [
    "os.path.isdir(\"klasor\")"
   ]
  },
  {
   "cell_type": "code",
   "execution_count": 129,
   "metadata": {},
   "outputs": [
    {
     "name": "stdout",
     "output_type": "stream",
     "text": [
      "['.gitattributes', '.gitignore', 'abc.txt', 'cheatsheet.png', 'LICENSE', 'Python Genel.ipynb', 'Python ile Veri Analizi.ipynb', 'test.txt', 'utility.py']\n"
     ]
    }
   ],
   "source": [
    "# list all files in a directory in Python.\n",
    "from os import listdir\n",
    "from os.path import isfile, join\n",
    "p=os.getcwd()\n",
    "files_list = [f for f in listdir(p) if isfile(join(p, f))]\n",
    "print(files_list);"
   ]
  },
  {
   "cell_type": "code",
   "execution_count": 130,
   "metadata": {
    "scrolled": true
   },
   "outputs": [
    {
     "name": "stdout",
     "output_type": "stream",
     "text": [
      "E:\\OneDrive\\udemy dosyaları\\vba2\\FSO Örnek\n",
      "E:\\OneDrive\\udemy dosyaları\\vba2\\FSO Örnek\\a\n",
      "E:\\OneDrive\\udemy dosyaları\\vba2\\FSO Örnek\\a\\a1\n",
      "E:\\OneDrive\\udemy dosyaları\\vba2\\FSO Örnek\\a\\a1\\a11\n",
      "E:\\OneDrive\\udemy dosyaları\\vba2\\FSO Örnek\\a\\a1\\a12\n",
      "E:\\OneDrive\\udemy dosyaları\\vba2\\FSO Örnek\\a\\a2\n",
      "E:\\OneDrive\\udemy dosyaları\\vba2\\FSO Örnek\\a\\Yeni klasör\n",
      "E:\\OneDrive\\udemy dosyaları\\vba2\\FSO Örnek\\b\n",
      "E:\\OneDrive\\udemy dosyaları\\vba2\\FSO Örnek\\b\\b1\n",
      "E:\\OneDrive\\udemy dosyaları\\vba2\\FSO Örnek\\c\n"
     ]
    }
   ],
   "source": [
    "dizin= r\"E:\\OneDrive\\udemy dosyaları\\vba2\\FSO Örnek\"\n",
    "for kökdizin, altdizinler, dosyalar in os.walk(dizin):\n",
    "    print(kökdizin)"
   ]
  },
  {
   "cell_type": "code",
   "execution_count": 131,
   "metadata": {},
   "outputs": [
    {
     "name": "stdout",
     "output_type": "stream",
     "text": [
      "E:\\OneDrive\\udemy dosyaları\\vba2\\FSO Örnek\\mevcut klasör yeni.txt\n",
      "E:\\OneDrive\\udemy dosyaları\\vba2\\FSO Örnek\\roo1.txt\n",
      "E:\\OneDrive\\udemy dosyaları\\vba2\\FSO Örnek\\roo2.txt\n",
      "E:\\OneDrive\\udemy dosyaları\\vba2\\FSO Örnek\\a\\a_roo1.accdb\n",
      "E:\\OneDrive\\udemy dosyaları\\vba2\\FSO Örnek\\a\\a_roo2.pptx\n",
      "E:\\OneDrive\\udemy dosyaları\\vba2\\FSO Örnek\\a\\mevcutyeni2.txt\n",
      "E:\\OneDrive\\udemy dosyaları\\vba2\\FSO Örnek\\a\\a1\\a1_roo1.pub\n",
      "E:\\OneDrive\\udemy dosyaları\\vba2\\FSO Örnek\\a\\a1\\a11\\a11_1.bmp\n",
      "E:\\OneDrive\\udemy dosyaları\\vba2\\FSO Örnek\\a\\a1\\a11\\a11_2.xlsx\n",
      "E:\\OneDrive\\udemy dosyaları\\vba2\\FSO Örnek\\a\\a1\\a12\\a12_1.txt\n",
      "E:\\OneDrive\\udemy dosyaları\\vba2\\FSO Örnek\\a\\a2\\a2_.txt\n",
      "E:\\OneDrive\\udemy dosyaları\\vba2\\FSO Örnek\\a\\a2\\a2_2.accdb\n",
      "E:\\OneDrive\\udemy dosyaları\\vba2\\FSO Örnek\\a\\a2\\a2_3.docx\n",
      "E:\\OneDrive\\udemy dosyaları\\vba2\\FSO Örnek\\a\\Yeni klasör\\yeniklasörde.txt\n",
      "E:\\OneDrive\\udemy dosyaları\\vba2\\FSO Örnek\\b\\b_roo1.txt\n",
      "E:\\OneDrive\\udemy dosyaları\\vba2\\FSO Örnek\\b\\b_roo2.xlsx\n",
      "E:\\OneDrive\\udemy dosyaları\\vba2\\FSO Örnek\\b\\b1\\b1_1.bmp\n",
      "E:\\OneDrive\\udemy dosyaları\\vba2\\FSO Örnek\\b\\b1\\b1_2.txt\n",
      "E:\\OneDrive\\udemy dosyaları\\vba2\\FSO Örnek\\b\\b1\\b1_3.pptx\n",
      "E:\\OneDrive\\udemy dosyaları\\vba2\\FSO Örnek\\c\\c_1.bmp\n",
      "E:\\OneDrive\\udemy dosyaları\\vba2\\FSO Örnek\\c\\c_2.txt\n"
     ]
    }
   ],
   "source": [
    "for kökdizin, altdizinler, dosyalar in os.walk(dizin):\n",
    "    for dosya in dosyalar:\n",
    "        print(os.sep.join([kökdizin, dosya]))"
   ]
  },
  {
   "cell_type": "code",
   "execution_count": 132,
   "metadata": {
    "scrolled": true
   },
   "outputs": [
    {
     "name": "stdout",
     "output_type": "stream",
     "text": [
      "Last modified: 1579164058.249096\n",
      "Created: Thu Jan 16 11:40:54 2020\n"
     ]
    }
   ],
   "source": [
    "import os.path, time, datetime\n",
    "print(\"Last modified: %s\" % os.path.getmtime(\"abc.txt\")) #formatlanmamış\n",
    "print(\"Created: %s\" % time.ctime(os.path.getctime(\"abc.txt\")))"
   ]
  },
  {
   "cell_type": "code",
   "execution_count": 133,
   "metadata": {},
   "outputs": [],
   "source": [
    "os.startfile('calc.exe') #dosya açar, program başaltır, internet sitesine gider v.s"
   ]
  },
  {
   "cell_type": "code",
   "execution_count": 134,
   "metadata": {},
   "outputs": [],
   "source": [
    "os.startfile(r'E:\\OneDrive\\Uygulama Geliştirme\\PDF dokümantasyon\\AI & DS\\Pandas & EDA & ML\\pandas.pdf')"
   ]
  },
  {
   "cell_type": "code",
   "execution_count": 135,
   "metadata": {},
   "outputs": [],
   "source": [
    "os.startfile(\"www.volkanyurtseven.com\")"
   ]
  },
  {
   "cell_type": "markdown",
   "metadata": {},
   "source": [
    "### Sistem ve Environment bilgileri"
   ]
  },
  {
   "cell_type": "code",
   "execution_count": 136,
   "metadata": {
    "scrolled": true
   },
   "outputs": [
    {
     "name": "stdout",
     "output_type": "stream",
     "text": [
      "nt\n",
      "Windows\n",
      "10\n"
     ]
    }
   ],
   "source": [
    "import platform, os\n",
    "print(os.name)\n",
    "print(platform.system())\n",
    "print(platform.release())"
   ]
  },
  {
   "cell_type": "code",
   "execution_count": 137,
   "metadata": {},
   "outputs": [
    {
     "data": {
      "text/plain": [
       "{'ALLUSERSPROFILE': 'C:\\\\ProgramData',\n",
       " 'APPDATA': 'C:\\\\Users\\\\volka\\\\AppData\\\\Roaming',\n",
       " 'COMMONPROGRAMFILES': 'C:\\\\Program Files\\\\Common Files',\n",
       " 'COMMONPROGRAMFILES(X86)': 'C:\\\\Program Files (x86)\\\\Common Files',\n",
       " 'COMMONPROGRAMW6432': 'C:\\\\Program Files\\\\Common Files',\n",
       " 'COMPUTERNAME': 'YENILENOVO',\n",
       " 'COMSPEC': 'C:\\\\Windows\\\\system32\\\\cmd.exe',\n",
       " 'DRIVERDATA': 'C:\\\\Windows\\\\System32\\\\Drivers\\\\DriverData',\n",
       " 'FPS_BROWSER_APP_PROFILE_STRING': 'Internet Explorer',\n",
       " 'FPS_BROWSER_USER_PROFILE_STRING': 'Default',\n",
       " 'HOMEDRIVE': 'C:',\n",
       " 'HOMEPATH': '\\\\Users\\\\volka',\n",
       " 'LOCALAPPDATA': 'C:\\\\Users\\\\volka\\\\AppData\\\\Local',\n",
       " 'LOGONSERVER': '\\\\\\\\YENILENOVO',\n",
       " 'NUMBER_OF_PROCESSORS': '8',\n",
       " 'ONEDRIVE': 'E:\\\\OneDrive',\n",
       " 'ONEDRIVECONSUMER': 'E:\\\\OneDrive',\n",
       " 'OS': 'Windows_NT',\n",
       " 'PATH': 'C:\\\\Users\\\\volka\\\\Anaconda3;C:\\\\Users\\\\volka\\\\Anaconda3\\\\Library\\\\mingw-w64\\\\bin;C:\\\\Users\\\\volka\\\\Anaconda3\\\\Library\\\\usr\\\\bin;C:\\\\Users\\\\volka\\\\Anaconda3\\\\Library\\\\bin;C:\\\\Users\\\\volka\\\\Anaconda3\\\\Scripts;C:\\\\Windows\\\\system32;C:\\\\Windows;C:\\\\Windows\\\\System32\\\\Wbem;C:\\\\Windows\\\\System32\\\\WindowsPowerShell\\\\v1.0\\\\;C:\\\\Windows\\\\System32\\\\OpenSSH\\\\;C:\\\\Program Files\\\\dotnet\\\\;C:\\\\Program Files\\\\Microsoft SQL Server\\\\130\\\\Tools\\\\Binn\\\\;C:\\\\Program Files\\\\Microsoft SQL Server\\\\Client SDK\\\\ODBC\\\\170\\\\Tools\\\\Binn\\\\;C:\\\\Program Files (x86)\\\\LINQPad5;C:\\\\Program Files (x86)\\\\Microsoft SQL Server\\\\150\\\\DTS\\\\Binn\\\\;E:\\\\Program Files\\\\Brackets\\\\command;C:\\\\Users\\\\volka\\\\AppData\\\\Local\\\\Microsoft\\\\WindowsApps;C:\\\\Users\\\\volka\\\\AppData\\\\Local\\\\GitHubDesktop\\\\bin;C:\\\\Users\\\\volka\\\\AppData\\\\Local\\\\Programs\\\\Microsoft VS Code\\\\bin;C:\\\\Users\\\\volka\\\\.dotnet\\\\tools;C:\\\\Users\\\\volka\\\\Anaconda3\\\\lib\\\\site-packages\\\\numpy\\\\.libs',\n",
       " 'PATHEXT': '.COM;.EXE;.BAT;.CMD;.VBS;.VBE;.JS;.JSE;.WSF;.WSH;.MSC',\n",
       " 'PROCESSOR_ARCHITECTURE': 'AMD64',\n",
       " 'PROCESSOR_IDENTIFIER': 'Intel64 Family 6 Model 142 Stepping 10, GenuineIntel',\n",
       " 'PROCESSOR_LEVEL': '6',\n",
       " 'PROCESSOR_REVISION': '8e0a',\n",
       " 'PROGRAMDATA': 'C:\\\\ProgramData',\n",
       " 'PROGRAMFILES': 'C:\\\\Program Files',\n",
       " 'PROGRAMFILES(X86)': 'C:\\\\Program Files (x86)',\n",
       " 'PROGRAMW6432': 'C:\\\\Program Files',\n",
       " 'PSMODULEPATH': 'C:\\\\Program Files\\\\WindowsPowerShell\\\\Modules;C:\\\\Windows\\\\system32\\\\WindowsPowerShell\\\\v1.0\\\\Modules',\n",
       " 'PUBLIC': 'C:\\\\Users\\\\Public',\n",
       " 'SESSIONNAME': 'Console',\n",
       " 'SYSTEMDRIVE': 'C:',\n",
       " 'SYSTEMROOT': 'C:\\\\Windows',\n",
       " 'TEMP': 'C:\\\\Users\\\\volka\\\\AppData\\\\Local\\\\Temp',\n",
       " 'TMP': 'C:\\\\Users\\\\volka\\\\AppData\\\\Local\\\\Temp',\n",
       " 'USERDOMAIN': 'YENILENOVO',\n",
       " 'USERDOMAIN_ROAMINGPROFILE': 'YENILENOVO',\n",
       " 'USERNAME': 'volka',\n",
       " 'USERPROFILE': 'C:\\\\Users\\\\volka',\n",
       " 'WINDIR': 'C:\\\\Windows',\n",
       " 'CONDA_PREFIX': 'C:\\\\Users\\\\volka\\\\Anaconda3',\n",
       " 'JPY_INTERRUPT_EVENT': '2692',\n",
       " 'IPY_INTERRUPT_EVENT': '2692',\n",
       " 'JPY_PARENT_PID': '2460',\n",
       " 'TERM': 'xterm-color',\n",
       " 'CLICOLOR': '1',\n",
       " 'PAGER': 'cat',\n",
       " 'GIT_PAGER': 'cat',\n",
       " 'MPLBACKEND': 'module://ipykernel.pylab.backend_inline'}"
      ]
     },
     "execution_count": 137,
     "metadata": {},
     "output_type": "execute_result"
    }
   ],
   "source": [
    "dict(os.environ)"
   ]
  },
  {
   "cell_type": "code",
   "execution_count": 138,
   "metadata": {},
   "outputs": [
    {
     "name": "stdout",
     "output_type": "stream",
     "text": [
      "\\Users\\volka\n",
      "volka\n"
     ]
    }
   ],
   "source": [
    "print(dict(os.environ)[\"HOMEPATH\"])\n",
    "print(dict(os.environ)[\"USERNAME\"])"
   ]
  },
  {
   "cell_type": "code",
   "execution_count": 139,
   "metadata": {},
   "outputs": [
    {
     "data": {
      "text/plain": [
       "'C:\\\\Users\\\\volka'"
      ]
     },
     "execution_count": 139,
     "metadata": {},
     "output_type": "execute_result"
    }
   ],
   "source": [
    "os.path.expanduser('~')"
   ]
  },
  {
   "cell_type": "markdown",
   "metadata": {},
   "source": [
    "## random "
   ]
  },
  {
   "cell_type": "code",
   "execution_count": 140,
   "metadata": {},
   "outputs": [
    {
     "name": "stdout",
     "output_type": "stream",
     "text": [
      "10\n",
      "13\n",
      "8\n",
      "0.11791870367106105\n",
      "4.282887334737727\n",
      "[3, 1]\n"
     ]
    }
   ],
   "source": [
    "import random\n",
    "dizi=[3,5,8,3,2,1,9]\n",
    "random.seed(1)\n",
    "print(random.randint(2,48)) #2 ile 48 arasında\n",
    "print(random.randrange(1,100,3))\n",
    "print(random.choice(dizi))\n",
    "print(random.random()) #0-1 arası\n",
    "print(random.uniform(2,5)) #2-5 arası küsurlu sayı\n",
    "print(random.sample(dizi,2))"
   ]
  },
  {
   "cell_type": "code",
   "execution_count": 141,
   "metadata": {},
   "outputs": [
    {
     "data": {
      "text/plain": [
       "[8, 1, 2, 9, 3, 5, 3]"
      ]
     },
     "execution_count": 141,
     "metadata": {},
     "output_type": "execute_result"
    }
   ],
   "source": [
    "#liste karıştırmak\n",
    "random.shuffle(dizi)\n",
    "dizi"
   ]
  },
  {
   "cell_type": "markdown",
   "metadata": {},
   "source": [
    "## array"
   ]
  },
  {
   "cell_type": "markdown",
   "metadata": {},
   "source": [
    "listin hemen hemen aynısı olup önemli bir farkı, içine sadece belli tipte eleman almasıdır. Bu yüzden memory performansı  açısından liste göre daha iyidir.ancak list'ler daha hızlıdır. Ayrıca sayısal bir dizi kullanacaksanız numpy kullanmanızı tavsiye ederim. Bunun dışıdna çok büyük metinsel diziler oluşturacaksanız array kullanabilirsinz."
   ]
  },
  {
   "cell_type": "code",
   "execution_count": 142,
   "metadata": {},
   "outputs": [
    {
     "name": "stdout",
     "output_type": "stream",
     "text": [
      "76 88\n"
     ]
    }
   ],
   "source": [
    "from array import array\n",
    "import sys\n",
    "arr=array('i',[1,2,3])\n",
    "lst=[1,2,3]\n",
    "print(sys.getsizeof(arr),sys.getsizeof(lst)) #arr'ın memory kullanımı daha düşüktür"
   ]
  },
  {
   "cell_type": "markdown",
   "metadata": {},
   "source": [
    "## collections"
   ]
  },
  {
   "cell_type": "code",
   "execution_count": 143,
   "metadata": {},
   "outputs": [
    {
     "name": "stdout",
     "output_type": "stream",
     "text": [
      "Counter({'b': 3, 'c': 3, 'a': 2, 'e': 1})\n",
      "2\n"
     ]
    }
   ],
   "source": [
    "from collections import Counter\n",
    "my_list = [\"a\",\"b\",\"c\",\"c\",\"e\",\"c\",\"b\",\"b\",\"a\"]\n",
    "cn = Counter(my_list) #dictionary benzeri bir yapı. tüm dictionary metodları kullanılabilir\n",
    "print(cn)\n",
    "print(cn[\"a\"]) #4ten kaç tane"
   ]
  },
  {
   "cell_type": "code",
   "execution_count": 144,
   "metadata": {},
   "outputs": [
    {
     "data": {
      "text/plain": [
       "Counter({'sen': 3, 'seni': 2, 'bil': 1, 'bilmezsen': 1, 'kendini': 1})"
      ]
     },
     "execution_count": 144,
     "metadata": {},
     "output_type": "execute_result"
    }
   ],
   "source": [
    "str_ = \"sen seni bil sen seni sen bilmezsen kendini\"\n",
    "cn = Counter(str_.split(' '))\n",
    "cn"
   ]
  },
  {
   "cell_type": "code",
   "execution_count": 145,
   "metadata": {},
   "outputs": [
    {
     "name": "stdout",
     "output_type": "stream",
     "text": [
      "[('sen', 3), ('seni', 2)]\n",
      "['sen', 'seni', 'bil', 'bilmezsen', 'kendini']\n",
      "{'sen': 3, 'seni': 2, 'bil': 1, 'bilmezsen': 1, 'kendini': 1}\n"
     ]
    }
   ],
   "source": [
    "print(cn.most_common(2)) #en çok kullanılan 2 kelime\n",
    "print(list(cn)) #key değerlerinin listeye çevrilmiş hali\n",
    "print(dict(cn)) #key-value değerlerinin sözlüğe çevrilmiş hali"
   ]
  },
  {
   "cell_type": "code",
   "execution_count": 146,
   "metadata": {},
   "outputs": [
    {
     "name": "stdout",
     "output_type": "stream",
     "text": [
      "a 4\n",
      "c 3\n",
      "b 2\n",
      "----\n",
      "a 4\n",
      "c 3\n",
      "b 2\n"
     ]
    }
   ],
   "source": [
    "#OrderDict'e artık ihtiyaç yoktur. Python 3.7den itibaren de dictioanryye girilen sırayı korumaktadır\n",
    "#aşağıdaki örnekten de görebiliyoruz\n",
    "from collections import OrderedDict \n",
    "liste = [\"a\",\"c\",\"c\",\"a\",\"b\",\"a\",\"a\",\"b\",\"c\"]\n",
    "cnt = Counter(liste)\n",
    "od = OrderedDict(cnt.most_common())\n",
    "d=dict(cnt.most_common())\n",
    "for key, value in od.items():\n",
    "    print(key, value)\n",
    "print(\"----\")\n",
    "for key, value in d.items():\n",
    "    print(key, value)"
   ]
  },
  {
   "cell_type": "code",
   "execution_count": 147,
   "metadata": {},
   "outputs": [
    {
     "name": "stdout",
     "output_type": "stream",
     "text": [
      "John\n"
     ]
    }
   ],
   "source": [
    "from collections import namedtuple\n",
    "\n",
    "Student = namedtuple('Student', 'fname, lname, age') #class yapısına benzer bir kullanım. indeks ezberlemeye son!\n",
    "s1 = Student('John', 'Clarke', '13')\n",
    "print(s1.fname)"
   ]
  },
  {
   "cell_type": "markdown",
   "metadata": {},
   "source": [
    "## itertools"
   ]
  },
  {
   "cell_type": "markdown",
   "metadata": {},
   "source": [
    "### Permütasyon"
   ]
  },
  {
   "cell_type": "code",
   "execution_count": 148,
   "metadata": {},
   "outputs": [
    {
     "name": "stdout",
     "output_type": "stream",
     "text": [
      "[('A', 'B', 'C'), ('A', 'C', 'B'), ('B', 'A', 'C'), ('B', 'C', 'A'), ('C', 'A', 'B'), ('C', 'B', 'A')]\n",
      "[('A', 'B'), ('A', 'C'), ('B', 'A'), ('B', 'C'), ('C', 'A'), ('C', 'B')]\n"
     ]
    }
   ],
   "source": [
    "from itertools import permutations #sadece tekrarsızlar yapılabiliyor. n!/(n-r)!\n",
    "liste=[\"A\",\"B\",\"C\"]\n",
    "per1=list(permutations(liste))\n",
    "per2=list(permutations(liste,2))\n",
    "print(per1)\n",
    "print(per2)"
   ]
  },
  {
   "cell_type": "markdown",
   "metadata": {},
   "source": [
    "### Kombinasyon"
   ]
  },
  {
   "cell_type": "code",
   "execution_count": 149,
   "metadata": {},
   "outputs": [
    {
     "data": {
      "text/plain": [
       "[('A', 'B'), ('A', 'C'), ('B', 'C')]"
      ]
     },
     "execution_count": 149,
     "metadata": {},
     "output_type": "execute_result"
    }
   ],
   "source": [
    "from itertools import combinations #n!/(r!*(n-r)!)\n",
    "com=list(combinations(liste,2))\n",
    "com"
   ]
  },
  {
   "cell_type": "markdown",
   "metadata": {},
   "source": [
    "### Kartezyen çarpım"
   ]
  },
  {
   "cell_type": "code",
   "execution_count": 150,
   "metadata": {},
   "outputs": [
    {
     "data": {
      "text/plain": [
       "[('A', 2000),\n",
       " ('A', 2001),\n",
       " ('A', 2002),\n",
       " ('A', 2003),\n",
       " ('B', 2000),\n",
       " ('B', 2001),\n",
       " ('B', 2002),\n",
       " ('B', 2003),\n",
       " ('C', 2000),\n",
       " ('C', 2001),\n",
       " ('C', 2002),\n",
       " ('C', 2003)]"
      ]
     },
     "execution_count": 150,
     "metadata": {},
     "output_type": "execute_result"
    }
   ],
   "source": [
    "from itertools import product\n",
    "list1=[\"A\",\"B\",\"C\"]\n",
    "list2=[2000,2001,2002,2003]\n",
    "krt=list(product(list1,list2))\n",
    "krt"
   ]
  },
  {
   "cell_type": "markdown",
   "metadata": {},
   "source": [
    "## Functools"
   ]
  },
  {
   "cell_type": "code",
   "execution_count": null,
   "metadata": {},
   "outputs": [],
   "source": []
  },
  {
   "cell_type": "markdown",
   "metadata": {},
   "source": [
    "## statistics ve statsmodel"
   ]
  },
  {
   "cell_type": "code",
   "execution_count": 151,
   "metadata": {},
   "outputs": [
    {
     "name": "stdout",
     "output_type": "stream",
     "text": [
      "9.5\n"
     ]
    }
   ],
   "source": [
    "import statistics as st\n",
    "dizi=range(20)\n",
    "print(st.mean(dizi))"
   ]
  },
  {
   "cell_type": "markdown",
   "metadata": {},
   "source": [
    "## Regex (Düzenli ifadeler)"
   ]
  },
  {
   "cell_type": "markdown",
   "metadata": {},
   "source": [
    "Pythona özgü değildir, hemen her dilde implementasyonu vardır. Başlı başına büyük bi konudur. Burada özet vermeye çalışıcam. İleride Text mining, NLP v.s çalışacaksanız iyi öğrenmenizde fayda var"
   ]
  },
  {
   "cell_type": "markdown",
   "metadata": {},
   "source": [
    "### Isınma "
   ]
  },
  {
   "cell_type": "code",
   "execution_count": 152,
   "metadata": {},
   "outputs": [],
   "source": [
    "import re"
   ]
  },
  {
   "cell_type": "code",
   "execution_count": 153,
   "metadata": {},
   "outputs": [],
   "source": [
    "a=\"benim adım volkan\""
   ]
  },
  {
   "cell_type": "code",
   "execution_count": 154,
   "metadata": {},
   "outputs": [],
   "source": [
    "#match: başında var mı diye kontrol eder\n",
    "re.match(\"volkan\",a) #eşleşme yok, sonuç dönmez"
   ]
  },
  {
   "cell_type": "code",
   "execution_count": 155,
   "metadata": {},
   "outputs": [
    {
     "data": {
      "text/plain": [
       "<re.Match object; span=(0, 3), match='ben'>"
      ]
     },
     "execution_count": 155,
     "metadata": {},
     "output_type": "execute_result"
    }
   ],
   "source": [
    "re.match(\"ben\",a) #var"
   ]
  },
  {
   "cell_type": "code",
   "execution_count": 156,
   "metadata": {},
   "outputs": [
    {
     "data": {
      "text/plain": [
       "True"
      ]
     },
     "execution_count": 156,
     "metadata": {},
     "output_type": "execute_result"
    }
   ],
   "source": [
    "a.startswith(\"ben\") #bu daha kullanışlıdır."
   ]
  },
  {
   "cell_type": "code",
   "execution_count": 157,
   "metadata": {},
   "outputs": [
    {
     "data": {
      "text/plain": [
       "<re.Match object; span=(11, 17), match='volkan'>"
      ]
     },
     "execution_count": 157,
     "metadata": {},
     "output_type": "execute_result"
    }
   ],
   "source": [
    "#search, herhangi bi yerde var mı, matche göre daha yavaş çalışır\n",
    "re.search(\"volkan\",a)"
   ]
  },
  {
   "cell_type": "code",
   "execution_count": 158,
   "metadata": {},
   "outputs": [
    {
     "data": {
      "text/plain": [
       "True"
      ]
     },
     "execution_count": 158,
     "metadata": {},
     "output_type": "execute_result"
    }
   ],
   "source": [
    "\"volkan\" in a #bu daha pratik"
   ]
  },
  {
   "cell_type": "code",
   "execution_count": 159,
   "metadata": {},
   "outputs": [
    {
     "name": "stdout",
     "output_type": "stream",
     "text": [
      "['sen', 'sen', 'sen', 'sen']\n",
      "4\n",
      "4\n"
     ]
    }
   ],
   "source": [
    "b=\"sen seni bil sen seni\"\n",
    "bul=re.findall(\"sen\", b)\n",
    "\n",
    "print(bul)\n",
    "print(len(bul))\n",
    "print(b.count(\"sen\"))"
   ]
  },
  {
   "cell_type": "markdown",
   "metadata": {},
   "source": [
    "### Metakarakter kullanımı"
   ]
  },
  {
   "cell_type": "code",
   "execution_count": 160,
   "metadata": {},
   "outputs": [],
   "source": [
    "isimler=[\"123a\",\"ali\",\"veli\",\"hakan\",\"volkan\",\"osman\",\"kandemir\"]"
   ]
  },
  {
   "cell_type": "code",
   "execution_count": 161,
   "metadata": {},
   "outputs": [
    {
     "data": {
      "text/plain": [
       "['hakan', 'volkan']"
      ]
     },
     "execution_count": 161,
     "metadata": {},
     "output_type": "execute_result"
    }
   ],
   "source": [
    "#kan ile bitenler, regex olmadan\n",
    "kan=[x for x in isimler if x[-3:]==\"kan\"]\n",
    "kan"
   ]
  },
  {
   "cell_type": "markdown",
   "metadata": {},
   "source": [
    "#### [ ] Köşeli parantez"
   ]
  },
  {
   "cell_type": "markdown",
   "metadata": {},
   "source": [
    "[] işareti, \"içine giren karakterleri içeren\" filtresi uygular. Burada önemli olan [] içinde gördügümüz tüm karaktereleri tek tek uyguluyor olmasıdır. Ör: [abc]: a veya b veya c içeren demek. [a-z]: A ile Z arasındakiler demek"
   ]
  },
  {
   "cell_type": "code",
   "execution_count": 162,
   "metadata": {},
   "outputs": [
    {
     "name": "stdout",
     "output_type": "stream",
     "text": [
      "hakan\n",
      "volkan\n"
     ]
    }
   ],
   "source": [
    "#regex ile\n",
    "for i in isimler:\n",
    "    if re.search(\"[a-z]kan\",i):\n",
    "        print(i)\n",
    "#başta veya ortada bir yerde a-z arasında bir karekter olsun, sonu kan olsun demiş olduk. yani \"kan\"ın önünde bir harf \n",
    "#olsun da nerede olursa olsun, bşta mı ortada mı önemli değil, önemli olan kan'ın öncesinde olmaslı"
   ]
  },
  {
   "cell_type": "code",
   "execution_count": 163,
   "metadata": {},
   "outputs": [
    {
     "data": {
      "text/plain": [
       "['veli', 'osman', 'kandemir']"
      ]
     },
     "execution_count": 163,
     "metadata": {},
     "output_type": "execute_result"
    }
   ],
   "source": [
    "#içinde e veya m geçenler, bu sefer list comprehension ile yapalım\n",
    "[i for i in isimler if re.search(\"[em]\",i)]"
   ]
  },
  {
   "cell_type": "code",
   "execution_count": 164,
   "metadata": {},
   "outputs": [
    {
     "data": {
      "text/plain": [
       "['123a', 'b123', '1234']"
      ]
     },
     "execution_count": 164,
     "metadata": {},
     "output_type": "execute_result"
    }
   ],
   "source": [
    "#sayı içerenler\n",
    "liste = [\"123a\",\"b123\",\"1234\",\"volkan\"]\n",
    "sayıiçerenler=[x for x in liste if re.search(\"[0-9]\",x)]\n",
    "sayıiçerenler"
   ]
  },
  {
   "cell_type": "code",
   "execution_count": 165,
   "metadata": {},
   "outputs": [
    {
     "data": {
      "text/plain": [
       "['123a', '1234']"
      ]
     },
     "execution_count": 165,
     "metadata": {},
     "output_type": "execute_result"
    }
   ],
   "source": [
    "#rakam ile başlayanları bulma\n",
    "rakamlabaşlayanlar=[x for x in liste if re.match(\"[0-9]\",x)] #yukardakinden farklı olarak match kullandık, daha hızlı çalışır\n",
    "rakamlabaşlayanlar"
   ]
  },
  {
   "cell_type": "code",
   "execution_count": 166,
   "metadata": {},
   "outputs": [
    {
     "name": "stdout",
     "output_type": "stream",
     "text": [
      "['ABC', 'Abc', 'abc', '12a', 'A12', 'Ab1', 'Ab23']\n",
      "['Abc', 'Ab1', 'Ab23']\n",
      "['ABC', 'Abc', 'abc', '12a', 'A12', '123', 'Ab1', 'Ab23']\n",
      "['Ab1', 'Ab23']\n"
     ]
    }
   ],
   "source": [
    "liste=[\"ABC\",\"Abc\",\"abc\",\"12a\",\"A12\",\"123\",\"Ab1\",\"Ab23\"]\n",
    "print([x for x in liste if re.search(\"[A-Za-z]\",x)]) #büyük veya küçük harf içerenler\n",
    "print([x for x in liste if re.search(\"[A-Z][a-z]\",x)]) #ilki büyük ikincisi küçük harf içerenler\n",
    "print([x for x in liste if re.search(\"[A-Za-z0-9]\",x)]) #büyük veya küçük harf veya sayı içerenler\n",
    "print([x for x in liste if re.search(\"[A-Z][a-z][0-9]\",x)]) #ilki büyük ikincisi küçük üçüncüsü sayı olanlar"
   ]
  },
  {
   "cell_type": "markdown",
   "metadata": {},
   "source": [
    "#### . Nokta"
   ]
  },
  {
   "cell_type": "markdown",
   "metadata": {},
   "source": [
    "\".\" tek karekteri için joker anlamındadır"
   ]
  },
  {
   "cell_type": "code",
   "execution_count": 167,
   "metadata": {},
   "outputs": [],
   "source": [
    "isimler=[\"arhan\",\"volkan\",\"osman\",\"hakan\",\"demirhan\",\"1ozan\"]"
   ]
  },
  {
   "cell_type": "code",
   "execution_count": 168,
   "metadata": {},
   "outputs": [
    {
     "data": {
      "text/plain": [
       "['arhan', 'osman', 'hakan']"
      ]
     },
     "execution_count": 168,
     "metadata": {},
     "output_type": "execute_result"
    }
   ],
   "source": [
    "#5 karekterli olup an ile biten gerçek isimler(gerçek isim: sayı ile başlayan birşey isim olamaz)\n",
    "liste=[x for x in isimler if re.match(\"[a-z]..an\",x)]\n",
    "liste"
   ]
  },
  {
   "cell_type": "markdown",
   "metadata": {},
   "source": [
    "#### * Yıldız"
   ]
  },
  {
   "cell_type": "markdown",
   "metadata": {},
   "source": [
    "Kendinden önce gelen 1 ifadeyi en az 0(evet 0, 1 değil) sayıda eşleştirir. Özellikle bir ifadenin yazılamayabildiği durumları da kapsamak için kullanılır. Aşağıdkai örnek gayet açıklayıcıdır."
   ]
  },
  {
   "cell_type": "code",
   "execution_count": 169,
   "metadata": {},
   "outputs": [
    {
     "data": {
      "text/plain": [
       "['kıral', 'kral', 'kıro', 'kro', 'kritik', 'kıritik', 'kııral']"
      ]
     },
     "execution_count": 169,
     "metadata": {},
     "output_type": "execute_result"
    }
   ],
   "source": [
    "liste = [\"kıral\", \"kral\", \"kıro\", \"kro\", \"kırmızı\",\"kırçıllı\",\"kritik\",\"kıritik\",\"kııral\"]\n",
    "[x for x in liste if re.match(\"kı*r[aeıioöuü]\",x)]"
   ]
  },
  {
   "cell_type": "markdown",
   "metadata": {},
   "source": [
    "Bu örnekte, yabancı dilden geçen kelimelerden \"kr\" ile başlayanları inceledik. Bunlar bazen aralarına ı harfi girilerek yazılabiliyor. Bu kelimelerde genelde r'den sonra sesli bi harf gelir. Biz de bunları yakalamaya çalıştık."
   ]
  },
  {
   "cell_type": "markdown",
   "metadata": {},
   "source": [
    "#### + Artı"
   ]
  },
  {
   "cell_type": "markdown",
   "metadata": {},
   "source": [
    "Yıldıza benzer, ancak bu sefer en az 1 sayıda eşleşme yapar."
   ]
  },
  {
   "cell_type": "code",
   "execution_count": 170,
   "metadata": {},
   "outputs": [
    {
     "data": {
      "text/plain": [
       "['kıral', 'kıro', 'kıritik', 'kııral']"
      ]
     },
     "execution_count": 170,
     "metadata": {},
     "output_type": "execute_result"
    }
   ],
   "source": [
    "liste = [\"kıral\", \"kral\", \"kıro\", \"kro\", \"kırmızı\",\"kırçıllı\",\"kritik\",\"kıritik\",\"kııral\"]\n",
    "[x for x in liste if re.match(\"kı+r[aeıioöuü]\",x)]"
   ]
  },
  {
   "cell_type": "markdown",
   "metadata": {},
   "source": [
    "#### ? Soru işareti"
   ]
  },
  {
   "cell_type": "markdown",
   "metadata": {},
   "source": [
    "Kendinden önce gelen karakterin 0 veya 1 kez geçtiği durumları eşleştirir."
   ]
  },
  {
   "cell_type": "code",
   "execution_count": 171,
   "metadata": {},
   "outputs": [
    {
     "data": {
      "text/plain": [
       "['kıral', 'kral', 'kıro', 'kro', 'kritik', 'kıritik']"
      ]
     },
     "execution_count": 171,
     "metadata": {},
     "output_type": "execute_result"
    }
   ],
   "source": [
    "liste = [\"kıral\", \"kral\", \"kıro\", \"kro\", \"kırmızı\",\"kırçıllı\",\"kritik\",\"kıritik\",\"kııral\"]\n",
    "[x for x in liste if re.match(\"kı?r[aeıioöuü]\",x)]"
   ]
  },
  {
   "cell_type": "markdown",
   "metadata": {},
   "source": [
    "#### {} süslü parantez"
   ]
  },
  {
   "cell_type": "markdown",
   "metadata": {},
   "source": [
    "bir karekterin n adet geçtiği durumlar eşleştirilir."
   ]
  },
  {
   "cell_type": "code",
   "execution_count": 172,
   "metadata": {},
   "outputs": [
    {
     "data": {
      "text/plain": [
       "['kııral']"
      ]
     },
     "execution_count": 172,
     "metadata": {},
     "output_type": "execute_result"
    }
   ],
   "source": [
    "liste = [\"kıral\", \"kral\", \"kıro\", \"kro\", \"kırmızı\",\"kırçıllı\",\"kritik\",\"kıritik\",\"kııral\"]\n",
    "[x for x in liste if re.match(\"kı{2}r[aeıioöuü]\",x)]"
   ]
  },
  {
   "cell_type": "code",
   "execution_count": 173,
   "metadata": {},
   "outputs": [
    {
     "data": {
      "text/plain": [
       "['kııral']"
      ]
     },
     "execution_count": 173,
     "metadata": {},
     "output_type": "execute_result"
    }
   ],
   "source": [
    "#böyle de yapılabilirdi ama n sayısı yükseldikçe {} ile yapmak daha mantıklı\n",
    "[x for x in liste if re.match(\"kıır[aeıioöuü]\",x)]"
   ]
  },
  {
   "cell_type": "code",
   "execution_count": 174,
   "metadata": {},
   "outputs": [
    {
     "data": {
      "text/plain": [
       "['gool', 'gooool']"
      ]
     },
     "execution_count": 174,
     "metadata": {},
     "output_type": "execute_result"
    }
   ],
   "source": [
    "#{min,max}\n",
    "liste=[\"gol\",\"gool\",\"gooool\",\"gööl\",\"gooooooool\"]\n",
    "[x for x in liste if re.match(\"[a-z]o{2,5}l\",x)] #en az 2 en çok 5 oo içersin"
   ]
  },
  {
   "cell_type": "markdown",
   "metadata": {},
   "source": [
    "#### ^ Şapka"
   ]
  },
  {
   "cell_type": "code",
   "execution_count": null,
   "metadata": {},
   "outputs": [],
   "source": []
  },
  {
   "cell_type": "markdown",
   "metadata": {},
   "source": [
    "#### $ Dolar"
   ]
  },
  {
   "cell_type": "code",
   "execution_count": null,
   "metadata": {},
   "outputs": [],
   "source": []
  },
  {
   "cell_type": "markdown",
   "metadata": {},
   "source": [
    "#### \\ ters slash"
   ]
  },
  {
   "cell_type": "code",
   "execution_count": null,
   "metadata": {},
   "outputs": [],
   "source": []
  },
  {
   "cell_type": "markdown",
   "metadata": {},
   "source": [
    "#### | Pipe"
   ]
  },
  {
   "cell_type": "code",
   "execution_count": null,
   "metadata": {},
   "outputs": [],
   "source": []
  },
  {
   "cell_type": "markdown",
   "metadata": {},
   "source": [
    "#### ( ) (Parantez)"
   ]
  },
  {
   "cell_type": "code",
   "execution_count": null,
   "metadata": {},
   "outputs": [],
   "source": []
  },
  {
   "cell_type": "markdown",
   "metadata": {},
   "source": [
    "## string"
   ]
  },
  {
   "cell_type": "code",
   "execution_count": null,
   "metadata": {},
   "outputs": [],
   "source": []
  },
  {
   "cell_type": "markdown",
   "metadata": {},
   "source": [
    "# I/O işlemleri"
   ]
  },
  {
   "cell_type": "markdown",
   "metadata": {},
   "source": [
    "Şuana kadar kendim de çok fazla kullanmadığım için bu kısım da eksik, ilk fırsatta tamamlayacağım."
   ]
  },
  {
   "cell_type": "markdown",
   "metadata": {},
   "source": [
    "dosya = open(dosya_adı, kip)"
   ]
  },
  {
   "cell_type": "code",
   "execution_count": 175,
   "metadata": {},
   "outputs": [],
   "source": [
    "os.chdir(r\"C:\\Users\\volka\\Documents\\GitHub\\PythonRocks\")"
   ]
  },
  {
   "cell_type": "code",
   "execution_count": 182,
   "metadata": {},
   "outputs": [],
   "source": [
    "import io\n",
    "dp = io.open(\"utility.py\", \"r\")"
   ]
  },
  {
   "cell_type": "code",
   "execution_count": 184,
   "metadata": {},
   "outputs": [
    {
     "name": "stdout",
     "output_type": "stream",
     "text": [
      "f\n",
      "----\n",
      "rom __future__ import print_function\n",
      "import inspect\n",
      "import numpy as np\n",
      "\n",
      "try:\n",
      "    import __builtin__\n",
      "except ImportError:\n",
      "    import builtins as __builtin__\n",
      "    \n",
      "def lineno():\n",
      "    return inspect.currentframe().f_back.f_back.f_lineno\n",
      "\n",
      "def printy(*args, **kwargs):\n",
      "    print(lineno(),\"----------\")\n",
      "    print(*args, **kwargs)\n",
      "    print(\" \",end=\"\\n\")\n",
      "\n",
      "def test():\n",
      "    pass\n",
      "    \n",
      "\n",
      "----\n",
      "fr\n"
     ]
    }
   ],
   "source": [
    "#oku\n",
    "#import io #normalde bu satıra gerek yok ancak, yukarıda os'yi import ettiğimiz için onun open metodunu kullanmaya çalışıyor\n",
    "dosya = io.open(\"utility.py\", \"r\") #yine bunda da başta io yazmazdık normalde ama os'nin open'ından ayırmak için ekledik\n",
    "print(dosya.readline(1))\n",
    "print(\"----\")\n",
    "print(dosya.read()) #ilk satırı okuduğumuz için ikinci satırdan okumaya devam ediyor\n",
    "print(\"----\")\n",
    "dosya.seek(0) #başa konumlanalım tekrar\n",
    "print(dosya.readline(2)) #baştan ilk 2 karakter"
   ]
  },
  {
   "cell_type": "code",
   "execution_count": 185,
   "metadata": {},
   "outputs": [
    {
     "name": "stdout",
     "output_type": "stream",
     "text": [
      "1-from __future__ import print_function\n",
      "2-import inspect\n",
      "3-import numpy as np\n",
      "4-\n",
      "5-try:\n",
      "6-    import __builtin__\n",
      "7-except ImportError:\n",
      "8-    import builtins as __builtin__\n",
      "9-    \n",
      "10-def lineno():\n",
      "11-    return inspect.currentframe().f_back.f_back.f_lineno\n",
      "12-\n",
      "13-def printy(*args, **kwargs):\n",
      "14-    print(lineno(),\"----------\")\n",
      "15-    print(*args, **kwargs)\n",
      "16-    print(\" \",end=\"\\n\")\n",
      "17-\n",
      "18-def test():\n",
      "19-    pass\n",
      "20-    \n"
     ]
    }
   ],
   "source": [
    "#her satırın başına satır no ekleyelim\n",
    "dosya.seek(0)\n",
    "i=1\n",
    "for satır in dosya.readlines():\n",
    "    print(\"{}-{}\".format(i,satır),end=\"\")\n",
    "    i+=1"
   ]
  },
  {
   "cell_type": "code",
   "execution_count": 186,
   "metadata": {},
   "outputs": [],
   "source": [
    "#yarat\n",
    "yenidosya=io.open(\"test.txt\",\"w\")\n",
    "yenidosya.close()"
   ]
  },
  {
   "cell_type": "code",
   "execution_count": 187,
   "metadata": {},
   "outputs": [],
   "source": [
    "#varolana yaz, sonuna ekleme\n",
    "yenidosya=io.open(\"test.txt\",\"a\")\n",
    "yenidosya.write(\"\\nselam\")\n",
    "yenidosya.flush() #hemen yazsın. bunu kullanmazsak yaptığımız değişiklikleri hemen görmeyiz"
   ]
  },
  {
   "cell_type": "markdown",
   "metadata": {},
   "source": [
    "<b>Güvenli dosya işlemleri</b>"
   ]
  },
  {
   "cell_type": "markdown",
   "metadata": {},
   "source": [
    "Dosyalarla işiniz bitince kapatmak önemlidir. Kapandığından emin olmak için with bloğu içinde yazmak gerekir"
   ]
  },
  {
   "cell_type": "code",
   "execution_count": 188,
   "metadata": {
    "scrolled": true
   },
   "outputs": [
    {
     "name": "stdout",
     "output_type": "stream",
     "text": [
      "\n",
      "selam\n"
     ]
    }
   ],
   "source": [
    "with io.open(\"test.txt\", \"r\") as dosya:\n",
    "    print(dosya.read())"
   ]
  },
  {
   "cell_type": "code",
   "execution_count": 189,
   "metadata": {},
   "outputs": [],
   "source": [
    "#hem okuma hem yazma moduyla açıp başa bilgi ekleme\n",
    "with io.open(\"test.txt\", \"r+\") as f:\n",
    "    content = f.read()\n",
    "    f.seek(0) #Dosyayı başa sarıyoruz\n",
    "    f.write(\"volkan\\n\"+content)"
   ]
  },
  {
   "cell_type": "markdown",
   "metadata": {},
   "source": [
    "# Veritabanı işlemleri"
   ]
  },
  {
   "cell_type": "code",
   "execution_count": 190,
   "metadata": {},
   "outputs": [],
   "source": [
    "import sqlite3 as sql #python içinde otomatikman gelir"
   ]
  },
  {
   "cell_type": "markdown",
   "metadata": {},
   "source": [
    "<a href='https://www.sqlitetutorial.net/sqlite-sample-database/'>sqlite</a> sayfasından chinook databaseini indirin"
   ]
  },
  {
   "cell_type": "code",
   "execution_count": 191,
   "metadata": {},
   "outputs": [],
   "source": [
    "vt = sql.connect(r'C:\\Users\\volka\\Downloads\\chinook\\chinook.db')"
   ]
  },
  {
   "cell_type": "code",
   "execution_count": 192,
   "metadata": {},
   "outputs": [],
   "source": [
    "cur=vt.cursor()"
   ]
  },
  {
   "cell_type": "code",
   "execution_count": 193,
   "metadata": {
    "scrolled": true
   },
   "outputs": [
    {
     "data": {
      "text/plain": [
       "<sqlite3.Cursor at 0x18a62c409d0>"
      ]
     },
     "execution_count": 193,
     "metadata": {},
     "output_type": "execute_result"
    }
   ],
   "source": [
    "cur.execute(\"select * from albums\")"
   ]
  },
  {
   "cell_type": "code",
   "execution_count": 194,
   "metadata": {},
   "outputs": [
    {
     "data": {
      "text/plain": [
       "[(1, 'For Those About To Rock We Salute You', 1),\n",
       " (2, 'Balls to the Wall', 2),\n",
       " (3, 'Restless and Wild', 2)]"
      ]
     },
     "execution_count": 194,
     "metadata": {},
     "output_type": "execute_result"
    }
   ],
   "source": [
    "cur.fetchmany(3)"
   ]
  },
  {
   "cell_type": "code",
   "execution_count": 195,
   "metadata": {},
   "outputs": [],
   "source": [
    "veriler = cur.fetchall()"
   ]
  },
  {
   "cell_type": "code",
   "execution_count": 196,
   "metadata": {
    "scrolled": true
   },
   "outputs": [
    {
     "data": {
      "text/plain": [
       "[(4, 'Let There Be Rock', 1),\n",
       " (5, 'Big Ones', 3),\n",
       " (6, 'Jagged Little Pill', 4),\n",
       " (7, 'Facelift', 5),\n",
       " (8, 'Warner 25 Anos', 6)]"
      ]
     },
     "execution_count": 196,
     "metadata": {},
     "output_type": "execute_result"
    }
   ],
   "source": [
    "veriler[:5] #ilk 3ünü çektiğimiz için 4ten devam ediyor"
   ]
  },
  {
   "cell_type": "code",
   "execution_count": 197,
   "metadata": {},
   "outputs": [],
   "source": [
    "vt.close()"
   ]
  },
  {
   "cell_type": "markdown",
   "metadata": {},
   "source": [
    "<p>NOT:sqlite3 çok basit bir veritabanı olup, oracle veya sql server gibi güçülü veritabanlarını sorgulamak için sqlalchemy veya pyodbc gibi modülleri kullanacğaız ve buradan aldığmız datayı pandas ile işeleyebiliriz. Bunun için benim github repomdaki <a href='https://nbviewer.jupyter.org/urls/github.com/VolkiTheDreamer/PythonRocks'>Python Veri Analizi</a> notebookuna bakmanızı tavsiye ederim.</p>"
   ]
  },
  {
   "cell_type": "markdown",
   "metadata": {},
   "source": [
    "http://sqlitebrowser.org/. sitesi de incelenebilir"
   ]
  },
  {
   "cell_type": "markdown",
   "metadata": {},
   "source": [
    "# Classlar"
   ]
  },
  {
   "cell_type": "code",
   "execution_count": null,
   "metadata": {},
   "outputs": [],
   "source": []
  },
  {
   "cell_type": "markdown",
   "metadata": {},
   "source": [
    "Python nesne yönelimli(oo) bir dildir ve tüm oo dillerde olduğu gibi sınıflar yaratılabilir. Örnek bir sınıf yaratımı aşağıdaki gibi olup detaylar için googlelamanızı rica ederim."
   ]
  },
  {
   "cell_type": "code",
   "execution_count": 198,
   "metadata": {},
   "outputs": [
    {
     "name": "stdout",
     "output_type": "stream",
     "text": [
      "yeni araç hazır\n",
      "yeni araç hazır\n",
      "yeni araç hazır\n",
      "<__main__.Araba object at 0x0000018A63391860>\n",
      "çalışıyor\n",
      "durdu\n",
      "Mekanik\n",
      "Mekanik\n"
     ]
    }
   ],
   "source": [
    "class Araba:\n",
    "    aractipi=\"Mekanik\" #class seviyesinde, tüm Arabalar tarafından paylaşılan bir değer\n",
    "    def __init__(self,model,marka,km):\n",
    "        self.model=model\n",
    "        self.marka=marka\n",
    "        self.km=km\n",
    "        print(\"yeni araç hazır\")\n",
    "    def run(self):\n",
    "        print(\"çalışıyor\")\n",
    "    def stop(self):\n",
    "        print(\"durdu\")\n",
    "\n",
    "bmw0=Araba(2011,\"bmw\",0)\n",
    "bmw1=Araba(2014,\"bmw\",0)\n",
    "audi=Araba(2011,\"audi\",0)\n",
    "print(bmw0)\n",
    "bmw0.run()\n",
    "bmw0.stop()\n",
    "print(bmw0.aractipi)\n",
    "print(audi.aractipi)"
   ]
  },
  {
   "cell_type": "markdown",
   "metadata": {},
   "source": [
    "# Verimlilik ve Diğer"
   ]
  },
  {
   "cell_type": "markdown",
   "metadata": {},
   "source": [
    "## debugging"
   ]
  },
  {
   "cell_type": "code",
   "execution_count": 199,
   "metadata": {
    "scrolled": true
   },
   "outputs": [
    {
     "name": "stdout",
     "output_type": "stream",
     "text": [
      "4\n",
      "--Return--\n",
      "> <ipython-input-199-42ee3069980c>(3)<module>()->None\n",
      "-> pdb.set_trace() #c devam, n:next gibi seçenekler var\n",
      "(Pdb) c\n",
      "asda\n"
     ]
    }
   ],
   "source": [
    "import pdb\n",
    "print(4)\n",
    "pdb.set_trace() #c devam, n:next gibi seçenekler var\n",
    "print(\"asda\")"
   ]
  },
  {
   "cell_type": "markdown",
   "metadata": {},
   "source": [
    "## memory yönetimi"
   ]
  },
  {
   "cell_type": "code",
   "execution_count": 200,
   "metadata": {
    "scrolled": true
   },
   "outputs": [
    {
     "name": "stdout",
     "output_type": "stream",
     "text": [
      "72\n",
      "88\n",
      "76\n"
     ]
    }
   ],
   "source": [
    "import sys\n",
    "import array\n",
    "t=(1,2,3)\n",
    "l=[1,2,\"3\"]\n",
    "a=array.array(\"l\",[1,2,3])\n",
    "print(sys.getsizeof(t)) #immutabel olduğu için daha az\n",
    "print(sys.getsizeof(l)) #mutable olduğu için tupldan daha çok, içine farklı tipler alabileceğim için arraydan daha çok\n",
    "print(sys.getsizeof(a)) #eleman tipi belli olduğu için listten daha az"
   ]
  },
  {
   "cell_type": "markdown",
   "metadata": {},
   "source": [
    "## Kod saklama"
   ]
  },
  {
   "cell_type": "markdown",
   "metadata": {},
   "source": [
    "Özellikle Data Science çalışmalarınızda olmak üzere bazen detay bilgi verdiğiniz markdown açıklamaları bazen de python kodunuzu gizlemek ve dokümanınızın boyutunu küçültebilrsiniz. Markdownlar için, sadece ilgili yeri okumak isteyenler gizlenmiş kısmı açarak okuyabilir. Kodlar için ise, kodun kendisinden ziyade kodun sonucunu(özellikle görselleştirme kodunu) görmek isteyenlere sadece sonucunu gösterme imkanı bulmuş olursunuz."
   ]
  },
  {
   "cell_type": "markdown",
   "metadata": {},
   "source": [
    "### Markdownda detay bilgi gizleme"
   ]
  },
  {
   "cell_type": "markdown",
   "metadata": {},
   "source": [
    "<details><summary>Falanca konu(detay görmek için tıklayın)</summary>\n",
    "<p>Buraya çeşitli bilgiler yazılabilir.</p>\n",
    "<p>Burası bir markdown hücresi olup içeriği görmek için çift tıklayın. </p>\n",
    "<p>Gördüğünüz gibi burada details elementi içinde summary elementi kullanıyoruz</p>\n",
    "</details>"
   ]
  },
  {
   "cell_type": "markdown",
   "metadata": {},
   "source": [
    "### Kod gizleme"
   ]
  },
  {
   "cell_type": "markdown",
   "metadata": {},
   "source": [
    "Kodlarınızı gizlemek için ise aşağıdaki kodu kullanabilirsiniz.\n",
    "\n",
    "<strong>DİKKAT:</strong>Bu örnekte, butona bastığınızda sayfadaki tüm input hücreleri gizlenir. Bunlar tekrar göstermek için butona bir kez daha basın.\n",
    "\n",
    "Bu konuda daha farklı çözümleri <a href='https://stackoverflow.com/questions/27934885/how-to-hide-code-from-cells-in-ipython-notebook-visualized-with-nbviewer'>şu sayfada</a> bulabilirsiniz."
   ]
  },
  {
   "cell_type": "code",
   "execution_count": 201,
   "metadata": {
    "scrolled": true
   },
   "outputs": [
    {
     "data": {
      "image/png": "[encoded data removed]",
      "text/plain": [
       "<Figure size 432x288 with 4 Axes>"
      ]
     },
     "metadata": {
      "needs_background": "light"
     },
     "output_type": "display_data"
    },
    {
     "data": {
      "text/html": [
       "<script>\n",
       "code_show=true; \n",
       "function code_toggle() {\n",
       "if (code_show){\n",
       "$('div.input').hide();\n",
       "} else {\n",
       "$('div.input').show();\n",
       "}\n",
       "code_show = !code_show\n",
       "} \n",
       "$( document ).ready(code_toggle);\n",
       "</script>\n",
       "<form action=\"javascript:code_toggle()\"><input type=\"submit\" value=\"Kodu görmek/gizlemek için tıklayın.\"></form>"
      ],
      "text/plain": [
       "<IPython.core.display.HTML object>"
      ]
     },
     "execution_count": 201,
     "metadata": {},
     "output_type": "execute_result"
    }
   ],
   "source": [
    "#python code\n",
    "import matplotlib.pyplot as plt\n",
    "%matplotlib inline\n",
    "_, axes = plt.subplots(2, 2)\n",
    "\n",
    "axes[0, 0].plot(range(10), 'r') #row=0, col=0\n",
    "axes[1, 0].plot([x**2 for x in range(10)], 'b') #row=1, col=0\n",
    "axes[0, 1].plot([x**3 for x in range(10)], 'g') #row=0, col=1\n",
    "axes[1, 1].plot([x**4 for x in range(10)], 'k') #row=1, col=1\n",
    "plt.show()\n",
    "\n",
    "#kod gizlemek için burdan itibaren olan kısım kullanılır\n",
    "from IPython.display import HTML\n",
    "\n",
    "HTML('''<script>\n",
    "code_show=true; \n",
    "function code_toggle() {\n",
    "if (code_show){\n",
    "$('div.input').hide();\n",
    "} else {\n",
    "$('div.input').show();\n",
    "}\n",
    "code_show = !code_show\n",
    "} \n",
    "$( document ).ready(code_toggle);\n",
    "</script>\n",
    "<form action=\"javascript:code_toggle()\"><input type=\"submit\" value=\"Kodu görmek/gizlemek için tıklayın.\"></form>''')\n"
   ]
  },
  {
   "cell_type": "markdown",
   "metadata": {},
   "source": [
    "# Cheatsheet"
   ]
  },
  {
   "cell_type": "markdown",
   "metadata": {},
   "source": [
    "![cheatsheet.png](cheatsheet.png)"
   ]
  },
  {
   "cell_type": "markdown",
   "metadata": {},
   "source": [
    "# Kendinizi test edin "
   ]
  },
  {
   "cell_type": "markdown",
   "metadata": {},
   "source": [
    "Aşağıdaki adreslerden birinden challange sorularını görebilirsiniz.\n",
    "* https://mybinder.org/v2/gh/VolkiTheDreamer/PythonRocks/master (Interaktiftir, download etmenize gerek yok)\n",
    "* https://github.com/VolkiTheDreamer/PythonRocks\n"
   ]
  },
  {
   "cell_type": "code",
   "execution_count": null,
   "metadata": {},
   "outputs": [],
   "source": []
  }
 ],
 "metadata": {
  "kernelspec": {
   "display_name": "Python 3",
   "language": "python",
   "name": "python3"
  },
  "language_info": {
   "codemirror_mode": {
    "name": "ipython",
    "version": 3
   },
   "file_extension": ".py",
   "mimetype": "text/x-python",
   "name": "python",
   "nbconvert_exporter": "python",
   "pygments_lexer": "ipython3",
   "version": "3.7.3"
  },
  "toc": {
   "base_numbering": 1,
   "nav_menu": {},
   "number_sections": true,
   "sideBar": true,
   "skip_h1_title": false,
   "title_cell": "Table of Contents",
   "title_sidebar": "Contents",
   "toc_cell": false,
   "toc_position": {
    "height": "calc(100% - 180px)",
    "left": "10px",
    "top": "150px",
    "width": "214.403px"
   },
   "toc_section_display": true,
   "toc_window_display": true
  }
 },
 "nbformat": 4,
 "nbformat_minor": 2
}
